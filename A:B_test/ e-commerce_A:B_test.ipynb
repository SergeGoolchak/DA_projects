{
 "cells": [
  {
   "cell_type": "markdown",
   "metadata": {
    "toc": true
   },
   "source": [
    "<h1>Содержание<span class=\"tocSkip\"></span></h1>\n",
    "<div class=\"toc\"><ul class=\"toc-item\"><li><span><a href=\"#Знакомство-с-данными\" data-toc-modified-id=\"Знакомство-с-данными-1\"><span class=\"toc-item-num\">1&nbsp;&nbsp;</span>Знакомство с данными</a></span><ul class=\"toc-item\"><li><span><a href=\"#Импорт-библиотек-и-чтение-файлов\" data-toc-modified-id=\"Импорт-библиотек-и-чтение-файлов-1.1\"><span class=\"toc-item-num\">1.1&nbsp;&nbsp;</span>Импорт библиотек и чтение файлов</a></span></li><li><span><a href=\"#Изучение-датасетов-и-подготовка-данных\" data-toc-modified-id=\"Изучение-датасетов-и-подготовка-данных-1.2\"><span class=\"toc-item-num\">1.2&nbsp;&nbsp;</span>Изучение датасетов и подготовка данных</a></span></li><li><span><a href=\"#Вывод\" data-toc-modified-id=\"Вывод-1.3\"><span class=\"toc-item-num\">1.3&nbsp;&nbsp;</span>Вывод</a></span></li></ul></li><li><span><a href=\"#Приоритизация-гипотез\" data-toc-modified-id=\"Приоритизация-гипотез-2\"><span class=\"toc-item-num\">2&nbsp;&nbsp;</span>Приоритизация гипотез</a></span><ul class=\"toc-item\"><li><span><a href=\"#Фреймворк-ICE\" data-toc-modified-id=\"Фреймворк-ICE-2.1\"><span class=\"toc-item-num\">2.1&nbsp;&nbsp;</span>Фреймворк ICE</a></span></li><li><span><a href=\"#Фреймворк-RICE\" data-toc-modified-id=\"Фреймворк-RICE-2.2\"><span class=\"toc-item-num\">2.2&nbsp;&nbsp;</span>Фреймворк RICE</a></span></li><li><span><a href=\"#Вывод\" data-toc-modified-id=\"Вывод-2.3\"><span class=\"toc-item-num\">2.3&nbsp;&nbsp;</span>Вывод</a></span></li></ul></li><li><span><a href=\"#Анализ-A/B-теста\" data-toc-modified-id=\"Анализ-A/B-теста-3\"><span class=\"toc-item-num\">3&nbsp;&nbsp;</span>Анализ A/B-теста</a></span><ul class=\"toc-item\"><li><span><a href=\"#Подготовка-данных-для-визуализации-анализа\" data-toc-modified-id=\"Подготовка-данных-для-визуализации-анализа-3.1\"><span class=\"toc-item-num\">3.1&nbsp;&nbsp;</span>Подготовка данных для визуализации анализа</a></span></li><li><span><a href=\"#Визуализация-и-анализ-кумулятивных-метрик\" data-toc-modified-id=\"Визуализация-и-анализ-кумулятивных-метрик-3.2\"><span class=\"toc-item-num\">3.2&nbsp;&nbsp;</span>Визуализация и анализ кумулятивных метрик</a></span></li><li><span><a href=\"#Изучение-аномалий\" data-toc-modified-id=\"Изучение-аномалий-3.3\"><span class=\"toc-item-num\">3.3&nbsp;&nbsp;</span>Изучение аномалий</a></span></li><li><span><a href=\"#Расчет-статистической-значимости\" data-toc-modified-id=\"Расчет-статистической-значимости-3.4\"><span class=\"toc-item-num\">3.4&nbsp;&nbsp;</span>Расчет статистической значимости</a></span></li><li><span><a href=\"#Вывод\" data-toc-modified-id=\"Вывод-3.5\"><span class=\"toc-item-num\">3.5&nbsp;&nbsp;</span>Вывод</a></span></li></ul></li><li><span><a href=\"#Общий-вывод\" data-toc-modified-id=\"Общий-вывод-4\"><span class=\"toc-item-num\">4&nbsp;&nbsp;</span>Общий вывод</a></span></li></ul></div>"
   ]
  },
  {
   "cell_type": "markdown",
   "metadata": {},
   "source": [
    "## Знакомство с данными"
   ]
  },
  {
   "cell_type": "markdown",
   "metadata": {},
   "source": [
    "### Импорт библиотек и чтение файлов"
   ]
  },
  {
   "cell_type": "markdown",
   "metadata": {},
   "source": [
    "Импортируем библиотеки необходимые для нашей работы."
   ]
  },
  {
   "cell_type": "code",
   "execution_count": 1,
   "metadata": {},
   "outputs": [],
   "source": [
    "import pandas as pd\n",
    "import matplotlib.pyplot as plt\n",
    "import math as mth\n",
    "import numpy as np\n",
    "import scipy.stats as stats\n",
    "import datetime as dt"
   ]
  },
  {
   "cell_type": "markdown",
   "metadata": {},
   "source": [
    "Запишем локальный путь к файлу с данными в переменную path."
   ]
  },
  {
   "cell_type": "code",
   "execution_count": 2,
   "metadata": {},
   "outputs": [],
   "source": [
    "path = '/Users/segagoose/Documents/YandexPracticum/принятие решений в бизнесе/project'"
   ]
  },
  {
   "cell_type": "markdown",
   "metadata": {},
   "source": [
    "Прочитаем полученные датасеты и запишем их в переменные `hypothesis`, `orders` и `visitors`."
   ]
  },
  {
   "cell_type": "code",
   "execution_count": 3,
   "metadata": {},
   "outputs": [],
   "source": [
    "try:\n",
    "    hypothesis = pd.read_csv('/datasets/hypothesis.csv')\n",
    "    \n",
    "    orders = pd.read_csv('/datasets/orders.csv')\n",
    "    \n",
    "    visitors = pd.read_csv('/datasets/visitors.csv')\n",
    "    \n",
    "except:\n",
    "    hypothesis = pd.read_csv(path + '/hypothesis.csv')\n",
    "    \n",
    "    orders = pd.read_csv(path + '/orders.csv')\n",
    "    \n",
    "    visitors = pd.read_csv(path + '/visitors.csv')"
   ]
  },
  {
   "cell_type": "markdown",
   "metadata": {},
   "source": [
    "### Изучение датасетов и подготовка данных"
   ]
  },
  {
   "cell_type": "markdown",
   "metadata": {},
   "source": [
    "Выведем на экран первые 10 строк каждого датасета и ознакомимся с ними."
   ]
  },
  {
   "cell_type": "code",
   "execution_count": 4,
   "metadata": {},
   "outputs": [
    {
     "data": {
      "text/html": [
       "<div>\n",
       "<style scoped>\n",
       "    .dataframe tbody tr th:only-of-type {\n",
       "        vertical-align: middle;\n",
       "    }\n",
       "\n",
       "    .dataframe tbody tr th {\n",
       "        vertical-align: top;\n",
       "    }\n",
       "\n",
       "    .dataframe thead th {\n",
       "        text-align: right;\n",
       "    }\n",
       "</style>\n",
       "<table border=\"1\" class=\"dataframe\">\n",
       "  <thead>\n",
       "    <tr style=\"text-align: right;\">\n",
       "      <th></th>\n",
       "      <th>Hypothesis</th>\n",
       "      <th>Reach</th>\n",
       "      <th>Impact</th>\n",
       "      <th>Confidence</th>\n",
       "      <th>Efforts</th>\n",
       "    </tr>\n",
       "  </thead>\n",
       "  <tbody>\n",
       "    <tr>\n",
       "      <th>0</th>\n",
       "      <td>Добавить два новых канала привлечения трафика,...</td>\n",
       "      <td>3</td>\n",
       "      <td>10</td>\n",
       "      <td>8</td>\n",
       "      <td>6</td>\n",
       "    </tr>\n",
       "    <tr>\n",
       "      <th>1</th>\n",
       "      <td>Запустить собственную службу доставки, что сок...</td>\n",
       "      <td>2</td>\n",
       "      <td>5</td>\n",
       "      <td>4</td>\n",
       "      <td>10</td>\n",
       "    </tr>\n",
       "    <tr>\n",
       "      <th>2</th>\n",
       "      <td>Добавить блоки рекомендаций товаров на сайт ин...</td>\n",
       "      <td>8</td>\n",
       "      <td>3</td>\n",
       "      <td>7</td>\n",
       "      <td>3</td>\n",
       "    </tr>\n",
       "    <tr>\n",
       "      <th>3</th>\n",
       "      <td>Изменить структура категорий, что увеличит кон...</td>\n",
       "      <td>8</td>\n",
       "      <td>3</td>\n",
       "      <td>3</td>\n",
       "      <td>8</td>\n",
       "    </tr>\n",
       "    <tr>\n",
       "      <th>4</th>\n",
       "      <td>Изменить цвет фона главной страницы, чтобы уве...</td>\n",
       "      <td>3</td>\n",
       "      <td>1</td>\n",
       "      <td>1</td>\n",
       "      <td>1</td>\n",
       "    </tr>\n",
       "    <tr>\n",
       "      <th>5</th>\n",
       "      <td>Добавить страницу отзывов клиентов о магазине,...</td>\n",
       "      <td>3</td>\n",
       "      <td>2</td>\n",
       "      <td>2</td>\n",
       "      <td>3</td>\n",
       "    </tr>\n",
       "    <tr>\n",
       "      <th>6</th>\n",
       "      <td>Показать на главной странице баннеры с актуаль...</td>\n",
       "      <td>5</td>\n",
       "      <td>3</td>\n",
       "      <td>8</td>\n",
       "      <td>3</td>\n",
       "    </tr>\n",
       "    <tr>\n",
       "      <th>7</th>\n",
       "      <td>Добавить форму подписки на все основные страни...</td>\n",
       "      <td>10</td>\n",
       "      <td>7</td>\n",
       "      <td>8</td>\n",
       "      <td>5</td>\n",
       "    </tr>\n",
       "    <tr>\n",
       "      <th>8</th>\n",
       "      <td>Запустить акцию, дающую скидку на товар в день...</td>\n",
       "      <td>1</td>\n",
       "      <td>9</td>\n",
       "      <td>9</td>\n",
       "      <td>5</td>\n",
       "    </tr>\n",
       "  </tbody>\n",
       "</table>\n",
       "</div>"
      ],
      "text/plain": [
       "                                          Hypothesis  Reach  Impact  \\\n",
       "0  Добавить два новых канала привлечения трафика,...      3      10   \n",
       "1  Запустить собственную службу доставки, что сок...      2       5   \n",
       "2  Добавить блоки рекомендаций товаров на сайт ин...      8       3   \n",
       "3  Изменить структура категорий, что увеличит кон...      8       3   \n",
       "4  Изменить цвет фона главной страницы, чтобы уве...      3       1   \n",
       "5  Добавить страницу отзывов клиентов о магазине,...      3       2   \n",
       "6  Показать на главной странице баннеры с актуаль...      5       3   \n",
       "7  Добавить форму подписки на все основные страни...     10       7   \n",
       "8  Запустить акцию, дающую скидку на товар в день...      1       9   \n",
       "\n",
       "   Confidence  Efforts  \n",
       "0           8        6  \n",
       "1           4       10  \n",
       "2           7        3  \n",
       "3           3        8  \n",
       "4           1        1  \n",
       "5           2        3  \n",
       "6           8        3  \n",
       "7           8        5  \n",
       "8           9        5  "
      ]
     },
     "metadata": {},
     "output_type": "display_data"
    },
    {
     "data": {
      "text/html": [
       "<div>\n",
       "<style scoped>\n",
       "    .dataframe tbody tr th:only-of-type {\n",
       "        vertical-align: middle;\n",
       "    }\n",
       "\n",
       "    .dataframe tbody tr th {\n",
       "        vertical-align: top;\n",
       "    }\n",
       "\n",
       "    .dataframe thead th {\n",
       "        text-align: right;\n",
       "    }\n",
       "</style>\n",
       "<table border=\"1\" class=\"dataframe\">\n",
       "  <thead>\n",
       "    <tr style=\"text-align: right;\">\n",
       "      <th></th>\n",
       "      <th>transactionId</th>\n",
       "      <th>visitorId</th>\n",
       "      <th>date</th>\n",
       "      <th>revenue</th>\n",
       "      <th>group</th>\n",
       "    </tr>\n",
       "  </thead>\n",
       "  <tbody>\n",
       "    <tr>\n",
       "      <th>0</th>\n",
       "      <td>3667963787</td>\n",
       "      <td>3312258926</td>\n",
       "      <td>2019-08-15</td>\n",
       "      <td>1650</td>\n",
       "      <td>B</td>\n",
       "    </tr>\n",
       "    <tr>\n",
       "      <th>1</th>\n",
       "      <td>2804400009</td>\n",
       "      <td>3642806036</td>\n",
       "      <td>2019-08-15</td>\n",
       "      <td>730</td>\n",
       "      <td>B</td>\n",
       "    </tr>\n",
       "    <tr>\n",
       "      <th>2</th>\n",
       "      <td>2961555356</td>\n",
       "      <td>4069496402</td>\n",
       "      <td>2019-08-15</td>\n",
       "      <td>400</td>\n",
       "      <td>A</td>\n",
       "    </tr>\n",
       "    <tr>\n",
       "      <th>3</th>\n",
       "      <td>3797467345</td>\n",
       "      <td>1196621759</td>\n",
       "      <td>2019-08-15</td>\n",
       "      <td>9759</td>\n",
       "      <td>B</td>\n",
       "    </tr>\n",
       "    <tr>\n",
       "      <th>4</th>\n",
       "      <td>2282983706</td>\n",
       "      <td>2322279887</td>\n",
       "      <td>2019-08-15</td>\n",
       "      <td>2308</td>\n",
       "      <td>B</td>\n",
       "    </tr>\n",
       "    <tr>\n",
       "      <th>5</th>\n",
       "      <td>182168103</td>\n",
       "      <td>935554773</td>\n",
       "      <td>2019-08-15</td>\n",
       "      <td>2210</td>\n",
       "      <td>B</td>\n",
       "    </tr>\n",
       "    <tr>\n",
       "      <th>6</th>\n",
       "      <td>398296753</td>\n",
       "      <td>2900797465</td>\n",
       "      <td>2019-08-15</td>\n",
       "      <td>1860</td>\n",
       "      <td>B</td>\n",
       "    </tr>\n",
       "    <tr>\n",
       "      <th>7</th>\n",
       "      <td>2626614568</td>\n",
       "      <td>78758296</td>\n",
       "      <td>2019-08-15</td>\n",
       "      <td>1044</td>\n",
       "      <td>A</td>\n",
       "    </tr>\n",
       "    <tr>\n",
       "      <th>8</th>\n",
       "      <td>1576988021</td>\n",
       "      <td>295230930</td>\n",
       "      <td>2019-08-15</td>\n",
       "      <td>13710</td>\n",
       "      <td>A</td>\n",
       "    </tr>\n",
       "    <tr>\n",
       "      <th>9</th>\n",
       "      <td>1506739906</td>\n",
       "      <td>1882260405</td>\n",
       "      <td>2019-08-15</td>\n",
       "      <td>1855</td>\n",
       "      <td>B</td>\n",
       "    </tr>\n",
       "  </tbody>\n",
       "</table>\n",
       "</div>"
      ],
      "text/plain": [
       "   transactionId   visitorId        date  revenue group\n",
       "0     3667963787  3312258926  2019-08-15     1650     B\n",
       "1     2804400009  3642806036  2019-08-15      730     B\n",
       "2     2961555356  4069496402  2019-08-15      400     A\n",
       "3     3797467345  1196621759  2019-08-15     9759     B\n",
       "4     2282983706  2322279887  2019-08-15     2308     B\n",
       "5      182168103   935554773  2019-08-15     2210     B\n",
       "6      398296753  2900797465  2019-08-15     1860     B\n",
       "7     2626614568    78758296  2019-08-15     1044     A\n",
       "8     1576988021   295230930  2019-08-15    13710     A\n",
       "9     1506739906  1882260405  2019-08-15     1855     B"
      ]
     },
     "metadata": {},
     "output_type": "display_data"
    },
    {
     "data": {
      "text/html": [
       "<div>\n",
       "<style scoped>\n",
       "    .dataframe tbody tr th:only-of-type {\n",
       "        vertical-align: middle;\n",
       "    }\n",
       "\n",
       "    .dataframe tbody tr th {\n",
       "        vertical-align: top;\n",
       "    }\n",
       "\n",
       "    .dataframe thead th {\n",
       "        text-align: right;\n",
       "    }\n",
       "</style>\n",
       "<table border=\"1\" class=\"dataframe\">\n",
       "  <thead>\n",
       "    <tr style=\"text-align: right;\">\n",
       "      <th></th>\n",
       "      <th>date</th>\n",
       "      <th>group</th>\n",
       "      <th>visitors</th>\n",
       "    </tr>\n",
       "  </thead>\n",
       "  <tbody>\n",
       "    <tr>\n",
       "      <th>0</th>\n",
       "      <td>2019-08-01</td>\n",
       "      <td>A</td>\n",
       "      <td>719</td>\n",
       "    </tr>\n",
       "    <tr>\n",
       "      <th>1</th>\n",
       "      <td>2019-08-02</td>\n",
       "      <td>A</td>\n",
       "      <td>619</td>\n",
       "    </tr>\n",
       "    <tr>\n",
       "      <th>2</th>\n",
       "      <td>2019-08-03</td>\n",
       "      <td>A</td>\n",
       "      <td>507</td>\n",
       "    </tr>\n",
       "    <tr>\n",
       "      <th>3</th>\n",
       "      <td>2019-08-04</td>\n",
       "      <td>A</td>\n",
       "      <td>717</td>\n",
       "    </tr>\n",
       "    <tr>\n",
       "      <th>4</th>\n",
       "      <td>2019-08-05</td>\n",
       "      <td>A</td>\n",
       "      <td>756</td>\n",
       "    </tr>\n",
       "    <tr>\n",
       "      <th>5</th>\n",
       "      <td>2019-08-06</td>\n",
       "      <td>A</td>\n",
       "      <td>667</td>\n",
       "    </tr>\n",
       "    <tr>\n",
       "      <th>6</th>\n",
       "      <td>2019-08-07</td>\n",
       "      <td>A</td>\n",
       "      <td>644</td>\n",
       "    </tr>\n",
       "    <tr>\n",
       "      <th>7</th>\n",
       "      <td>2019-08-08</td>\n",
       "      <td>A</td>\n",
       "      <td>610</td>\n",
       "    </tr>\n",
       "    <tr>\n",
       "      <th>8</th>\n",
       "      <td>2019-08-09</td>\n",
       "      <td>A</td>\n",
       "      <td>617</td>\n",
       "    </tr>\n",
       "    <tr>\n",
       "      <th>9</th>\n",
       "      <td>2019-08-10</td>\n",
       "      <td>A</td>\n",
       "      <td>406</td>\n",
       "    </tr>\n",
       "  </tbody>\n",
       "</table>\n",
       "</div>"
      ],
      "text/plain": [
       "         date group  visitors\n",
       "0  2019-08-01     A       719\n",
       "1  2019-08-02     A       619\n",
       "2  2019-08-03     A       507\n",
       "3  2019-08-04     A       717\n",
       "4  2019-08-05     A       756\n",
       "5  2019-08-06     A       667\n",
       "6  2019-08-07     A       644\n",
       "7  2019-08-08     A       610\n",
       "8  2019-08-09     A       617\n",
       "9  2019-08-10     A       406"
      ]
     },
     "metadata": {},
     "output_type": "display_data"
    }
   ],
   "source": [
    "for table in [hypothesis, orders, visitors]:\n",
    "    display(table.head(10))"
   ]
  },
  {
   "cell_type": "markdown",
   "metadata": {},
   "source": [
    "Прочитаем гипотезы:"
   ]
  },
  {
   "cell_type": "code",
   "execution_count": 5,
   "metadata": {},
   "outputs": [
    {
     "name": "stdout",
     "output_type": "stream",
     "text": [
      "Добавить два новых канала привлечения трафика, что позволит привлекать на 30% больше пользователей\n",
      "Запустить собственную службу доставки, что сократит срок доставки заказов\n",
      "Добавить блоки рекомендаций товаров на сайт интернет магазина, чтобы повысить конверсию и средний чек заказа\n",
      "Изменить структура категорий, что увеличит конверсию, т.к. пользователи быстрее найдут нужный товар\n",
      "Изменить цвет фона главной страницы, чтобы увеличить вовлеченность пользователей\n",
      "Добавить страницу отзывов клиентов о магазине, что позволит увеличить количество заказов\n",
      "Показать на главной странице баннеры с актуальными акциями и распродажами, чтобы увеличить конверсию\n",
      "Добавить форму подписки на все основные страницы, чтобы собрать базу клиентов для email-рассылок\n",
      "Запустить акцию, дающую скидку на товар в день рождения\n"
     ]
    }
   ],
   "source": [
    "for string in hypothesis['Hypothesis']:\n",
    "    print(string)"
   ]
  },
  {
   "cell_type": "markdown",
   "metadata": {},
   "source": [
    "Приведем названия столбцов к единому стандарту."
   ]
  },
  {
   "cell_type": "code",
   "execution_count": 6,
   "metadata": {},
   "outputs": [],
   "source": [
    "hypothesis.columns = hypothesis.columns.str.lower()\n",
    "\n",
    "orders.columns = ['transaction_id', 'visitor_id', 'date', 'revenue', 'group']"
   ]
  },
  {
   "cell_type": "markdown",
   "metadata": {},
   "source": [
    "Изучим таблицы на наличие пропусков и какие типы данных заданы в столбцах."
   ]
  },
  {
   "cell_type": "code",
   "execution_count": 7,
   "metadata": {},
   "outputs": [
    {
     "name": "stdout",
     "output_type": "stream",
     "text": [
      "<class 'pandas.core.frame.DataFrame'>\n",
      "RangeIndex: 9 entries, 0 to 8\n",
      "Data columns (total 5 columns):\n",
      " #   Column      Non-Null Count  Dtype \n",
      "---  ------      --------------  ----- \n",
      " 0   hypothesis  9 non-null      object\n",
      " 1   reach       9 non-null      int64 \n",
      " 2   impact      9 non-null      int64 \n",
      " 3   confidence  9 non-null      int64 \n",
      " 4   efforts     9 non-null      int64 \n",
      "dtypes: int64(4), object(1)\n",
      "memory usage: 488.0+ bytes\n",
      "\n",
      "<class 'pandas.core.frame.DataFrame'>\n",
      "RangeIndex: 1197 entries, 0 to 1196\n",
      "Data columns (total 5 columns):\n",
      " #   Column          Non-Null Count  Dtype \n",
      "---  ------          --------------  ----- \n",
      " 0   transaction_id  1197 non-null   int64 \n",
      " 1   visitor_id      1197 non-null   int64 \n",
      " 2   date            1197 non-null   object\n",
      " 3   revenue         1197 non-null   int64 \n",
      " 4   group           1197 non-null   object\n",
      "dtypes: int64(3), object(2)\n",
      "memory usage: 46.9+ KB\n",
      "\n",
      "<class 'pandas.core.frame.DataFrame'>\n",
      "RangeIndex: 62 entries, 0 to 61\n",
      "Data columns (total 3 columns):\n",
      " #   Column    Non-Null Count  Dtype \n",
      "---  ------    --------------  ----- \n",
      " 0   date      62 non-null     object\n",
      " 1   group     62 non-null     object\n",
      " 2   visitors  62 non-null     int64 \n",
      "dtypes: int64(1), object(2)\n",
      "memory usage: 1.6+ KB\n",
      "\n"
     ]
    }
   ],
   "source": [
    "for table in [hypothesis, orders, visitors]:\n",
    "    table.info()\n",
    "    print()"
   ]
  },
  {
   "cell_type": "markdown",
   "metadata": {},
   "source": [
    "Пропущенные значения отсутствуют, а вот в столюцах `date` необходимо преобразовать тип данных в date."
   ]
  },
  {
   "cell_type": "code",
   "execution_count": 8,
   "metadata": {},
   "outputs": [],
   "source": [
    "for table in [orders, visitors]:\n",
    "    table['date'] = table['date'].map(lambda x: dt.datetime.strptime(x, '%Y-%m-%d'))"
   ]
  },
  {
   "cell_type": "markdown",
   "metadata": {},
   "source": [
    "Проверим данные на наличие дубликатов."
   ]
  },
  {
   "cell_type": "code",
   "execution_count": 9,
   "metadata": {},
   "outputs": [
    {
     "data": {
      "text/plain": [
       "B    640\n",
       "A    557\n",
       "Name: group, dtype: int64"
      ]
     },
     "metadata": {},
     "output_type": "display_data"
    },
    {
     "data": {
      "text/plain": [
       "A    31\n",
       "B    31\n",
       "Name: group, dtype: int64"
      ]
     },
     "metadata": {},
     "output_type": "display_data"
    },
    {
     "data": {
      "text/html": [
       "<div>\n",
       "<style scoped>\n",
       "    .dataframe tbody tr th:only-of-type {\n",
       "        vertical-align: middle;\n",
       "    }\n",
       "\n",
       "    .dataframe tbody tr th {\n",
       "        vertical-align: top;\n",
       "    }\n",
       "\n",
       "    .dataframe thead th {\n",
       "        text-align: right;\n",
       "    }\n",
       "</style>\n",
       "<table border=\"1\" class=\"dataframe\">\n",
       "  <thead>\n",
       "    <tr style=\"text-align: right;\">\n",
       "      <th></th>\n",
       "      <th>transaction_id</th>\n",
       "      <th>visitor_id</th>\n",
       "      <th>date</th>\n",
       "      <th>revenue</th>\n",
       "      <th>group</th>\n",
       "    </tr>\n",
       "  </thead>\n",
       "  <tbody>\n",
       "  </tbody>\n",
       "</table>\n",
       "</div>"
      ],
      "text/plain": [
       "Empty DataFrame\n",
       "Columns: [transaction_id, visitor_id, date, revenue, group]\n",
       "Index: []"
      ]
     },
     "execution_count": 9,
     "metadata": {},
     "output_type": "execute_result"
    }
   ],
   "source": [
    "display(orders['group'].value_counts())\n",
    "display(visitors['group'].value_counts())\n",
    "\n",
    "orders[orders.duplicated() == True]"
   ]
  },
  {
   "cell_type": "markdown",
   "metadata": {},
   "source": [
    "Дубликаты отсутствуют."
   ]
  },
  {
   "cell_type": "markdown",
   "metadata": {},
   "source": [
    "Также необходимо изучить, нет ли пользователей в датасете `orders`, которые попали в обе группы тестирования."
   ]
  },
  {
   "cell_type": "code",
   "execution_count": 10,
   "metadata": {},
   "outputs": [],
   "source": [
    "wrong_users = orders[orders['group'] == 'A']['visitor_id'].isin(orders[orders['group'] == 'B']['visitor_id'])"
   ]
  },
  {
   "cell_type": "code",
   "execution_count": 11,
   "metadata": {},
   "outputs": [
    {
     "data": {
      "text/plain": [
       "2      True\n",
       "7     False\n",
       "8     False\n",
       "10    False\n",
       "12    False\n",
       "Name: visitor_id, dtype: bool"
      ]
     },
     "execution_count": 11,
     "metadata": {},
     "output_type": "execute_result"
    }
   ],
   "source": [
    "wrong_users.head()"
   ]
  },
  {
   "cell_type": "markdown",
   "metadata": {},
   "source": [
    "Такие пользователи имеются, для того чтобы рещультат анализа теста был корректный, удалим данных пользователей из датасета."
   ]
  },
  {
   "cell_type": "code",
   "execution_count": 12,
   "metadata": {},
   "outputs": [],
   "source": [
    "data_wrong_users = orders[orders['group'] == 'A'][wrong_users]['visitor_id'].unique()"
   ]
  },
  {
   "cell_type": "markdown",
   "metadata": {},
   "source": [
    "Выведем на экран список id таких пользователей и их количество. "
   ]
  },
  {
   "cell_type": "code",
   "execution_count": 13,
   "metadata": {},
   "outputs": [
    {
     "name": "stdout",
     "output_type": "stream",
     "text": [
      "Список id пользователей попавших в обе группы:\n",
      "[4069496402  199603092 3803269165 2378935119  237748145 4256040402\n",
      " 2038680547 1738359350 2458001652 3891541246 2716752286 3656415546\n",
      " 2686716486 2954449915 2927087541 3234906277  457167155 2579882178\n",
      " 3957174400 1648269707 2780786433  818047933 2044997962 1959144690\n",
      " 3202540741 1333886533  351125977 3951559397  393266494 3984495233\n",
      " 4120364173 4266935830 1230306981 1294878855 1614305549    8300375\n",
      "  477780734 1668030113 3717692402 3766097110 3941795274  471551937\n",
      " 1316129916 1801183820 1602967004 2587333274 2600415354  232979603\n",
      " 3972127743 1404934699  276558944 3062433592 2654030115 3963646447\n",
      " 4186807279 2712142231 2949041841  963407295]\n",
      "Количество пользователей попавших в обе группы: 58\n"
     ]
    }
   ],
   "source": [
    "print('Список id пользователей попавших в обе группы:') \n",
    "print(data_wrong_users)\n",
    "\n",
    "print('Количество пользователей попавших в обе группы:', len(data_wrong_users))"
   ]
  },
  {
   "cell_type": "markdown",
   "metadata": {},
   "source": [
    "Отфильруем таблицу `orders`, удалив из нее информацию о сделках \"задвоенных\" пользователей."
   ]
  },
  {
   "cell_type": "code",
   "execution_count": 14,
   "metadata": {},
   "outputs": [],
   "source": [
    "orders = orders[np.logical_not(orders['visitor_id'].isin(data_wrong_users))].reset_index(drop=True)"
   ]
  },
  {
   "cell_type": "markdown",
   "metadata": {},
   "source": [
    "Выведем результат на экран."
   ]
  },
  {
   "cell_type": "code",
   "execution_count": 15,
   "metadata": {},
   "outputs": [
    {
     "data": {
      "text/html": [
       "<div>\n",
       "<style scoped>\n",
       "    .dataframe tbody tr th:only-of-type {\n",
       "        vertical-align: middle;\n",
       "    }\n",
       "\n",
       "    .dataframe tbody tr th {\n",
       "        vertical-align: top;\n",
       "    }\n",
       "\n",
       "    .dataframe thead th {\n",
       "        text-align: right;\n",
       "    }\n",
       "</style>\n",
       "<table border=\"1\" class=\"dataframe\">\n",
       "  <thead>\n",
       "    <tr style=\"text-align: right;\">\n",
       "      <th></th>\n",
       "      <th>transaction_id</th>\n",
       "      <th>visitor_id</th>\n",
       "      <th>date</th>\n",
       "      <th>revenue</th>\n",
       "      <th>group</th>\n",
       "    </tr>\n",
       "  </thead>\n",
       "  <tbody>\n",
       "    <tr>\n",
       "      <th>0</th>\n",
       "      <td>3667963787</td>\n",
       "      <td>3312258926</td>\n",
       "      <td>2019-08-15</td>\n",
       "      <td>1650</td>\n",
       "      <td>B</td>\n",
       "    </tr>\n",
       "    <tr>\n",
       "      <th>1</th>\n",
       "      <td>2804400009</td>\n",
       "      <td>3642806036</td>\n",
       "      <td>2019-08-15</td>\n",
       "      <td>730</td>\n",
       "      <td>B</td>\n",
       "    </tr>\n",
       "    <tr>\n",
       "      <th>2</th>\n",
       "      <td>3797467345</td>\n",
       "      <td>1196621759</td>\n",
       "      <td>2019-08-15</td>\n",
       "      <td>9759</td>\n",
       "      <td>B</td>\n",
       "    </tr>\n",
       "    <tr>\n",
       "      <th>3</th>\n",
       "      <td>2282983706</td>\n",
       "      <td>2322279887</td>\n",
       "      <td>2019-08-15</td>\n",
       "      <td>2308</td>\n",
       "      <td>B</td>\n",
       "    </tr>\n",
       "    <tr>\n",
       "      <th>4</th>\n",
       "      <td>182168103</td>\n",
       "      <td>935554773</td>\n",
       "      <td>2019-08-15</td>\n",
       "      <td>2210</td>\n",
       "      <td>B</td>\n",
       "    </tr>\n",
       "    <tr>\n",
       "      <th>...</th>\n",
       "      <td>...</td>\n",
       "      <td>...</td>\n",
       "      <td>...</td>\n",
       "      <td>...</td>\n",
       "      <td>...</td>\n",
       "    </tr>\n",
       "    <tr>\n",
       "      <th>1011</th>\n",
       "      <td>3592955527</td>\n",
       "      <td>608641596</td>\n",
       "      <td>2019-08-14</td>\n",
       "      <td>16490</td>\n",
       "      <td>B</td>\n",
       "    </tr>\n",
       "    <tr>\n",
       "      <th>1012</th>\n",
       "      <td>2662137336</td>\n",
       "      <td>3733762160</td>\n",
       "      <td>2019-08-14</td>\n",
       "      <td>6490</td>\n",
       "      <td>B</td>\n",
       "    </tr>\n",
       "    <tr>\n",
       "      <th>1013</th>\n",
       "      <td>2203539145</td>\n",
       "      <td>370388673</td>\n",
       "      <td>2019-08-14</td>\n",
       "      <td>3190</td>\n",
       "      <td>A</td>\n",
       "    </tr>\n",
       "    <tr>\n",
       "      <th>1014</th>\n",
       "      <td>1807773912</td>\n",
       "      <td>573423106</td>\n",
       "      <td>2019-08-14</td>\n",
       "      <td>10550</td>\n",
       "      <td>A</td>\n",
       "    </tr>\n",
       "    <tr>\n",
       "      <th>1015</th>\n",
       "      <td>3936777065</td>\n",
       "      <td>2108080724</td>\n",
       "      <td>2019-08-15</td>\n",
       "      <td>202740</td>\n",
       "      <td>B</td>\n",
       "    </tr>\n",
       "  </tbody>\n",
       "</table>\n",
       "<p>1016 rows × 5 columns</p>\n",
       "</div>"
      ],
      "text/plain": [
       "      transaction_id  visitor_id       date  revenue group\n",
       "0         3667963787  3312258926 2019-08-15     1650     B\n",
       "1         2804400009  3642806036 2019-08-15      730     B\n",
       "2         3797467345  1196621759 2019-08-15     9759     B\n",
       "3         2282983706  2322279887 2019-08-15     2308     B\n",
       "4          182168103   935554773 2019-08-15     2210     B\n",
       "...              ...         ...        ...      ...   ...\n",
       "1011      3592955527   608641596 2019-08-14    16490     B\n",
       "1012      2662137336  3733762160 2019-08-14     6490     B\n",
       "1013      2203539145   370388673 2019-08-14     3190     A\n",
       "1014      1807773912   573423106 2019-08-14    10550     A\n",
       "1015      3936777065  2108080724 2019-08-15   202740     B\n",
       "\n",
       "[1016 rows x 5 columns]"
      ]
     },
     "execution_count": 15,
     "metadata": {},
     "output_type": "execute_result"
    }
   ],
   "source": [
    "orders"
   ]
  },
  {
   "cell_type": "markdown",
   "metadata": {},
   "source": [
    "Мы удалили 181 строку с данными по заказам \"задвоенных\" пользователей, это достаточно большой пласт информации, 15% от начального датафрейма, однако теперь мы можем быть уверены в правильности будущих результатов анализа А/В теста."
   ]
  },
  {
   "cell_type": "markdown",
   "metadata": {},
   "source": [
    "### Вывод"
   ]
  },
  {
   "cell_type": "markdown",
   "metadata": {},
   "source": [
    "Мы прочитали полученные датасеты и записали их в переменные `hypothesis`, `orders` и `visitors`.<br>\n",
    "Датафрейм `hypothesis` содержит информацию о выдвинутых гипотезах, а также об оценке этих гипотез по 10-ти бальной шкале по методу RICE. Информация содержится в 5 столбцах и 9 строках. В данных отсутвуют пропуски и дубликаты, названия столбцов мы привели к нижнему регистру.<br>\n",
    "Датафрейм `orders` одержит информацию о заказах. Информация содержится в 5 столбцах и 1197 строках. В данных отсутвуют пропуски и полные дубликаты, однако есть пользователи, которые попали в обе группы, мы удалили 181 строку с данными по заказам \"задвоенных\" пользователей, это достаточно большой пласт информации, 15% от начального датафрейма, однако теперь мы можем быть уверены в правильности будущих результатов анализа А/В теста. Также названия столбцов мы привели к принятым стандартам, а данные из колонки **date** преобразовали в тип date.<br>\n",
    "Датафрейм `visitors` одержит информацию о количестве посетителей интернет-магазина на определенную дату. Информация содержится в 3 столбцах и 62 строках. В данных отсутвуют пропуски и дубликаты. Данные из колонки **date** преобразовали в тип date.<br><br>\n",
    "\n",
    "Данные готовы к анализу."
   ]
  },
  {
   "cell_type": "markdown",
   "metadata": {},
   "source": [
    "## Приоритизация гипотез"
   ]
  },
  {
   "cell_type": "markdown",
   "metadata": {},
   "source": [
    "### Фреймворк ICE"
   ]
  },
  {
   "cell_type": "markdown",
   "metadata": {},
   "source": [
    "Чтобы приоритизировать полученные гипотезы воспользумся фреймворком ICE.<br>\n",
    "\n",
    "Формула для расчета: $ICE = \\frac{Impact * Confidence}{Efforts}$<br>\n",
    "\n",
    "Полученные результаты запишем в столбец `ice`."
   ]
  },
  {
   "cell_type": "code",
   "execution_count": 16,
   "metadata": {},
   "outputs": [],
   "source": [
    "hypothesis['ice'] = (hypothesis['impact'] * hypothesis['confidence'] / hypothesis['efforts']).round(2)"
   ]
  },
  {
   "cell_type": "markdown",
   "metadata": {},
   "source": [
    "Отсортируем гипотезы по убыванию по данным столбца `ice`."
   ]
  },
  {
   "cell_type": "code",
   "execution_count": 17,
   "metadata": {},
   "outputs": [],
   "source": [
    "hypothesis = hypothesis.sort_values(by='ice', ascending=False)"
   ]
  },
  {
   "cell_type": "markdown",
   "metadata": {},
   "source": [
    "Выведем результат на экран."
   ]
  },
  {
   "cell_type": "code",
   "execution_count": 18,
   "metadata": {},
   "outputs": [
    {
     "data": {
      "text/html": [
       "<style type=\"text/css\">\n",
       "#T_885ec_row0_col5 {\n",
       "  background-color: yellowgreen;\n",
       "}\n",
       "#T_885ec_row8_col5 {\n",
       "  background-color: coral;\n",
       "}\n",
       "</style>\n",
       "<table id=\"T_885ec_\">\n",
       "  <thead>\n",
       "    <tr>\n",
       "      <th class=\"blank level0\" >&nbsp;</th>\n",
       "      <th class=\"col_heading level0 col0\" >hypothesis</th>\n",
       "      <th class=\"col_heading level0 col1\" >reach</th>\n",
       "      <th class=\"col_heading level0 col2\" >impact</th>\n",
       "      <th class=\"col_heading level0 col3\" >confidence</th>\n",
       "      <th class=\"col_heading level0 col4\" >efforts</th>\n",
       "      <th class=\"col_heading level0 col5\" >ice</th>\n",
       "    </tr>\n",
       "  </thead>\n",
       "  <tbody>\n",
       "    <tr>\n",
       "      <th id=\"T_885ec_level0_row0\" class=\"row_heading level0 row0\" >8</th>\n",
       "      <td id=\"T_885ec_row0_col0\" class=\"data row0 col0\" >Запустить акцию, дающую скидку на товар в день рождения</td>\n",
       "      <td id=\"T_885ec_row0_col1\" class=\"data row0 col1\" >1</td>\n",
       "      <td id=\"T_885ec_row0_col2\" class=\"data row0 col2\" >9</td>\n",
       "      <td id=\"T_885ec_row0_col3\" class=\"data row0 col3\" >9</td>\n",
       "      <td id=\"T_885ec_row0_col4\" class=\"data row0 col4\" >5</td>\n",
       "      <td id=\"T_885ec_row0_col5\" class=\"data row0 col5\" >16.200000</td>\n",
       "    </tr>\n",
       "    <tr>\n",
       "      <th id=\"T_885ec_level0_row1\" class=\"row_heading level0 row1\" >0</th>\n",
       "      <td id=\"T_885ec_row1_col0\" class=\"data row1 col0\" >Добавить два новых канала привлечения трафика, что позволит привлекать на 30% больше пользователей</td>\n",
       "      <td id=\"T_885ec_row1_col1\" class=\"data row1 col1\" >3</td>\n",
       "      <td id=\"T_885ec_row1_col2\" class=\"data row1 col2\" >10</td>\n",
       "      <td id=\"T_885ec_row1_col3\" class=\"data row1 col3\" >8</td>\n",
       "      <td id=\"T_885ec_row1_col4\" class=\"data row1 col4\" >6</td>\n",
       "      <td id=\"T_885ec_row1_col5\" class=\"data row1 col5\" >13.330000</td>\n",
       "    </tr>\n",
       "    <tr>\n",
       "      <th id=\"T_885ec_level0_row2\" class=\"row_heading level0 row2\" >7</th>\n",
       "      <td id=\"T_885ec_row2_col0\" class=\"data row2 col0\" >Добавить форму подписки на все основные страницы, чтобы собрать базу клиентов для email-рассылок</td>\n",
       "      <td id=\"T_885ec_row2_col1\" class=\"data row2 col1\" >10</td>\n",
       "      <td id=\"T_885ec_row2_col2\" class=\"data row2 col2\" >7</td>\n",
       "      <td id=\"T_885ec_row2_col3\" class=\"data row2 col3\" >8</td>\n",
       "      <td id=\"T_885ec_row2_col4\" class=\"data row2 col4\" >5</td>\n",
       "      <td id=\"T_885ec_row2_col5\" class=\"data row2 col5\" >11.200000</td>\n",
       "    </tr>\n",
       "    <tr>\n",
       "      <th id=\"T_885ec_level0_row3\" class=\"row_heading level0 row3\" >6</th>\n",
       "      <td id=\"T_885ec_row3_col0\" class=\"data row3 col0\" >Показать на главной странице баннеры с актуальными акциями и распродажами, чтобы увеличить конверсию</td>\n",
       "      <td id=\"T_885ec_row3_col1\" class=\"data row3 col1\" >5</td>\n",
       "      <td id=\"T_885ec_row3_col2\" class=\"data row3 col2\" >3</td>\n",
       "      <td id=\"T_885ec_row3_col3\" class=\"data row3 col3\" >8</td>\n",
       "      <td id=\"T_885ec_row3_col4\" class=\"data row3 col4\" >3</td>\n",
       "      <td id=\"T_885ec_row3_col5\" class=\"data row3 col5\" >8.000000</td>\n",
       "    </tr>\n",
       "    <tr>\n",
       "      <th id=\"T_885ec_level0_row4\" class=\"row_heading level0 row4\" >2</th>\n",
       "      <td id=\"T_885ec_row4_col0\" class=\"data row4 col0\" >Добавить блоки рекомендаций товаров на сайт интернет магазина, чтобы повысить конверсию и средний чек заказа</td>\n",
       "      <td id=\"T_885ec_row4_col1\" class=\"data row4 col1\" >8</td>\n",
       "      <td id=\"T_885ec_row4_col2\" class=\"data row4 col2\" >3</td>\n",
       "      <td id=\"T_885ec_row4_col3\" class=\"data row4 col3\" >7</td>\n",
       "      <td id=\"T_885ec_row4_col4\" class=\"data row4 col4\" >3</td>\n",
       "      <td id=\"T_885ec_row4_col5\" class=\"data row4 col5\" >7.000000</td>\n",
       "    </tr>\n",
       "    <tr>\n",
       "      <th id=\"T_885ec_level0_row5\" class=\"row_heading level0 row5\" >1</th>\n",
       "      <td id=\"T_885ec_row5_col0\" class=\"data row5 col0\" >Запустить собственную службу доставки, что сократит срок доставки заказов</td>\n",
       "      <td id=\"T_885ec_row5_col1\" class=\"data row5 col1\" >2</td>\n",
       "      <td id=\"T_885ec_row5_col2\" class=\"data row5 col2\" >5</td>\n",
       "      <td id=\"T_885ec_row5_col3\" class=\"data row5 col3\" >4</td>\n",
       "      <td id=\"T_885ec_row5_col4\" class=\"data row5 col4\" >10</td>\n",
       "      <td id=\"T_885ec_row5_col5\" class=\"data row5 col5\" >2.000000</td>\n",
       "    </tr>\n",
       "    <tr>\n",
       "      <th id=\"T_885ec_level0_row6\" class=\"row_heading level0 row6\" >5</th>\n",
       "      <td id=\"T_885ec_row6_col0\" class=\"data row6 col0\" >Добавить страницу отзывов клиентов о магазине, что позволит увеличить количество заказов</td>\n",
       "      <td id=\"T_885ec_row6_col1\" class=\"data row6 col1\" >3</td>\n",
       "      <td id=\"T_885ec_row6_col2\" class=\"data row6 col2\" >2</td>\n",
       "      <td id=\"T_885ec_row6_col3\" class=\"data row6 col3\" >2</td>\n",
       "      <td id=\"T_885ec_row6_col4\" class=\"data row6 col4\" >3</td>\n",
       "      <td id=\"T_885ec_row6_col5\" class=\"data row6 col5\" >1.330000</td>\n",
       "    </tr>\n",
       "    <tr>\n",
       "      <th id=\"T_885ec_level0_row7\" class=\"row_heading level0 row7\" >3</th>\n",
       "      <td id=\"T_885ec_row7_col0\" class=\"data row7 col0\" >Изменить структура категорий, что увеличит конверсию, т.к. пользователи быстрее найдут нужный товар</td>\n",
       "      <td id=\"T_885ec_row7_col1\" class=\"data row7 col1\" >8</td>\n",
       "      <td id=\"T_885ec_row7_col2\" class=\"data row7 col2\" >3</td>\n",
       "      <td id=\"T_885ec_row7_col3\" class=\"data row7 col3\" >3</td>\n",
       "      <td id=\"T_885ec_row7_col4\" class=\"data row7 col4\" >8</td>\n",
       "      <td id=\"T_885ec_row7_col5\" class=\"data row7 col5\" >1.120000</td>\n",
       "    </tr>\n",
       "    <tr>\n",
       "      <th id=\"T_885ec_level0_row8\" class=\"row_heading level0 row8\" >4</th>\n",
       "      <td id=\"T_885ec_row8_col0\" class=\"data row8 col0\" >Изменить цвет фона главной страницы, чтобы увеличить вовлеченность пользователей</td>\n",
       "      <td id=\"T_885ec_row8_col1\" class=\"data row8 col1\" >3</td>\n",
       "      <td id=\"T_885ec_row8_col2\" class=\"data row8 col2\" >1</td>\n",
       "      <td id=\"T_885ec_row8_col3\" class=\"data row8 col3\" >1</td>\n",
       "      <td id=\"T_885ec_row8_col4\" class=\"data row8 col4\" >1</td>\n",
       "      <td id=\"T_885ec_row8_col5\" class=\"data row8 col5\" >1.000000</td>\n",
       "    </tr>\n",
       "  </tbody>\n",
       "</table>\n"
      ],
      "text/plain": [
       "<pandas.io.formats.style.Styler at 0x7ff6400a86a0>"
      ]
     },
     "execution_count": 18,
     "metadata": {},
     "output_type": "execute_result"
    }
   ],
   "source": [
    "pd.set_option(\"max_colwidth\", None)\n",
    "\n",
    "(\n",
    "    hypothesis.style\n",
    "    .highlight_max(color='yellowgreen', subset=['ice'])\n",
    "    .highlight_min(color='coral', subset=['ice'])\n",
    ")"
   ]
  },
  {
   "cell_type": "markdown",
   "metadata": {},
   "source": [
    "Гипотезы 8, 0 и 7 занимают первые три места по перспективности реализации, посмотрим, что изменится при использовании фреймворка RICE"
   ]
  },
  {
   "cell_type": "markdown",
   "metadata": {},
   "source": [
    "### Фреймворк RICE"
   ]
  },
  {
   "cell_type": "markdown",
   "metadata": {},
   "source": [
    "Приоритизируем гипотезы с помощью фреймворка RICE.<br>\n",
    "\n",
    "Формула для расчета: $RICE = \\frac{Rearch * Impact * Confidence}{Efforts}$"
   ]
  },
  {
   "cell_type": "code",
   "execution_count": 19,
   "metadata": {},
   "outputs": [],
   "source": [
    "hypothesis['rice'] = (\n",
    "    hypothesis['reach'] * hypothesis['impact'] * hypothesis['confidence'] / hypothesis['efforts']\n",
    ").round(2)"
   ]
  },
  {
   "cell_type": "markdown",
   "metadata": {},
   "source": [
    "Отсортируем гипотезы по убыванию по данным столбца `ice`."
   ]
  },
  {
   "cell_type": "code",
   "execution_count": 20,
   "metadata": {},
   "outputs": [],
   "source": [
    "hypothesis = hypothesis.sort_values(by='rice', ascending=False)"
   ]
  },
  {
   "cell_type": "markdown",
   "metadata": {},
   "source": [
    "Выведем на экран."
   ]
  },
  {
   "cell_type": "code",
   "execution_count": 21,
   "metadata": {},
   "outputs": [
    {
     "data": {
      "text/html": [
       "<style type=\"text/css\">\n",
       "#T_1862c_row0_col6, #T_1862c_row4_col5 {\n",
       "  background-color: yellowgreen;\n",
       "}\n",
       "#T_1862c_row8_col5, #T_1862c_row8_col6 {\n",
       "  background-color: coral;\n",
       "}\n",
       "</style>\n",
       "<table id=\"T_1862c_\">\n",
       "  <thead>\n",
       "    <tr>\n",
       "      <th class=\"blank level0\" >&nbsp;</th>\n",
       "      <th class=\"col_heading level0 col0\" >hypothesis</th>\n",
       "      <th class=\"col_heading level0 col1\" >reach</th>\n",
       "      <th class=\"col_heading level0 col2\" >impact</th>\n",
       "      <th class=\"col_heading level0 col3\" >confidence</th>\n",
       "      <th class=\"col_heading level0 col4\" >efforts</th>\n",
       "      <th class=\"col_heading level0 col5\" >ice</th>\n",
       "      <th class=\"col_heading level0 col6\" >rice</th>\n",
       "    </tr>\n",
       "  </thead>\n",
       "  <tbody>\n",
       "    <tr>\n",
       "      <th id=\"T_1862c_level0_row0\" class=\"row_heading level0 row0\" >7</th>\n",
       "      <td id=\"T_1862c_row0_col0\" class=\"data row0 col0\" >Добавить форму подписки на все основные страницы, чтобы собрать базу клиентов для email-рассылок</td>\n",
       "      <td id=\"T_1862c_row0_col1\" class=\"data row0 col1\" >10</td>\n",
       "      <td id=\"T_1862c_row0_col2\" class=\"data row0 col2\" >7</td>\n",
       "      <td id=\"T_1862c_row0_col3\" class=\"data row0 col3\" >8</td>\n",
       "      <td id=\"T_1862c_row0_col4\" class=\"data row0 col4\" >5</td>\n",
       "      <td id=\"T_1862c_row0_col5\" class=\"data row0 col5\" >11.200000</td>\n",
       "      <td id=\"T_1862c_row0_col6\" class=\"data row0 col6\" >112.000000</td>\n",
       "    </tr>\n",
       "    <tr>\n",
       "      <th id=\"T_1862c_level0_row1\" class=\"row_heading level0 row1\" >2</th>\n",
       "      <td id=\"T_1862c_row1_col0\" class=\"data row1 col0\" >Добавить блоки рекомендаций товаров на сайт интернет магазина, чтобы повысить конверсию и средний чек заказа</td>\n",
       "      <td id=\"T_1862c_row1_col1\" class=\"data row1 col1\" >8</td>\n",
       "      <td id=\"T_1862c_row1_col2\" class=\"data row1 col2\" >3</td>\n",
       "      <td id=\"T_1862c_row1_col3\" class=\"data row1 col3\" >7</td>\n",
       "      <td id=\"T_1862c_row1_col4\" class=\"data row1 col4\" >3</td>\n",
       "      <td id=\"T_1862c_row1_col5\" class=\"data row1 col5\" >7.000000</td>\n",
       "      <td id=\"T_1862c_row1_col6\" class=\"data row1 col6\" >56.000000</td>\n",
       "    </tr>\n",
       "    <tr>\n",
       "      <th id=\"T_1862c_level0_row2\" class=\"row_heading level0 row2\" >0</th>\n",
       "      <td id=\"T_1862c_row2_col0\" class=\"data row2 col0\" >Добавить два новых канала привлечения трафика, что позволит привлекать на 30% больше пользователей</td>\n",
       "      <td id=\"T_1862c_row2_col1\" class=\"data row2 col1\" >3</td>\n",
       "      <td id=\"T_1862c_row2_col2\" class=\"data row2 col2\" >10</td>\n",
       "      <td id=\"T_1862c_row2_col3\" class=\"data row2 col3\" >8</td>\n",
       "      <td id=\"T_1862c_row2_col4\" class=\"data row2 col4\" >6</td>\n",
       "      <td id=\"T_1862c_row2_col5\" class=\"data row2 col5\" >13.330000</td>\n",
       "      <td id=\"T_1862c_row2_col6\" class=\"data row2 col6\" >40.000000</td>\n",
       "    </tr>\n",
       "    <tr>\n",
       "      <th id=\"T_1862c_level0_row3\" class=\"row_heading level0 row3\" >6</th>\n",
       "      <td id=\"T_1862c_row3_col0\" class=\"data row3 col0\" >Показать на главной странице баннеры с актуальными акциями и распродажами, чтобы увеличить конверсию</td>\n",
       "      <td id=\"T_1862c_row3_col1\" class=\"data row3 col1\" >5</td>\n",
       "      <td id=\"T_1862c_row3_col2\" class=\"data row3 col2\" >3</td>\n",
       "      <td id=\"T_1862c_row3_col3\" class=\"data row3 col3\" >8</td>\n",
       "      <td id=\"T_1862c_row3_col4\" class=\"data row3 col4\" >3</td>\n",
       "      <td id=\"T_1862c_row3_col5\" class=\"data row3 col5\" >8.000000</td>\n",
       "      <td id=\"T_1862c_row3_col6\" class=\"data row3 col6\" >40.000000</td>\n",
       "    </tr>\n",
       "    <tr>\n",
       "      <th id=\"T_1862c_level0_row4\" class=\"row_heading level0 row4\" >8</th>\n",
       "      <td id=\"T_1862c_row4_col0\" class=\"data row4 col0\" >Запустить акцию, дающую скидку на товар в день рождения</td>\n",
       "      <td id=\"T_1862c_row4_col1\" class=\"data row4 col1\" >1</td>\n",
       "      <td id=\"T_1862c_row4_col2\" class=\"data row4 col2\" >9</td>\n",
       "      <td id=\"T_1862c_row4_col3\" class=\"data row4 col3\" >9</td>\n",
       "      <td id=\"T_1862c_row4_col4\" class=\"data row4 col4\" >5</td>\n",
       "      <td id=\"T_1862c_row4_col5\" class=\"data row4 col5\" >16.200000</td>\n",
       "      <td id=\"T_1862c_row4_col6\" class=\"data row4 col6\" >16.200000</td>\n",
       "    </tr>\n",
       "    <tr>\n",
       "      <th id=\"T_1862c_level0_row5\" class=\"row_heading level0 row5\" >3</th>\n",
       "      <td id=\"T_1862c_row5_col0\" class=\"data row5 col0\" >Изменить структура категорий, что увеличит конверсию, т.к. пользователи быстрее найдут нужный товар</td>\n",
       "      <td id=\"T_1862c_row5_col1\" class=\"data row5 col1\" >8</td>\n",
       "      <td id=\"T_1862c_row5_col2\" class=\"data row5 col2\" >3</td>\n",
       "      <td id=\"T_1862c_row5_col3\" class=\"data row5 col3\" >3</td>\n",
       "      <td id=\"T_1862c_row5_col4\" class=\"data row5 col4\" >8</td>\n",
       "      <td id=\"T_1862c_row5_col5\" class=\"data row5 col5\" >1.120000</td>\n",
       "      <td id=\"T_1862c_row5_col6\" class=\"data row5 col6\" >9.000000</td>\n",
       "    </tr>\n",
       "    <tr>\n",
       "      <th id=\"T_1862c_level0_row6\" class=\"row_heading level0 row6\" >1</th>\n",
       "      <td id=\"T_1862c_row6_col0\" class=\"data row6 col0\" >Запустить собственную службу доставки, что сократит срок доставки заказов</td>\n",
       "      <td id=\"T_1862c_row6_col1\" class=\"data row6 col1\" >2</td>\n",
       "      <td id=\"T_1862c_row6_col2\" class=\"data row6 col2\" >5</td>\n",
       "      <td id=\"T_1862c_row6_col3\" class=\"data row6 col3\" >4</td>\n",
       "      <td id=\"T_1862c_row6_col4\" class=\"data row6 col4\" >10</td>\n",
       "      <td id=\"T_1862c_row6_col5\" class=\"data row6 col5\" >2.000000</td>\n",
       "      <td id=\"T_1862c_row6_col6\" class=\"data row6 col6\" >4.000000</td>\n",
       "    </tr>\n",
       "    <tr>\n",
       "      <th id=\"T_1862c_level0_row7\" class=\"row_heading level0 row7\" >5</th>\n",
       "      <td id=\"T_1862c_row7_col0\" class=\"data row7 col0\" >Добавить страницу отзывов клиентов о магазине, что позволит увеличить количество заказов</td>\n",
       "      <td id=\"T_1862c_row7_col1\" class=\"data row7 col1\" >3</td>\n",
       "      <td id=\"T_1862c_row7_col2\" class=\"data row7 col2\" >2</td>\n",
       "      <td id=\"T_1862c_row7_col3\" class=\"data row7 col3\" >2</td>\n",
       "      <td id=\"T_1862c_row7_col4\" class=\"data row7 col4\" >3</td>\n",
       "      <td id=\"T_1862c_row7_col5\" class=\"data row7 col5\" >1.330000</td>\n",
       "      <td id=\"T_1862c_row7_col6\" class=\"data row7 col6\" >4.000000</td>\n",
       "    </tr>\n",
       "    <tr>\n",
       "      <th id=\"T_1862c_level0_row8\" class=\"row_heading level0 row8\" >4</th>\n",
       "      <td id=\"T_1862c_row8_col0\" class=\"data row8 col0\" >Изменить цвет фона главной страницы, чтобы увеличить вовлеченность пользователей</td>\n",
       "      <td id=\"T_1862c_row8_col1\" class=\"data row8 col1\" >3</td>\n",
       "      <td id=\"T_1862c_row8_col2\" class=\"data row8 col2\" >1</td>\n",
       "      <td id=\"T_1862c_row8_col3\" class=\"data row8 col3\" >1</td>\n",
       "      <td id=\"T_1862c_row8_col4\" class=\"data row8 col4\" >1</td>\n",
       "      <td id=\"T_1862c_row8_col5\" class=\"data row8 col5\" >1.000000</td>\n",
       "      <td id=\"T_1862c_row8_col6\" class=\"data row8 col6\" >3.000000</td>\n",
       "    </tr>\n",
       "  </tbody>\n",
       "</table>\n"
      ],
      "text/plain": [
       "<pandas.io.formats.style.Styler at 0x7ff650b34850>"
      ]
     },
     "execution_count": 21,
     "metadata": {},
     "output_type": "execute_result"
    }
   ],
   "source": [
    "(\n",
    "    hypothesis.style\n",
    "    .highlight_max(color='yellowgreen', subset=['ice', 'rice'])\n",
    "    .highlight_min(color='coral', subset=['ice', 'rice'])\n",
    ")"
   ]
  },
  {
   "cell_type": "markdown",
   "metadata": {},
   "source": [
    "С учетом охвата пользователей изменился наш топ перспективности гипотез, теперь первое место занимает гипотеза с индексом 7, второе - шипотеза с индексом 2 и третье - гипотеза с индексом 0."
   ]
  },
  {
   "cell_type": "markdown",
   "metadata": {},
   "source": [
    "### Вывод"
   ]
  },
  {
   "cell_type": "markdown",
   "metadata": {},
   "source": [
    "В этой главе мы приоритизировали гипотезы. Сперва с помощью фреймворка ICE, изучив параметры гипотез impact, confidence и efforts, мы получили гипотезы с индексами 8, 0 и 7, как самые перспективные для реализации гипотезы. Но фреймворк ICE не учитывает охват пользоватлей (reach) изучаемых гипотез, чтобы проанализировать гипотезы с учетом охвата, мы применили фреймворк RICE и это изменило наш вывод о том, какие гипотезы наиболее перспективны. Ими стали гипотезы с индексами 7,2 и 0."
   ]
  },
  {
   "cell_type": "markdown",
   "metadata": {},
   "source": [
    "## Анализ A/B-теста"
   ]
  },
  {
   "cell_type": "markdown",
   "metadata": {},
   "source": [
    "### Подготовка данных для визуализации анализа"
   ]
  },
  {
   "cell_type": "markdown",
   "metadata": {},
   "source": [
    "Построим таблицу с уникальными парами значений дат и групп теста."
   ]
  },
  {
   "cell_type": "code",
   "execution_count": 22,
   "metadata": {},
   "outputs": [],
   "source": [
    "dates_groups = orders[['date','group']].drop_duplicates()"
   ]
  },
  {
   "cell_type": "markdown",
   "metadata": {},
   "source": [
    "Создадим переменную `orders_aggregated`, в которой соберем агрегированные кумулятивные по дням данные о заказах."
   ]
  },
  {
   "cell_type": "code",
   "execution_count": 23,
   "metadata": {},
   "outputs": [],
   "source": [
    "orders_aggregated = dates_groups.apply(\n",
    "    lambda x: orders[np.logical_and(\n",
    "        orders['date'] <= x['date'], \n",
    "        orders['group'] == x['group']\n",
    "    )].agg(\n",
    "        {\n",
    "            'date' : 'max', \n",
    "            'group' : 'max', \n",
    "            'visitor_id' : 'nunique', \n",
    "            'transaction_id' : 'nunique', \n",
    "            'revenue' : 'sum'\n",
    "        }\n",
    "    ), axis=1\n",
    ").sort_values(by=['date','group'])"
   ]
  },
  {
   "cell_type": "markdown",
   "metadata": {},
   "source": [
    "Создадим переменную `visitors_aggregated`, в которой соберем агрегированные кумулятивные по дням данные о посетителях интернет-магазина."
   ]
  },
  {
   "cell_type": "code",
   "execution_count": 24,
   "metadata": {},
   "outputs": [],
   "source": [
    "visitors_aggregated = dates_groups.apply(\n",
    "    lambda x: visitors[np.logical_and(\n",
    "        visitors['date'] <= x['date'], \n",
    "        visitors['group'] == x['group']\n",
    "    )].agg(\n",
    "        {\n",
    "            'date' : 'max', \n",
    "            'group' : 'max', \n",
    "            'visitors' : 'sum'\n",
    "        }\n",
    "    ), axis=1\n",
    ").sort_values(by=['date','group'])"
   ]
  },
  {
   "cell_type": "markdown",
   "metadata": {},
   "source": [
    "Объединяем данные из `orders_aggregated` и `visitors_aggregated`."
   ]
  },
  {
   "cell_type": "code",
   "execution_count": 25,
   "metadata": {},
   "outputs": [],
   "source": [
    "cumulative_data = orders_aggregated.merge(\n",
    "    visitors_aggregated, \n",
    "    left_on=['date', 'group'], \n",
    "    right_on=['date', 'group']\n",
    ")"
   ]
  },
  {
   "cell_type": "markdown",
   "metadata": {},
   "source": [
    "И переименуем столбцы."
   ]
  },
  {
   "cell_type": "code",
   "execution_count": 26,
   "metadata": {},
   "outputs": [],
   "source": [
    "cumulative_data.columns = ['date', 'group', 'orders', 'buyers', 'revenue', 'visitors']"
   ]
  },
  {
   "cell_type": "markdown",
   "metadata": {},
   "source": [
    "Выведем результат на экран."
   ]
  },
  {
   "cell_type": "code",
   "execution_count": 27,
   "metadata": {},
   "outputs": [
    {
     "data": {
      "text/html": [
       "<div>\n",
       "<style scoped>\n",
       "    .dataframe tbody tr th:only-of-type {\n",
       "        vertical-align: middle;\n",
       "    }\n",
       "\n",
       "    .dataframe tbody tr th {\n",
       "        vertical-align: top;\n",
       "    }\n",
       "\n",
       "    .dataframe thead th {\n",
       "        text-align: right;\n",
       "    }\n",
       "</style>\n",
       "<table border=\"1\" class=\"dataframe\">\n",
       "  <thead>\n",
       "    <tr style=\"text-align: right;\">\n",
       "      <th></th>\n",
       "      <th>date</th>\n",
       "      <th>group</th>\n",
       "      <th>orders</th>\n",
       "      <th>buyers</th>\n",
       "      <th>revenue</th>\n",
       "      <th>visitors</th>\n",
       "    </tr>\n",
       "  </thead>\n",
       "  <tbody>\n",
       "    <tr>\n",
       "      <th>0</th>\n",
       "      <td>2019-08-01</td>\n",
       "      <td>A</td>\n",
       "      <td>19</td>\n",
       "      <td>23</td>\n",
       "      <td>142779</td>\n",
       "      <td>719</td>\n",
       "    </tr>\n",
       "    <tr>\n",
       "      <th>1</th>\n",
       "      <td>2019-08-01</td>\n",
       "      <td>B</td>\n",
       "      <td>17</td>\n",
       "      <td>17</td>\n",
       "      <td>59758</td>\n",
       "      <td>713</td>\n",
       "    </tr>\n",
       "    <tr>\n",
       "      <th>2</th>\n",
       "      <td>2019-08-02</td>\n",
       "      <td>A</td>\n",
       "      <td>36</td>\n",
       "      <td>42</td>\n",
       "      <td>234381</td>\n",
       "      <td>1338</td>\n",
       "    </tr>\n",
       "    <tr>\n",
       "      <th>3</th>\n",
       "      <td>2019-08-02</td>\n",
       "      <td>B</td>\n",
       "      <td>39</td>\n",
       "      <td>40</td>\n",
       "      <td>221801</td>\n",
       "      <td>1294</td>\n",
       "    </tr>\n",
       "    <tr>\n",
       "      <th>4</th>\n",
       "      <td>2019-08-03</td>\n",
       "      <td>A</td>\n",
       "      <td>60</td>\n",
       "      <td>66</td>\n",
       "      <td>346854</td>\n",
       "      <td>1845</td>\n",
       "    </tr>\n",
       "  </tbody>\n",
       "</table>\n",
       "</div>"
      ],
      "text/plain": [
       "        date group  orders  buyers  revenue  visitors\n",
       "0 2019-08-01     A      19      23   142779       719\n",
       "1 2019-08-01     B      17      17    59758       713\n",
       "2 2019-08-02     A      36      42   234381      1338\n",
       "3 2019-08-02     B      39      40   221801      1294\n",
       "4 2019-08-03     A      60      66   346854      1845"
      ]
     },
     "execution_count": 27,
     "metadata": {},
     "output_type": "execute_result"
    }
   ],
   "source": [
    "cumulative_data.head()"
   ]
  },
  {
   "cell_type": "markdown",
   "metadata": {},
   "source": [
    "Отлично! Данные подготовлены, можно переходить к визуализации."
   ]
  },
  {
   "cell_type": "markdown",
   "metadata": {},
   "source": [
    "### Визуализация и анализ кумулятивных метрик"
   ]
  },
  {
   "cell_type": "markdown",
   "metadata": {},
   "source": [
    "В переменной `cumulative_revenu_a` соберем количество заказов и кумулятивную выручку по дням в группе А."
   ]
  },
  {
   "cell_type": "code",
   "execution_count": 28,
   "metadata": {},
   "outputs": [],
   "source": [
    "cumulative_revenue_a = cumulative_data[cumulative_data['group']=='A'][['date','revenue', 'orders']]"
   ]
  },
  {
   "cell_type": "markdown",
   "metadata": {},
   "source": [
    "Аналогично по группе B."
   ]
  },
  {
   "cell_type": "code",
   "execution_count": 29,
   "metadata": {},
   "outputs": [],
   "source": [
    "cumulative_revenue_b = cumulative_data[cumulative_data['group']=='B'][['date','revenue', 'orders']]"
   ]
  },
  {
   "cell_type": "markdown",
   "metadata": {},
   "source": [
    "Построим графики кумулятивной выручки."
   ]
  },
  {
   "cell_type": "code",
   "execution_count": 30,
   "metadata": {},
   "outputs": [
    {
     "data": {
      "image/png": "[encoded data removed]",
      "text/plain": [
       "<Figure size 1440x576 with 1 Axes>"
      ]
     },
     "metadata": {
      "needs_background": "light"
     },
     "output_type": "display_data"
    }
   ],
   "source": [
    "plt.figure(figsize=(20, 8))\n",
    "plt.plot(cumulative_revenue_a['date'], cumulative_revenue_a['revenue'], label='A')\n",
    "\n",
    "plt.plot(cumulative_revenue_b['date'], cumulative_revenue_b['revenue'], label='B')\n",
    "\n",
    "plt.ylabel('revenue')\n",
    "plt.xlabel('date')\n",
    "plt.title('Динамика выручки групп А и В')\n",
    "plt.legend()\n",
    "plt.show()"
   ]
  },
  {
   "cell_type": "markdown",
   "metadata": {},
   "source": [
    "Выручка планомерно растет в течение теста, группа В показывает более высокий результат за весь изучаемый период. При этом после 17-08-2019 мы видим резкий скачок выручки группы В, это возможно с появлением аномально больших заказов."
   ]
  },
  {
   "cell_type": "markdown",
   "metadata": {},
   "source": [
    "Построим графики по среднему чеку групп А и В."
   ]
  },
  {
   "cell_type": "code",
   "execution_count": 31,
   "metadata": {},
   "outputs": [
    {
     "data": {
      "image/png": "[encoded data removed]",
      "text/plain": [
       "<Figure size 1440x576 with 1 Axes>"
      ]
     },
     "metadata": {
      "needs_background": "light"
     },
     "output_type": "display_data"
    }
   ],
   "source": [
    "plt.figure(figsize=(20, 8))\n",
    "plt.plot(\n",
    "    cumulative_revenue_a['date'], \n",
    "    cumulative_revenue_a['revenue']/cumulative_revenue_a['orders'], \n",
    "    label='A'\n",
    ")\n",
    "\n",
    "plt.plot(\n",
    "    cumulative_revenue_b['date'], \n",
    "    cumulative_revenue_b['revenue']/cumulative_revenue_b['orders'], \n",
    "    label='B'\n",
    ")\n",
    "\n",
    "plt.ylabel('total of the average check')\n",
    "plt.xlabel('date')\n",
    "plt.title('Динамика среднего чека групп А и В')\n",
    "plt.legend()\n",
    "plt.show()"
   ]
  },
  {
   "cell_type": "markdown",
   "metadata": {},
   "source": [
    "Средний чек имеет сильную волотильность в начале теста, поочередно меняясь местами группы А и В. Мы видим подтверждение наших выводов по графику динамики выручки, что в группе В был аномально большой заказ после 17-08-2019, что привело к резкому росту кумулятивного среднего чека и до конца тестирования графики больше не пересекались. Также мы видим, что к концу тестирования график среднего чека стабилизируется и становится более равномерным, по группе В видна тенденция к снижению среднего чека, а по группе А наоборот к росту."
   ]
  },
  {
   "cell_type": "markdown",
   "metadata": {},
   "source": [
    "Построим график относительного различия для среднего чека, для этого объеденим данные кумулятивной выручки групп А и В."
   ]
  },
  {
   "cell_type": "code",
   "execution_count": 32,
   "metadata": {},
   "outputs": [],
   "source": [
    "merged_cumulative_revenue = cumulative_revenue_a.merge(\n",
    "    cumulative_revenue_b, \n",
    "    on='date',\n",
    "    how='left', \n",
    "    suffixes=['A', 'B']\n",
    ")"
   ]
  },
  {
   "cell_type": "markdown",
   "metadata": {},
   "source": [
    "Выведем график."
   ]
  },
  {
   "cell_type": "code",
   "execution_count": 33,
   "metadata": {},
   "outputs": [
    {
     "data": {
      "image/png": "[encoded data removed]",
      "text/plain": [
       "<Figure size 1440x576 with 1 Axes>"
      ]
     },
     "metadata": {
      "needs_background": "light"
     },
     "output_type": "display_data"
    }
   ],
   "source": [
    "plt.figure(figsize=(20, 8))\n",
    "plt.plot(\n",
    "    merged_cumulative_revenue['date'], \n",
    "    (merged_cumulative_revenue['revenueB']/merged_cumulative_revenue['ordersB'])/(merged_cumulative_revenue['revenueA']/merged_cumulative_revenue['ordersA'])-1\n",
    ")\n",
    "\n",
    "plt.axhline(y=0, color='black', linestyle='--')\n",
    "plt.ylabel('ratio')\n",
    "plt.xlabel('date')\n",
    "plt.title('Динамика относительного различия для среднего чека групп А и В')\n",
    "plt.show()"
   ]
  },
  {
   "cell_type": "markdown",
   "metadata": {},
   "source": [
    "Наблюдаются значительные изменения графика в нескольких датах, скорее всего там и хранятся аномальные заказы."
   ]
  },
  {
   "cell_type": "markdown",
   "metadata": {},
   "source": [
    "Для анализа кумулятивной конверсии подготовим данные."
   ]
  },
  {
   "cell_type": "markdown",
   "metadata": {},
   "source": [
    "Расчитаем конверсию."
   ]
  },
  {
   "cell_type": "code",
   "execution_count": 34,
   "metadata": {},
   "outputs": [],
   "source": [
    "cumulative_data['conversion'] = cumulative_data['orders']/cumulative_data['visitors']"
   ]
  },
  {
   "cell_type": "markdown",
   "metadata": {},
   "source": [
    "Создадим переменную `cumulative_data_a`, куда схораним данные только по группе А."
   ]
  },
  {
   "cell_type": "code",
   "execution_count": 35,
   "metadata": {},
   "outputs": [],
   "source": [
    "cumulative_data_a = cumulative_data[cumulative_data['group']=='A']"
   ]
  },
  {
   "cell_type": "markdown",
   "metadata": {},
   "source": [
    "И повторим действие для группы В."
   ]
  },
  {
   "cell_type": "code",
   "execution_count": 36,
   "metadata": {},
   "outputs": [],
   "source": [
    "cumulative_data_b = cumulative_data[cumulative_data['group']=='B']"
   ]
  },
  {
   "cell_type": "markdown",
   "metadata": {},
   "source": [
    "Построим графики."
   ]
  },
  {
   "cell_type": "code",
   "execution_count": 37,
   "metadata": {},
   "outputs": [
    {
     "data": {
      "image/png": "[encoded data removed]",
      "text/plain": [
       "<Figure size 1440x576 with 1 Axes>"
      ]
     },
     "metadata": {
      "needs_background": "light"
     },
     "output_type": "display_data"
    }
   ],
   "source": [
    "plt.figure(figsize=(20, 8))\n",
    "\n",
    "plt.plot(cumulative_data_a['date'], cumulative_data_a['conversion'], label='A')\n",
    "plt.plot(cumulative_data_b['date'], cumulative_data_b['conversion'], label='B')\n",
    "\n",
    "plt.legend()\n",
    "plt.ylabel('cr')\n",
    "plt.xlabel('date')\n",
    "plt.title('График кумулятивной конверсии групп А и В')\n",
    "plt.axis([dt.date(2019,8,1), dt.date(2019,9,1), 0.022, 0.036]) \n",
    "plt.show()"
   ]
  },
  {
   "cell_type": "markdown",
   "metadata": {},
   "source": [
    "Практически с самого начала тестирования графики разделились, конверсия у группы В выше группы А, в среднем на 0.004. Конверсия группы А имеет тенденцию к снижению."
   ]
  },
  {
   "cell_type": "markdown",
   "metadata": {},
   "source": [
    "Для изучения графика относительного различия кумулятивных конверсий, объеденим данные по группам А и В."
   ]
  },
  {
   "cell_type": "code",
   "execution_count": 38,
   "metadata": {},
   "outputs": [],
   "source": [
    "merged_cumulative_conversions = cumulative_data_a[['date','conversion']].merge(\n",
    "    cumulative_data_b[['date','conversion']], \n",
    "    on='date', \n",
    "    how='left', \n",
    "    suffixes=['A', 'B']\n",
    ")"
   ]
  },
  {
   "cell_type": "markdown",
   "metadata": {},
   "source": [
    "Построим график."
   ]
  },
  {
   "cell_type": "code",
   "execution_count": 39,
   "metadata": {},
   "outputs": [
    {
     "data": {
      "image/png": "[encoded data removed]",
      "text/plain": [
       "<Figure size 1440x576 with 1 Axes>"
      ]
     },
     "metadata": {
      "needs_background": "light"
     },
     "output_type": "display_data"
    }
   ],
   "source": [
    "plt.figure(figsize=(20, 8))\n",
    "\n",
    "plt.plot(\n",
    "    merged_cumulative_conversions['date'], \n",
    "    merged_cumulative_conversions['conversionB']/merged_cumulative_conversions['conversionA']-1, \n",
    "    label=\"Относительный прирост конверсии группы B относительно группы A\"\n",
    ")\n",
    "\n",
    "plt.legend()\n",
    "plt.ylabel('ratio')\n",
    "plt.xlabel('date')\n",
    "plt.title('График относительного прироста конверсии группы B относительно группы A')\n",
    "plt.axhline(y=0, color='black', linestyle='--')\n",
    "plt.axhline(y=-0.1, color='grey', linestyle='--')\n",
    "plt.axis([dt.date(2019,8,1), dt.date(2019,9,1), -0.3, 0.3])\n",
    "plt.show()"
   ]
  },
  {
   "cell_type": "markdown",
   "metadata": {},
   "source": [
    "В начале теста конверсия группы В имела небольшую просадку относительно группы А, но затем вырвалась вверх. Имеет тенденцию к увеличению роста конверсии относитльно группы А."
   ]
  },
  {
   "cell_type": "markdown",
   "metadata": {},
   "source": [
    "Для формирования окончательных выводов требуется проанализировать аномалии, возможно, они изменят наши суждения."
   ]
  },
  {
   "cell_type": "markdown",
   "metadata": {},
   "source": [
    "### Изучение аномалий"
   ]
  },
  {
   "cell_type": "markdown",
   "metadata": {},
   "source": [
    "Изучим наши данные на аномалии, которые могут искажать результаты A/B-теста. "
   ]
  },
  {
   "cell_type": "markdown",
   "metadata": {},
   "source": [
    "Соберем информацию количества заказов по пользователям."
   ]
  },
  {
   "cell_type": "code",
   "execution_count": 40,
   "metadata": {},
   "outputs": [],
   "source": [
    "orders_by_users = (\n",
    "    orders.groupby('visitor_id', as_index=False)\n",
    "    .agg({'transaction_id': 'nunique'})\n",
    ")"
   ]
  },
  {
   "cell_type": "markdown",
   "metadata": {},
   "source": [
    "Переименуем названия столбцов."
   ]
  },
  {
   "cell_type": "code",
   "execution_count": 41,
   "metadata": {},
   "outputs": [],
   "source": [
    "orders_by_users.columns = ['visitor_id', 'orders']"
   ]
  },
  {
   "cell_type": "code",
   "execution_count": 42,
   "metadata": {},
   "outputs": [
    {
     "data": {
      "text/html": [
       "<div>\n",
       "<style scoped>\n",
       "    .dataframe tbody tr th:only-of-type {\n",
       "        vertical-align: middle;\n",
       "    }\n",
       "\n",
       "    .dataframe tbody tr th {\n",
       "        vertical-align: top;\n",
       "    }\n",
       "\n",
       "    .dataframe thead th {\n",
       "        text-align: right;\n",
       "    }\n",
       "</style>\n",
       "<table border=\"1\" class=\"dataframe\">\n",
       "  <thead>\n",
       "    <tr style=\"text-align: right;\">\n",
       "      <th></th>\n",
       "      <th>visitor_id</th>\n",
       "      <th>orders</th>\n",
       "    </tr>\n",
       "  </thead>\n",
       "  <tbody>\n",
       "    <tr>\n",
       "      <th>0</th>\n",
       "      <td>5114589</td>\n",
       "      <td>1</td>\n",
       "    </tr>\n",
       "    <tr>\n",
       "      <th>1</th>\n",
       "      <td>6958315</td>\n",
       "      <td>1</td>\n",
       "    </tr>\n",
       "    <tr>\n",
       "      <th>2</th>\n",
       "      <td>11685486</td>\n",
       "      <td>1</td>\n",
       "    </tr>\n",
       "    <tr>\n",
       "      <th>3</th>\n",
       "      <td>39475350</td>\n",
       "      <td>1</td>\n",
       "    </tr>\n",
       "    <tr>\n",
       "      <th>4</th>\n",
       "      <td>47206413</td>\n",
       "      <td>1</td>\n",
       "    </tr>\n",
       "    <tr>\n",
       "      <th>...</th>\n",
       "      <td>...</td>\n",
       "      <td>...</td>\n",
       "    </tr>\n",
       "    <tr>\n",
       "      <th>968</th>\n",
       "      <td>4259830713</td>\n",
       "      <td>1</td>\n",
       "    </tr>\n",
       "    <tr>\n",
       "      <th>969</th>\n",
       "      <td>4278982564</td>\n",
       "      <td>1</td>\n",
       "    </tr>\n",
       "    <tr>\n",
       "      <th>970</th>\n",
       "      <td>4279090005</td>\n",
       "      <td>1</td>\n",
       "    </tr>\n",
       "    <tr>\n",
       "      <th>971</th>\n",
       "      <td>4281247801</td>\n",
       "      <td>1</td>\n",
       "    </tr>\n",
       "    <tr>\n",
       "      <th>972</th>\n",
       "      <td>4283872382</td>\n",
       "      <td>1</td>\n",
       "    </tr>\n",
       "  </tbody>\n",
       "</table>\n",
       "<p>973 rows × 2 columns</p>\n",
       "</div>"
      ],
      "text/plain": [
       "     visitor_id  orders\n",
       "0       5114589       1\n",
       "1       6958315       1\n",
       "2      11685486       1\n",
       "3      39475350       1\n",
       "4      47206413       1\n",
       "..          ...     ...\n",
       "968  4259830713       1\n",
       "969  4278982564       1\n",
       "970  4279090005       1\n",
       "971  4281247801       1\n",
       "972  4283872382       1\n",
       "\n",
       "[973 rows x 2 columns]"
      ]
     },
     "execution_count": 42,
     "metadata": {},
     "output_type": "execute_result"
    }
   ],
   "source": [
    "orders_by_users"
   ]
  },
  {
   "cell_type": "markdown",
   "metadata": {},
   "source": [
    "Построим точечный график."
   ]
  },
  {
   "cell_type": "code",
   "execution_count": 43,
   "metadata": {},
   "outputs": [
    {
     "data": {
      "image/png": "[encoded data removed]",
      "text/plain": [
       "<Figure size 1440x576 with 1 Axes>"
      ]
     },
     "metadata": {
      "needs_background": "light"
     },
     "output_type": "display_data"
    }
   ],
   "source": [
    "plt.figure(figsize=(20, 8))\n",
    "\n",
    "x_values = pd.Series(range(0, len(orders_by_users)))\n",
    "\n",
    "plt.scatter(x_values, orders_by_users['orders'])\n",
    "\n",
    "plt.ylabel('number of orders')\n",
    "plt.xlabel('visitor index')\n",
    "plt.title('Диаграмма рассеяния количества заказов по пользователям')\n",
    "plt.show()"
   ]
  },
  {
   "cell_type": "markdown",
   "metadata": {},
   "source": [
    "Большинство пользователей делают не больше одного заказа, но не малое количество пользователей делают и два заказа. Остальные скорее всего будут выбросы. Для того чтобы убедиться в этом посмторим, какое количество заказов делают пользоваттели от 1 до 5 процентов крайних значений."
   ]
  },
  {
   "cell_type": "markdown",
   "metadata": {},
   "source": [
    "Посчитаем процентили количества заказов."
   ]
  },
  {
   "cell_type": "code",
   "execution_count": 44,
   "metadata": {},
   "outputs": [
    {
     "data": {
      "text/plain": [
       "array([1., 2.])"
      ]
     },
     "execution_count": 44,
     "metadata": {},
     "output_type": "execute_result"
    }
   ],
   "source": [
    "np.percentile(orders_by_users['orders'], [95, 99])"
   ]
  },
  {
   "cell_type": "markdown",
   "metadata": {},
   "source": [
    "Не более 5% пользователей оформляли свыше 1 заказов, в свыше 2 заказов не более 1%. Логично будет удалить пользователей с заказами количество которых составляет более двух."
   ]
  },
  {
   "cell_type": "markdown",
   "metadata": {},
   "source": [
    "Изучим стоимости заказов, для этого построим диаграмму рассеяния."
   ]
  },
  {
   "cell_type": "code",
   "execution_count": 45,
   "metadata": {},
   "outputs": [
    {
     "data": {
      "image/png": "[encoded data removed]",
      "text/plain": [
       "<Figure size 1440x576 with 1 Axes>"
      ]
     },
     "metadata": {
      "needs_background": "light"
     },
     "output_type": "display_data"
    }
   ],
   "source": [
    "plt.figure(figsize=(20, 8))\n",
    "\n",
    "x_values = pd.Series(range(0, len(orders['revenue'])))\n",
    "\n",
    "plt.scatter(x_values, orders['revenue'])\n",
    "\n",
    "plt.ylabel('revenue per order')\n",
    "plt.xlabel('order index')\n",
    "plt.title('Диаграмма рассеяния стоимости заказов')\n",
    "plt.show()"
   ]
  },
  {
   "cell_type": "markdown",
   "metadata": {},
   "source": [
    "На графике видны явные выбросы которые точно повлияют на результаты теста, из-за заказа стоимостью более 1.2 млн. у.е., мы не можем по графику определить какая сумма заказа является нормой. Для выявления выбросов определим процентили. "
   ]
  },
  {
   "cell_type": "code",
   "execution_count": 46,
   "metadata": {},
   "outputs": [
    {
     "data": {
      "text/plain": [
       "array([26785., 53904.])"
      ]
     },
     "execution_count": 46,
     "metadata": {},
     "output_type": "execute_result"
    }
   ],
   "source": [
    "np.percentile(orders['revenue'], [95, 99])"
   ]
  },
  {
   "cell_type": "markdown",
   "metadata": {},
   "source": [
    "Не более 5% заказов превышают 26 785 у.е. и не более 1% превышают 53 904 у.е., будем считать, что граница \"нормальных\" заказов заканчивается на стоимости до 50 000 у.е."
   ]
  },
  {
   "cell_type": "markdown",
   "metadata": {},
   "source": [
    "### Расчет статистической значимости"
   ]
  },
  {
   "cell_type": "markdown",
   "metadata": {},
   "source": [
    "Посчитаем статистическую значимость различий в конверсии между группами по «сырым» данным. \n",
    "Сформулируем гипотезы. Нулевая: различий в конверсии между группами нет. Альтернативная: различия в конверсии между группами есть.\n",
    "Для этого начнем с подготовки данных."
   ]
  },
  {
   "cell_type": "markdown",
   "metadata": {},
   "source": [
    "Соберем данные по кумулятивному количеству посетителей из группы А на каждый день."
   ]
  },
  {
   "cell_type": "code",
   "execution_count": 47,
   "metadata": {},
   "outputs": [],
   "source": [
    "visitors_a_daily = visitors[visitors['group'] == 'A'][['date', 'visitors']]\n",
    "visitors_a_daily.columns = ['date', 'visitors_per_date_a']\n",
    "\n",
    "visitors_a_cummulative = visitors_a_daily.apply(\n",
    "    lambda x: visitors_a_daily[visitors_a_daily['date'] <= x['date']].agg(\n",
    "        {'date': 'max', 'visitors_per_date_a': 'sum'}\n",
    "    ),\n",
    "    axis=1,\n",
    ")\n",
    "\n",
    "visitors_a_cummulative.columns = ['date', 'visitors_cummulative_a']"
   ]
  },
  {
   "cell_type": "markdown",
   "metadata": {},
   "source": [
    "Повторим действия для группы В."
   ]
  },
  {
   "cell_type": "code",
   "execution_count": 48,
   "metadata": {},
   "outputs": [],
   "source": [
    "visitors_b_daily = visitors[visitors['group'] == 'B'][['date', 'visitors']]\n",
    "visitors_b_daily.columns = ['date', 'visitors_per_date_b']\n",
    "\n",
    "visitors_b_cummulative = visitors_b_daily.apply(\n",
    "    lambda x: visitors_b_daily[visitors_b_daily['date'] <= x['date']].agg(\n",
    "        {'date': 'max', 'visitors_per_date_b': 'sum'}\n",
    "    ),\n",
    "    axis=1,\n",
    ")\n",
    "visitors_b_cummulative.columns = ['date', 'visitors_cummulative_b']"
   ]
  },
  {
   "cell_type": "markdown",
   "metadata": {},
   "source": [
    "Теперь соберем данные по кумулятивной выручке на каждый день по группе А."
   ]
  },
  {
   "cell_type": "code",
   "execution_count": 49,
   "metadata": {},
   "outputs": [],
   "source": [
    "orders_a_daily = (\n",
    "    orders[orders['group'] == 'A'][['date', 'transaction_id', 'visitor_id', 'revenue']]\n",
    "    .groupby('date', as_index=False)\n",
    "    .agg({'transaction_id': pd.Series.nunique, 'revenue': 'sum'})\n",
    ")\n",
    "orders_a_daily.columns = ['date', 'orders_per_date_a', 'revenue_per_date_a']\n",
    "\n",
    "orders_a_cummulative = orders_a_daily.apply(\n",
    "    lambda x: orders_a_daily[orders_a_daily['date'] <= x['date']].agg(\n",
    "        {'date': 'max', 'orders_per_date_a': 'sum', 'revenue_per_date_a': 'sum'}\n",
    "    ),\n",
    "    axis=1,\n",
    ").sort_values(by=['date'])\n",
    "\n",
    "orders_a_cummulative.columns = [\n",
    "    'date',\n",
    "    'orders_cummulative_a',\n",
    "    'revenue_cummulative_a',\n",
    "]"
   ]
  },
  {
   "cell_type": "markdown",
   "metadata": {},
   "source": [
    "И повторим для группы В."
   ]
  },
  {
   "cell_type": "code",
   "execution_count": 50,
   "metadata": {},
   "outputs": [],
   "source": [
    "orders_b_daily = (\n",
    "    orders[orders['group'] == 'B'][['date', 'transaction_id', 'visitor_id', 'revenue']]\n",
    "    .groupby('date', as_index=False)\n",
    "    .agg({'transaction_id': pd.Series.nunique, 'revenue': 'sum'})\n",
    ")\n",
    "orders_b_daily.columns = ['date', 'orders_per_date_b', 'revenue_per_date_b']\n",
    "\n",
    "orders_b_cummulative = orders_b_daily.apply(\n",
    "    lambda x: orders_b_daily[orders_b_daily['date'] <= x['date']].agg(\n",
    "        {'date': 'max', 'orders_per_date_b': 'sum', 'revenue_per_date_b': 'sum'}\n",
    "    ),\n",
    "    axis=1,\n",
    ").sort_values(by=['date'])\n",
    "\n",
    "orders_b_cummulative.columns = [\n",
    "    'date',\n",
    "    'orders_cummulative_b',\n",
    "    'revenue_cummulative_b',\n",
    "]"
   ]
  },
  {
   "cell_type": "markdown",
   "metadata": {},
   "source": [
    "Соберем полученные данные и запишем в переменную `data`."
   ]
  },
  {
   "cell_type": "code",
   "execution_count": 51,
   "metadata": {},
   "outputs": [],
   "source": [
    "data = (\n",
    "    orders_a_daily.merge(\n",
    "        orders_b_daily, left_on='date', right_on='date', how='left'\n",
    "    )\n",
    "    .merge(orders_a_cummulative, left_on='date', right_on='date', how='left')\n",
    "    .merge(orders_b_cummulative, left_on='date', right_on='date', how='left')\n",
    "    .merge(visitors_a_daily, left_on='date', right_on='date', how='left')\n",
    "    .merge(visitors_b_daily, left_on='date', right_on='date', how='left')\n",
    "    .merge(visitors_a_cummulative, left_on='date', right_on='date', how='left')\n",
    "    .merge(visitors_b_cummulative, left_on='date', right_on='date', how='left')\n",
    ")"
   ]
  },
  {
   "cell_type": "markdown",
   "metadata": {},
   "source": [
    "Выведем результат на экран."
   ]
  },
  {
   "cell_type": "code",
   "execution_count": 52,
   "metadata": {},
   "outputs": [
    {
     "data": {
      "text/html": [
       "<div>\n",
       "<style scoped>\n",
       "    .dataframe tbody tr th:only-of-type {\n",
       "        vertical-align: middle;\n",
       "    }\n",
       "\n",
       "    .dataframe tbody tr th {\n",
       "        vertical-align: top;\n",
       "    }\n",
       "\n",
       "    .dataframe thead th {\n",
       "        text-align: right;\n",
       "    }\n",
       "</style>\n",
       "<table border=\"1\" class=\"dataframe\">\n",
       "  <thead>\n",
       "    <tr style=\"text-align: right;\">\n",
       "      <th></th>\n",
       "      <th>date</th>\n",
       "      <th>orders_per_date_a</th>\n",
       "      <th>revenue_per_date_a</th>\n",
       "      <th>orders_per_date_b</th>\n",
       "      <th>revenue_per_date_b</th>\n",
       "      <th>orders_cummulative_a</th>\n",
       "      <th>revenue_cummulative_a</th>\n",
       "      <th>orders_cummulative_b</th>\n",
       "      <th>revenue_cummulative_b</th>\n",
       "      <th>visitors_per_date_a</th>\n",
       "      <th>visitors_per_date_b</th>\n",
       "      <th>visitors_cummulative_a</th>\n",
       "      <th>visitors_cummulative_b</th>\n",
       "    </tr>\n",
       "  </thead>\n",
       "  <tbody>\n",
       "    <tr>\n",
       "      <th>0</th>\n",
       "      <td>2019-08-01</td>\n",
       "      <td>23</td>\n",
       "      <td>142779</td>\n",
       "      <td>17</td>\n",
       "      <td>59758</td>\n",
       "      <td>23</td>\n",
       "      <td>142779</td>\n",
       "      <td>17</td>\n",
       "      <td>59758</td>\n",
       "      <td>719</td>\n",
       "      <td>713</td>\n",
       "      <td>719</td>\n",
       "      <td>713</td>\n",
       "    </tr>\n",
       "    <tr>\n",
       "      <th>1</th>\n",
       "      <td>2019-08-02</td>\n",
       "      <td>19</td>\n",
       "      <td>91602</td>\n",
       "      <td>23</td>\n",
       "      <td>162043</td>\n",
       "      <td>42</td>\n",
       "      <td>234381</td>\n",
       "      <td>40</td>\n",
       "      <td>221801</td>\n",
       "      <td>619</td>\n",
       "      <td>581</td>\n",
       "      <td>1338</td>\n",
       "      <td>1294</td>\n",
       "    </tr>\n",
       "    <tr>\n",
       "      <th>2</th>\n",
       "      <td>2019-08-03</td>\n",
       "      <td>24</td>\n",
       "      <td>112473</td>\n",
       "      <td>14</td>\n",
       "      <td>67049</td>\n",
       "      <td>66</td>\n",
       "      <td>346854</td>\n",
       "      <td>54</td>\n",
       "      <td>288850</td>\n",
       "      <td>507</td>\n",
       "      <td>509</td>\n",
       "      <td>1845</td>\n",
       "      <td>1803</td>\n",
       "    </tr>\n",
       "    <tr>\n",
       "      <th>3</th>\n",
       "      <td>2019-08-04</td>\n",
       "      <td>11</td>\n",
       "      <td>41176</td>\n",
       "      <td>14</td>\n",
       "      <td>96890</td>\n",
       "      <td>77</td>\n",
       "      <td>388030</td>\n",
       "      <td>68</td>\n",
       "      <td>385740</td>\n",
       "      <td>717</td>\n",
       "      <td>770</td>\n",
       "      <td>2562</td>\n",
       "      <td>2573</td>\n",
       "    </tr>\n",
       "    <tr>\n",
       "      <th>4</th>\n",
       "      <td>2019-08-05</td>\n",
       "      <td>22</td>\n",
       "      <td>86383</td>\n",
       "      <td>21</td>\n",
       "      <td>89908</td>\n",
       "      <td>99</td>\n",
       "      <td>474413</td>\n",
       "      <td>89</td>\n",
       "      <td>475648</td>\n",
       "      <td>756</td>\n",
       "      <td>707</td>\n",
       "      <td>3318</td>\n",
       "      <td>3280</td>\n",
       "    </tr>\n",
       "  </tbody>\n",
       "</table>\n",
       "</div>"
      ],
      "text/plain": [
       "        date  orders_per_date_a  revenue_per_date_a  orders_per_date_b  \\\n",
       "0 2019-08-01                 23              142779                 17   \n",
       "1 2019-08-02                 19               91602                 23   \n",
       "2 2019-08-03                 24              112473                 14   \n",
       "3 2019-08-04                 11               41176                 14   \n",
       "4 2019-08-05                 22               86383                 21   \n",
       "\n",
       "   revenue_per_date_b  orders_cummulative_a  revenue_cummulative_a  \\\n",
       "0               59758                    23                 142779   \n",
       "1              162043                    42                 234381   \n",
       "2               67049                    66                 346854   \n",
       "3               96890                    77                 388030   \n",
       "4               89908                    99                 474413   \n",
       "\n",
       "   orders_cummulative_b  revenue_cummulative_b  visitors_per_date_a  \\\n",
       "0                    17                  59758                  719   \n",
       "1                    40                 221801                  619   \n",
       "2                    54                 288850                  507   \n",
       "3                    68                 385740                  717   \n",
       "4                    89                 475648                  756   \n",
       "\n",
       "   visitors_per_date_b  visitors_cummulative_a  visitors_cummulative_b  \n",
       "0                  713                     719                     713  \n",
       "1                  581                    1338                    1294  \n",
       "2                  509                    1845                    1803  \n",
       "3                  770                    2562                    2573  \n",
       "4                  707                    3318                    3280  "
      ]
     },
     "execution_count": 52,
     "metadata": {},
     "output_type": "execute_result"
    }
   ],
   "source": [
    "data.head()"
   ]
  },
  {
   "cell_type": "markdown",
   "metadata": {},
   "source": [
    "Также для расчета статистической значимости различия в конверсии между группами, потребуется создать переменные с данными пользователей, которые заказывали хотя бы 1 раз и количеством их заказов."
   ]
  },
  {
   "cell_type": "markdown",
   "metadata": {},
   "source": [
    "Для групппы А."
   ]
  },
  {
   "cell_type": "code",
   "execution_count": 53,
   "metadata": {},
   "outputs": [],
   "source": [
    "orders_by_users_a = (\n",
    "    orders[orders['group'] == 'A']\n",
    "    .groupby('visitor_id', as_index=False)\n",
    "    .agg({'transaction_id': pd.Series.nunique})\n",
    ")\n",
    "orders_by_users_a.columns = ['visitor_id', 'orders']"
   ]
  },
  {
   "cell_type": "markdown",
   "metadata": {},
   "source": [
    "И для группы В."
   ]
  },
  {
   "cell_type": "code",
   "execution_count": 54,
   "metadata": {},
   "outputs": [],
   "source": [
    "orders_by_users_b = (\n",
    "    orders[orders['group'] == 'B']\n",
    "    .groupby('visitor_id', as_index=False)\n",
    "    .agg({'transaction_id': pd.Series.nunique})\n",
    ")\n",
    "orders_by_users_b.columns = ['visitor_id', 'orders'] "
   ]
  },
  {
   "cell_type": "markdown",
   "metadata": {},
   "source": [
    "Объявим переменные sample_a и sample_b, в которых пользователям будет соответствовать количество заказов. Тем, кто ничего не заказал, будут соответствовать нули. "
   ]
  },
  {
   "cell_type": "code",
   "execution_count": 55,
   "metadata": {},
   "outputs": [],
   "source": [
    "#Группа А\n",
    "sample_a = pd.concat(\n",
    "    [\n",
    "        orders_by_users_a['orders'],\n",
    "        pd.Series(\n",
    "            0, \n",
    "            index=np.arange(data['visitors_per_date_a'].sum() - len(orders_by_users_a['orders'])), \n",
    "            name='orders'\n",
    "        )\n",
    "    ],axis=0\n",
    ")\n",
    "\n",
    "#Группа В\n",
    "sample_b = pd.concat(\n",
    "    [\n",
    "        orders_by_users_b['orders'],pd.Series(\n",
    "            0, \n",
    "            index=np.arange(data['visitors_per_date_b'].sum() - len(orders_by_users_b['orders'])), \n",
    "            name='orders'\n",
    "        )\n",
    "    ],axis=0\n",
    ") "
   ]
  },
  {
   "cell_type": "markdown",
   "metadata": {},
   "source": [
    "Применим U критерий Манна-Уитни."
   ]
  },
  {
   "cell_type": "code",
   "execution_count": 56,
   "metadata": {},
   "outputs": [
    {
     "data": {
      "text/plain": [
       "'0.011'"
      ]
     },
     "execution_count": 56,
     "metadata": {},
     "output_type": "execute_result"
    }
   ],
   "source": [
    "'{0:.3f}'.format(stats.mannwhitneyu(sample_a, sample_b, alternative=\"two-sided\")[1])"
   ]
  },
  {
   "cell_type": "markdown",
   "metadata": {},
   "source": [
    "Расчитаем относительный прирост конверсии группы B."
   ]
  },
  {
   "cell_type": "code",
   "execution_count": 57,
   "metadata": {},
   "outputs": [
    {
     "data": {
      "text/plain": [
       "'0.160'"
      ]
     },
     "execution_count": 57,
     "metadata": {},
     "output_type": "execute_result"
    }
   ],
   "source": [
    "'{0:.3f}'.format(sample_b.mean() / sample_a.mean() - 1)"
   ]
  },
  {
   "cell_type": "markdown",
   "metadata": {},
   "source": [
    "P-value равен 0.011 - это ниже порогового значения 0.05, а значит мы опровергаем нулевую гипотезу о том, что различий в конверсии между группами нет. Также это подтверждает относительный прирост конверсии группы В на 16% "
   ]
  },
  {
   "cell_type": "markdown",
   "metadata": {},
   "source": [
    "Теперь проверим статистическую значимость различий в среднем чеке между группами по \"сырым\" данным. Нулевая гипотеза: различий в среднем чеке между группами нет. Альтернативная гипотеза: различия в среднем чеке между группами есть."
   ]
  },
  {
   "cell_type": "markdown",
   "metadata": {},
   "source": [
    "Применим U критерий Манна-Уитни."
   ]
  },
  {
   "cell_type": "code",
   "execution_count": 58,
   "metadata": {},
   "outputs": [
    {
     "data": {
      "text/plain": [
       "'0.829'"
      ]
     },
     "execution_count": 58,
     "metadata": {},
     "output_type": "execute_result"
    }
   ],
   "source": [
    "'{0:.3f}'.format(stats.mannwhitneyu(\n",
    "    orders[orders['group']=='A']['revenue'],\n",
    "    orders[orders['group']=='B']['revenue'],\n",
    "    alternative=\"two-sided\"\n",
    ")[1])"
   ]
  },
  {
   "cell_type": "markdown",
   "metadata": {},
   "source": [
    "А также найдём относительные различия в среднем чеке между группами."
   ]
  },
  {
   "cell_type": "code",
   "execution_count": 59,
   "metadata": {},
   "outputs": [
    {
     "data": {
      "text/plain": [
       "'0.287'"
      ]
     },
     "execution_count": 59,
     "metadata": {},
     "output_type": "execute_result"
    }
   ],
   "source": [
    "'{0:.3f}'.format(\n",
    "    orders[orders['group']=='B']['revenue'].mean()/orders[orders['group']=='A']['revenue'].mean()-1\n",
    ") "
   ]
  },
  {
   "cell_type": "markdown",
   "metadata": {},
   "source": [
    "P-value равен 0.829, что сильно выше порогового значения 0.05, а значит нет причин отвергать нулевую гипотезу о том, что различий в среднем чеке между группами нет. Однако средний чек группы В выше чека группы А на 28.7%.<br> На эти показатели влияют ранее найденые аномалии. При анализе выбросов мы приняли решение, что будем считать границу \"нормальных\" заказов заканчивающуюся на стоимости до 50 000 у.е., а также считать аномальными значениями пользователей совершивших больше двух заказов."
   ]
  },
  {
   "cell_type": "markdown",
   "metadata": {},
   "source": [
    "Для очищения данных от выбросов, сохраним id посетителей, которые совершили более 2 заказов, а также тех чьи заказы превышали 50 000 у.е."
   ]
  },
  {
   "cell_type": "code",
   "execution_count": 60,
   "metadata": {},
   "outputs": [],
   "source": [
    "users_with_many_orders = pd.concat(\n",
    "    [\n",
    "        orders_by_users_a[orders_by_users_a['orders'] > 2]['visitor_id'],\n",
    "        orders_by_users_b[orders_by_users_b['orders'] > 2]['visitor_id'],\n",
    "    ],\n",
    "    axis=0,\n",
    ")\n",
    "\n",
    "users_with_expensive_orders = orders[orders['revenue'] > 50000]['visitor_id']\n",
    "\n",
    "abnormal_users = (\n",
    "    pd.concat([users_with_many_orders, users_with_expensive_orders], axis=0)\n",
    "    .drop_duplicates()\n",
    "    .sort_values()\n",
    ")"
   ]
  },
  {
   "cell_type": "markdown",
   "metadata": {},
   "source": [
    "Выведем результат на экран."
   ]
  },
  {
   "cell_type": "code",
   "execution_count": 61,
   "metadata": {},
   "outputs": [
    {
     "data": {
      "text/plain": [
       "937    148427295\n",
       "33     249864742\n",
       "58     611059232\n",
       "972    759473111\n",
       "811    887908475\n",
       "Name: visitor_id, dtype: int64"
      ]
     },
     "execution_count": 61,
     "metadata": {},
     "output_type": "execute_result"
    }
   ],
   "source": [
    "abnormal_users.head()"
   ]
  },
  {
   "cell_type": "markdown",
   "metadata": {},
   "source": [
    "Посчитаем количество таких пользователей."
   ]
  },
  {
   "cell_type": "code",
   "execution_count": 62,
   "metadata": {},
   "outputs": [
    {
     "data": {
      "text/plain": [
       "22"
      ]
     },
     "execution_count": 62,
     "metadata": {},
     "output_type": "execute_result"
    }
   ],
   "source": [
    "len(abnormal_users)"
   ]
  },
  {
   "cell_type": "markdown",
   "metadata": {},
   "source": [
    "Всего 22 аномальных пользователя. По собранным пользователям отфильтруем данные для расчета статистической значимости."
   ]
  },
  {
   "cell_type": "code",
   "execution_count": 63,
   "metadata": {},
   "outputs": [],
   "source": [
    "#Группа А\n",
    "sample_a_filtered = pd.concat(\n",
    "    [\n",
    "        orders_by_users_a[\n",
    "            np.logical_not(orders_by_users_a['visitor_id'].isin(abnormal_users))\n",
    "        ]['orders'],\n",
    "        pd.Series(\n",
    "            0,\n",
    "            index=np.arange(\n",
    "                data['visitors_per_date_a'].sum() - len(orders_by_users_a['orders'])\n",
    "            ),\n",
    "            name='orders',\n",
    "        ),\n",
    "    ],\n",
    "    axis=0,\n",
    ")\n",
    "\n",
    "#Группа В\n",
    "sample_b_filtered = pd.concat(\n",
    "    [\n",
    "        orders_by_users_b[\n",
    "            np.logical_not(orders_by_users_b['visitor_id'].isin(abnormal_users))\n",
    "        ]['orders'],\n",
    "        pd.Series(\n",
    "            0,\n",
    "            index=np.arange(\n",
    "                data['visitors_per_date_b'].sum() - len(orders_by_users_b['orders'])\n",
    "            ),\n",
    "            name='orders',\n",
    "        ),\n",
    "    ],\n",
    "    axis=0,\n",
    ") "
   ]
  },
  {
   "cell_type": "markdown",
   "metadata": {},
   "source": [
    "Применим U критерий Манна-Уитни к очищенным данным."
   ]
  },
  {
   "cell_type": "code",
   "execution_count": 64,
   "metadata": {},
   "outputs": [
    {
     "data": {
      "text/plain": [
       "'0.006'"
      ]
     },
     "execution_count": 64,
     "metadata": {},
     "output_type": "execute_result"
    }
   ],
   "source": [
    "'{0:.3f}'.format(stats.mannwhitneyu(sample_a_filtered, sample_b_filtered, alternative=\"two-sided\")[1])"
   ]
  },
  {
   "cell_type": "markdown",
   "metadata": {},
   "source": [
    "Также по очищенным данным расчитаем относительный прирост конверсии группы B."
   ]
  },
  {
   "cell_type": "code",
   "execution_count": 65,
   "metadata": {},
   "outputs": [
    {
     "data": {
      "text/plain": [
       "'-0.165'"
      ]
     },
     "execution_count": 65,
     "metadata": {},
     "output_type": "execute_result"
    }
   ],
   "source": [
    "'{0:.3f}'.format(sample_a_filtered.mean()/sample_b_filtered.mean()-1)"
   ]
  },
  {
   "cell_type": "markdown",
   "metadata": {},
   "source": [
    "P-value практически не изменился и немного снизился до 0.006. А вот отностительный прирост после удаления аномальных значений уменьшился в два раза, теперь он отрицательный, а значит пользователи группы А конвертируются лучше. Нулевую гипотезу о равенстве отвергаем, также как и в случае с сырыми данными."
   ]
  },
  {
   "cell_type": "markdown",
   "metadata": {},
   "source": [
    "Теперь изучим как очищение данных повлияло на статистическую значимость среднего чека."
   ]
  },
  {
   "cell_type": "markdown",
   "metadata": {},
   "source": [
    "Применим U критерий Манна-Уитни."
   ]
  },
  {
   "cell_type": "code",
   "execution_count": 66,
   "metadata": {},
   "outputs": [
    {
     "data": {
      "text/plain": [
       "'0.939'"
      ]
     },
     "execution_count": 66,
     "metadata": {},
     "output_type": "execute_result"
    }
   ],
   "source": [
    "'{0:.3f}'.format(\n",
    "        stats.mannwhitneyu(\n",
    "            orders[\n",
    "                np.logical_and(\n",
    "                    orders['group'] == 'A',\n",
    "                    np.logical_not(orders['visitor_id'].isin(abnormal_users)),\n",
    "                )\n",
    "            ]['revenue'],\n",
    "            orders[\n",
    "                np.logical_and(\n",
    "                    orders['group'] == 'B',\n",
    "                    np.logical_not(orders['visitor_id'].isin(abnormal_users)),\n",
    "                )\n",
    "            ]['revenue'],\n",
    "            alternative=\"two-sided\"\n",
    "        )[1]\n",
    ")"
   ]
  },
  {
   "cell_type": "markdown",
   "metadata": {},
   "source": [
    "И расчитаем относительный прирост."
   ]
  },
  {
   "cell_type": "code",
   "execution_count": 67,
   "metadata": {},
   "outputs": [
    {
     "data": {
      "text/plain": [
       "'0.011'"
      ]
     },
     "execution_count": 67,
     "metadata": {},
     "output_type": "execute_result"
    }
   ],
   "source": [
    "'{0:.3f}'.format(\n",
    "        orders[\n",
    "            np.logical_and(\n",
    "                orders['group'] == 'B',\n",
    "                np.logical_not(orders['visitor_id'].isin(abnormal_users)),\n",
    "            )\n",
    "        ]['revenue'].mean()\n",
    "        / orders[\n",
    "            np.logical_and(\n",
    "                orders['group'] == 'A',\n",
    "                np.logical_not(orders['visitor_id'].isin(abnormal_users)),\n",
    "            )\n",
    "        ]['revenue'].mean()\n",
    "        - 1\n",
    ")"
   ]
  },
  {
   "cell_type": "markdown",
   "metadata": {},
   "source": [
    "После очищения данных, результаты теста значительно изменились. P-value вырос еще больше, значит нулевую гипотезу не отвергаем, а результат расчета относительного прироста сильно приюлизился к группе А."
   ]
  },
  {
   "cell_type": "markdown",
   "metadata": {},
   "source": [
    "### Вывод"
   ]
  },
  {
   "cell_type": "markdown",
   "metadata": {},
   "source": [
    "Проведенный анализ показал, что:"
   ]
  },
  {
   "cell_type": "markdown",
   "metadata": {},
   "source": [
    "- Статистическая значимость равенста конверсий групп А и В крайне низка, мы не можем утверждать, что они равны, ни по \"сырым\" данным, ни по отфильтрованным;\n",
    "- Нет статистически значимого различия по среднему чеку между группами ни по «сырым», ни по данным после фильтрации аномалий;\n",
    "- По относительным показателям отфильтрованных данных конверсия группы В ниже, чем у группы А, а по среднему чеку показатели практически сравнялись, превосходство группы В на 1.1%;\n",
    "- В связи с тем, что относительные показатели не высокие, а p-value по \"сырым\" и отфильрованным данным показывает тот же результат, мы принимаем решение о прекращении теста, вероятность, что результаты группы В будут сильно выше группы А, крайне низка."
   ]
  },
  {
   "cell_type": "markdown",
   "metadata": {},
   "source": [
    "## Общий вывод"
   ]
  },
  {
   "cell_type": "markdown",
   "metadata": {},
   "source": [
    "Цель данного проекта состояла в приоритизации гипотез и анализе А/В теста.\n",
    "Мы прочитали полученные датасеты с информацией о выдвинутых гипотезах и данных о проведенном А/В тесте, и записали их в переменные `hypothesis`, `orders` и `visitors`.<br>\n",
    "Изучили полученную информацию:\n",
    "- Датафрейм `hypothesis` содержит информацию о выдвинутых гипотезах, а также об оценке этих гипотез по 10-ти бальной шкале по методу RICE. Информация содержится в 5 столбцах и 9 строках. В данных отсутвуют пропуски и дубликаты, названия столбцов мы привели к нижнему регистру;<br>\n",
    "- Датафрейм orders одержит информацию о заказах. Информация содержится в 5 столбцах и 1197 строках. В данных отсутвуют пропуски и полные дубликаты, однако есть пользователи, которые попали в обе группы, мы удалили 181 строку с данными по заказам \"задвоенных\" пользователей, это достаточно большой пласт информации, 15% от начального датафрейма, однако теперь мы можем быть уверены в правильности будущих результатов анализа А/В теста. Также названия столбцов мы привели к принятым стандартам, а данные из колонки date преобразовали в тип date;<br>\n",
    "- Датафрейм `visitors` одержит информацию о количестве посетителей интернет-магазина на определенную дату. Информация содержится в 3 столбцах и 62 строках. В данных отсутвуют пропуски и дубликаты. Данные из колонки **date** преобразовали в тип date.<br><br>\n",
    "\n",
    "Затем мы приоритизировали гипотезы. Сперва с помощью фреймворка ICE, изучив параметры гипотез impact, confidence и efforts, мы получили гипотезы с индексами 8, 0 и 7, как самые перспективные для реализации гипотезы. Но фреймворк ICE не учитывает охват пользоватлей (reach) изучаемых гипотез, чтобы проанализировать гипотезы с учетом охвата, мы применили фреймворк RICE и это изменило наш вывод о том, какие гипотезы наиболее перспективны. Ими стали гипотезы с индексами 7,2 и 0.\n",
    "Суть этих гипотез:\n",
    "- Добавить форму подписки на все основные страницы, чтобы собрать базу клиентов для email-рассылок;\n",
    "- Добавить блоки рекомендаций товаров на сайт интернет магазина, чтобы повысить конверсию и средний чек заказа;\n",
    "- Добавить два новых канала привлечения трафика, что позволит привлекать на 30% больше пользователей.<br><br>\n",
    "\n",
    "Провели несколько этапов анализа А/В теста:\n",
    "- Обработали данные для анализа и визуализации;\n",
    "- Построили и изучили графики кумулятивных выручки, среднего чека и конверсии по группам, что помогло выявить выбросы и аномалии в данных;\n",
    "- Исследовали аномалии, расчитали процентили и определили, что не более 5% пользователей оформляли свыше 1 заказов, в свыше 2 заказов не более 1%. Логично будет удалить пользователей с заказами количество которых составляет более трех. А по стоимости не более 5% заказов превышают 26 785 у.е. и не более 1% превышают 53 904 у.е., будем считать, что граница \"нормальных\" заказов будет заканчиваться на стоимости до 50 000 у.е.;\n",
    "- И наконец мы провели расчет статистической значимости по \"сырым\" и отфильтрованным данным. Проведенный анализ показал, что:\n",
    "    1. Статистическая значимость равенста конверсий групп А и В крайне низка, мы не можем утверждать, что они равны, ни по \"сырым\" данным, ни по отфильтрованным;\n",
    "    2. Нет статистически значимого различия по среднему чеку между группами ни по «сырым», ни по данным после фильтрации аномалий;\n",
    "    3. По относительным показателям отфильтрованных данных конверсия группы В ниже, чем у группы А, а по среднему чеку показатели практически сравнялись, превосходство группы В на 1.1%;\n",
    "    4. В связи с тем, что относительные показатели не высокие, а p-value по \"сырым\" и отфильрованным данным показывает тот же результат, мы принимаем решение о прекращении теста, вероятность, что результаты группы В будут сильно выше группы А, крайне низка."
   ]
  }
 ],
 "metadata": {
  "ExecuteTimeLog": [
   {
    "duration": 1336,
    "start_time": "2022-04-01T08:04:06.110Z"
   },
   {
    "duration": 82,
    "start_time": "2022-04-01T08:11:00.917Z"
   },
   {
    "duration": 34,
    "start_time": "2022-04-01T08:12:42.167Z"
   },
   {
    "duration": 23,
    "start_time": "2022-04-01T08:17:35.170Z"
   },
   {
    "duration": 4,
    "start_time": "2022-04-01T08:20:51.621Z"
   },
   {
    "duration": 3,
    "start_time": "2022-04-01T08:21:11.572Z"
   },
   {
    "duration": 18,
    "start_time": "2022-04-01T08:21:19.574Z"
   },
   {
    "duration": 144,
    "start_time": "2022-04-01T08:23:22.798Z"
   },
   {
    "duration": 5,
    "start_time": "2022-04-01T08:23:32.477Z"
   },
   {
    "duration": 24,
    "start_time": "2022-04-01T08:25:11.314Z"
   },
   {
    "duration": 111,
    "start_time": "2022-04-01T08:36:43.206Z"
   },
   {
    "duration": 94,
    "start_time": "2022-04-01T08:39:31.220Z"
   },
   {
    "duration": 11,
    "start_time": "2022-04-01T08:39:35.899Z"
   },
   {
    "duration": 6,
    "start_time": "2022-04-01T08:39:57.218Z"
   },
   {
    "duration": 10,
    "start_time": "2022-04-01T08:40:18.600Z"
   },
   {
    "duration": 7,
    "start_time": "2022-04-01T08:40:31.567Z"
   },
   {
    "duration": 9,
    "start_time": "2022-04-01T08:40:52.956Z"
   },
   {
    "duration": 13,
    "start_time": "2022-04-01T08:41:41.376Z"
   },
   {
    "duration": 18,
    "start_time": "2022-04-01T08:42:06.766Z"
   },
   {
    "duration": 10,
    "start_time": "2022-04-01T08:50:56.283Z"
   },
   {
    "duration": 13,
    "start_time": "2022-04-01T08:51:48.701Z"
   },
   {
    "duration": 12,
    "start_time": "2022-04-01T08:52:12.065Z"
   },
   {
    "duration": 21,
    "start_time": "2022-04-01T08:53:29.423Z"
   },
   {
    "duration": 23,
    "start_time": "2022-04-01T08:53:37.458Z"
   },
   {
    "duration": 18,
    "start_time": "2022-04-01T08:53:49.329Z"
   },
   {
    "duration": 1997,
    "start_time": "2022-04-01T10:16:04.906Z"
   },
   {
    "duration": 4,
    "start_time": "2022-04-01T10:16:29.317Z"
   },
   {
    "duration": 4,
    "start_time": "2022-04-01T10:18:27.082Z"
   },
   {
    "duration": 10,
    "start_time": "2022-04-01T10:18:32.367Z"
   },
   {
    "duration": 4,
    "start_time": "2022-04-01T10:18:49.629Z"
   },
   {
    "duration": 3,
    "start_time": "2022-04-01T10:18:50.908Z"
   },
   {
    "duration": 9,
    "start_time": "2022-04-01T10:18:51.298Z"
   },
   {
    "duration": 4,
    "start_time": "2022-04-01T10:22:07.300Z"
   },
   {
    "duration": 5,
    "start_time": "2022-04-01T10:38:03.927Z"
   },
   {
    "duration": 10,
    "start_time": "2022-04-01T10:38:55.182Z"
   },
   {
    "duration": 4,
    "start_time": "2022-04-01T10:39:09.574Z"
   },
   {
    "duration": 10,
    "start_time": "2022-04-01T10:39:10.295Z"
   },
   {
    "duration": 1776,
    "start_time": "2022-04-03T15:11:02.618Z"
   },
   {
    "duration": 48,
    "start_time": "2022-04-03T15:11:04.397Z"
   },
   {
    "duration": 37,
    "start_time": "2022-04-03T15:11:04.448Z"
   },
   {
    "duration": 2160,
    "start_time": "2022-04-03T15:11:04.487Z"
   },
   {
    "duration": 0,
    "start_time": "2022-04-03T15:11:06.650Z"
   },
   {
    "duration": 1,
    "start_time": "2022-04-03T15:11:06.652Z"
   },
   {
    "duration": 0,
    "start_time": "2022-04-03T15:11:06.654Z"
   },
   {
    "duration": 0,
    "start_time": "2022-04-03T15:11:06.656Z"
   },
   {
    "duration": 0,
    "start_time": "2022-04-03T15:11:06.657Z"
   },
   {
    "duration": 0,
    "start_time": "2022-04-03T15:11:06.659Z"
   },
   {
    "duration": 0,
    "start_time": "2022-04-03T15:11:06.661Z"
   },
   {
    "duration": 0,
    "start_time": "2022-04-03T15:11:06.663Z"
   },
   {
    "duration": 0,
    "start_time": "2022-04-03T15:11:06.665Z"
   },
   {
    "duration": 0,
    "start_time": "2022-04-03T15:11:06.666Z"
   },
   {
    "duration": 1446,
    "start_time": "2022-04-03T15:12:44.605Z"
   },
   {
    "duration": 42,
    "start_time": "2022-04-03T15:12:46.054Z"
   },
   {
    "duration": 32,
    "start_time": "2022-04-03T15:12:46.099Z"
   },
   {
    "duration": 7,
    "start_time": "2022-04-03T15:12:46.133Z"
   },
   {
    "duration": 11,
    "start_time": "2022-04-03T15:12:46.143Z"
   },
   {
    "duration": 57,
    "start_time": "2022-04-03T15:12:46.157Z"
   },
   {
    "duration": 29,
    "start_time": "2022-04-03T15:12:46.216Z"
   },
   {
    "duration": 45,
    "start_time": "2022-04-03T15:12:46.247Z"
   },
   {
    "duration": 6,
    "start_time": "2022-04-03T15:12:46.295Z"
   },
   {
    "duration": 8,
    "start_time": "2022-04-03T15:12:46.303Z"
   },
   {
    "duration": 31,
    "start_time": "2022-04-03T15:12:46.313Z"
   },
   {
    "duration": 10,
    "start_time": "2022-04-03T15:12:46.346Z"
   },
   {
    "duration": 26,
    "start_time": "2022-04-03T15:12:46.358Z"
   },
   {
    "duration": 16,
    "start_time": "2022-04-03T15:12:46.387Z"
   },
   {
    "duration": 51,
    "start_time": "2022-04-04T07:50:20.267Z"
   },
   {
    "duration": 1422,
    "start_time": "2022-04-04T07:50:29.105Z"
   },
   {
    "duration": 64,
    "start_time": "2022-04-04T07:50:30.529Z"
   },
   {
    "duration": 23,
    "start_time": "2022-04-04T07:50:30.595Z"
   },
   {
    "duration": 4,
    "start_time": "2022-04-04T07:50:30.620Z"
   },
   {
    "duration": 16,
    "start_time": "2022-04-04T07:50:30.626Z"
   },
   {
    "duration": 29,
    "start_time": "2022-04-04T07:50:30.644Z"
   },
   {
    "duration": 15,
    "start_time": "2022-04-04T07:50:30.674Z"
   },
   {
    "duration": 24,
    "start_time": "2022-04-04T07:50:30.690Z"
   },
   {
    "duration": 5,
    "start_time": "2022-04-04T07:50:30.716Z"
   },
   {
    "duration": 8,
    "start_time": "2022-04-04T07:50:30.731Z"
   },
   {
    "duration": 23,
    "start_time": "2022-04-04T07:50:30.741Z"
   },
   {
    "duration": 12,
    "start_time": "2022-04-04T07:50:30.766Z"
   },
   {
    "duration": 12,
    "start_time": "2022-04-04T07:50:30.779Z"
   },
   {
    "duration": 24,
    "start_time": "2022-04-04T07:50:30.794Z"
   },
   {
    "duration": 13,
    "start_time": "2022-04-04T07:50:30.821Z"
   },
   {
    "duration": 127,
    "start_time": "2022-04-04T07:50:30.836Z"
   },
   {
    "duration": 0,
    "start_time": "2022-04-04T07:50:30.965Z"
   },
   {
    "duration": 0,
    "start_time": "2022-04-04T07:50:30.967Z"
   },
   {
    "duration": 0,
    "start_time": "2022-04-04T07:50:30.968Z"
   },
   {
    "duration": 23,
    "start_time": "2022-04-04T07:51:14.746Z"
   },
   {
    "duration": 161,
    "start_time": "2022-04-04T07:52:10.596Z"
   },
   {
    "duration": 148,
    "start_time": "2022-04-04T07:52:16.835Z"
   },
   {
    "duration": 7,
    "start_time": "2022-04-04T07:52:19.406Z"
   },
   {
    "duration": 3,
    "start_time": "2022-04-04T07:52:20.402Z"
   },
   {
    "duration": 10,
    "start_time": "2022-04-04T07:52:59.640Z"
   },
   {
    "duration": 6,
    "start_time": "2022-04-04T08:10:14.134Z"
   },
   {
    "duration": 6,
    "start_time": "2022-04-04T08:10:42.971Z"
   },
   {
    "duration": 178,
    "start_time": "2022-04-04T08:10:49.428Z"
   },
   {
    "duration": 5,
    "start_time": "2022-04-04T08:10:54.740Z"
   },
   {
    "duration": 273,
    "start_time": "2022-04-04T08:11:20.247Z"
   },
   {
    "duration": 186,
    "start_time": "2022-04-04T08:11:42.252Z"
   },
   {
    "duration": 185,
    "start_time": "2022-04-04T08:12:53.094Z"
   },
   {
    "duration": 190,
    "start_time": "2022-04-04T08:21:21.982Z"
   },
   {
    "duration": 182,
    "start_time": "2022-04-04T08:21:28.465Z"
   },
   {
    "duration": 193,
    "start_time": "2022-04-04T08:21:39.788Z"
   },
   {
    "duration": 198,
    "start_time": "2022-04-04T08:21:46.083Z"
   },
   {
    "duration": 226,
    "start_time": "2022-04-04T08:22:32.354Z"
   },
   {
    "duration": 322,
    "start_time": "2022-04-04T08:23:17.043Z"
   },
   {
    "duration": 291,
    "start_time": "2022-04-04T08:23:28.381Z"
   },
   {
    "duration": 10,
    "start_time": "2022-04-04T08:24:00.649Z"
   },
   {
    "duration": 258,
    "start_time": "2022-04-04T08:24:31.015Z"
   },
   {
    "duration": 244,
    "start_time": "2022-04-04T08:25:10.938Z"
   },
   {
    "duration": 238,
    "start_time": "2022-04-04T08:26:22.086Z"
   },
   {
    "duration": 258,
    "start_time": "2022-04-04T08:26:36.928Z"
   },
   {
    "duration": 258,
    "start_time": "2022-04-04T08:46:58.392Z"
   },
   {
    "duration": 9,
    "start_time": "2022-04-04T09:04:14.184Z"
   },
   {
    "duration": 5,
    "start_time": "2022-04-04T09:05:05.563Z"
   },
   {
    "duration": 5,
    "start_time": "2022-04-04T09:05:06.326Z"
   },
   {
    "duration": 241,
    "start_time": "2022-04-04T09:05:07.083Z"
   },
   {
    "duration": 245,
    "start_time": "2022-04-04T09:05:08.386Z"
   },
   {
    "duration": 6,
    "start_time": "2022-04-04T09:05:10.404Z"
   },
   {
    "duration": 199,
    "start_time": "2022-04-04T09:05:41.925Z"
   },
   {
    "duration": 448,
    "start_time": "2022-04-04T09:07:29.989Z"
   },
   {
    "duration": 365,
    "start_time": "2022-04-04T09:07:42.619Z"
   },
   {
    "duration": 366,
    "start_time": "2022-04-04T09:08:26.620Z"
   },
   {
    "duration": 444,
    "start_time": "2022-04-04T09:10:24.653Z"
   },
   {
    "duration": 187,
    "start_time": "2022-04-04T09:14:06.262Z"
   },
   {
    "duration": 177,
    "start_time": "2022-04-04T09:21:12.031Z"
   },
   {
    "duration": 4,
    "start_time": "2022-04-04T09:24:42.597Z"
   },
   {
    "duration": 4,
    "start_time": "2022-04-04T09:24:43.483Z"
   },
   {
    "duration": 3,
    "start_time": "2022-04-04T09:24:44.318Z"
   },
   {
    "duration": 298,
    "start_time": "2022-04-04T09:27:30.398Z"
   },
   {
    "duration": 289,
    "start_time": "2022-04-04T09:28:18.417Z"
   },
   {
    "duration": 277,
    "start_time": "2022-04-04T09:29:43.107Z"
   },
   {
    "duration": 285,
    "start_time": "2022-04-04T09:29:48.042Z"
   },
   {
    "duration": 287,
    "start_time": "2022-04-04T09:31:58.028Z"
   },
   {
    "duration": 283,
    "start_time": "2022-04-04T09:32:05.711Z"
   },
   {
    "duration": 5,
    "start_time": "2022-04-04T09:33:04.580Z"
   },
   {
    "duration": 284,
    "start_time": "2022-04-04T09:33:19.730Z"
   },
   {
    "duration": 249,
    "start_time": "2022-04-04T09:33:56.084Z"
   },
   {
    "duration": 240,
    "start_time": "2022-04-04T09:34:24.197Z"
   },
   {
    "duration": 256,
    "start_time": "2022-04-04T09:34:35.582Z"
   },
   {
    "duration": 331,
    "start_time": "2022-04-04T09:34:57.432Z"
   },
   {
    "duration": 12,
    "start_time": "2022-04-04T09:35:50.391Z"
   },
   {
    "duration": 238,
    "start_time": "2022-04-04T09:37:38.290Z"
   },
   {
    "duration": 9,
    "start_time": "2022-04-04T11:30:10.030Z"
   },
   {
    "duration": 374,
    "start_time": "2022-04-04T11:33:31.625Z"
   },
   {
    "duration": 319,
    "start_time": "2022-04-04T11:33:59.164Z"
   },
   {
    "duration": 312,
    "start_time": "2022-04-04T11:34:21.891Z"
   },
   {
    "duration": 313,
    "start_time": "2022-04-04T11:34:39.164Z"
   },
   {
    "duration": 180,
    "start_time": "2022-04-04T12:13:04.530Z"
   },
   {
    "duration": 371,
    "start_time": "2022-04-04T12:14:45.532Z"
   },
   {
    "duration": 13,
    "start_time": "2022-04-04T12:16:13.322Z"
   },
   {
    "duration": 6,
    "start_time": "2022-04-04T12:16:32.669Z"
   },
   {
    "duration": 3,
    "start_time": "2022-04-04T12:16:55.701Z"
   },
   {
    "duration": 129,
    "start_time": "2022-04-04T12:17:55.020Z"
   },
   {
    "duration": 10,
    "start_time": "2022-04-04T12:20:11.529Z"
   },
   {
    "duration": 189,
    "start_time": "2022-04-04T12:23:13.664Z"
   },
   {
    "duration": 188,
    "start_time": "2022-04-04T12:23:23.632Z"
   },
   {
    "duration": 5,
    "start_time": "2022-04-04T12:32:11.593Z"
   },
   {
    "duration": 5,
    "start_time": "2022-04-04T12:32:32.190Z"
   },
   {
    "duration": 6,
    "start_time": "2022-04-04T12:32:57.889Z"
   },
   {
    "duration": 200,
    "start_time": "2022-04-04T12:52:02.687Z"
   },
   {
    "duration": 174,
    "start_time": "2022-04-04T13:09:04.979Z"
   },
   {
    "duration": 246,
    "start_time": "2022-04-04T13:09:58.669Z"
   },
   {
    "duration": 205,
    "start_time": "2022-04-04T13:10:47.786Z"
   },
   {
    "duration": 5,
    "start_time": "2022-04-04T13:11:46.845Z"
   },
   {
    "duration": 7,
    "start_time": "2022-04-04T13:12:25.653Z"
   },
   {
    "duration": 6,
    "start_time": "2022-04-04T13:12:44.357Z"
   },
   {
    "duration": 6,
    "start_time": "2022-04-04T13:13:00.132Z"
   },
   {
    "duration": 6,
    "start_time": "2022-04-04T13:13:14.883Z"
   },
   {
    "duration": 143,
    "start_time": "2022-04-04T13:13:58.449Z"
   },
   {
    "duration": 241,
    "start_time": "2022-04-04T13:14:12.458Z"
   },
   {
    "duration": 74,
    "start_time": "2022-04-05T07:12:03.193Z"
   },
   {
    "duration": 1714,
    "start_time": "2022-04-05T07:12:11.608Z"
   },
   {
    "duration": 46,
    "start_time": "2022-04-05T07:12:13.325Z"
   },
   {
    "duration": 31,
    "start_time": "2022-04-05T07:12:13.374Z"
   },
   {
    "duration": 5,
    "start_time": "2022-04-05T07:12:13.408Z"
   },
   {
    "duration": 8,
    "start_time": "2022-04-05T07:12:13.415Z"
   },
   {
    "duration": 65,
    "start_time": "2022-04-05T07:12:13.425Z"
   },
   {
    "duration": 19,
    "start_time": "2022-04-05T07:12:13.493Z"
   },
   {
    "duration": 21,
    "start_time": "2022-04-05T07:12:13.515Z"
   },
   {
    "duration": 6,
    "start_time": "2022-04-05T07:12:13.567Z"
   },
   {
    "duration": 12,
    "start_time": "2022-04-05T07:12:13.577Z"
   },
   {
    "duration": 15,
    "start_time": "2022-04-05T07:12:13.591Z"
   },
   {
    "duration": 9,
    "start_time": "2022-04-05T07:12:13.608Z"
   },
   {
    "duration": 14,
    "start_time": "2022-04-05T07:12:13.619Z"
   },
   {
    "duration": 37,
    "start_time": "2022-04-05T07:12:13.635Z"
   },
   {
    "duration": 10,
    "start_time": "2022-04-05T07:12:13.673Z"
   },
   {
    "duration": 268,
    "start_time": "2022-04-05T07:12:13.685Z"
   },
   {
    "duration": 224,
    "start_time": "2022-04-05T07:12:13.956Z"
   },
   {
    "duration": 10,
    "start_time": "2022-04-05T07:12:14.182Z"
   },
   {
    "duration": 4,
    "start_time": "2022-04-05T07:12:14.195Z"
   },
   {
    "duration": 14,
    "start_time": "2022-04-05T07:12:14.201Z"
   },
   {
    "duration": 7,
    "start_time": "2022-04-05T07:12:14.217Z"
   },
   {
    "duration": 42,
    "start_time": "2022-04-05T07:12:14.226Z"
   },
   {
    "duration": 513,
    "start_time": "2022-04-05T07:12:14.270Z"
   },
   {
    "duration": 399,
    "start_time": "2022-04-05T07:12:14.785Z"
   },
   {
    "duration": 9,
    "start_time": "2022-04-05T07:12:15.186Z"
   },
   {
    "duration": 490,
    "start_time": "2022-04-05T07:12:15.197Z"
   },
   {
    "duration": 5,
    "start_time": "2022-04-05T07:12:15.689Z"
   },
   {
    "duration": 5,
    "start_time": "2022-04-05T07:12:15.698Z"
   },
   {
    "duration": 6,
    "start_time": "2022-04-05T07:12:15.705Z"
   },
   {
    "duration": 498,
    "start_time": "2022-04-05T07:12:15.713Z"
   },
   {
    "duration": 12,
    "start_time": "2022-04-05T07:12:16.213Z"
   },
   {
    "duration": 513,
    "start_time": "2022-04-05T07:12:16.228Z"
   },
   {
    "duration": 10,
    "start_time": "2022-04-05T07:12:16.744Z"
   },
   {
    "duration": 13,
    "start_time": "2022-04-05T07:12:16.756Z"
   },
   {
    "duration": 14,
    "start_time": "2022-04-05T07:12:16.771Z"
   },
   {
    "duration": 313,
    "start_time": "2022-04-05T07:12:16.788Z"
   },
   {
    "duration": 7,
    "start_time": "2022-04-05T07:12:17.103Z"
   },
   {
    "duration": 332,
    "start_time": "2022-04-05T07:12:17.112Z"
   },
   {
    "duration": 7,
    "start_time": "2022-04-05T07:16:36.625Z"
   },
   {
    "duration": 75,
    "start_time": "2022-04-05T08:33:35.386Z"
   },
   {
    "duration": 74,
    "start_time": "2022-04-05T08:33:37.273Z"
   },
   {
    "duration": 115,
    "start_time": "2022-04-05T08:34:44.946Z"
   },
   {
    "duration": 97,
    "start_time": "2022-04-05T08:41:34.200Z"
   },
   {
    "duration": 103,
    "start_time": "2022-04-05T08:41:36.074Z"
   },
   {
    "duration": 131,
    "start_time": "2022-04-05T08:44:34.524Z"
   },
   {
    "duration": 36,
    "start_time": "2022-04-05T08:44:38.138Z"
   },
   {
    "duration": 16,
    "start_time": "2022-04-05T08:44:39.232Z"
   },
   {
    "duration": 130,
    "start_time": "2022-04-05T08:56:08.154Z"
   },
   {
    "duration": 143,
    "start_time": "2022-04-05T08:56:09.184Z"
   },
   {
    "duration": 9,
    "start_time": "2022-04-05T09:26:27.080Z"
   },
   {
    "duration": 161,
    "start_time": "2022-04-05T09:36:45.076Z"
   },
   {
    "duration": 10,
    "start_time": "2022-04-05T09:37:23.930Z"
   },
   {
    "duration": 29,
    "start_time": "2022-04-05T09:37:36.482Z"
   },
   {
    "duration": 12,
    "start_time": "2022-04-05T10:23:04.436Z"
   },
   {
    "duration": 6,
    "start_time": "2022-04-05T10:23:21.103Z"
   },
   {
    "duration": 11,
    "start_time": "2022-04-05T11:27:31.191Z"
   },
   {
    "duration": 10,
    "start_time": "2022-04-05T11:29:23.776Z"
   },
   {
    "duration": 14,
    "start_time": "2022-04-05T11:54:06.125Z"
   },
   {
    "duration": 11,
    "start_time": "2022-04-05T11:54:22.168Z"
   },
   {
    "duration": 7,
    "start_time": "2022-04-05T11:56:57.851Z"
   },
   {
    "duration": 5,
    "start_time": "2022-04-05T11:57:33.573Z"
   },
   {
    "duration": 10,
    "start_time": "2022-04-05T11:58:05.279Z"
   },
   {
    "duration": 7,
    "start_time": "2022-04-05T11:58:07.338Z"
   },
   {
    "duration": 11,
    "start_time": "2022-04-05T11:58:28.979Z"
   },
   {
    "duration": 6,
    "start_time": "2022-04-05T11:58:30.615Z"
   },
   {
    "duration": 5,
    "start_time": "2022-04-05T11:58:31.944Z"
   },
   {
    "duration": 5,
    "start_time": "2022-04-05T12:01:14.430Z"
   },
   {
    "duration": 17,
    "start_time": "2022-04-05T12:06:34.271Z"
   },
   {
    "duration": 12,
    "start_time": "2022-04-05T12:06:46.543Z"
   },
   {
    "duration": 28,
    "start_time": "2022-04-05T12:21:54.345Z"
   },
   {
    "duration": 168,
    "start_time": "2022-04-05T12:23:44.130Z"
   },
   {
    "duration": 11,
    "start_time": "2022-04-05T12:23:44.670Z"
   },
   {
    "duration": 7,
    "start_time": "2022-04-05T12:24:00.485Z"
   },
   {
    "duration": 16,
    "start_time": "2022-04-05T12:35:39.115Z"
   },
   {
    "duration": 14,
    "start_time": "2022-04-05T12:37:54.994Z"
   },
   {
    "duration": 3,
    "start_time": "2022-04-05T14:35:25.695Z"
   },
   {
    "duration": 1495,
    "start_time": "2022-04-05T14:59:14.503Z"
   },
   {
    "duration": 49,
    "start_time": "2022-04-05T14:59:16.001Z"
   },
   {
    "duration": 35,
    "start_time": "2022-04-05T14:59:16.053Z"
   },
   {
    "duration": 6,
    "start_time": "2022-04-05T14:59:16.092Z"
   },
   {
    "duration": 5,
    "start_time": "2022-04-05T14:59:16.101Z"
   },
   {
    "duration": 63,
    "start_time": "2022-04-05T14:59:16.109Z"
   },
   {
    "duration": 23,
    "start_time": "2022-04-05T14:59:16.174Z"
   },
   {
    "duration": 22,
    "start_time": "2022-04-05T14:59:16.199Z"
   },
   {
    "duration": 5,
    "start_time": "2022-04-05T14:59:16.223Z"
   },
   {
    "duration": 35,
    "start_time": "2022-04-05T14:59:16.232Z"
   },
   {
    "duration": 17,
    "start_time": "2022-04-05T14:59:16.269Z"
   },
   {
    "duration": 8,
    "start_time": "2022-04-05T14:59:16.288Z"
   },
   {
    "duration": 6,
    "start_time": "2022-04-05T14:59:16.298Z"
   },
   {
    "duration": 15,
    "start_time": "2022-04-05T14:59:16.306Z"
   },
   {
    "duration": 11,
    "start_time": "2022-04-05T14:59:16.323Z"
   },
   {
    "duration": 278,
    "start_time": "2022-04-05T14:59:16.367Z"
   },
   {
    "duration": 222,
    "start_time": "2022-04-05T14:59:16.647Z"
   },
   {
    "duration": 9,
    "start_time": "2022-04-05T14:59:16.871Z"
   },
   {
    "duration": 8,
    "start_time": "2022-04-05T14:59:16.883Z"
   },
   {
    "duration": 15,
    "start_time": "2022-04-05T14:59:16.893Z"
   },
   {
    "duration": 11,
    "start_time": "2022-04-05T14:59:16.910Z"
   },
   {
    "duration": 8,
    "start_time": "2022-04-05T14:59:16.924Z"
   },
   {
    "duration": 706,
    "start_time": "2022-04-05T14:59:16.968Z"
   },
   {
    "duration": 537,
    "start_time": "2022-04-05T14:59:17.677Z"
   },
   {
    "duration": 10,
    "start_time": "2022-04-05T14:59:18.216Z"
   },
   {
    "duration": 551,
    "start_time": "2022-04-05T14:59:18.229Z"
   },
   {
    "duration": 6,
    "start_time": "2022-04-05T14:59:18.783Z"
   },
   {
    "duration": 5,
    "start_time": "2022-04-05T14:59:18.796Z"
   },
   {
    "duration": 8,
    "start_time": "2022-04-05T14:59:18.803Z"
   },
   {
    "duration": 530,
    "start_time": "2022-04-05T14:59:18.814Z"
   },
   {
    "duration": 22,
    "start_time": "2022-04-05T14:59:19.347Z"
   },
   {
    "duration": 612,
    "start_time": "2022-04-05T14:59:19.372Z"
   },
   {
    "duration": 9,
    "start_time": "2022-04-05T14:59:19.987Z"
   },
   {
    "duration": 4,
    "start_time": "2022-04-05T14:59:19.999Z"
   },
   {
    "duration": 19,
    "start_time": "2022-04-05T14:59:20.006Z"
   },
   {
    "duration": 325,
    "start_time": "2022-04-05T14:59:20.027Z"
   },
   {
    "duration": 15,
    "start_time": "2022-04-05T14:59:20.354Z"
   },
   {
    "duration": 345,
    "start_time": "2022-04-05T14:59:20.371Z"
   },
   {
    "duration": 8,
    "start_time": "2022-04-05T14:59:20.719Z"
   },
   {
    "duration": 97,
    "start_time": "2022-04-05T14:59:20.730Z"
   },
   {
    "duration": 88,
    "start_time": "2022-04-05T14:59:20.830Z"
   },
   {
    "duration": 109,
    "start_time": "2022-04-05T14:59:20.921Z"
   },
   {
    "duration": 109,
    "start_time": "2022-04-05T14:59:21.032Z"
   },
   {
    "duration": 47,
    "start_time": "2022-04-05T14:59:21.144Z"
   },
   {
    "duration": 15,
    "start_time": "2022-04-05T14:59:21.193Z"
   },
   {
    "duration": 164,
    "start_time": "2022-04-05T14:59:21.211Z"
   },
   {
    "duration": 156,
    "start_time": "2022-04-05T14:59:21.378Z"
   },
   {
    "duration": 9,
    "start_time": "2022-04-05T14:59:21.536Z"
   },
   {
    "duration": 43,
    "start_time": "2022-04-05T14:59:21.547Z"
   },
   {
    "duration": 6,
    "start_time": "2022-04-05T14:59:21.592Z"
   },
   {
    "duration": 12,
    "start_time": "2022-04-05T14:59:21.600Z"
   },
   {
    "duration": 9,
    "start_time": "2022-04-05T14:59:21.614Z"
   },
   {
    "duration": 49,
    "start_time": "2022-04-05T14:59:21.625Z"
   },
   {
    "duration": 9,
    "start_time": "2022-04-05T14:59:21.677Z"
   },
   {
    "duration": 6,
    "start_time": "2022-04-05T14:59:21.688Z"
   },
   {
    "duration": 14,
    "start_time": "2022-04-05T14:59:21.696Z"
   },
   {
    "duration": 69,
    "start_time": "2022-04-05T14:59:21.712Z"
   },
   {
    "duration": 6,
    "start_time": "2022-04-05T14:59:21.783Z"
   },
   {
    "duration": 17,
    "start_time": "2022-04-05T14:59:21.791Z"
   },
   {
    "duration": 12,
    "start_time": "2022-04-05T14:59:21.810Z"
   },
   {
    "duration": 1132,
    "start_time": "2022-04-05T20:22:56.644Z"
   },
   {
    "duration": 35,
    "start_time": "2022-04-05T20:22:57.778Z"
   },
   {
    "duration": 20,
    "start_time": "2022-04-05T20:22:57.815Z"
   },
   {
    "duration": 4,
    "start_time": "2022-04-05T20:22:57.837Z"
   },
   {
    "duration": 8,
    "start_time": "2022-04-05T20:22:57.842Z"
   },
   {
    "duration": 26,
    "start_time": "2022-04-05T20:22:57.851Z"
   },
   {
    "duration": 13,
    "start_time": "2022-04-05T20:22:57.879Z"
   },
   {
    "duration": 40,
    "start_time": "2022-04-05T20:22:57.893Z"
   },
   {
    "duration": 4,
    "start_time": "2022-04-05T20:22:57.935Z"
   },
   {
    "duration": 6,
    "start_time": "2022-04-05T20:22:57.941Z"
   },
   {
    "duration": 12,
    "start_time": "2022-04-05T20:22:57.948Z"
   },
   {
    "duration": 9,
    "start_time": "2022-04-05T20:22:57.961Z"
   },
   {
    "duration": 6,
    "start_time": "2022-04-05T20:22:57.971Z"
   },
   {
    "duration": 11,
    "start_time": "2022-04-05T20:22:57.979Z"
   },
   {
    "duration": 8,
    "start_time": "2022-04-05T20:22:57.991Z"
   },
   {
    "duration": 179,
    "start_time": "2022-04-05T20:22:58.000Z"
   },
   {
    "duration": 116,
    "start_time": "2022-04-05T20:22:58.181Z"
   },
   {
    "duration": 5,
    "start_time": "2022-04-05T20:22:58.299Z"
   },
   {
    "duration": 5,
    "start_time": "2022-04-05T20:22:58.306Z"
   },
   {
    "duration": 25,
    "start_time": "2022-04-05T20:22:58.312Z"
   },
   {
    "duration": 9,
    "start_time": "2022-04-05T20:22:58.339Z"
   },
   {
    "duration": 8,
    "start_time": "2022-04-05T20:22:58.349Z"
   },
   {
    "duration": 314,
    "start_time": "2022-04-05T20:22:58.359Z"
   },
   {
    "duration": 236,
    "start_time": "2022-04-05T20:22:58.674Z"
   },
   {
    "duration": 6,
    "start_time": "2022-04-05T20:22:58.912Z"
   },
   {
    "duration": 336,
    "start_time": "2022-04-05T20:22:58.920Z"
   },
   {
    "duration": 4,
    "start_time": "2022-04-05T20:22:59.258Z"
   },
   {
    "duration": 4,
    "start_time": "2022-04-05T20:22:59.266Z"
   },
   {
    "duration": 6,
    "start_time": "2022-04-05T20:22:59.271Z"
   },
   {
    "duration": 239,
    "start_time": "2022-04-05T20:22:59.279Z"
   },
   {
    "duration": 14,
    "start_time": "2022-04-05T20:22:59.519Z"
   },
   {
    "duration": 344,
    "start_time": "2022-04-05T20:22:59.534Z"
   },
   {
    "duration": 7,
    "start_time": "2022-04-05T20:22:59.880Z"
   },
   {
    "duration": 7,
    "start_time": "2022-04-05T20:22:59.888Z"
   },
   {
    "duration": 14,
    "start_time": "2022-04-05T20:22:59.896Z"
   },
   {
    "duration": 178,
    "start_time": "2022-04-05T20:22:59.912Z"
   },
   {
    "duration": 4,
    "start_time": "2022-04-05T20:23:00.092Z"
   },
   {
    "duration": 180,
    "start_time": "2022-04-05T20:23:00.098Z"
   },
   {
    "duration": 5,
    "start_time": "2022-04-05T20:23:00.280Z"
   },
   {
    "duration": 61,
    "start_time": "2022-04-05T20:23:00.286Z"
   },
   {
    "duration": 48,
    "start_time": "2022-04-05T20:23:00.349Z"
   },
   {
    "duration": 65,
    "start_time": "2022-04-05T20:23:00.399Z"
   },
   {
    "duration": 58,
    "start_time": "2022-04-05T20:23:00.465Z"
   },
   {
    "duration": 22,
    "start_time": "2022-04-05T20:23:00.533Z"
   },
   {
    "duration": 23,
    "start_time": "2022-04-05T20:23:00.557Z"
   },
   {
    "duration": 79,
    "start_time": "2022-04-05T20:23:00.582Z"
   },
   {
    "duration": 85,
    "start_time": "2022-04-05T20:23:00.663Z"
   },
   {
    "duration": 7,
    "start_time": "2022-04-05T20:23:00.750Z"
   },
   {
    "duration": 34,
    "start_time": "2022-04-05T20:23:00.759Z"
   },
   {
    "duration": 6,
    "start_time": "2022-04-05T20:23:00.794Z"
   },
   {
    "duration": 9,
    "start_time": "2022-04-05T20:23:00.801Z"
   },
   {
    "duration": 8,
    "start_time": "2022-04-05T20:23:00.833Z"
   },
   {
    "duration": 12,
    "start_time": "2022-04-05T20:23:00.843Z"
   },
   {
    "duration": 7,
    "start_time": "2022-04-05T20:23:00.857Z"
   },
   {
    "duration": 7,
    "start_time": "2022-04-05T20:23:00.865Z"
   },
   {
    "duration": 9,
    "start_time": "2022-04-05T20:23:00.874Z"
   },
   {
    "duration": 53,
    "start_time": "2022-04-05T20:23:00.885Z"
   },
   {
    "duration": 5,
    "start_time": "2022-04-05T20:23:00.940Z"
   },
   {
    "duration": 12,
    "start_time": "2022-04-05T20:23:00.946Z"
   },
   {
    "duration": 10,
    "start_time": "2022-04-05T20:23:00.959Z"
   },
   {
    "duration": 50,
    "start_time": "2022-04-06T12:09:45.909Z"
   },
   {
    "duration": 1362,
    "start_time": "2022-04-06T12:09:56.711Z"
   },
   {
    "duration": 36,
    "start_time": "2022-04-06T12:09:58.076Z"
   },
   {
    "duration": 23,
    "start_time": "2022-04-06T12:09:59.046Z"
   },
   {
    "duration": 6,
    "start_time": "2022-04-06T12:09:59.875Z"
   },
   {
    "duration": 4,
    "start_time": "2022-04-06T12:10:01.047Z"
   },
   {
    "duration": 27,
    "start_time": "2022-04-06T12:10:01.942Z"
   },
   {
    "duration": 15,
    "start_time": "2022-04-06T12:10:02.867Z"
   },
   {
    "duration": 21,
    "start_time": "2022-04-06T12:10:03.594Z"
   },
   {
    "duration": 15,
    "start_time": "2022-04-06T12:10:05.498Z"
   },
   {
    "duration": 67,
    "start_time": "2022-04-06T12:10:32.449Z"
   },
   {
    "duration": 8,
    "start_time": "2022-04-06T12:10:46.074Z"
   },
   {
    "duration": 8,
    "start_time": "2022-04-06T12:11:03.003Z"
   },
   {
    "duration": 18,
    "start_time": "2022-04-06T12:11:42.221Z"
   },
   {
    "duration": 16,
    "start_time": "2022-04-06T12:23:51.655Z"
   },
   {
    "duration": 9,
    "start_time": "2022-04-06T12:24:02.973Z"
   },
   {
    "duration": 8,
    "start_time": "2022-04-06T12:24:45.142Z"
   },
   {
    "duration": 8,
    "start_time": "2022-04-06T12:29:42.617Z"
   },
   {
    "duration": 7,
    "start_time": "2022-04-06T12:35:10.664Z"
   },
   {
    "duration": 186,
    "start_time": "2022-04-06T12:35:53.370Z"
   },
   {
    "duration": 11,
    "start_time": "2022-04-06T12:36:05.096Z"
   },
   {
    "duration": 11,
    "start_time": "2022-04-06T12:37:24.914Z"
   },
   {
    "duration": 6,
    "start_time": "2022-04-06T12:37:30.363Z"
   },
   {
    "duration": 9,
    "start_time": "2022-04-06T12:37:39.941Z"
   },
   {
    "duration": 9,
    "start_time": "2022-04-06T12:38:17.543Z"
   },
   {
    "duration": 7,
    "start_time": "2022-04-06T12:38:24.832Z"
   },
   {
    "duration": 6,
    "start_time": "2022-04-06T12:38:25.607Z"
   },
   {
    "duration": 1696,
    "start_time": "2022-04-06T12:38:39.961Z"
   },
   {
    "duration": 4,
    "start_time": "2022-04-06T12:46:00.891Z"
   },
   {
    "duration": 18,
    "start_time": "2022-04-06T12:46:15.426Z"
   },
   {
    "duration": 6,
    "start_time": "2022-04-06T12:46:48.283Z"
   },
   {
    "duration": 9,
    "start_time": "2022-04-06T12:47:05.206Z"
   },
   {
    "duration": 9,
    "start_time": "2022-04-06T12:47:50.833Z"
   },
   {
    "duration": 5,
    "start_time": "2022-04-06T12:47:55.456Z"
   },
   {
    "duration": 11,
    "start_time": "2022-04-06T12:47:55.926Z"
   },
   {
    "duration": 5,
    "start_time": "2022-04-06T12:48:09.468Z"
   },
   {
    "duration": 4,
    "start_time": "2022-04-06T12:48:18.552Z"
   },
   {
    "duration": 8,
    "start_time": "2022-04-06T12:52:07.512Z"
   },
   {
    "duration": 6,
    "start_time": "2022-04-06T12:52:10.875Z"
   },
   {
    "duration": 6,
    "start_time": "2022-04-06T12:52:11.216Z"
   },
   {
    "duration": 6,
    "start_time": "2022-04-06T12:52:20.135Z"
   },
   {
    "duration": 4,
    "start_time": "2022-04-06T12:54:15.466Z"
   },
   {
    "duration": 7,
    "start_time": "2022-04-06T12:55:12.799Z"
   },
   {
    "duration": 5,
    "start_time": "2022-04-06T12:55:53.994Z"
   },
   {
    "duration": 3,
    "start_time": "2022-04-06T12:57:42.026Z"
   },
   {
    "duration": 5,
    "start_time": "2022-04-06T12:59:15.943Z"
   },
   {
    "duration": 5,
    "start_time": "2022-04-06T12:59:35.441Z"
   },
   {
    "duration": 2408,
    "start_time": "2022-04-06T13:01:28.900Z"
   },
   {
    "duration": 4,
    "start_time": "2022-04-06T13:01:38.794Z"
   },
   {
    "duration": 13,
    "start_time": "2022-04-06T13:02:01.812Z"
   },
   {
    "duration": 6,
    "start_time": "2022-04-06T13:06:34.377Z"
   },
   {
    "duration": 14,
    "start_time": "2022-04-06T13:06:35.417Z"
   },
   {
    "duration": 5,
    "start_time": "2022-04-06T13:06:49.148Z"
   },
   {
    "duration": 14,
    "start_time": "2022-04-06T13:06:50.481Z"
   },
   {
    "duration": 3,
    "start_time": "2022-04-06T13:07:00.649Z"
   },
   {
    "duration": 36,
    "start_time": "2022-04-06T13:07:01.149Z"
   },
   {
    "duration": 19,
    "start_time": "2022-04-06T13:07:02.121Z"
   },
   {
    "duration": 4,
    "start_time": "2022-04-06T13:07:02.663Z"
   },
   {
    "duration": 4,
    "start_time": "2022-04-06T13:07:03.243Z"
   },
   {
    "duration": 25,
    "start_time": "2022-04-06T13:07:06.110Z"
   },
   {
    "duration": 14,
    "start_time": "2022-04-06T13:07:08.397Z"
   },
   {
    "duration": 16,
    "start_time": "2022-04-06T13:07:08.890Z"
   },
   {
    "duration": 6,
    "start_time": "2022-04-06T13:07:10.308Z"
   },
   {
    "duration": 5,
    "start_time": "2022-04-06T13:07:10.768Z"
   },
   {
    "duration": 6,
    "start_time": "2022-04-06T13:07:12.168Z"
   },
   {
    "duration": 4,
    "start_time": "2022-04-06T13:07:13.718Z"
   },
   {
    "duration": 4,
    "start_time": "2022-04-06T13:07:15.102Z"
   },
   {
    "duration": 14,
    "start_time": "2022-04-06T13:07:16.174Z"
   },
   {
    "duration": 5,
    "start_time": "2022-04-06T13:12:19.685Z"
   },
   {
    "duration": 3,
    "start_time": "2022-04-06T13:12:20.803Z"
   },
   {
    "duration": 10,
    "start_time": "2022-04-06T13:12:21.458Z"
   },
   {
    "duration": 5,
    "start_time": "2022-04-06T13:12:28.308Z"
   },
   {
    "duration": 5,
    "start_time": "2022-04-06T13:12:29.548Z"
   },
   {
    "duration": 11,
    "start_time": "2022-04-06T13:12:30.168Z"
   },
   {
    "duration": 4,
    "start_time": "2022-04-06T13:21:52.520Z"
   },
   {
    "duration": 4,
    "start_time": "2022-04-06T13:21:53.594Z"
   },
   {
    "duration": 10,
    "start_time": "2022-04-06T13:21:55.258Z"
   },
   {
    "duration": 11,
    "start_time": "2022-04-06T13:22:35.046Z"
   },
   {
    "duration": 11,
    "start_time": "2022-04-06T13:22:46.238Z"
   },
   {
    "duration": 11,
    "start_time": "2022-04-06T13:26:08.825Z"
   },
   {
    "duration": 10,
    "start_time": "2022-04-06T13:26:18.953Z"
   },
   {
    "duration": 11,
    "start_time": "2022-04-06T13:26:43.274Z"
   },
   {
    "duration": 5,
    "start_time": "2022-04-06T13:26:51.533Z"
   },
   {
    "duration": 5,
    "start_time": "2022-04-06T13:26:52.237Z"
   },
   {
    "duration": 11,
    "start_time": "2022-04-06T13:26:53.073Z"
   },
   {
    "duration": 52,
    "start_time": "2022-04-06T13:31:10.301Z"
   },
   {
    "duration": 12,
    "start_time": "2022-04-06T13:33:33.792Z"
   },
   {
    "duration": 28,
    "start_time": "2022-04-06T13:37:11.564Z"
   },
   {
    "duration": 16,
    "start_time": "2022-04-06T13:37:44.663Z"
   },
   {
    "duration": 17,
    "start_time": "2022-04-06T13:38:23.405Z"
   },
   {
    "duration": 4,
    "start_time": "2022-04-06T13:38:45.709Z"
   },
   {
    "duration": 4,
    "start_time": "2022-04-06T13:38:46.677Z"
   },
   {
    "duration": 18,
    "start_time": "2022-04-06T13:38:47.654Z"
   },
   {
    "duration": 1341,
    "start_time": "2022-04-06T13:39:13.586Z"
   },
   {
    "duration": 42,
    "start_time": "2022-04-06T13:39:14.930Z"
   },
   {
    "duration": 25,
    "start_time": "2022-04-06T13:39:14.974Z"
   },
   {
    "duration": 5,
    "start_time": "2022-04-06T13:39:15.002Z"
   },
   {
    "duration": 18,
    "start_time": "2022-04-06T13:39:15.009Z"
   },
   {
    "duration": 48,
    "start_time": "2022-04-06T13:39:15.029Z"
   },
   {
    "duration": 26,
    "start_time": "2022-04-06T13:39:15.079Z"
   },
   {
    "duration": 26,
    "start_time": "2022-04-06T13:39:15.107Z"
   },
   {
    "duration": 7,
    "start_time": "2022-04-06T13:39:15.135Z"
   },
   {
    "duration": 12,
    "start_time": "2022-04-06T13:39:15.145Z"
   },
   {
    "duration": 110,
    "start_time": "2022-04-06T13:39:15.159Z"
   },
   {
    "duration": 0,
    "start_time": "2022-04-06T13:39:15.274Z"
   },
   {
    "duration": 0,
    "start_time": "2022-04-06T13:39:15.275Z"
   },
   {
    "duration": 0,
    "start_time": "2022-04-06T13:39:15.277Z"
   },
   {
    "duration": 0,
    "start_time": "2022-04-06T13:39:15.278Z"
   },
   {
    "duration": 0,
    "start_time": "2022-04-06T13:39:15.279Z"
   },
   {
    "duration": 0,
    "start_time": "2022-04-06T13:39:15.280Z"
   },
   {
    "duration": 0,
    "start_time": "2022-04-06T13:39:15.282Z"
   },
   {
    "duration": 0,
    "start_time": "2022-04-06T13:39:15.283Z"
   },
   {
    "duration": 0,
    "start_time": "2022-04-06T13:39:15.302Z"
   },
   {
    "duration": 0,
    "start_time": "2022-04-06T13:39:15.304Z"
   },
   {
    "duration": 0,
    "start_time": "2022-04-06T13:39:15.305Z"
   },
   {
    "duration": 0,
    "start_time": "2022-04-06T13:39:15.307Z"
   },
   {
    "duration": 0,
    "start_time": "2022-04-06T13:39:15.308Z"
   },
   {
    "duration": 0,
    "start_time": "2022-04-06T13:39:15.309Z"
   },
   {
    "duration": 0,
    "start_time": "2022-04-06T13:39:15.310Z"
   },
   {
    "duration": 0,
    "start_time": "2022-04-06T13:39:15.312Z"
   },
   {
    "duration": 0,
    "start_time": "2022-04-06T13:39:15.313Z"
   },
   {
    "duration": 0,
    "start_time": "2022-04-06T13:39:15.314Z"
   },
   {
    "duration": 0,
    "start_time": "2022-04-06T13:39:15.315Z"
   },
   {
    "duration": 0,
    "start_time": "2022-04-06T13:39:15.316Z"
   },
   {
    "duration": 0,
    "start_time": "2022-04-06T13:39:15.317Z"
   },
   {
    "duration": 0,
    "start_time": "2022-04-06T13:39:15.319Z"
   },
   {
    "duration": 0,
    "start_time": "2022-04-06T13:39:15.320Z"
   },
   {
    "duration": 0,
    "start_time": "2022-04-06T13:39:15.321Z"
   },
   {
    "duration": 0,
    "start_time": "2022-04-06T13:39:15.322Z"
   },
   {
    "duration": 0,
    "start_time": "2022-04-06T13:39:15.323Z"
   },
   {
    "duration": 0,
    "start_time": "2022-04-06T13:39:15.324Z"
   },
   {
    "duration": 0,
    "start_time": "2022-04-06T13:39:15.325Z"
   },
   {
    "duration": 0,
    "start_time": "2022-04-06T13:39:15.326Z"
   },
   {
    "duration": 0,
    "start_time": "2022-04-06T13:39:15.327Z"
   },
   {
    "duration": 0,
    "start_time": "2022-04-06T13:39:15.329Z"
   },
   {
    "duration": 0,
    "start_time": "2022-04-06T13:39:15.330Z"
   },
   {
    "duration": 0,
    "start_time": "2022-04-06T13:39:15.331Z"
   },
   {
    "duration": 0,
    "start_time": "2022-04-06T13:39:15.332Z"
   },
   {
    "duration": 0,
    "start_time": "2022-04-06T13:39:15.333Z"
   },
   {
    "duration": 0,
    "start_time": "2022-04-06T13:39:15.334Z"
   },
   {
    "duration": 0,
    "start_time": "2022-04-06T13:39:15.335Z"
   },
   {
    "duration": 0,
    "start_time": "2022-04-06T13:39:15.336Z"
   },
   {
    "duration": 0,
    "start_time": "2022-04-06T13:39:15.337Z"
   },
   {
    "duration": 0,
    "start_time": "2022-04-06T13:39:15.401Z"
   },
   {
    "duration": 0,
    "start_time": "2022-04-06T13:39:15.402Z"
   },
   {
    "duration": 0,
    "start_time": "2022-04-06T13:39:15.403Z"
   },
   {
    "duration": 0,
    "start_time": "2022-04-06T13:39:15.405Z"
   },
   {
    "duration": 0,
    "start_time": "2022-04-06T13:39:15.406Z"
   },
   {
    "duration": 0,
    "start_time": "2022-04-06T13:39:15.407Z"
   },
   {
    "duration": 0,
    "start_time": "2022-04-06T13:39:15.408Z"
   },
   {
    "duration": 0,
    "start_time": "2022-04-06T13:39:15.409Z"
   },
   {
    "duration": 0,
    "start_time": "2022-04-06T13:39:15.410Z"
   },
   {
    "duration": 0,
    "start_time": "2022-04-06T13:39:15.411Z"
   },
   {
    "duration": 0,
    "start_time": "2022-04-06T13:39:15.412Z"
   },
   {
    "duration": 0,
    "start_time": "2022-04-06T13:39:15.416Z"
   },
   {
    "duration": 0,
    "start_time": "2022-04-06T13:39:15.418Z"
   },
   {
    "duration": 0,
    "start_time": "2022-04-06T13:39:15.418Z"
   },
   {
    "duration": 0,
    "start_time": "2022-04-06T13:39:15.419Z"
   },
   {
    "duration": 0,
    "start_time": "2022-04-06T13:39:15.420Z"
   },
   {
    "duration": 5,
    "start_time": "2022-04-06T13:39:47.761Z"
   },
   {
    "duration": 4,
    "start_time": "2022-04-06T13:39:49.454Z"
   },
   {
    "duration": 6,
    "start_time": "2022-04-06T13:39:53.757Z"
   },
   {
    "duration": 14,
    "start_time": "2022-04-06T13:39:54.813Z"
   },
   {
    "duration": 5,
    "start_time": "2022-04-06T13:39:59.076Z"
   },
   {
    "duration": 4,
    "start_time": "2022-04-06T13:39:59.970Z"
   },
   {
    "duration": 58,
    "start_time": "2022-04-06T13:40:00.881Z"
   },
   {
    "duration": 17,
    "start_time": "2022-04-06T13:40:18.307Z"
   },
   {
    "duration": 5,
    "start_time": "2022-04-06T13:40:26.507Z"
   },
   {
    "duration": 4,
    "start_time": "2022-04-06T13:40:27.974Z"
   },
   {
    "duration": 18,
    "start_time": "2022-04-06T13:40:28.810Z"
   },
   {
    "duration": 7,
    "start_time": "2022-04-06T13:56:11.236Z"
   },
   {
    "duration": 171,
    "start_time": "2022-04-06T13:56:12.738Z"
   },
   {
    "duration": 134,
    "start_time": "2022-04-06T13:56:14.881Z"
   },
   {
    "duration": 7,
    "start_time": "2022-04-06T13:56:17.725Z"
   },
   {
    "duration": 3,
    "start_time": "2022-04-06T13:56:19.109Z"
   },
   {
    "duration": 9,
    "start_time": "2022-04-06T13:56:20.826Z"
   },
   {
    "duration": 6,
    "start_time": "2022-04-06T13:56:29.689Z"
   },
   {
    "duration": 5,
    "start_time": "2022-04-06T13:56:31.065Z"
   },
   {
    "duration": 333,
    "start_time": "2022-04-06T13:56:32.302Z"
   },
   {
    "duration": 277,
    "start_time": "2022-04-06T13:57:18.914Z"
   },
   {
    "duration": 7,
    "start_time": "2022-04-06T13:57:55.421Z"
   },
   {
    "duration": 340,
    "start_time": "2022-04-06T13:57:57.498Z"
   },
   {
    "duration": 5,
    "start_time": "2022-04-06T13:58:10.690Z"
   },
   {
    "duration": 4,
    "start_time": "2022-04-06T13:58:12.248Z"
   },
   {
    "duration": 5,
    "start_time": "2022-04-06T13:58:13.472Z"
   },
   {
    "duration": 245,
    "start_time": "2022-04-06T13:58:14.678Z"
   },
   {
    "duration": 236,
    "start_time": "2022-04-06T13:58:37.766Z"
   },
   {
    "duration": 246,
    "start_time": "2022-04-06T13:58:49.488Z"
   },
   {
    "duration": 9,
    "start_time": "2022-04-06T13:59:30.367Z"
   },
   {
    "duration": 362,
    "start_time": "2022-04-06T13:59:44.665Z"
   },
   {
    "duration": 11,
    "start_time": "2022-04-06T14:00:23.625Z"
   },
   {
    "duration": 4,
    "start_time": "2022-04-06T14:00:25.453Z"
   },
   {
    "duration": 18,
    "start_time": "2022-04-06T14:00:26.169Z"
   },
   {
    "duration": 281,
    "start_time": "2022-04-06T14:00:30.106Z"
   },
   {
    "duration": 6,
    "start_time": "2022-04-06T14:01:20.770Z"
   },
   {
    "duration": 183,
    "start_time": "2022-04-06T14:01:52.195Z"
   },
   {
    "duration": 6,
    "start_time": "2022-04-06T14:01:59.597Z"
   },
   {
    "duration": 49,
    "start_time": "2022-04-06T14:02:53.529Z"
   },
   {
    "duration": 54,
    "start_time": "2022-04-06T14:02:56.881Z"
   },
   {
    "duration": 66,
    "start_time": "2022-04-06T14:02:58.697Z"
   },
   {
    "duration": 63,
    "start_time": "2022-04-06T14:03:05.404Z"
   },
   {
    "duration": 23,
    "start_time": "2022-04-06T14:03:07.861Z"
   },
   {
    "duration": 12,
    "start_time": "2022-04-06T14:03:09.322Z"
   },
   {
    "duration": 84,
    "start_time": "2022-04-06T14:03:31.106Z"
   },
   {
    "duration": 76,
    "start_time": "2022-04-06T14:03:35.371Z"
   },
   {
    "duration": 8,
    "start_time": "2022-04-06T14:03:38.519Z"
   },
   {
    "duration": 25,
    "start_time": "2022-04-06T14:03:40.403Z"
   },
   {
    "duration": 5,
    "start_time": "2022-04-06T14:03:42.752Z"
   },
   {
    "duration": 9,
    "start_time": "2022-04-06T14:04:04.840Z"
   },
   {
    "duration": 8,
    "start_time": "2022-04-06T14:04:06.870Z"
   },
   {
    "duration": 9,
    "start_time": "2022-04-06T14:05:03.865Z"
   },
   {
    "duration": 6,
    "start_time": "2022-04-06T14:05:05.828Z"
   },
   {
    "duration": 5,
    "start_time": "2022-04-06T14:05:11.122Z"
   },
   {
    "duration": 10,
    "start_time": "2022-04-06T14:05:35.409Z"
   },
   {
    "duration": 25,
    "start_time": "2022-04-06T14:05:37.437Z"
   },
   {
    "duration": 5,
    "start_time": "2022-04-06T14:05:38.493Z"
   },
   {
    "duration": 13,
    "start_time": "2022-04-06T14:05:57.311Z"
   },
   {
    "duration": 11,
    "start_time": "2022-04-06T14:05:58.991Z"
   },
   {
    "duration": 26,
    "start_time": "2022-04-06T14:25:57.838Z"
   },
   {
    "duration": 9,
    "start_time": "2022-04-06T14:26:06.958Z"
   },
   {
    "duration": 25,
    "start_time": "2022-04-06T14:26:26.974Z"
   },
   {
    "duration": 10,
    "start_time": "2022-04-06T14:26:39.429Z"
   },
   {
    "duration": 173,
    "start_time": "2022-04-06T14:37:45.160Z"
   },
   {
    "duration": 1266,
    "start_time": "2022-04-06T14:39:07.905Z"
   },
   {
    "duration": 37,
    "start_time": "2022-04-06T14:39:09.173Z"
   },
   {
    "duration": 27,
    "start_time": "2022-04-06T14:39:09.212Z"
   },
   {
    "duration": 4,
    "start_time": "2022-04-06T14:39:09.242Z"
   },
   {
    "duration": 33,
    "start_time": "2022-04-06T14:39:09.248Z"
   },
   {
    "duration": 38,
    "start_time": "2022-04-06T14:39:09.283Z"
   },
   {
    "duration": 18,
    "start_time": "2022-04-06T14:39:09.324Z"
   },
   {
    "duration": 51,
    "start_time": "2022-04-06T14:39:09.344Z"
   },
   {
    "duration": 13,
    "start_time": "2022-04-06T14:39:09.397Z"
   },
   {
    "duration": 32,
    "start_time": "2022-04-06T14:39:09.414Z"
   },
   {
    "duration": 30,
    "start_time": "2022-04-06T14:39:09.448Z"
   },
   {
    "duration": 19,
    "start_time": "2022-04-06T14:39:09.479Z"
   },
   {
    "duration": 30,
    "start_time": "2022-04-06T14:39:09.500Z"
   },
   {
    "duration": 30,
    "start_time": "2022-04-06T14:39:09.532Z"
   },
   {
    "duration": 30,
    "start_time": "2022-04-06T14:39:09.564Z"
   },
   {
    "duration": 21,
    "start_time": "2022-04-06T14:39:09.596Z"
   },
   {
    "duration": 71,
    "start_time": "2022-04-06T14:39:09.620Z"
   },
   {
    "duration": 5,
    "start_time": "2022-04-06T14:39:09.694Z"
   },
   {
    "duration": 23,
    "start_time": "2022-04-06T14:39:09.701Z"
   },
   {
    "duration": 41,
    "start_time": "2022-04-06T14:39:09.726Z"
   },
   {
    "duration": 18,
    "start_time": "2022-04-06T14:39:09.769Z"
   },
   {
    "duration": 193,
    "start_time": "2022-04-06T14:39:09.789Z"
   },
   {
    "duration": 145,
    "start_time": "2022-04-06T14:39:09.984Z"
   },
   {
    "duration": 8,
    "start_time": "2022-04-06T14:39:10.131Z"
   },
   {
    "duration": 15,
    "start_time": "2022-04-06T14:39:10.141Z"
   },
   {
    "duration": 36,
    "start_time": "2022-04-06T14:39:10.158Z"
   },
   {
    "duration": 22,
    "start_time": "2022-04-06T14:39:10.196Z"
   },
   {
    "duration": 41,
    "start_time": "2022-04-06T14:39:10.224Z"
   },
   {
    "duration": 344,
    "start_time": "2022-04-06T14:39:10.267Z"
   },
   {
    "duration": 259,
    "start_time": "2022-04-06T14:39:10.614Z"
   },
   {
    "duration": 7,
    "start_time": "2022-04-06T14:39:10.875Z"
   },
   {
    "duration": 378,
    "start_time": "2022-04-06T14:39:10.884Z"
   },
   {
    "duration": 6,
    "start_time": "2022-04-06T14:39:11.263Z"
   },
   {
    "duration": 24,
    "start_time": "2022-04-06T14:39:11.271Z"
   },
   {
    "duration": 24,
    "start_time": "2022-04-06T14:39:11.297Z"
   },
   {
    "duration": 257,
    "start_time": "2022-04-06T14:39:11.323Z"
   },
   {
    "duration": 9,
    "start_time": "2022-04-06T14:39:11.582Z"
   },
   {
    "duration": 400,
    "start_time": "2022-04-06T14:39:11.593Z"
   },
   {
    "duration": 12,
    "start_time": "2022-04-06T14:39:11.995Z"
   },
   {
    "duration": 30,
    "start_time": "2022-04-06T14:39:12.009Z"
   },
   {
    "duration": 32,
    "start_time": "2022-04-06T14:39:12.041Z"
   },
   {
    "duration": 236,
    "start_time": "2022-04-06T14:39:12.075Z"
   },
   {
    "duration": 6,
    "start_time": "2022-04-06T14:39:12.313Z"
   },
   {
    "duration": 207,
    "start_time": "2022-04-06T14:39:12.320Z"
   },
   {
    "duration": 6,
    "start_time": "2022-04-06T14:39:12.528Z"
   },
   {
    "duration": 144,
    "start_time": "2022-04-06T14:39:12.536Z"
   },
   {
    "duration": 60,
    "start_time": "2022-04-06T14:39:12.682Z"
   },
   {
    "duration": 105,
    "start_time": "2022-04-06T14:39:12.744Z"
   },
   {
    "duration": 69,
    "start_time": "2022-04-06T14:39:12.851Z"
   },
   {
    "duration": 49,
    "start_time": "2022-04-06T14:39:12.922Z"
   },
   {
    "duration": 18,
    "start_time": "2022-04-06T14:39:12.973Z"
   },
   {
    "duration": 80,
    "start_time": "2022-04-06T14:39:12.993Z"
   },
   {
    "duration": 72,
    "start_time": "2022-04-06T14:39:13.075Z"
   },
   {
    "duration": 7,
    "start_time": "2022-04-06T14:39:13.149Z"
   },
   {
    "duration": 40,
    "start_time": "2022-04-06T14:39:13.158Z"
   },
   {
    "duration": 5,
    "start_time": "2022-04-06T14:39:13.200Z"
   },
   {
    "duration": 15,
    "start_time": "2022-04-06T14:39:13.207Z"
   },
   {
    "duration": 46,
    "start_time": "2022-04-06T14:39:13.224Z"
   },
   {
    "duration": 31,
    "start_time": "2022-04-06T14:39:13.272Z"
   },
   {
    "duration": 26,
    "start_time": "2022-04-06T14:39:13.305Z"
   },
   {
    "duration": 27,
    "start_time": "2022-04-06T14:39:13.333Z"
   },
   {
    "duration": 12,
    "start_time": "2022-04-06T14:39:13.362Z"
   },
   {
    "duration": 48,
    "start_time": "2022-04-06T14:39:13.376Z"
   },
   {
    "duration": 6,
    "start_time": "2022-04-06T14:39:13.426Z"
   },
   {
    "duration": 21,
    "start_time": "2022-04-06T14:39:13.434Z"
   },
   {
    "duration": 16,
    "start_time": "2022-04-06T14:39:13.457Z"
   },
   {
    "duration": 1019,
    "start_time": "2022-04-06T19:42:51.357Z"
   },
   {
    "duration": 33,
    "start_time": "2022-04-06T19:42:52.378Z"
   },
   {
    "duration": 20,
    "start_time": "2022-04-06T19:42:52.412Z"
   },
   {
    "duration": 4,
    "start_time": "2022-04-06T19:42:52.434Z"
   },
   {
    "duration": 4,
    "start_time": "2022-04-06T19:42:52.440Z"
   },
   {
    "duration": 23,
    "start_time": "2022-04-06T19:42:52.445Z"
   },
   {
    "duration": 12,
    "start_time": "2022-04-06T19:42:52.469Z"
   },
   {
    "duration": 20,
    "start_time": "2022-04-06T19:42:52.482Z"
   },
   {
    "duration": 30,
    "start_time": "2022-04-06T19:42:52.503Z"
   },
   {
    "duration": 7,
    "start_time": "2022-04-06T19:42:52.534Z"
   },
   {
    "duration": 8,
    "start_time": "2022-04-06T19:42:52.542Z"
   },
   {
    "duration": 6,
    "start_time": "2022-04-06T19:42:52.551Z"
   },
   {
    "duration": 7,
    "start_time": "2022-04-06T19:42:52.559Z"
   },
   {
    "duration": 14,
    "start_time": "2022-04-06T19:42:52.569Z"
   },
   {
    "duration": 6,
    "start_time": "2022-04-06T19:42:52.584Z"
   },
   {
    "duration": 6,
    "start_time": "2022-04-06T19:42:52.591Z"
   },
   {
    "duration": 62,
    "start_time": "2022-04-06T19:42:52.598Z"
   },
   {
    "duration": 3,
    "start_time": "2022-04-06T19:42:52.661Z"
   },
   {
    "duration": 5,
    "start_time": "2022-04-06T19:42:52.666Z"
   },
   {
    "duration": 16,
    "start_time": "2022-04-06T19:42:52.672Z"
   },
   {
    "duration": 6,
    "start_time": "2022-04-06T19:42:52.689Z"
   },
   {
    "duration": 154,
    "start_time": "2022-04-06T19:42:52.696Z"
   },
   {
    "duration": 108,
    "start_time": "2022-04-06T19:42:52.852Z"
   },
   {
    "duration": 5,
    "start_time": "2022-04-06T19:42:52.962Z"
   },
   {
    "duration": 5,
    "start_time": "2022-04-06T19:42:52.968Z"
   },
   {
    "duration": 9,
    "start_time": "2022-04-06T19:42:52.974Z"
   },
   {
    "duration": 6,
    "start_time": "2022-04-06T19:42:52.984Z"
   },
   {
    "duration": 5,
    "start_time": "2022-04-06T19:42:52.991Z"
   },
   {
    "duration": 264,
    "start_time": "2022-04-06T19:42:52.998Z"
   },
   {
    "duration": 198,
    "start_time": "2022-04-06T19:42:53.263Z"
   },
   {
    "duration": 5,
    "start_time": "2022-04-06T19:42:53.463Z"
   },
   {
    "duration": 271,
    "start_time": "2022-04-06T19:42:53.469Z"
   },
   {
    "duration": 4,
    "start_time": "2022-04-06T19:42:53.741Z"
   },
   {
    "duration": 5,
    "start_time": "2022-04-06T19:42:53.746Z"
   },
   {
    "duration": 6,
    "start_time": "2022-04-06T19:42:53.752Z"
   },
   {
    "duration": 207,
    "start_time": "2022-04-06T19:42:53.759Z"
   },
   {
    "duration": 6,
    "start_time": "2022-04-06T19:42:53.968Z"
   },
   {
    "duration": 287,
    "start_time": "2022-04-06T19:42:53.976Z"
   },
   {
    "duration": 5,
    "start_time": "2022-04-06T19:42:54.265Z"
   },
   {
    "duration": 3,
    "start_time": "2022-04-06T19:42:54.271Z"
   },
   {
    "duration": 7,
    "start_time": "2022-04-06T19:42:54.278Z"
   },
   {
    "duration": 171,
    "start_time": "2022-04-06T19:42:54.286Z"
   },
   {
    "duration": 4,
    "start_time": "2022-04-06T19:42:54.459Z"
   },
   {
    "duration": 165,
    "start_time": "2022-04-06T19:42:54.464Z"
   },
   {
    "duration": 4,
    "start_time": "2022-04-06T19:42:54.631Z"
   },
   {
    "duration": 43,
    "start_time": "2022-04-06T19:42:54.637Z"
   },
   {
    "duration": 55,
    "start_time": "2022-04-06T19:42:54.681Z"
   },
   {
    "duration": 50,
    "start_time": "2022-04-06T19:42:54.737Z"
   },
   {
    "duration": 62,
    "start_time": "2022-04-06T19:42:54.789Z"
   },
   {
    "duration": 19,
    "start_time": "2022-04-06T19:42:54.852Z"
   },
   {
    "duration": 9,
    "start_time": "2022-04-06T19:42:54.872Z"
   },
   {
    "duration": 73,
    "start_time": "2022-04-06T19:42:54.883Z"
   },
   {
    "duration": 73,
    "start_time": "2022-04-06T19:42:54.958Z"
   },
   {
    "duration": 7,
    "start_time": "2022-04-06T19:42:55.032Z"
   },
   {
    "duration": 25,
    "start_time": "2022-04-06T19:42:55.040Z"
   },
   {
    "duration": 4,
    "start_time": "2022-04-06T19:42:55.067Z"
   },
   {
    "duration": 9,
    "start_time": "2022-04-06T19:42:55.072Z"
   },
   {
    "duration": 7,
    "start_time": "2022-04-06T19:42:55.082Z"
   },
   {
    "duration": 9,
    "start_time": "2022-04-06T19:42:55.091Z"
   },
   {
    "duration": 29,
    "start_time": "2022-04-06T19:42:55.101Z"
   },
   {
    "duration": 3,
    "start_time": "2022-04-06T19:42:55.132Z"
   },
   {
    "duration": 7,
    "start_time": "2022-04-06T19:42:55.136Z"
   },
   {
    "duration": 19,
    "start_time": "2022-04-06T19:42:55.144Z"
   },
   {
    "duration": 4,
    "start_time": "2022-04-06T19:42:55.164Z"
   },
   {
    "duration": 9,
    "start_time": "2022-04-06T19:42:55.170Z"
   },
   {
    "duration": 8,
    "start_time": "2022-04-06T19:42:55.181Z"
   }
  ],
  "kernelspec": {
   "display_name": "Python 3 (ipykernel)",
   "language": "python",
   "name": "python3"
  },
  "language_info": {
   "codemirror_mode": {
    "name": "ipython",
    "version": 3
   },
   "file_extension": ".py",
   "mimetype": "text/x-python",
   "name": "python",
   "nbconvert_exporter": "python",
   "pygments_lexer": "ipython3",
   "version": "3.9.7"
  },
  "toc": {
   "base_numbering": 1,
   "nav_menu": {},
   "number_sections": true,
   "sideBar": true,
   "skip_h1_title": true,
   "title_cell": "Содержание",
   "title_sidebar": "Содержание",
   "toc_cell": true,
   "toc_position": {},
   "toc_section_display": true,
   "toc_window_display": true
  }
 },
 "nbformat": 4,
 "nbformat_minor": 2
}
