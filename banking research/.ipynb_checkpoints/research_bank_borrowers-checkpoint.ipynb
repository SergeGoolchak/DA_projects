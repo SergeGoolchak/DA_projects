{
 "cells": [
  {
   "cell_type": "markdown",
   "metadata": {},
   "source": [
    "# Этапы проекта\n",
    "\n",
    "1. [Открытие и исследование файла данных](#first_id)\n",
    "2. [Предобработка данных](#second)\n",
    "    * [2.1. Обработка пропусков](#task2_1)\n",
    "    * [2.2. Замена типа данных](#task2_2)\n",
    "    * [2.3. Обработка дубликатов](#task2_3)\n",
    "    * [2.4. Лемматизация](#task2_1)\n",
    "    * [2.5. Категоризация данных](#task2_4)\n",
    "3. [Изучение гипотез](#third)\n",
    "    * [Есть ли зависимость между наличием детей и возвратом кредита в срок?](#question_1)\n",
    "    * [Есть ли зависимость между семейным положением и возвратом кредита в срок?](#question_2)\n",
    "    * [Есть ли зависимость между уровнем дохода и возвратом кредита в срок?](#question_3)\n",
    "    * [Как разные цели кредита влияют на его возврат в срок?](#question_4)\n",
    "4. [Общий вывод](#fourth)\n",
    "5. [Чек-лист готовности проекта](#fifth)\n"
   ]
  },
  {
   "cell_type": "markdown",
   "metadata": {},
   "source": [
    "## <a id=\"first_id\"></a> Открытие и исследование файла данных  "
   ]
  },
  {
   "cell_type": "markdown",
   "metadata": {},
   "source": [
    "Импортируем библиотеки."
   ]
  },
  {
   "cell_type": "code",
   "execution_count": 1,
   "metadata": {},
   "outputs": [],
   "source": [
    "import pandas as pd\n",
    "import numpy as np\n",
    "from pymystem3 import Mystem"
   ]
  },
  {
   "cell_type": "markdown",
   "metadata": {},
   "source": [
    "Запишем локальный путь к данным в переменную path."
   ]
  },
  {
   "cell_type": "code",
   "execution_count": 2,
   "metadata": {},
   "outputs": [],
   "source": [
    "path = '/Users/segagoose/Documents/YandexPracticum/Предобработка данных'"
   ]
  },
  {
   "cell_type": "markdown",
   "metadata": {},
   "source": [
    "Прочитаем полученные данные и запишем в переменную data."
   ]
  },
  {
   "cell_type": "code",
   "execution_count": 3,
   "metadata": {},
   "outputs": [],
   "source": [
    "try:\n",
    "    data = pd.read_csv(path + '/data.csv')\n",
    "except:\n",
    "    data = pd.read_csv('/datasets/data.csv')"
   ]
  },
  {
   "cell_type": "markdown",
   "metadata": {},
   "source": [
    "Выведем информацию о таблице."
   ]
  },
  {
   "cell_type": "code",
   "execution_count": 4,
   "metadata": {},
   "outputs": [
    {
     "name": "stdout",
     "output_type": "stream",
     "text": [
      "<class 'pandas.core.frame.DataFrame'>\n",
      "RangeIndex: 21525 entries, 0 to 21524\n",
      "Data columns (total 12 columns):\n",
      " #   Column            Non-Null Count  Dtype  \n",
      "---  ------            --------------  -----  \n",
      " 0   children          21525 non-null  int64  \n",
      " 1   days_employed     19351 non-null  float64\n",
      " 2   dob_years         21525 non-null  int64  \n",
      " 3   education         21525 non-null  object \n",
      " 4   education_id      21525 non-null  int64  \n",
      " 5   family_status     21525 non-null  object \n",
      " 6   family_status_id  21525 non-null  int64  \n",
      " 7   gender            21525 non-null  object \n",
      " 8   income_type       21525 non-null  object \n",
      " 9   debt              21525 non-null  int64  \n",
      " 10  total_income      19351 non-null  float64\n",
      " 11  purpose           21525 non-null  object \n",
      "dtypes: float64(2), int64(5), object(5)\n",
      "memory usage: 2.0+ MB\n"
     ]
    }
   ],
   "source": [
    "data.info()"
   ]
  },
  {
   "cell_type": "markdown",
   "metadata": {},
   "source": [
    "Изучим информацию об уникальных значениях в категориальных столбцах."
   ]
  },
  {
   "cell_type": "code",
   "execution_count": 5,
   "metadata": {},
   "outputs": [
    {
     "name": "stdout",
     "output_type": "stream",
     "text": [
      "children:\n",
      "  0     14149\n",
      " 1      4818\n",
      " 2      2055\n",
      " 3       330\n",
      " 20       76\n",
      "-1        47\n",
      " 4        41\n",
      " 5         9\n",
      "Name: children, dtype: int64\n",
      "\n",
      "dob_years:\n",
      " 35    617\n",
      "40    609\n",
      "41    607\n",
      "34    603\n",
      "38    598\n",
      "42    597\n",
      "33    581\n",
      "39    573\n",
      "31    560\n",
      "36    555\n",
      "44    547\n",
      "29    545\n",
      "30    540\n",
      "48    538\n",
      "37    537\n",
      "50    514\n",
      "43    513\n",
      "32    510\n",
      "49    508\n",
      "28    503\n",
      "45    497\n",
      "27    493\n",
      "56    487\n",
      "52    484\n",
      "47    480\n",
      "54    479\n",
      "46    475\n",
      "58    461\n",
      "57    460\n",
      "53    459\n",
      "51    448\n",
      "59    444\n",
      "55    443\n",
      "26    408\n",
      "60    377\n",
      "25    357\n",
      "61    355\n",
      "62    352\n",
      "63    269\n",
      "64    265\n",
      "24    264\n",
      "23    254\n",
      "65    194\n",
      "22    183\n",
      "66    183\n",
      "67    167\n",
      "21    111\n",
      "0     101\n",
      "68     99\n",
      "69     85\n",
      "70     65\n",
      "71     58\n",
      "20     51\n",
      "72     33\n",
      "19     14\n",
      "73      8\n",
      "74      6\n",
      "75      1\n",
      "Name: dob_years, dtype: int64\n",
      "\n",
      "education:\n",
      " среднее                13750\n",
      "высшее                  4718\n",
      "СРЕДНЕЕ                  772\n",
      "Среднее                  711\n",
      "неоконченное высшее      668\n",
      "ВЫСШЕЕ                   274\n",
      "Высшее                   268\n",
      "начальное                250\n",
      "Неоконченное высшее       47\n",
      "НЕОКОНЧЕННОЕ ВЫСШЕЕ       29\n",
      "НАЧАЛЬНОЕ                 17\n",
      "Начальное                 15\n",
      "ученая степень             4\n",
      "Ученая степень             1\n",
      "УЧЕНАЯ СТЕПЕНЬ             1\n",
      "Name: education, dtype: int64\n",
      "\n",
      "education_id:\n",
      " 1    15233\n",
      "0     5260\n",
      "2      744\n",
      "3      282\n",
      "4        6\n",
      "Name: education_id, dtype: int64\n",
      "\n",
      "family_status:\n",
      " женат / замужем          12380\n",
      "гражданский брак          4177\n",
      "Не женат / не замужем     2813\n",
      "в разводе                 1195\n",
      "вдовец / вдова             960\n",
      "Name: family_status, dtype: int64\n",
      "\n",
      "family_status_id:\n",
      " 0    12380\n",
      "1     4177\n",
      "4     2813\n",
      "3     1195\n",
      "2      960\n",
      "Name: family_status_id, dtype: int64\n",
      "\n",
      "gender:\n",
      " F      14236\n",
      "M       7288\n",
      "XNA        1\n",
      "Name: gender, dtype: int64\n",
      "\n",
      "income_type:\n",
      " сотрудник          11119\n",
      "компаньон           5085\n",
      "пенсионер           3856\n",
      "госслужащий         1459\n",
      "безработный            2\n",
      "предприниматель        2\n",
      "студент                1\n",
      "в декрете              1\n",
      "Name: income_type, dtype: int64\n",
      "\n",
      "debt:\n",
      " 0    19784\n",
      "1     1741\n",
      "Name: debt, dtype: int64\n",
      "\n"
     ]
    }
   ],
   "source": [
    "for column in [\n",
    "    'children', 'dob_years', 'education', 'education_id', 'family_status', \n",
    "    'family_status_id', 'gender', 'income_type', 'debt'\n",
    "]:\n",
    "    print(f'{column}:\\n', data[column].value_counts())\n",
    "    print()"
   ]
  },
  {
   "cell_type": "markdown",
   "metadata": {},
   "source": [
    "Изучим описание данных с помощью метода describe()."
   ]
  },
  {
   "cell_type": "code",
   "execution_count": 6,
   "metadata": {},
   "outputs": [
    {
     "data": {
      "text/html": [
       "<div>\n",
       "<style scoped>\n",
       "    .dataframe tbody tr th:only-of-type {\n",
       "        vertical-align: middle;\n",
       "    }\n",
       "\n",
       "    .dataframe tbody tr th {\n",
       "        vertical-align: top;\n",
       "    }\n",
       "\n",
       "    .dataframe thead th {\n",
       "        text-align: right;\n",
       "    }\n",
       "</style>\n",
       "<table border=\"1\" class=\"dataframe\">\n",
       "  <thead>\n",
       "    <tr style=\"text-align: right;\">\n",
       "      <th></th>\n",
       "      <th>count</th>\n",
       "      <th>unique</th>\n",
       "      <th>top</th>\n",
       "      <th>freq</th>\n",
       "      <th>mean</th>\n",
       "      <th>std</th>\n",
       "      <th>min</th>\n",
       "      <th>25%</th>\n",
       "      <th>50%</th>\n",
       "      <th>75%</th>\n",
       "      <th>max</th>\n",
       "    </tr>\n",
       "  </thead>\n",
       "  <tbody>\n",
       "    <tr>\n",
       "      <th>children</th>\n",
       "      <td>21525.0</td>\n",
       "      <td>NaN</td>\n",
       "      <td>NaN</td>\n",
       "      <td>NaN</td>\n",
       "      <td>0.538908</td>\n",
       "      <td>1.381587</td>\n",
       "      <td>-1.0</td>\n",
       "      <td>0.0</td>\n",
       "      <td>0.0</td>\n",
       "      <td>1.0</td>\n",
       "      <td>20.0</td>\n",
       "    </tr>\n",
       "    <tr>\n",
       "      <th>days_employed</th>\n",
       "      <td>19351.0</td>\n",
       "      <td>NaN</td>\n",
       "      <td>NaN</td>\n",
       "      <td>NaN</td>\n",
       "      <td>63046.497661</td>\n",
       "      <td>140827.311974</td>\n",
       "      <td>-18388.949901</td>\n",
       "      <td>-2747.423625</td>\n",
       "      <td>-1203.369529</td>\n",
       "      <td>-291.095954</td>\n",
       "      <td>401755.400475</td>\n",
       "    </tr>\n",
       "    <tr>\n",
       "      <th>dob_years</th>\n",
       "      <td>21525.0</td>\n",
       "      <td>NaN</td>\n",
       "      <td>NaN</td>\n",
       "      <td>NaN</td>\n",
       "      <td>43.29338</td>\n",
       "      <td>12.574584</td>\n",
       "      <td>0.0</td>\n",
       "      <td>33.0</td>\n",
       "      <td>42.0</td>\n",
       "      <td>53.0</td>\n",
       "      <td>75.0</td>\n",
       "    </tr>\n",
       "    <tr>\n",
       "      <th>education</th>\n",
       "      <td>21525</td>\n",
       "      <td>15</td>\n",
       "      <td>среднее</td>\n",
       "      <td>13750</td>\n",
       "      <td>NaN</td>\n",
       "      <td>NaN</td>\n",
       "      <td>NaN</td>\n",
       "      <td>NaN</td>\n",
       "      <td>NaN</td>\n",
       "      <td>NaN</td>\n",
       "      <td>NaN</td>\n",
       "    </tr>\n",
       "    <tr>\n",
       "      <th>education_id</th>\n",
       "      <td>21525.0</td>\n",
       "      <td>NaN</td>\n",
       "      <td>NaN</td>\n",
       "      <td>NaN</td>\n",
       "      <td>0.817236</td>\n",
       "      <td>0.548138</td>\n",
       "      <td>0.0</td>\n",
       "      <td>1.0</td>\n",
       "      <td>1.0</td>\n",
       "      <td>1.0</td>\n",
       "      <td>4.0</td>\n",
       "    </tr>\n",
       "    <tr>\n",
       "      <th>family_status</th>\n",
       "      <td>21525</td>\n",
       "      <td>5</td>\n",
       "      <td>женат / замужем</td>\n",
       "      <td>12380</td>\n",
       "      <td>NaN</td>\n",
       "      <td>NaN</td>\n",
       "      <td>NaN</td>\n",
       "      <td>NaN</td>\n",
       "      <td>NaN</td>\n",
       "      <td>NaN</td>\n",
       "      <td>NaN</td>\n",
       "    </tr>\n",
       "    <tr>\n",
       "      <th>family_status_id</th>\n",
       "      <td>21525.0</td>\n",
       "      <td>NaN</td>\n",
       "      <td>NaN</td>\n",
       "      <td>NaN</td>\n",
       "      <td>0.972544</td>\n",
       "      <td>1.420324</td>\n",
       "      <td>0.0</td>\n",
       "      <td>0.0</td>\n",
       "      <td>0.0</td>\n",
       "      <td>1.0</td>\n",
       "      <td>4.0</td>\n",
       "    </tr>\n",
       "    <tr>\n",
       "      <th>gender</th>\n",
       "      <td>21525</td>\n",
       "      <td>3</td>\n",
       "      <td>F</td>\n",
       "      <td>14236</td>\n",
       "      <td>NaN</td>\n",
       "      <td>NaN</td>\n",
       "      <td>NaN</td>\n",
       "      <td>NaN</td>\n",
       "      <td>NaN</td>\n",
       "      <td>NaN</td>\n",
       "      <td>NaN</td>\n",
       "    </tr>\n",
       "    <tr>\n",
       "      <th>income_type</th>\n",
       "      <td>21525</td>\n",
       "      <td>8</td>\n",
       "      <td>сотрудник</td>\n",
       "      <td>11119</td>\n",
       "      <td>NaN</td>\n",
       "      <td>NaN</td>\n",
       "      <td>NaN</td>\n",
       "      <td>NaN</td>\n",
       "      <td>NaN</td>\n",
       "      <td>NaN</td>\n",
       "      <td>NaN</td>\n",
       "    </tr>\n",
       "    <tr>\n",
       "      <th>debt</th>\n",
       "      <td>21525.0</td>\n",
       "      <td>NaN</td>\n",
       "      <td>NaN</td>\n",
       "      <td>NaN</td>\n",
       "      <td>0.080883</td>\n",
       "      <td>0.272661</td>\n",
       "      <td>0.0</td>\n",
       "      <td>0.0</td>\n",
       "      <td>0.0</td>\n",
       "      <td>0.0</td>\n",
       "      <td>1.0</td>\n",
       "    </tr>\n",
       "    <tr>\n",
       "      <th>total_income</th>\n",
       "      <td>19351.0</td>\n",
       "      <td>NaN</td>\n",
       "      <td>NaN</td>\n",
       "      <td>NaN</td>\n",
       "      <td>167422.302208</td>\n",
       "      <td>102971.566448</td>\n",
       "      <td>20667.263793</td>\n",
       "      <td>103053.152913</td>\n",
       "      <td>145017.937533</td>\n",
       "      <td>203435.067663</td>\n",
       "      <td>2265604.028723</td>\n",
       "    </tr>\n",
       "    <tr>\n",
       "      <th>purpose</th>\n",
       "      <td>21525</td>\n",
       "      <td>38</td>\n",
       "      <td>свадьба</td>\n",
       "      <td>797</td>\n",
       "      <td>NaN</td>\n",
       "      <td>NaN</td>\n",
       "      <td>NaN</td>\n",
       "      <td>NaN</td>\n",
       "      <td>NaN</td>\n",
       "      <td>NaN</td>\n",
       "      <td>NaN</td>\n",
       "    </tr>\n",
       "  </tbody>\n",
       "</table>\n",
       "</div>"
      ],
      "text/plain": [
       "                    count unique              top   freq           mean  \\\n",
       "children          21525.0    NaN              NaN    NaN       0.538908   \n",
       "days_employed     19351.0    NaN              NaN    NaN   63046.497661   \n",
       "dob_years         21525.0    NaN              NaN    NaN       43.29338   \n",
       "education           21525     15          среднее  13750            NaN   \n",
       "education_id      21525.0    NaN              NaN    NaN       0.817236   \n",
       "family_status       21525      5  женат / замужем  12380            NaN   \n",
       "family_status_id  21525.0    NaN              NaN    NaN       0.972544   \n",
       "gender              21525      3                F  14236            NaN   \n",
       "income_type         21525      8        сотрудник  11119            NaN   \n",
       "debt              21525.0    NaN              NaN    NaN       0.080883   \n",
       "total_income      19351.0    NaN              NaN    NaN  167422.302208   \n",
       "purpose             21525     38          свадьба    797            NaN   \n",
       "\n",
       "                            std           min            25%            50%  \\\n",
       "children               1.381587          -1.0            0.0            0.0   \n",
       "days_employed     140827.311974 -18388.949901   -2747.423625   -1203.369529   \n",
       "dob_years             12.574584           0.0           33.0           42.0   \n",
       "education                   NaN           NaN            NaN            NaN   \n",
       "education_id           0.548138           0.0            1.0            1.0   \n",
       "family_status               NaN           NaN            NaN            NaN   \n",
       "family_status_id       1.420324           0.0            0.0            0.0   \n",
       "gender                      NaN           NaN            NaN            NaN   \n",
       "income_type                 NaN           NaN            NaN            NaN   \n",
       "debt                   0.272661           0.0            0.0            0.0   \n",
       "total_income      102971.566448  20667.263793  103053.152913  145017.937533   \n",
       "purpose                     NaN           NaN            NaN            NaN   \n",
       "\n",
       "                            75%             max  \n",
       "children                    1.0            20.0  \n",
       "days_employed       -291.095954   401755.400475  \n",
       "dob_years                  53.0            75.0  \n",
       "education                   NaN             NaN  \n",
       "education_id                1.0             4.0  \n",
       "family_status               NaN             NaN  \n",
       "family_status_id            1.0             4.0  \n",
       "gender                      NaN             NaN  \n",
       "income_type                 NaN             NaN  \n",
       "debt                        0.0             1.0  \n",
       "total_income      203435.067663  2265604.028723  \n",
       "purpose                     NaN             NaN  "
      ]
     },
     "execution_count": 6,
     "metadata": {},
     "output_type": "execute_result"
    }
   ],
   "source": [
    "data.describe(include='all').T"
   ]
  },
  {
   "cell_type": "markdown",
   "metadata": {},
   "source": [
    "**Вывод**"
   ]
  },
  {
   "cell_type": "markdown",
   "metadata": {},
   "source": [
    "Мы получили данные хранящиеся в таблице состоящей из 12 колонок и 21525 строк. В таблице содержится информация о заемщиках, в двух колонках days_employed и total_income есть пропуски данных. В колонках children, days_employed и education данные отраженны некорректно, требуется предобработка. В столбцах dob_years и gender также есть артефакты вроде нулевого возраста и пола XNA, но мы эти данные трогать не будем так, как они не влияют на результат нашего исследования."
   ]
  },
  {
   "cell_type": "markdown",
   "metadata": {},
   "source": [
    "## Предобработка данных <a id=\"second\"></a> "
   ]
  },
  {
   "cell_type": "markdown",
   "metadata": {},
   "source": [
    "### Обработка пропусков <a id=\"task2_1\"></a>"
   ]
  },
  {
   "cell_type": "markdown",
   "metadata": {},
   "source": [
    "Изучим пропуски данных в столбце 'days_employed'."
   ]
  },
  {
   "cell_type": "code",
   "execution_count": 7,
   "metadata": {},
   "outputs": [
    {
     "data": {
      "text/html": [
       "<div>\n",
       "<style scoped>\n",
       "    .dataframe tbody tr th:only-of-type {\n",
       "        vertical-align: middle;\n",
       "    }\n",
       "\n",
       "    .dataframe tbody tr th {\n",
       "        vertical-align: top;\n",
       "    }\n",
       "\n",
       "    .dataframe thead th {\n",
       "        text-align: right;\n",
       "    }\n",
       "</style>\n",
       "<table border=\"1\" class=\"dataframe\">\n",
       "  <thead>\n",
       "    <tr style=\"text-align: right;\">\n",
       "      <th></th>\n",
       "      <th>children</th>\n",
       "      <th>days_employed</th>\n",
       "      <th>dob_years</th>\n",
       "      <th>education</th>\n",
       "      <th>education_id</th>\n",
       "      <th>family_status</th>\n",
       "      <th>family_status_id</th>\n",
       "      <th>gender</th>\n",
       "      <th>income_type</th>\n",
       "      <th>debt</th>\n",
       "      <th>total_income</th>\n",
       "      <th>purpose</th>\n",
       "    </tr>\n",
       "  </thead>\n",
       "  <tbody>\n",
       "    <tr>\n",
       "      <th>12</th>\n",
       "      <td>0</td>\n",
       "      <td>NaN</td>\n",
       "      <td>65</td>\n",
       "      <td>среднее</td>\n",
       "      <td>1</td>\n",
       "      <td>гражданский брак</td>\n",
       "      <td>1</td>\n",
       "      <td>M</td>\n",
       "      <td>пенсионер</td>\n",
       "      <td>0</td>\n",
       "      <td>NaN</td>\n",
       "      <td>сыграть свадьбу</td>\n",
       "    </tr>\n",
       "    <tr>\n",
       "      <th>26</th>\n",
       "      <td>0</td>\n",
       "      <td>NaN</td>\n",
       "      <td>41</td>\n",
       "      <td>среднее</td>\n",
       "      <td>1</td>\n",
       "      <td>женат / замужем</td>\n",
       "      <td>0</td>\n",
       "      <td>M</td>\n",
       "      <td>госслужащий</td>\n",
       "      <td>0</td>\n",
       "      <td>NaN</td>\n",
       "      <td>образование</td>\n",
       "    </tr>\n",
       "    <tr>\n",
       "      <th>29</th>\n",
       "      <td>0</td>\n",
       "      <td>NaN</td>\n",
       "      <td>63</td>\n",
       "      <td>среднее</td>\n",
       "      <td>1</td>\n",
       "      <td>Не женат / не замужем</td>\n",
       "      <td>4</td>\n",
       "      <td>F</td>\n",
       "      <td>пенсионер</td>\n",
       "      <td>0</td>\n",
       "      <td>NaN</td>\n",
       "      <td>строительство жилой недвижимости</td>\n",
       "    </tr>\n",
       "    <tr>\n",
       "      <th>41</th>\n",
       "      <td>0</td>\n",
       "      <td>NaN</td>\n",
       "      <td>50</td>\n",
       "      <td>среднее</td>\n",
       "      <td>1</td>\n",
       "      <td>женат / замужем</td>\n",
       "      <td>0</td>\n",
       "      <td>F</td>\n",
       "      <td>госслужащий</td>\n",
       "      <td>0</td>\n",
       "      <td>NaN</td>\n",
       "      <td>сделка с подержанным автомобилем</td>\n",
       "    </tr>\n",
       "    <tr>\n",
       "      <th>55</th>\n",
       "      <td>0</td>\n",
       "      <td>NaN</td>\n",
       "      <td>54</td>\n",
       "      <td>среднее</td>\n",
       "      <td>1</td>\n",
       "      <td>гражданский брак</td>\n",
       "      <td>1</td>\n",
       "      <td>F</td>\n",
       "      <td>пенсионер</td>\n",
       "      <td>1</td>\n",
       "      <td>NaN</td>\n",
       "      <td>сыграть свадьбу</td>\n",
       "    </tr>\n",
       "    <tr>\n",
       "      <th>...</th>\n",
       "      <td>...</td>\n",
       "      <td>...</td>\n",
       "      <td>...</td>\n",
       "      <td>...</td>\n",
       "      <td>...</td>\n",
       "      <td>...</td>\n",
       "      <td>...</td>\n",
       "      <td>...</td>\n",
       "      <td>...</td>\n",
       "      <td>...</td>\n",
       "      <td>...</td>\n",
       "      <td>...</td>\n",
       "    </tr>\n",
       "    <tr>\n",
       "      <th>21489</th>\n",
       "      <td>2</td>\n",
       "      <td>NaN</td>\n",
       "      <td>47</td>\n",
       "      <td>Среднее</td>\n",
       "      <td>1</td>\n",
       "      <td>женат / замужем</td>\n",
       "      <td>0</td>\n",
       "      <td>M</td>\n",
       "      <td>компаньон</td>\n",
       "      <td>0</td>\n",
       "      <td>NaN</td>\n",
       "      <td>сделка с автомобилем</td>\n",
       "    </tr>\n",
       "    <tr>\n",
       "      <th>21495</th>\n",
       "      <td>1</td>\n",
       "      <td>NaN</td>\n",
       "      <td>50</td>\n",
       "      <td>среднее</td>\n",
       "      <td>1</td>\n",
       "      <td>гражданский брак</td>\n",
       "      <td>1</td>\n",
       "      <td>F</td>\n",
       "      <td>сотрудник</td>\n",
       "      <td>0</td>\n",
       "      <td>NaN</td>\n",
       "      <td>свадьба</td>\n",
       "    </tr>\n",
       "    <tr>\n",
       "      <th>21497</th>\n",
       "      <td>0</td>\n",
       "      <td>NaN</td>\n",
       "      <td>48</td>\n",
       "      <td>ВЫСШЕЕ</td>\n",
       "      <td>0</td>\n",
       "      <td>женат / замужем</td>\n",
       "      <td>0</td>\n",
       "      <td>F</td>\n",
       "      <td>компаньон</td>\n",
       "      <td>0</td>\n",
       "      <td>NaN</td>\n",
       "      <td>строительство недвижимости</td>\n",
       "    </tr>\n",
       "    <tr>\n",
       "      <th>21502</th>\n",
       "      <td>1</td>\n",
       "      <td>NaN</td>\n",
       "      <td>42</td>\n",
       "      <td>среднее</td>\n",
       "      <td>1</td>\n",
       "      <td>женат / замужем</td>\n",
       "      <td>0</td>\n",
       "      <td>F</td>\n",
       "      <td>сотрудник</td>\n",
       "      <td>0</td>\n",
       "      <td>NaN</td>\n",
       "      <td>строительство жилой недвижимости</td>\n",
       "    </tr>\n",
       "    <tr>\n",
       "      <th>21510</th>\n",
       "      <td>2</td>\n",
       "      <td>NaN</td>\n",
       "      <td>28</td>\n",
       "      <td>среднее</td>\n",
       "      <td>1</td>\n",
       "      <td>женат / замужем</td>\n",
       "      <td>0</td>\n",
       "      <td>F</td>\n",
       "      <td>сотрудник</td>\n",
       "      <td>0</td>\n",
       "      <td>NaN</td>\n",
       "      <td>приобретение автомобиля</td>\n",
       "    </tr>\n",
       "  </tbody>\n",
       "</table>\n",
       "<p>2174 rows × 12 columns</p>\n",
       "</div>"
      ],
      "text/plain": [
       "       children  days_employed  dob_years education  education_id  \\\n",
       "12            0            NaN         65   среднее             1   \n",
       "26            0            NaN         41   среднее             1   \n",
       "29            0            NaN         63   среднее             1   \n",
       "41            0            NaN         50   среднее             1   \n",
       "55            0            NaN         54   среднее             1   \n",
       "...         ...            ...        ...       ...           ...   \n",
       "21489         2            NaN         47   Среднее             1   \n",
       "21495         1            NaN         50   среднее             1   \n",
       "21497         0            NaN         48    ВЫСШЕЕ             0   \n",
       "21502         1            NaN         42   среднее             1   \n",
       "21510         2            NaN         28   среднее             1   \n",
       "\n",
       "               family_status  family_status_id gender  income_type  debt  \\\n",
       "12          гражданский брак                 1      M    пенсионер     0   \n",
       "26           женат / замужем                 0      M  госслужащий     0   \n",
       "29     Не женат / не замужем                 4      F    пенсионер     0   \n",
       "41           женат / замужем                 0      F  госслужащий     0   \n",
       "55          гражданский брак                 1      F    пенсионер     1   \n",
       "...                      ...               ...    ...          ...   ...   \n",
       "21489        женат / замужем                 0      M    компаньон     0   \n",
       "21495       гражданский брак                 1      F    сотрудник     0   \n",
       "21497        женат / замужем                 0      F    компаньон     0   \n",
       "21502        женат / замужем                 0      F    сотрудник     0   \n",
       "21510        женат / замужем                 0      F    сотрудник     0   \n",
       "\n",
       "       total_income                           purpose  \n",
       "12              NaN                   сыграть свадьбу  \n",
       "26              NaN                       образование  \n",
       "29              NaN  строительство жилой недвижимости  \n",
       "41              NaN  сделка с подержанным автомобилем  \n",
       "55              NaN                   сыграть свадьбу  \n",
       "...             ...                               ...  \n",
       "21489           NaN              сделка с автомобилем  \n",
       "21495           NaN                           свадьба  \n",
       "21497           NaN        строительство недвижимости  \n",
       "21502           NaN  строительство жилой недвижимости  \n",
       "21510           NaN           приобретение автомобиля  \n",
       "\n",
       "[2174 rows x 12 columns]"
      ]
     },
     "execution_count": 7,
     "metadata": {},
     "output_type": "execute_result"
    }
   ],
   "source": [
    "data[data['days_employed'].isnull() == 1]"
   ]
  },
  {
   "cell_type": "markdown",
   "metadata": {},
   "source": [
    "Пропуски в данных дублируются в столбцах days_employed и total_income по одним и тем же строкам, это говорит о том, что скорее всего при переносе данных по этим людям произошел сбой и данные по работе не подтянулись."
   ]
  },
  {
   "cell_type": "markdown",
   "metadata": {},
   "source": [
    "Убираем отрицательные значения из столбцов days_employed и children с помощью модуля числа."
   ]
  },
  {
   "cell_type": "code",
   "execution_count": 8,
   "metadata": {},
   "outputs": [],
   "source": [
    "for column in ['days_employed', 'children']:\n",
    "    data[column] = data[column].apply(abs)"
   ]
  },
  {
   "cell_type": "markdown",
   "metadata": {},
   "source": [
    "Количество детей \"20\" принятое за искажение данных меняем на значение 'unknown'."
   ]
  },
  {
   "cell_type": "code",
   "execution_count": 9,
   "metadata": {},
   "outputs": [],
   "source": [
    "data.loc[data['children'] == 20, 'children'] = 'unknown'"
   ]
  },
  {
   "cell_type": "markdown",
   "metadata": {},
   "source": [
    "Пишем цикл для замены пустых значений в двух столбцах и заменяем пропущенные данные медианными значениями"
   ]
  },
  {
   "cell_type": "code",
   "execution_count": 10,
   "metadata": {},
   "outputs": [
    {
     "name": "stdout",
     "output_type": "stream",
     "text": [
      "Медианное значение колонки days_employed: 2194.220566878695\n",
      "Среднее значение колонки days_employed: 66914.72890682252\n",
      "\n",
      "<class 'pandas.core.frame.DataFrame'>\n",
      "Int64Index: 21525 entries, 17437 to 21510\n",
      "Data columns (total 12 columns):\n",
      " #   Column            Non-Null Count  Dtype  \n",
      "---  ------            --------------  -----  \n",
      " 0   children          21525 non-null  object \n",
      " 1   days_employed     21525 non-null  float64\n",
      " 2   dob_years         21525 non-null  int64  \n",
      " 3   education         21525 non-null  object \n",
      " 4   education_id      21525 non-null  int64  \n",
      " 5   family_status     21525 non-null  object \n",
      " 6   family_status_id  21525 non-null  int64  \n",
      " 7   gender            21525 non-null  object \n",
      " 8   income_type       21525 non-null  object \n",
      " 9   debt              21525 non-null  int64  \n",
      " 10  total_income      19351 non-null  float64\n",
      " 11  purpose           21525 non-null  object \n",
      "dtypes: float64(2), int64(4), object(6)\n",
      "memory usage: 2.1+ MB\n",
      "Медианное значение колонки total_income: 145017.93753253992\n",
      "Среднее значение колонки total_income: 167422.30220817312\n",
      "\n",
      "<class 'pandas.core.frame.DataFrame'>\n",
      "Int64Index: 21525 entries, 14585 to 21510\n",
      "Data columns (total 12 columns):\n",
      " #   Column            Non-Null Count  Dtype  \n",
      "---  ------            --------------  -----  \n",
      " 0   children          21525 non-null  object \n",
      " 1   days_employed     21525 non-null  float64\n",
      " 2   dob_years         21525 non-null  int64  \n",
      " 3   education         21525 non-null  object \n",
      " 4   education_id      21525 non-null  int64  \n",
      " 5   family_status     21525 non-null  object \n",
      " 6   family_status_id  21525 non-null  int64  \n",
      " 7   gender            21525 non-null  object \n",
      " 8   income_type       21525 non-null  object \n",
      " 9   debt              21525 non-null  int64  \n",
      " 10  total_income      21525 non-null  float64\n",
      " 11  purpose           21525 non-null  object \n",
      "dtypes: float64(2), int64(4), object(6)\n",
      "memory usage: 2.1+ MB\n"
     ]
    }
   ],
   "source": [
    "for column in ['days_employed', 'total_income']:\n",
    "    data = data.sort_values(by=column)\n",
    "\n",
    "    median_of_days_employed = data[column].median()\n",
    "    mean_of_days_employed = data[column].mean()\n",
    "\n",
    "    print(f'Медианное значение колонки {column}:', median_of_days_employed)\n",
    "    print(f'Среднее значение колонки {column}:', mean_of_days_employed)\n",
    "    print()\n",
    "    \n",
    "    data[column] = data[column].fillna(median_of_days_employed)\n",
    "    data.info()"
   ]
  },
  {
   "cell_type": "markdown",
   "metadata": {},
   "source": [
    "Сортируем таблицу по индексу."
   ]
  },
  {
   "cell_type": "code",
   "execution_count": 11,
   "metadata": {},
   "outputs": [],
   "source": [
    "data = data.sort_index()"
   ]
  },
  {
   "cell_type": "markdown",
   "metadata": {},
   "source": [
    "**Вывод**"
   ]
  },
  {
   "cell_type": "markdown",
   "metadata": {},
   "source": [
    "Выявленные пропуски данных в столбцах days_employed и total_income были заменены на медианные значения данных колонок. Удаление строк с пропущенными данными могло исказить результаты нашего исследования, также как и среднее значение столбца days_employed существенно завышало показатели.\n",
    "<br>\n",
    "В колонке children было отрицательное значение количества детей, его мы заменили на значение со знаком \"+\" применив модуль числа. Еще один выброс в столбце children - это значение 20, судя по выборке, градация количества детей идет от 0 до 5, значит 20 детей - это ошибка, скорее всего опечатка или некорректный перенос данных, поэтому было принято решение заменить данный параметр на значение 'unknown'."
   ]
  },
  {
   "cell_type": "markdown",
   "metadata": {},
   "source": [
    "### Замена типа данных <a id=\"task2_2\"></a>"
   ]
  },
  {
   "cell_type": "markdown",
   "metadata": {},
   "source": [
    "Создадим цикл для замены типа данных в двух столбцах days_employed и total_income."
   ]
  },
  {
   "cell_type": "code",
   "execution_count": 12,
   "metadata": {},
   "outputs": [
    {
     "name": "stdout",
     "output_type": "stream",
     "text": [
      "<class 'pandas.core.frame.DataFrame'>\n",
      "Int64Index: 21525 entries, 0 to 21524\n",
      "Data columns (total 12 columns):\n",
      " #   Column            Non-Null Count  Dtype \n",
      "---  ------            --------------  ----- \n",
      " 0   children          21525 non-null  object\n",
      " 1   days_employed     21525 non-null  int32 \n",
      " 2   dob_years         21525 non-null  int32 \n",
      " 3   education         21525 non-null  object\n",
      " 4   education_id      21525 non-null  int32 \n",
      " 5   family_status     21525 non-null  object\n",
      " 6   family_status_id  21525 non-null  int32 \n",
      " 7   gender            21525 non-null  object\n",
      " 8   income_type       21525 non-null  object\n",
      " 9   debt              21525 non-null  int32 \n",
      " 10  total_income      21525 non-null  int32 \n",
      " 11  purpose           21525 non-null  object\n",
      "dtypes: int32(6), object(6)\n",
      "memory usage: 1.6+ MB\n"
     ]
    }
   ],
   "source": [
    "for column in ['days_employed', 'dob_years', 'education_id', 'family_status_id', 'debt', 'total_income']:\n",
    "    data[column] = data[column].astype(np.int32)\n",
    "\n",
    "data.info()"
   ]
  },
  {
   "cell_type": "markdown",
   "metadata": {},
   "source": [
    "**Вывод**"
   ]
  },
  {
   "cell_type": "markdown",
   "metadata": {},
   "source": [
    "Для удобства и корректности анализа данных, было необходимо перевести вещественный тип данных в целочисленный. Мы имели два столца с типом данных float64: days_employed, total_income и четыре столбца с типом int64. Для сокращения объему занимаемой памяти на 50% мы сконвертировали тип из float64 и int64 в int32, с помощью метода astype(), которым мы и воспользовались.\n",
    "Метод astype сокращает код и, при его использовании, нет наобходимости проходить циклом по каждому элементу колонки."
   ]
  },
  {
   "cell_type": "markdown",
   "metadata": {},
   "source": [
    "### Обработка дубликатов <a id=\"task2_3\"></a>"
   ]
  },
  {
   "cell_type": "markdown",
   "metadata": {},
   "source": [
    "Приведем дубликаты в столбце education к единому регистру."
   ]
  },
  {
   "cell_type": "code",
   "execution_count": 13,
   "metadata": {},
   "outputs": [],
   "source": [
    "data['education'] = data['education'].str.lower()"
   ]
  },
  {
   "cell_type": "markdown",
   "metadata": {},
   "source": [
    "Проверим результат."
   ]
  },
  {
   "cell_type": "code",
   "execution_count": 14,
   "metadata": {},
   "outputs": [
    {
     "data": {
      "text/plain": [
       "среднее                15233\n",
       "высшее                  5260\n",
       "неоконченное высшее      744\n",
       "начальное                282\n",
       "ученая степень             6\n",
       "Name: education, dtype: int64"
      ]
     },
     "execution_count": 14,
     "metadata": {},
     "output_type": "execute_result"
    }
   ],
   "source": [
    "data['education'].value_counts()"
   ]
  },
  {
   "cell_type": "markdown",
   "metadata": {},
   "source": [
    "**Вывод**"
   ]
  },
  {
   "cell_type": "markdown",
   "metadata": {},
   "source": [
    "Дубликаты можно выявить двумя методами duplicated() и value_counts(), duplicated() отражает только полное совпадение значение и возвращает булевый ответ, тогда как value_counts() покажет нам все уникальные значения в стоблцах, а также количество повторов этих значений.\n",
    "С помощью метода value_counts() мы выявили, что в столбце education есть множество одних и тех же значений написанных разным регистром, что может повлиять результаты анализа в будущем. Отсутсвие строгих правил заполнения анкет заемщика, могли стать причиной появления данных дубликатов. Для устранения этой проблемы был применен метод str.lower(). Теперь у нас единная градация уровней образования. По столбцам 'family_status' и 'income_type' таких проблем не выявлено.\n",
    "Дубликаты в нашей таблице не удаляются, так как они являются частью уникальных строк."
   ]
  },
  {
   "cell_type": "markdown",
   "metadata": {},
   "source": [
    "### Лемматизация <a id=\"task2_4\"></a>"
   ]
  },
  {
   "cell_type": "markdown",
   "metadata": {},
   "source": [
    "Cоздаем функцию которая получает фразу и возвращает ее стандартизорованный вариант на основе ключевых слов"
   ]
  },
  {
   "cell_type": "code",
   "execution_count": 15,
   "metadata": {},
   "outputs": [],
   "source": [
    "m = Mystem()"
   ]
  },
  {
   "cell_type": "code",
   "execution_count": 16,
   "metadata": {},
   "outputs": [],
   "source": [
    "def lemma_credit_words(phrase):\n",
    "    if 'автомобиль' in m.lemmatize(phrase):\n",
    "        return 'приобретение автомобиля'\n",
    "    if 'жилье' in m.lemmatize(phrase):\n",
    "        return 'операции с недвижимостью'\n",
    "    if 'недвижимость' in m.lemmatize(phrase):\n",
    "        return 'операции с недвижимостью'\n",
    "    if 'образование' in m.lemmatize(phrase):\n",
    "        return 'получение образования'\n",
    "    if 'свадьба' in m.lemmatize(phrase):\n",
    "        return 'свадьба'\n",
    "    else:\n",
    "        return 'другое'"
   ]
  },
  {
   "cell_type": "markdown",
   "metadata": {},
   "source": [
    "Лемматизируем и стандартизируем данные в столбце `purpose`"
   ]
  },
  {
   "cell_type": "code",
   "execution_count": 17,
   "metadata": {},
   "outputs": [],
   "source": [
    "data['purpose'] = data['purpose'].apply(lemma_credit_words)"
   ]
  },
  {
   "cell_type": "markdown",
   "metadata": {},
   "source": [
    "Проверяем перезаписанные данные в столбце `purpose`"
   ]
  },
  {
   "cell_type": "code",
   "execution_count": 18,
   "metadata": {},
   "outputs": [
    {
     "data": {
      "text/plain": [
       "операции с недвижимостью    10840\n",
       "приобретение автомобиля      4315\n",
       "получение образования        4022\n",
       "свадьба                      2348\n",
       "Name: purpose, dtype: int64"
      ]
     },
     "execution_count": 18,
     "metadata": {},
     "output_type": "execute_result"
    }
   ],
   "source": [
    "data['purpose'].value_counts()"
   ]
  },
  {
   "cell_type": "markdown",
   "metadata": {},
   "source": [
    "**Вывод**"
   ]
  },
  {
   "cell_type": "markdown",
   "metadata": {},
   "source": [
    "Изучив уникальные значения в столбце purpose, мы выявили, что цели кредита используют ключевые слова `\"автомобиль\"`, `\"свадьба\"`, `\"жилье\"`, `\"недвижимость\"` и `\"образование\"`. Исходя из этого было принято решение привести все значения столбца к стандартным \"целям\". Для этого мы применили лемматизацию данных, сравнили наличие ключевых слов в лемматизированных фразах и исходя из соответствий, привели фразы к стандартным шаблонам. Итого получлось четыре цели для получения кредита: операции с недвижимостью, приобретение автомобиля, получение образования и свадьба."
   ]
  },
  {
   "cell_type": "markdown",
   "metadata": {},
   "source": [
    "### Категоризация данных <a id=\"task2_5\"></a>"
   ]
  },
  {
   "cell_type": "markdown",
   "metadata": {},
   "source": [
    "Cоздаем переменные с процентилем в 40% и 75%."
   ]
  },
  {
   "cell_type": "code",
   "execution_count": 19,
   "metadata": {},
   "outputs": [],
   "source": [
    "quantile_40 = data['total_income'].quantile(0.4)\n",
    "quantile_75 = data['total_income'].quantile(0.75)"
   ]
  },
  {
   "cell_type": "markdown",
   "metadata": {},
   "source": [
    "Пишем функцию, которая категоризирует данные по трем уровням дохода."
   ]
  },
  {
   "cell_type": "code",
   "execution_count": 20,
   "metadata": {},
   "outputs": [],
   "source": [
    "def income_level(income):\n",
    "    global quantile_40\n",
    "    global quantile_75\n",
    "    if income <= quantile_40:\n",
    "        return 'низкий доход'\n",
    "    if income <= quantile_75:\n",
    "        return 'средний доход'\n",
    "    else:\n",
    "        return 'высокий доход'"
   ]
  },
  {
   "cell_type": "markdown",
   "metadata": {},
   "source": [
    "Создаем новый столбец `income_level` с категориями уровня дохода."
   ]
  },
  {
   "cell_type": "code",
   "execution_count": 21,
   "metadata": {},
   "outputs": [],
   "source": [
    "data['income_level'] = data['total_income'].apply(income_level)"
   ]
  },
  {
   "cell_type": "markdown",
   "metadata": {},
   "source": [
    "Изучаем как распределилась наша выборка по уровням дохода."
   ]
  },
  {
   "cell_type": "code",
   "execution_count": 22,
   "metadata": {},
   "outputs": [
    {
     "data": {
      "text/plain": [
       "низкий доход     8610\n",
       "средний доход    7534\n",
       "высокий доход    5381\n",
       "Name: income_level, dtype: int64"
      ]
     },
     "execution_count": 22,
     "metadata": {},
     "output_type": "execute_result"
    }
   ],
   "source": [
    "data['income_level'].value_counts()"
   ]
  },
  {
   "cell_type": "markdown",
   "metadata": {},
   "source": [
    "Пишем функцию для категоризации заемщиков по количеству детей в семье"
   ]
  },
  {
   "cell_type": "code",
   "execution_count": 23,
   "metadata": {},
   "outputs": [],
   "source": [
    "def family_size(number_of_children):\n",
    "    if number_of_children == 0:\n",
    "        return 'семья без детей'\n",
    "    if number_of_children == 1:\n",
    "        return 'семья с одним ребенком'\n",
    "    if number_of_children == 2:\n",
    "        return 'семья с двумя детьми'\n",
    "    else:\n",
    "        return 'многодетная семья'"
   ]
  },
  {
   "cell_type": "markdown",
   "metadata": {},
   "source": [
    "Создаем новый столбец в нашем датасете с котегориями заемщиков по количеству детей"
   ]
  },
  {
   "cell_type": "code",
   "execution_count": 24,
   "metadata": {},
   "outputs": [],
   "source": [
    "data['family_size'] = data['children'].apply(family_size)"
   ]
  },
  {
   "cell_type": "markdown",
   "metadata": {},
   "source": [
    "**Вывод**"
   ]
  },
  {
   "cell_type": "markdown",
   "metadata": {},
   "source": [
    "Изучив таблицу, определили, что необходимо категоризировать данные в столбце `total_income`. В связи с тем, что в описании данных не указана ни валюта дохода, ни страна, мы не можем с точностью сказать какой порог дохода считается низким, а какой высоким. Исходя из этого принято решение воспользоваться процентилем и разбить данные по выборке на доходы до процентиля 40% - \"низкий доход\", от 40% до 75% - \"средний доход\" и свыше 75% - \"высокий доход\"."
   ]
  },
  {
   "cell_type": "markdown",
   "metadata": {},
   "source": [
    "## Изучение гипотез <a id=\"third\"></a> "
   ]
  },
  {
   "cell_type": "markdown",
   "metadata": {},
   "source": [
    "- Есть ли зависимость между наличием детей и возвратом кредита в срок? <a id=\"question_1\"></a> "
   ]
  },
  {
   "cell_type": "code",
   "execution_count": 25,
   "metadata": {},
   "outputs": [
    {
     "data": {
      "text/html": [
       "<div>\n",
       "<style scoped>\n",
       "    .dataframe tbody tr th:only-of-type {\n",
       "        vertical-align: middle;\n",
       "    }\n",
       "\n",
       "    .dataframe tbody tr th {\n",
       "        vertical-align: top;\n",
       "    }\n",
       "\n",
       "    .dataframe thead tr th {\n",
       "        text-align: left;\n",
       "    }\n",
       "\n",
       "    .dataframe thead tr:last-of-type th {\n",
       "        text-align: right;\n",
       "    }\n",
       "</style>\n",
       "<table border=\"1\" class=\"dataframe\">\n",
       "  <thead>\n",
       "    <tr>\n",
       "      <th></th>\n",
       "      <th>sum</th>\n",
       "      <th>count</th>\n",
       "      <th>ratio</th>\n",
       "    </tr>\n",
       "    <tr>\n",
       "      <th></th>\n",
       "      <th>debt</th>\n",
       "      <th>debt</th>\n",
       "      <th></th>\n",
       "    </tr>\n",
       "    <tr>\n",
       "      <th>family_size</th>\n",
       "      <th></th>\n",
       "      <th></th>\n",
       "      <th></th>\n",
       "    </tr>\n",
       "  </thead>\n",
       "  <tbody>\n",
       "    <tr>\n",
       "      <th>многодетная семья</th>\n",
       "      <td>39</td>\n",
       "      <td>456</td>\n",
       "      <td>0.085526</td>\n",
       "    </tr>\n",
       "    <tr>\n",
       "      <th>семья без детей</th>\n",
       "      <td>1063</td>\n",
       "      <td>14149</td>\n",
       "      <td>0.075129</td>\n",
       "    </tr>\n",
       "    <tr>\n",
       "      <th>семья с двумя детьми</th>\n",
       "      <td>194</td>\n",
       "      <td>2055</td>\n",
       "      <td>0.094404</td>\n",
       "    </tr>\n",
       "    <tr>\n",
       "      <th>семья с одним ребенком</th>\n",
       "      <td>445</td>\n",
       "      <td>4865</td>\n",
       "      <td>0.091470</td>\n",
       "    </tr>\n",
       "  </tbody>\n",
       "</table>\n",
       "</div>"
      ],
      "text/plain": [
       "                         sum  count     ratio\n",
       "                        debt   debt          \n",
       "family_size                                  \n",
       "многодетная семья         39    456  0.085526\n",
       "семья без детей         1063  14149  0.075129\n",
       "семья с двумя детьми     194   2055  0.094404\n",
       "семья с одним ребенком   445   4865  0.091470"
      ]
     },
     "execution_count": 25,
     "metadata": {},
     "output_type": "execute_result"
    }
   ],
   "source": [
    "data_pivot = data.pivot_table(index='family_size', values='debt', aggfunc=['sum', 'count'])\n",
    "data_pivot['ratio'] = data_pivot['sum'] / data_pivot['count']\n",
    "data_pivot"
   ]
  },
  {
   "cell_type": "markdown",
   "metadata": {},
   "source": [
    "**Вывод**"
   ]
  },
  {
   "cell_type": "markdown",
   "metadata": {},
   "source": [
    "Коэфициенты должников с различным количеством детей в среднем различаются на 0.01-0.02 пункта, что является некритичным отклонением. Нет ни одного показателя, который бы явно выделялся среди остальных. Зависимость возврата кредита от наличия детей отсутствует."
   ]
  },
  {
   "cell_type": "markdown",
   "metadata": {},
   "source": [
    "- Есть ли зависимость между семейным положением и возвратом кредита в срок? <a id=\"question_2\"></a> "
   ]
  },
  {
   "cell_type": "code",
   "execution_count": 26,
   "metadata": {},
   "outputs": [
    {
     "data": {
      "text/html": [
       "<div>\n",
       "<style scoped>\n",
       "    .dataframe tbody tr th:only-of-type {\n",
       "        vertical-align: middle;\n",
       "    }\n",
       "\n",
       "    .dataframe tbody tr th {\n",
       "        vertical-align: top;\n",
       "    }\n",
       "\n",
       "    .dataframe thead tr th {\n",
       "        text-align: left;\n",
       "    }\n",
       "\n",
       "    .dataframe thead tr:last-of-type th {\n",
       "        text-align: right;\n",
       "    }\n",
       "</style>\n",
       "<table border=\"1\" class=\"dataframe\">\n",
       "  <thead>\n",
       "    <tr>\n",
       "      <th></th>\n",
       "      <th>sum</th>\n",
       "      <th>count</th>\n",
       "      <th>ratio</th>\n",
       "    </tr>\n",
       "    <tr>\n",
       "      <th></th>\n",
       "      <th>debt</th>\n",
       "      <th>debt</th>\n",
       "      <th></th>\n",
       "    </tr>\n",
       "    <tr>\n",
       "      <th>family_status</th>\n",
       "      <th></th>\n",
       "      <th></th>\n",
       "      <th></th>\n",
       "    </tr>\n",
       "  </thead>\n",
       "  <tbody>\n",
       "    <tr>\n",
       "      <th>Не женат / не замужем</th>\n",
       "      <td>274</td>\n",
       "      <td>2813</td>\n",
       "      <td>0.097405</td>\n",
       "    </tr>\n",
       "    <tr>\n",
       "      <th>в разводе</th>\n",
       "      <td>85</td>\n",
       "      <td>1195</td>\n",
       "      <td>0.071130</td>\n",
       "    </tr>\n",
       "    <tr>\n",
       "      <th>вдовец / вдова</th>\n",
       "      <td>63</td>\n",
       "      <td>960</td>\n",
       "      <td>0.065625</td>\n",
       "    </tr>\n",
       "    <tr>\n",
       "      <th>гражданский брак</th>\n",
       "      <td>388</td>\n",
       "      <td>4177</td>\n",
       "      <td>0.092890</td>\n",
       "    </tr>\n",
       "    <tr>\n",
       "      <th>женат / замужем</th>\n",
       "      <td>931</td>\n",
       "      <td>12380</td>\n",
       "      <td>0.075202</td>\n",
       "    </tr>\n",
       "  </tbody>\n",
       "</table>\n",
       "</div>"
      ],
      "text/plain": [
       "                       sum  count     ratio\n",
       "                      debt   debt          \n",
       "family_status                              \n",
       "Не женат / не замужем  274   2813  0.097405\n",
       "в разводе               85   1195  0.071130\n",
       "вдовец / вдова          63    960  0.065625\n",
       "гражданский брак       388   4177  0.092890\n",
       "женат / замужем        931  12380  0.075202"
      ]
     },
     "execution_count": 26,
     "metadata": {},
     "output_type": "execute_result"
    }
   ],
   "source": [
    "data_pivot = data.pivot_table(index='family_status', values='debt', aggfunc=['sum', 'count'])\n",
    "data_pivot['ratio'] = data_pivot['sum'] / data_pivot['count']\n",
    "data_pivot"
   ]
  },
  {
   "cell_type": "markdown",
   "metadata": {},
   "source": [
    "**Вывод**"
   ]
  },
  {
   "cell_type": "markdown",
   "metadata": {},
   "source": [
    "Зависимость между семейным положением и возвратом кредита в срок отсутствует."
   ]
  },
  {
   "cell_type": "markdown",
   "metadata": {},
   "source": [
    "- Есть ли зависимость между уровнем дохода и возвратом кредита в срок? <a id=\"question_3\"></a> "
   ]
  },
  {
   "cell_type": "code",
   "execution_count": 27,
   "metadata": {},
   "outputs": [
    {
     "data": {
      "text/html": [
       "<div>\n",
       "<style scoped>\n",
       "    .dataframe tbody tr th:only-of-type {\n",
       "        vertical-align: middle;\n",
       "    }\n",
       "\n",
       "    .dataframe tbody tr th {\n",
       "        vertical-align: top;\n",
       "    }\n",
       "\n",
       "    .dataframe thead tr th {\n",
       "        text-align: left;\n",
       "    }\n",
       "\n",
       "    .dataframe thead tr:last-of-type th {\n",
       "        text-align: right;\n",
       "    }\n",
       "</style>\n",
       "<table border=\"1\" class=\"dataframe\">\n",
       "  <thead>\n",
       "    <tr>\n",
       "      <th></th>\n",
       "      <th>sum</th>\n",
       "      <th>count</th>\n",
       "      <th>ratio</th>\n",
       "    </tr>\n",
       "    <tr>\n",
       "      <th></th>\n",
       "      <th>debt</th>\n",
       "      <th>debt</th>\n",
       "      <th></th>\n",
       "    </tr>\n",
       "    <tr>\n",
       "      <th>income_level</th>\n",
       "      <th></th>\n",
       "      <th></th>\n",
       "      <th></th>\n",
       "    </tr>\n",
       "  </thead>\n",
       "  <tbody>\n",
       "    <tr>\n",
       "      <th>высокий доход</th>\n",
       "      <td>386</td>\n",
       "      <td>5381</td>\n",
       "      <td>0.071734</td>\n",
       "    </tr>\n",
       "    <tr>\n",
       "      <th>низкий доход</th>\n",
       "      <td>702</td>\n",
       "      <td>8610</td>\n",
       "      <td>0.081533</td>\n",
       "    </tr>\n",
       "    <tr>\n",
       "      <th>средний доход</th>\n",
       "      <td>653</td>\n",
       "      <td>7534</td>\n",
       "      <td>0.086674</td>\n",
       "    </tr>\n",
       "  </tbody>\n",
       "</table>\n",
       "</div>"
      ],
      "text/plain": [
       "               sum count     ratio\n",
       "              debt  debt          \n",
       "income_level                      \n",
       "высокий доход  386  5381  0.071734\n",
       "низкий доход   702  8610  0.081533\n",
       "средний доход  653  7534  0.086674"
      ]
     },
     "execution_count": 27,
     "metadata": {},
     "output_type": "execute_result"
    }
   ],
   "source": [
    "data_pivot = data.pivot_table(index='income_level', values='debt', aggfunc=['sum', 'count'])\n",
    "data_pivot['ratio'] = data_pivot['sum'] / data_pivot['count']\n",
    "data_pivot"
   ]
  },
  {
   "cell_type": "markdown",
   "metadata": {},
   "source": [
    "**Вывод**"
   ]
  },
  {
   "cell_type": "markdown",
   "metadata": {},
   "source": [
    "Зависимость отсутствует."
   ]
  },
  {
   "cell_type": "markdown",
   "metadata": {},
   "source": [
    "- Как разные цели кредита влияют на его возврат в срок? <a id=\"question_4\"></a> "
   ]
  },
  {
   "cell_type": "code",
   "execution_count": 28,
   "metadata": {},
   "outputs": [
    {
     "data": {
      "text/html": [
       "<div>\n",
       "<style scoped>\n",
       "    .dataframe tbody tr th:only-of-type {\n",
       "        vertical-align: middle;\n",
       "    }\n",
       "\n",
       "    .dataframe tbody tr th {\n",
       "        vertical-align: top;\n",
       "    }\n",
       "\n",
       "    .dataframe thead tr th {\n",
       "        text-align: left;\n",
       "    }\n",
       "\n",
       "    .dataframe thead tr:last-of-type th {\n",
       "        text-align: right;\n",
       "    }\n",
       "</style>\n",
       "<table border=\"1\" class=\"dataframe\">\n",
       "  <thead>\n",
       "    <tr>\n",
       "      <th></th>\n",
       "      <th>sum</th>\n",
       "      <th>count</th>\n",
       "      <th>ratio</th>\n",
       "    </tr>\n",
       "    <tr>\n",
       "      <th></th>\n",
       "      <th>debt</th>\n",
       "      <th>debt</th>\n",
       "      <th></th>\n",
       "    </tr>\n",
       "    <tr>\n",
       "      <th>purpose</th>\n",
       "      <th></th>\n",
       "      <th></th>\n",
       "      <th></th>\n",
       "    </tr>\n",
       "  </thead>\n",
       "  <tbody>\n",
       "    <tr>\n",
       "      <th>операции с недвижимостью</th>\n",
       "      <td>782</td>\n",
       "      <td>10840</td>\n",
       "      <td>0.072140</td>\n",
       "    </tr>\n",
       "    <tr>\n",
       "      <th>получение образования</th>\n",
       "      <td>370</td>\n",
       "      <td>4022</td>\n",
       "      <td>0.091994</td>\n",
       "    </tr>\n",
       "    <tr>\n",
       "      <th>приобретение автомобиля</th>\n",
       "      <td>403</td>\n",
       "      <td>4315</td>\n",
       "      <td>0.093395</td>\n",
       "    </tr>\n",
       "    <tr>\n",
       "      <th>свадьба</th>\n",
       "      <td>186</td>\n",
       "      <td>2348</td>\n",
       "      <td>0.079216</td>\n",
       "    </tr>\n",
       "  </tbody>\n",
       "</table>\n",
       "</div>"
      ],
      "text/plain": [
       "                          sum  count     ratio\n",
       "                         debt   debt          \n",
       "purpose                                       \n",
       "операции с недвижимостью  782  10840  0.072140\n",
       "получение образования     370   4022  0.091994\n",
       "приобретение автомобиля   403   4315  0.093395\n",
       "свадьба                   186   2348  0.079216"
      ]
     },
     "execution_count": 28,
     "metadata": {},
     "output_type": "execute_result"
    }
   ],
   "source": [
    "data_pivot = data.pivot_table(index='purpose', values='debt', aggfunc=['sum', 'count'])\n",
    "data_pivot['ratio'] = data_pivot['sum'] / data_pivot['count']\n",
    "data_pivot"
   ]
  },
  {
   "cell_type": "markdown",
   "metadata": {},
   "source": [
    "**Вывод**"
   ]
  },
  {
   "cell_type": "markdown",
   "metadata": {},
   "source": [
    "Разные цели кредита не влияют на возврат кредита в срок."
   ]
  },
  {
   "cell_type": "markdown",
   "metadata": {},
   "source": [
    "## Общий вывод <a id=\"fourth\"></a> "
   ]
  },
  {
   "cell_type": "markdown",
   "metadata": {},
   "source": [
    "В данном проекте мы проанализировали данные из банка по статистике платежеспособности их клиентов.\n",
    "<br>\n",
    "Информация была собрана в 21525 строках и 12 колоноках: \n",
    "* children — количество детей в семье\n",
    "* days_employed — общий трудовой стаж в днях\n",
    "* dob_years — возраст клиента в годах\n",
    "* education — уровень образования клиента\n",
    "* education_id — идентификатор уровня образования\n",
    "* family_status — семейное положение\n",
    "* family_status_id — идентификатор семейного положения\n",
    "* gender — пол клиента\n",
    "* income_type — тип занятости\n",
    "* debt — имел ли задолженность по возврату кредитов\n",
    "* total_income — ежемесячный доход\n",
    "* purpose — цель получения кредита\n",
    "<br>\n",
    "<br>\n",
    "Для того чтобы проверить влияет ли семейное положение и количество детей клиента на факт погашения кредита в срок, нам потребовалось обработать датасет, для избавления артефактов, выбросов и дубликатов в данных следуюшими способами:\n",
    "<br>\n",
    "<br>\n",
    "* Обработка пропусков\n",
    "* Замена типа данных\n",
    "* Обработка дубликатов\n",
    "* Лемматизация\n",
    "* Категоризация данных\n",
    "<br>\n",
    "<br>\n",
    "Наша задача была проаналировать датасет и ответить на вопросы:\n",
    "<br>\n",
    "<br>\n",
    "* Есть ли зависимость между наличием детей и возвратом кредита в срок?\n",
    "* Есть ли зависимость между семейным положением и возвратом кредита в срок?\n",
    "* Есть ли зависимость между уровнем дохода и возвратом кредита в срок?\n",
    "* Как разные цели кредита влияют на его возврат в срок?\n",
    "<br>\n",
    "<br>\n",
    "Ни одна из гипотез не подтвердилась, соотшения должников к обычным замещикам в среднем различаются на 0.01-0.02 пункта, что является некритичным отклонением. На возврат кредита в срок существенно не влияют наличие детей и их количество, семейное положение, уровень дохода, а также цели кредита.\n",
    "<br>\n",
    "<br>\n",
    "Рекомендуется изменить способ сбора информации о замщиках, а именно:\n",
    "<br>\n",
    "<br>\n",
    "* Стандартизировать заполнение данных по образованию заемщика.\n",
    "* Стандартизировать заполнение целей кредита, дать возможность выбора цели из списка.\n",
    "* Выявить как возникают артефакты с отрицательными данными и постараться устранить их."
   ]
  }
 ],
 "metadata": {
  "ExecuteTimeLog": [
   {
    "duration": 1234,
    "start_time": "2022-01-05T10:45:08.130Z"
   },
   {
    "duration": 101,
    "start_time": "2022-01-05T11:23:20.962Z"
   },
   {
    "duration": 8,
    "start_time": "2022-01-05T11:29:36.260Z"
   },
   {
    "duration": 549,
    "start_time": "2022-01-05T11:41:01.001Z"
   },
   {
    "duration": 474,
    "start_time": "2022-01-05T11:41:44.018Z"
   },
   {
    "duration": 271,
    "start_time": "2022-01-05T11:43:26.791Z"
   },
   {
    "duration": 350,
    "start_time": "2022-01-05T11:46:09.329Z"
   },
   {
    "duration": 4918,
    "start_time": "2022-01-05T11:46:33.374Z"
   },
   {
    "duration": 303,
    "start_time": "2022-01-05T11:51:42.020Z"
   },
   {
    "duration": 274,
    "start_time": "2022-01-05T11:52:02.515Z"
   },
   {
    "duration": 7,
    "start_time": "2022-01-05T11:52:48.058Z"
   },
   {
    "duration": 6,
    "start_time": "2022-01-05T11:53:02.478Z"
   },
   {
    "duration": 742,
    "start_time": "2022-01-05T11:59:04.876Z"
   },
   {
    "duration": 4104,
    "start_time": "2022-01-05T11:59:51.976Z"
   },
   {
    "duration": 98,
    "start_time": "2022-01-05T12:01:13.282Z"
   },
   {
    "duration": 274,
    "start_time": "2022-01-05T12:01:49.346Z"
   },
   {
    "duration": 273,
    "start_time": "2022-01-05T12:01:57.826Z"
   },
   {
    "duration": 11,
    "start_time": "2022-01-05T12:02:08.378Z"
   },
   {
    "duration": 264,
    "start_time": "2022-01-05T12:06:14.607Z"
   },
   {
    "duration": 268,
    "start_time": "2022-01-05T12:06:31.828Z"
   },
   {
    "duration": 266,
    "start_time": "2022-01-05T12:06:38.947Z"
   },
   {
    "duration": 6750,
    "start_time": "2022-01-05T12:15:46.435Z"
   },
   {
    "duration": 12,
    "start_time": "2022-01-05T12:16:18.784Z"
   },
   {
    "duration": 102,
    "start_time": "2022-01-05T12:23:51.232Z"
   },
   {
    "duration": 270,
    "start_time": "2022-01-05T12:24:00.402Z"
   },
   {
    "duration": 89,
    "start_time": "2022-01-05T12:24:30.809Z"
   },
   {
    "duration": 276,
    "start_time": "2022-01-05T12:25:09.982Z"
   },
   {
    "duration": 94,
    "start_time": "2022-01-05T12:26:42.719Z"
   },
   {
    "duration": 81,
    "start_time": "2022-01-05T12:30:21.109Z"
   },
   {
    "duration": 41,
    "start_time": "2022-01-05T12:31:35.588Z"
   },
   {
    "duration": 17,
    "start_time": "2022-01-05T12:32:17.527Z"
   },
   {
    "duration": 45,
    "start_time": "2022-01-05T12:32:23.857Z"
   },
   {
    "duration": 49,
    "start_time": "2022-01-05T12:39:36.749Z"
   },
   {
    "duration": 66,
    "start_time": "2022-01-05T12:45:54.171Z"
   },
   {
    "duration": 42,
    "start_time": "2022-01-05T12:46:58.758Z"
   },
   {
    "duration": 49,
    "start_time": "2022-01-05T12:47:11.949Z"
   },
   {
    "duration": 24,
    "start_time": "2022-01-05T12:47:39.776Z"
   },
   {
    "duration": 29,
    "start_time": "2022-01-05T12:47:53.955Z"
   },
   {
    "duration": 29,
    "start_time": "2022-01-05T12:49:26.972Z"
   },
   {
    "duration": 63,
    "start_time": "2022-01-05T12:49:38.535Z"
   },
   {
    "duration": 52,
    "start_time": "2022-01-05T12:49:58.456Z"
   },
   {
    "duration": 54,
    "start_time": "2022-01-05T12:50:12.118Z"
   },
   {
    "duration": 51,
    "start_time": "2022-01-05T12:50:30.812Z"
   },
   {
    "duration": 54,
    "start_time": "2022-01-05T12:50:44.429Z"
   },
   {
    "duration": 54,
    "start_time": "2022-01-05T12:50:51.402Z"
   },
   {
    "duration": 52,
    "start_time": "2022-01-05T12:50:57.808Z"
   },
   {
    "duration": 54,
    "start_time": "2022-01-05T12:51:32.638Z"
   },
   {
    "duration": 1803,
    "start_time": "2022-01-05T12:57:31.690Z"
   },
   {
    "duration": 53,
    "start_time": "2022-01-05T13:02:05.134Z"
   },
   {
    "duration": 3879,
    "start_time": "2022-01-05T13:04:26.457Z"
   },
   {
    "duration": 3594,
    "start_time": "2022-01-05T13:04:55.466Z"
   },
   {
    "duration": 3401,
    "start_time": "2022-01-05T13:05:16.283Z"
   },
   {
    "duration": 3902,
    "start_time": "2022-01-05T13:06:14.862Z"
   },
   {
    "duration": 99,
    "start_time": "2022-01-05T13:06:41.046Z"
   },
   {
    "duration": 61,
    "start_time": "2022-01-05T13:06:46.295Z"
   },
   {
    "duration": 64,
    "start_time": "2022-01-05T13:07:38.575Z"
   },
   {
    "duration": 98,
    "start_time": "2022-01-05T13:09:07.312Z"
   },
   {
    "duration": 59,
    "start_time": "2022-01-05T13:09:12.788Z"
   },
   {
    "duration": 65,
    "start_time": "2022-01-05T13:09:41.120Z"
   },
   {
    "duration": 101,
    "start_time": "2022-01-05T13:09:58.577Z"
   },
   {
    "duration": 31,
    "start_time": "2022-01-05T13:15:10.617Z"
   },
   {
    "duration": 59,
    "start_time": "2022-01-05T13:15:38.038Z"
   },
   {
    "duration": 34,
    "start_time": "2022-01-05T13:18:01.443Z"
   },
   {
    "duration": 41,
    "start_time": "2022-01-05T13:19:10.724Z"
   },
   {
    "duration": 76,
    "start_time": "2022-01-05T13:19:18.960Z"
   },
   {
    "duration": 15,
    "start_time": "2022-01-05T13:22:15.172Z"
   },
   {
    "duration": 290,
    "start_time": "2022-01-05T13:28:26.324Z"
   },
   {
    "duration": 293,
    "start_time": "2022-01-05T13:28:32.267Z"
   },
   {
    "duration": 21,
    "start_time": "2022-01-05T13:29:35.543Z"
   },
   {
    "duration": 51,
    "start_time": "2022-01-05T13:29:44.246Z"
   },
   {
    "duration": 68,
    "start_time": "2022-01-05T13:30:05.475Z"
   },
   {
    "duration": 70,
    "start_time": "2022-01-05T13:45:08.290Z"
   },
   {
    "duration": 40,
    "start_time": "2022-01-05T13:51:17.873Z"
   },
   {
    "duration": 76,
    "start_time": "2022-01-05T13:51:35.530Z"
   },
   {
    "duration": 57,
    "start_time": "2022-01-05T13:54:27.176Z"
   },
   {
    "duration": 65,
    "start_time": "2022-01-05T13:55:30.841Z"
   },
   {
    "duration": 99,
    "start_time": "2022-01-05T13:55:36.143Z"
   },
   {
    "duration": 67,
    "start_time": "2022-01-05T13:55:41.127Z"
   },
   {
    "duration": 316,
    "start_time": "2022-01-05T13:56:15.770Z"
   },
   {
    "duration": 36,
    "start_time": "2022-01-05T13:57:32.809Z"
   },
   {
    "duration": 37,
    "start_time": "2022-01-05T13:57:55.579Z"
   },
   {
    "duration": 283,
    "start_time": "2022-01-05T13:58:03.073Z"
   },
   {
    "duration": 34,
    "start_time": "2022-01-05T13:59:33.564Z"
   },
   {
    "duration": 112,
    "start_time": "2022-01-05T13:59:45.655Z"
   },
   {
    "duration": 35,
    "start_time": "2022-01-05T13:59:49.840Z"
   },
   {
    "duration": 38,
    "start_time": "2022-01-05T14:02:50.689Z"
   },
   {
    "duration": 37,
    "start_time": "2022-01-05T14:05:23.123Z"
   },
   {
    "duration": 322,
    "start_time": "2022-01-05T14:12:45.851Z"
   },
   {
    "duration": 11,
    "start_time": "2022-01-05T14:14:13.864Z"
   },
   {
    "duration": 35,
    "start_time": "2022-01-05T14:14:27.797Z"
   },
   {
    "duration": 12,
    "start_time": "2022-01-05T14:25:49.129Z"
   },
   {
    "duration": 8,
    "start_time": "2022-01-05T14:27:34.860Z"
   },
   {
    "duration": 710,
    "start_time": "2022-01-05T14:27:54.282Z"
   },
   {
    "duration": 8,
    "start_time": "2022-01-05T14:36:28.791Z"
   },
   {
    "duration": 297,
    "start_time": "2022-01-05T14:37:02.368Z"
   },
   {
    "duration": 101,
    "start_time": "2022-01-05T14:37:46.008Z"
   },
   {
    "duration": 34,
    "start_time": "2022-01-05T14:37:47.614Z"
   },
   {
    "duration": 45,
    "start_time": "2022-01-05T14:37:48.616Z"
   },
   {
    "duration": 62,
    "start_time": "2022-01-05T14:37:49.159Z"
   },
   {
    "duration": 5,
    "start_time": "2022-01-05T14:37:58.092Z"
   },
   {
    "duration": 17,
    "start_time": "2022-01-05T14:38:21.556Z"
   },
   {
    "duration": 19,
    "start_time": "2022-01-05T14:40:22.545Z"
   },
   {
    "duration": 103,
    "start_time": "2022-01-05T14:48:03.627Z"
   },
   {
    "duration": 35,
    "start_time": "2022-01-05T14:48:04.727Z"
   },
   {
    "duration": 38,
    "start_time": "2022-01-05T14:48:07.062Z"
   },
   {
    "duration": 59,
    "start_time": "2022-01-05T14:48:07.523Z"
   },
   {
    "duration": 14,
    "start_time": "2022-01-05T14:48:17.905Z"
   },
   {
    "duration": 289,
    "start_time": "2022-01-05T14:49:27.831Z"
   },
   {
    "duration": 28,
    "start_time": "2022-01-05T14:49:37.518Z"
   },
   {
    "duration": 34,
    "start_time": "2022-01-05T14:50:22.410Z"
   },
   {
    "duration": 20,
    "start_time": "2022-01-05T14:56:03.205Z"
   },
   {
    "duration": 285,
    "start_time": "2022-01-05T15:00:31.766Z"
   },
   {
    "duration": 100,
    "start_time": "2022-01-05T15:00:35.926Z"
   },
   {
    "duration": 36,
    "start_time": "2022-01-05T15:00:39.276Z"
   },
   {
    "duration": 262,
    "start_time": "2022-01-05T15:00:44.723Z"
   },
   {
    "duration": 50,
    "start_time": "2022-01-05T15:01:32.119Z"
   },
   {
    "duration": 60,
    "start_time": "2022-01-05T15:04:37.854Z"
   },
   {
    "duration": 99,
    "start_time": "2022-01-05T15:05:15.586Z"
   },
   {
    "duration": 35,
    "start_time": "2022-01-05T15:05:19.853Z"
   },
   {
    "duration": 62,
    "start_time": "2022-01-05T15:05:29.031Z"
   },
   {
    "duration": 100,
    "start_time": "2022-01-05T15:06:23.113Z"
   },
   {
    "duration": 19,
    "start_time": "2022-01-05T15:13:08.364Z"
   },
   {
    "duration": 19,
    "start_time": "2022-01-05T15:13:21.244Z"
   },
   {
    "duration": 273,
    "start_time": "2022-01-05T15:23:17.700Z"
   },
   {
    "duration": 22,
    "start_time": "2022-01-05T15:23:32.060Z"
   },
   {
    "duration": 32,
    "start_time": "2022-01-05T15:28:08.374Z"
   },
   {
    "duration": 37,
    "start_time": "2022-01-05T15:28:11.975Z"
   },
   {
    "duration": 37,
    "start_time": "2022-01-05T15:29:19.385Z"
   },
   {
    "duration": 61,
    "start_time": "2022-01-05T15:35:12.358Z"
   },
   {
    "duration": 57,
    "start_time": "2022-01-05T15:36:27.878Z"
   },
   {
    "duration": 41,
    "start_time": "2022-01-05T15:37:22.622Z"
   },
   {
    "duration": 10616,
    "start_time": "2022-01-05T18:07:35.631Z"
   },
   {
    "duration": 10444,
    "start_time": "2022-01-05T18:08:43.497Z"
   },
   {
    "duration": 11645,
    "start_time": "2022-01-05T18:09:26.804Z"
   },
   {
    "duration": 34,
    "start_time": "2022-01-05T18:38:30.519Z"
   },
   {
    "duration": 106,
    "start_time": "2022-01-05T18:49:37.767Z"
   },
   {
    "duration": 34,
    "start_time": "2022-01-05T18:49:39.341Z"
   },
   {
    "duration": 67,
    "start_time": "2022-01-05T18:49:40.471Z"
   },
   {
    "duration": 1033,
    "start_time": "2022-01-05T18:49:41.979Z"
   },
   {
    "duration": 18,
    "start_time": "2022-01-05T18:50:51.706Z"
   },
   {
    "duration": 19,
    "start_time": "2022-01-05T18:50:56.891Z"
   },
   {
    "duration": 40,
    "start_time": "2022-01-05T18:51:00.530Z"
   },
   {
    "duration": 9825,
    "start_time": "2022-01-05T18:51:06.613Z"
   },
   {
    "duration": 31,
    "start_time": "2022-01-05T18:51:25.007Z"
   },
   {
    "duration": 37,
    "start_time": "2022-01-05T19:00:46.080Z"
   },
   {
    "duration": 43,
    "start_time": "2022-01-05T19:02:05.173Z"
   },
   {
    "duration": 37,
    "start_time": "2022-01-05T19:02:43.357Z"
   },
   {
    "duration": 55,
    "start_time": "2022-01-05T19:12:32.877Z"
   },
   {
    "duration": 56,
    "start_time": "2022-01-05T19:14:23.518Z"
   },
   {
    "duration": 61,
    "start_time": "2022-01-05T19:14:45.604Z"
   },
   {
    "duration": 57,
    "start_time": "2022-01-05T19:15:33.871Z"
   },
   {
    "duration": 648,
    "start_time": "2022-01-06T09:10:31.812Z"
   },
   {
    "duration": 894,
    "start_time": "2022-01-06T09:10:42.706Z"
   },
   {
    "duration": 37,
    "start_time": "2022-01-06T09:10:48.160Z"
   },
   {
    "duration": 87,
    "start_time": "2022-01-06T09:10:50.275Z"
   },
   {
    "duration": 25,
    "start_time": "2022-01-06T09:10:52.874Z"
   },
   {
    "duration": 60,
    "start_time": "2022-01-06T09:10:56.151Z"
   },
   {
    "duration": 11139,
    "start_time": "2022-01-06T09:11:00.207Z"
   },
   {
    "duration": 54,
    "start_time": "2022-01-06T09:11:19.445Z"
   },
   {
    "duration": 34,
    "start_time": "2022-01-06T09:14:53.915Z"
   },
   {
    "duration": 31,
    "start_time": "2022-01-06T10:08:03.058Z"
   },
   {
    "duration": 369,
    "start_time": "2022-01-06T10:13:33.118Z"
   },
   {
    "duration": 299,
    "start_time": "2022-01-06T10:13:43.261Z"
   },
   {
    "duration": 26,
    "start_time": "2022-01-06T10:14:50.037Z"
   },
   {
    "duration": 44,
    "start_time": "2022-01-06T10:15:01.054Z"
   },
   {
    "duration": 8,
    "start_time": "2022-01-06T10:16:52.823Z"
   },
   {
    "duration": 383,
    "start_time": "2022-01-06T11:27:43.841Z"
   },
   {
    "duration": 45,
    "start_time": "2022-01-06T11:28:28.992Z"
   },
   {
    "duration": 143,
    "start_time": "2022-01-06T11:29:43.782Z"
   },
   {
    "duration": 68,
    "start_time": "2022-01-06T11:43:41.541Z"
   },
   {
    "duration": 71,
    "start_time": "2022-01-06T11:44:51.402Z"
   },
   {
    "duration": 81,
    "start_time": "2022-01-06T11:45:11.124Z"
   },
   {
    "duration": 322,
    "start_time": "2022-01-06T11:45:37.549Z"
   },
   {
    "duration": 74,
    "start_time": "2022-01-06T11:46:52.001Z"
   },
   {
    "duration": 78,
    "start_time": "2022-01-06T11:47:05.023Z"
   },
   {
    "duration": 93,
    "start_time": "2022-01-06T12:02:57.650Z"
   },
   {
    "duration": 1770,
    "start_time": "2022-01-06T12:07:42.820Z"
   },
   {
    "duration": 137,
    "start_time": "2022-01-06T12:08:30.412Z"
   },
   {
    "duration": 51,
    "start_time": "2022-01-06T12:08:33.485Z"
   },
   {
    "duration": 103,
    "start_time": "2022-01-06T12:08:37.177Z"
   },
   {
    "duration": 20,
    "start_time": "2022-01-06T12:08:46.092Z"
   },
   {
    "duration": 57,
    "start_time": "2022-01-06T12:08:51.089Z"
   },
   {
    "duration": 130,
    "start_time": "2022-01-06T12:10:06.609Z"
   },
   {
    "duration": 34,
    "start_time": "2022-01-06T12:10:08.319Z"
   },
   {
    "duration": 64,
    "start_time": "2022-01-06T12:10:09.445Z"
   },
   {
    "duration": 18,
    "start_time": "2022-01-06T12:10:11.632Z"
   },
   {
    "duration": 49,
    "start_time": "2022-01-06T12:10:13.616Z"
   },
   {
    "duration": 62,
    "start_time": "2022-01-06T12:10:56.010Z"
   },
   {
    "duration": 12672,
    "start_time": "2022-01-06T12:11:19.904Z"
   },
   {
    "duration": 181,
    "start_time": "2022-01-06T12:14:17.344Z"
   },
   {
    "duration": 35,
    "start_time": "2022-01-06T12:14:20.807Z"
   },
   {
    "duration": 64,
    "start_time": "2022-01-06T12:14:22.454Z"
   },
   {
    "duration": 21,
    "start_time": "2022-01-06T12:14:24.735Z"
   },
   {
    "duration": 63,
    "start_time": "2022-01-06T12:14:26.993Z"
   },
   {
    "duration": 43,
    "start_time": "2022-01-06T12:15:19.566Z"
   },
   {
    "duration": 172,
    "start_time": "2022-01-06T12:15:40.156Z"
   },
   {
    "duration": 38,
    "start_time": "2022-01-06T12:15:41.576Z"
   },
   {
    "duration": 80,
    "start_time": "2022-01-06T12:15:43.506Z"
   },
   {
    "duration": 24,
    "start_time": "2022-01-06T12:15:45.192Z"
   },
   {
    "duration": 99,
    "start_time": "2022-01-06T12:15:47.847Z"
   },
   {
    "duration": 19,
    "start_time": "2022-01-06T12:17:17.688Z"
   },
   {
    "duration": 23,
    "start_time": "2022-01-06T12:17:28.388Z"
   },
   {
    "duration": 64,
    "start_time": "2022-01-06T12:18:58.469Z"
   },
   {
    "duration": 26,
    "start_time": "2022-01-06T12:19:14.342Z"
   },
   {
    "duration": 124,
    "start_time": "2022-01-06T12:20:06.417Z"
   },
   {
    "duration": 37,
    "start_time": "2022-01-06T12:20:07.349Z"
   },
   {
    "duration": 67,
    "start_time": "2022-01-06T12:20:08.189Z"
   },
   {
    "duration": 20,
    "start_time": "2022-01-06T12:20:09.526Z"
   },
   {
    "duration": 60,
    "start_time": "2022-01-06T12:20:10.925Z"
   },
   {
    "duration": 13048,
    "start_time": "2022-01-06T12:20:12.548Z"
   },
   {
    "duration": 66,
    "start_time": "2022-01-06T12:20:25.599Z"
   },
   {
    "duration": 76,
    "start_time": "2022-01-06T12:20:25.668Z"
   },
   {
    "duration": 26,
    "start_time": "2022-01-06T12:20:25.747Z"
   },
   {
    "duration": 55,
    "start_time": "2022-01-06T12:20:25.776Z"
   },
   {
    "duration": 27,
    "start_time": "2022-01-06T12:20:53.404Z"
   },
   {
    "duration": 307,
    "start_time": "2022-01-06T12:21:58.907Z"
   },
   {
    "duration": 285,
    "start_time": "2022-01-06T12:22:56.375Z"
   },
   {
    "duration": 354,
    "start_time": "2022-01-06T12:25:27.155Z"
   },
   {
    "duration": 354,
    "start_time": "2022-01-06T12:25:35.180Z"
   },
   {
    "duration": 100,
    "start_time": "2022-01-06T12:25:49.653Z"
   },
   {
    "duration": 43,
    "start_time": "2022-01-06T12:25:54.057Z"
   },
   {
    "duration": 51,
    "start_time": "2022-01-06T12:27:47.757Z"
   },
   {
    "duration": 54,
    "start_time": "2022-01-06T12:27:56.127Z"
   },
   {
    "duration": 37,
    "start_time": "2022-01-06T12:29:28.924Z"
   },
   {
    "duration": 39,
    "start_time": "2022-01-06T12:30:33.255Z"
   },
   {
    "duration": 37,
    "start_time": "2022-01-06T12:31:17.529Z"
   },
   {
    "duration": 54,
    "start_time": "2022-01-06T12:31:21.253Z"
   },
   {
    "duration": 134,
    "start_time": "2022-01-06T12:47:33.530Z"
   },
   {
    "duration": 55,
    "start_time": "2022-01-06T12:50:41.697Z"
   },
   {
    "duration": 135,
    "start_time": "2022-01-06T12:50:46.136Z"
   },
   {
    "duration": 32,
    "start_time": "2022-01-06T12:50:48.239Z"
   },
   {
    "duration": 54,
    "start_time": "2022-01-06T12:50:49.969Z"
   },
   {
    "duration": 42,
    "start_time": "2022-01-06T12:51:05.220Z"
   },
   {
    "duration": 23,
    "start_time": "2022-01-06T13:06:09.606Z"
   },
   {
    "duration": 47,
    "start_time": "2022-01-06T13:06:17.373Z"
   },
   {
    "duration": 178,
    "start_time": "2022-01-06T13:06:26.911Z"
   },
   {
    "duration": 36,
    "start_time": "2022-01-06T13:06:29.384Z"
   },
   {
    "duration": 75,
    "start_time": "2022-01-06T13:06:30.649Z"
   },
   {
    "duration": 18,
    "start_time": "2022-01-06T13:06:34.383Z"
   },
   {
    "duration": 39,
    "start_time": "2022-01-06T13:06:37.166Z"
   },
   {
    "duration": 1203,
    "start_time": "2022-01-06T13:08:05.245Z"
   },
   {
    "duration": 1123,
    "start_time": "2022-01-06T13:08:20.455Z"
   },
   {
    "duration": 1075,
    "start_time": "2022-01-06T13:09:56.716Z"
   },
   {
    "duration": 957,
    "start_time": "2022-01-06T13:10:11.420Z"
   },
   {
    "duration": 37,
    "start_time": "2022-01-06T13:10:13.861Z"
   },
   {
    "duration": 71,
    "start_time": "2022-01-06T13:10:15.269Z"
   },
   {
    "duration": 1096,
    "start_time": "2022-01-06T13:10:24.097Z"
   },
   {
    "duration": 342,
    "start_time": "2022-01-06T13:13:34.436Z"
   },
   {
    "duration": 463,
    "start_time": "2022-01-06T13:14:26.943Z"
   },
   {
    "duration": 295,
    "start_time": "2022-01-06T13:16:14.909Z"
   },
   {
    "duration": 31,
    "start_time": "2022-01-06T13:16:29.229Z"
   },
   {
    "duration": 38,
    "start_time": "2022-01-06T13:16:57.939Z"
   },
   {
    "duration": 1104,
    "start_time": "2022-01-06T13:17:39.396Z"
   },
   {
    "duration": 19,
    "start_time": "2022-01-06T13:18:30.212Z"
   },
   {
    "duration": 1113,
    "start_time": "2022-01-06T13:19:45.190Z"
   },
   {
    "duration": 125,
    "start_time": "2022-01-06T13:19:54.358Z"
   },
   {
    "duration": 34,
    "start_time": "2022-01-06T13:19:55.914Z"
   },
   {
    "duration": 73,
    "start_time": "2022-01-06T13:19:57.605Z"
   },
   {
    "duration": 19,
    "start_time": "2022-01-06T13:20:04.920Z"
   },
   {
    "duration": 36,
    "start_time": "2022-01-06T13:20:07.414Z"
   },
   {
    "duration": 24,
    "start_time": "2022-01-06T13:23:23.008Z"
   },
   {
    "duration": 170,
    "start_time": "2022-01-06T13:24:53.646Z"
   },
   {
    "duration": 35,
    "start_time": "2022-01-06T13:24:55.435Z"
   },
   {
    "duration": 69,
    "start_time": "2022-01-06T13:24:57.342Z"
   },
   {
    "duration": 18,
    "start_time": "2022-01-06T13:24:59.103Z"
   },
   {
    "duration": 21,
    "start_time": "2022-01-06T13:25:00.800Z"
   },
   {
    "duration": 11357,
    "start_time": "2022-01-06T13:25:02.419Z"
   },
   {
    "duration": 284,
    "start_time": "2022-01-07T16:58:33.050Z"
   },
   {
    "duration": 654,
    "start_time": "2022-01-07T16:58:44.699Z"
   },
   {
    "duration": 21,
    "start_time": "2022-01-07T16:58:48.197Z"
   },
   {
    "duration": 66,
    "start_time": "2022-01-07T16:58:49.839Z"
   },
   {
    "duration": 16,
    "start_time": "2022-01-07T16:58:51.639Z"
   },
   {
    "duration": 21,
    "start_time": "2022-01-07T16:58:53.484Z"
   },
   {
    "duration": 8039,
    "start_time": "2022-01-07T16:58:55.040Z"
   },
   {
    "duration": 24,
    "start_time": "2022-01-07T16:59:03.081Z"
   },
   {
    "duration": 32,
    "start_time": "2022-01-07T16:59:03.107Z"
   },
   {
    "duration": 40,
    "start_time": "2022-01-07T16:59:03.141Z"
   },
   {
    "duration": 27,
    "start_time": "2022-01-07T16:59:11.915Z"
   },
   {
    "duration": 24,
    "start_time": "2022-01-07T17:35:20.153Z"
   },
   {
    "duration": 26,
    "start_time": "2022-01-07T17:35:26.288Z"
   },
   {
    "duration": 25,
    "start_time": "2022-01-07T17:35:27.938Z"
   },
   {
    "duration": 24,
    "start_time": "2022-01-07T17:35:29.730Z"
   },
   {
    "duration": 26,
    "start_time": "2022-01-07T17:35:34.077Z"
   },
   {
    "duration": 24,
    "start_time": "2022-01-07T17:36:31.743Z"
   },
   {
    "duration": 24,
    "start_time": "2022-01-07T17:36:39.235Z"
   },
   {
    "duration": 709,
    "start_time": "2022-01-07T17:38:16.422Z"
   },
   {
    "duration": 34,
    "start_time": "2022-01-07T17:38:17.132Z"
   },
   {
    "duration": 50,
    "start_time": "2022-01-07T17:38:17.168Z"
   },
   {
    "duration": 14,
    "start_time": "2022-01-07T17:38:17.219Z"
   },
   {
    "duration": 36,
    "start_time": "2022-01-07T17:38:17.235Z"
   },
   {
    "duration": 7452,
    "start_time": "2022-01-07T17:38:17.273Z"
   },
   {
    "duration": 35,
    "start_time": "2022-01-07T17:38:24.727Z"
   },
   {
    "duration": 43,
    "start_time": "2022-01-07T17:38:24.764Z"
   },
   {
    "duration": 25,
    "start_time": "2022-01-07T17:38:24.808Z"
   },
   {
    "duration": 37,
    "start_time": "2022-01-07T17:38:24.834Z"
   },
   {
    "duration": 25,
    "start_time": "2022-01-07T17:38:24.872Z"
   },
   {
    "duration": 1067,
    "start_time": "2022-01-08T17:07:34.975Z"
   },
   {
    "duration": 106,
    "start_time": "2022-01-08T17:09:17.538Z"
   },
   {
    "duration": 21,
    "start_time": "2022-01-08T17:09:27.188Z"
   },
   {
    "duration": 58,
    "start_time": "2022-01-08T17:09:35.551Z"
   },
   {
    "duration": 13,
    "start_time": "2022-01-08T17:09:48.799Z"
   },
   {
    "duration": 15,
    "start_time": "2022-01-08T17:09:54.944Z"
   },
   {
    "duration": 942,
    "start_time": "2022-01-08T17:10:51.864Z"
   },
   {
    "duration": 90,
    "start_time": "2022-01-08T17:11:10.301Z"
   },
   {
    "duration": 21,
    "start_time": "2022-01-08T17:11:12.296Z"
   },
   {
    "duration": 52,
    "start_time": "2022-01-08T17:11:13.840Z"
   },
   {
    "duration": 657,
    "start_time": "2022-01-09T13:19:22.402Z"
   },
   {
    "duration": 45,
    "start_time": "2022-01-09T13:19:37.063Z"
   },
   {
    "duration": 563,
    "start_time": "2022-01-09T13:39:35.133Z"
   },
   {
    "duration": 49,
    "start_time": "2022-01-09T13:39:35.698Z"
   },
   {
    "duration": 46,
    "start_time": "2022-01-09T13:39:35.750Z"
   },
   {
    "duration": 30,
    "start_time": "2022-01-09T13:39:35.797Z"
   },
   {
    "duration": 43,
    "start_time": "2022-01-09T13:39:35.828Z"
   },
   {
    "duration": 10,
    "start_time": "2022-01-09T13:39:35.873Z"
   },
   {
    "duration": 13,
    "start_time": "2022-01-09T13:39:35.885Z"
   },
   {
    "duration": 6990,
    "start_time": "2022-01-09T13:39:35.899Z"
   },
   {
    "duration": 20,
    "start_time": "2022-01-09T13:39:42.891Z"
   },
   {
    "duration": 42,
    "start_time": "2022-01-09T13:39:42.912Z"
   },
   {
    "duration": 20,
    "start_time": "2022-01-09T13:39:42.956Z"
   },
   {
    "duration": 20,
    "start_time": "2022-01-09T13:39:42.977Z"
   },
   {
    "duration": 41,
    "start_time": "2022-01-09T13:39:42.999Z"
   },
   {
    "duration": 8,
    "start_time": "2022-01-09T13:43:55.278Z"
   },
   {
    "duration": 103,
    "start_time": "2022-01-09T14:10:31.044Z"
   },
   {
    "duration": 3,
    "start_time": "2022-01-09T14:10:38.668Z"
   },
   {
    "duration": 51,
    "start_time": "2022-01-09T14:10:39.320Z"
   },
   {
    "duration": 53,
    "start_time": "2022-01-09T14:10:41.526Z"
   },
   {
    "duration": 49,
    "start_time": "2022-01-09T14:12:21.565Z"
   },
   {
    "duration": 49,
    "start_time": "2022-01-09T14:15:27.930Z"
   },
   {
    "duration": 70,
    "start_time": "2022-01-09T14:19:57.321Z"
   },
   {
    "duration": 104,
    "start_time": "2022-01-09T14:20:32.960Z"
   },
   {
    "duration": 113,
    "start_time": "2022-01-09T14:23:58.075Z"
   },
   {
    "duration": 31,
    "start_time": "2022-01-09T14:24:02.000Z"
   },
   {
    "duration": 11,
    "start_time": "2022-01-09T14:25:38.563Z"
   },
   {
    "duration": 5,
    "start_time": "2022-01-09T14:26:12.447Z"
   },
   {
    "duration": 6,
    "start_time": "2022-01-09T14:29:07.880Z"
   },
   {
    "duration": 443,
    "start_time": "2022-01-09T14:42:38.231Z"
   },
   {
    "duration": 3,
    "start_time": "2022-01-09T14:49:01.532Z"
   },
   {
    "duration": 382,
    "start_time": "2022-01-09T14:49:18.407Z"
   },
   {
    "duration": 2,
    "start_time": "2022-01-09T14:49:58.266Z"
   },
   {
    "duration": 46,
    "start_time": "2022-01-09T14:49:58.716Z"
   },
   {
    "duration": 71,
    "start_time": "2022-01-09T14:49:59.200Z"
   },
   {
    "duration": 22,
    "start_time": "2022-01-09T14:50:01.552Z"
   },
   {
    "duration": 12,
    "start_time": "2022-01-09T14:50:03.330Z"
   },
   {
    "duration": 6,
    "start_time": "2022-01-09T14:50:04.310Z"
   },
   {
    "duration": 29,
    "start_time": "2022-01-09T14:50:05.317Z"
   },
   {
    "duration": 7,
    "start_time": "2022-01-09T14:50:06.991Z"
   },
   {
    "duration": 12,
    "start_time": "2022-01-09T14:50:11.533Z"
   },
   {
    "duration": 13,
    "start_time": "2022-01-09T14:51:51.140Z"
   },
   {
    "duration": 13,
    "start_time": "2022-01-09T14:52:08.917Z"
   },
   {
    "duration": 13,
    "start_time": "2022-01-09T14:52:19.304Z"
   },
   {
    "duration": 3,
    "start_time": "2022-01-09T14:56:29.329Z"
   },
   {
    "duration": 6424,
    "start_time": "2022-01-09T14:56:32.307Z"
   },
   {
    "duration": 6,
    "start_time": "2022-01-09T14:56:38.732Z"
   },
   {
    "duration": 5,
    "start_time": "2022-01-09T15:00:00.824Z"
   },
   {
    "duration": 3,
    "start_time": "2022-01-09T15:00:01.732Z"
   },
   {
    "duration": 14,
    "start_time": "2022-01-09T15:00:02.707Z"
   },
   {
    "duration": 7,
    "start_time": "2022-01-09T15:00:03.719Z"
   },
   {
    "duration": 322,
    "start_time": "2022-01-09T15:14:32.007Z"
   },
   {
    "duration": 9,
    "start_time": "2022-01-09T15:14:35.344Z"
   },
   {
    "duration": 3,
    "start_time": "2022-01-09T15:14:36.293Z"
   },
   {
    "duration": 6,
    "start_time": "2022-01-09T15:14:37.274Z"
   },
   {
    "duration": 40,
    "start_time": "2022-01-09T15:14:56.936Z"
   },
   {
    "duration": 582,
    "start_time": "2022-01-09T15:56:43.152Z"
   },
   {
    "duration": 51,
    "start_time": "2022-01-09T15:56:43.736Z"
   },
   {
    "duration": 80,
    "start_time": "2022-01-09T15:56:43.791Z"
   },
   {
    "duration": 19,
    "start_time": "2022-01-09T15:56:43.873Z"
   },
   {
    "duration": 10,
    "start_time": "2022-01-09T15:56:43.894Z"
   },
   {
    "duration": 24,
    "start_time": "2022-01-09T15:56:43.906Z"
   },
   {
    "duration": 32,
    "start_time": "2022-01-09T15:56:43.932Z"
   },
   {
    "duration": 7,
    "start_time": "2022-01-09T15:56:43.965Z"
   },
   {
    "duration": 18,
    "start_time": "2022-01-09T15:56:43.974Z"
   },
   {
    "duration": 42,
    "start_time": "2022-01-09T15:56:43.993Z"
   },
   {
    "duration": 8,
    "start_time": "2022-01-09T15:56:44.037Z"
   },
   {
    "duration": 8931,
    "start_time": "2022-01-09T15:56:44.046Z"
   },
   {
    "duration": 8,
    "start_time": "2022-01-09T15:56:52.979Z"
   },
   {
    "duration": 8,
    "start_time": "2022-01-09T15:56:52.988Z"
   },
   {
    "duration": 3,
    "start_time": "2022-01-09T15:56:52.998Z"
   },
   {
    "duration": 42,
    "start_time": "2022-01-09T15:56:53.003Z"
   },
   {
    "duration": 9,
    "start_time": "2022-01-09T15:56:53.046Z"
   },
   {
    "duration": 3,
    "start_time": "2022-01-09T15:56:53.057Z"
   },
   {
    "duration": 10,
    "start_time": "2022-01-09T15:56:53.062Z"
   },
   {
    "duration": 38,
    "start_time": "2022-01-09T15:56:53.073Z"
   },
   {
    "duration": 26,
    "start_time": "2022-01-09T15:56:53.127Z"
   },
   {
    "duration": 30,
    "start_time": "2022-01-09T15:56:53.156Z"
   },
   {
    "duration": 55,
    "start_time": "2022-01-09T15:56:53.188Z"
   },
   {
    "duration": 610,
    "start_time": "2022-01-09T16:12:24.830Z"
   },
   {
    "duration": 49,
    "start_time": "2022-01-09T16:12:25.442Z"
   },
   {
    "duration": 108,
    "start_time": "2022-01-09T16:12:25.493Z"
   },
   {
    "duration": 27,
    "start_time": "2022-01-09T16:12:25.603Z"
   },
   {
    "duration": 11,
    "start_time": "2022-01-09T16:12:25.631Z"
   },
   {
    "duration": 24,
    "start_time": "2022-01-09T16:12:25.643Z"
   },
   {
    "duration": 33,
    "start_time": "2022-01-09T16:12:25.669Z"
   },
   {
    "duration": 6,
    "start_time": "2022-01-09T16:12:25.705Z"
   },
   {
    "duration": 21,
    "start_time": "2022-01-09T16:12:25.713Z"
   },
   {
    "duration": 19,
    "start_time": "2022-01-09T16:12:25.735Z"
   },
   {
    "duration": 10,
    "start_time": "2022-01-09T16:12:25.755Z"
   },
   {
    "duration": 7448,
    "start_time": "2022-01-09T16:12:25.766Z"
   },
   {
    "duration": 15,
    "start_time": "2022-01-09T16:12:33.216Z"
   },
   {
    "duration": 11,
    "start_time": "2022-01-09T16:12:33.233Z"
   },
   {
    "duration": 6,
    "start_time": "2022-01-09T16:12:33.246Z"
   },
   {
    "duration": 15,
    "start_time": "2022-01-09T16:12:33.253Z"
   },
   {
    "duration": 8,
    "start_time": "2022-01-09T16:12:33.270Z"
   },
   {
    "duration": 4,
    "start_time": "2022-01-09T16:12:33.280Z"
   },
   {
    "duration": 10,
    "start_time": "2022-01-09T16:12:33.285Z"
   },
   {
    "duration": 50,
    "start_time": "2022-01-09T16:12:33.297Z"
   },
   {
    "duration": 21,
    "start_time": "2022-01-09T16:12:33.348Z"
   },
   {
    "duration": 21,
    "start_time": "2022-01-09T16:12:33.371Z"
   },
   {
    "duration": 34,
    "start_time": "2022-01-09T16:12:33.394Z"
   }
  ],
  "kernelspec": {
   "display_name": "Python 3 (ipykernel)",
   "language": "python",
   "name": "python3"
  },
  "language_info": {
   "codemirror_mode": {
    "name": "ipython",
    "version": 3
   },
   "file_extension": ".py",
   "mimetype": "text/x-python",
   "name": "python",
   "nbconvert_exporter": "python",
   "pygments_lexer": "ipython3",
   "version": "3.9.7"
  },
  "toc": {
   "base_numbering": 1,
   "nav_menu": {},
   "number_sections": true,
   "sideBar": true,
   "skip_h1_title": true,
   "title_cell": "Table of Contents",
   "title_sidebar": "Contents",
   "toc_cell": false,
   "toc_position": {},
   "toc_section_display": true,
   "toc_window_display": false
  }
 },
 "nbformat": 4,
 "nbformat_minor": 2
}
