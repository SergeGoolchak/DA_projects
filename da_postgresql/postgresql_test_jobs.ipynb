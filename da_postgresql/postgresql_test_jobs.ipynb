{
 "cells": [
  {
   "cell_type": "markdown",
   "id": "62dcc82a",
   "metadata": {
    "toc": true
   },
   "source": [
    "<h1>Table of Contents<span class=\"tocSkip\"></span></h1>\n",
    "<div class=\"toc\"><ul class=\"toc-item\"><li><span><a href=\"#Задание:\" data-toc-modified-id=\"Задание:-1\"><span class=\"toc-item-num\">1&nbsp;&nbsp;</span>Задание:</a></span></li><li><span><a href=\"#Задание:\" data-toc-modified-id=\"Задание:-2\"><span class=\"toc-item-num\">2&nbsp;&nbsp;</span>Задание:</a></span></li><li><span><a href=\"#Задание:\" data-toc-modified-id=\"Задание:-3\"><span class=\"toc-item-num\">3&nbsp;&nbsp;</span>Задание:</a></span></li><li><span><a href=\"#Задание:\" data-toc-modified-id=\"Задание:-4\"><span class=\"toc-item-num\">4&nbsp;&nbsp;</span>Задание:</a></span></li><li><span><a href=\"#Задание:\" data-toc-modified-id=\"Задание:-5\"><span class=\"toc-item-num\">5&nbsp;&nbsp;</span>Задание:</a></span></li><li><span><a href=\"#Задание:\" data-toc-modified-id=\"Задание:-6\"><span class=\"toc-item-num\">6&nbsp;&nbsp;</span>Задание:</a></span></li><li><span><a href=\"#Задание:\" data-toc-modified-id=\"Задание:-7\"><span class=\"toc-item-num\">7&nbsp;&nbsp;</span>Задание:</a></span></li><li><span><a href=\"#Задание:\" data-toc-modified-id=\"Задание:-8\"><span class=\"toc-item-num\">8&nbsp;&nbsp;</span>Задание:</a></span></li><li><span><a href=\"#Задание:\" data-toc-modified-id=\"Задание:-9\"><span class=\"toc-item-num\">9&nbsp;&nbsp;</span>Задание:</a></span></li><li><span><a href=\"#Задание:\" data-toc-modified-id=\"Задание:-10\"><span class=\"toc-item-num\">10&nbsp;&nbsp;</span>Задание:</a></span></li><li><span><a href=\"#Задание:\" data-toc-modified-id=\"Задание:-11\"><span class=\"toc-item-num\">11&nbsp;&nbsp;</span>Задание:</a></span></li><li><span><a href=\"#Задание:\" data-toc-modified-id=\"Задание:-12\"><span class=\"toc-item-num\">12&nbsp;&nbsp;</span>Задание:</a></span></li><li><span><a href=\"#Задание:\" data-toc-modified-id=\"Задание:-13\"><span class=\"toc-item-num\">13&nbsp;&nbsp;</span>Задание:</a></span></li><li><span><a href=\"#Задание:\" data-toc-modified-id=\"Задание:-14\"><span class=\"toc-item-num\">14&nbsp;&nbsp;</span>Задание:</a></span></li><li><span><a href=\"#Задание:\" data-toc-modified-id=\"Задание:-15\"><span class=\"toc-item-num\">15&nbsp;&nbsp;</span>Задание:</a></span></li><li><span><a href=\"#Задание:\" data-toc-modified-id=\"Задание:-16\"><span class=\"toc-item-num\">16&nbsp;&nbsp;</span>Задание:</a></span></li><li><span><a href=\"#Задание:\" data-toc-modified-id=\"Задание:-17\"><span class=\"toc-item-num\">17&nbsp;&nbsp;</span>Задание:</a></span></li><li><span><a href=\"#Задание:\" data-toc-modified-id=\"Задание:-18\"><span class=\"toc-item-num\">18&nbsp;&nbsp;</span>Задание:</a></span></li><li><span><a href=\"#Задание:\" data-toc-modified-id=\"Задание:-19\"><span class=\"toc-item-num\">19&nbsp;&nbsp;</span>Задание:</a></span></li><li><span><a href=\"#Задание:\" data-toc-modified-id=\"Задание:-20\"><span class=\"toc-item-num\">20&nbsp;&nbsp;</span>Задание:</a></span></li><li><span><a href=\"#Задание:\" data-toc-modified-id=\"Задание:-21\"><span class=\"toc-item-num\">21&nbsp;&nbsp;</span>Задание:</a></span></li><li><span><a href=\"#Задание:\" data-toc-modified-id=\"Задание:-22\"><span class=\"toc-item-num\">22&nbsp;&nbsp;</span>Задание:</a></span></li><li><span><a href=\"#Задание:\" data-toc-modified-id=\"Задание:-23\"><span class=\"toc-item-num\">23&nbsp;&nbsp;</span>Задание:</a></span></li></ul></div>"
   ]
  },
  {
   "cell_type": "markdown",
   "id": "2214ab1c",
   "metadata": {},
   "source": [
    "## Задание: \n",
    "Посчитайте, сколько компаний закрылось."
   ]
  },
  {
   "cell_type": "markdown",
   "id": "181b2ef4",
   "metadata": {},
   "source": [
    "```SQL\n",
    "SELECT COUNT(closed_at)\n",
    "FROM company\n",
    "WHERE status = 'closed';\n",
    "```"
   ]
  },
  {
   "cell_type": "markdown",
   "id": "4c719d4e",
   "metadata": {},
   "source": [
    "## Задание: \n",
    "Отобразите количество привлечённых средств для новостных компаний США. Используйте данные из таблицы company. Отсортируйте таблицу по убыванию значений в поле funding_total ."
   ]
  },
  {
   "cell_type": "markdown",
   "id": "b7f81c3f",
   "metadata": {},
   "source": [
    "```SQL\n",
    "SELECT funding_total\n",
    "FROM company\n",
    "WHERE country_code = 'USA'\n",
    "  AND category_code = 'news'\n",
    "ORDER BY funding_total DESC;\n",
    "```"
   ]
  },
  {
   "cell_type": "markdown",
   "id": "e536e4ad",
   "metadata": {},
   "source": [
    "## Задание: \n",
    "Найдите общую сумму сделок по покупке одних компаний другими в долларах. Отберите сделки, которые осуществлялись только за наличные с 2011 по 2013 год включительно."
   ]
  },
  {
   "cell_type": "markdown",
   "id": "5676ce50",
   "metadata": {},
   "source": [
    "```SQL\n",
    "SELECT SUM(price_amount)\n",
    "FROM acquisition\n",
    "WHERE term_code = 'cash'\n",
    "  AND CAST(acquired_at AS date) BETWEEN '2011-01-01' AND '2013-12-31';\n",
    "```"
   ]
  },
  {
   "cell_type": "markdown",
   "id": "fcbd7af6",
   "metadata": {},
   "source": [
    "## Задание: \n",
    "Отобразите имя, фамилию и названия аккаунтов людей в твиттере, у которых названия аккаунтов начинаются на 'Silver'."
   ]
  },
  {
   "cell_type": "markdown",
   "id": "9b1dd056",
   "metadata": {},
   "source": [
    "```SQL\n",
    "SELECT first_name,\n",
    "       last_name,\n",
    "       twitter_username\n",
    "FROM people\n",
    "WHERE twitter_username LIKE 'Silver%'\n",
    "```"
   ]
  },
  {
   "cell_type": "markdown",
   "id": "b4f6a8cd",
   "metadata": {},
   "source": [
    "## Задание: \n",
    "Выведите на экран всю информацию о людях, у которых названия аккаунтов в твиттере содержат подстроку 'money', а фамилия начинается на 'K'."
   ]
  },
  {
   "cell_type": "markdown",
   "id": "2cb5fac9",
   "metadata": {},
   "source": [
    "```SQL\n",
    "SELECT *\n",
    "FROM people\n",
    "WHERE twitter_username LIKE '%money%'\n",
    "  AND last_name LIKE 'K%';\n",
    "```"
   ]
  },
  {
   "cell_type": "markdown",
   "id": "45d0843b",
   "metadata": {},
   "source": [
    "## Задание: \n",
    "Для каждой страны отобразите общую сумму привлечённых инвестиций, которые получили компании, зарегистрированные в этой стране. Страну, в которой зарегистрирована компания, можно определить по коду страны. Отсортируйте данные по убыванию суммы."
   ]
  },
  {
   "cell_type": "markdown",
   "id": "24096235",
   "metadata": {},
   "source": [
    "```SQL\n",
    "SELECT country_code,\n",
    "       SUM(funding_total)\n",
    "FROM company\n",
    "GROUP BY country_code\n",
    "ORDER BY SUM(funding_total) DESC;\n",
    "```"
   ]
  },
  {
   "cell_type": "markdown",
   "id": "8dd44f76",
   "metadata": {},
   "source": [
    "## Задание: \n",
    "Составьте таблицу, в которую войдёт дата проведения раунда, а также минимальное и максимальное значения суммы инвестиций, привлечённых в эту дату. Оставьте в итоговой таблице только те записи, в которых минимальное значение суммы инвестиций не равно нулю и не равно максимальному значению."
   ]
  },
  {
   "cell_type": "markdown",
   "id": "8b1e9ebf",
   "metadata": {},
   "source": [
    "```SQL\n",
    "WITH a AS (SELECT funded_at,\n",
    "                  MIN(raised_amount) AS min_amount,\n",
    "                  MAX(raised_amount) AS max_amount\n",
    "           FROM funding_round\n",
    "           GROUP BY funded_at)\n",
    "           \n",
    "SELECT *\n",
    "FROM a\n",
    "WHERE min_amount <> 0\n",
    "  AND min_amount <> max_amount;\n",
    "```"
   ]
  },
  {
   "cell_type": "markdown",
   "id": "29d2d613",
   "metadata": {},
   "source": [
    "## Задание: \n",
    "Создайте поле с категориями:\n",
    "- Для фондов, которые инвестируют в 100 и более компаний, назначьте категорию high_activity.\n",
    "- Для фондов, которые инвестируют в 20 и более компаний до 100, назначьте категорию middle_activity.\n",
    "- Если количество инвестируемых компаний фонда не достигает 20, назначьте категорию low_activity.  \n",
    "\n",
    "Отобразите все поля таблицы fund и новое поле с категориями."
   ]
  },
  {
   "cell_type": "markdown",
   "id": "db940ace",
   "metadata": {},
   "source": [
    "```SQL\n",
    "SELECT *,\n",
    "      CASE\n",
    "          WHEN invested_companies >= 100 THEN 'high_activity'\n",
    "          WHEN invested_companies >= 20 THEN 'middle_activity'\n",
    "          ELSE 'low_activity'\n",
    "       END\n",
    "FROM fund;\n",
    "```"
   ]
  },
  {
   "cell_type": "markdown",
   "id": "0f6388ca",
   "metadata": {},
   "source": [
    "## Задание: \n",
    "Для каждой из категорий, назначенных в предыдущем задании, посчитайте округлённое до ближайшего целого числа среднее количество инвестиционных раундов, в которых фонд принимал участие. Выведите на экран категории и среднее число инвестиционных раундов. Отсортируйте таблицу по возрастанию среднего."
   ]
  },
  {
   "cell_type": "markdown",
   "id": "0f9a9c46",
   "metadata": {},
   "source": [
    "```SQL\n",
    "SELECT t.activity,\n",
    "       ROUND(AVG(t.investment_rounds)) AS average_rounds\n",
    "FROM (\n",
    "SELECT *,\n",
    "       CASE\n",
    "           WHEN invested_companies>=100 THEN 'high_activity'\n",
    "           WHEN invested_companies>=20 THEN 'middle_activity'\n",
    "           ELSE 'low_activity'\n",
    "       END AS activity\n",
    "FROM fund) as t\n",
    "GROUP BY t.activity\n",
    "ORDER BY average_rounds;\n",
    "```"
   ]
  },
  {
   "cell_type": "markdown",
   "id": "443cee3b",
   "metadata": {},
   "source": [
    "## Задание:\n",
    "Выгрузите таблицу с десятью самыми активными инвестирующими странами. Активность страны определите по среднему количеству компаний, в которые инвестируют фонды этой страны.  \n",
    "Для каждой страны посчитайте минимальное, максимальное и среднее число компаний, в которые инвестировали фонды, основанные с 2010 по 2012 год включительно.  \n",
    "Исключите из таблицы страны с фондами, у которых минимальное число компаний, получивших инвестиции, равно нулю. Отсортируйте таблицу по среднему количеству компаний от большего к меньшему.  \n",
    "Для фильтрации диапазона по годам используйте оператор BETWEEN."
   ]
  },
  {
   "cell_type": "markdown",
   "id": "b68f68f6",
   "metadata": {},
   "source": [
    "```SQL\n",
    "SELECT country_code,\n",
    "       MIN(invested_companies),\n",
    "       MAX(invested_companies),\n",
    "       AVG(invested_companies)\n",
    "FROM fund\n",
    "WHERE EXTRACT (YEAR FROM CAST(founded_at AS date)) BETWEEN 2010 AND 2012 \n",
    "GROUP BY country_code\n",
    "HAVING MIN(invested_companies) <> 0\n",
    "ORDER BY AVG(invested_companies) DESC\n",
    "LIMIT 10;\n",
    "```"
   ]
  },
  {
   "cell_type": "markdown",
   "id": "4a4cdbb7",
   "metadata": {},
   "source": [
    "## Задание:\n",
    "\n",
    "Отобразите имя и фамилию всех сотрудников стартапов. Добавьте поле с названием учебного заведения, которое окончил сотрудник, если эта информация известна."
   ]
  },
  {
   "cell_type": "markdown",
   "id": "77b726a0",
   "metadata": {},
   "source": [
    "```SQL\n",
    "SELECT p.first_name,\n",
    "       p.last_name,\n",
    "       e.instituition\n",
    "FROM people as p\n",
    "LEFT OUTER JOIN education AS e\n",
    "ON p.id = e.person_id;\n",
    "```"
   ]
  },
  {
   "cell_type": "markdown",
   "id": "f012ea2b",
   "metadata": {},
   "source": [
    "## Задание:\n",
    "Для каждой компании найдите количество учебных заведений, которые окончили её сотрудники. Выведите название компании и число уникальных названий учебных заведений. Составьте топ-5 компаний по количеству университетов."
   ]
  },
  {
   "cell_type": "markdown",
   "id": "cbe43c7e",
   "metadata": {},
   "source": [
    "```SQL\n",
    "WITH\n",
    "a AS (SELECT p.id,\n",
    "       p.company_id,\n",
    "       c.name,\n",
    "       e.instituition\n",
    "FROM people AS p\n",
    "LEFT OUTER JOIN education AS e\n",
    "ON p.id = e.person_id\n",
    "LEFT OUTER JOIN company AS c\n",
    "ON p.company_id = c.id)\n",
    "\n",
    "SELECT name,\n",
    "       COUNT(DISTINCT instituition)\n",
    "FROM a\n",
    "WHERE name IS NOT NULL\n",
    "GROUP BY name\n",
    "ORDER BY COUNT(DISTINCT instituition) DESC\n",
    "LIMIT 5;\n",
    "```"
   ]
  },
  {
   "cell_type": "markdown",
   "id": "aee7eee7",
   "metadata": {},
   "source": [
    "## Задание:\n",
    "Составьте список с уникальными названиями закрытых компаний, для которых первый раунд финансирования оказался последним."
   ]
  },
  {
   "cell_type": "markdown",
   "id": "9776dd65",
   "metadata": {},
   "source": [
    "```SQL\n",
    "SELECT DISTINCT c.name\n",
    "FROM company AS c\n",
    "LEFT OUTER JOIN funding_round AS fr\n",
    "ON c.id = fr.company_id\n",
    "WHERE is_first_round = 1\n",
    "  AND is_last_round = 1\n",
    "  AND c.status = 'closed';\n",
    "```"
   ]
  },
  {
   "cell_type": "markdown",
   "id": "6362d34e",
   "metadata": {},
   "source": [
    "## Задание:\n",
    "\n",
    "Составьте список уникальных номеров сотрудников, которые работают в компаниях, отобранных в предыдущем задании."
   ]
  },
  {
   "cell_type": "markdown",
   "id": "562a6247",
   "metadata": {},
   "source": [
    "```SQL\n",
    "WITH\n",
    "a AS (SELECT DISTINCT c.id\n",
    "FROM company AS c\n",
    "LEFT OUTER JOIN funding_round AS fr\n",
    "ON c.id = fr.company_id\n",
    "WHERE is_first_round = 1\n",
    "  AND is_last_round = 1\n",
    "  AND c.status = 'closed')\n",
    "  \n",
    "SELECT DISTINCT p.id\n",
    "FROM people AS p\n",
    "INNER JOIN a AS t\n",
    "ON p.company_id = t.id;\n",
    "```"
   ]
  },
  {
   "cell_type": "markdown",
   "id": "a7316ae0",
   "metadata": {},
   "source": [
    "## Задание:\n",
    "Составьте таблицу, куда войдут уникальные пары с номерами сотрудников из предыдущей задачи и учебным заведением, которое окончил сотрудник."
   ]
  },
  {
   "cell_type": "markdown",
   "id": "07880cfc",
   "metadata": {},
   "source": [
    "```SQL\n",
    "WITH\n",
    "a AS (SELECT DISTINCT c.id\n",
    "FROM company AS c\n",
    "LEFT OUTER JOIN funding_round AS fr\n",
    "ON c.id = fr.company_id\n",
    "WHERE is_first_round = 1\n",
    "  AND is_last_round = 1\n",
    "  AND c.status = 'closed')\n",
    "  \n",
    "SELECT DISTINCT p.id,\n",
    "       e.instituition\n",
    "FROM people AS p\n",
    "INNER JOIN a AS t\n",
    "ON p.company_id = t.id\n",
    "INNER JOIN education AS e\n",
    "ON p.id = e.person_id;\n",
    "```"
   ]
  },
  {
   "cell_type": "markdown",
   "id": "faf979ff",
   "metadata": {},
   "source": [
    "## Задание:\n",
    "Посчитайте количество учебных заведений для каждого сотрудника из предыдущего задания."
   ]
  },
  {
   "cell_type": "markdown",
   "id": "140cb575",
   "metadata": {},
   "source": [
    "```SQL\n",
    "WITH\n",
    "a AS (SELECT DISTINCT c.id\n",
    "FROM company AS c\n",
    "LEFT OUTER JOIN funding_round AS fr\n",
    "ON c.id = fr.company_id\n",
    "WHERE is_first_round = 1\n",
    "  AND is_last_round = 1\n",
    "  AND c.status = 'closed')\n",
    "  \n",
    "SELECT DISTINCT p.id,\n",
    "       COUNT(e.instituition)\n",
    "FROM people AS p\n",
    "INNER JOIN a AS t\n",
    "ON p.company_id = t.id\n",
    "INNER JOIN education AS e\n",
    "ON p.id = e.person_id\n",
    "GROUP BY p.id;\n",
    "```"
   ]
  },
  {
   "cell_type": "markdown",
   "id": "427cddbd",
   "metadata": {},
   "source": [
    "## Задание:\n",
    "Дополните предыдущий запрос и выведите среднее число учебных заведений, которые окончили сотрудники разных компаний. Нужно вывести только одну запись, группировка здесь не понадобится."
   ]
  },
  {
   "cell_type": "markdown",
   "id": "d8b68b69",
   "metadata": {},
   "source": [
    "```SQL\n",
    "WITH\n",
    "a AS (SELECT DISTINCT c.id\n",
    "FROM company AS c\n",
    "LEFT OUTER JOIN funding_round AS fr\n",
    "ON c.id = fr.company_id\n",
    "WHERE is_first_round = 1\n",
    "  AND is_last_round = 1\n",
    "  AND c.status = 'closed')\n",
    "  \n",
    "SELECT AVG(b.total_inst)\n",
    "FROM (\n",
    "SELECT DISTINCT p.id as person,\n",
    "       COUNT(e.instituition) as total_inst\n",
    "FROM people AS p\n",
    "INNER JOIN a AS t\n",
    "ON p.company_id = t.id\n",
    "INNER JOIN education AS e\n",
    "ON p.id = e.person_id\n",
    "GROUP BY p.id) as b;\n",
    "```"
   ]
  },
  {
   "cell_type": "markdown",
   "id": "f429e2ca",
   "metadata": {},
   "source": [
    "## Задание:\n",
    "Напишите похожий запрос: выведите среднее число учебных заведений, которые окончили сотрудники компании Facebook."
   ]
  },
  {
   "cell_type": "markdown",
   "id": "92ab6a05",
   "metadata": {},
   "source": [
    "```SQL\n",
    "SELECT AVG(t2.total_inst)\n",
    "FROM (\n",
    "SELECT e.person_id,\n",
    "       COUNT(e.instituition) AS total_inst\n",
    "FROM education AS e\n",
    "INNER JOIN (\n",
    "SELECT p.id\n",
    "FROM people AS p\n",
    "INNER JOIN company AS c\n",
    "ON p.company_id = c.id\n",
    "WHERE c.name = 'Facebook') AS t\n",
    "ON e.person_id = t.id\n",
    "GROUP BY e.person_id) AS t2;\n",
    "```"
   ]
  },
  {
   "cell_type": "markdown",
   "id": "40aef45a",
   "metadata": {},
   "source": [
    "## Задание:\n",
    "Составьте таблицу из полей:\n",
    "- name_of_fund — название фонда;\n",
    "- name_of_company — название компании;\n",
    "- amount — сумма инвестиций, которую привлекла компания в раунде. \n",
    "\n",
    "В таблицу войдут данные о компаниях, в истории которых было больше шести важных этапов, а раунды финансирования проходили с 2012 по 2013 год включительно."
   ]
  },
  {
   "cell_type": "markdown",
   "id": "c3e62e33",
   "metadata": {},
   "source": [
    "```SQL\n",
    "SELECT\n",
    "       f.name AS name_of_fund,\n",
    "       c.name AS name_of_company,\n",
    "       fr.raised_amount AS amount\n",
    "FROM investment AS i\n",
    "LEFT OUTER JOIN company AS c ON i.company_id = c.id\n",
    "LEFT OUTER JOIN fund AS f ON i.fund_id = f.id\n",
    "RIGHT OUTER JOIN funding_round as fr ON i.funding_round_id = fr.id\n",
    "WHERE c.milestones > 6\n",
    "  AND EXTRACT(YEAR FROM funded_at) BETWEEN 2012 AND 2013;\n",
    "```"
   ]
  },
  {
   "cell_type": "markdown",
   "id": "9e571c68",
   "metadata": {},
   "source": [
    "## Задание:\n",
    "Выгрузите таблицу, в которой будут такие поля:\n",
    "- название компании-покупателя;\n",
    "- сумма сделки;\n",
    "- название компании, которую купили;\n",
    "- сумма инвестиций, вложенных в купленную компанию;\n",
    "- доля, которая отображает, во сколько раз сумма покупки превысила сумму вложенных в компанию инвестиций, округлённая до ближайшего целого числа.  \n",
    "\n",
    "Не учитывайте те сделки, в которых сумма покупки равна нулю. Если сумма инвестиций в компанию равна нулю, исключите такую компанию из таблицы.  \n",
    "Отсортируйте таблицу по сумме сделки от большей к меньшей, а затем по названию купленной компании в алфавитном порядке. Ограничьте таблицу первыми десятью записями."
   ]
  },
  {
   "cell_type": "markdown",
   "id": "87894656",
   "metadata": {},
   "source": [
    "```SQL\n",
    "WITH\n",
    "first_table AS (SELECT id,\n",
    "                     name,\n",
    "                     status,\n",
    "                     funding_total\n",
    "             FROM company),\n",
    "             \n",
    "second_table AS (SELECT a.id,\n",
    "                        nt.name,\n",
    "                        a.acquired_company_id,\n",
    "                        price_amount\n",
    "                 FROM acquisition as a\n",
    "                 LEFT OUTER JOIN first_table AS nt\n",
    "                 ON a.acquiring_company_id = nt.id)\n",
    "             \n",
    "SELECT\n",
    "       st.name,\n",
    "       ft.name,\n",
    "       st.price_amount,\n",
    "       ft.funding_total,\n",
    "       ROUND(st.price_amount / ft.funding_total)\n",
    "FROM second_table AS st\n",
    "LEFT OUTER JOIN first_table AS ft\n",
    "ON st.acquired_company_id = ft.id\n",
    "WHERE st.price_amount > 0\n",
    "  AND ft.funding_total > 0\n",
    "ORDER BY st.price_amount DESC, ft.name\n",
    "LIMIT 10;\n",
    "```"
   ]
  },
  {
   "cell_type": "markdown",
   "id": "5f8291df",
   "metadata": {},
   "source": [
    "## Задание:\n",
    "Выгрузите таблицу, в которую войдут названия компаний из категории social, получившие финансирование с 2010 по 2013 год. Выведите также номер месяца, в котором проходил раунд финансирования."
   ]
  },
  {
   "cell_type": "markdown",
   "id": "717207ec",
   "metadata": {},
   "source": [
    "```SQL\n",
    "SELECT c.name,\n",
    "       EXTRACT(MONTH FROM CAST(fr.funded_at AS date)) AS month\n",
    "FROM company AS c\n",
    "LEFT OUTER JOIN funding_round AS fr\n",
    "ON c.id = fr.company_id\n",
    "WHERE c.category_code = 'social'\n",
    "  AND EXTRACT(YEAR FROM CAST(fr.funded_at AS date)) BETWEEN 2010 AND 2013;\n",
    "```"
   ]
  },
  {
   "cell_type": "markdown",
   "id": "13aa0848",
   "metadata": {},
   "source": [
    "## Задание:\n",
    "Отберите данные по месяцам с 2010 по 2013 год, когда проходили инвестиционные раунды. Сгруппируйте данные по номеру месяца и получите таблицу, в которой будут поля:\n",
    "- номер месяца, в котором проходили раунды;\n",
    "- количество уникальных названий фондов из США, которые инвестировали в этом месяце;\n",
    "- количество компаний, купленных за этот месяц;\n",
    "- общая сумма сделок по покупкам в этом месяце."
   ]
  },
  {
   "cell_type": "markdown",
   "id": "10cf7db4",
   "metadata": {},
   "source": [
    "```SQL\n",
    "WITH\n",
    "first_table AS \n",
    "(SELECT EXTRACT(MONTH FROM CAST(fr.funded_at AS date)) AS month,\n",
    "        COUNT(DISTINCT f.name) AS name_funds\n",
    "FROM investment AS i\n",
    "LEFT OUTER JOIN fund AS f\n",
    "ON i.fund_id = f.id\n",
    "LEFT OUTER JOIN funding_round AS fr\n",
    "ON i.funding_round_id = fr.id\n",
    "WHERE f.country_code = 'USA'\n",
    "AND EXTRACT(YEAR FROM CAST(fr.funded_at AS date)) BETWEEN 2010 AND 2013\n",
    "GROUP BY month),\n",
    "              \n",
    "second_table AS \n",
    "(SELECT EXTRACT(MONTH FROM CAST(acquired_at AS date)) AS month,\n",
    "        COUNT(acquired_company_id) AS total_companies,\n",
    "        SUM(price_amount) AS amount\n",
    "FROM acquisition\n",
    "WHERE EXTRACT(YEAR FROM CAST(acquired_at AS date)) BETWEEN 2010 AND 2013\n",
    "GROUP BY MONTH)\n",
    "                \n",
    "SELECT ft.month,\n",
    "       ft.name_funds,\n",
    "       st.total_companies,\n",
    "       st.amount\n",
    "FROM first_table AS ft\n",
    "LEFT OUTER JOIN second_table AS st\n",
    "ON ft.month = st.month;\n",
    "```"
   ]
  },
  {
   "cell_type": "markdown",
   "id": "cdf13dab",
   "metadata": {},
   "source": [
    "## Задание:\n",
    "Составьте сводную таблицу и выведите среднюю сумму инвестиций для стран, в которых есть стартапы, зарегистрированные в 2011, 2012 и 2013 годах. Данные за каждый год должны быть в отдельном поле. Отсортируйте таблицу по среднему значению инвестиций за 2011 год от большего к меньшему."
   ]
  },
  {
   "cell_type": "markdown",
   "id": "3a073e2c",
   "metadata": {},
   "source": [
    "```SQL\n",
    "WITH\n",
    "\n",
    "first_table AS\n",
    "(SELECT country_code,\n",
    "        AVG(funding_total) AS year_2011\n",
    "FROM company\n",
    "WHERE EXTRACT(YEAR FROM CAST(founded_at AS date)) = 2011\n",
    "GROUP BY country_code),\n",
    "\n",
    "second_table AS\n",
    "(SELECT country_code,\n",
    "        AVG(funding_total) AS year_2012\n",
    "FROM company\n",
    "WHERE EXTRACT(YEAR FROM CAST(founded_at AS date)) = 2012\n",
    "GROUP BY country_code),\n",
    "\n",
    "third_table AS\n",
    "(SELECT country_code,\n",
    "        AVG(funding_total) AS year_2013\n",
    "FROM company\n",
    "WHERE EXTRACT(YEAR FROM CAST(founded_at AS date)) = 2013\n",
    "GROUP BY country_code)\n",
    "\n",
    "SELECT y11.country_code,\n",
    "       y11.year_2011,\n",
    "       y12.year_2012,\n",
    "       y13.year_2013\n",
    "FROM first_table AS y11\n",
    "INNER JOIN second_table AS y12\n",
    "ON y11.country_code = y12.country_code\n",
    "INNER JOIN third_table AS y13\n",
    "ON y11.country_code = y13.country_code\n",
    "ORDER BY y11.year_2011 DESC;\n",
    "```"
   ]
  }
 ],
 "metadata": {
  "kernelspec": {
   "display_name": "Python 3 (ipykernel)",
   "language": "python",
   "name": "python3"
  },
  "language_info": {
   "codemirror_mode": {
    "name": "ipython",
    "version": 3
   },
   "file_extension": ".py",
   "mimetype": "text/x-python",
   "name": "python",
   "nbconvert_exporter": "python",
   "pygments_lexer": "ipython3",
   "version": "3.9.7"
  },
  "toc": {
   "base_numbering": 1,
   "nav_menu": {},
   "number_sections": true,
   "sideBar": true,
   "skip_h1_title": true,
   "title_cell": "Table of Contents",
   "title_sidebar": "Contents",
   "toc_cell": true,
   "toc_position": {},
   "toc_section_display": true,
   "toc_window_display": false
  }
 },
 "nbformat": 4,
 "nbformat_minor": 5
}
