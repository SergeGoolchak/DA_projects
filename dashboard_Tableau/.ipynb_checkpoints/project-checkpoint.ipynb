{
 "cells": [
  {
   "cell_type": "markdown",
   "id": "155f95d4",
   "metadata": {
    "toc": true
   },
   "source": [
    "<h1>Table of Contents<span class=\"tocSkip\"></span></h1>\n",
    "<div class=\"toc\"><ul class=\"toc-item\"><li><span><a href=\"#Получение-данных\" data-toc-modified-id=\"Получение-данных-1\"><span class=\"toc-item-num\">1&nbsp;&nbsp;</span>Получение данных</a></span></li><li><span><a href=\"#Дашборд\" data-toc-modified-id=\"Дашборд-2\"><span class=\"toc-item-num\">2&nbsp;&nbsp;</span>Дашборд</a></span></li><li><span><a href=\"#Презентация\" data-toc-modified-id=\"Презентация-3\"><span class=\"toc-item-num\">3&nbsp;&nbsp;</span>Презентация</a></span></li></ul></div>"
   ]
  },
  {
   "cell_type": "markdown",
   "id": "44e22582",
   "metadata": {},
   "source": [
    "## Получение данных"
   ]
  },
  {
   "cell_type": "markdown",
   "id": "a864854d",
   "metadata": {},
   "source": [
    "Импортируем библиотеки"
   ]
  },
  {
   "cell_type": "code",
   "execution_count": 1,
   "id": "660262e0",
   "metadata": {},
   "outputs": [],
   "source": [
    "import pandas as pd\n",
    "from sqlalchemy import create_engine"
   ]
  },
  {
   "cell_type": "markdown",
   "id": "66c1935a",
   "metadata": {},
   "source": [
    "Задаем словарь параметров подключения."
   ]
  },
  {
   "cell_type": "code",
   "execution_count": 2,
   "id": "78ee8d63",
   "metadata": {},
   "outputs": [],
   "source": [
    "db_config = {'user': 'praktikum_student', # имя пользователя\n",
    "            'pwd': 'Sdf4$2;d-d30pp', # пароль\n",
    "            'host': 'rc1b-wcoijxj3yxfsf3fs.mdb.yandexcloud.net',\n",
    "            'port': 6432, # порт подключения\n",
    "            'db': 'data-analyst-zen-project-db'} # название базы данных"
   ]
  },
  {
   "cell_type": "markdown",
   "id": "ef48c339",
   "metadata": {},
   "source": [
    "Создаем настройку для подключения к БД."
   ]
  },
  {
   "cell_type": "code",
   "execution_count": 3,
   "id": "a9975a1b",
   "metadata": {},
   "outputs": [],
   "source": [
    "connection_string = 'postgresql://{}:{}@{}:{}/{}'.format(db_config['user'],\n",
    "                                                db_config['pwd'],\n",
    "                                                db_config['host'],\n",
    "                                                db_config['port'],\n",
    "                                                db_config['db'])"
   ]
  },
  {
   "cell_type": "code",
   "execution_count": 4,
   "id": "63e41172",
   "metadata": {},
   "outputs": [],
   "source": [
    "engine = create_engine(connection_string)"
   ]
  },
  {
   "cell_type": "markdown",
   "id": "d39e05a9",
   "metadata": {},
   "source": [
    "Напишем SQL-запрос для получения данных из таблицы log_raw."
   ]
  },
  {
   "cell_type": "code",
   "execution_count": 5,
   "id": "efb2b238",
   "metadata": {},
   "outputs": [],
   "source": [
    "query = \"\"\"\n",
    "            SELECT * FROM log_raw\n",
    "        \"\"\""
   ]
  },
  {
   "cell_type": "markdown",
   "id": "fb8dd1f8",
   "metadata": {},
   "source": [
    "Прочитаем и запишем полученные данные в переменную dash_visits."
   ]
  },
  {
   "cell_type": "code",
   "execution_count": 6,
   "id": "b5c260f4",
   "metadata": {},
   "outputs": [],
   "source": [
    "dash_visits = pd.io.sql.read_sql(query, con = engine)"
   ]
  },
  {
   "cell_type": "markdown",
   "id": "06870f75",
   "metadata": {},
   "source": [
    "Выведем на экран первые 5 строк датафрейма."
   ]
  },
  {
   "cell_type": "code",
   "execution_count": 7,
   "id": "0a2f249d",
   "metadata": {},
   "outputs": [
    {
     "data": {
      "text/html": [
       "<div>\n",
       "<style scoped>\n",
       "    .dataframe tbody tr th:only-of-type {\n",
       "        vertical-align: middle;\n",
       "    }\n",
       "\n",
       "    .dataframe tbody tr th {\n",
       "        vertical-align: top;\n",
       "    }\n",
       "\n",
       "    .dataframe thead th {\n",
       "        text-align: right;\n",
       "    }\n",
       "</style>\n",
       "<table border=\"1\" class=\"dataframe\">\n",
       "  <thead>\n",
       "    <tr style=\"text-align: right;\">\n",
       "      <th></th>\n",
       "      <th>event_id</th>\n",
       "      <th>age_segment</th>\n",
       "      <th>event</th>\n",
       "      <th>item_id</th>\n",
       "      <th>item_topic</th>\n",
       "      <th>item_type</th>\n",
       "      <th>source_id</th>\n",
       "      <th>source_topic</th>\n",
       "      <th>source_type</th>\n",
       "      <th>ts</th>\n",
       "      <th>user_id</th>\n",
       "    </tr>\n",
       "  </thead>\n",
       "  <tbody>\n",
       "    <tr>\n",
       "      <td>0</td>\n",
       "      <td>2931262</td>\n",
       "      <td>18-25</td>\n",
       "      <td>show</td>\n",
       "      <td>1793260</td>\n",
       "      <td>Красота</td>\n",
       "      <td>native</td>\n",
       "      <td>8388799</td>\n",
       "      <td>История</td>\n",
       "      <td>publisher</td>\n",
       "      <td>1569349657638</td>\n",
       "      <td>2185026</td>\n",
       "    </tr>\n",
       "    <tr>\n",
       "      <td>1</td>\n",
       "      <td>2931277</td>\n",
       "      <td>18-25</td>\n",
       "      <td>show</td>\n",
       "      <td>7465641</td>\n",
       "      <td>Культура</td>\n",
       "      <td>native</td>\n",
       "      <td>5837959</td>\n",
       "      <td>История</td>\n",
       "      <td>publisher</td>\n",
       "      <td>1569349657971</td>\n",
       "      <td>6845238</td>\n",
       "    </tr>\n",
       "    <tr>\n",
       "      <td>2</td>\n",
       "      <td>2931285</td>\n",
       "      <td>18-25</td>\n",
       "      <td>show</td>\n",
       "      <td>406073</td>\n",
       "      <td>История</td>\n",
       "      <td>url</td>\n",
       "      <td>2335872</td>\n",
       "      <td>Сад и дача</td>\n",
       "      <td>domain</td>\n",
       "      <td>1569349658408</td>\n",
       "      <td>5244363</td>\n",
       "    </tr>\n",
       "    <tr>\n",
       "      <td>3</td>\n",
       "      <td>2931247</td>\n",
       "      <td>26-30</td>\n",
       "      <td>show</td>\n",
       "      <td>752665</td>\n",
       "      <td>Путешествия</td>\n",
       "      <td>native</td>\n",
       "      <td>6963489</td>\n",
       "      <td>Здоровье</td>\n",
       "      <td>publisher</td>\n",
       "      <td>1569349657189</td>\n",
       "      <td>7553074</td>\n",
       "    </tr>\n",
       "    <tr>\n",
       "      <td>4</td>\n",
       "      <td>2931278</td>\n",
       "      <td>26-30</td>\n",
       "      <td>click</td>\n",
       "      <td>6843081</td>\n",
       "      <td>Юмор</td>\n",
       "      <td>url</td>\n",
       "      <td>5427748</td>\n",
       "      <td>Семейные отношения</td>\n",
       "      <td>domain</td>\n",
       "      <td>1569349658054</td>\n",
       "      <td>1317585</td>\n",
       "    </tr>\n",
       "  </tbody>\n",
       "</table>\n",
       "</div>"
      ],
      "text/plain": [
       "   event_id age_segment  event  item_id   item_topic item_type  source_id  \\\n",
       "0   2931262       18-25   show  1793260      Красота    native    8388799   \n",
       "1   2931277       18-25   show  7465641     Культура    native    5837959   \n",
       "2   2931285       18-25   show   406073      История       url    2335872   \n",
       "3   2931247       26-30   show   752665  Путешествия    native    6963489   \n",
       "4   2931278       26-30  click  6843081         Юмор       url    5427748   \n",
       "\n",
       "         source_topic source_type             ts  user_id  \n",
       "0             История   publisher  1569349657638  2185026  \n",
       "1             История   publisher  1569349657971  6845238  \n",
       "2          Сад и дача      domain  1569349658408  5244363  \n",
       "3            Здоровье   publisher  1569349657189  7553074  \n",
       "4  Семейные отношения      domain  1569349658054  1317585  "
      ]
     },
     "execution_count": 7,
     "metadata": {},
     "output_type": "execute_result"
    }
   ],
   "source": [
    "dash_visits.head()"
   ]
  },
  {
   "cell_type": "markdown",
   "id": "35c3b490",
   "metadata": {},
   "source": [
    "Преобразуем данные в колонке `ts` в тип datetime64[ms]."
   ]
  },
  {
   "cell_type": "code",
   "execution_count": 8,
   "id": "5e8390da",
   "metadata": {},
   "outputs": [],
   "source": [
    "dash_visits['ts'] = dash_visits['ts'].astype(dtype='datetime64[ms]')"
   ]
  },
  {
   "cell_type": "markdown",
   "id": "4bf1bab7",
   "metadata": {},
   "source": [
    "Изучим результат. "
   ]
  },
  {
   "cell_type": "code",
   "execution_count": 9,
   "id": "21f849a3",
   "metadata": {},
   "outputs": [
    {
     "data": {
      "text/html": [
       "<div>\n",
       "<style scoped>\n",
       "    .dataframe tbody tr th:only-of-type {\n",
       "        vertical-align: middle;\n",
       "    }\n",
       "\n",
       "    .dataframe tbody tr th {\n",
       "        vertical-align: top;\n",
       "    }\n",
       "\n",
       "    .dataframe thead th {\n",
       "        text-align: right;\n",
       "    }\n",
       "</style>\n",
       "<table border=\"1\" class=\"dataframe\">\n",
       "  <thead>\n",
       "    <tr style=\"text-align: right;\">\n",
       "      <th></th>\n",
       "      <th>event_id</th>\n",
       "      <th>age_segment</th>\n",
       "      <th>event</th>\n",
       "      <th>item_id</th>\n",
       "      <th>item_topic</th>\n",
       "      <th>item_type</th>\n",
       "      <th>source_id</th>\n",
       "      <th>source_topic</th>\n",
       "      <th>source_type</th>\n",
       "      <th>ts</th>\n",
       "      <th>user_id</th>\n",
       "    </tr>\n",
       "  </thead>\n",
       "  <tbody>\n",
       "    <tr>\n",
       "      <td>0</td>\n",
       "      <td>2931262</td>\n",
       "      <td>18-25</td>\n",
       "      <td>show</td>\n",
       "      <td>1793260</td>\n",
       "      <td>Красота</td>\n",
       "      <td>native</td>\n",
       "      <td>8388799</td>\n",
       "      <td>История</td>\n",
       "      <td>publisher</td>\n",
       "      <td>2019-09-24 18:27:37.638</td>\n",
       "      <td>2185026</td>\n",
       "    </tr>\n",
       "    <tr>\n",
       "      <td>1</td>\n",
       "      <td>2931277</td>\n",
       "      <td>18-25</td>\n",
       "      <td>show</td>\n",
       "      <td>7465641</td>\n",
       "      <td>Культура</td>\n",
       "      <td>native</td>\n",
       "      <td>5837959</td>\n",
       "      <td>История</td>\n",
       "      <td>publisher</td>\n",
       "      <td>2019-09-24 18:27:37.971</td>\n",
       "      <td>6845238</td>\n",
       "    </tr>\n",
       "    <tr>\n",
       "      <td>2</td>\n",
       "      <td>2931285</td>\n",
       "      <td>18-25</td>\n",
       "      <td>show</td>\n",
       "      <td>406073</td>\n",
       "      <td>История</td>\n",
       "      <td>url</td>\n",
       "      <td>2335872</td>\n",
       "      <td>Сад и дача</td>\n",
       "      <td>domain</td>\n",
       "      <td>2019-09-24 18:27:38.408</td>\n",
       "      <td>5244363</td>\n",
       "    </tr>\n",
       "    <tr>\n",
       "      <td>3</td>\n",
       "      <td>2931247</td>\n",
       "      <td>26-30</td>\n",
       "      <td>show</td>\n",
       "      <td>752665</td>\n",
       "      <td>Путешествия</td>\n",
       "      <td>native</td>\n",
       "      <td>6963489</td>\n",
       "      <td>Здоровье</td>\n",
       "      <td>publisher</td>\n",
       "      <td>2019-09-24 18:27:37.189</td>\n",
       "      <td>7553074</td>\n",
       "    </tr>\n",
       "    <tr>\n",
       "      <td>4</td>\n",
       "      <td>2931278</td>\n",
       "      <td>26-30</td>\n",
       "      <td>click</td>\n",
       "      <td>6843081</td>\n",
       "      <td>Юмор</td>\n",
       "      <td>url</td>\n",
       "      <td>5427748</td>\n",
       "      <td>Семейные отношения</td>\n",
       "      <td>domain</td>\n",
       "      <td>2019-09-24 18:27:38.054</td>\n",
       "      <td>1317585</td>\n",
       "    </tr>\n",
       "  </tbody>\n",
       "</table>\n",
       "</div>"
      ],
      "text/plain": [
       "   event_id age_segment  event  item_id   item_topic item_type  source_id  \\\n",
       "0   2931262       18-25   show  1793260      Красота    native    8388799   \n",
       "1   2931277       18-25   show  7465641     Культура    native    5837959   \n",
       "2   2931285       18-25   show   406073      История       url    2335872   \n",
       "3   2931247       26-30   show   752665  Путешествия    native    6963489   \n",
       "4   2931278       26-30  click  6843081         Юмор       url    5427748   \n",
       "\n",
       "         source_topic source_type                      ts  user_id  \n",
       "0             История   publisher 2019-09-24 18:27:37.638  2185026  \n",
       "1             История   publisher 2019-09-24 18:27:37.971  6845238  \n",
       "2          Сад и дача      domain 2019-09-24 18:27:38.408  5244363  \n",
       "3            Здоровье   publisher 2019-09-24 18:27:37.189  7553074  \n",
       "4  Семейные отношения      domain 2019-09-24 18:27:38.054  1317585  "
      ]
     },
     "execution_count": 9,
     "metadata": {},
     "output_type": "execute_result"
    }
   ],
   "source": [
    "dash_visits.head()"
   ]
  },
  {
   "cell_type": "markdown",
   "id": "7ba7e392",
   "metadata": {},
   "source": [
    "Проанализируем датасет на пропуски в данных."
   ]
  },
  {
   "cell_type": "code",
   "execution_count": 10,
   "id": "19407ddf",
   "metadata": {},
   "outputs": [
    {
     "name": "stdout",
     "output_type": "stream",
     "text": [
      "<class 'pandas.core.frame.DataFrame'>\n",
      "RangeIndex: 322391 entries, 0 to 322390\n",
      "Data columns (total 11 columns):\n",
      "event_id        322391 non-null int64\n",
      "age_segment     322391 non-null object\n",
      "event           322391 non-null object\n",
      "item_id         322391 non-null int64\n",
      "item_topic      322391 non-null object\n",
      "item_type       322391 non-null object\n",
      "source_id       322391 non-null int64\n",
      "source_topic    322391 non-null object\n",
      "source_type     322391 non-null object\n",
      "ts              322391 non-null datetime64[ns]\n",
      "user_id         322391 non-null int64\n",
      "dtypes: datetime64[ns](1), int64(4), object(6)\n",
      "memory usage: 27.1+ MB\n"
     ]
    }
   ],
   "source": [
    "dash_visits.info()"
   ]
  },
  {
   "cell_type": "markdown",
   "id": "0a553612",
   "metadata": {},
   "source": [
    "Пропуски отсутсивуют.  \n",
    "\n",
    "Проверим на наличие дубликатов в данных."
   ]
  },
  {
   "cell_type": "code",
   "execution_count": 11,
   "id": "91a53790",
   "metadata": {},
   "outputs": [
    {
     "data": {
      "text/html": [
       "<div>\n",
       "<style scoped>\n",
       "    .dataframe tbody tr th:only-of-type {\n",
       "        vertical-align: middle;\n",
       "    }\n",
       "\n",
       "    .dataframe tbody tr th {\n",
       "        vertical-align: top;\n",
       "    }\n",
       "\n",
       "    .dataframe thead th {\n",
       "        text-align: right;\n",
       "    }\n",
       "</style>\n",
       "<table border=\"1\" class=\"dataframe\">\n",
       "  <thead>\n",
       "    <tr style=\"text-align: right;\">\n",
       "      <th></th>\n",
       "      <th>event_id</th>\n",
       "      <th>age_segment</th>\n",
       "      <th>event</th>\n",
       "      <th>item_id</th>\n",
       "      <th>item_topic</th>\n",
       "      <th>item_type</th>\n",
       "      <th>source_id</th>\n",
       "      <th>source_topic</th>\n",
       "      <th>source_type</th>\n",
       "      <th>ts</th>\n",
       "      <th>user_id</th>\n",
       "    </tr>\n",
       "  </thead>\n",
       "  <tbody>\n",
       "  </tbody>\n",
       "</table>\n",
       "</div>"
      ],
      "text/plain": [
       "Empty DataFrame\n",
       "Columns: [event_id, age_segment, event, item_id, item_topic, item_type, source_id, source_topic, source_type, ts, user_id]\n",
       "Index: []"
      ]
     },
     "execution_count": 11,
     "metadata": {},
     "output_type": "execute_result"
    }
   ],
   "source": [
    "dash_visits[dash_visits.duplicated() == True]"
   ]
  },
  {
   "cell_type": "markdown",
   "id": "dd6863cb",
   "metadata": {},
   "source": [
    "Дубликаты также отсутвуют.  \n",
    "\n",
    "Выведем на экран уникальные значения в столбцах 'age_segment', 'event', 'item_topic', 'item_type', 'source_topic', 'source_type' и посмотрим нет ли неявных дубликатов."
   ]
  },
  {
   "cell_type": "code",
   "execution_count": 12,
   "id": "ca6cbbfa",
   "metadata": {},
   "outputs": [
    {
     "name": "stdout",
     "output_type": "stream",
     "text": [
      "['18-25' '26-30' '31-35' '36-40' '45+' '41-45'] \n",
      "\n",
      "['show' 'click' 'view'] \n",
      "\n",
      "['Красота' 'Культура' 'История' 'Путешествия' 'Юмор' 'Наука' 'Дети'\n",
      " 'Полезные советы' 'Шоу' 'Семья' 'Деньги' 'Психология' 'Россия'\n",
      " 'Искусство' 'Отношения' 'Женская психология' 'Здоровье'\n",
      " 'Интересные факты' 'Общество' 'Подборки' 'Рассказы' 'Скандалы' 'Женщины'\n",
      " 'Знаменитости' 'Туризм'] \n",
      "\n",
      "['native' 'url' 'narrative_card' 'post'] \n",
      "\n",
      "['История' 'Сад и дача' 'Здоровье' 'Семейные отношения' 'Знаменитости'\n",
      " 'Россия' 'Путешествия' 'Кино' 'Полезные советы' 'Психология' 'Спорт'\n",
      " 'Строительство' 'Одежда' 'Искусство' 'Финансы' 'Ремонт' 'Семья' 'Дети'\n",
      " 'Технологии' 'Авто' 'Сделай сам' 'Интерьеры' 'Деньги' 'Музыка' 'Еда'\n",
      " 'Политика'] \n",
      "\n",
      "['publisher' 'domain'] \n",
      "\n"
     ]
    }
   ],
   "source": [
    "for column in ['age_segment', 'event', 'item_topic', 'item_type', 'source_topic', 'source_type']:\n",
    "    print(dash_visits[column].unique(), '\\n')"
   ]
  },
  {
   "cell_type": "markdown",
   "id": "debea84a",
   "metadata": {},
   "source": [
    "С данными все в порядке.  \n",
    "\n",
    "Создадим переменную path, в которой укажем локальный путь для сохранения scv-файла."
   ]
  },
  {
   "cell_type": "code",
   "execution_count": 13,
   "id": "7595826b",
   "metadata": {},
   "outputs": [],
   "source": [
    "path = '/Users/segagoose/Documents/YandexPracticum/Автоматизация/проект'"
   ]
  },
  {
   "cell_type": "markdown",
   "id": "63c260bf",
   "metadata": {},
   "source": [
    "Сохраним датасет dash_visits в файл dash_visits.csv."
   ]
  },
  {
   "cell_type": "code",
   "execution_count": 14,
   "id": "61732911",
   "metadata": {},
   "outputs": [],
   "source": [
    "dash_visits.to_csv(path + '/dash_visits.csv')"
   ]
  },
  {
   "cell_type": "markdown",
   "id": "e4b077c8",
   "metadata": {},
   "source": [
    "Можно переходить к построению дашборда."
   ]
  },
  {
   "cell_type": "markdown",
   "id": "0d671df8",
   "metadata": {},
   "source": [
    "## Дашборд "
   ]
  },
  {
   "cell_type": "markdown",
   "id": "500f4965",
   "metadata": {},
   "source": [
    "Ознакомиться с дашбордом можно [здесь](https://public.tableau.com/app/profile/serhio/viz/project_16527135461830/Dashboard1?publish=yes)."
   ]
  },
  {
   "cell_type": "markdown",
   "id": "103c8ec4",
   "metadata": {},
   "source": [
    "## Презентация"
   ]
  },
  {
   "cell_type": "markdown",
   "id": "03f2dbc0",
   "metadata": {},
   "source": [
    "Ознакомиться с презентацией можно [здесь](https://disk.yandex.ru/i/XdzIXTWZxNUerA)."
   ]
  }
 ],
 "metadata": {
  "kernelspec": {
   "display_name": "Python 3 (ipykernel)",
   "language": "python",
   "name": "python3"
  },
  "language_info": {
   "codemirror_mode": {
    "name": "ipython",
    "version": 3
   },
   "file_extension": ".py",
   "mimetype": "text/x-python",
   "name": "python",
   "nbconvert_exporter": "python",
   "pygments_lexer": "ipython3",
   "version": "3.7.7"
  },
  "toc": {
   "base_numbering": 1,
   "nav_menu": {},
   "number_sections": true,
   "sideBar": true,
   "skip_h1_title": true,
   "title_cell": "Table of Contents",
   "title_sidebar": "Contents",
   "toc_cell": true,
   "toc_position": {},
   "toc_section_display": true,
   "toc_window_display": true
  }
 },
 "nbformat": 4,
 "nbformat_minor": 5
}
