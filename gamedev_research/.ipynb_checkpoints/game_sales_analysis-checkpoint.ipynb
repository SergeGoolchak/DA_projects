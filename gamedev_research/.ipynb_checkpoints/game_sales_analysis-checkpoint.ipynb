{
 "cells": [
  {
   "cell_type": "markdown",
   "id": "89fd67b2",
   "metadata": {
    "toc": true
   },
   "source": [
    "<h1>Содержание<span class=\"tocSkip\"></span></h1>\n",
    "<div class=\"toc\"><ul class=\"toc-item\"><li><span><a href=\"#Изучение-полученных-данных\" data-toc-modified-id=\"Изучение-полученных-данных-1\"><span class=\"toc-item-num\">1&nbsp;&nbsp;</span>Изучение полученных данных</a></span><ul class=\"toc-item\"><li><span><a href=\"#Импорт-библиотек-и-чтение-файла\" data-toc-modified-id=\"Импорт-библиотек-и-чтение-файла-1.1\"><span class=\"toc-item-num\">1.1&nbsp;&nbsp;</span>Импорт библиотек и чтение файла</a></span></li><li><span><a href=\"#Знакомство-с-полученными--данными\" data-toc-modified-id=\"Знакомство-с-полученными--данными-1.2\"><span class=\"toc-item-num\">1.2&nbsp;&nbsp;</span>Знакомство с полученными  данными</a></span></li><li><span><a href=\"#Вывод\" data-toc-modified-id=\"Вывод-1.3\"><span class=\"toc-item-num\">1.3&nbsp;&nbsp;</span>Вывод</a></span></li></ul></li><li><span><a href=\"#Подготовка-данных\" data-toc-modified-id=\"Подготовка-данных-2\"><span class=\"toc-item-num\">2&nbsp;&nbsp;</span>Подготовка данных</a></span><ul class=\"toc-item\"><li><span><a href=\"#Предобработка-данных-датасета\" data-toc-modified-id=\"Предобработка-данных-датасета-2.1\"><span class=\"toc-item-num\">2.1&nbsp;&nbsp;</span>Предобработка данных датасета</a></span></li><li><span><a href=\"#Преобразование-типов-данных\" data-toc-modified-id=\"Преобразование-типов-данных-2.2\"><span class=\"toc-item-num\">2.2&nbsp;&nbsp;</span>Преобразование типов данных</a></span></li><li><span><a href=\"#Расчет-суммарных-продаж\" data-toc-modified-id=\"Расчет-суммарных-продаж-2.3\"><span class=\"toc-item-num\">2.3&nbsp;&nbsp;</span>Расчет суммарных продаж</a></span></li><li><span><a href=\"#Вывод\" data-toc-modified-id=\"Вывод-2.4\"><span class=\"toc-item-num\">2.4&nbsp;&nbsp;</span>Вывод</a></span></li></ul></li><li><span><a href=\"#Исследовательский-анализ-данных\" data-toc-modified-id=\"Исследовательский-анализ-данных-3\"><span class=\"toc-item-num\">3&nbsp;&nbsp;</span>Исследовательский анализ данных</a></span><ul class=\"toc-item\"><li><span><a href=\"#Анализ-выпуска-игр-по-годам\" data-toc-modified-id=\"Анализ-выпуска-игр-по-годам-3.1\"><span class=\"toc-item-num\">3.1&nbsp;&nbsp;</span>Анализ выпуска игр по годам</a></span></li><li><span><a href=\"#Анализ-продаж-игр-в-разрезе-платформ\" data-toc-modified-id=\"Анализ-продаж-игр-в-разрезе-платформ-3.2\"><span class=\"toc-item-num\">3.2&nbsp;&nbsp;</span>Анализ продаж игр в разрезе платформ</a></span></li><li><span><a href=\"#Исследование-влияния-отзывов-на-продажи-игр.\" data-toc-modified-id=\"Исследование-влияния-отзывов-на-продажи-игр.-3.3\"><span class=\"toc-item-num\">3.3&nbsp;&nbsp;</span>Исследование влияния отзывов на продажи игр.</a></span></li><li><span><a href=\"#Изучение-продаж-игр-по-жанрам\" data-toc-modified-id=\"Изучение-продаж-игр-по-жанрам-3.4\"><span class=\"toc-item-num\">3.4&nbsp;&nbsp;</span>Изучение продаж игр по жанрам</a></span></li><li><span><a href=\"#Вывод\" data-toc-modified-id=\"Вывод-3.5\"><span class=\"toc-item-num\">3.5&nbsp;&nbsp;</span>Вывод</a></span></li></ul></li><li><span><a href=\"#Составление-портрета-пользователя-для-каждого-региона\" data-toc-modified-id=\"Составление-портрета-пользователя-для-каждого-региона-4\"><span class=\"toc-item-num\">4&nbsp;&nbsp;</span>Составление портрета пользователя для каждого региона</a></span><ul class=\"toc-item\"><li><span><a href=\"#Самые-популярные-платформы-в-различных-регионах\" data-toc-modified-id=\"Самые-популярные-платформы-в-различных-регионах-4.1\"><span class=\"toc-item-num\">4.1&nbsp;&nbsp;</span>Самые популярные платформы в различных регионах</a></span></li><li><span><a href=\"#Самые-популярные-жанры-игр-в-различных-регионах\" data-toc-modified-id=\"Самые-популярные-жанры-игр-в-различных-регионах-4.2\"><span class=\"toc-item-num\">4.2&nbsp;&nbsp;</span>Самые популярные жанры игр в различных регионах</a></span></li><li><span><a href=\"#Влияение-рейтинга-ESRB-на-продажи-в-различных-регионах\" data-toc-modified-id=\"Влияение-рейтинга-ESRB-на-продажи-в-различных-регионах-4.3\"><span class=\"toc-item-num\">4.3&nbsp;&nbsp;</span>Влияение рейтинга ESRB на продажи в различных регионах</a></span></li><li><span><a href=\"#Вывод\" data-toc-modified-id=\"Вывод-4.4\"><span class=\"toc-item-num\">4.4&nbsp;&nbsp;</span>Вывод</a></span></li></ul></li><li><span><a href=\"#Проверка-гипотез\" data-toc-modified-id=\"Проверка-гипотез-5\"><span class=\"toc-item-num\">5&nbsp;&nbsp;</span>Проверка гипотез</a></span><ul class=\"toc-item\"><li><span><a href=\"#Гипотеза-1.--Средние-пользовательские-рейтинги-платформ-Xbox-One-и-PC-равны\" data-toc-modified-id=\"Гипотеза-1.--Средние-пользовательские-рейтинги-платформ-Xbox-One-и-PC-равны-5.1\"><span class=\"toc-item-num\">5.1&nbsp;&nbsp;</span>Гипотеза 1.  Средние пользовательские рейтинги платформ Xbox One и PC равны</a></span></li><li><span><a href=\"#Гипотеза-2.-Средние-пользовательские-рейтинги-жанров-Action-и-Sports-разные\" data-toc-modified-id=\"Гипотеза-2.-Средние-пользовательские-рейтинги-жанров-Action-и-Sports-разные-5.2\"><span class=\"toc-item-num\">5.2&nbsp;&nbsp;</span>Гипотеза 2. Средние пользовательские рейтинги жанров Action и Sports разные</a></span></li><li><span><a href=\"#Вывод\" data-toc-modified-id=\"Вывод-5.3\"><span class=\"toc-item-num\">5.3&nbsp;&nbsp;</span>Вывод</a></span></li></ul></li><li><span><a href=\"#Общий-вывод\" data-toc-modified-id=\"Общий-вывод-6\"><span class=\"toc-item-num\">6&nbsp;&nbsp;</span>Общий вывод</a></span></li></ul></div>"
   ]
  },
  {
   "cell_type": "markdown",
   "id": "57aeafdf",
   "metadata": {},
   "source": [
    "## Изучение полученных данных"
   ]
  },
  {
   "cell_type": "markdown",
   "id": "8698f999",
   "metadata": {},
   "source": [
    "### Импорт библиотек и чтение файла "
   ]
  },
  {
   "cell_type": "markdown",
   "id": "9d1d29cf",
   "metadata": {},
   "source": [
    "Импортируем библиотеки с которыми нам предстоит работать."
   ]
  },
  {
   "cell_type": "code",
   "execution_count": 1,
   "id": "dc787582",
   "metadata": {},
   "outputs": [],
   "source": [
    "import pandas as pd\n",
    "import numpy as np\n",
    "from scipy import stats as st\n",
    "from matplotlib import pyplot as plt\n",
    "import seaborn as sns\n",
    "import warnings"
   ]
  },
  {
   "cell_type": "markdown",
   "id": "7acc32f2",
   "metadata": {},
   "source": [
    "Локальный путь к файлу с данными запишем в переменную path."
   ]
  },
  {
   "cell_type": "code",
   "execution_count": 2,
   "id": "b04c88b1",
   "metadata": {},
   "outputs": [],
   "source": [
    "path = '/Users/segagoose/Documents/YandexPracticum/Сборный Проект №1'"
   ]
  },
  {
   "cell_type": "markdown",
   "id": "77c4d36e",
   "metadata": {},
   "source": [
    "Прочитаем полученный файл и запишем его в датафрейм."
   ]
  },
  {
   "cell_type": "code",
   "execution_count": 3,
   "id": "c3d632df",
   "metadata": {},
   "outputs": [],
   "source": [
    "try:\n",
    "    data = pd.read_csv(path + '/games.csv')\n",
    "except:\n",
    "    data = pd.read_csv('/datasets/games.csv')"
   ]
  },
  {
   "cell_type": "markdown",
   "id": "3af36dd0",
   "metadata": {},
   "source": [
    "### Знакомство с полученными  данными"
   ]
  },
  {
   "cell_type": "markdown",
   "id": "c92a3963",
   "metadata": {},
   "source": [
    "Выведем на экран полученный датасет."
   ]
  },
  {
   "cell_type": "code",
   "execution_count": 4,
   "id": "19d0c80d",
   "metadata": {},
   "outputs": [
    {
     "data": {
      "text/html": [
       "<div>\n",
       "<style scoped>\n",
       "    .dataframe tbody tr th:only-of-type {\n",
       "        vertical-align: middle;\n",
       "    }\n",
       "\n",
       "    .dataframe tbody tr th {\n",
       "        vertical-align: top;\n",
       "    }\n",
       "\n",
       "    .dataframe thead th {\n",
       "        text-align: right;\n",
       "    }\n",
       "</style>\n",
       "<table border=\"1\" class=\"dataframe\">\n",
       "  <thead>\n",
       "    <tr style=\"text-align: right;\">\n",
       "      <th></th>\n",
       "      <th>Name</th>\n",
       "      <th>Platform</th>\n",
       "      <th>Year_of_Release</th>\n",
       "      <th>Genre</th>\n",
       "      <th>NA_sales</th>\n",
       "      <th>EU_sales</th>\n",
       "      <th>JP_sales</th>\n",
       "      <th>Other_sales</th>\n",
       "      <th>Critic_Score</th>\n",
       "      <th>User_Score</th>\n",
       "      <th>Rating</th>\n",
       "    </tr>\n",
       "  </thead>\n",
       "  <tbody>\n",
       "    <tr>\n",
       "      <th>0</th>\n",
       "      <td>Wii Sports</td>\n",
       "      <td>Wii</td>\n",
       "      <td>2006.0</td>\n",
       "      <td>Sports</td>\n",
       "      <td>41.36</td>\n",
       "      <td>28.96</td>\n",
       "      <td>3.77</td>\n",
       "      <td>8.45</td>\n",
       "      <td>76.0</td>\n",
       "      <td>8</td>\n",
       "      <td>E</td>\n",
       "    </tr>\n",
       "    <tr>\n",
       "      <th>1</th>\n",
       "      <td>Super Mario Bros.</td>\n",
       "      <td>NES</td>\n",
       "      <td>1985.0</td>\n",
       "      <td>Platform</td>\n",
       "      <td>29.08</td>\n",
       "      <td>3.58</td>\n",
       "      <td>6.81</td>\n",
       "      <td>0.77</td>\n",
       "      <td>NaN</td>\n",
       "      <td>NaN</td>\n",
       "      <td>NaN</td>\n",
       "    </tr>\n",
       "    <tr>\n",
       "      <th>2</th>\n",
       "      <td>Mario Kart Wii</td>\n",
       "      <td>Wii</td>\n",
       "      <td>2008.0</td>\n",
       "      <td>Racing</td>\n",
       "      <td>15.68</td>\n",
       "      <td>12.76</td>\n",
       "      <td>3.79</td>\n",
       "      <td>3.29</td>\n",
       "      <td>82.0</td>\n",
       "      <td>8.3</td>\n",
       "      <td>E</td>\n",
       "    </tr>\n",
       "    <tr>\n",
       "      <th>3</th>\n",
       "      <td>Wii Sports Resort</td>\n",
       "      <td>Wii</td>\n",
       "      <td>2009.0</td>\n",
       "      <td>Sports</td>\n",
       "      <td>15.61</td>\n",
       "      <td>10.93</td>\n",
       "      <td>3.28</td>\n",
       "      <td>2.95</td>\n",
       "      <td>80.0</td>\n",
       "      <td>8</td>\n",
       "      <td>E</td>\n",
       "    </tr>\n",
       "    <tr>\n",
       "      <th>4</th>\n",
       "      <td>Pokemon Red/Pokemon Blue</td>\n",
       "      <td>GB</td>\n",
       "      <td>1996.0</td>\n",
       "      <td>Role-Playing</td>\n",
       "      <td>11.27</td>\n",
       "      <td>8.89</td>\n",
       "      <td>10.22</td>\n",
       "      <td>1.00</td>\n",
       "      <td>NaN</td>\n",
       "      <td>NaN</td>\n",
       "      <td>NaN</td>\n",
       "    </tr>\n",
       "    <tr>\n",
       "      <th>5</th>\n",
       "      <td>Tetris</td>\n",
       "      <td>GB</td>\n",
       "      <td>1989.0</td>\n",
       "      <td>Puzzle</td>\n",
       "      <td>23.20</td>\n",
       "      <td>2.26</td>\n",
       "      <td>4.22</td>\n",
       "      <td>0.58</td>\n",
       "      <td>NaN</td>\n",
       "      <td>NaN</td>\n",
       "      <td>NaN</td>\n",
       "    </tr>\n",
       "    <tr>\n",
       "      <th>6</th>\n",
       "      <td>New Super Mario Bros.</td>\n",
       "      <td>DS</td>\n",
       "      <td>2006.0</td>\n",
       "      <td>Platform</td>\n",
       "      <td>11.28</td>\n",
       "      <td>9.14</td>\n",
       "      <td>6.50</td>\n",
       "      <td>2.88</td>\n",
       "      <td>89.0</td>\n",
       "      <td>8.5</td>\n",
       "      <td>E</td>\n",
       "    </tr>\n",
       "    <tr>\n",
       "      <th>7</th>\n",
       "      <td>Wii Play</td>\n",
       "      <td>Wii</td>\n",
       "      <td>2006.0</td>\n",
       "      <td>Misc</td>\n",
       "      <td>13.96</td>\n",
       "      <td>9.18</td>\n",
       "      <td>2.93</td>\n",
       "      <td>2.84</td>\n",
       "      <td>58.0</td>\n",
       "      <td>6.6</td>\n",
       "      <td>E</td>\n",
       "    </tr>\n",
       "    <tr>\n",
       "      <th>8</th>\n",
       "      <td>New Super Mario Bros. Wii</td>\n",
       "      <td>Wii</td>\n",
       "      <td>2009.0</td>\n",
       "      <td>Platform</td>\n",
       "      <td>14.44</td>\n",
       "      <td>6.94</td>\n",
       "      <td>4.70</td>\n",
       "      <td>2.24</td>\n",
       "      <td>87.0</td>\n",
       "      <td>8.4</td>\n",
       "      <td>E</td>\n",
       "    </tr>\n",
       "    <tr>\n",
       "      <th>9</th>\n",
       "      <td>Duck Hunt</td>\n",
       "      <td>NES</td>\n",
       "      <td>1984.0</td>\n",
       "      <td>Shooter</td>\n",
       "      <td>26.93</td>\n",
       "      <td>0.63</td>\n",
       "      <td>0.28</td>\n",
       "      <td>0.47</td>\n",
       "      <td>NaN</td>\n",
       "      <td>NaN</td>\n",
       "      <td>NaN</td>\n",
       "    </tr>\n",
       "    <tr>\n",
       "      <th>10</th>\n",
       "      <td>Nintendogs</td>\n",
       "      <td>DS</td>\n",
       "      <td>2005.0</td>\n",
       "      <td>Simulation</td>\n",
       "      <td>9.05</td>\n",
       "      <td>10.95</td>\n",
       "      <td>1.93</td>\n",
       "      <td>2.74</td>\n",
       "      <td>NaN</td>\n",
       "      <td>NaN</td>\n",
       "      <td>NaN</td>\n",
       "    </tr>\n",
       "    <tr>\n",
       "      <th>11</th>\n",
       "      <td>Mario Kart DS</td>\n",
       "      <td>DS</td>\n",
       "      <td>2005.0</td>\n",
       "      <td>Racing</td>\n",
       "      <td>9.71</td>\n",
       "      <td>7.47</td>\n",
       "      <td>4.13</td>\n",
       "      <td>1.90</td>\n",
       "      <td>91.0</td>\n",
       "      <td>8.6</td>\n",
       "      <td>E</td>\n",
       "    </tr>\n",
       "    <tr>\n",
       "      <th>12</th>\n",
       "      <td>Pokemon Gold/Pokemon Silver</td>\n",
       "      <td>GB</td>\n",
       "      <td>1999.0</td>\n",
       "      <td>Role-Playing</td>\n",
       "      <td>9.00</td>\n",
       "      <td>6.18</td>\n",
       "      <td>7.20</td>\n",
       "      <td>0.71</td>\n",
       "      <td>NaN</td>\n",
       "      <td>NaN</td>\n",
       "      <td>NaN</td>\n",
       "    </tr>\n",
       "    <tr>\n",
       "      <th>13</th>\n",
       "      <td>Wii Fit</td>\n",
       "      <td>Wii</td>\n",
       "      <td>2007.0</td>\n",
       "      <td>Sports</td>\n",
       "      <td>8.92</td>\n",
       "      <td>8.03</td>\n",
       "      <td>3.60</td>\n",
       "      <td>2.15</td>\n",
       "      <td>80.0</td>\n",
       "      <td>7.7</td>\n",
       "      <td>E</td>\n",
       "    </tr>\n",
       "    <tr>\n",
       "      <th>14</th>\n",
       "      <td>Kinect Adventures!</td>\n",
       "      <td>X360</td>\n",
       "      <td>2010.0</td>\n",
       "      <td>Misc</td>\n",
       "      <td>15.00</td>\n",
       "      <td>4.89</td>\n",
       "      <td>0.24</td>\n",
       "      <td>1.69</td>\n",
       "      <td>61.0</td>\n",
       "      <td>6.3</td>\n",
       "      <td>E</td>\n",
       "    </tr>\n",
       "  </tbody>\n",
       "</table>\n",
       "</div>"
      ],
      "text/plain": [
       "                           Name Platform  Year_of_Release         Genre  \\\n",
       "0                    Wii Sports      Wii           2006.0        Sports   \n",
       "1             Super Mario Bros.      NES           1985.0      Platform   \n",
       "2                Mario Kart Wii      Wii           2008.0        Racing   \n",
       "3             Wii Sports Resort      Wii           2009.0        Sports   \n",
       "4      Pokemon Red/Pokemon Blue       GB           1996.0  Role-Playing   \n",
       "5                        Tetris       GB           1989.0        Puzzle   \n",
       "6         New Super Mario Bros.       DS           2006.0      Platform   \n",
       "7                      Wii Play      Wii           2006.0          Misc   \n",
       "8     New Super Mario Bros. Wii      Wii           2009.0      Platform   \n",
       "9                     Duck Hunt      NES           1984.0       Shooter   \n",
       "10                   Nintendogs       DS           2005.0    Simulation   \n",
       "11                Mario Kart DS       DS           2005.0        Racing   \n",
       "12  Pokemon Gold/Pokemon Silver       GB           1999.0  Role-Playing   \n",
       "13                      Wii Fit      Wii           2007.0        Sports   \n",
       "14           Kinect Adventures!     X360           2010.0          Misc   \n",
       "\n",
       "    NA_sales  EU_sales  JP_sales  Other_sales  Critic_Score User_Score Rating  \n",
       "0      41.36     28.96      3.77         8.45          76.0          8      E  \n",
       "1      29.08      3.58      6.81         0.77           NaN        NaN    NaN  \n",
       "2      15.68     12.76      3.79         3.29          82.0        8.3      E  \n",
       "3      15.61     10.93      3.28         2.95          80.0          8      E  \n",
       "4      11.27      8.89     10.22         1.00           NaN        NaN    NaN  \n",
       "5      23.20      2.26      4.22         0.58           NaN        NaN    NaN  \n",
       "6      11.28      9.14      6.50         2.88          89.0        8.5      E  \n",
       "7      13.96      9.18      2.93         2.84          58.0        6.6      E  \n",
       "8      14.44      6.94      4.70         2.24          87.0        8.4      E  \n",
       "9      26.93      0.63      0.28         0.47           NaN        NaN    NaN  \n",
       "10      9.05     10.95      1.93         2.74           NaN        NaN    NaN  \n",
       "11      9.71      7.47      4.13         1.90          91.0        8.6      E  \n",
       "12      9.00      6.18      7.20         0.71           NaN        NaN    NaN  \n",
       "13      8.92      8.03      3.60         2.15          80.0        7.7      E  \n",
       "14     15.00      4.89      0.24         1.69          61.0        6.3      E  "
      ]
     },
     "execution_count": 4,
     "metadata": {},
     "output_type": "execute_result"
    }
   ],
   "source": [
    "data.head(15)"
   ]
  },
  {
   "cell_type": "markdown",
   "id": "3780a510",
   "metadata": {},
   "source": [
    "Теперь изучим информацию о датасете."
   ]
  },
  {
   "cell_type": "code",
   "execution_count": 5,
   "id": "d1ba5395",
   "metadata": {},
   "outputs": [
    {
     "name": "stdout",
     "output_type": "stream",
     "text": [
      "<class 'pandas.core.frame.DataFrame'>\n",
      "RangeIndex: 16715 entries, 0 to 16714\n",
      "Data columns (total 11 columns):\n",
      " #   Column           Non-Null Count  Dtype  \n",
      "---  ------           --------------  -----  \n",
      " 0   Name             16713 non-null  object \n",
      " 1   Platform         16715 non-null  object \n",
      " 2   Year_of_Release  16446 non-null  float64\n",
      " 3   Genre            16713 non-null  object \n",
      " 4   NA_sales         16715 non-null  float64\n",
      " 5   EU_sales         16715 non-null  float64\n",
      " 6   JP_sales         16715 non-null  float64\n",
      " 7   Other_sales      16715 non-null  float64\n",
      " 8   Critic_Score     8137 non-null   float64\n",
      " 9   User_Score       10014 non-null  object \n",
      " 10  Rating           9949 non-null   object \n",
      "dtypes: float64(6), object(5)\n",
      "memory usage: 1.4+ MB\n"
     ]
    }
   ],
   "source": [
    "data.info()"
   ]
  },
  {
   "cell_type": "markdown",
   "id": "fd5b4b30",
   "metadata": {},
   "source": [
    "Посчитаем процент заполненных данных."
   ]
  },
  {
   "cell_type": "code",
   "execution_count": 6,
   "id": "dc3a7d0f",
   "metadata": {},
   "outputs": [
    {
     "data": {
      "text/html": [
       "<div>\n",
       "<style scoped>\n",
       "    .dataframe tbody tr th:only-of-type {\n",
       "        vertical-align: middle;\n",
       "    }\n",
       "\n",
       "    .dataframe tbody tr th {\n",
       "        vertical-align: top;\n",
       "    }\n",
       "\n",
       "    .dataframe thead th {\n",
       "        text-align: right;\n",
       "    }\n",
       "</style>\n",
       "<table border=\"1\" class=\"dataframe\">\n",
       "  <thead>\n",
       "    <tr style=\"text-align: right;\">\n",
       "      <th></th>\n",
       "      <th>columns_name</th>\n",
       "      <th>count_not_nan_values</th>\n",
       "      <th>ratio</th>\n",
       "    </tr>\n",
       "  </thead>\n",
       "  <tbody>\n",
       "    <tr>\n",
       "      <th>0</th>\n",
       "      <td>Name</td>\n",
       "      <td>16713</td>\n",
       "      <td>99.99%</td>\n",
       "    </tr>\n",
       "    <tr>\n",
       "      <th>1</th>\n",
       "      <td>Platform</td>\n",
       "      <td>16715</td>\n",
       "      <td>100.00%</td>\n",
       "    </tr>\n",
       "    <tr>\n",
       "      <th>2</th>\n",
       "      <td>Year_of_Release</td>\n",
       "      <td>16446</td>\n",
       "      <td>98.39%</td>\n",
       "    </tr>\n",
       "    <tr>\n",
       "      <th>3</th>\n",
       "      <td>Genre</td>\n",
       "      <td>16713</td>\n",
       "      <td>99.99%</td>\n",
       "    </tr>\n",
       "    <tr>\n",
       "      <th>4</th>\n",
       "      <td>NA_sales</td>\n",
       "      <td>16715</td>\n",
       "      <td>100.00%</td>\n",
       "    </tr>\n",
       "    <tr>\n",
       "      <th>5</th>\n",
       "      <td>EU_sales</td>\n",
       "      <td>16715</td>\n",
       "      <td>100.00%</td>\n",
       "    </tr>\n",
       "    <tr>\n",
       "      <th>6</th>\n",
       "      <td>JP_sales</td>\n",
       "      <td>16715</td>\n",
       "      <td>100.00%</td>\n",
       "    </tr>\n",
       "    <tr>\n",
       "      <th>7</th>\n",
       "      <td>Other_sales</td>\n",
       "      <td>16715</td>\n",
       "      <td>100.00%</td>\n",
       "    </tr>\n",
       "    <tr>\n",
       "      <th>8</th>\n",
       "      <td>Critic_Score</td>\n",
       "      <td>8137</td>\n",
       "      <td>48.68%</td>\n",
       "    </tr>\n",
       "    <tr>\n",
       "      <th>9</th>\n",
       "      <td>User_Score</td>\n",
       "      <td>10014</td>\n",
       "      <td>59.91%</td>\n",
       "    </tr>\n",
       "    <tr>\n",
       "      <th>10</th>\n",
       "      <td>Rating</td>\n",
       "      <td>9949</td>\n",
       "      <td>59.52%</td>\n",
       "    </tr>\n",
       "  </tbody>\n",
       "</table>\n",
       "</div>"
      ],
      "text/plain": [
       "       columns_name  count_not_nan_values    ratio\n",
       "0              Name                 16713   99.99%\n",
       "1          Platform                 16715  100.00%\n",
       "2   Year_of_Release                 16446   98.39%\n",
       "3             Genre                 16713   99.99%\n",
       "4          NA_sales                 16715  100.00%\n",
       "5          EU_sales                 16715  100.00%\n",
       "6          JP_sales                 16715  100.00%\n",
       "7       Other_sales                 16715  100.00%\n",
       "8      Critic_Score                  8137   48.68%\n",
       "9        User_Score                 10014   59.91%\n",
       "10           Rating                  9949   59.52%"
      ]
     },
     "execution_count": 6,
     "metadata": {},
     "output_type": "execute_result"
    }
   ],
   "source": [
    "def not_nan_ratio(dataframe):\n",
    "    ratio_df = dataframe.T.count(axis=1)\n",
    "    ratio_df = pd.DataFrame(data=ratio_df, index=ratio_df.index).reset_index()\n",
    "    ratio_df.columns=['columns_name', 'count_not_nan_values']\n",
    "    ratio_df['ratio'] = ratio_df['count_not_nan_values'].map(lambda x: '{:.2%}'.format(x / len(data)))\n",
    "    return ratio_df\n",
    "not_nan_ratio(data)"
   ]
  },
  {
   "cell_type": "markdown",
   "id": "05a23844",
   "metadata": {},
   "source": [
    "Можем удалить строки с пропущенными значениями в столбцах `Name`, `Year_of_Release` и `Genre`, так как процент пропущенных значений не высокий и на анализ удаление строк никак не повляет."
   ]
  },
  {
   "cell_type": "markdown",
   "id": "e414b6d9",
   "metadata": {},
   "source": [
    "Проверим на дубликаты игры."
   ]
  },
  {
   "cell_type": "markdown",
   "id": "e6e5b541",
   "metadata": {},
   "source": [
    "Но перед этим приведем названия игр к нижнему регистру."
   ]
  },
  {
   "cell_type": "code",
   "execution_count": 7,
   "id": "40d4f561",
   "metadata": {},
   "outputs": [],
   "source": [
    "data['Name'] = data['Name'].str.lower()"
   ]
  },
  {
   "cell_type": "code",
   "execution_count": 8,
   "id": "bf04ca06",
   "metadata": {},
   "outputs": [
    {
     "data": {
      "text/html": [
       "<div>\n",
       "<style scoped>\n",
       "    .dataframe tbody tr th:only-of-type {\n",
       "        vertical-align: middle;\n",
       "    }\n",
       "\n",
       "    .dataframe tbody tr th {\n",
       "        vertical-align: top;\n",
       "    }\n",
       "\n",
       "    .dataframe thead th {\n",
       "        text-align: right;\n",
       "    }\n",
       "</style>\n",
       "<table border=\"1\" class=\"dataframe\">\n",
       "  <thead>\n",
       "    <tr style=\"text-align: right;\">\n",
       "      <th></th>\n",
       "      <th>Name</th>\n",
       "      <th>Platform</th>\n",
       "      <th>Year_of_Release</th>\n",
       "      <th>Genre</th>\n",
       "      <th>NA_sales</th>\n",
       "      <th>EU_sales</th>\n",
       "      <th>JP_sales</th>\n",
       "      <th>Other_sales</th>\n",
       "      <th>Critic_Score</th>\n",
       "      <th>User_Score</th>\n",
       "      <th>Rating</th>\n",
       "    </tr>\n",
       "  </thead>\n",
       "  <tbody>\n",
       "    <tr>\n",
       "      <th>14244</th>\n",
       "      <td>NaN</td>\n",
       "      <td>GEN</td>\n",
       "      <td>1993.0</td>\n",
       "      <td>NaN</td>\n",
       "      <td>0.0</td>\n",
       "      <td>0.00</td>\n",
       "      <td>0.03</td>\n",
       "      <td>0.0</td>\n",
       "      <td>NaN</td>\n",
       "      <td>NaN</td>\n",
       "      <td>NaN</td>\n",
       "    </tr>\n",
       "    <tr>\n",
       "      <th>16230</th>\n",
       "      <td>madden nfl 13</td>\n",
       "      <td>PS3</td>\n",
       "      <td>2012.0</td>\n",
       "      <td>Sports</td>\n",
       "      <td>0.0</td>\n",
       "      <td>0.01</td>\n",
       "      <td>0.00</td>\n",
       "      <td>0.0</td>\n",
       "      <td>83.0</td>\n",
       "      <td>5.5</td>\n",
       "      <td>E</td>\n",
       "    </tr>\n",
       "  </tbody>\n",
       "</table>\n",
       "</div>"
      ],
      "text/plain": [
       "                Name Platform  Year_of_Release   Genre  NA_sales  EU_sales  \\\n",
       "14244            NaN      GEN           1993.0     NaN       0.0      0.00   \n",
       "16230  madden nfl 13      PS3           2012.0  Sports       0.0      0.01   \n",
       "\n",
       "       JP_sales  Other_sales  Critic_Score User_Score Rating  \n",
       "14244      0.03          0.0           NaN        NaN    NaN  \n",
       "16230      0.00          0.0          83.0        5.5      E  "
      ]
     },
     "execution_count": 8,
     "metadata": {},
     "output_type": "execute_result"
    }
   ],
   "source": [
    "data[data[['Name', 'Platform', 'Year_of_Release']].duplicated()==True]"
   ]
  },
  {
   "cell_type": "markdown",
   "id": "0623ace2",
   "metadata": {},
   "source": [
    "Из полученных данных по дубликатам, сделаем отбор по игре `Madden NFL 13` и изучим, действительно ли присутвуют дубликаты."
   ]
  },
  {
   "cell_type": "code",
   "execution_count": 9,
   "id": "f65db82a",
   "metadata": {},
   "outputs": [
    {
     "data": {
      "text/html": [
       "<div>\n",
       "<style scoped>\n",
       "    .dataframe tbody tr th:only-of-type {\n",
       "        vertical-align: middle;\n",
       "    }\n",
       "\n",
       "    .dataframe tbody tr th {\n",
       "        vertical-align: top;\n",
       "    }\n",
       "\n",
       "    .dataframe thead th {\n",
       "        text-align: right;\n",
       "    }\n",
       "</style>\n",
       "<table border=\"1\" class=\"dataframe\">\n",
       "  <thead>\n",
       "    <tr style=\"text-align: right;\">\n",
       "      <th></th>\n",
       "      <th>Name</th>\n",
       "      <th>Platform</th>\n",
       "      <th>Year_of_Release</th>\n",
       "      <th>Genre</th>\n",
       "      <th>NA_sales</th>\n",
       "      <th>EU_sales</th>\n",
       "      <th>JP_sales</th>\n",
       "      <th>Other_sales</th>\n",
       "      <th>Critic_Score</th>\n",
       "      <th>User_Score</th>\n",
       "      <th>Rating</th>\n",
       "    </tr>\n",
       "  </thead>\n",
       "  <tbody>\n",
       "    <tr>\n",
       "      <th>507</th>\n",
       "      <td>madden nfl 13</td>\n",
       "      <td>X360</td>\n",
       "      <td>2012.0</td>\n",
       "      <td>Sports</td>\n",
       "      <td>2.53</td>\n",
       "      <td>0.15</td>\n",
       "      <td>0.0</td>\n",
       "      <td>0.17</td>\n",
       "      <td>81.0</td>\n",
       "      <td>5.8</td>\n",
       "      <td>E</td>\n",
       "    </tr>\n",
       "    <tr>\n",
       "      <th>604</th>\n",
       "      <td>madden nfl 13</td>\n",
       "      <td>PS3</td>\n",
       "      <td>2012.0</td>\n",
       "      <td>Sports</td>\n",
       "      <td>2.11</td>\n",
       "      <td>0.22</td>\n",
       "      <td>0.0</td>\n",
       "      <td>0.23</td>\n",
       "      <td>83.0</td>\n",
       "      <td>5.5</td>\n",
       "      <td>E</td>\n",
       "    </tr>\n",
       "    <tr>\n",
       "      <th>3986</th>\n",
       "      <td>madden nfl 13</td>\n",
       "      <td>Wii</td>\n",
       "      <td>2012.0</td>\n",
       "      <td>Sports</td>\n",
       "      <td>0.47</td>\n",
       "      <td>0.00</td>\n",
       "      <td>0.0</td>\n",
       "      <td>0.03</td>\n",
       "      <td>NaN</td>\n",
       "      <td>7.3</td>\n",
       "      <td>E</td>\n",
       "    </tr>\n",
       "    <tr>\n",
       "      <th>5887</th>\n",
       "      <td>madden nfl 13</td>\n",
       "      <td>PSV</td>\n",
       "      <td>2012.0</td>\n",
       "      <td>Sports</td>\n",
       "      <td>0.28</td>\n",
       "      <td>0.00</td>\n",
       "      <td>0.0</td>\n",
       "      <td>0.02</td>\n",
       "      <td>63.0</td>\n",
       "      <td>7.3</td>\n",
       "      <td>E</td>\n",
       "    </tr>\n",
       "    <tr>\n",
       "      <th>7066</th>\n",
       "      <td>madden nfl 13</td>\n",
       "      <td>WiiU</td>\n",
       "      <td>2012.0</td>\n",
       "      <td>Sports</td>\n",
       "      <td>0.21</td>\n",
       "      <td>0.00</td>\n",
       "      <td>0.0</td>\n",
       "      <td>0.02</td>\n",
       "      <td>75.0</td>\n",
       "      <td>6.7</td>\n",
       "      <td>E</td>\n",
       "    </tr>\n",
       "    <tr>\n",
       "      <th>16230</th>\n",
       "      <td>madden nfl 13</td>\n",
       "      <td>PS3</td>\n",
       "      <td>2012.0</td>\n",
       "      <td>Sports</td>\n",
       "      <td>0.00</td>\n",
       "      <td>0.01</td>\n",
       "      <td>0.0</td>\n",
       "      <td>0.00</td>\n",
       "      <td>83.0</td>\n",
       "      <td>5.5</td>\n",
       "      <td>E</td>\n",
       "    </tr>\n",
       "  </tbody>\n",
       "</table>\n",
       "</div>"
      ],
      "text/plain": [
       "                Name Platform  Year_of_Release   Genre  NA_sales  EU_sales  \\\n",
       "507    madden nfl 13     X360           2012.0  Sports      2.53      0.15   \n",
       "604    madden nfl 13      PS3           2012.0  Sports      2.11      0.22   \n",
       "3986   madden nfl 13      Wii           2012.0  Sports      0.47      0.00   \n",
       "5887   madden nfl 13      PSV           2012.0  Sports      0.28      0.00   \n",
       "7066   madden nfl 13     WiiU           2012.0  Sports      0.21      0.00   \n",
       "16230  madden nfl 13      PS3           2012.0  Sports      0.00      0.01   \n",
       "\n",
       "       JP_sales  Other_sales  Critic_Score User_Score Rating  \n",
       "507         0.0         0.17          81.0        5.8      E  \n",
       "604         0.0         0.23          83.0        5.5      E  \n",
       "3986        0.0         0.03           NaN        7.3      E  \n",
       "5887        0.0         0.02          63.0        7.3      E  \n",
       "7066        0.0         0.02          75.0        6.7      E  \n",
       "16230       0.0         0.00          83.0        5.5      E  "
      ]
     },
     "execution_count": 9,
     "metadata": {},
     "output_type": "execute_result"
    }
   ],
   "source": [
    "data[data['Name'] == 'madden nfl 13']"
   ]
  },
  {
   "cell_type": "markdown",
   "id": "f2d0e736",
   "metadata": {},
   "source": [
    "Мы видим, что действительно строка с индексом 16230 является дубликатом, ее стоит удалить."
   ]
  },
  {
   "cell_type": "markdown",
   "id": "0a27114b",
   "metadata": {},
   "source": [
    "Изучим уникальные значения в остальных столбцах:"
   ]
  },
  {
   "cell_type": "markdown",
   "id": "d21baf95",
   "metadata": {},
   "source": [
    "Platform"
   ]
  },
  {
   "cell_type": "code",
   "execution_count": 10,
   "id": "7d2d69cb",
   "metadata": {},
   "outputs": [
    {
     "data": {
      "text/plain": [
       "array(['Wii', 'NES', 'GB', 'DS', 'X360', 'PS3', 'PS2', 'SNES', 'GBA',\n",
       "       'PS4', '3DS', 'N64', 'PS', 'XB', 'PC', '2600', 'PSP', 'XOne',\n",
       "       'WiiU', 'GC', 'GEN', 'DC', 'PSV', 'SAT', 'SCD', 'WS', 'NG', 'TG16',\n",
       "       '3DO', 'GG', 'PCFX'], dtype=object)"
      ]
     },
     "execution_count": 10,
     "metadata": {},
     "output_type": "execute_result"
    }
   ],
   "source": [
    "data['Platform'].unique()"
   ]
  },
  {
   "cell_type": "markdown",
   "id": "52c74ee4",
   "metadata": {},
   "source": [
    "Есть странные названия платформ: `2600`, `SAT`, `SCD`, `WS`, `NG`, `TG16`, `GG`, `PCFX`. Препдположим что они реальны, и просто неизвестны российскому рынку."
   ]
  },
  {
   "cell_type": "markdown",
   "id": "7099f44a",
   "metadata": {},
   "source": [
    "Year_of_Release"
   ]
  },
  {
   "cell_type": "code",
   "execution_count": 11,
   "id": "8019e02c",
   "metadata": {},
   "outputs": [
    {
     "data": {
      "text/plain": [
       "array([2006., 1985., 2008., 2009., 1996., 1989., 1984., 2005., 1999.,\n",
       "       2007., 2010., 2013., 2004., 1990., 1988., 2002., 2001., 2011.,\n",
       "       1998., 2015., 2012., 2014., 1992., 1997., 1993., 1994., 1982.,\n",
       "       2016., 2003., 1986., 2000.,   nan, 1995., 1991., 1981., 1987.,\n",
       "       1980., 1983.])"
      ]
     },
     "execution_count": 11,
     "metadata": {},
     "output_type": "execute_result"
    }
   ],
   "source": [
    "data['Year_of_Release'].unique()"
   ]
  },
  {
   "cell_type": "markdown",
   "id": "ec37f99d",
   "metadata": {},
   "source": [
    "Genre"
   ]
  },
  {
   "cell_type": "code",
   "execution_count": 12,
   "id": "89014984",
   "metadata": {},
   "outputs": [
    {
     "data": {
      "text/plain": [
       "array(['Sports', 'Platform', 'Racing', 'Role-Playing', 'Puzzle', 'Misc',\n",
       "       'Shooter', 'Simulation', 'Action', 'Fighting', 'Adventure',\n",
       "       'Strategy', nan], dtype=object)"
      ]
     },
     "execution_count": 12,
     "metadata": {},
     "output_type": "execute_result"
    }
   ],
   "source": [
    "data['Genre'].unique()"
   ]
  },
  {
   "cell_type": "markdown",
   "id": "51d99e3f",
   "metadata": {},
   "source": [
    "User_Score"
   ]
  },
  {
   "cell_type": "code",
   "execution_count": 13,
   "id": "a3630c7b",
   "metadata": {},
   "outputs": [
    {
     "data": {
      "text/plain": [
       "array(['8', nan, '8.3', '8.5', '6.6', '8.4', '8.6', '7.7', '6.3', '7.4',\n",
       "       '8.2', '9', '7.9', '8.1', '8.7', '7.1', '3.4', '5.3', '4.8', '3.2',\n",
       "       '8.9', '6.4', '7.8', '7.5', '2.6', '7.2', '9.2', '7', '7.3', '4.3',\n",
       "       '7.6', '5.7', '5', '9.1', '6.5', 'tbd', '8.8', '6.9', '9.4', '6.8',\n",
       "       '6.1', '6.7', '5.4', '4', '4.9', '4.5', '9.3', '6.2', '4.2', '6',\n",
       "       '3.7', '4.1', '5.8', '5.6', '5.5', '4.4', '4.6', '5.9', '3.9',\n",
       "       '3.1', '2.9', '5.2', '3.3', '4.7', '5.1', '3.5', '2.5', '1.9', '3',\n",
       "       '2.7', '2.2', '2', '9.5', '2.1', '3.6', '2.8', '1.8', '3.8', '0',\n",
       "       '1.6', '9.6', '2.4', '1.7', '1.1', '0.3', '1.5', '0.7', '1.2',\n",
       "       '2.3', '0.5', '1.3', '0.2', '0.6', '1.4', '0.9', '1', '9.7'],\n",
       "      dtype=object)"
      ]
     },
     "execution_count": 13,
     "metadata": {},
     "output_type": "execute_result"
    }
   ],
   "source": [
    "data['User_Score'].unique()"
   ]
  },
  {
   "cell_type": "markdown",
   "id": "b401b0cd",
   "metadata": {},
   "source": [
    "В значениях имеется пользовательский рейтинг tbd, предположим, что это означает, что в данных нет рейтинга."
   ]
  },
  {
   "cell_type": "markdown",
   "id": "758816c9",
   "metadata": {},
   "source": [
    "Rating"
   ]
  },
  {
   "cell_type": "code",
   "execution_count": 14,
   "id": "7c3ee174",
   "metadata": {},
   "outputs": [
    {
     "data": {
      "text/plain": [
       "array(['E', nan, 'M', 'T', 'E10+', 'K-A', 'AO', 'EC', 'RP'], dtype=object)"
      ]
     },
     "execution_count": 14,
     "metadata": {},
     "output_type": "execute_result"
    }
   ],
   "source": [
    "data['Rating'].unique()"
   ]
  },
  {
   "cell_type": "markdown",
   "id": "c81787d1",
   "metadata": {},
   "source": [
    "Выдержка из wikipedia:<br><br>\n",
    "\n",
    "Рейтинг состоит из двух частей: знака рейтинга и краткого описания содержимого.<br><br>\n",
    "\n",
    "«EC» («Early childhood») — «Для детей младшего возраста»: Игра подходит для детей от 3 лет и не содержит материалов, которые родители могли бы счесть неподходящими. Продукты, получившие данный рейтинг, изначально разрабатываются для детей и обычно представляют собой развивающие игры. Некоторые усложнённые развивающие игры могут иметь рейтинг «Everyone».<br><br>\n",
    "\n",
    "«E» («Everyone») — «Для всех»: Содержание вполне подходит для возрастной категории от 6 лет. Такие игры могут понравиться и взрослым. Игры с этим рейтингом могут содержать минимальное насилие, в основном «мультяшного» характера. Первой игрой, которая получила данный рейтинг, стала The Simpsons Cartoon Studio, выпущенная в 1996 году. Первоначально \"K-A\" (\"Kids to Adults\")<br><br>\n",
    "\n",
    "«E10+» («Everyone 10 and older») — «Для всех от 10 лет и старше»: Проекты с данным рейтингом могут содержать или немного больше мультипликационного или мягкого насилия, или несколько откровенные сцены, или минимальное количество крови. Рейтинг был принят ESRB 2 марта 2005 года. Первой игрой, которая получила данный рейтинг, стала Donkey Kong: Jungle Beat.<br><br>\n",
    "\n",
    "«T» («Teen») — «Подросткам»: Игра подходит для лиц от 13 лет. Проекты из данной категории могут содержать насилие, непристойные сцены, грубый юмор, в меру откровенное сексуальное содержимое, кровь или нечастое использование ненормативной лексики.<br><br>\n",
    "\n",
    "«M» («Mature») — «Для взрослых»: Материалы игры не подходят для подростков младше 17 лет. Проекты с данным рейтингом могут содержать достаточно жестокое насилие, большое количество крови с расчленением, непристойные сексуальные сцены или грубую ненормативную лексику, нежелательную для младшей аудитории.<br><br>\n",
    "\n",
    "«AO» («Adults Only 18+») — «Только для взрослых»: Содержание игры только для взрослых старше 18 лет. Продукты из данной категории могут содержать длительные сцены жестокого насилия и/или очень откровенное сексуальное содержимое, а также сцены с обнажением. Большинство таких игр предназначено для персональных компьютеров под управлением Microsoft Windows и Apple Macintosh. Рейтинг «Только для взрослых» является предметом многочисленных дискуссий, так как накладывает серьёзные ограничения на продажи игры. Первой игрой, которая получила данный рейтинг, стала The Joy of Sex, выпущенная в 1993 году.<br><br>\n",
    "\n",
    "«RP» («Rating Pending») — «Рейтинг ожидается»: Продукт был отправлен в ESRB и ожидает присвоения рейтинга. Данный логотип используется только на рекламных презентациях и в демо-версиях игр до официальной даты выпуска в продажу."
   ]
  },
  {
   "cell_type": "markdown",
   "id": "b69f3510",
   "metadata": {},
   "source": [
    "Помимо пропусков артефактов не найдено."
   ]
  },
  {
   "cell_type": "markdown",
   "id": "407424ab",
   "metadata": {},
   "source": [
    "Изучим количество игр каждого рейтинга"
   ]
  },
  {
   "cell_type": "code",
   "execution_count": 15,
   "id": "677113fc",
   "metadata": {},
   "outputs": [
    {
     "data": {
      "text/html": [
       "<div>\n",
       "<style scoped>\n",
       "    .dataframe tbody tr th:only-of-type {\n",
       "        vertical-align: middle;\n",
       "    }\n",
       "\n",
       "    .dataframe tbody tr th {\n",
       "        vertical-align: top;\n",
       "    }\n",
       "\n",
       "    .dataframe thead th {\n",
       "        text-align: right;\n",
       "    }\n",
       "</style>\n",
       "<table border=\"1\" class=\"dataframe\">\n",
       "  <thead>\n",
       "    <tr style=\"text-align: right;\">\n",
       "      <th></th>\n",
       "      <th>Rating</th>\n",
       "    </tr>\n",
       "  </thead>\n",
       "  <tbody>\n",
       "    <tr>\n",
       "      <th>E</th>\n",
       "      <td>3990</td>\n",
       "    </tr>\n",
       "    <tr>\n",
       "      <th>T</th>\n",
       "      <td>2961</td>\n",
       "    </tr>\n",
       "    <tr>\n",
       "      <th>M</th>\n",
       "      <td>1563</td>\n",
       "    </tr>\n",
       "    <tr>\n",
       "      <th>E10+</th>\n",
       "      <td>1420</td>\n",
       "    </tr>\n",
       "    <tr>\n",
       "      <th>EC</th>\n",
       "      <td>8</td>\n",
       "    </tr>\n",
       "    <tr>\n",
       "      <th>K-A</th>\n",
       "      <td>3</td>\n",
       "    </tr>\n",
       "    <tr>\n",
       "      <th>RP</th>\n",
       "      <td>3</td>\n",
       "    </tr>\n",
       "    <tr>\n",
       "      <th>AO</th>\n",
       "      <td>1</td>\n",
       "    </tr>\n",
       "  </tbody>\n",
       "</table>\n",
       "</div>"
      ],
      "text/plain": [
       "      Rating\n",
       "E       3990\n",
       "T       2961\n",
       "M       1563\n",
       "E10+    1420\n",
       "EC         8\n",
       "K-A        3\n",
       "RP         3\n",
       "AO         1"
      ]
     },
     "execution_count": 15,
     "metadata": {},
     "output_type": "execute_result"
    }
   ],
   "source": [
    "data['Rating'].value_counts().to_frame()"
   ]
  },
  {
   "cell_type": "markdown",
   "id": "3201a3de",
   "metadata": {},
   "source": [
    "Игр с рейтингом EC, RP, K-A, AO слишком мало, они не дадут полезных данных для анализа, а их удаление никак не повлияет на результат исследования. Удалим их."
   ]
  },
  {
   "cell_type": "code",
   "execution_count": 16,
   "id": "fefc9f94",
   "metadata": {},
   "outputs": [],
   "source": [
    "data = data[~data['Rating'].isin(['EC', 'RP', 'K-A', 'AO'])]"
   ]
  },
  {
   "cell_type": "markdown",
   "id": "ed1eb87f",
   "metadata": {},
   "source": [
    "Изучим датасет с помощью функции describe()."
   ]
  },
  {
   "cell_type": "code",
   "execution_count": 17,
   "id": "6b8a8342",
   "metadata": {},
   "outputs": [
    {
     "data": {
      "text/html": [
       "<div>\n",
       "<style scoped>\n",
       "    .dataframe tbody tr th:only-of-type {\n",
       "        vertical-align: middle;\n",
       "    }\n",
       "\n",
       "    .dataframe tbody tr th {\n",
       "        vertical-align: top;\n",
       "    }\n",
       "\n",
       "    .dataframe thead th {\n",
       "        text-align: right;\n",
       "    }\n",
       "</style>\n",
       "<table border=\"1\" class=\"dataframe\">\n",
       "  <thead>\n",
       "    <tr style=\"text-align: right;\">\n",
       "      <th></th>\n",
       "      <th>Year_of_Release</th>\n",
       "      <th>NA_sales</th>\n",
       "      <th>EU_sales</th>\n",
       "      <th>JP_sales</th>\n",
       "      <th>Other_sales</th>\n",
       "      <th>Critic_Score</th>\n",
       "    </tr>\n",
       "  </thead>\n",
       "  <tbody>\n",
       "    <tr>\n",
       "      <th>count</th>\n",
       "      <td>16433.000000</td>\n",
       "      <td>16700.000000</td>\n",
       "      <td>16700.000000</td>\n",
       "      <td>16700.000000</td>\n",
       "      <td>16700.000000</td>\n",
       "      <td>8132.000000</td>\n",
       "    </tr>\n",
       "    <tr>\n",
       "      <th>mean</th>\n",
       "      <td>2006.485121</td>\n",
       "      <td>0.263293</td>\n",
       "      <td>0.145126</td>\n",
       "      <td>0.077599</td>\n",
       "      <td>0.047370</td>\n",
       "      <td>68.964461</td>\n",
       "    </tr>\n",
       "    <tr>\n",
       "      <th>std</th>\n",
       "      <td>5.877340</td>\n",
       "      <td>0.813763</td>\n",
       "      <td>0.503539</td>\n",
       "      <td>0.308799</td>\n",
       "      <td>0.186811</td>\n",
       "      <td>13.936804</td>\n",
       "    </tr>\n",
       "    <tr>\n",
       "      <th>min</th>\n",
       "      <td>1980.000000</td>\n",
       "      <td>0.000000</td>\n",
       "      <td>0.000000</td>\n",
       "      <td>0.000000</td>\n",
       "      <td>0.000000</td>\n",
       "      <td>13.000000</td>\n",
       "    </tr>\n",
       "    <tr>\n",
       "      <th>25%</th>\n",
       "      <td>2003.000000</td>\n",
       "      <td>0.000000</td>\n",
       "      <td>0.000000</td>\n",
       "      <td>0.000000</td>\n",
       "      <td>0.000000</td>\n",
       "      <td>60.000000</td>\n",
       "    </tr>\n",
       "    <tr>\n",
       "      <th>50%</th>\n",
       "      <td>2007.000000</td>\n",
       "      <td>0.080000</td>\n",
       "      <td>0.020000</td>\n",
       "      <td>0.000000</td>\n",
       "      <td>0.010000</td>\n",
       "      <td>71.000000</td>\n",
       "    </tr>\n",
       "    <tr>\n",
       "      <th>75%</th>\n",
       "      <td>2010.000000</td>\n",
       "      <td>0.240000</td>\n",
       "      <td>0.110000</td>\n",
       "      <td>0.040000</td>\n",
       "      <td>0.030000</td>\n",
       "      <td>79.000000</td>\n",
       "    </tr>\n",
       "    <tr>\n",
       "      <th>max</th>\n",
       "      <td>2016.000000</td>\n",
       "      <td>41.360000</td>\n",
       "      <td>28.960000</td>\n",
       "      <td>10.220000</td>\n",
       "      <td>10.570000</td>\n",
       "      <td>98.000000</td>\n",
       "    </tr>\n",
       "  </tbody>\n",
       "</table>\n",
       "</div>"
      ],
      "text/plain": [
       "       Year_of_Release      NA_sales      EU_sales      JP_sales  \\\n",
       "count     16433.000000  16700.000000  16700.000000  16700.000000   \n",
       "mean       2006.485121      0.263293      0.145126      0.077599   \n",
       "std           5.877340      0.813763      0.503539      0.308799   \n",
       "min        1980.000000      0.000000      0.000000      0.000000   \n",
       "25%        2003.000000      0.000000      0.000000      0.000000   \n",
       "50%        2007.000000      0.080000      0.020000      0.000000   \n",
       "75%        2010.000000      0.240000      0.110000      0.040000   \n",
       "max        2016.000000     41.360000     28.960000     10.220000   \n",
       "\n",
       "        Other_sales  Critic_Score  \n",
       "count  16700.000000   8132.000000  \n",
       "mean       0.047370     68.964461  \n",
       "std        0.186811     13.936804  \n",
       "min        0.000000     13.000000  \n",
       "25%        0.000000     60.000000  \n",
       "50%        0.010000     71.000000  \n",
       "75%        0.030000     79.000000  \n",
       "max       10.570000     98.000000  "
      ]
     },
     "execution_count": 17,
     "metadata": {},
     "output_type": "execute_result"
    }
   ],
   "source": [
    "data.describe()"
   ]
  },
  {
   "cell_type": "markdown",
   "id": "d34591aa",
   "metadata": {},
   "source": [
    "Отрицательных значений в данных нет - это хорошо. Самая старая игра в нашем списке с релизом в 1980 году, а самая \"свежая\" в 2016 году. Самый низкий рейтинг от критиков был присвоен 13 баллов из 100, а самый высокий - 98 баллов."
   ]
  },
  {
   "cell_type": "markdown",
   "id": "c644637c",
   "metadata": {},
   "source": [
    "### Вывод"
   ]
  },
  {
   "cell_type": "markdown",
   "id": "f35e4002",
   "metadata": {},
   "source": [
    "Мы изучили полученный датасет и выявили следующее:\n",
    "- он состоит из 11 колонок и 16715 строк; \n",
    "- есть пропущенные значения, но от части строк мы избавимся, так как процент пропущенных значений очень мал и удаление никак не повляет на результаты анализа;\n",
    "- названия колонок записаны не в соответствии со стандартами, необходмо переименовать;\n",
    "- у части строк необходимо преобразовать типы данных;\n",
    "- имеется дубликат - строка с индексом 16230, удалим ее;\n",
    "- Отрицательных значений в данных нет - это хорошо. Самая старая игра в нашем списке с релизом в 1980 году, а самая \"свежая\" в 2016 году. Самый низкий рейтинг от критиков был присвоен 13 баллов из 100, а самый высокий - 98 баллов.<br>\n",
    "\n",
    "Можем приступать к предобработке данных.\n",
    "\n"
   ]
  },
  {
   "cell_type": "markdown",
   "id": "35beabd0",
   "metadata": {},
   "source": [
    "## Подготовка данных"
   ]
  },
  {
   "cell_type": "markdown",
   "id": "66d5bae7",
   "metadata": {},
   "source": [
    "### Предобработка данных датасета"
   ]
  },
  {
   "cell_type": "markdown",
   "id": "286a5acd",
   "metadata": {},
   "source": [
    "Приведем названия столбцов к нижнему регистру"
   ]
  },
  {
   "cell_type": "code",
   "execution_count": 18,
   "id": "3840f5bb",
   "metadata": {},
   "outputs": [],
   "source": [
    "data.columns = list(data.columns.str.lower())"
   ]
  },
  {
   "cell_type": "code",
   "execution_count": 19,
   "id": "943f7f89",
   "metadata": {},
   "outputs": [
    {
     "data": {
      "text/html": [
       "<div>\n",
       "<style scoped>\n",
       "    .dataframe tbody tr th:only-of-type {\n",
       "        vertical-align: middle;\n",
       "    }\n",
       "\n",
       "    .dataframe tbody tr th {\n",
       "        vertical-align: top;\n",
       "    }\n",
       "\n",
       "    .dataframe thead th {\n",
       "        text-align: right;\n",
       "    }\n",
       "</style>\n",
       "<table border=\"1\" class=\"dataframe\">\n",
       "  <thead>\n",
       "    <tr style=\"text-align: right;\">\n",
       "      <th></th>\n",
       "      <th>name</th>\n",
       "      <th>platform</th>\n",
       "      <th>year_of_release</th>\n",
       "      <th>genre</th>\n",
       "      <th>na_sales</th>\n",
       "      <th>eu_sales</th>\n",
       "      <th>jp_sales</th>\n",
       "      <th>other_sales</th>\n",
       "      <th>critic_score</th>\n",
       "      <th>user_score</th>\n",
       "      <th>rating</th>\n",
       "    </tr>\n",
       "  </thead>\n",
       "  <tbody>\n",
       "    <tr>\n",
       "      <th>183</th>\n",
       "      <td>madden nfl 2004</td>\n",
       "      <td>PS2</td>\n",
       "      <td>NaN</td>\n",
       "      <td>Sports</td>\n",
       "      <td>4.26</td>\n",
       "      <td>0.26</td>\n",
       "      <td>0.01</td>\n",
       "      <td>0.71</td>\n",
       "      <td>94.0</td>\n",
       "      <td>8.5</td>\n",
       "      <td>E</td>\n",
       "    </tr>\n",
       "    <tr>\n",
       "      <th>377</th>\n",
       "      <td>fifa soccer 2004</td>\n",
       "      <td>PS2</td>\n",
       "      <td>NaN</td>\n",
       "      <td>Sports</td>\n",
       "      <td>0.59</td>\n",
       "      <td>2.36</td>\n",
       "      <td>0.04</td>\n",
       "      <td>0.51</td>\n",
       "      <td>84.0</td>\n",
       "      <td>6.4</td>\n",
       "      <td>E</td>\n",
       "    </tr>\n",
       "    <tr>\n",
       "      <th>456</th>\n",
       "      <td>lego batman: the videogame</td>\n",
       "      <td>Wii</td>\n",
       "      <td>NaN</td>\n",
       "      <td>Action</td>\n",
       "      <td>1.80</td>\n",
       "      <td>0.97</td>\n",
       "      <td>0.00</td>\n",
       "      <td>0.29</td>\n",
       "      <td>74.0</td>\n",
       "      <td>7.9</td>\n",
       "      <td>E10+</td>\n",
       "    </tr>\n",
       "    <tr>\n",
       "      <th>475</th>\n",
       "      <td>wwe smackdown vs. raw 2006</td>\n",
       "      <td>PS2</td>\n",
       "      <td>NaN</td>\n",
       "      <td>Fighting</td>\n",
       "      <td>1.57</td>\n",
       "      <td>1.02</td>\n",
       "      <td>0.00</td>\n",
       "      <td>0.41</td>\n",
       "      <td>NaN</td>\n",
       "      <td>NaN</td>\n",
       "      <td>NaN</td>\n",
       "    </tr>\n",
       "    <tr>\n",
       "      <th>609</th>\n",
       "      <td>space invaders</td>\n",
       "      <td>2600</td>\n",
       "      <td>NaN</td>\n",
       "      <td>Shooter</td>\n",
       "      <td>2.36</td>\n",
       "      <td>0.14</td>\n",
       "      <td>0.00</td>\n",
       "      <td>0.03</td>\n",
       "      <td>NaN</td>\n",
       "      <td>NaN</td>\n",
       "      <td>NaN</td>\n",
       "    </tr>\n",
       "    <tr>\n",
       "      <th>...</th>\n",
       "      <td>...</td>\n",
       "      <td>...</td>\n",
       "      <td>...</td>\n",
       "      <td>...</td>\n",
       "      <td>...</td>\n",
       "      <td>...</td>\n",
       "      <td>...</td>\n",
       "      <td>...</td>\n",
       "      <td>...</td>\n",
       "      <td>...</td>\n",
       "      <td>...</td>\n",
       "    </tr>\n",
       "    <tr>\n",
       "      <th>16373</th>\n",
       "      <td>pdc world championship darts 2008</td>\n",
       "      <td>PSP</td>\n",
       "      <td>NaN</td>\n",
       "      <td>Sports</td>\n",
       "      <td>0.01</td>\n",
       "      <td>0.00</td>\n",
       "      <td>0.00</td>\n",
       "      <td>0.00</td>\n",
       "      <td>43.0</td>\n",
       "      <td>tbd</td>\n",
       "      <td>E10+</td>\n",
       "    </tr>\n",
       "    <tr>\n",
       "      <th>16405</th>\n",
       "      <td>freaky flyers</td>\n",
       "      <td>GC</td>\n",
       "      <td>NaN</td>\n",
       "      <td>Racing</td>\n",
       "      <td>0.01</td>\n",
       "      <td>0.00</td>\n",
       "      <td>0.00</td>\n",
       "      <td>0.00</td>\n",
       "      <td>69.0</td>\n",
       "      <td>6.5</td>\n",
       "      <td>T</td>\n",
       "    </tr>\n",
       "    <tr>\n",
       "      <th>16448</th>\n",
       "      <td>inversion</td>\n",
       "      <td>PC</td>\n",
       "      <td>NaN</td>\n",
       "      <td>Shooter</td>\n",
       "      <td>0.01</td>\n",
       "      <td>0.00</td>\n",
       "      <td>0.00</td>\n",
       "      <td>0.00</td>\n",
       "      <td>59.0</td>\n",
       "      <td>6.7</td>\n",
       "      <td>M</td>\n",
       "    </tr>\n",
       "    <tr>\n",
       "      <th>16458</th>\n",
       "      <td>hakuouki: shinsengumi kitan</td>\n",
       "      <td>PS3</td>\n",
       "      <td>NaN</td>\n",
       "      <td>Adventure</td>\n",
       "      <td>0.01</td>\n",
       "      <td>0.00</td>\n",
       "      <td>0.00</td>\n",
       "      <td>0.00</td>\n",
       "      <td>NaN</td>\n",
       "      <td>NaN</td>\n",
       "      <td>NaN</td>\n",
       "    </tr>\n",
       "    <tr>\n",
       "      <th>16522</th>\n",
       "      <td>virtua quest</td>\n",
       "      <td>GC</td>\n",
       "      <td>NaN</td>\n",
       "      <td>Role-Playing</td>\n",
       "      <td>0.01</td>\n",
       "      <td>0.00</td>\n",
       "      <td>0.00</td>\n",
       "      <td>0.00</td>\n",
       "      <td>55.0</td>\n",
       "      <td>5.5</td>\n",
       "      <td>T</td>\n",
       "    </tr>\n",
       "  </tbody>\n",
       "</table>\n",
       "<p>267 rows × 11 columns</p>\n",
       "</div>"
      ],
      "text/plain": [
       "                                    name platform  year_of_release  \\\n",
       "183                      madden nfl 2004      PS2              NaN   \n",
       "377                     fifa soccer 2004      PS2              NaN   \n",
       "456           lego batman: the videogame      Wii              NaN   \n",
       "475           wwe smackdown vs. raw 2006      PS2              NaN   \n",
       "609                       space invaders     2600              NaN   \n",
       "...                                  ...      ...              ...   \n",
       "16373  pdc world championship darts 2008      PSP              NaN   \n",
       "16405                      freaky flyers       GC              NaN   \n",
       "16448                          inversion       PC              NaN   \n",
       "16458        hakuouki: shinsengumi kitan      PS3              NaN   \n",
       "16522                       virtua quest       GC              NaN   \n",
       "\n",
       "              genre  na_sales  eu_sales  jp_sales  other_sales  critic_score  \\\n",
       "183          Sports      4.26      0.26      0.01         0.71          94.0   \n",
       "377          Sports      0.59      2.36      0.04         0.51          84.0   \n",
       "456          Action      1.80      0.97      0.00         0.29          74.0   \n",
       "475        Fighting      1.57      1.02      0.00         0.41           NaN   \n",
       "609         Shooter      2.36      0.14      0.00         0.03           NaN   \n",
       "...             ...       ...       ...       ...          ...           ...   \n",
       "16373        Sports      0.01      0.00      0.00         0.00          43.0   \n",
       "16405        Racing      0.01      0.00      0.00         0.00          69.0   \n",
       "16448       Shooter      0.01      0.00      0.00         0.00          59.0   \n",
       "16458     Adventure      0.01      0.00      0.00         0.00           NaN   \n",
       "16522  Role-Playing      0.01      0.00      0.00         0.00          55.0   \n",
       "\n",
       "      user_score rating  \n",
       "183          8.5      E  \n",
       "377          6.4      E  \n",
       "456          7.9   E10+  \n",
       "475          NaN    NaN  \n",
       "609          NaN    NaN  \n",
       "...          ...    ...  \n",
       "16373        tbd   E10+  \n",
       "16405        6.5      T  \n",
       "16448        6.7      M  \n",
       "16458        NaN    NaN  \n",
       "16522        5.5      T  \n",
       "\n",
       "[267 rows x 11 columns]"
      ]
     },
     "execution_count": 19,
     "metadata": {},
     "output_type": "execute_result"
    }
   ],
   "source": [
    "data[data['year_of_release'].isna()==True]"
   ]
  },
  {
   "cell_type": "markdown",
   "id": "281fbf8f",
   "metadata": {},
   "source": [
    "Судя по названиям игр и платформам, это достаточно старые релизы. Некоторые игры содержат в названиях актуальный год: 2004, 2206, 2008 и т.д. Из актуальных платформ, таковой выглядит только PC."
   ]
  },
  {
   "cell_type": "markdown",
   "id": "ca583ea7",
   "metadata": {},
   "source": [
    "Удалим строки с пропусками в столбце **year_of_release**"
   ]
  },
  {
   "cell_type": "code",
   "execution_count": 20,
   "id": "8d184d1c",
   "metadata": {},
   "outputs": [],
   "source": [
    "data = data.drop(index=data[data['year_of_release'].isna()==True].index)"
   ]
  },
  {
   "cell_type": "markdown",
   "id": "17c13a2f",
   "metadata": {},
   "source": [
    "А также в столбце **name**"
   ]
  },
  {
   "cell_type": "code",
   "execution_count": 21,
   "id": "5e6c38d0",
   "metadata": {},
   "outputs": [],
   "source": [
    "data = data.drop(index=data[data['name'].isna()==True].index)"
   ]
  },
  {
   "cell_type": "markdown",
   "id": "617a41eb",
   "metadata": {},
   "source": [
    "Проверим наш датасет на количество пропусков в данных функцией not_nan_ratio()"
   ]
  },
  {
   "cell_type": "code",
   "execution_count": 22,
   "id": "8b522f64",
   "metadata": {},
   "outputs": [
    {
     "data": {
      "text/html": [
       "<div>\n",
       "<style scoped>\n",
       "    .dataframe tbody tr th:only-of-type {\n",
       "        vertical-align: middle;\n",
       "    }\n",
       "\n",
       "    .dataframe tbody tr th {\n",
       "        vertical-align: top;\n",
       "    }\n",
       "\n",
       "    .dataframe thead th {\n",
       "        text-align: right;\n",
       "    }\n",
       "</style>\n",
       "<table border=\"1\" class=\"dataframe\">\n",
       "  <thead>\n",
       "    <tr style=\"text-align: right;\">\n",
       "      <th></th>\n",
       "      <th>columns_name</th>\n",
       "      <th>count_not_nan_values</th>\n",
       "      <th>ratio</th>\n",
       "    </tr>\n",
       "  </thead>\n",
       "  <tbody>\n",
       "    <tr>\n",
       "      <th>0</th>\n",
       "      <td>name</td>\n",
       "      <td>16431</td>\n",
       "      <td>100.00%</td>\n",
       "    </tr>\n",
       "    <tr>\n",
       "      <th>1</th>\n",
       "      <td>platform</td>\n",
       "      <td>16431</td>\n",
       "      <td>100.00%</td>\n",
       "    </tr>\n",
       "    <tr>\n",
       "      <th>2</th>\n",
       "      <td>year_of_release</td>\n",
       "      <td>16431</td>\n",
       "      <td>100.00%</td>\n",
       "    </tr>\n",
       "    <tr>\n",
       "      <th>3</th>\n",
       "      <td>genre</td>\n",
       "      <td>16431</td>\n",
       "      <td>100.00%</td>\n",
       "    </tr>\n",
       "    <tr>\n",
       "      <th>4</th>\n",
       "      <td>na_sales</td>\n",
       "      <td>16431</td>\n",
       "      <td>100.00%</td>\n",
       "    </tr>\n",
       "    <tr>\n",
       "      <th>5</th>\n",
       "      <td>eu_sales</td>\n",
       "      <td>16431</td>\n",
       "      <td>100.00%</td>\n",
       "    </tr>\n",
       "    <tr>\n",
       "      <th>6</th>\n",
       "      <td>jp_sales</td>\n",
       "      <td>16431</td>\n",
       "      <td>100.00%</td>\n",
       "    </tr>\n",
       "    <tr>\n",
       "      <th>7</th>\n",
       "      <td>other_sales</td>\n",
       "      <td>16431</td>\n",
       "      <td>100.00%</td>\n",
       "    </tr>\n",
       "    <tr>\n",
       "      <th>8</th>\n",
       "      <td>critic_score</td>\n",
       "      <td>7980</td>\n",
       "      <td>48.57%</td>\n",
       "    </tr>\n",
       "    <tr>\n",
       "      <th>9</th>\n",
       "      <td>user_score</td>\n",
       "      <td>9826</td>\n",
       "      <td>59.80%</td>\n",
       "    </tr>\n",
       "    <tr>\n",
       "      <th>10</th>\n",
       "      <td>rating</td>\n",
       "      <td>9755</td>\n",
       "      <td>59.37%</td>\n",
       "    </tr>\n",
       "  </tbody>\n",
       "</table>\n",
       "</div>"
      ],
      "text/plain": [
       "       columns_name  count_not_nan_values    ratio\n",
       "0              name                 16431  100.00%\n",
       "1          platform                 16431  100.00%\n",
       "2   year_of_release                 16431  100.00%\n",
       "3             genre                 16431  100.00%\n",
       "4          na_sales                 16431  100.00%\n",
       "5          eu_sales                 16431  100.00%\n",
       "6          jp_sales                 16431  100.00%\n",
       "7       other_sales                 16431  100.00%\n",
       "8      critic_score                  7980   48.57%\n",
       "9        user_score                  9826   59.80%\n",
       "10           rating                  9755   59.37%"
      ]
     },
     "execution_count": 22,
     "metadata": {},
     "output_type": "execute_result"
    }
   ],
   "source": [
    "not_nan_ratio(data)"
   ]
  },
  {
   "cell_type": "markdown",
   "id": "836cda7b",
   "metadata": {},
   "source": [
    "Отлично! Мы удалили меньше 2% данных, это не скажется на последующем анализе."
   ]
  },
  {
   "cell_type": "markdown",
   "id": "4ca7c321",
   "metadata": {},
   "source": [
    "У нас остались пропуски в трех столбцах **critic_score**, **user_score** и **rating**. Удалить мы их не можем, так как в каждом из них пропуски практически в каждой второй строке. Поэтому в столбцах **critic_score** и **user_score** мы заменим пропущенные значения нулями, а в столбце **rating** - на `unknown`."
   ]
  },
  {
   "cell_type": "code",
   "execution_count": 23,
   "id": "ba9bc964",
   "metadata": {},
   "outputs": [],
   "source": [
    "data[['critic_score', 'user_score']] = data[['critic_score', 'user_score']].fillna(0)\n",
    "\n",
    "data['rating'] = data['rating'].fillna('unknown')"
   ]
  },
  {
   "cell_type": "markdown",
   "id": "acd7b603",
   "metadata": {},
   "source": [
    "Проверим результат."
   ]
  },
  {
   "cell_type": "code",
   "execution_count": 24,
   "id": "5846d65f",
   "metadata": {},
   "outputs": [
    {
     "data": {
      "text/html": [
       "<div>\n",
       "<style scoped>\n",
       "    .dataframe tbody tr th:only-of-type {\n",
       "        vertical-align: middle;\n",
       "    }\n",
       "\n",
       "    .dataframe tbody tr th {\n",
       "        vertical-align: top;\n",
       "    }\n",
       "\n",
       "    .dataframe thead th {\n",
       "        text-align: right;\n",
       "    }\n",
       "</style>\n",
       "<table border=\"1\" class=\"dataframe\">\n",
       "  <thead>\n",
       "    <tr style=\"text-align: right;\">\n",
       "      <th></th>\n",
       "      <th>columns_name</th>\n",
       "      <th>count_not_nan_values</th>\n",
       "      <th>ratio</th>\n",
       "    </tr>\n",
       "  </thead>\n",
       "  <tbody>\n",
       "    <tr>\n",
       "      <th>0</th>\n",
       "      <td>name</td>\n",
       "      <td>16431</td>\n",
       "      <td>100.00%</td>\n",
       "    </tr>\n",
       "    <tr>\n",
       "      <th>1</th>\n",
       "      <td>platform</td>\n",
       "      <td>16431</td>\n",
       "      <td>100.00%</td>\n",
       "    </tr>\n",
       "    <tr>\n",
       "      <th>2</th>\n",
       "      <td>year_of_release</td>\n",
       "      <td>16431</td>\n",
       "      <td>100.00%</td>\n",
       "    </tr>\n",
       "    <tr>\n",
       "      <th>3</th>\n",
       "      <td>genre</td>\n",
       "      <td>16431</td>\n",
       "      <td>100.00%</td>\n",
       "    </tr>\n",
       "    <tr>\n",
       "      <th>4</th>\n",
       "      <td>na_sales</td>\n",
       "      <td>16431</td>\n",
       "      <td>100.00%</td>\n",
       "    </tr>\n",
       "    <tr>\n",
       "      <th>5</th>\n",
       "      <td>eu_sales</td>\n",
       "      <td>16431</td>\n",
       "      <td>100.00%</td>\n",
       "    </tr>\n",
       "    <tr>\n",
       "      <th>6</th>\n",
       "      <td>jp_sales</td>\n",
       "      <td>16431</td>\n",
       "      <td>100.00%</td>\n",
       "    </tr>\n",
       "    <tr>\n",
       "      <th>7</th>\n",
       "      <td>other_sales</td>\n",
       "      <td>16431</td>\n",
       "      <td>100.00%</td>\n",
       "    </tr>\n",
       "    <tr>\n",
       "      <th>8</th>\n",
       "      <td>critic_score</td>\n",
       "      <td>16431</td>\n",
       "      <td>100.00%</td>\n",
       "    </tr>\n",
       "    <tr>\n",
       "      <th>9</th>\n",
       "      <td>user_score</td>\n",
       "      <td>16431</td>\n",
       "      <td>100.00%</td>\n",
       "    </tr>\n",
       "    <tr>\n",
       "      <th>10</th>\n",
       "      <td>rating</td>\n",
       "      <td>16431</td>\n",
       "      <td>100.00%</td>\n",
       "    </tr>\n",
       "  </tbody>\n",
       "</table>\n",
       "</div>"
      ],
      "text/plain": [
       "       columns_name  count_not_nan_values    ratio\n",
       "0              name                 16431  100.00%\n",
       "1          platform                 16431  100.00%\n",
       "2   year_of_release                 16431  100.00%\n",
       "3             genre                 16431  100.00%\n",
       "4          na_sales                 16431  100.00%\n",
       "5          eu_sales                 16431  100.00%\n",
       "6          jp_sales                 16431  100.00%\n",
       "7       other_sales                 16431  100.00%\n",
       "8      critic_score                 16431  100.00%\n",
       "9        user_score                 16431  100.00%\n",
       "10           rating                 16431  100.00%"
      ]
     },
     "execution_count": 24,
     "metadata": {},
     "output_type": "execute_result"
    }
   ],
   "source": [
    "not_nan_ratio(data)"
   ]
  },
  {
   "cell_type": "markdown",
   "id": "d2bea708",
   "metadata": {},
   "source": [
    "Теперь перейдем к значению `tbd` в столбце **user_score**. На сайте **metacritic.com** говорится о том, что `tbd` расшифровывается как `To Be Determined`, что в переводе означает \"будет определен\". Выставляется такой рейтинг на данном сайте для кинофильмов и игр по которым отзывы пользователей в количестве не более 4. Соответственно, когда набирается необходимое количество оценок, рейтинг указывается оценкой. Если придерживаться данной информации, тогда по нашим играм с рейтингом `tbd` просто не набралось достаточное количество отзывов, их мы оставим как есть, заменим эти значения на нули."
   ]
  },
  {
   "cell_type": "code",
   "execution_count": 25,
   "id": "9ce97052",
   "metadata": {},
   "outputs": [],
   "source": [
    "data['user_score'] = data['user_score'].replace('tbd', 0)"
   ]
  },
  {
   "cell_type": "markdown",
   "id": "8386c959",
   "metadata": {},
   "source": [
    "**Комментарий студента** Это сделано для того, чтобы заменить тип данных в столбце с object на float64. Нули при расчетах использоваться не будут в дальнейшем. Это я объясняю, почему так сделал) Если есть более оптимальное решение, всегда рад совету"
   ]
  },
  {
   "cell_type": "markdown",
   "id": "f6cf0886",
   "metadata": {},
   "source": [
    "Теперь удалим дубликат, который мы выявили при изучении датасета."
   ]
  },
  {
   "cell_type": "code",
   "execution_count": 26,
   "id": "919440f6",
   "metadata": {},
   "outputs": [],
   "source": [
    "data = data.drop(index=16230)"
   ]
  },
  {
   "cell_type": "markdown",
   "id": "dd3f15b3",
   "metadata": {},
   "source": [
    "Проверим результат"
   ]
  },
  {
   "cell_type": "code",
   "execution_count": 27,
   "id": "e232f66a",
   "metadata": {},
   "outputs": [
    {
     "data": {
      "text/html": [
       "<div>\n",
       "<style scoped>\n",
       "    .dataframe tbody tr th:only-of-type {\n",
       "        vertical-align: middle;\n",
       "    }\n",
       "\n",
       "    .dataframe tbody tr th {\n",
       "        vertical-align: top;\n",
       "    }\n",
       "\n",
       "    .dataframe thead th {\n",
       "        text-align: right;\n",
       "    }\n",
       "</style>\n",
       "<table border=\"1\" class=\"dataframe\">\n",
       "  <thead>\n",
       "    <tr style=\"text-align: right;\">\n",
       "      <th></th>\n",
       "      <th>name</th>\n",
       "      <th>platform</th>\n",
       "      <th>year_of_release</th>\n",
       "      <th>genre</th>\n",
       "      <th>na_sales</th>\n",
       "      <th>eu_sales</th>\n",
       "      <th>jp_sales</th>\n",
       "      <th>other_sales</th>\n",
       "      <th>critic_score</th>\n",
       "      <th>user_score</th>\n",
       "      <th>rating</th>\n",
       "    </tr>\n",
       "  </thead>\n",
       "  <tbody>\n",
       "  </tbody>\n",
       "</table>\n",
       "</div>"
      ],
      "text/plain": [
       "Empty DataFrame\n",
       "Columns: [name, platform, year_of_release, genre, na_sales, eu_sales, jp_sales, other_sales, critic_score, user_score, rating]\n",
       "Index: []"
      ]
     },
     "execution_count": 27,
     "metadata": {},
     "output_type": "execute_result"
    }
   ],
   "source": [
    "data[data[['name', 'platform', 'year_of_release']].duplicated()==True]"
   ]
  },
  {
   "cell_type": "markdown",
   "id": "d225a957",
   "metadata": {},
   "source": [
    "Хорошо, теперь обновим индексы и сможем преступать к преобразованию типов данных."
   ]
  },
  {
   "cell_type": "code",
   "execution_count": 28,
   "id": "9934bdf5",
   "metadata": {},
   "outputs": [],
   "source": [
    "data = data.reset_index(drop=True)"
   ]
  },
  {
   "cell_type": "markdown",
   "id": "a43e21bd",
   "metadata": {},
   "source": [
    "Выведем результат на экран"
   ]
  },
  {
   "cell_type": "code",
   "execution_count": 29,
   "id": "09c25b34",
   "metadata": {},
   "outputs": [
    {
     "data": {
      "text/html": [
       "<div>\n",
       "<style scoped>\n",
       "    .dataframe tbody tr th:only-of-type {\n",
       "        vertical-align: middle;\n",
       "    }\n",
       "\n",
       "    .dataframe tbody tr th {\n",
       "        vertical-align: top;\n",
       "    }\n",
       "\n",
       "    .dataframe thead th {\n",
       "        text-align: right;\n",
       "    }\n",
       "</style>\n",
       "<table border=\"1\" class=\"dataframe\">\n",
       "  <thead>\n",
       "    <tr style=\"text-align: right;\">\n",
       "      <th></th>\n",
       "      <th>name</th>\n",
       "      <th>platform</th>\n",
       "      <th>year_of_release</th>\n",
       "      <th>genre</th>\n",
       "      <th>na_sales</th>\n",
       "      <th>eu_sales</th>\n",
       "      <th>jp_sales</th>\n",
       "      <th>other_sales</th>\n",
       "      <th>critic_score</th>\n",
       "      <th>user_score</th>\n",
       "      <th>rating</th>\n",
       "    </tr>\n",
       "  </thead>\n",
       "  <tbody>\n",
       "    <tr>\n",
       "      <th>0</th>\n",
       "      <td>wii sports</td>\n",
       "      <td>Wii</td>\n",
       "      <td>2006.0</td>\n",
       "      <td>Sports</td>\n",
       "      <td>41.36</td>\n",
       "      <td>28.96</td>\n",
       "      <td>3.77</td>\n",
       "      <td>8.45</td>\n",
       "      <td>76.0</td>\n",
       "      <td>8</td>\n",
       "      <td>E</td>\n",
       "    </tr>\n",
       "    <tr>\n",
       "      <th>1</th>\n",
       "      <td>super mario bros.</td>\n",
       "      <td>NES</td>\n",
       "      <td>1985.0</td>\n",
       "      <td>Platform</td>\n",
       "      <td>29.08</td>\n",
       "      <td>3.58</td>\n",
       "      <td>6.81</td>\n",
       "      <td>0.77</td>\n",
       "      <td>0.0</td>\n",
       "      <td>0</td>\n",
       "      <td>unknown</td>\n",
       "    </tr>\n",
       "    <tr>\n",
       "      <th>2</th>\n",
       "      <td>mario kart wii</td>\n",
       "      <td>Wii</td>\n",
       "      <td>2008.0</td>\n",
       "      <td>Racing</td>\n",
       "      <td>15.68</td>\n",
       "      <td>12.76</td>\n",
       "      <td>3.79</td>\n",
       "      <td>3.29</td>\n",
       "      <td>82.0</td>\n",
       "      <td>8.3</td>\n",
       "      <td>E</td>\n",
       "    </tr>\n",
       "    <tr>\n",
       "      <th>3</th>\n",
       "      <td>wii sports resort</td>\n",
       "      <td>Wii</td>\n",
       "      <td>2009.0</td>\n",
       "      <td>Sports</td>\n",
       "      <td>15.61</td>\n",
       "      <td>10.93</td>\n",
       "      <td>3.28</td>\n",
       "      <td>2.95</td>\n",
       "      <td>80.0</td>\n",
       "      <td>8</td>\n",
       "      <td>E</td>\n",
       "    </tr>\n",
       "    <tr>\n",
       "      <th>4</th>\n",
       "      <td>pokemon red/pokemon blue</td>\n",
       "      <td>GB</td>\n",
       "      <td>1996.0</td>\n",
       "      <td>Role-Playing</td>\n",
       "      <td>11.27</td>\n",
       "      <td>8.89</td>\n",
       "      <td>10.22</td>\n",
       "      <td>1.00</td>\n",
       "      <td>0.0</td>\n",
       "      <td>0</td>\n",
       "      <td>unknown</td>\n",
       "    </tr>\n",
       "    <tr>\n",
       "      <th>5</th>\n",
       "      <td>tetris</td>\n",
       "      <td>GB</td>\n",
       "      <td>1989.0</td>\n",
       "      <td>Puzzle</td>\n",
       "      <td>23.20</td>\n",
       "      <td>2.26</td>\n",
       "      <td>4.22</td>\n",
       "      <td>0.58</td>\n",
       "      <td>0.0</td>\n",
       "      <td>0</td>\n",
       "      <td>unknown</td>\n",
       "    </tr>\n",
       "    <tr>\n",
       "      <th>6</th>\n",
       "      <td>new super mario bros.</td>\n",
       "      <td>DS</td>\n",
       "      <td>2006.0</td>\n",
       "      <td>Platform</td>\n",
       "      <td>11.28</td>\n",
       "      <td>9.14</td>\n",
       "      <td>6.50</td>\n",
       "      <td>2.88</td>\n",
       "      <td>89.0</td>\n",
       "      <td>8.5</td>\n",
       "      <td>E</td>\n",
       "    </tr>\n",
       "    <tr>\n",
       "      <th>7</th>\n",
       "      <td>wii play</td>\n",
       "      <td>Wii</td>\n",
       "      <td>2006.0</td>\n",
       "      <td>Misc</td>\n",
       "      <td>13.96</td>\n",
       "      <td>9.18</td>\n",
       "      <td>2.93</td>\n",
       "      <td>2.84</td>\n",
       "      <td>58.0</td>\n",
       "      <td>6.6</td>\n",
       "      <td>E</td>\n",
       "    </tr>\n",
       "    <tr>\n",
       "      <th>8</th>\n",
       "      <td>new super mario bros. wii</td>\n",
       "      <td>Wii</td>\n",
       "      <td>2009.0</td>\n",
       "      <td>Platform</td>\n",
       "      <td>14.44</td>\n",
       "      <td>6.94</td>\n",
       "      <td>4.70</td>\n",
       "      <td>2.24</td>\n",
       "      <td>87.0</td>\n",
       "      <td>8.4</td>\n",
       "      <td>E</td>\n",
       "    </tr>\n",
       "    <tr>\n",
       "      <th>9</th>\n",
       "      <td>duck hunt</td>\n",
       "      <td>NES</td>\n",
       "      <td>1984.0</td>\n",
       "      <td>Shooter</td>\n",
       "      <td>26.93</td>\n",
       "      <td>0.63</td>\n",
       "      <td>0.28</td>\n",
       "      <td>0.47</td>\n",
       "      <td>0.0</td>\n",
       "      <td>0</td>\n",
       "      <td>unknown</td>\n",
       "    </tr>\n",
       "  </tbody>\n",
       "</table>\n",
       "</div>"
      ],
      "text/plain": [
       "                        name platform  year_of_release         genre  \\\n",
       "0                 wii sports      Wii           2006.0        Sports   \n",
       "1          super mario bros.      NES           1985.0      Platform   \n",
       "2             mario kart wii      Wii           2008.0        Racing   \n",
       "3          wii sports resort      Wii           2009.0        Sports   \n",
       "4   pokemon red/pokemon blue       GB           1996.0  Role-Playing   \n",
       "5                     tetris       GB           1989.0        Puzzle   \n",
       "6      new super mario bros.       DS           2006.0      Platform   \n",
       "7                   wii play      Wii           2006.0          Misc   \n",
       "8  new super mario bros. wii      Wii           2009.0      Platform   \n",
       "9                  duck hunt      NES           1984.0       Shooter   \n",
       "\n",
       "   na_sales  eu_sales  jp_sales  other_sales  critic_score user_score   rating  \n",
       "0     41.36     28.96      3.77         8.45          76.0          8        E  \n",
       "1     29.08      3.58      6.81         0.77           0.0          0  unknown  \n",
       "2     15.68     12.76      3.79         3.29          82.0        8.3        E  \n",
       "3     15.61     10.93      3.28         2.95          80.0          8        E  \n",
       "4     11.27      8.89     10.22         1.00           0.0          0  unknown  \n",
       "5     23.20      2.26      4.22         0.58           0.0          0  unknown  \n",
       "6     11.28      9.14      6.50         2.88          89.0        8.5        E  \n",
       "7     13.96      9.18      2.93         2.84          58.0        6.6        E  \n",
       "8     14.44      6.94      4.70         2.24          87.0        8.4        E  \n",
       "9     26.93      0.63      0.28         0.47           0.0          0  unknown  "
      ]
     },
     "execution_count": 29,
     "metadata": {},
     "output_type": "execute_result"
    }
   ],
   "source": [
    "data.head(10)"
   ]
  },
  {
   "cell_type": "markdown",
   "id": "0dbea4f5",
   "metadata": {},
   "source": [
    "### Преобразование типов данных"
   ]
  },
  {
   "cell_type": "markdown",
   "id": "a66fc67e",
   "metadata": {},
   "source": [
    "В связи с тем, что нам нуден только год, а не дата, заменим тип данных в столбце **year_of_release** на `int16`."
   ]
  },
  {
   "cell_type": "code",
   "execution_count": 30,
   "id": "2f6fb288",
   "metadata": {},
   "outputs": [],
   "source": [
    "data['year_of_release'] = data['year_of_release'].astype('int16')"
   ]
  },
  {
   "cell_type": "markdown",
   "id": "dcd50de7",
   "metadata": {},
   "source": [
    "В столбце **user_score** заменим тип данных на `float64`"
   ]
  },
  {
   "cell_type": "code",
   "execution_count": 31,
   "id": "845e568c",
   "metadata": {},
   "outputs": [],
   "source": [
    "data['user_score'] = data['user_score'].astype('float64')"
   ]
  },
  {
   "cell_type": "markdown",
   "id": "890f0d6d",
   "metadata": {},
   "source": [
    "Приведем столбец **user_score** к типу оценок как в **critic_score**."
   ]
  },
  {
   "cell_type": "code",
   "execution_count": 32,
   "id": "d65440f0",
   "metadata": {},
   "outputs": [],
   "source": [
    "data['user_score'] = data['user_score'].apply(lambda x: x * 10)"
   ]
  },
  {
   "cell_type": "markdown",
   "id": "daec1dc5",
   "metadata": {},
   "source": [
    "Проверим результат"
   ]
  },
  {
   "cell_type": "code",
   "execution_count": 33,
   "id": "8b6ac857",
   "metadata": {},
   "outputs": [
    {
     "name": "stdout",
     "output_type": "stream",
     "text": [
      "<class 'pandas.core.frame.DataFrame'>\n",
      "RangeIndex: 16430 entries, 0 to 16429\n",
      "Data columns (total 11 columns):\n",
      " #   Column           Non-Null Count  Dtype  \n",
      "---  ------           --------------  -----  \n",
      " 0   name             16430 non-null  object \n",
      " 1   platform         16430 non-null  object \n",
      " 2   year_of_release  16430 non-null  int16  \n",
      " 3   genre            16430 non-null  object \n",
      " 4   na_sales         16430 non-null  float64\n",
      " 5   eu_sales         16430 non-null  float64\n",
      " 6   jp_sales         16430 non-null  float64\n",
      " 7   other_sales      16430 non-null  float64\n",
      " 8   critic_score     16430 non-null  float64\n",
      " 9   user_score       16430 non-null  float64\n",
      " 10  rating           16430 non-null  object \n",
      "dtypes: float64(6), int16(1), object(4)\n",
      "memory usage: 1.3+ MB\n"
     ]
    }
   ],
   "source": [
    "data.info()"
   ]
  },
  {
   "cell_type": "markdown",
   "id": "9133c13f",
   "metadata": {},
   "source": [
    "Можем переходить к следующему этапу."
   ]
  },
  {
   "cell_type": "markdown",
   "id": "9dd49fba",
   "metadata": {},
   "source": [
    "### Расчет суммарных продаж"
   ]
  },
  {
   "cell_type": "markdown",
   "id": "fd6cd1ba",
   "metadata": {},
   "source": [
    "Создадим новую колонку **all_sales** и запишем в нее сумму продаж столбцов **na_sales**, **eu_sales**, **jp_sales** и **other_sales**."
   ]
  },
  {
   "cell_type": "code",
   "execution_count": 34,
   "id": "f51e886b",
   "metadata": {},
   "outputs": [],
   "source": [
    "data['all_sales'] = data[['na_sales','eu_sales','jp_sales', 'other_sales']].sum(axis = 1)"
   ]
  },
  {
   "cell_type": "markdown",
   "id": "077bdaef",
   "metadata": {},
   "source": [
    "Проверим результат"
   ]
  },
  {
   "cell_type": "code",
   "execution_count": 35,
   "id": "9f4a920e",
   "metadata": {},
   "outputs": [
    {
     "data": {
      "text/html": [
       "<div>\n",
       "<style scoped>\n",
       "    .dataframe tbody tr th:only-of-type {\n",
       "        vertical-align: middle;\n",
       "    }\n",
       "\n",
       "    .dataframe tbody tr th {\n",
       "        vertical-align: top;\n",
       "    }\n",
       "\n",
       "    .dataframe thead th {\n",
       "        text-align: right;\n",
       "    }\n",
       "</style>\n",
       "<table border=\"1\" class=\"dataframe\">\n",
       "  <thead>\n",
       "    <tr style=\"text-align: right;\">\n",
       "      <th></th>\n",
       "      <th>name</th>\n",
       "      <th>platform</th>\n",
       "      <th>year_of_release</th>\n",
       "      <th>genre</th>\n",
       "      <th>na_sales</th>\n",
       "      <th>eu_sales</th>\n",
       "      <th>jp_sales</th>\n",
       "      <th>other_sales</th>\n",
       "      <th>critic_score</th>\n",
       "      <th>user_score</th>\n",
       "      <th>rating</th>\n",
       "      <th>all_sales</th>\n",
       "    </tr>\n",
       "  </thead>\n",
       "  <tbody>\n",
       "    <tr>\n",
       "      <th>0</th>\n",
       "      <td>wii sports</td>\n",
       "      <td>Wii</td>\n",
       "      <td>2006</td>\n",
       "      <td>Sports</td>\n",
       "      <td>41.36</td>\n",
       "      <td>28.96</td>\n",
       "      <td>3.77</td>\n",
       "      <td>8.45</td>\n",
       "      <td>76.0</td>\n",
       "      <td>80.0</td>\n",
       "      <td>E</td>\n",
       "      <td>82.54</td>\n",
       "    </tr>\n",
       "    <tr>\n",
       "      <th>1</th>\n",
       "      <td>super mario bros.</td>\n",
       "      <td>NES</td>\n",
       "      <td>1985</td>\n",
       "      <td>Platform</td>\n",
       "      <td>29.08</td>\n",
       "      <td>3.58</td>\n",
       "      <td>6.81</td>\n",
       "      <td>0.77</td>\n",
       "      <td>0.0</td>\n",
       "      <td>0.0</td>\n",
       "      <td>unknown</td>\n",
       "      <td>40.24</td>\n",
       "    </tr>\n",
       "    <tr>\n",
       "      <th>2</th>\n",
       "      <td>mario kart wii</td>\n",
       "      <td>Wii</td>\n",
       "      <td>2008</td>\n",
       "      <td>Racing</td>\n",
       "      <td>15.68</td>\n",
       "      <td>12.76</td>\n",
       "      <td>3.79</td>\n",
       "      <td>3.29</td>\n",
       "      <td>82.0</td>\n",
       "      <td>83.0</td>\n",
       "      <td>E</td>\n",
       "      <td>35.52</td>\n",
       "    </tr>\n",
       "    <tr>\n",
       "      <th>3</th>\n",
       "      <td>wii sports resort</td>\n",
       "      <td>Wii</td>\n",
       "      <td>2009</td>\n",
       "      <td>Sports</td>\n",
       "      <td>15.61</td>\n",
       "      <td>10.93</td>\n",
       "      <td>3.28</td>\n",
       "      <td>2.95</td>\n",
       "      <td>80.0</td>\n",
       "      <td>80.0</td>\n",
       "      <td>E</td>\n",
       "      <td>32.77</td>\n",
       "    </tr>\n",
       "    <tr>\n",
       "      <th>4</th>\n",
       "      <td>pokemon red/pokemon blue</td>\n",
       "      <td>GB</td>\n",
       "      <td>1996</td>\n",
       "      <td>Role-Playing</td>\n",
       "      <td>11.27</td>\n",
       "      <td>8.89</td>\n",
       "      <td>10.22</td>\n",
       "      <td>1.00</td>\n",
       "      <td>0.0</td>\n",
       "      <td>0.0</td>\n",
       "      <td>unknown</td>\n",
       "      <td>31.38</td>\n",
       "    </tr>\n",
       "  </tbody>\n",
       "</table>\n",
       "</div>"
      ],
      "text/plain": [
       "                       name platform  year_of_release         genre  na_sales  \\\n",
       "0                wii sports      Wii             2006        Sports     41.36   \n",
       "1         super mario bros.      NES             1985      Platform     29.08   \n",
       "2            mario kart wii      Wii             2008        Racing     15.68   \n",
       "3         wii sports resort      Wii             2009        Sports     15.61   \n",
       "4  pokemon red/pokemon blue       GB             1996  Role-Playing     11.27   \n",
       "\n",
       "   eu_sales  jp_sales  other_sales  critic_score  user_score   rating  \\\n",
       "0     28.96      3.77         8.45          76.0        80.0        E   \n",
       "1      3.58      6.81         0.77           0.0         0.0  unknown   \n",
       "2     12.76      3.79         3.29          82.0        83.0        E   \n",
       "3     10.93      3.28         2.95          80.0        80.0        E   \n",
       "4      8.89     10.22         1.00           0.0         0.0  unknown   \n",
       "\n",
       "   all_sales  \n",
       "0      82.54  \n",
       "1      40.24  \n",
       "2      35.52  \n",
       "3      32.77  \n",
       "4      31.38  "
      ]
     },
     "execution_count": 35,
     "metadata": {},
     "output_type": "execute_result"
    }
   ],
   "source": [
    "data.head()"
   ]
  },
  {
   "cell_type": "markdown",
   "id": "ef14af51",
   "metadata": {},
   "source": [
    "### Вывод"
   ]
  },
  {
   "cell_type": "markdown",
   "id": "01e48c6d",
   "metadata": {},
   "source": [
    "Мы провели не плохую работу над нашим датасетом:<br>\n",
    "- перевели наименования столбцов в нижний регистр и теперь они соответствуют стандартам;\n",
    "- удалили пропуски в столбцах **name**, **platform** и **year_of_release**, удаленные строки составили менее 2% от общего числа строк;\n",
    "- избавились от дубликата в ввиде строки **16230** с игрой **Madden NFL 13**;\n",
    "- пропуски в трех столбцах critic_score, user_score и rating удалять было нельзя, так как в каждом из них пропуски практически в каждой второй строке. Поэтому в столбцах critic_score и user_score мы заменили пропущенные значения нулями, а в столбце rating - на unknown. Пропуски могли возникнуть при переносе  или парсинге данных, поэтому программистам советуем проанализировать получение данных и возникновение пропусков;\n",
    "- изучили значение `tbd` в столбце **user_score** и выяснили, что на сайте **metacritic.com** есть информация, что `tbd` расшифровывается как `To Be Determined`, что в переводе означает \"будет определен\". Выставляется такой рейтинг на данном сайте для кинофильмов и игр по которым отзывы пользователей в количестве не более 4. Соответственно, когда набирается необходимое количество оценок, рейтинг указывается оценкой. Если придерживаться данной информации, тогда по нашим играм с рейтингом `tbd` просто не набралось достаточное количество отзывов. Заменили эти значения на нули;\n",
    "- заменили тип данных в столбце **year_of_release** на `int16` и в столбце **user_score** на `float64`. А также привели столбец user_score к типу оценок как в critic_score;\n",
    "- создали новую колонку all_sales и записали в нее сумму продаж столбцов na_sales, eu_sales, jp_sales и other_sales.\n"
   ]
  },
  {
   "cell_type": "markdown",
   "id": "d3dec179",
   "metadata": {},
   "source": [
    "## Исследовательский анализ данных"
   ]
  },
  {
   "cell_type": "markdown",
   "id": "ee254f0e",
   "metadata": {},
   "source": [
    "### Анализ выпуска игр по годам"
   ]
  },
  {
   "cell_type": "markdown",
   "id": "49cc667d",
   "metadata": {},
   "source": [
    "Построим сводную таблицу по данным количества игр в разрезе по годам."
   ]
  },
  {
   "cell_type": "code",
   "execution_count": 36,
   "id": "7ffa78ae",
   "metadata": {},
   "outputs": [],
   "source": [
    "number_of_games_in_years = data.pivot_table(index='year_of_release', values='name', aggfunc='count').reset_index()"
   ]
  },
  {
   "cell_type": "markdown",
   "id": "e410f5e8",
   "metadata": {},
   "source": [
    "Переименуем колонку `name`"
   ]
  },
  {
   "cell_type": "code",
   "execution_count": 37,
   "id": "27f27ffd",
   "metadata": {},
   "outputs": [],
   "source": [
    "number_of_games_in_years = number_of_games_in_years.rename(columns={'name': 'number_of_games'})"
   ]
  },
  {
   "cell_type": "markdown",
   "id": "04b56528",
   "metadata": {},
   "source": [
    "Для наглядности, построим график"
   ]
  },
  {
   "cell_type": "code",
   "execution_count": 38,
   "id": "1ccf4bed",
   "metadata": {},
   "outputs": [
    {
     "data": {
      "image/png": "[encoded data removed]",
      "text/plain": [
       "<Figure size 720x360 with 1 Axes>"
      ]
     },
     "metadata": {
      "needs_background": "light"
     },
     "output_type": "display_data"
    }
   ],
   "source": [
    "number_of_games_in_years.plot(\n",
    "    grid=True,\n",
    "    figsize=(10, 5),\n",
    "    x='year_of_release', \n",
    "    y='number_of_games', \n",
    "    kind='bar',\n",
    "    legend=True,\n",
    "    title='count of released games in years',\n",
    ")\n",
    "plt.ylabel('number of games')\n",
    "plt.show()"
   ]
  },
  {
   "cell_type": "markdown",
   "id": "70143878",
   "metadata": {},
   "source": [
    "С каждым годом наблюдался рост индустрии и пика достигли в 2008-2009 годах, затем количество релизов пошло на спад. Как показывает нам график до 1995 года количество выпускаемых игр было не велико и для исследования мы можем не брать эти годы. "
   ]
  },
  {
   "cell_type": "code",
   "execution_count": 39,
   "id": "b339e106",
   "metadata": {},
   "outputs": [],
   "source": [
    "filtered_data = data[data['year_of_release'] >= 1995]"
   ]
  },
  {
   "cell_type": "markdown",
   "id": "47169713",
   "metadata": {},
   "source": [
    "### Анализ продаж игр в разрезе платформ"
   ]
  },
  {
   "cell_type": "markdown",
   "id": "b4fd3698",
   "metadata": {},
   "source": [
    "Отберем 10 самых прадаваемых платформ и запишем в переменную `best_platform_sales`"
   ]
  },
  {
   "cell_type": "code",
   "execution_count": 40,
   "id": "a00420aa",
   "metadata": {},
   "outputs": [],
   "source": [
    "best_platform_sales = filtered_data.pivot_table(\n",
    "    index='platform', \n",
    "    values='all_sales', \n",
    "    aggfunc='sum'\n",
    ").reset_index().sort_values(by='all_sales', ascending=False)"
   ]
  },
  {
   "cell_type": "code",
   "execution_count": 41,
   "id": "0ded15a3",
   "metadata": {},
   "outputs": [],
   "source": [
    "best_platform_sales = best_platform_sales.head(10)"
   ]
  },
  {
   "cell_type": "markdown",
   "id": "4f8b54cb",
   "metadata": {},
   "source": [
    "Выведем результат на экран"
   ]
  },
  {
   "cell_type": "code",
   "execution_count": 42,
   "id": "670e55aa",
   "metadata": {},
   "outputs": [
    {
     "data": {
      "text/html": [
       "<div>\n",
       "<style scoped>\n",
       "    .dataframe tbody tr th:only-of-type {\n",
       "        vertical-align: middle;\n",
       "    }\n",
       "\n",
       "    .dataframe tbody tr th {\n",
       "        vertical-align: top;\n",
       "    }\n",
       "\n",
       "    .dataframe thead th {\n",
       "        text-align: right;\n",
       "    }\n",
       "</style>\n",
       "<table border=\"1\" class=\"dataframe\">\n",
       "  <thead>\n",
       "    <tr style=\"text-align: right;\">\n",
       "      <th></th>\n",
       "      <th>platform</th>\n",
       "      <th>all_sales</th>\n",
       "    </tr>\n",
       "  </thead>\n",
       "  <tbody>\n",
       "    <tr>\n",
       "      <th>12</th>\n",
       "      <td>PS2</td>\n",
       "      <td>1233.32</td>\n",
       "    </tr>\n",
       "    <tr>\n",
       "      <th>23</th>\n",
       "      <td>X360</td>\n",
       "      <td>961.24</td>\n",
       "    </tr>\n",
       "    <tr>\n",
       "      <th>13</th>\n",
       "      <td>PS3</td>\n",
       "      <td>931.33</td>\n",
       "    </tr>\n",
       "    <tr>\n",
       "      <th>21</th>\n",
       "      <td>Wii</td>\n",
       "      <td>890.52</td>\n",
       "    </tr>\n",
       "    <tr>\n",
       "      <th>3</th>\n",
       "      <td>DS</td>\n",
       "      <td>802.11</td>\n",
       "    </tr>\n",
       "    <tr>\n",
       "      <th>11</th>\n",
       "      <td>PS</td>\n",
       "      <td>719.64</td>\n",
       "    </tr>\n",
       "    <tr>\n",
       "      <th>14</th>\n",
       "      <td>PS4</td>\n",
       "      <td>314.14</td>\n",
       "    </tr>\n",
       "    <tr>\n",
       "      <th>5</th>\n",
       "      <td>GBA</td>\n",
       "      <td>312.88</td>\n",
       "    </tr>\n",
       "    <tr>\n",
       "      <th>15</th>\n",
       "      <td>PSP</td>\n",
       "      <td>289.53</td>\n",
       "    </tr>\n",
       "    <tr>\n",
       "      <th>1</th>\n",
       "      <td>3DS</td>\n",
       "      <td>257.81</td>\n",
       "    </tr>\n",
       "  </tbody>\n",
       "</table>\n",
       "</div>"
      ],
      "text/plain": [
       "   platform  all_sales\n",
       "12      PS2    1233.32\n",
       "23     X360     961.24\n",
       "13      PS3     931.33\n",
       "21      Wii     890.52\n",
       "3        DS     802.11\n",
       "11       PS     719.64\n",
       "14      PS4     314.14\n",
       "5       GBA     312.88\n",
       "15      PSP     289.53\n",
       "1       3DS     257.81"
      ]
     },
     "execution_count": 42,
     "metadata": {},
     "output_type": "execute_result"
    }
   ],
   "source": [
    "best_platform_sales"
   ]
  },
  {
   "cell_type": "markdown",
   "id": "6f354dcf",
   "metadata": {},
   "source": [
    "Чтобы изучить смену поколений платформ подготовим таблицу с продажами по годам"
   ]
  },
  {
   "cell_type": "code",
   "execution_count": 43,
   "id": "c74bcbc3",
   "metadata": {},
   "outputs": [],
   "source": [
    "platform_sales = filtered_data.pivot_table(\n",
    "    index='year_of_release', columns='platform', \n",
    "    values='all_sales', \n",
    "    aggfunc='sum'\n",
    ").reset_index()"
   ]
  },
  {
   "cell_type": "markdown",
   "id": "4d1b76e5",
   "metadata": {},
   "source": [
    "Заполним пропуски нулями"
   ]
  },
  {
   "cell_type": "code",
   "execution_count": 44,
   "id": "28a3264f",
   "metadata": {},
   "outputs": [],
   "source": [
    "platform_sales = platform_sales.fillna(0)"
   ]
  },
  {
   "cell_type": "markdown",
   "id": "6e3b2d31",
   "metadata": {},
   "source": [
    "Построим гистограмму по топ-10 платформ по продажам с распределением по годам"
   ]
  },
  {
   "cell_type": "code",
   "execution_count": 45,
   "id": "4622db26",
   "metadata": {},
   "outputs": [
    {
     "data": {
      "image/png": "[encoded data removed]",
      "text/plain": [
       "<Figure size 432x288 with 1 Axes>"
      ]
     },
     "metadata": {
      "needs_background": "light"
     },
     "output_type": "display_data"
    }
   ],
   "source": [
    "platform_sales.plot.bar(x='year_of_release', y=list(best_platform_sales['platform']), stacked=True)\n",
    "\n",
    "plt.rcParams['figure.figsize'] = (20,10)\n",
    "plt.title('Top 10 platform sales')\n",
    "plt.show()"
   ]
  },
  {
   "cell_type": "markdown",
   "id": "53bdeff3",
   "metadata": {},
   "source": [
    "Изучив полученный график можно утверждать, что смена поколений происходит за 5-8 лет в зависимости от платформы и ее популярности. Исходя из этих сведений для прогноза на 2017 год возьмем период 2010 - 2016 г."
   ]
  },
  {
   "cell_type": "markdown",
   "id": "d4be90b7",
   "metadata": {},
   "source": [
    "Отфильтруем данные по актуальному периоду и актуальным платформам"
   ]
  },
  {
   "cell_type": "code",
   "execution_count": 46,
   "id": "eae0aa7c",
   "metadata": {},
   "outputs": [],
   "source": [
    "filtered_data = filtered_data[(filtered_data['year_of_release'] >= 2010) & (filtered_data['all_sales'] > 0)]"
   ]
  },
  {
   "cell_type": "markdown",
   "id": "ca890f9e",
   "metadata": {},
   "source": [
    "Запишем список актуальных платформ в переменную `actual_platforms`"
   ]
  },
  {
   "cell_type": "code",
   "execution_count": 47,
   "id": "1114ab3a",
   "metadata": {},
   "outputs": [],
   "source": [
    "actual_platforms = list(filtered_data['platform'].unique())"
   ]
  },
  {
   "cell_type": "code",
   "execution_count": 48,
   "id": "9c80b507",
   "metadata": {},
   "outputs": [],
   "source": [
    "platform_sales = filtered_data.pivot_table(\n",
    "    index=['year_of_release', 'platform'], \n",
    "    values='all_sales', \n",
    "    aggfunc='sum'\n",
    ").reset_index()"
   ]
  },
  {
   "cell_type": "code",
   "execution_count": 49,
   "id": "fe1471bf",
   "metadata": {},
   "outputs": [
    {
     "data": {
      "text/html": [
       "<div>\n",
       "<style scoped>\n",
       "    .dataframe tbody tr th:only-of-type {\n",
       "        vertical-align: middle;\n",
       "    }\n",
       "\n",
       "    .dataframe tbody tr th {\n",
       "        vertical-align: top;\n",
       "    }\n",
       "\n",
       "    .dataframe thead th {\n",
       "        text-align: right;\n",
       "    }\n",
       "</style>\n",
       "<table border=\"1\" class=\"dataframe\">\n",
       "  <thead>\n",
       "    <tr style=\"text-align: right;\">\n",
       "      <th></th>\n",
       "      <th>year_of_release</th>\n",
       "      <th>platform</th>\n",
       "      <th>all_sales</th>\n",
       "    </tr>\n",
       "  </thead>\n",
       "  <tbody>\n",
       "    <tr>\n",
       "      <th>0</th>\n",
       "      <td>2010</td>\n",
       "      <td>DS</td>\n",
       "      <td>85.02</td>\n",
       "    </tr>\n",
       "    <tr>\n",
       "      <th>1</th>\n",
       "      <td>2010</td>\n",
       "      <td>PC</td>\n",
       "      <td>24.19</td>\n",
       "    </tr>\n",
       "    <tr>\n",
       "      <th>2</th>\n",
       "      <td>2010</td>\n",
       "      <td>PS2</td>\n",
       "      <td>5.64</td>\n",
       "    </tr>\n",
       "    <tr>\n",
       "      <th>3</th>\n",
       "      <td>2010</td>\n",
       "      <td>PS3</td>\n",
       "      <td>142.17</td>\n",
       "    </tr>\n",
       "    <tr>\n",
       "      <th>4</th>\n",
       "      <td>2010</td>\n",
       "      <td>PSP</td>\n",
       "      <td>35.04</td>\n",
       "    </tr>\n",
       "    <tr>\n",
       "      <th>5</th>\n",
       "      <td>2010</td>\n",
       "      <td>Wii</td>\n",
       "      <td>127.29</td>\n",
       "    </tr>\n",
       "    <tr>\n",
       "      <th>6</th>\n",
       "      <td>2010</td>\n",
       "      <td>X360</td>\n",
       "      <td>170.03</td>\n",
       "    </tr>\n",
       "    <tr>\n",
       "      <th>7</th>\n",
       "      <td>2011</td>\n",
       "      <td>3DS</td>\n",
       "      <td>63.20</td>\n",
       "    </tr>\n",
       "    <tr>\n",
       "      <th>8</th>\n",
       "      <td>2011</td>\n",
       "      <td>DS</td>\n",
       "      <td>25.73</td>\n",
       "    </tr>\n",
       "    <tr>\n",
       "      <th>9</th>\n",
       "      <td>2011</td>\n",
       "      <td>PC</td>\n",
       "      <td>34.99</td>\n",
       "    </tr>\n",
       "  </tbody>\n",
       "</table>\n",
       "</div>"
      ],
      "text/plain": [
       "   year_of_release platform  all_sales\n",
       "0             2010       DS      85.02\n",
       "1             2010       PC      24.19\n",
       "2             2010      PS2       5.64\n",
       "3             2010      PS3     142.17\n",
       "4             2010      PSP      35.04\n",
       "5             2010      Wii     127.29\n",
       "6             2010     X360     170.03\n",
       "7             2011      3DS      63.20\n",
       "8             2011       DS      25.73\n",
       "9             2011       PC      34.99"
      ]
     },
     "execution_count": 49,
     "metadata": {},
     "output_type": "execute_result"
    }
   ],
   "source": [
    "platform_sales.head(10)"
   ]
  },
  {
   "cell_type": "code",
   "execution_count": 50,
   "id": "ca4e4b74",
   "metadata": {},
   "outputs": [
    {
     "data": {
      "image/png": "[encoded data removed]",
      "text/plain": [
       "<Figure size 720x360 with 1 Axes>"
      ]
     },
     "metadata": {
      "needs_background": "light"
     },
     "output_type": "display_data"
    },
    {
     "data": {
      "image/png": "[encoded data removed]",
      "text/plain": [
       "<Figure size 720x360 with 1 Axes>"
      ]
     },
     "metadata": {
      "needs_background": "light"
     },
     "output_type": "display_data"
    },
    {
     "data": {
      "image/png": "[encoded data removed]",
      "text/plain": [
       "<Figure size 720x360 with 1 Axes>"
      ]
     },
     "metadata": {
      "needs_background": "light"
     },
     "output_type": "display_data"
    },
    {
     "data": {
      "image/png": "[encoded data removed]",
      "text/plain": [
       "<Figure size 720x360 with 1 Axes>"
      ]
     },
     "metadata": {
      "needs_background": "light"
     },
     "output_type": "display_data"
    },
    {
     "data": {
      "image/png": "[encoded data removed]",
      "text/plain": [
       "<Figure size 720x360 with 1 Axes>"
      ]
     },
     "metadata": {
      "needs_background": "light"
     },
     "output_type": "display_data"
    },
    {
     "data": {
      "image/png": "[encoded data removed]",
      "text/plain": [
       "<Figure size 720x360 with 1 Axes>"
      ]
     },
     "metadata": {
      "needs_background": "light"
     },
     "output_type": "display_data"
    },
    {
     "data": {
      "image/png": "[encoded data removed]",
      "text/plain": [
       "<Figure size 720x360 with 1 Axes>"
      ]
     },
     "metadata": {
      "needs_background": "light"
     },
     "output_type": "display_data"
    },
    {
     "data": {
      "image/png": "[encoded data removed]",
      "text/plain": [
       "<Figure size 720x360 with 1 Axes>"
      ]
     },
     "metadata": {
      "needs_background": "light"
     },
     "output_type": "display_data"
    },
    {
     "data": {
      "image/png": "[encoded data removed]",
      "text/plain": [
       "<Figure size 720x360 with 1 Axes>"
      ]
     },
     "metadata": {
      "needs_background": "light"
     },
     "output_type": "display_data"
    },
    {
     "data": {
      "image/png": "[encoded data removed]",
      "text/plain": [
       "<Figure size 720x360 with 1 Axes>"
      ]
     },
     "metadata": {
      "needs_background": "light"
     },
     "output_type": "display_data"
    },
    {
     "data": {
      "image/png": "[encoded data removed]",
      "text/plain": [
       "<Figure size 720x360 with 1 Axes>"
      ]
     },
     "metadata": {
      "needs_background": "light"
     },
     "output_type": "display_data"
    },
    {
     "data": {
      "image/png": "[encoded data removed]",
      "text/plain": [
       "<Figure size 720x360 with 1 Axes>"
      ]
     },
     "metadata": {
      "needs_background": "light"
     },
     "output_type": "display_data"
    }
   ],
   "source": [
    "plt.rcParams['figure.figsize'] = (10,5)\n",
    "for platform in actual_platforms:\n",
    "    platform_sales[platform_sales['platform'] == platform].plot.bar(\n",
    "        x='year_of_release', \n",
    "        y='all_sales', \n",
    "        alpha=0.7, \n",
    "        title=platform\n",
    "    )"
   ]
  },
  {
   "cell_type": "markdown",
   "id": "2e2079e3",
   "metadata": {},
   "source": [
    "Как мы видим, платформы PS2, PSP, DS на 2016 год уже вышли из продаж. Платформы X360, PS3, Wii и PSV на исходе своего жизненого цикла. По всем этим платформам не стоит прогнозировать продажи на 2017 год. Лидируют по продажам и продолжают расти  - платформы PS4 и XOne. Тогда как продажи на 3DS, WiiU, и PC имеют тренд к снижению."
   ]
  },
  {
   "cell_type": "markdown",
   "id": "156b89f2",
   "metadata": {},
   "source": [
    "Создадим новую переменную со списком потенциально прибыльных платформ."
   ]
  },
  {
   "cell_type": "code",
   "execution_count": 51,
   "id": "b8c41c24",
   "metadata": {},
   "outputs": [],
   "source": [
    "actual_platforms = ['PS4', 'XOne', '3DS', 'WiiU', 'PC']"
   ]
  },
  {
   "cell_type": "markdown",
   "id": "2831bb61",
   "metadata": {},
   "source": [
    "Перезапишем переменную filtered_data актуальными данными. Так как данные необходимы для прогноза на 2017 год, сдвинем начало нашего актуального периода на +1 год, и начнем анализ с 2011 года."
   ]
  },
  {
   "cell_type": "code",
   "execution_count": 52,
   "id": "a6deebd9",
   "metadata": {},
   "outputs": [],
   "source": [
    "filtered_data = data[(data['year_of_release'] > 2010) & (data['platform'].isin(actual_platforms))]"
   ]
  },
  {
   "cell_type": "code",
   "execution_count": 53,
   "id": "d2860bc5",
   "metadata": {},
   "outputs": [
    {
     "data": {
      "text/html": [
       "<div>\n",
       "<style scoped>\n",
       "    .dataframe tbody tr th:only-of-type {\n",
       "        vertical-align: middle;\n",
       "    }\n",
       "\n",
       "    .dataframe tbody tr th {\n",
       "        vertical-align: top;\n",
       "    }\n",
       "\n",
       "    .dataframe thead th {\n",
       "        text-align: right;\n",
       "    }\n",
       "</style>\n",
       "<table border=\"1\" class=\"dataframe\">\n",
       "  <thead>\n",
       "    <tr style=\"text-align: right;\">\n",
       "      <th></th>\n",
       "      <th>name</th>\n",
       "      <th>platform</th>\n",
       "      <th>year_of_release</th>\n",
       "      <th>genre</th>\n",
       "      <th>na_sales</th>\n",
       "      <th>eu_sales</th>\n",
       "      <th>jp_sales</th>\n",
       "      <th>other_sales</th>\n",
       "      <th>critic_score</th>\n",
       "      <th>user_score</th>\n",
       "      <th>rating</th>\n",
       "      <th>all_sales</th>\n",
       "    </tr>\n",
       "  </thead>\n",
       "  <tbody>\n",
       "    <tr>\n",
       "      <th>31</th>\n",
       "      <td>call of duty: black ops 3</td>\n",
       "      <td>PS4</td>\n",
       "      <td>2015</td>\n",
       "      <td>Shooter</td>\n",
       "      <td>6.03</td>\n",
       "      <td>5.86</td>\n",
       "      <td>0.36</td>\n",
       "      <td>2.38</td>\n",
       "      <td>0.0</td>\n",
       "      <td>0.0</td>\n",
       "      <td>unknown</td>\n",
       "      <td>14.63</td>\n",
       "    </tr>\n",
       "    <tr>\n",
       "      <th>33</th>\n",
       "      <td>pokemon x/pokemon y</td>\n",
       "      <td>3DS</td>\n",
       "      <td>2013</td>\n",
       "      <td>Role-Playing</td>\n",
       "      <td>5.28</td>\n",
       "      <td>4.19</td>\n",
       "      <td>4.35</td>\n",
       "      <td>0.78</td>\n",
       "      <td>0.0</td>\n",
       "      <td>0.0</td>\n",
       "      <td>unknown</td>\n",
       "      <td>14.60</td>\n",
       "    </tr>\n",
       "    <tr>\n",
       "      <th>40</th>\n",
       "      <td>mario kart 7</td>\n",
       "      <td>3DS</td>\n",
       "      <td>2011</td>\n",
       "      <td>Racing</td>\n",
       "      <td>5.03</td>\n",
       "      <td>4.02</td>\n",
       "      <td>2.69</td>\n",
       "      <td>0.91</td>\n",
       "      <td>85.0</td>\n",
       "      <td>82.0</td>\n",
       "      <td>E</td>\n",
       "      <td>12.65</td>\n",
       "    </tr>\n",
       "    <tr>\n",
       "      <th>42</th>\n",
       "      <td>grand theft auto v</td>\n",
       "      <td>PS4</td>\n",
       "      <td>2014</td>\n",
       "      <td>Action</td>\n",
       "      <td>3.96</td>\n",
       "      <td>6.31</td>\n",
       "      <td>0.38</td>\n",
       "      <td>1.97</td>\n",
       "      <td>97.0</td>\n",
       "      <td>83.0</td>\n",
       "      <td>M</td>\n",
       "      <td>12.62</td>\n",
       "    </tr>\n",
       "    <tr>\n",
       "      <th>47</th>\n",
       "      <td>pokemon omega ruby/pokemon alpha sapphire</td>\n",
       "      <td>3DS</td>\n",
       "      <td>2014</td>\n",
       "      <td>Role-Playing</td>\n",
       "      <td>4.35</td>\n",
       "      <td>3.49</td>\n",
       "      <td>3.10</td>\n",
       "      <td>0.74</td>\n",
       "      <td>0.0</td>\n",
       "      <td>0.0</td>\n",
       "      <td>unknown</td>\n",
       "      <td>11.68</td>\n",
       "    </tr>\n",
       "    <tr>\n",
       "      <th>53</th>\n",
       "      <td>super mario 3d land</td>\n",
       "      <td>3DS</td>\n",
       "      <td>2011</td>\n",
       "      <td>Platform</td>\n",
       "      <td>4.89</td>\n",
       "      <td>3.00</td>\n",
       "      <td>2.14</td>\n",
       "      <td>0.78</td>\n",
       "      <td>90.0</td>\n",
       "      <td>84.0</td>\n",
       "      <td>E</td>\n",
       "      <td>10.81</td>\n",
       "    </tr>\n",
       "    <tr>\n",
       "      <th>62</th>\n",
       "      <td>new super mario bros. 2</td>\n",
       "      <td>3DS</td>\n",
       "      <td>2012</td>\n",
       "      <td>Platform</td>\n",
       "      <td>3.66</td>\n",
       "      <td>3.14</td>\n",
       "      <td>2.47</td>\n",
       "      <td>0.63</td>\n",
       "      <td>78.0</td>\n",
       "      <td>72.0</td>\n",
       "      <td>E</td>\n",
       "      <td>9.90</td>\n",
       "    </tr>\n",
       "    <tr>\n",
       "      <th>73</th>\n",
       "      <td>animal crossing: new leaf</td>\n",
       "      <td>3DS</td>\n",
       "      <td>2012</td>\n",
       "      <td>Simulation</td>\n",
       "      <td>2.03</td>\n",
       "      <td>2.36</td>\n",
       "      <td>4.39</td>\n",
       "      <td>0.39</td>\n",
       "      <td>88.0</td>\n",
       "      <td>87.0</td>\n",
       "      <td>E</td>\n",
       "      <td>9.17</td>\n",
       "    </tr>\n",
       "    <tr>\n",
       "      <th>77</th>\n",
       "      <td>fifa 16</td>\n",
       "      <td>PS4</td>\n",
       "      <td>2015</td>\n",
       "      <td>Sports</td>\n",
       "      <td>1.12</td>\n",
       "      <td>6.12</td>\n",
       "      <td>0.06</td>\n",
       "      <td>1.28</td>\n",
       "      <td>82.0</td>\n",
       "      <td>43.0</td>\n",
       "      <td>E</td>\n",
       "      <td>8.58</td>\n",
       "    </tr>\n",
       "    <tr>\n",
       "      <th>87</th>\n",
       "      <td>star wars battlefront (2015)</td>\n",
       "      <td>PS4</td>\n",
       "      <td>2015</td>\n",
       "      <td>Shooter</td>\n",
       "      <td>2.99</td>\n",
       "      <td>3.49</td>\n",
       "      <td>0.22</td>\n",
       "      <td>1.28</td>\n",
       "      <td>0.0</td>\n",
       "      <td>0.0</td>\n",
       "      <td>unknown</td>\n",
       "      <td>7.98</td>\n",
       "    </tr>\n",
       "  </tbody>\n",
       "</table>\n",
       "</div>"
      ],
      "text/plain": [
       "                                         name platform  year_of_release  \\\n",
       "31                  call of duty: black ops 3      PS4             2015   \n",
       "33                        pokemon x/pokemon y      3DS             2013   \n",
       "40                               mario kart 7      3DS             2011   \n",
       "42                         grand theft auto v      PS4             2014   \n",
       "47  pokemon omega ruby/pokemon alpha sapphire      3DS             2014   \n",
       "53                        super mario 3d land      3DS             2011   \n",
       "62                    new super mario bros. 2      3DS             2012   \n",
       "73                  animal crossing: new leaf      3DS             2012   \n",
       "77                                    fifa 16      PS4             2015   \n",
       "87               star wars battlefront (2015)      PS4             2015   \n",
       "\n",
       "           genre  na_sales  eu_sales  jp_sales  other_sales  critic_score  \\\n",
       "31       Shooter      6.03      5.86      0.36         2.38           0.0   \n",
       "33  Role-Playing      5.28      4.19      4.35         0.78           0.0   \n",
       "40        Racing      5.03      4.02      2.69         0.91          85.0   \n",
       "42        Action      3.96      6.31      0.38         1.97          97.0   \n",
       "47  Role-Playing      4.35      3.49      3.10         0.74           0.0   \n",
       "53      Platform      4.89      3.00      2.14         0.78          90.0   \n",
       "62      Platform      3.66      3.14      2.47         0.63          78.0   \n",
       "73    Simulation      2.03      2.36      4.39         0.39          88.0   \n",
       "77        Sports      1.12      6.12      0.06         1.28          82.0   \n",
       "87       Shooter      2.99      3.49      0.22         1.28           0.0   \n",
       "\n",
       "    user_score   rating  all_sales  \n",
       "31         0.0  unknown      14.63  \n",
       "33         0.0  unknown      14.60  \n",
       "40        82.0        E      12.65  \n",
       "42        83.0        M      12.62  \n",
       "47         0.0  unknown      11.68  \n",
       "53        84.0        E      10.81  \n",
       "62        72.0        E       9.90  \n",
       "73        87.0        E       9.17  \n",
       "77        43.0        E       8.58  \n",
       "87         0.0  unknown       7.98  "
      ]
     },
     "execution_count": 53,
     "metadata": {},
     "output_type": "execute_result"
    }
   ],
   "source": [
    "filtered_data.head(10)"
   ]
  },
  {
   "cell_type": "code",
   "execution_count": 54,
   "id": "4c4333d8",
   "metadata": {},
   "outputs": [
    {
     "data": {
      "image/png": "[encoded data removed]",
      "text/plain": [
       "<Figure size 720x360 with 1 Axes>"
      ]
     },
     "metadata": {
      "needs_background": "light"
     },
     "output_type": "display_data"
    }
   ],
   "source": [
    "filtered_data.boxplot(by='platform', column='all_sales')\n",
    "warnings.simplefilter('ignore')"
   ]
  },
  {
   "cell_type": "markdown",
   "id": "94d8ccb9",
   "metadata": {},
   "source": [
    "Из графика видно, что по каждой платформе есть игры продажи которых аномально высокие, тем не менее по \"нормальные\" продажи по самым популярным платформам не превышают 1.8 млн. копий за игру. Медианные значения продаж игр по всем платформам не превышают 500 тыс. копий."
   ]
  },
  {
   "cell_type": "markdown",
   "id": "27736187",
   "metadata": {},
   "source": [
    "Изучим более подробно продажи игр по каждой платформе."
   ]
  },
  {
   "cell_type": "code",
   "execution_count": 55,
   "id": "ac5d58c7",
   "metadata": {},
   "outputs": [],
   "source": [
    "game_sales = filtered_data[['platform', 'all_sales']]"
   ]
  },
  {
   "cell_type": "code",
   "execution_count": 56,
   "id": "afad3e45",
   "metadata": {},
   "outputs": [
    {
     "data": {
      "text/html": [
       "<div>\n",
       "<style scoped>\n",
       "    .dataframe tbody tr th:only-of-type {\n",
       "        vertical-align: middle;\n",
       "    }\n",
       "\n",
       "    .dataframe tbody tr th {\n",
       "        vertical-align: top;\n",
       "    }\n",
       "\n",
       "    .dataframe thead th {\n",
       "        text-align: right;\n",
       "    }\n",
       "</style>\n",
       "<table border=\"1\" class=\"dataframe\">\n",
       "  <thead>\n",
       "    <tr style=\"text-align: right;\">\n",
       "      <th></th>\n",
       "      <th>platform</th>\n",
       "      <th>all_sales</th>\n",
       "    </tr>\n",
       "  </thead>\n",
       "  <tbody>\n",
       "    <tr>\n",
       "      <th>31</th>\n",
       "      <td>PS4</td>\n",
       "      <td>14.63</td>\n",
       "    </tr>\n",
       "    <tr>\n",
       "      <th>33</th>\n",
       "      <td>3DS</td>\n",
       "      <td>14.60</td>\n",
       "    </tr>\n",
       "    <tr>\n",
       "      <th>40</th>\n",
       "      <td>3DS</td>\n",
       "      <td>12.65</td>\n",
       "    </tr>\n",
       "    <tr>\n",
       "      <th>42</th>\n",
       "      <td>PS4</td>\n",
       "      <td>12.62</td>\n",
       "    </tr>\n",
       "    <tr>\n",
       "      <th>47</th>\n",
       "      <td>3DS</td>\n",
       "      <td>11.68</td>\n",
       "    </tr>\n",
       "    <tr>\n",
       "      <th>53</th>\n",
       "      <td>3DS</td>\n",
       "      <td>10.81</td>\n",
       "    </tr>\n",
       "    <tr>\n",
       "      <th>62</th>\n",
       "      <td>3DS</td>\n",
       "      <td>9.90</td>\n",
       "    </tr>\n",
       "    <tr>\n",
       "      <th>73</th>\n",
       "      <td>3DS</td>\n",
       "      <td>9.17</td>\n",
       "    </tr>\n",
       "    <tr>\n",
       "      <th>77</th>\n",
       "      <td>PS4</td>\n",
       "      <td>8.58</td>\n",
       "    </tr>\n",
       "    <tr>\n",
       "      <th>87</th>\n",
       "      <td>PS4</td>\n",
       "      <td>7.98</td>\n",
       "    </tr>\n",
       "  </tbody>\n",
       "</table>\n",
       "</div>"
      ],
      "text/plain": [
       "   platform  all_sales\n",
       "31      PS4      14.63\n",
       "33      3DS      14.60\n",
       "40      3DS      12.65\n",
       "42      PS4      12.62\n",
       "47      3DS      11.68\n",
       "53      3DS      10.81\n",
       "62      3DS       9.90\n",
       "73      3DS       9.17\n",
       "77      PS4       8.58\n",
       "87      PS4       7.98"
      ]
     },
     "execution_count": 56,
     "metadata": {},
     "output_type": "execute_result"
    }
   ],
   "source": [
    "game_sales.head(10)"
   ]
  },
  {
   "cell_type": "code",
   "execution_count": 57,
   "id": "79aa479d",
   "metadata": {},
   "outputs": [
    {
     "data": {
      "image/png": "[encoded data removed]",
      "text/plain": [
       "<Figure size 720x432 with 1 Axes>"
      ]
     },
     "metadata": {
      "needs_background": "light"
     },
     "output_type": "display_data"
    },
    {
     "data": {
      "image/png": "[encoded data removed]",
      "text/plain": [
       "<Figure size 720x432 with 1 Axes>"
      ]
     },
     "metadata": {
      "needs_background": "light"
     },
     "output_type": "display_data"
    },
    {
     "data": {
      "image/png": "[encoded data removed]",
      "text/plain": [
       "<Figure size 720x432 with 1 Axes>"
      ]
     },
     "metadata": {
      "needs_background": "light"
     },
     "output_type": "display_data"
    },
    {
     "data": {
      "image/png": "[encoded data removed]",
      "text/plain": [
       "<Figure size 720x432 with 1 Axes>"
      ]
     },
     "metadata": {
      "needs_background": "light"
     },
     "output_type": "display_data"
    },
    {
     "data": {
      "image/png": "[encoded data removed]",
      "text/plain": [
       "<Figure size 720x432 with 1 Axes>"
      ]
     },
     "metadata": {
      "needs_background": "light"
     },
     "output_type": "display_data"
    }
   ],
   "source": [
    "plt.rcParams['figure.figsize'] = (10,6)\n",
    "for platform in game_sales['platform'].unique():\n",
    "    game_sales[game_sales['platform'] == platform].plot.hist(by='all_sales',\n",
    "                                                             alpha=.7,\n",
    "                                                             title=platform)\n",
    "    plt.xlabel('All sales')"
   ]
  },
  {
   "cell_type": "markdown",
   "id": "da1bf81c",
   "metadata": {},
   "source": [
    "И ящики с усами."
   ]
  },
  {
   "cell_type": "code",
   "execution_count": 58,
   "id": "9e1f673b",
   "metadata": {},
   "outputs": [
    {
     "data": {
      "image/png": "[encoded data removed]",
      "text/plain": [
       "<Figure size 720x432 with 1 Axes>"
      ]
     },
     "metadata": {
      "needs_background": "light"
     },
     "output_type": "display_data"
    }
   ],
   "source": [
    "filtered_data.boxplot(by='platform', column='all_sales').set_ylim([0, 1.75]);"
   ]
  },
  {
   "cell_type": "markdown",
   "id": "585c0d70",
   "metadata": {},
   "source": [
    "Полученные графики подтверждают, что на платформе PS4 - лучшие продажи, на PC - самые низкие."
   ]
  },
  {
   "cell_type": "markdown",
   "id": "176ebfcb",
   "metadata": {},
   "source": [
    "### Исследование влияния отзывов на продажи игр."
   ]
  },
  {
   "cell_type": "markdown",
   "id": "a2550a05",
   "metadata": {},
   "source": [
    "Для исследования возьмем платформу PS4 как одну из самых популярных платформ в этот период."
   ]
  },
  {
   "cell_type": "markdown",
   "id": "c16924fc",
   "metadata": {},
   "source": [
    "Построим диграмму рассеивания по зависимости общих продаж игр от оценок критиков"
   ]
  },
  {
   "cell_type": "code",
   "execution_count": 59,
   "id": "c15e4928",
   "metadata": {},
   "outputs": [
    {
     "data": {
      "image/png": "[encoded data removed]",
      "text/plain": [
       "<Figure size 1080x360 with 1 Axes>"
      ]
     },
     "metadata": {
      "needs_background": "light"
     },
     "output_type": "display_data"
    }
   ],
   "source": [
    "filtered_data[filtered_data['platform'] == 'PS4'].plot(\n",
    "    x='critic_score', \n",
    "    y='all_sales', \n",
    "    kind='scatter', \n",
    "    figsize=(15, 5), \n",
    "    alpha=0.3\n",
    ") \n",
    "plt.ticklabel_format(style='plain')\n",
    "plt.title('relation critic score & all sales')\n",
    "plt.show()"
   ]
  },
  {
   "cell_type": "markdown",
   "id": "c339ffb6",
   "metadata": {},
   "source": [
    "Посчитаем корреляцию по полученной диаграмме."
   ]
  },
  {
   "cell_type": "code",
   "execution_count": 60,
   "id": "492d472e",
   "metadata": {},
   "outputs": [
    {
     "data": {
      "text/plain": [
       "0.407"
      ]
     },
     "execution_count": 60,
     "metadata": {},
     "output_type": "execute_result"
    }
   ],
   "source": [
    "filtered_data[\n",
    "    (filtered_data['platform'] == 'PS4') & \n",
    "    (filtered_data['critic_score'] > 0)\n",
    "]['critic_score'].corr(\n",
    "    filtered_data[\n",
    "        (filtered_data['platform'] == 'PS4') & \n",
    "        (filtered_data['critic_score'] > 0)\n",
    "    ]['all_sales']\n",
    ").round(3)"
   ]
  },
  {
   "cell_type": "markdown",
   "id": "6be4137f",
   "metadata": {},
   "source": [
    "Затем изучим зависимость общих продаж игр от оценок игроков."
   ]
  },
  {
   "cell_type": "code",
   "execution_count": 61,
   "id": "3a4be607",
   "metadata": {},
   "outputs": [
    {
     "data": {
      "image/png": "[encoded data removed]",
      "text/plain": [
       "<Figure size 1080x360 with 1 Axes>"
      ]
     },
     "metadata": {
      "needs_background": "light"
     },
     "output_type": "display_data"
    }
   ],
   "source": [
    "filtered_data[filtered_data['platform'] == 'PS4'].plot(\n",
    "    x='user_score', \n",
    "    y='all_sales', \n",
    "    kind='scatter', \n",
    "    figsize=(15, 5), \n",
    "    alpha=0.3\n",
    ") \n",
    "plt.ticklabel_format(style='plain')\n",
    "plt.title('relation user score & all sales')\n",
    "plt.show()"
   ]
  },
  {
   "cell_type": "markdown",
   "id": "37bf9092",
   "metadata": {},
   "source": [
    "И посчитаем корреляцию."
   ]
  },
  {
   "cell_type": "code",
   "execution_count": 62,
   "id": "0906b47f",
   "metadata": {},
   "outputs": [
    {
     "data": {
      "text/plain": [
       "-0.032"
      ]
     },
     "execution_count": 62,
     "metadata": {},
     "output_type": "execute_result"
    }
   ],
   "source": [
    "filtered_data[\n",
    "    (filtered_data['platform'] == 'PS4') & \n",
    "    (filtered_data['user_score'] > 0)\n",
    "]['user_score'].corr(\n",
    "    filtered_data[\n",
    "        (filtered_data['platform'] == 'PS4') & \n",
    "        (filtered_data['user_score'] > 0)\n",
    "    ]['all_sales']\n",
    ").round(3)"
   ]
  },
  {
   "cell_type": "markdown",
   "id": "e2c83a83",
   "metadata": {},
   "source": [
    "Как мы видим из полученных данных зависимость продаж игр от оценок критиков - прямая, но не очень сильная. Тогда как зависимость от оценок потзователей практически нулевая. "
   ]
  },
  {
   "cell_type": "markdown",
   "id": "7c862b4d",
   "metadata": {},
   "source": [
    "Посчитаем коэфициенты корреляции для остальных платформ."
   ]
  },
  {
   "cell_type": "code",
   "execution_count": 63,
   "id": "8051c694",
   "metadata": {},
   "outputs": [
    {
     "name": "stdout",
     "output_type": "stream",
     "text": [
      "Коэфициент корреляции продаж и оценок критиков по платформе PS4 равен 0.407\n",
      "Коэфициент корреляции продаж и оценок пользователей по платформе PS4 равен -0.032\n",
      "\n",
      "Коэфициент корреляции продаж и оценок критиков по платформе XOne равен 0.417\n",
      "Коэфициент корреляции продаж и оценок пользователей по платформе XOne равен -0.069\n",
      "\n",
      "Коэфициент корреляции продаж и оценок критиков по платформе 3DS равен 0.349\n",
      "Коэфициент корреляции продаж и оценок пользователей по платформе 3DS равен 0.222\n",
      "\n",
      "Коэфициент корреляции продаж и оценок критиков по платформе WiiU равен 0.348\n",
      "Коэфициент корреляции продаж и оценок пользователей по платформе WiiU равен 0.4\n",
      "\n",
      "Коэфициент корреляции продаж и оценок критиков по платформе PC равен 0.313\n",
      "Коэфициент корреляции продаж и оценок пользователей по платформе PC равен -0.049\n",
      "\n"
     ]
    }
   ],
   "source": [
    "for platform in actual_platforms:\n",
    "    critic_corr = filtered_data[\n",
    "        (filtered_data['platform'] == platform) & \n",
    "        (filtered_data['critic_score'] > 0)\n",
    "    ]['critic_score'].corr(\n",
    "        filtered_data[\n",
    "            (filtered_data['platform'] == platform) & \n",
    "            (filtered_data['critic_score'] > 0)\n",
    "        ]['all_sales']\n",
    "    ).round(3)\n",
    "    \n",
    "    user_corr = filtered_data[\n",
    "        (filtered_data['platform'] == platform) & \n",
    "        (filtered_data['user_score'] > 0)\n",
    "    ]['user_score'].corr(\n",
    "        filtered_data[\n",
    "            (filtered_data['platform'] == platform) & \n",
    "            (filtered_data['user_score'] > 0)\n",
    "        ]['all_sales']\n",
    "    ).round(3)\n",
    "    \n",
    "    print(f'Коэфициент корреляции продаж и оценок критиков по платформе {platform} равен {critic_corr}')\n",
    "    print(f'Коэфициент корреляции продаж и оценок пользователей по платформе {platform} равен {user_corr}')\n",
    "    print()\n",
    "    \n",
    "    "
   ]
  },
  {
   "cell_type": "markdown",
   "id": "d5678d69",
   "metadata": {},
   "source": [
    "Платформы 3DS и WiiU имеют свои особенности, на этих платформах прослеживается зависимость от оценок пользователей, но она не достаточно сильная. По всем остальным платформам слабая зависимость прослеживается только от оценок критиков."
   ]
  },
  {
   "cell_type": "markdown",
   "id": "9ac1e748",
   "metadata": {},
   "source": [
    "### Изучение продаж игр по жанрам"
   ]
  },
  {
   "cell_type": "markdown",
   "id": "d793ab56",
   "metadata": {},
   "source": [
    "Сгруппируем данные и посмотрим какое количество игр в каком из жанров преобладает."
   ]
  },
  {
   "cell_type": "code",
   "execution_count": 64,
   "id": "a19f8946",
   "metadata": {},
   "outputs": [],
   "source": [
    "genre_data = filtered_data.groupby(by='genre')"
   ]
  },
  {
   "cell_type": "code",
   "execution_count": 65,
   "id": "97f5dc2e",
   "metadata": {},
   "outputs": [
    {
     "data": {
      "text/plain": [
       "genre\n",
       "Action          568\n",
       "Role-Playing    199\n",
       "Shooter         157\n",
       "Sports          141\n",
       "Misc            122\n",
       "Adventure       111\n",
       "Simulation       83\n",
       "Racing           81\n",
       "Strategy         72\n",
       "Platform         68\n",
       "Fighting         47\n",
       "Puzzle           37\n",
       "Name: all_sales, dtype: int64"
      ]
     },
     "execution_count": 65,
     "metadata": {},
     "output_type": "execute_result"
    }
   ],
   "source": [
    "genre_data['all_sales'].count().sort_values(ascending=False)"
   ]
  },
  {
   "cell_type": "markdown",
   "id": "45482bc5",
   "metadata": {},
   "source": [
    "Мы распологаем данными о 12 жанрах в нашем датасете. Больше всего выпускалось игр с жанром Action, их 568 наименований. Тогда как второе место занимает жанр Role-Playing с уже значительно меньшим количеством игр в размере 199. Дальше идет небольшое снижение от жанра к жанру и миниальное значение 37 игр выпускалось в жанре Puzzle."
   ]
  },
  {
   "cell_type": "markdown",
   "id": "00e2151c",
   "metadata": {},
   "source": [
    "Теперь посчитаем суммарное количество продаж в жанрах."
   ]
  },
  {
   "cell_type": "code",
   "execution_count": 66,
   "id": "6158f8a2",
   "metadata": {},
   "outputs": [
    {
     "data": {
      "text/plain": [
       "genre\n",
       "Action          229.86\n",
       "Shooter         179.04\n",
       "Role-Playing    149.31\n",
       "Sports           97.27\n",
       "Platform         63.00\n",
       "Racing           46.83\n",
       "Simulation       41.18\n",
       "Misc             39.84\n",
       "Fighting         28.05\n",
       "Adventure        15.80\n",
       "Strategy         13.47\n",
       "Puzzle            7.45\n",
       "Name: all_sales, dtype: float64"
      ]
     },
     "execution_count": 66,
     "metadata": {},
     "output_type": "execute_result"
    }
   ],
   "source": [
    "genre_data['all_sales'].sum().sort_values(ascending=False)"
   ]
  },
  {
   "cell_type": "markdown",
   "id": "6959ed49",
   "metadata": {},
   "source": [
    "Самые высокие продажи показал жанр Action с цифрами 230 млн. копий, это не удивляет, так как игр в этом жанре подавляющее большинство. Второе и третье место занимают жанры Shooter и Role-Playing соответственно. Тут, во-первых, мы видим, что они поменялись местами относительно списка с количеством игр, во-вторых, это означает, что игры в жанре Shooter продаются лучше. Последнее место в нашем списке занимает жарн Puzzle с количеством 7.5 млн. копий."
   ]
  },
  {
   "cell_type": "markdown",
   "id": "2476d2d9",
   "metadata": {},
   "source": [
    "Посмотрим на распределения продаж игр в каждом жанре."
   ]
  },
  {
   "cell_type": "code",
   "execution_count": 67,
   "id": "10349e34",
   "metadata": {},
   "outputs": [
    {
     "data": {
      "image/png": "[encoded data removed]",
      "text/plain": [
       "<Figure size 1440x720 with 1 Axes>"
      ]
     },
     "metadata": {
      "needs_background": "light"
     },
     "output_type": "display_data"
    }
   ],
   "source": [
    "plt.rcParams['figure.figsize'] = (20,10)\n",
    "filtered_data.boxplot(by='genre', column='all_sales')\n",
    "warnings.simplefilter('ignore')"
   ]
  },
  {
   "cell_type": "markdown",
   "id": "ff410651",
   "metadata": {},
   "source": [
    "Из распределения мы видим, что лучшие показатели по продажам игр у жанров Shooter и Platform, также неплохие продажи показывают жанры Sports и Role-Playing. Это самые прибыльные жанры. А игры в жанрах Adventure, Fighting, Puzzle и Strategy показывают совсем слабые продажи. Самый популярный жанр Action оказался не таким интересным в плане продаж."
   ]
  },
  {
   "cell_type": "markdown",
   "id": "d5234f29",
   "metadata": {},
   "source": [
    "### Вывод"
   ]
  },
  {
   "cell_type": "markdown",
   "id": "64badb7e",
   "metadata": {},
   "source": [
    "Наше исследование данных позволило сделать следующие заключения:<br>\n",
    "- топ 10 самых продаваемых платформ по убыванию PS2, X360, PS3, Wii, DS, PS, PS4, GBA, PSP, 3DS. Самая продаваемая платформа PS2 достигла продаж игр в размере 1233 млн. копий, а 10 место занимает 3DS с продажами в 258 млн. копий;\n",
    "- изучив график распределения по годам продаж игр в разрезе платформ, выявили, что смена поколений происходит за 5-8 лет в зависимости от платформы и ее популярности. Исходя из этих сведений для прогноза на 2017 год приняли решение анализировать период 2010 - 2016 г;\n",
    "- проанализировав продажи за \"актуальный\" период выявили, что платформы PS2, PSP, DS на 2016 год уже вышли из продаж. Платформы X360, PS3, Wii и PSV находятся на исходе своего жизненого цикла. По всем этим платформам не стоит прогнозировать продажи на 2017 год. Лидируют по продажам и продолжают расти - платформы PS4 и XOne. Тогда как продажи на 3DS, WiiU, и PC имеют тренд к снижению;\n",
    "- для построения прогноза на 2017 г. выделили PS4, XOne, 3DS, WiiU и PC как актуальные платформы;\n",
    "- проведя исследование продаж по каждой из актуальных платформ определелили, что есть игры продажи у которых аномально высокие продажи, тем не менее \"нормальные\" продажи по самым популярным платформам не превышают 1.8 млн. копий за игру. Медианные значения продаж игр по всем платформам не превышают 500 тыс. копий;\n",
    "- изучив зависимость продаж игр от оценок критиков и пользователей выяснили, что платформы 3DS и WiiU имеют свои особенности, на этих платформах прослеживается зависимость от оценок пользователей. По всем остальным платформам зависимость прослеживается только от оценок критиков;\n",
    "- мы распологаем данными о 12 жанрах в нашем датасете. Больше всего выпускалось игр с жанром Action, их 568 наименований. Тогда как второе место занимает жанр Role-Playing с уже значительно меньшим количеством игр в размере 199. Дальше идет небольшое снижение от жанра к жанру и миниальное значение 37 игр выпускалось в жанре Puzzle;\n",
    "- самые высокие суммарные продажи показал жанр Action с цифрами 230 млн. копий, это не удивляет, так как игр в этом жанре подавляющее большинство. Второе и третье место занимают жанры Shooter и Role-Playing соответственно. Они поменялись местами относительно списка с количеством игр это означает, что игры в жанре Shooter продаются лучше. Последнее место в нашем списке занимает жарн Puzzle с количеством 7.5 млн. копий;\n",
    "- из распределения мы увидели, что лучшие показатели по продажам игр у жанров Shooter и Platform, также неплохие продажи показывают жанры Sports и Role-Playing. Это самые прибыльные жанры. А игры в жанрах Adventure, Fighting, Puzzle и Strategy показывают совсем слабые продажи. Самый популярный жанр Action оказался не таким интересным в плане продаж."
   ]
  },
  {
   "cell_type": "markdown",
   "id": "62ae28e6",
   "metadata": {},
   "source": [
    "## Составление портрета пользователя для каждого региона"
   ]
  },
  {
   "cell_type": "markdown",
   "id": "00d70f6c",
   "metadata": {},
   "source": [
    "### Самые популярные платформы в различных регионах"
   ]
  },
  {
   "cell_type": "markdown",
   "id": "94f5e39d",
   "metadata": {},
   "source": [
    "Соберем данные по продажам в Северной Америке с делением по платформам и запишем в переменную top_platform_na"
   ]
  },
  {
   "cell_type": "code",
   "execution_count": 68,
   "id": "869903ca",
   "metadata": {},
   "outputs": [],
   "source": [
    "top_platform_na = filtered_data.pivot_table(\n",
    "    index='platform', \n",
    "    values='na_sales',\n",
    "    aggfunc='sum'\n",
    ")"
   ]
  },
  {
   "cell_type": "markdown",
   "id": "fa7801ff",
   "metadata": {},
   "source": [
    "Отсортируем полученные данные и выведем на экран"
   ]
  },
  {
   "cell_type": "code",
   "execution_count": 69,
   "id": "c207840d",
   "metadata": {},
   "outputs": [
    {
     "data": {
      "text/html": [
       "<div>\n",
       "<style scoped>\n",
       "    .dataframe tbody tr th:only-of-type {\n",
       "        vertical-align: middle;\n",
       "    }\n",
       "\n",
       "    .dataframe tbody tr th {\n",
       "        vertical-align: top;\n",
       "    }\n",
       "\n",
       "    .dataframe thead th {\n",
       "        text-align: right;\n",
       "    }\n",
       "</style>\n",
       "<table border=\"1\" class=\"dataframe\">\n",
       "  <thead>\n",
       "    <tr style=\"text-align: right;\">\n",
       "      <th></th>\n",
       "      <th>na_sales</th>\n",
       "    </tr>\n",
       "    <tr>\n",
       "      <th>platform</th>\n",
       "      <th></th>\n",
       "    </tr>\n",
       "  </thead>\n",
       "  <tbody>\n",
       "    <tr>\n",
       "      <th>PS4</th>\n",
       "      <td>108.74</td>\n",
       "    </tr>\n",
       "    <tr>\n",
       "      <th>XOne</th>\n",
       "      <td>93.12</td>\n",
       "    </tr>\n",
       "    <tr>\n",
       "      <th>3DS</th>\n",
       "      <td>82.65</td>\n",
       "    </tr>\n",
       "    <tr>\n",
       "      <th>WiiU</th>\n",
       "      <td>38.10</td>\n",
       "    </tr>\n",
       "    <tr>\n",
       "      <th>PC</th>\n",
       "      <td>29.88</td>\n",
       "    </tr>\n",
       "  </tbody>\n",
       "</table>\n",
       "</div>"
      ],
      "text/plain": [
       "          na_sales\n",
       "platform          \n",
       "PS4         108.74\n",
       "XOne         93.12\n",
       "3DS          82.65\n",
       "WiiU         38.10\n",
       "PC           29.88"
      ]
     },
     "execution_count": 69,
     "metadata": {},
     "output_type": "execute_result"
    }
   ],
   "source": [
    "top_platform_na.sort_values(by='na_sales', ascending=False)"
   ]
  },
  {
   "cell_type": "markdown",
   "id": "bfc8dbf4",
   "metadata": {},
   "source": [
    "На основе полученных сведений, построим круговую диаграмму по долям рынка продаж игр по платформам"
   ]
  },
  {
   "cell_type": "code",
   "execution_count": 70,
   "id": "e7c9aaa5",
   "metadata": {},
   "outputs": [
    {
     "data": {
      "image/png": "[encoded data removed]",
      "text/plain": [
       "<Figure size 1440x720 with 1 Axes>"
      ]
     },
     "metadata": {},
     "output_type": "display_data"
    }
   ],
   "source": [
    "top_platform_na.plot(kind='pie', y='na_sales', autopct='%1.1f%%', title='platform sales percentage in NA')\n",
    "plt.show()"
   ]
  },
  {
   "cell_type": "markdown",
   "id": "66306c25",
   "metadata": {},
   "source": [
    "Самая популярная платформа для игр в Северной Америке - это PS4 с 30.8 % рынка. Более 80% рынка делят между собой платформы PS4, XOne и 3DS. Самая не популярная платформа - это PC с 8.5%."
   ]
  },
  {
   "cell_type": "markdown",
   "id": "8b0f1e5a",
   "metadata": {},
   "source": [
    "Теперь получим данные по рынку Европы."
   ]
  },
  {
   "cell_type": "code",
   "execution_count": 71,
   "id": "0585fef5",
   "metadata": {},
   "outputs": [],
   "source": [
    "top_platform_eu = filtered_data.pivot_table(\n",
    "    index='platform', \n",
    "    values='eu_sales',\n",
    "    aggfunc='sum'\n",
    ")"
   ]
  },
  {
   "cell_type": "code",
   "execution_count": 72,
   "id": "dfde05f0",
   "metadata": {},
   "outputs": [
    {
     "data": {
      "text/html": [
       "<div>\n",
       "<style scoped>\n",
       "    .dataframe tbody tr th:only-of-type {\n",
       "        vertical-align: middle;\n",
       "    }\n",
       "\n",
       "    .dataframe tbody tr th {\n",
       "        vertical-align: top;\n",
       "    }\n",
       "\n",
       "    .dataframe thead th {\n",
       "        text-align: right;\n",
       "    }\n",
       "</style>\n",
       "<table border=\"1\" class=\"dataframe\">\n",
       "  <thead>\n",
       "    <tr style=\"text-align: right;\">\n",
       "      <th></th>\n",
       "      <th>eu_sales</th>\n",
       "    </tr>\n",
       "    <tr>\n",
       "      <th>platform</th>\n",
       "      <th></th>\n",
       "    </tr>\n",
       "  </thead>\n",
       "  <tbody>\n",
       "    <tr>\n",
       "      <th>PS4</th>\n",
       "      <td>141.09</td>\n",
       "    </tr>\n",
       "    <tr>\n",
       "      <th>3DS</th>\n",
       "      <td>61.27</td>\n",
       "    </tr>\n",
       "    <tr>\n",
       "      <th>PC</th>\n",
       "      <td>56.67</td>\n",
       "    </tr>\n",
       "    <tr>\n",
       "      <th>XOne</th>\n",
       "      <td>51.59</td>\n",
       "    </tr>\n",
       "    <tr>\n",
       "      <th>WiiU</th>\n",
       "      <td>25.13</td>\n",
       "    </tr>\n",
       "  </tbody>\n",
       "</table>\n",
       "</div>"
      ],
      "text/plain": [
       "          eu_sales\n",
       "platform          \n",
       "PS4         141.09\n",
       "3DS          61.27\n",
       "PC           56.67\n",
       "XOne         51.59\n",
       "WiiU         25.13"
      ]
     },
     "execution_count": 72,
     "metadata": {},
     "output_type": "execute_result"
    }
   ],
   "source": [
    "top_platform_eu.sort_values(by='eu_sales', ascending=False)"
   ]
  },
  {
   "cell_type": "markdown",
   "id": "b1636446",
   "metadata": {},
   "source": [
    "Построим круговую диаграмму."
   ]
  },
  {
   "cell_type": "code",
   "execution_count": 73,
   "id": "fe3bc6c7",
   "metadata": {},
   "outputs": [
    {
     "data": {
      "image/png": "[encoded data removed]",
      "text/plain": [
       "<Figure size 1440x720 with 1 Axes>"
      ]
     },
     "metadata": {},
     "output_type": "display_data"
    }
   ],
   "source": [
    "top_platform_eu.plot(kind='pie', y='eu_sales', autopct='%1.1f%%', title='platform sales percentage in EU')\n",
    "plt.show()"
   ]
  },
  {
   "cell_type": "markdown",
   "id": "61618206",
   "metadata": {},
   "source": [
    "В европе также самой популярной платформой является PS4, она занимает долю в 42% рынка продаж видеоигр. Следующие три строчки, с очень близкими долями занимают платформы 3DS, PC и XOne, а WiiU занимает последнее место с 7.5% рынка."
   ]
  },
  {
   "cell_type": "markdown",
   "id": "ff9bb1f4",
   "metadata": {},
   "source": [
    "Затем изучим рынок Японии."
   ]
  },
  {
   "cell_type": "code",
   "execution_count": 74,
   "id": "578f8c8d",
   "metadata": {},
   "outputs": [],
   "source": [
    "top_platform_jp = filtered_data.pivot_table(\n",
    "    index='platform', \n",
    "    values='jp_sales',\n",
    "    aggfunc='sum'\n",
    ")"
   ]
  },
  {
   "cell_type": "code",
   "execution_count": 75,
   "id": "5fb5e098",
   "metadata": {},
   "outputs": [
    {
     "data": {
      "text/html": [
       "<div>\n",
       "<style scoped>\n",
       "    .dataframe tbody tr th:only-of-type {\n",
       "        vertical-align: middle;\n",
       "    }\n",
       "\n",
       "    .dataframe tbody tr th {\n",
       "        vertical-align: top;\n",
       "    }\n",
       "\n",
       "    .dataframe thead th {\n",
       "        text-align: right;\n",
       "    }\n",
       "</style>\n",
       "<table border=\"1\" class=\"dataframe\">\n",
       "  <thead>\n",
       "    <tr style=\"text-align: right;\">\n",
       "      <th></th>\n",
       "      <th>jp_sales</th>\n",
       "    </tr>\n",
       "    <tr>\n",
       "      <th>platform</th>\n",
       "      <th></th>\n",
       "    </tr>\n",
       "  </thead>\n",
       "  <tbody>\n",
       "    <tr>\n",
       "      <th>3DS</th>\n",
       "      <td>100.62</td>\n",
       "    </tr>\n",
       "    <tr>\n",
       "      <th>PS4</th>\n",
       "      <td>15.96</td>\n",
       "    </tr>\n",
       "    <tr>\n",
       "      <th>WiiU</th>\n",
       "      <td>13.01</td>\n",
       "    </tr>\n",
       "    <tr>\n",
       "      <th>XOne</th>\n",
       "      <td>0.34</td>\n",
       "    </tr>\n",
       "    <tr>\n",
       "      <th>PC</th>\n",
       "      <td>0.00</td>\n",
       "    </tr>\n",
       "  </tbody>\n",
       "</table>\n",
       "</div>"
      ],
      "text/plain": [
       "          jp_sales\n",
       "platform          \n",
       "3DS         100.62\n",
       "PS4          15.96\n",
       "WiiU         13.01\n",
       "XOne          0.34\n",
       "PC            0.00"
      ]
     },
     "execution_count": 75,
     "metadata": {},
     "output_type": "execute_result"
    }
   ],
   "source": [
    "top_platform_jp.sort_values(by='jp_sales', ascending=False)"
   ]
  },
  {
   "cell_type": "code",
   "execution_count": 76,
   "id": "ff464c05",
   "metadata": {},
   "outputs": [
    {
     "data": {
      "image/png": "[encoded data removed]",
      "text/plain": [
       "<Figure size 1440x720 with 1 Axes>"
      ]
     },
     "metadata": {},
     "output_type": "display_data"
    }
   ],
   "source": [
    "top_platform_jp.plot(kind='pie', y='jp_sales', autopct='%1.1f%%', title='platform sales percentage in JP')\n",
    "plt.show()"
   ]
  },
  {
   "cell_type": "markdown",
   "id": "55924482",
   "metadata": {},
   "source": [
    "Рынок японии сильно отличается от рынков Северной Америки и Европы. Здесь доминирует платформа 3DS с 77.4 % рынка. Второе и третье место занимают PS4 и WiiU с 12.3% и 10% соответственно. XOne практически не продается в Японии, за исключением редких случаев, его доля на рынке менее 0.5%, тогда как PC и вовсе не имеет продаж видеоигр."
   ]
  },
  {
   "cell_type": "markdown",
   "id": "f12dd688",
   "metadata": {},
   "source": [
    "### Самые популярные жанры игр в различных регионах"
   ]
  },
  {
   "cell_type": "markdown",
   "id": "c88a6b18",
   "metadata": {},
   "source": [
    "Изучим вопрос какие жанры игр входят в ТОП-5 продаж в Северной Америке."
   ]
  },
  {
   "cell_type": "markdown",
   "id": "a0521036",
   "metadata": {},
   "source": [
    "Построим сводную таблицу"
   ]
  },
  {
   "cell_type": "code",
   "execution_count": 77,
   "id": "99541f84",
   "metadata": {},
   "outputs": [],
   "source": [
    "top_genre_na = filtered_data.pivot_table(\n",
    "    index='genre', \n",
    "    values='na_sales',\n",
    "    aggfunc='sum'\n",
    ")"
   ]
  },
  {
   "cell_type": "markdown",
   "id": "b4899e58",
   "metadata": {},
   "source": [
    "Отсортируем таблицу по убыванию продаж."
   ]
  },
  {
   "cell_type": "code",
   "execution_count": 78,
   "id": "9d4cc358",
   "metadata": {},
   "outputs": [],
   "source": [
    "top_genre_na = top_genre_na.sort_values(by='na_sales', ascending=False)"
   ]
  },
  {
   "cell_type": "markdown",
   "id": "eb85fd16",
   "metadata": {},
   "source": [
    "Соберем все жанры не входящие в ТОП-5 по продажам и запишем сумму продаж в строку **Other**"
   ]
  },
  {
   "cell_type": "code",
   "execution_count": 79,
   "id": "a530886a",
   "metadata": {},
   "outputs": [],
   "source": [
    "new_row = top_genre_na.tail(7).sum()"
   ]
  },
  {
   "cell_type": "markdown",
   "id": "141e9b90",
   "metadata": {},
   "source": [
    "Удалим лишние данные из нашей таблицы."
   ]
  },
  {
   "cell_type": "code",
   "execution_count": 80,
   "id": "41903c87",
   "metadata": {},
   "outputs": [],
   "source": [
    "top_genre_na = top_genre_na.head(5)"
   ]
  },
  {
   "cell_type": "markdown",
   "id": "5f870343",
   "metadata": {},
   "source": [
    "Добавим новую строк и выведем на экран."
   ]
  },
  {
   "cell_type": "code",
   "execution_count": 81,
   "id": "14bbc5ca",
   "metadata": {},
   "outputs": [
    {
     "data": {
      "text/html": [
       "<div>\n",
       "<style scoped>\n",
       "    .dataframe tbody tr th:only-of-type {\n",
       "        vertical-align: middle;\n",
       "    }\n",
       "\n",
       "    .dataframe tbody tr th {\n",
       "        vertical-align: top;\n",
       "    }\n",
       "\n",
       "    .dataframe thead th {\n",
       "        text-align: right;\n",
       "    }\n",
       "</style>\n",
       "<table border=\"1\" class=\"dataframe\">\n",
       "  <thead>\n",
       "    <tr style=\"text-align: right;\">\n",
       "      <th></th>\n",
       "      <th>na_sales</th>\n",
       "    </tr>\n",
       "    <tr>\n",
       "      <th>genre</th>\n",
       "      <th></th>\n",
       "    </tr>\n",
       "  </thead>\n",
       "  <tbody>\n",
       "    <tr>\n",
       "      <th>Action</th>\n",
       "      <td>89.68</td>\n",
       "    </tr>\n",
       "    <tr>\n",
       "      <th>Shooter</th>\n",
       "      <td>80.34</td>\n",
       "    </tr>\n",
       "    <tr>\n",
       "      <th>Other</th>\n",
       "      <td>67.51</td>\n",
       "    </tr>\n",
       "    <tr>\n",
       "      <th>Role-Playing</th>\n",
       "      <td>49.87</td>\n",
       "    </tr>\n",
       "    <tr>\n",
       "      <th>Sports</th>\n",
       "      <td>38.89</td>\n",
       "    </tr>\n",
       "    <tr>\n",
       "      <th>Platform</th>\n",
       "      <td>26.20</td>\n",
       "    </tr>\n",
       "  </tbody>\n",
       "</table>\n",
       "</div>"
      ],
      "text/plain": [
       "              na_sales\n",
       "genre                 \n",
       "Action           89.68\n",
       "Shooter          80.34\n",
       "Other            67.51\n",
       "Role-Playing     49.87\n",
       "Sports           38.89\n",
       "Platform         26.20"
      ]
     },
     "execution_count": 81,
     "metadata": {},
     "output_type": "execute_result"
    }
   ],
   "source": [
    "top_genre_na.loc['Other'] = [new_row['na_sales']]\n",
    "top_genre_na.sort_values(by='na_sales', ascending=False)"
   ]
  },
  {
   "cell_type": "markdown",
   "id": "95c1b40e",
   "metadata": {},
   "source": [
    "Построим круговую диаграмму с долями ТОП-5 жанров по продажам в Северной Америке"
   ]
  },
  {
   "cell_type": "code",
   "execution_count": 82,
   "id": "94a6d4b4",
   "metadata": {},
   "outputs": [
    {
     "data": {
      "image/png": "[encoded data removed]",
      "text/plain": [
       "<Figure size 1440x720 with 1 Axes>"
      ]
     },
     "metadata": {},
     "output_type": "display_data"
    }
   ],
   "source": [
    "top_genre_na.plot(kind='pie', y='na_sales', autopct='%1.1f%%', title='genre sales percentage in NA')\n",
    "plt.show()"
   ]
  },
  {
   "cell_type": "markdown",
   "id": "a6c1b88b",
   "metadata": {},
   "source": [
    "ТОП-5 самых продаваемых жанров видеоигр занимают 80.8% всего рынка игр Северной Америки. Самый продаваемый жанр - Action, а пятую строчку занимает жанр Platform. Пять самых популярных жанров Action, Shooter, Role-Playing, Sports и Platform - перечислены в порядке убывания продаж."
   ]
  },
  {
   "cell_type": "markdown",
   "id": "e220cf95",
   "metadata": {},
   "source": [
    "Теперь изучим рынок Европы."
   ]
  },
  {
   "cell_type": "code",
   "execution_count": 83,
   "id": "d9c28116",
   "metadata": {},
   "outputs": [],
   "source": [
    "top_genre_eu = filtered_data.pivot_table(\n",
    "    index='genre', \n",
    "    values='eu_sales',\n",
    "    aggfunc='sum'\n",
    ")"
   ]
  },
  {
   "cell_type": "code",
   "execution_count": 84,
   "id": "afd1327a",
   "metadata": {},
   "outputs": [],
   "source": [
    "top_genre_eu = top_genre_eu.sort_values(by='eu_sales', ascending=False)"
   ]
  },
  {
   "cell_type": "code",
   "execution_count": 85,
   "id": "a246a146",
   "metadata": {},
   "outputs": [],
   "source": [
    "new_row = top_genre_eu.tail(7).sum()"
   ]
  },
  {
   "cell_type": "code",
   "execution_count": 86,
   "id": "78498382",
   "metadata": {},
   "outputs": [],
   "source": [
    "top_genre_eu = top_genre_eu.head(5)"
   ]
  },
  {
   "cell_type": "code",
   "execution_count": 87,
   "id": "bb10ad73",
   "metadata": {},
   "outputs": [
    {
     "data": {
      "text/html": [
       "<div>\n",
       "<style scoped>\n",
       "    .dataframe tbody tr th:only-of-type {\n",
       "        vertical-align: middle;\n",
       "    }\n",
       "\n",
       "    .dataframe tbody tr th {\n",
       "        vertical-align: top;\n",
       "    }\n",
       "\n",
       "    .dataframe thead th {\n",
       "        text-align: right;\n",
       "    }\n",
       "</style>\n",
       "<table border=\"1\" class=\"dataframe\">\n",
       "  <thead>\n",
       "    <tr style=\"text-align: right;\">\n",
       "      <th></th>\n",
       "      <th>eu_sales</th>\n",
       "    </tr>\n",
       "    <tr>\n",
       "      <th>genre</th>\n",
       "      <th></th>\n",
       "    </tr>\n",
       "  </thead>\n",
       "  <tbody>\n",
       "    <tr>\n",
       "      <th>Action</th>\n",
       "      <td>85.85</td>\n",
       "    </tr>\n",
       "    <tr>\n",
       "      <th>Other</th>\n",
       "      <td>73.54</td>\n",
       "    </tr>\n",
       "    <tr>\n",
       "      <th>Shooter</th>\n",
       "      <td>71.43</td>\n",
       "    </tr>\n",
       "    <tr>\n",
       "      <th>Sports</th>\n",
       "      <td>42.23</td>\n",
       "    </tr>\n",
       "    <tr>\n",
       "      <th>Role-Playing</th>\n",
       "      <td>41.63</td>\n",
       "    </tr>\n",
       "    <tr>\n",
       "      <th>Platform</th>\n",
       "      <td>21.07</td>\n",
       "    </tr>\n",
       "  </tbody>\n",
       "</table>\n",
       "</div>"
      ],
      "text/plain": [
       "              eu_sales\n",
       "genre                 \n",
       "Action           85.85\n",
       "Other            73.54\n",
       "Shooter          71.43\n",
       "Sports           42.23\n",
       "Role-Playing     41.63\n",
       "Platform         21.07"
      ]
     },
     "execution_count": 87,
     "metadata": {},
     "output_type": "execute_result"
    }
   ],
   "source": [
    "top_genre_eu.loc['Other'] = [new_row['eu_sales']]\n",
    "top_genre_eu.sort_values(by='eu_sales', ascending=False)"
   ]
  },
  {
   "cell_type": "code",
   "execution_count": 88,
   "id": "c624831c",
   "metadata": {},
   "outputs": [
    {
     "data": {
      "image/png": "[encoded data removed]",
      "text/plain": [
       "<Figure size 1440x720 with 1 Axes>"
      ]
     },
     "metadata": {},
     "output_type": "display_data"
    }
   ],
   "source": [
    "top_genre_eu.plot(kind='pie', y='eu_sales', autopct='%1.1f%%', title='genre sales percentage in EU')\n",
    "plt.show()"
   ]
  },
  {
   "cell_type": "markdown",
   "id": "30ad1eca",
   "metadata": {},
   "source": [
    "Как мы видим по графику, в Европе ТОП-5 жанров занимают долю в 78.1% всего рынка видеоигр. Самый популяный жанр Action с 25.6% рынка, а пятое место занимает жанр Platform с 6.3%. Как и в американском рынке пять самых популярных жанров Action, Shooter, Sports, Role-Playing и Platform - перечислены в порядке убывания продаж."
   ]
  },
  {
   "cell_type": "markdown",
   "id": "114a91ec",
   "metadata": {},
   "source": [
    "И наконец изучим рынок Японии."
   ]
  },
  {
   "cell_type": "code",
   "execution_count": 89,
   "id": "c9ddfa79",
   "metadata": {},
   "outputs": [],
   "source": [
    "top_genre_jp = filtered_data.pivot_table(\n",
    "    index='genre', \n",
    "    values='jp_sales',\n",
    "    aggfunc='sum'\n",
    ")"
   ]
  },
  {
   "cell_type": "code",
   "execution_count": 90,
   "id": "ea218623",
   "metadata": {},
   "outputs": [],
   "source": [
    "top_genre_jp = top_genre_jp.sort_values(by='jp_sales', ascending=False)"
   ]
  },
  {
   "cell_type": "code",
   "execution_count": 91,
   "id": "3b1f66fb",
   "metadata": {},
   "outputs": [
    {
     "data": {
      "text/html": [
       "<div>\n",
       "<style scoped>\n",
       "    .dataframe tbody tr th:only-of-type {\n",
       "        vertical-align: middle;\n",
       "    }\n",
       "\n",
       "    .dataframe tbody tr th {\n",
       "        vertical-align: top;\n",
       "    }\n",
       "\n",
       "    .dataframe thead th {\n",
       "        text-align: right;\n",
       "    }\n",
       "</style>\n",
       "<table border=\"1\" class=\"dataframe\">\n",
       "  <thead>\n",
       "    <tr style=\"text-align: right;\">\n",
       "      <th></th>\n",
       "      <th>jp_sales</th>\n",
       "    </tr>\n",
       "    <tr>\n",
       "      <th>genre</th>\n",
       "      <th></th>\n",
       "    </tr>\n",
       "  </thead>\n",
       "  <tbody>\n",
       "    <tr>\n",
       "      <th>Role-Playing</th>\n",
       "      <td>46.41</td>\n",
       "    </tr>\n",
       "    <tr>\n",
       "      <th>Action</th>\n",
       "      <td>29.70</td>\n",
       "    </tr>\n",
       "    <tr>\n",
       "      <th>Other</th>\n",
       "      <td>24.21</td>\n",
       "    </tr>\n",
       "    <tr>\n",
       "      <th>Platform</th>\n",
       "      <td>10.65</td>\n",
       "    </tr>\n",
       "    <tr>\n",
       "      <th>Simulation</th>\n",
       "      <td>10.57</td>\n",
       "    </tr>\n",
       "    <tr>\n",
       "      <th>Misc</th>\n",
       "      <td>8.39</td>\n",
       "    </tr>\n",
       "  </tbody>\n",
       "</table>\n",
       "</div>"
      ],
      "text/plain": [
       "              jp_sales\n",
       "genre                 \n",
       "Role-Playing     46.41\n",
       "Action           29.70\n",
       "Other            24.21\n",
       "Platform         10.65\n",
       "Simulation       10.57\n",
       "Misc              8.39"
      ]
     },
     "execution_count": 91,
     "metadata": {},
     "output_type": "execute_result"
    }
   ],
   "source": [
    "new_row = top_genre_jp.tail(7).sum()\n",
    "\n",
    "top_genre_jp = top_genre_jp.head(5)\n",
    "\n",
    "top_genre_jp.loc['Other'] = [new_row['jp_sales']]\n",
    "top_genre_jp.sort_values(by='jp_sales', ascending=False)"
   ]
  },
  {
   "cell_type": "code",
   "execution_count": 92,
   "id": "98984ba6",
   "metadata": {},
   "outputs": [
    {
     "data": {
      "image/png": "[encoded data removed]",
      "text/plain": [
       "<Figure size 1440x720 with 1 Axes>"
      ]
     },
     "metadata": {},
     "output_type": "display_data"
    }
   ],
   "source": [
    "top_genre_jp.plot(kind='pie', y='jp_sales', autopct='%1.1f%%', title='genre sales percentage in JP')\n",
    "plt.show()"
   ]
  },
  {
   "cell_type": "markdown",
   "id": "1d3b8a27",
   "metadata": {},
   "source": [
    "Японцы еще более привержены определенным жанрам видеоигр чем европейцы. Их ТОП-5 жанров занимаем и вовсе 81.4% всего рынка видеоигр. Также и сами жанры в японском топе отличаются от северо-американских и европейских. Здесь первую строчку занимает жанр Role-Playing с 35.7% рынка, а пятое место за жанром Misc c его 6.5%. Сам ТОП-5 выглядит так: Role-Playing, Action, Platform, Simulation и Misc."
   ]
  },
  {
   "cell_type": "markdown",
   "id": "91d8ef82",
   "metadata": {},
   "source": [
    "### Влияение рейтинга ESRB на продажи в различных регионах"
   ]
  },
  {
   "cell_type": "markdown",
   "id": "04694e75",
   "metadata": {},
   "source": [
    "Соберем данные про продажам видеоигр в Северной Америке в соответствии с рейтингами ESRB"
   ]
  },
  {
   "cell_type": "markdown",
   "id": "e8e92b4f",
   "metadata": {},
   "source": [
    "Построим сводную таблицу."
   ]
  },
  {
   "cell_type": "code",
   "execution_count": 93,
   "id": "618b4154",
   "metadata": {},
   "outputs": [],
   "source": [
    "sales_by_esrb_na = filtered_data.pivot_table(\n",
    "    index='rating', \n",
    "    values='na_sales',\n",
    "    aggfunc='sum'\n",
    ")"
   ]
  },
  {
   "cell_type": "code",
   "execution_count": 94,
   "id": "6ce65f25",
   "metadata": {},
   "outputs": [
    {
     "data": {
      "text/html": [
       "<div>\n",
       "<style scoped>\n",
       "    .dataframe tbody tr th:only-of-type {\n",
       "        vertical-align: middle;\n",
       "    }\n",
       "\n",
       "    .dataframe tbody tr th {\n",
       "        vertical-align: top;\n",
       "    }\n",
       "\n",
       "    .dataframe thead th {\n",
       "        text-align: right;\n",
       "    }\n",
       "</style>\n",
       "<table border=\"1\" class=\"dataframe\">\n",
       "  <thead>\n",
       "    <tr style=\"text-align: right;\">\n",
       "      <th></th>\n",
       "      <th>na_sales</th>\n",
       "    </tr>\n",
       "    <tr>\n",
       "      <th>rating</th>\n",
       "      <th></th>\n",
       "    </tr>\n",
       "  </thead>\n",
       "  <tbody>\n",
       "    <tr>\n",
       "      <th>M</th>\n",
       "      <td>108.45</td>\n",
       "    </tr>\n",
       "    <tr>\n",
       "      <th>E</th>\n",
       "      <td>79.21</td>\n",
       "    </tr>\n",
       "    <tr>\n",
       "      <th>unknown</th>\n",
       "      <td>76.84</td>\n",
       "    </tr>\n",
       "    <tr>\n",
       "      <th>T</th>\n",
       "      <td>44.48</td>\n",
       "    </tr>\n",
       "    <tr>\n",
       "      <th>E10+</th>\n",
       "      <td>43.51</td>\n",
       "    </tr>\n",
       "  </tbody>\n",
       "</table>\n",
       "</div>"
      ],
      "text/plain": [
       "         na_sales\n",
       "rating           \n",
       "M          108.45\n",
       "E           79.21\n",
       "unknown     76.84\n",
       "T           44.48\n",
       "E10+        43.51"
      ]
     },
     "execution_count": 94,
     "metadata": {},
     "output_type": "execute_result"
    }
   ],
   "source": [
    "sales_by_esrb_na.sort_values(by='na_sales', ascending=False)"
   ]
  },
  {
   "cell_type": "markdown",
   "id": "9d8f73ad",
   "metadata": {},
   "source": [
    "И построим круговую диграмму по полученным данным."
   ]
  },
  {
   "cell_type": "code",
   "execution_count": 95,
   "id": "75aa0c42",
   "metadata": {},
   "outputs": [
    {
     "data": {
      "image/png": "[encoded data removed]",
      "text/plain": [
       "<Figure size 1440x720 with 1 Axes>"
      ]
     },
     "metadata": {},
     "output_type": "display_data"
    }
   ],
   "source": [
    "sales_by_esrb_na.plot(kind='pie', y='na_sales', autopct='%1.1f%%', title='impact of rating on sales in NA')\n",
    "plt.show()"
   ]
  },
  {
   "cell_type": "markdown",
   "id": "5fb419d3",
   "metadata": {},
   "source": [
    "Итак мы видим, что в Северной Америке самые продаваемые игры с рейтингом М т.е. для взрослых с долей в 30.8%. А хуже всего продаются игры с рейтингом Е10+ и Т - для детей и подростков, 12.3% и 12.6% соответственно. А второе место по популярности занимают семейные игры с рейтингом Е, они составляют 22.5% доли рынка, также игры с неизвестным нам рейтингом составляют 21.8% рынка - это 3 место."
   ]
  },
  {
   "cell_type": "markdown",
   "id": "0706657a",
   "metadata": {},
   "source": [
    "Изучим рынок Европы."
   ]
  },
  {
   "cell_type": "code",
   "execution_count": 96,
   "id": "1262fb98",
   "metadata": {},
   "outputs": [],
   "source": [
    "sales_by_esrb_eu = filtered_data.pivot_table(\n",
    "    index='rating', \n",
    "    values='eu_sales',\n",
    "    aggfunc='sum'\n",
    ")"
   ]
  },
  {
   "cell_type": "markdown",
   "id": "9c556385",
   "metadata": {},
   "source": [
    "Отсортируем и выведем на экран."
   ]
  },
  {
   "cell_type": "code",
   "execution_count": 97,
   "id": "8e003b9a",
   "metadata": {},
   "outputs": [
    {
     "data": {
      "text/html": [
       "<div>\n",
       "<style scoped>\n",
       "    .dataframe tbody tr th:only-of-type {\n",
       "        vertical-align: middle;\n",
       "    }\n",
       "\n",
       "    .dataframe tbody tr th {\n",
       "        vertical-align: top;\n",
       "    }\n",
       "\n",
       "    .dataframe thead th {\n",
       "        text-align: right;\n",
       "    }\n",
       "</style>\n",
       "<table border=\"1\" class=\"dataframe\">\n",
       "  <thead>\n",
       "    <tr style=\"text-align: right;\">\n",
       "      <th></th>\n",
       "      <th>eu_sales</th>\n",
       "    </tr>\n",
       "    <tr>\n",
       "      <th>rating</th>\n",
       "      <th></th>\n",
       "    </tr>\n",
       "  </thead>\n",
       "  <tbody>\n",
       "    <tr>\n",
       "      <th>M</th>\n",
       "      <td>110.52</td>\n",
       "    </tr>\n",
       "    <tr>\n",
       "      <th>E</th>\n",
       "      <td>79.04</td>\n",
       "    </tr>\n",
       "    <tr>\n",
       "      <th>unknown</th>\n",
       "      <td>72.93</td>\n",
       "    </tr>\n",
       "    <tr>\n",
       "      <th>T</th>\n",
       "      <td>41.90</td>\n",
       "    </tr>\n",
       "    <tr>\n",
       "      <th>E10+</th>\n",
       "      <td>31.36</td>\n",
       "    </tr>\n",
       "  </tbody>\n",
       "</table>\n",
       "</div>"
      ],
      "text/plain": [
       "         eu_sales\n",
       "rating           \n",
       "M          110.52\n",
       "E           79.04\n",
       "unknown     72.93\n",
       "T           41.90\n",
       "E10+        31.36"
      ]
     },
     "execution_count": 97,
     "metadata": {},
     "output_type": "execute_result"
    }
   ],
   "source": [
    "sales_by_esrb_eu.sort_values(by='eu_sales', ascending=False)"
   ]
  },
  {
   "cell_type": "markdown",
   "id": "dd92f319",
   "metadata": {},
   "source": [
    "И построим диаграмму по данным."
   ]
  },
  {
   "cell_type": "code",
   "execution_count": 98,
   "id": "677058cf",
   "metadata": {},
   "outputs": [
    {
     "data": {
      "image/png": "[encoded data removed]",
      "text/plain": [
       "<Figure size 1440x720 with 1 Axes>"
      ]
     },
     "metadata": {},
     "output_type": "display_data"
    }
   ],
   "source": [
    "sales_by_esrb_eu.plot(kind='pie', y='eu_sales', autopct='%1.1f%%', title='impact of rating on sales in EU')\n",
    "plt.show()"
   ]
  },
  {
   "cell_type": "markdown",
   "id": "fab6f796",
   "metadata": {},
   "source": [
    "В целом картина очень похожа на северо-американскую. Самые продаваемые игры с рейтингом М - доля этих игр составляет 32.9%, на втором месте игры с рейтингом Е с долей 23.5%. Четвертое и пятое место делят игры с ретингами Т и Е10+ с долями 12.5% и 9.3% соответственно.\n",
    "Как и в случае с Северной Америкой 3-е место отводится играм с неизвестным рейтингом, это достаточно большая доля рынка с 21.7%"
   ]
  },
  {
   "cell_type": "markdown",
   "id": "dcc83f71",
   "metadata": {},
   "source": [
    "Посмотрим на ситуацию в Японии."
   ]
  },
  {
   "cell_type": "code",
   "execution_count": 99,
   "id": "ae6353f2",
   "metadata": {},
   "outputs": [],
   "source": [
    "sales_by_esrb_jp = filtered_data.pivot_table(\n",
    "    index='rating', \n",
    "    values='jp_sales',\n",
    "    aggfunc='sum'\n",
    ")"
   ]
  },
  {
   "cell_type": "code",
   "execution_count": 100,
   "id": "987ee519",
   "metadata": {},
   "outputs": [
    {
     "data": {
      "text/html": [
       "<div>\n",
       "<style scoped>\n",
       "    .dataframe tbody tr th:only-of-type {\n",
       "        vertical-align: middle;\n",
       "    }\n",
       "\n",
       "    .dataframe tbody tr th {\n",
       "        vertical-align: top;\n",
       "    }\n",
       "\n",
       "    .dataframe thead th {\n",
       "        text-align: right;\n",
       "    }\n",
       "</style>\n",
       "<table border=\"1\" class=\"dataframe\">\n",
       "  <thead>\n",
       "    <tr style=\"text-align: right;\">\n",
       "      <th></th>\n",
       "      <th>jp_sales</th>\n",
       "    </tr>\n",
       "    <tr>\n",
       "      <th>rating</th>\n",
       "      <th></th>\n",
       "    </tr>\n",
       "  </thead>\n",
       "  <tbody>\n",
       "    <tr>\n",
       "      <th>unknown</th>\n",
       "      <td>74.82</td>\n",
       "    </tr>\n",
       "    <tr>\n",
       "      <th>E</th>\n",
       "      <td>29.34</td>\n",
       "    </tr>\n",
       "    <tr>\n",
       "      <th>T</th>\n",
       "      <td>10.46</td>\n",
       "    </tr>\n",
       "    <tr>\n",
       "      <th>E10+</th>\n",
       "      <td>7.98</td>\n",
       "    </tr>\n",
       "    <tr>\n",
       "      <th>M</th>\n",
       "      <td>7.33</td>\n",
       "    </tr>\n",
       "  </tbody>\n",
       "</table>\n",
       "</div>"
      ],
      "text/plain": [
       "         jp_sales\n",
       "rating           \n",
       "unknown     74.82\n",
       "E           29.34\n",
       "T           10.46\n",
       "E10+         7.98\n",
       "M            7.33"
      ]
     },
     "execution_count": 100,
     "metadata": {},
     "output_type": "execute_result"
    }
   ],
   "source": [
    "sales_by_esrb_jp.sort_values(by='jp_sales', ascending=False)"
   ]
  },
  {
   "cell_type": "code",
   "execution_count": 101,
   "id": "f681960a",
   "metadata": {},
   "outputs": [
    {
     "data": {
      "image/png": "[encoded data removed]",
      "text/plain": [
       "<Figure size 1440x720 with 1 Axes>"
      ]
     },
     "metadata": {},
     "output_type": "display_data"
    }
   ],
   "source": [
    "sales_by_esrb_jp.plot(kind='pie', y='jp_sales', autopct='%1.1f%%', title='impact of rating on sales in JP')\n",
    "plt.show()"
   ]
  },
  {
   "cell_type": "markdown",
   "id": "cd18a70b",
   "metadata": {},
   "source": [
    "И в этот раз Японский рынок показал, что он сильно отличается от американского и европейского рынков. Если в двух предыдущих регионах наибольшее количество продаваемых игр были с рейтингом М, то в Японии это самый не популярный рейтинг, занимает последнее место с долей 5.6%. Подавляющее большинство игр продается с неизвестным нам рейтингом и занимает больше половины рынка, а именно 57.6%. Игры с рейтингом Е на втором месте, их доля -  22.6%. Третье место занимают игры с рейтингом Т и долей в 8.1%, а четвертое - Е10+ с долей 6.1%."
   ]
  },
  {
   "cell_type": "markdown",
   "id": "4a24d566",
   "metadata": {},
   "source": [
    "### Вывод"
   ]
  },
  {
   "cell_type": "markdown",
   "id": "1f4982b4",
   "metadata": {},
   "source": [
    "В этой главе мы проанализировали три региона продаж видеоигр: Северная Америка, Европа и Япония. Изучали мы какие платформы предпочитают в данных регионах, какие жанры видеоигр являются самыми популярными и как влияет рейтинг видеоигр на их продажи, что предпочитают жители соответствующих регионов.<br>\n",
    "Итак, что нам удалось выяснить:\n",
    "1. В Северной Америке самая популярная платформа для игр - это PS4 с 30.8 % рынка. Более 80% рынка делят между собой платформы PS4, XOne и 3DS. Самая не популярная платформа - это PC с 8.5%. ТОП-5 самых продаваемых жанров видеоигр занимают 44.7% всего рынка игр Северной Америки. Самый популярный жанр - Action, а пятую строчку занимает жанр Platform. Пять самых популярных жанров Action, Shooter, Role-Playing, Sports и Platform - перечислены в порядке убывания продаж. Самые продаваемые игры с рейтингом М т.е. для взрослых с долей в 30.8%. А хуже всего продаются игры с рейтингом Е10+ и Т - для детей и подростков, 12.3% и 12.6% соответственно. А второе место по популярности занимают семейные игры с рейтингом Е, они составляют 22.5% доли рынка, также игры с неизвестным нам рейтингом составляют 21.8% рынка - это 3 место.\n",
    "2. В Европе также самой популярной платформой является PS4, она занимает долю в 42% рынка продаж видеоигр. Следующие три строчки, с очень близкими долями занимают платформы 3DS, PC и XOne, а WiiU занимает последнее место с 7.5% рынка. В Европе ТОП-5 жанров занимают долю в 78.1% всего рынка видеоигр. Самый популяный жанр Action с 25.6% рынка, а пятое место занимает жанр Platform с 6.3%. Как и в американском рынке пять самых популярных жанров Action, Shooter, Sports, Role-Playing и Platform - перечислены в порядке убывания продаж. В целом картина очень похожа на северо-американскую. Самые продаваемые игры с рейтингом М - доля этих игр составляет 32.9%, на втором месте игры с рейтингом Е с долей 23.5%. Четвертое и пятое место делят игры с ретингами Т и Е10+ с долями 12.5% и 9.3% соответственно. Как и в случае с Северной Америкой 3-е место отводится играм с неизвестным рейтингом, это достаточно большая доля рынка с 21.7%\n",
    "3. Рынок японии сильно отличается от рынков Северной Америки и Европы. Здесь доминирует платформа 3DS с 77.4 % рынка. Второе и третье место занимают PS4 и WiiU с 12.3% и 10% соответственно. XOne практически не продается в Японии, за исключением редких случаев, его доля на рынке менее 0.5%, тогда как PC и вовсе не имеет продаж видеоигр. Японцы еще более привержены определенным жанрам видеоигр чем европейцы. Их ТОП-5 жанров занимаем и вовсе 81.4% всего рынка видеоигр. Также и сами жанры в японском топе отличаются от северо-американских и европейских. Здесь первую строчку занимает жанр Role-Playing с 35.7% рынка, а пятое место за жанром Misc c его 6.5%. Сам ТОП-5 выглядит так: Role-Playing, Action, Platform, Simulation и Misc. Если в двух предыдущих регионах наибольшее количество продаваемых игр были с рейтингом М, то в Японии это самый не популярный рейтинг, занимает последнее место с долей 5.6%. Подавляющее большинство игр продается с неизвестным нам рейтингом и занимает больше половины рынка, а именно 57.6%. Игры с рейтингом Е на втором месте, их доля - 22.6%. Третье место занимают игры с рейтингом Т и долей в 8.1%, а четвертое - Е10+ с долей 6.1%."
   ]
  },
  {
   "cell_type": "markdown",
   "id": "70186651",
   "metadata": {},
   "source": [
    "## Проверка гипотез"
   ]
  },
  {
   "cell_type": "markdown",
   "id": "def3ac73",
   "metadata": {},
   "source": [
    "### Гипотеза 1.  Средние пользовательские рейтинги платформ Xbox One и PC равны"
   ]
  },
  {
   "cell_type": "markdown",
   "id": "5645eab3",
   "metadata": {},
   "source": [
    "Сформулируем наши гипотезы. Пусть нулевая гипотеза будет гласить о том, что средние пользовательские рейтинги платформ Xbox One и PC равны, тогда альтернативная будет гласить, что они различаются."
   ]
  },
  {
   "cell_type": "markdown",
   "id": "4c3d16b2",
   "metadata": {},
   "source": [
    "Зададим пороговое значение `alpha` в 5%."
   ]
  },
  {
   "cell_type": "code",
   "execution_count": 102,
   "id": "9cf563a6",
   "metadata": {},
   "outputs": [],
   "source": [
    "alpha = .05"
   ]
  },
  {
   "cell_type": "markdown",
   "id": "759a2fb6",
   "metadata": {},
   "source": [
    "Создадим переменные xone_ratings и pc_ratings, куда запишем пользовательские рейтинги платформ."
   ]
  },
  {
   "cell_type": "code",
   "execution_count": 103,
   "id": "6986d2ef",
   "metadata": {},
   "outputs": [],
   "source": [
    "xone_ratings = filtered_data[\n",
    "    (filtered_data['platform'] == 'XOne') & \n",
    "    (filtered_data['user_score'] > 0)\n",
    "]['user_score']\n",
    "\n",
    "pc_ratings = filtered_data[\n",
    "    (filtered_data['platform'] == 'PC') & \n",
    "    (filtered_data['user_score'] > 0)\n",
    "]['user_score']"
   ]
  },
  {
   "cell_type": "markdown",
   "id": "df3c9483",
   "metadata": {},
   "source": [
    "Выведем результаты на экран."
   ]
  },
  {
   "cell_type": "code",
   "execution_count": 104,
   "id": "63739964",
   "metadata": {},
   "outputs": [
    {
     "data": {
      "text/plain": [
       "165      79.0\n",
       "179      54.0\n",
       "241      64.0\n",
       "269      62.0\n",
       "372      41.0\n",
       "         ... \n",
       "16260    68.0\n",
       "16313    60.0\n",
       "16346    82.0\n",
       "16359    66.0\n",
       "16376    67.0\n",
       "Name: user_score, Length: 182, dtype: float64"
      ]
     },
     "execution_count": 104,
     "metadata": {},
     "output_type": "execute_result"
    }
   ],
   "source": [
    "xone_ratings"
   ]
  },
  {
   "cell_type": "code",
   "execution_count": 105,
   "id": "5feb15c9",
   "metadata": {},
   "outputs": [
    {
     "data": {
      "text/plain": [
       "191      40.0\n",
       "312      81.0\n",
       "455      39.0\n",
       "476      59.0\n",
       "534      75.0\n",
       "         ... \n",
       "16235    14.0\n",
       "16300    79.0\n",
       "16407    76.0\n",
       "16411    58.0\n",
       "16417    72.0\n",
       "Name: user_score, Length: 306, dtype: float64"
      ]
     },
     "execution_count": 105,
     "metadata": {},
     "output_type": "execute_result"
    }
   ],
   "source": [
    "pc_ratings"
   ]
  },
  {
   "cell_type": "markdown",
   "id": "ca20b9ce",
   "metadata": {},
   "source": [
    "Вычислим вероятность того, что средние равны."
   ]
  },
  {
   "cell_type": "code",
   "execution_count": 106,
   "id": "8122d900",
   "metadata": {},
   "outputs": [],
   "source": [
    "results = st.ttest_ind(\n",
    "    xone_ratings, \n",
    "    pc_ratings, \n",
    "    equal_var = False)"
   ]
  },
  {
   "cell_type": "markdown",
   "id": "e27d111b",
   "metadata": {},
   "source": [
    "Выведем результат на экран."
   ]
  },
  {
   "cell_type": "code",
   "execution_count": 107,
   "id": "d8e0913a",
   "metadata": {},
   "outputs": [
    {
     "name": "stdout",
     "output_type": "stream",
     "text": [
      "р-значение: 0.6077955556767012\n",
      "Не получилось отвергнуть нулевую гипотезу\n"
     ]
    }
   ],
   "source": [
    "p_value = results.pvalue\n",
    "\n",
    "print('р-значение:', p_value)\n",
    "if p_value > alpha:\n",
    "    print('Не получилось отвергнуть нулевую гипотезу')\n",
    "else:\n",
    "    print('Отвергаем нулевую гипотезу')"
   ]
  },
  {
   "cell_type": "markdown",
   "id": "8d8b3d95",
   "metadata": {},
   "source": [
    "Расчеты показали, что при сравнении средних пользовательских рейтингов платформ Xbox One и PC вероятность ошибки при отклонении нулевой гипотезы свыше 61%. Это очень большая вероятноть, чтобы говорить об их различии."
   ]
  },
  {
   "cell_type": "markdown",
   "id": "5c5eeb99",
   "metadata": {},
   "source": [
    "### Гипотеза 2. Средние пользовательские рейтинги жанров Action и Sports разные"
   ]
  },
  {
   "cell_type": "markdown",
   "id": "81bb3b46",
   "metadata": {},
   "source": [
    "Итак, Пусть нулевая гипотеза будет гласить о том, что средние пользовательские рейтинги жанров Action и Sports равны, тогда альтернативная будет гласить, что они различаются."
   ]
  },
  {
   "cell_type": "markdown",
   "id": "fb32e404",
   "metadata": {},
   "source": [
    "Также как и в первой гипотезе пороговым значением alpha будут 5%."
   ]
  },
  {
   "cell_type": "code",
   "execution_count": 108,
   "id": "ca315a14",
   "metadata": {},
   "outputs": [],
   "source": [
    "alpha = .05"
   ]
  },
  {
   "cell_type": "markdown",
   "id": "69321811",
   "metadata": {},
   "source": [
    "Запишем в переменные action_ratings и sports_ratings данные о пользовательских ретингах каждого из жанров."
   ]
  },
  {
   "cell_type": "code",
   "execution_count": 109,
   "id": "4daa0af7",
   "metadata": {},
   "outputs": [],
   "source": [
    "action_ratings = filtered_data[\n",
    "    (filtered_data['genre'] == 'Action') & \n",
    "    (filtered_data['user_score'] > 0)\n",
    "]['user_score']\n",
    "\n",
    "sports_ratings = filtered_data[\n",
    "    (filtered_data['genre'] == 'Sports') & \n",
    "    (filtered_data['user_score'] > 0)\n",
    "]['user_score']"
   ]
  },
  {
   "cell_type": "markdown",
   "id": "4093c6a6",
   "metadata": {},
   "source": [
    "Выведем на экран."
   ]
  },
  {
   "cell_type": "code",
   "execution_count": 110,
   "id": "d03296ec",
   "metadata": {},
   "outputs": [
    {
     "data": {
      "text/plain": [
       "42       83.0\n",
       "165      79.0\n",
       "230      81.0\n",
       "234      84.0\n",
       "294      63.0\n",
       "         ... \n",
       "16300    79.0\n",
       "16313    60.0\n",
       "16368    85.0\n",
       "16376    67.0\n",
       "16407    76.0\n",
       "Name: user_score, Length: 330, dtype: float64"
      ]
     },
     "execution_count": 110,
     "metadata": {},
     "output_type": "execute_result"
    }
   ],
   "source": [
    "action_ratings"
   ]
  },
  {
   "cell_type": "code",
   "execution_count": 111,
   "id": "bdf7b049",
   "metadata": {},
   "outputs": [
    {
     "data": {
      "text/plain": [
       "77       43.0\n",
       "94       50.0\n",
       "143      57.0\n",
       "313      67.0\n",
       "415      44.0\n",
       "         ... \n",
       "15748    71.0\n",
       "15777    52.0\n",
       "15849    63.0\n",
       "16235    14.0\n",
       "16359    66.0\n",
       "Name: user_score, Length: 111, dtype: float64"
      ]
     },
     "execution_count": 111,
     "metadata": {},
     "output_type": "execute_result"
    }
   ],
   "source": [
    "sports_ratings"
   ]
  },
  {
   "cell_type": "markdown",
   "id": "48c04680",
   "metadata": {},
   "source": [
    "Расчитаем вероятность равенства средних."
   ]
  },
  {
   "cell_type": "code",
   "execution_count": 112,
   "id": "d50778d8",
   "metadata": {},
   "outputs": [],
   "source": [
    "results = st.ttest_ind(\n",
    "    action_ratings,\n",
    "    sports_ratings,\n",
    "    equal_var=False\n",
    ")"
   ]
  },
  {
   "cell_type": "markdown",
   "id": "fc735ddf",
   "metadata": {},
   "source": [
    "Выведем результат расчета на экран."
   ]
  },
  {
   "cell_type": "code",
   "execution_count": 113,
   "id": "0cc10bf2",
   "metadata": {},
   "outputs": [
    {
     "name": "stdout",
     "output_type": "stream",
     "text": [
      "р-значение: 1.4191524081215263e-10\n",
      "Отвергаем нулевую гипотезу\n"
     ]
    }
   ],
   "source": [
    "p_value = results.pvalue\n",
    "\n",
    "print('р-значение:', p_value)\n",
    "if p_value > alpha:\n",
    "    print('Не получилось отвергнуть нулевую гипотезу')\n",
    "else:\n",
    "    print('Отвергаем нулевую гипотезу')"
   ]
  },
  {
   "cell_type": "markdown",
   "id": "eadcaf6f",
   "metadata": {},
   "source": [
    "Расчеты показали, что вероятность ошибки при сравнении средних пользовательских рейтингов жанров Action и Sports крайне мала, это говорит о том, что различия между средними не случайны."
   ]
  },
  {
   "cell_type": "markdown",
   "id": "59b5d051",
   "metadata": {},
   "source": [
    "### Вывод"
   ]
  },
  {
   "cell_type": "markdown",
   "id": "19a67f90",
   "metadata": {},
   "source": [
    "В этой главе провели проверку двух гипотез, которые гласили о том, что средние пользовательские рейтинги платформ Xbox One и PC равны и средние пользовательские рейтинги жанров Action и Sports разные. Проведя расчеты вероятности равенства средних, мы выявили, что:\n",
    "- расчеты показали, что при сравнении средних пользовательских рейтингов платформ Xbox One и PC вероятность ошибки при отклонении нулевой гипотезы свыше 61%. Это очень большая вероятноть, чтобы говорить об их различии;\n",
    "- вероятность ошибки при сравнении средних пользовательских рейтингов жанров Action и Sports крайне мала, это говорит о том, что различия между средними не случайны.<br><br>\n",
    "\n",
    "Обе гипотезы не удалось опровергнуть."
   ]
  },
  {
   "cell_type": "markdown",
   "id": "7e426ef6",
   "metadata": {},
   "source": [
    "## Общий вывод"
   ]
  },
  {
   "cell_type": "markdown",
   "id": "3ce661ec",
   "metadata": {},
   "source": [
    "В этом проекте мы провели работу над датасетом, содержащим информацию о продажах игр, оценках пользователей и экспертов, жанрах и платформах. Описание данных в файле:\n",
    "- Name — название игры;\n",
    "- Platform — платформа;\n",
    "- Year_of_Release — год выпуска;\n",
    "- Genre — жанр игры;\n",
    "- NA_sales — продажи в Северной Америке (миллионы проданных копий);\n",
    "- EU_sales — продажи в Европе (миллионы проданных копий);\n",
    "- JP_sales — продажи в Японии (миллионы проданных копий);\n",
    "- Other_sales — продажи в других странах (миллионы проданных копий);\n",
    "- Critic_Score — оценка критиков (максимум 100);\n",
    "- User_Score — оценка пользователей (максимум 10);\n",
    "- Rating — рейтинг от организации ESRB (англ. Entertainment Software Rating Board). Эта ассоциация определяет рейтинг компьютерных игр и присваивает им подходящую возрастную категорию.<br>\n",
    "\n",
    "Мы изучили полученный датасет и выявили следующее:\n",
    "- он состоит из 11 колонок и 16715 строк; \n",
    "- есть пропущенные значения, но от части строк мы избавимся, так как процент пропущенных значений очень мал и удаление никак не повляет на результаты анализа;\n",
    "- названия колонок записаны не в соответствии со стандартами, необходмо переименовать;\n",
    "- у части строк необходимо преобразовать типы данных;\n",
    "- имеется дубликат - строка с индексом 16230, удалим ее;\n",
    "- Отрицательных значений в данных нет - это хорошо. Самая старая игра в нашем списке с релизом в 1980 году, а самая \"свежая\" в 2016 году. Самый низкий рейтинг от критиков был присвоен 13 баллов из 100, а самый высокий - 98 баллов.<br>\n",
    "\n",
    "Затем мы провели не плохую работу по обработке данных в датасете:<br>\n",
    "- перевели наименования столбцов в нижний регистр и теперь они соответствуют стандартам;\n",
    "- удалили пропуски в столбцах **name**, **platform** и **year_of_release**, удаленные строки составили менее 2% от общего числа строк;\n",
    "- избавились от дубликата в ввиде строки **16230** с игрой **Madden NFL 13**;\n",
    "- пропуски в трех столбцах critic_score, user_score и rating удалять было нельзя, так как в каждом из них пропуски практически в каждой второй строке. Поэтому в столбцах critic_score и user_score мы заменили пропущенные значения нулями, а в столбце rating - на unknown. Пропуски могли возникнуть при переносе  или парсинге данных, поэтому программистам советуем проанализировать получение данных и возникновение пропусков;\n",
    "- изучили значение `tbd` в столбце **user_score** и выяснили, что на сайте **metacritic.com** есть информация, что `tbd` расшифровывается как `To Be Determined`, что в переводе означает \"будет определен\". Выставляется такой рейтинг на данном сайте для кинофильмов и игр по которым отзывы пользователей в количестве не более 4. Соответственно, когда набирается необходимое количество оценок, рейтинг указывается оценкой. Если придерживаться данной информации, тогда по нашим играм с рейтингом `tbd` просто не набралось достаточное количество отзывов. Заменили эти значения на нули;\n",
    "- заменили тип данных в столбце **year_of_release** на `int16` и в столбце **user_score** на `float64`. А также привели столбец user_score к типу оценок как в critic_score;\n",
    "- создали новую колонку all_sales и записали в нее сумму продаж столбцов na_sales, eu_sales, jp_sales и other_sales.<br>\n",
    "\n",
    "Исследовательский анализ данных позволил сделать следующие заключения:\n",
    "- топ 10 самых продаваемых платформ по убыванию PS2, X360, PS3, Wii, DS, PS, PS4, GBA, PSP, 3DS. Самая продаваемая платформа PS2 достигла продаж игр в размере 1233 млн. копий, а 10 место занимает 3DS с продажами в 258 млн. копий;\n",
    "- изучив график распределения по годам продаж игр в разрезе платформ, выявили, что смена поколений происходит за 5-8 лет в зависимости от платформы и ее популярности. Исходя из этих сведений для прогноза на 2017 год приняли решение анализировать период 2010 - 2016 г;\n",
    "- проанализировав продажи за \"актуальный\" период выявили, что платформы PS2, PSP, DS на 2016 год уже вышли из продаж. Платформы X360, PS3, Wii и PSV находятся на исходе своего жизненого цикла. По всем этим платформам не стоит прогнозировать продажи на 2017 год. Лидируют по продажам и продолжают расти - платформы PS4 и XOne. Тогда как продажи на 3DS, WiiU, и PC имеют тренд к снижению;\n",
    "- для построения прогноза на 2017 г. выделили PS4, XOne, 3DS, WiiU и PC как актуальные платформы;\n",
    "- проведя исследование продаж по каждой из актуальных платформ определелили, что есть игры продажи у которых аномально высокие продажи, тем не менее \"нормальные\" продажи по самым популярным платформам не превышают 1.8 млн. копий за игру. Медианные значения продаж игр по всем платформам не превышают 500 тыс. копий;\n",
    "- изучив зависимость продаж игр от оценок критиков и пользователей выяснили, что платформы 3DS и WiiU имеют свои особенности, на этих платформах прослеживается зависимость от оценок пользователей. По всем остальным платформам зависимость прослеживается только от оценок критиков;\n",
    "- мы распологаем данными о 12 жанрах в нашем датасете. Больше всего выпускалось игр с жанром Action, их 568 наименований. Тогда как второе место занимает жанр Role-Playing с уже значительно меньшим количеством игр в размере 199. Дальше идет небольшое снижение от жанра к жанру и миниальное значение 37 игр выпускалось в жанре Puzzle;\n",
    "- самые высокие суммарные продажи показал жанр Action с цифрами 230 млн. копий, это не удивляет, так как игр в этом жанре подавляющее большинство. Второе и третье место занимают жанры Shooter и Role-Playing соответственно. Они поменялись местами относительно списка с количеством игр это означает, что игры в жанре Shooter продаются лучше. Последнее место в нашем списке занимает жарн Puzzle с количеством 7.5 млн. копий;\n",
    "- из распределения мы увидели, что лучшие показатели по продажам игр у жанров Shooter и Platform, также неплохие продажи показывают жанры Sports и Role-Playing. Это самые прибыльные жанры. А игры в жанрах Adventure, Fighting, Puzzle и Strategy показывают совсем слабые продажи. Самый популярный жанр Action оказался не таким интересным в плане продаж.<br>\n",
    "\n",
    "Изучили какие платформы предпочитают в различных регионах, какие жанры видеоигр являются самыми популярными и как влияет рейтинг видеоигр на их продажи, что предпочитают жители соответствующих регионов. Основные выводы:\n",
    "1. В Северной Америке самая популярная платформа для игр - это PS4 с 30.8 % рынка. Более 80% рынка делят между собой платформы PS4, XOne и 3DS. Самая не популярная платформа - это PC с 8.5%. ТОП-5 самых продаваемых жанров видеоигр занимают 44.7% всего рынка игр Северной Америки. Самый популярный жанр - Action, а пятую строчку занимает жанр Platform. Пять самых популярных жанров Action, Shooter, Role-Playing, Sports и Platform - перечислены в порядке убывания продаж. Самые продаваемые игры с рейтингом М т.е. для взрослых с долей в 30.8%. А хуже всего продаются игры с рейтингом Е10+ и Т - для детей и подростков, 12.3% и 12.6% соответственно. А второе место по популярности занимают семейные игры с рейтингом Е, они составляют 22.5% доли рынка, также игры с неизвестным нам рейтингом составляют 21.8% рынка - это 3 место.\n",
    "2. В Европе также самой популярной платформой является PS4, она занимает долю в 42% рынка продаж видеоигр. Следующие три строчки, с очень близкими долями занимают платформы 3DS, PC и XOne, а WiiU занимает последнее место с 7.5% рынка. В Европе ТОП-5 жанров занимают долю в 78.1% всего рынка видеоигр. Самый популяный жанр Action с 25.6% рынка, а пятое место занимает жанр Platform с 6.3%. Как и в американском рынке пять самых популярных жанров Action, Shooter, Sports, Role-Playing и Platform - перечислены в порядке убывания продаж. В целом картина очень похожа на северо-американскую. Самые продаваемые игры с рейтингом М - доля этих игр составляет 32.9%, на втором месте игры с рейтингом Е с долей 23.5%. Четвертое и пятое место делят игры с ретингами Т и Е10+ с долями 12.5% и 9.3% соответственно. Как и в случае с Северной Америкой 3-е место отводится играм с неизвестным рейтингом, это достаточно большая доля рынка с 21.7%\n",
    "3. Рынок японии сильно отличается от рынков Северной Америки и Европы. Здесь доминирует платформа 3DS с 77.4 % рынка. Второе и третье место занимают PS4 и WiiU с 12.3% и 10% соответственно. XOne практически не продается в Японии, за исключением редких случаев, его доля на рынке менее 0.5%, тогда как PC и вовсе не имеет продаж видеоигр. Японцы еще более привержены определенным жанрам видеоигр чем европейцы. Их ТОП-5 жанров занимаем и вовсе 81.4% всего рынка видеоигр. Также и сами жанры в японском топе отличаются от северо-американских и европейских. Здесь первую строчку занимает жанр Role-Playing с 35.7% рынка, а пятое место за жанром Misc c его 6.5%. Сам ТОП-5 выглядит так: Role-Playing, Action, Platform, Simulation и Misc. Если в двух предыдущих регионах наибольшее количество продаваемых игр были с рейтингом М, то в Японии это самый не популярный рейтинг, занимает последнее место с долей 5.6%. Подавляющее большинство игр продается с неизвестным нам рейтингом и занимает больше половины рынка, а именно 57.6%. Игры с рейтингом Е на втором месте, их доля - 22.6%. Третье место занимают игры с рейтингом Т и долей в 8.1%, а четвертое - Е10+ с долей 6.1%.<br>\n",
    "\n",
    "Провели проверку двух гипотез, которые гласили о том, что средние пользовательские рейтинги платформ Xbox One и PC равны и средние пользовательские рейтинги жанров Action и Sports разные. Проведя расчеты вероятности равенства средних, мы выявили, что:\n",
    "- расчеты показали, что при сравнении средних пользовательских рейтингов платформ Xbox One и PC вероятность ошибки при отклонении нулевой гипотезы свыше 61%. Это очень большая вероятноть, чтобы говорить об их различии;\n",
    "- вероятность ошибки при сравнении средних пользовательских рейтингов жанров Action и Sports крайне мала, это говорит о том, что различия между средними не случайны.<br><br>\n",
    "\n",
    "Обе гипотезы не удалось опровергнуть.\n",
    "\n"
   ]
  }
 ],
 "metadata": {
  "ExecuteTimeLog": [
   {
    "duration": 98,
    "start_time": "2022-03-02T20:18:28.207Z"
   },
   {
    "duration": 107,
    "start_time": "2022-03-02T20:20:31.816Z"
   },
   {
    "duration": 86,
    "start_time": "2022-03-02T20:21:13.640Z"
   },
   {
    "duration": 82,
    "start_time": "2022-03-02T20:27:10.907Z"
   },
   {
    "duration": 71,
    "start_time": "2022-03-02T20:28:29.855Z"
   },
   {
    "duration": 1490,
    "start_time": "2022-03-02T20:32:19.719Z"
   },
   {
    "duration": 41,
    "start_time": "2022-03-02T20:32:21.212Z"
   },
   {
    "duration": 26,
    "start_time": "2022-03-02T20:32:21.256Z"
   },
   {
    "duration": 14,
    "start_time": "2022-03-02T20:32:21.285Z"
   },
   {
    "duration": 1131,
    "start_time": "2022-03-02T20:32:21.301Z"
   },
   {
    "duration": 35,
    "start_time": "2022-03-02T20:32:22.435Z"
   },
   {
    "duration": 21,
    "start_time": "2022-03-02T20:32:22.473Z"
   },
   {
    "duration": 7,
    "start_time": "2022-03-02T20:32:22.498Z"
   },
   {
    "duration": 45,
    "start_time": "2022-03-02T20:32:22.509Z"
   },
   {
    "duration": 11,
    "start_time": "2022-03-02T20:32:22.557Z"
   },
   {
    "duration": 8,
    "start_time": "2022-03-02T20:32:22.571Z"
   },
   {
    "duration": 7,
    "start_time": "2022-03-02T20:32:22.582Z"
   },
   {
    "duration": 86,
    "start_time": "2022-03-02T20:32:22.591Z"
   },
   {
    "duration": 3,
    "start_time": "2022-03-02T20:32:22.680Z"
   },
   {
    "duration": 12,
    "start_time": "2022-03-02T20:32:22.686Z"
   },
   {
    "duration": 12,
    "start_time": "2022-03-02T20:32:22.701Z"
   },
   {
    "duration": 1095,
    "start_time": "2022-03-02T20:32:22.716Z"
   },
   {
    "duration": 13,
    "start_time": "2022-03-02T20:32:23.814Z"
   },
   {
    "duration": 1060,
    "start_time": "2022-03-02T20:32:23.830Z"
   },
   {
    "duration": 6,
    "start_time": "2022-03-02T20:32:24.893Z"
   },
   {
    "duration": 8,
    "start_time": "2022-03-02T20:32:24.902Z"
   },
   {
    "duration": 9,
    "start_time": "2022-03-02T20:32:24.912Z"
   },
   {
    "duration": 21,
    "start_time": "2022-03-02T20:32:24.950Z"
   },
   {
    "duration": 4,
    "start_time": "2022-03-02T20:32:24.974Z"
   },
   {
    "duration": 28,
    "start_time": "2022-03-02T20:32:24.980Z"
   },
   {
    "duration": 7,
    "start_time": "2022-03-02T20:32:25.011Z"
   },
   {
    "duration": 12,
    "start_time": "2022-03-02T20:32:25.052Z"
   },
   {
    "duration": 12,
    "start_time": "2022-03-02T20:32:25.067Z"
   },
   {
    "duration": 14,
    "start_time": "2022-03-02T20:32:25.081Z"
   },
   {
    "duration": 8,
    "start_time": "2022-03-02T20:32:25.097Z"
   },
   {
    "duration": 44,
    "start_time": "2022-03-02T20:32:25.107Z"
   },
   {
    "duration": 13,
    "start_time": "2022-03-02T20:32:25.153Z"
   },
   {
    "duration": 15,
    "start_time": "2022-03-02T20:32:25.169Z"
   },
   {
    "duration": 5,
    "start_time": "2022-03-02T20:32:25.186Z"
   },
   {
    "duration": 651,
    "start_time": "2022-03-02T20:32:25.194Z"
   },
   {
    "duration": 7,
    "start_time": "2022-03-02T20:32:25.851Z"
   },
   {
    "duration": 15,
    "start_time": "2022-03-02T20:32:25.861Z"
   },
   {
    "duration": 3,
    "start_time": "2022-03-02T20:32:25.878Z"
   },
   {
    "duration": 10,
    "start_time": "2022-03-02T20:32:25.884Z"
   },
   {
    "duration": 66,
    "start_time": "2022-03-02T20:32:25.896Z"
   },
   {
    "duration": 4,
    "start_time": "2022-03-02T20:32:25.964Z"
   },
   {
    "duration": 1125,
    "start_time": "2022-03-02T20:32:25.970Z"
   },
   {
    "duration": 7,
    "start_time": "2022-03-02T20:32:27.097Z"
   },
   {
    "duration": 8,
    "start_time": "2022-03-02T20:32:27.107Z"
   },
   {
    "duration": 38,
    "start_time": "2022-03-02T20:32:27.118Z"
   },
   {
    "duration": 13,
    "start_time": "2022-03-02T20:32:27.159Z"
   },
   {
    "duration": 3561,
    "start_time": "2022-03-02T20:32:27.175Z"
   },
   {
    "duration": 13,
    "start_time": "2022-03-02T20:32:30.738Z"
   },
   {
    "duration": 34,
    "start_time": "2022-03-02T20:32:30.753Z"
   },
   {
    "duration": 41,
    "start_time": "2022-03-02T20:32:30.789Z"
   },
   {
    "duration": 497,
    "start_time": "2022-03-02T20:32:30.833Z"
   },
   {
    "duration": 500,
    "start_time": "2022-03-02T20:32:31.332Z"
   },
   {
    "duration": 22,
    "start_time": "2022-03-02T20:32:31.834Z"
   },
   {
    "duration": 503,
    "start_time": "2022-03-02T20:32:31.858Z"
   },
   {
    "duration": 16,
    "start_time": "2022-03-02T20:32:32.365Z"
   },
   {
    "duration": 89,
    "start_time": "2022-03-02T20:32:32.384Z"
   },
   {
    "duration": 4,
    "start_time": "2022-03-02T20:32:32.476Z"
   },
   {
    "duration": 26,
    "start_time": "2022-03-02T20:32:32.482Z"
   },
   {
    "duration": 21,
    "start_time": "2022-03-02T20:32:32.511Z"
   },
   {
    "duration": 819,
    "start_time": "2022-03-02T20:32:32.535Z"
   },
   {
    "duration": 30,
    "start_time": "2022-03-02T20:32:33.356Z"
   },
   {
    "duration": 14,
    "start_time": "2022-03-02T20:32:33.388Z"
   },
   {
    "duration": 13,
    "start_time": "2022-03-02T20:32:33.404Z"
   },
   {
    "duration": 425,
    "start_time": "2022-03-02T20:32:33.420Z"
   },
   {
    "duration": 14,
    "start_time": "2022-03-02T20:32:33.851Z"
   },
   {
    "duration": 11,
    "start_time": "2022-03-02T20:32:33.868Z"
   },
   {
    "duration": 411,
    "start_time": "2022-03-02T20:32:33.882Z"
   },
   {
    "duration": 14,
    "start_time": "2022-03-02T20:32:34.302Z"
   },
   {
    "duration": 32,
    "start_time": "2022-03-02T20:32:34.319Z"
   },
   {
    "duration": 421,
    "start_time": "2022-03-02T20:32:34.354Z"
   },
   {
    "duration": 13,
    "start_time": "2022-03-02T20:32:34.777Z"
   },
   {
    "duration": 8,
    "start_time": "2022-03-02T20:32:34.792Z"
   },
   {
    "duration": 6,
    "start_time": "2022-03-02T20:32:34.802Z"
   },
   {
    "duration": 5,
    "start_time": "2022-03-02T20:32:34.810Z"
   },
   {
    "duration": 12,
    "start_time": "2022-03-02T20:32:34.817Z"
   },
   {
    "duration": 434,
    "start_time": "2022-03-02T20:32:34.832Z"
   },
   {
    "duration": 14,
    "start_time": "2022-03-02T20:32:35.269Z"
   },
   {
    "duration": 7,
    "start_time": "2022-03-02T20:32:35.285Z"
   },
   {
    "duration": 8,
    "start_time": "2022-03-02T20:32:35.294Z"
   },
   {
    "duration": 4,
    "start_time": "2022-03-02T20:32:35.304Z"
   },
   {
    "duration": 45,
    "start_time": "2022-03-02T20:32:35.311Z"
   },
   {
    "duration": 432,
    "start_time": "2022-03-02T20:32:35.358Z"
   },
   {
    "duration": 14,
    "start_time": "2022-03-02T20:32:35.793Z"
   },
   {
    "duration": 6,
    "start_time": "2022-03-02T20:32:35.810Z"
   },
   {
    "duration": 40,
    "start_time": "2022-03-02T20:32:35.819Z"
   },
   {
    "duration": 441,
    "start_time": "2022-03-02T20:32:35.862Z"
   },
   {
    "duration": 6,
    "start_time": "2022-03-02T20:32:36.306Z"
   },
   {
    "duration": 36,
    "start_time": "2022-03-02T20:32:36.315Z"
   },
   {
    "duration": 11,
    "start_time": "2022-03-02T20:32:36.353Z"
   },
   {
    "duration": 499,
    "start_time": "2022-03-02T20:32:36.366Z"
   },
   {
    "duration": 14,
    "start_time": "2022-03-02T20:32:36.868Z"
   },
   {
    "duration": 14,
    "start_time": "2022-03-02T20:32:36.885Z"
   },
   {
    "duration": 432,
    "start_time": "2022-03-02T20:32:36.901Z"
   },
   {
    "duration": 21,
    "start_time": "2022-03-02T20:32:37.335Z"
   },
   {
    "duration": 11,
    "start_time": "2022-03-02T20:32:37.359Z"
   },
   {
    "duration": 398,
    "start_time": "2022-03-02T20:32:37.372Z"
   },
   {
    "duration": 3,
    "start_time": "2022-03-02T20:32:37.773Z"
   },
   {
    "duration": 14,
    "start_time": "2022-03-02T20:32:37.778Z"
   },
   {
    "duration": 8,
    "start_time": "2022-03-02T20:32:37.794Z"
   },
   {
    "duration": 9,
    "start_time": "2022-03-02T20:32:37.805Z"
   },
   {
    "duration": 35,
    "start_time": "2022-03-02T20:32:37.816Z"
   },
   {
    "duration": 5,
    "start_time": "2022-03-02T20:32:37.855Z"
   },
   {
    "duration": 6,
    "start_time": "2022-03-02T20:32:37.862Z"
   },
   {
    "duration": 14,
    "start_time": "2022-03-02T20:32:37.870Z"
   },
   {
    "duration": 6,
    "start_time": "2022-03-02T20:32:37.887Z"
   },
   {
    "duration": 7,
    "start_time": "2022-03-02T20:32:37.896Z"
   },
   {
    "duration": 47,
    "start_time": "2022-03-02T20:32:37.905Z"
   },
   {
    "duration": 7,
    "start_time": "2022-03-02T20:32:37.955Z"
   },
   {
    "duration": 81,
    "start_time": "2022-03-02T20:44:17.660Z"
   },
   {
    "duration": 67,
    "start_time": "2022-03-02T20:47:06.203Z"
   },
   {
    "duration": 33,
    "start_time": "2022-03-02T20:51:40.604Z"
   },
   {
    "duration": 11,
    "start_time": "2022-03-02T20:51:54.741Z"
   },
   {
    "duration": 8,
    "start_time": "2022-03-02T20:52:15.293Z"
   },
   {
    "duration": 8,
    "start_time": "2022-03-02T20:52:42.873Z"
   },
   {
    "duration": 10,
    "start_time": "2022-03-02T20:52:55.047Z"
   },
   {
    "duration": 341,
    "start_time": "2022-03-02T20:53:54.483Z"
   },
   {
    "duration": 226,
    "start_time": "2022-03-02T20:54:19.571Z"
   },
   {
    "duration": 223,
    "start_time": "2022-03-02T20:54:26.196Z"
   },
   {
    "duration": 10,
    "start_time": "2022-03-02T20:54:31.635Z"
   },
   {
    "duration": 232,
    "start_time": "2022-03-02T20:55:14.060Z"
   },
   {
    "duration": 11,
    "start_time": "2022-03-02T20:55:28.254Z"
   },
   {
    "duration": 10,
    "start_time": "2022-03-02T20:56:05.711Z"
   },
   {
    "duration": 12,
    "start_time": "2022-03-02T20:56:15.127Z"
   },
   {
    "duration": 12,
    "start_time": "2022-03-02T20:56:36.431Z"
   },
   {
    "duration": 20,
    "start_time": "2022-03-02T20:57:05.176Z"
   },
   {
    "duration": 13,
    "start_time": "2022-03-02T20:57:31.929Z"
   },
   {
    "duration": 11,
    "start_time": "2022-03-02T20:59:16.350Z"
   },
   {
    "duration": 94,
    "start_time": "2022-03-02T21:00:17.311Z"
   },
   {
    "duration": 37,
    "start_time": "2022-03-02T21:00:43.128Z"
   },
   {
    "duration": 88,
    "start_time": "2022-03-02T21:02:17.132Z"
   },
   {
    "duration": 11,
    "start_time": "2022-03-02T21:05:15.809Z"
   },
   {
    "duration": 91,
    "start_time": "2022-03-02T21:10:17.991Z"
   },
   {
    "duration": 1431,
    "start_time": "2022-03-02T21:11:55.973Z"
   },
   {
    "duration": 44,
    "start_time": "2022-03-02T21:11:57.407Z"
   },
   {
    "duration": 27,
    "start_time": "2022-03-02T21:11:57.454Z"
   },
   {
    "duration": 15,
    "start_time": "2022-03-02T21:11:57.483Z"
   },
   {
    "duration": 1088,
    "start_time": "2022-03-02T21:11:57.500Z"
   },
   {
    "duration": 27,
    "start_time": "2022-03-02T21:11:58.591Z"
   },
   {
    "duration": 36,
    "start_time": "2022-03-02T21:11:58.621Z"
   },
   {
    "duration": 8,
    "start_time": "2022-03-02T21:11:58.659Z"
   },
   {
    "duration": 6,
    "start_time": "2022-03-02T21:11:58.672Z"
   },
   {
    "duration": 6,
    "start_time": "2022-03-02T21:11:58.681Z"
   },
   {
    "duration": 6,
    "start_time": "2022-03-02T21:11:58.689Z"
   },
   {
    "duration": 55,
    "start_time": "2022-03-02T21:11:58.697Z"
   },
   {
    "duration": 45,
    "start_time": "2022-03-02T21:11:58.755Z"
   },
   {
    "duration": 4,
    "start_time": "2022-03-02T21:11:58.802Z"
   },
   {
    "duration": 9,
    "start_time": "2022-03-02T21:11:58.808Z"
   },
   {
    "duration": 32,
    "start_time": "2022-03-02T21:11:58.820Z"
   },
   {
    "duration": 1054,
    "start_time": "2022-03-02T21:11:58.855Z"
   },
   {
    "duration": 11,
    "start_time": "2022-03-02T21:11:59.911Z"
   },
   {
    "duration": 1085,
    "start_time": "2022-03-02T21:11:59.924Z"
   },
   {
    "duration": 6,
    "start_time": "2022-03-02T21:12:01.011Z"
   },
   {
    "duration": 26,
    "start_time": "2022-03-02T21:12:01.019Z"
   },
   {
    "duration": 11,
    "start_time": "2022-03-02T21:12:01.048Z"
   },
   {
    "duration": 31,
    "start_time": "2022-03-02T21:12:01.062Z"
   },
   {
    "duration": 4,
    "start_time": "2022-03-02T21:12:01.096Z"
   },
   {
    "duration": 49,
    "start_time": "2022-03-02T21:12:01.102Z"
   },
   {
    "duration": 7,
    "start_time": "2022-03-02T21:12:01.153Z"
   },
   {
    "duration": 11,
    "start_time": "2022-03-02T21:12:01.168Z"
   },
   {
    "duration": 13,
    "start_time": "2022-03-02T21:12:01.184Z"
   },
   {
    "duration": 25,
    "start_time": "2022-03-02T21:12:01.200Z"
   },
   {
    "duration": 31,
    "start_time": "2022-03-02T21:12:01.227Z"
   },
   {
    "duration": 20,
    "start_time": "2022-03-02T21:12:01.261Z"
   },
   {
    "duration": 36,
    "start_time": "2022-03-02T21:12:01.284Z"
   },
   {
    "duration": 36,
    "start_time": "2022-03-02T21:12:01.323Z"
   },
   {
    "duration": 6,
    "start_time": "2022-03-02T21:12:01.361Z"
   },
   {
    "duration": 643,
    "start_time": "2022-03-02T21:12:01.369Z"
   },
   {
    "duration": 7,
    "start_time": "2022-03-02T21:12:02.015Z"
   },
   {
    "duration": 37,
    "start_time": "2022-03-02T21:12:02.025Z"
   },
   {
    "duration": 4,
    "start_time": "2022-03-02T21:12:02.064Z"
   },
   {
    "duration": 13,
    "start_time": "2022-03-02T21:12:02.070Z"
   },
   {
    "duration": 24,
    "start_time": "2022-03-02T21:12:02.085Z"
   },
   {
    "duration": 5,
    "start_time": "2022-03-02T21:12:02.112Z"
   },
   {
    "duration": 1168,
    "start_time": "2022-03-02T21:12:02.151Z"
   },
   {
    "duration": 9,
    "start_time": "2022-03-02T21:12:03.322Z"
   },
   {
    "duration": 21,
    "start_time": "2022-03-02T21:12:03.333Z"
   },
   {
    "duration": 20,
    "start_time": "2022-03-02T21:12:03.357Z"
   },
   {
    "duration": 14,
    "start_time": "2022-03-02T21:12:03.380Z"
   },
   {
    "duration": 3560,
    "start_time": "2022-03-02T21:12:03.396Z"
   },
   {
    "duration": 4,
    "start_time": "2022-03-02T21:12:06.958Z"
   },
   {
    "duration": 12,
    "start_time": "2022-03-02T21:12:06.965Z"
   },
   {
    "duration": 32,
    "start_time": "2022-03-02T21:12:06.979Z"
   },
   {
    "duration": 517,
    "start_time": "2022-03-02T21:12:07.014Z"
   },
   {
    "duration": 493,
    "start_time": "2022-03-02T21:12:07.534Z"
   },
   {
    "duration": 23,
    "start_time": "2022-03-02T21:12:08.030Z"
   },
   {
    "duration": 482,
    "start_time": "2022-03-02T21:12:08.056Z"
   },
   {
    "duration": 20,
    "start_time": "2022-03-02T21:12:08.542Z"
   },
   {
    "duration": 93,
    "start_time": "2022-03-02T21:12:08.566Z"
   },
   {
    "duration": 4,
    "start_time": "2022-03-02T21:12:08.662Z"
   },
   {
    "duration": 12,
    "start_time": "2022-03-02T21:12:08.669Z"
   },
   {
    "duration": 8,
    "start_time": "2022-03-02T21:12:08.684Z"
   },
   {
    "duration": 859,
    "start_time": "2022-03-02T21:12:08.695Z"
   },
   {
    "duration": 31,
    "start_time": "2022-03-02T21:12:09.556Z"
   },
   {
    "duration": 18,
    "start_time": "2022-03-02T21:12:09.590Z"
   },
   {
    "duration": 15,
    "start_time": "2022-03-02T21:12:09.611Z"
   },
   {
    "duration": 412,
    "start_time": "2022-03-02T21:12:09.652Z"
   },
   {
    "duration": 16,
    "start_time": "2022-03-02T21:12:10.066Z"
   },
   {
    "duration": 17,
    "start_time": "2022-03-02T21:12:10.085Z"
   },
   {
    "duration": 423,
    "start_time": "2022-03-02T21:12:10.105Z"
   },
   {
    "duration": 21,
    "start_time": "2022-03-02T21:12:10.530Z"
   },
   {
    "duration": 9,
    "start_time": "2022-03-02T21:12:10.553Z"
   },
   {
    "duration": 405,
    "start_time": "2022-03-02T21:12:10.565Z"
   },
   {
    "duration": 13,
    "start_time": "2022-03-02T21:12:10.973Z"
   },
   {
    "duration": 6,
    "start_time": "2022-03-02T21:12:10.989Z"
   },
   {
    "duration": 6,
    "start_time": "2022-03-02T21:12:10.997Z"
   },
   {
    "duration": 7,
    "start_time": "2022-03-02T21:12:11.005Z"
   },
   {
    "duration": 42,
    "start_time": "2022-03-02T21:12:11.014Z"
   },
   {
    "duration": 425,
    "start_time": "2022-03-02T21:12:11.058Z"
   },
   {
    "duration": 14,
    "start_time": "2022-03-02T21:12:11.486Z"
   },
   {
    "duration": 6,
    "start_time": "2022-03-02T21:12:11.503Z"
   },
   {
    "duration": 6,
    "start_time": "2022-03-02T21:12:11.511Z"
   },
   {
    "duration": 32,
    "start_time": "2022-03-02T21:12:11.519Z"
   },
   {
    "duration": 12,
    "start_time": "2022-03-02T21:12:11.561Z"
   },
   {
    "duration": 432,
    "start_time": "2022-03-02T21:12:11.576Z"
   },
   {
    "duration": 14,
    "start_time": "2022-03-02T21:12:12.010Z"
   },
   {
    "duration": 26,
    "start_time": "2022-03-02T21:12:12.027Z"
   },
   {
    "duration": 15,
    "start_time": "2022-03-02T21:12:12.056Z"
   },
   {
    "duration": 446,
    "start_time": "2022-03-02T21:12:12.074Z"
   },
   {
    "duration": 6,
    "start_time": "2022-03-02T21:12:12.523Z"
   },
   {
    "duration": 30,
    "start_time": "2022-03-02T21:12:12.531Z"
   },
   {
    "duration": 10,
    "start_time": "2022-03-02T21:12:12.564Z"
   },
   {
    "duration": 498,
    "start_time": "2022-03-02T21:12:12.577Z"
   },
   {
    "duration": 14,
    "start_time": "2022-03-02T21:12:13.077Z"
   },
   {
    "duration": 12,
    "start_time": "2022-03-02T21:12:13.093Z"
   },
   {
    "duration": 425,
    "start_time": "2022-03-02T21:12:13.107Z"
   },
   {
    "duration": 27,
    "start_time": "2022-03-02T21:12:13.535Z"
   },
   {
    "duration": 13,
    "start_time": "2022-03-02T21:12:13.565Z"
   },
   {
    "duration": 430,
    "start_time": "2022-03-02T21:12:13.582Z"
   },
   {
    "duration": 12,
    "start_time": "2022-03-02T21:12:14.014Z"
   },
   {
    "duration": 28,
    "start_time": "2022-03-02T21:12:14.029Z"
   },
   {
    "duration": 4,
    "start_time": "2022-03-02T21:12:14.059Z"
   },
   {
    "duration": 10,
    "start_time": "2022-03-02T21:12:14.065Z"
   },
   {
    "duration": 8,
    "start_time": "2022-03-02T21:12:14.078Z"
   },
   {
    "duration": 8,
    "start_time": "2022-03-02T21:12:14.088Z"
   },
   {
    "duration": 7,
    "start_time": "2022-03-02T21:12:14.098Z"
   },
   {
    "duration": 47,
    "start_time": "2022-03-02T21:12:14.107Z"
   },
   {
    "duration": 5,
    "start_time": "2022-03-02T21:12:14.156Z"
   },
   {
    "duration": 10,
    "start_time": "2022-03-02T21:12:14.164Z"
   },
   {
    "duration": 7,
    "start_time": "2022-03-02T21:12:14.177Z"
   },
   {
    "duration": 7,
    "start_time": "2022-03-02T21:12:14.187Z"
   },
   {
    "duration": 55,
    "start_time": "2022-03-02T21:12:14.196Z"
   },
   {
    "duration": 7,
    "start_time": "2022-03-02T21:12:14.254Z"
   },
   {
    "duration": 10,
    "start_time": "2022-03-02T21:12:14.263Z"
   },
   {
    "duration": 1490,
    "start_time": "2022-03-04T07:20:53.602Z"
   },
   {
    "duration": 41,
    "start_time": "2022-03-04T07:20:56.170Z"
   },
   {
    "duration": 27,
    "start_time": "2022-03-04T07:20:57.456Z"
   },
   {
    "duration": 16,
    "start_time": "2022-03-04T07:20:58.231Z"
   },
   {
    "duration": 1108,
    "start_time": "2022-03-04T07:20:59.430Z"
   },
   {
    "duration": 408,
    "start_time": "2022-03-04T07:21:02.765Z"
   },
   {
    "duration": 82,
    "start_time": "2022-03-04T07:21:28.243Z"
   },
   {
    "duration": 1084,
    "start_time": "2022-03-04T07:21:40.536Z"
   },
   {
    "duration": 1220,
    "start_time": "2022-03-04T07:22:01.086Z"
   },
   {
    "duration": 418,
    "start_time": "2022-03-04T07:23:17.005Z"
   },
   {
    "duration": 18,
    "start_time": "2022-03-04T07:25:28.764Z"
   },
   {
    "duration": 30,
    "start_time": "2022-03-04T07:25:40.080Z"
   },
   {
    "duration": 21,
    "start_time": "2022-03-04T07:25:56.502Z"
   },
   {
    "duration": 6862,
    "start_time": "2022-03-04T07:28:43.832Z"
   },
   {
    "duration": 27,
    "start_time": "2022-03-04T07:29:07.674Z"
   },
   {
    "duration": 22,
    "start_time": "2022-03-04T07:29:08.744Z"
   },
   {
    "duration": 8,
    "start_time": "2022-03-04T07:29:10.995Z"
   },
   {
    "duration": 7,
    "start_time": "2022-03-04T07:29:12.518Z"
   },
   {
    "duration": 8,
    "start_time": "2022-03-04T07:29:13.711Z"
   },
   {
    "duration": 8,
    "start_time": "2022-03-04T07:29:14.612Z"
   },
   {
    "duration": 7,
    "start_time": "2022-03-04T07:29:16.729Z"
   },
   {
    "duration": 43,
    "start_time": "2022-03-04T07:29:18.727Z"
   },
   {
    "duration": 5,
    "start_time": "2022-03-04T07:29:22.904Z"
   },
   {
    "duration": 32,
    "start_time": "2022-03-04T07:29:24.762Z"
   },
   {
    "duration": 11,
    "start_time": "2022-03-04T08:12:12.835Z"
   },
   {
    "duration": 1139,
    "start_time": "2022-03-04T08:12:13.853Z"
   },
   {
    "duration": 85,
    "start_time": "2022-03-04T08:12:17.706Z"
   },
   {
    "duration": 7,
    "start_time": "2022-03-04T08:12:25.944Z"
   },
   {
    "duration": 27,
    "start_time": "2022-03-04T08:12:26.614Z"
   },
   {
    "duration": 6,
    "start_time": "2022-03-04T08:12:27.585Z"
   },
   {
    "duration": 29,
    "start_time": "2022-03-04T08:12:28.177Z"
   },
   {
    "duration": 291,
    "start_time": "2022-03-04T08:12:29.035Z"
   },
   {
    "duration": 267,
    "start_time": "2022-03-04T08:12:29.564Z"
   },
   {
    "duration": 9,
    "start_time": "2022-03-04T08:12:30.057Z"
   },
   {
    "duration": 14,
    "start_time": "2022-03-04T08:12:30.469Z"
   },
   {
    "duration": 77,
    "start_time": "2022-03-04T08:13:11.397Z"
   },
   {
    "duration": 14,
    "start_time": "2022-03-04T08:15:33.851Z"
   },
   {
    "duration": 13,
    "start_time": "2022-03-04T08:18:27.669Z"
   },
   {
    "duration": 8,
    "start_time": "2022-03-04T08:20:55.201Z"
   },
   {
    "duration": 12,
    "start_time": "2022-03-04T08:20:58.958Z"
   },
   {
    "duration": 5,
    "start_time": "2022-03-04T08:21:17.311Z"
   },
   {
    "duration": 30,
    "start_time": "2022-03-04T08:21:18.345Z"
   },
   {
    "duration": 12,
    "start_time": "2022-03-04T08:21:27.167Z"
   },
   {
    "duration": 14,
    "start_time": "2022-03-04T08:21:28.650Z"
   },
   {
    "duration": 1075,
    "start_time": "2022-03-04T08:21:29.378Z"
   },
   {
    "duration": 11,
    "start_time": "2022-03-04T08:21:31.931Z"
   },
   {
    "duration": 961,
    "start_time": "2022-03-04T08:21:32.945Z"
   },
   {
    "duration": 7,
    "start_time": "2022-03-04T08:21:35.577Z"
   },
   {
    "duration": 21,
    "start_time": "2022-03-04T08:21:36.268Z"
   },
   {
    "duration": 5,
    "start_time": "2022-03-04T08:21:37.055Z"
   },
   {
    "duration": 29,
    "start_time": "2022-03-04T08:21:37.928Z"
   },
   {
    "duration": 5,
    "start_time": "2022-03-04T08:21:39.701Z"
   },
   {
    "duration": 325,
    "start_time": "2022-03-04T08:21:41.085Z"
   },
   {
    "duration": 4,
    "start_time": "2022-03-04T08:21:54.492Z"
   },
   {
    "duration": 40,
    "start_time": "2022-03-04T08:21:55.423Z"
   },
   {
    "duration": 22,
    "start_time": "2022-03-04T08:21:56.608Z"
   },
   {
    "duration": 14,
    "start_time": "2022-03-04T08:21:57.266Z"
   },
   {
    "duration": 1094,
    "start_time": "2022-03-04T08:21:57.799Z"
   },
   {
    "duration": 13,
    "start_time": "2022-03-04T08:21:58.895Z"
   },
   {
    "duration": 27,
    "start_time": "2022-03-04T08:21:59.022Z"
   },
   {
    "duration": 23,
    "start_time": "2022-03-04T08:21:59.481Z"
   },
   {
    "duration": 6,
    "start_time": "2022-03-04T08:22:00.353Z"
   },
   {
    "duration": 7,
    "start_time": "2022-03-04T08:22:01.011Z"
   },
   {
    "duration": 7,
    "start_time": "2022-03-04T08:22:01.415Z"
   },
   {
    "duration": 7,
    "start_time": "2022-03-04T08:22:01.826Z"
   },
   {
    "duration": 6,
    "start_time": "2022-03-04T08:22:02.395Z"
   },
   {
    "duration": 5901,
    "start_time": "2022-03-04T08:22:04.620Z"
   },
   {
    "duration": -36,
    "start_time": "2022-03-04T08:22:10.561Z"
   },
   {
    "duration": -38,
    "start_time": "2022-03-04T08:22:10.565Z"
   },
   {
    "duration": -39,
    "start_time": "2022-03-04T08:22:10.568Z"
   },
   {
    "duration": -40,
    "start_time": "2022-03-04T08:22:10.571Z"
   },
   {
    "duration": -41,
    "start_time": "2022-03-04T08:22:10.574Z"
   },
   {
    "duration": -42,
    "start_time": "2022-03-04T08:22:10.577Z"
   },
   {
    "duration": -43,
    "start_time": "2022-03-04T08:22:10.580Z"
   },
   {
    "duration": -65,
    "start_time": "2022-03-04T08:22:10.605Z"
   },
   {
    "duration": -65,
    "start_time": "2022-03-04T08:22:10.607Z"
   },
   {
    "duration": 7,
    "start_time": "2022-03-04T08:22:12.302Z"
   },
   {
    "duration": 282,
    "start_time": "2022-03-04T08:22:13.747Z"
   },
   {
    "duration": 249,
    "start_time": "2022-03-04T08:23:10.932Z"
   },
   {
    "duration": 12,
    "start_time": "2022-03-04T08:23:59.254Z"
   },
   {
    "duration": 4,
    "start_time": "2022-03-04T08:24:07.479Z"
   },
   {
    "duration": 9,
    "start_time": "2022-03-04T08:24:36.448Z"
   },
   {
    "duration": 59,
    "start_time": "2022-03-04T08:24:38.064Z"
   },
   {
    "duration": 5,
    "start_time": "2022-03-04T08:24:41.610Z"
   },
   {
    "duration": 31,
    "start_time": "2022-03-04T08:24:43.060Z"
   },
   {
    "duration": 8,
    "start_time": "2022-03-04T08:24:44.258Z"
   },
   {
    "duration": 9,
    "start_time": "2022-03-04T08:24:45.970Z"
   },
   {
    "duration": 662,
    "start_time": "2022-03-04T08:24:46.746Z"
   },
   {
    "duration": 10,
    "start_time": "2022-03-04T08:24:47.844Z"
   },
   {
    "duration": 605,
    "start_time": "2022-03-04T08:24:48.748Z"
   },
   {
    "duration": 248,
    "start_time": "2022-03-04T08:24:51.547Z"
   },
   {
    "duration": 20,
    "start_time": "2022-03-04T08:24:52.859Z"
   },
   {
    "duration": 4,
    "start_time": "2022-03-04T08:25:04.897Z"
   },
   {
    "duration": 29,
    "start_time": "2022-03-04T08:25:07.066Z"
   },
   {
    "duration": 6,
    "start_time": "2022-03-04T08:25:14.935Z"
   },
   {
    "duration": 253,
    "start_time": "2022-03-04T08:25:16.911Z"
   },
   {
    "duration": 5,
    "start_time": "2022-03-04T08:28:42.364Z"
   },
   {
    "duration": 338,
    "start_time": "2022-03-04T08:31:06.323Z"
   },
   {
    "duration": 19,
    "start_time": "2022-03-04T08:31:13.299Z"
   },
   {
    "duration": 5,
    "start_time": "2022-03-04T08:31:14.316Z"
   },
   {
    "duration": 29,
    "start_time": "2022-03-04T08:31:14.996Z"
   },
   {
    "duration": 4,
    "start_time": "2022-03-04T08:31:16.202Z"
   },
   {
    "duration": 6,
    "start_time": "2022-03-04T08:31:17.096Z"
   },
   {
    "duration": 8,
    "start_time": "2022-03-04T08:31:19.807Z"
   },
   {
    "duration": 20,
    "start_time": "2022-03-04T08:31:20.982Z"
   },
   {
    "duration": 10,
    "start_time": "2022-03-04T08:31:23.503Z"
   },
   {
    "duration": 19,
    "start_time": "2022-03-04T08:31:26.296Z"
   },
   {
    "duration": 4,
    "start_time": "2022-03-04T08:45:39.651Z"
   },
   {
    "duration": 442,
    "start_time": "2022-03-04T08:47:02.630Z"
   },
   {
    "duration": 20,
    "start_time": "2022-03-04T08:47:25.886Z"
   },
   {
    "duration": 12,
    "start_time": "2022-03-04T08:47:28.530Z"
   },
   {
    "duration": 14,
    "start_time": "2022-03-04T08:47:30.873Z"
   },
   {
    "duration": 6,
    "start_time": "2022-03-04T08:47:31.471Z"
   },
   {
    "duration": 514,
    "start_time": "2022-03-04T08:47:31.985Z"
   },
   {
    "duration": 8,
    "start_time": "2022-03-04T08:47:34.158Z"
   },
   {
    "duration": 17,
    "start_time": "2022-03-04T08:47:35.424Z"
   },
   {
    "duration": 4,
    "start_time": "2022-03-04T08:47:36.201Z"
   },
   {
    "duration": 11,
    "start_time": "2022-03-04T08:47:37.333Z"
   },
   {
    "duration": 22,
    "start_time": "2022-03-04T08:47:38.237Z"
   },
   {
    "duration": 5,
    "start_time": "2022-03-04T08:47:39.523Z"
   },
   {
    "duration": 1119,
    "start_time": "2022-03-04T08:47:40.604Z"
   },
   {
    "duration": 8,
    "start_time": "2022-03-04T08:47:43.373Z"
   },
   {
    "duration": 4,
    "start_time": "2022-03-04T08:47:44.205Z"
   },
   {
    "duration": 17,
    "start_time": "2022-03-04T08:47:44.695Z"
   },
   {
    "duration": 15,
    "start_time": "2022-03-04T08:47:45.158Z"
   },
   {
    "duration": 3478,
    "start_time": "2022-03-04T08:47:45.707Z"
   },
   {
    "duration": 4,
    "start_time": "2022-03-04T08:47:49.187Z"
   },
   {
    "duration": 8,
    "start_time": "2022-03-04T08:47:52.259Z"
   },
   {
    "duration": 30,
    "start_time": "2022-03-04T08:47:53.325Z"
   },
   {
    "duration": 379,
    "start_time": "2022-03-04T08:47:54.220Z"
   },
   {
    "duration": 248,
    "start_time": "2022-03-04T08:49:00.961Z"
   },
   {
    "duration": 239,
    "start_time": "2022-03-04T08:50:10.642Z"
   },
   {
    "duration": 31,
    "start_time": "2022-03-04T08:50:26.791Z"
   },
   {
    "duration": 16495,
    "start_time": "2022-03-04T08:50:43.848Z"
   },
   {
    "duration": 16,
    "start_time": "2022-03-04T08:51:46.209Z"
   },
   {
    "duration": 4,
    "start_time": "2022-03-04T08:51:46.831Z"
   },
   {
    "duration": 10,
    "start_time": "2022-03-04T08:51:47.979Z"
   },
   {
    "duration": 23,
    "start_time": "2022-03-04T08:51:49.126Z"
   },
   {
    "duration": 5,
    "start_time": "2022-03-04T08:51:54.432Z"
   },
   {
    "duration": 682,
    "start_time": "2022-03-04T08:51:55.336Z"
   },
   {
    "duration": 16,
    "start_time": "2022-03-04T08:52:11.371Z"
   },
   {
    "duration": 5,
    "start_time": "2022-03-04T08:52:12.125Z"
   },
   {
    "duration": 502,
    "start_time": "2022-03-04T08:52:12.902Z"
   },
   {
    "duration": 8,
    "start_time": "2022-03-04T08:52:14.131Z"
   },
   {
    "duration": 17,
    "start_time": "2022-03-04T08:52:15.267Z"
   },
   {
    "duration": 6,
    "start_time": "2022-03-04T08:52:15.624Z"
   },
   {
    "duration": 11,
    "start_time": "2022-03-04T08:52:16.425Z"
   },
   {
    "duration": 21,
    "start_time": "2022-03-04T08:52:17.210Z"
   },
   {
    "duration": 4,
    "start_time": "2022-03-04T08:52:18.086Z"
   },
   {
    "duration": 1381,
    "start_time": "2022-03-04T08:52:19.433Z"
   },
   {
    "duration": 8,
    "start_time": "2022-03-04T08:52:27.382Z"
   },
   {
    "duration": 5,
    "start_time": "2022-03-04T08:52:28.433Z"
   },
   {
    "duration": 18,
    "start_time": "2022-03-04T08:52:30.749Z"
   },
   {
    "duration": 15,
    "start_time": "2022-03-04T08:52:32.244Z"
   },
   {
    "duration": 3877,
    "start_time": "2022-03-04T08:52:33.020Z"
   },
   {
    "duration": 261,
    "start_time": "2022-03-04T08:54:51.861Z"
   },
   {
    "duration": 8,
    "start_time": "2022-03-04T08:56:35.441Z"
   },
   {
    "duration": 9,
    "start_time": "2022-03-04T08:57:55.638Z"
   },
   {
    "duration": 9,
    "start_time": "2022-03-04T08:58:07.223Z"
   },
   {
    "duration": 9,
    "start_time": "2022-03-04T08:58:39.486Z"
   },
   {
    "duration": 21,
    "start_time": "2022-03-04T08:58:40.884Z"
   },
   {
    "duration": 4,
    "start_time": "2022-03-04T08:58:41.514Z"
   },
   {
    "duration": 11,
    "start_time": "2022-03-04T08:58:42.577Z"
   },
   {
    "duration": 26,
    "start_time": "2022-03-04T08:58:43.828Z"
   },
   {
    "duration": 4,
    "start_time": "2022-03-04T08:58:45.076Z"
   },
   {
    "duration": 1182,
    "start_time": "2022-03-04T08:58:46.492Z"
   },
   {
    "duration": 8,
    "start_time": "2022-03-04T08:58:49.355Z"
   },
   {
    "duration": 4,
    "start_time": "2022-03-04T08:58:50.547Z"
   },
   {
    "duration": 19,
    "start_time": "2022-03-04T08:58:51.200Z"
   },
   {
    "duration": 15,
    "start_time": "2022-03-04T08:58:51.920Z"
   },
   {
    "duration": 3949,
    "start_time": "2022-03-04T08:58:55.244Z"
   },
   {
    "duration": 6,
    "start_time": "2022-03-04T08:58:59.196Z"
   },
   {
    "duration": 11,
    "start_time": "2022-03-04T08:59:02.704Z"
   },
   {
    "duration": 32,
    "start_time": "2022-03-04T08:59:03.503Z"
   },
   {
    "duration": 404,
    "start_time": "2022-03-04T08:59:05.700Z"
   },
   {
    "duration": 9,
    "start_time": "2022-03-04T08:59:12.346Z"
   },
   {
    "duration": 13,
    "start_time": "2022-03-04T08:59:14.331Z"
   },
   {
    "duration": 15,
    "start_time": "2022-03-04T09:02:01.248Z"
   },
   {
    "duration": 327,
    "start_time": "2022-03-04T09:02:25.598Z"
   },
   {
    "duration": 8,
    "start_time": "2022-03-04T09:06:45.014Z"
   },
   {
    "duration": 6,
    "start_time": "2022-03-04T09:06:49.802Z"
   },
   {
    "duration": 13,
    "start_time": "2022-03-04T09:06:50.457Z"
   },
   {
    "duration": 236,
    "start_time": "2022-03-04T09:07:24.219Z"
   },
   {
    "duration": 252,
    "start_time": "2022-03-04T09:08:11.304Z"
   },
   {
    "duration": 245,
    "start_time": "2022-03-04T09:09:28.758Z"
   },
   {
    "duration": 260,
    "start_time": "2022-03-04T09:10:12.780Z"
   },
   {
    "duration": 9326,
    "start_time": "2022-03-04T09:10:28.480Z"
   },
   {
    "duration": 6426,
    "start_time": "2022-03-04T09:12:09.610Z"
   },
   {
    "duration": 626,
    "start_time": "2022-03-04T09:12:44.686Z"
   },
   {
    "duration": 910,
    "start_time": "2022-03-04T09:12:54.334Z"
   },
   {
    "duration": 6,
    "start_time": "2022-03-04T09:17:52.816Z"
   },
   {
    "duration": 16,
    "start_time": "2022-03-04T09:17:53.163Z"
   },
   {
    "duration": 271,
    "start_time": "2022-03-04T09:18:45.834Z"
   },
   {
    "duration": 26793,
    "start_time": "2022-03-04T09:19:06.057Z"
   },
   {
    "duration": 292,
    "start_time": "2022-03-04T09:20:06.836Z"
   },
   {
    "duration": 6462,
    "start_time": "2022-03-04T09:23:33.091Z"
   },
   {
    "duration": 2265,
    "start_time": "2022-03-04T09:24:29.263Z"
   },
   {
    "duration": 2173,
    "start_time": "2022-03-04T09:25:26.802Z"
   },
   {
    "duration": 2254,
    "start_time": "2022-03-04T09:26:12.945Z"
   },
   {
    "duration": 2468,
    "start_time": "2022-03-04T09:26:33.894Z"
   },
   {
    "duration": 538,
    "start_time": "2022-03-04T09:28:35.864Z"
   },
   {
    "duration": 8163,
    "start_time": "2022-03-04T09:30:17.460Z"
   },
   {
    "duration": 335,
    "start_time": "2022-03-04T09:31:12.968Z"
   },
   {
    "duration": 248,
    "start_time": "2022-03-04T09:45:52.958Z"
   },
   {
    "duration": 405,
    "start_time": "2022-03-04T09:46:34.619Z"
   },
   {
    "duration": 3343,
    "start_time": "2022-03-04T09:46:50.175Z"
   },
   {
    "duration": 959,
    "start_time": "2022-03-04T09:47:01.956Z"
   },
   {
    "duration": 1777,
    "start_time": "2022-03-04T09:48:05.089Z"
   },
   {
    "duration": 780,
    "start_time": "2022-03-04T09:48:26.046Z"
   },
   {
    "duration": 836,
    "start_time": "2022-03-04T09:48:50.308Z"
   },
   {
    "duration": 537,
    "start_time": "2022-03-04T09:49:04.220Z"
   },
   {
    "duration": 690,
    "start_time": "2022-03-04T09:51:59.410Z"
   },
   {
    "duration": 85,
    "start_time": "2022-03-04T09:55:21.574Z"
   },
   {
    "duration": 2139,
    "start_time": "2022-03-04T09:55:30.110Z"
   },
   {
    "duration": 2153,
    "start_time": "2022-03-04T09:56:45.782Z"
   },
   {
    "duration": 2139,
    "start_time": "2022-03-04T09:56:50.932Z"
   },
   {
    "duration": 2220,
    "start_time": "2022-03-04T09:58:12.767Z"
   },
   {
    "duration": 2200,
    "start_time": "2022-03-04T09:58:19.588Z"
   },
   {
    "duration": 2216,
    "start_time": "2022-03-04T09:58:32.632Z"
   },
   {
    "duration": 2608,
    "start_time": "2022-03-04T09:59:20.311Z"
   },
   {
    "duration": 2472,
    "start_time": "2022-03-04T09:59:32.280Z"
   },
   {
    "duration": 1867,
    "start_time": "2022-03-04T09:59:48.685Z"
   },
   {
    "duration": 6,
    "start_time": "2022-03-04T10:01:54.204Z"
   },
   {
    "duration": 15,
    "start_time": "2022-03-04T10:01:55.218Z"
   },
   {
    "duration": 1846,
    "start_time": "2022-03-04T10:02:16.936Z"
   },
   {
    "duration": 844,
    "start_time": "2022-03-04T10:36:29.788Z"
   },
   {
    "duration": 486,
    "start_time": "2022-03-04T10:36:43.246Z"
   },
   {
    "duration": 14,
    "start_time": "2022-03-04T10:36:43.736Z"
   },
   {
    "duration": 484,
    "start_time": "2022-03-04T10:36:44.482Z"
   },
   {
    "duration": 20,
    "start_time": "2022-03-04T10:36:44.969Z"
   },
   {
    "duration": 60,
    "start_time": "2022-03-04T10:36:45.610Z"
   },
   {
    "duration": 3,
    "start_time": "2022-03-04T10:36:46.567Z"
   },
   {
    "duration": 10,
    "start_time": "2022-03-04T10:36:46.788Z"
   },
   {
    "duration": 9,
    "start_time": "2022-03-04T10:36:47.520Z"
   },
   {
    "duration": 831,
    "start_time": "2022-03-04T10:36:48.323Z"
   },
   {
    "duration": 31,
    "start_time": "2022-03-04T10:37:16.712Z"
   },
   {
    "duration": 14,
    "start_time": "2022-03-04T10:37:17.635Z"
   },
   {
    "duration": 10,
    "start_time": "2022-03-04T10:37:19.190Z"
   },
   {
    "duration": 398,
    "start_time": "2022-03-04T10:37:20.428Z"
   },
   {
    "duration": 15,
    "start_time": "2022-03-04T10:37:22.178Z"
   },
   {
    "duration": 10,
    "start_time": "2022-03-04T10:37:22.554Z"
   },
   {
    "duration": 395,
    "start_time": "2022-03-04T10:37:23.738Z"
   },
   {
    "duration": 14,
    "start_time": "2022-03-04T10:37:24.563Z"
   },
   {
    "duration": 10,
    "start_time": "2022-03-04T10:37:24.957Z"
   },
   {
    "duration": 399,
    "start_time": "2022-03-04T10:37:25.256Z"
   },
   {
    "duration": 16,
    "start_time": "2022-03-04T10:37:27.690Z"
   },
   {
    "duration": 5,
    "start_time": "2022-03-04T10:37:28.873Z"
   },
   {
    "duration": 5,
    "start_time": "2022-03-04T10:37:33.929Z"
   },
   {
    "duration": 5,
    "start_time": "2022-03-04T10:37:34.880Z"
   },
   {
    "duration": 12,
    "start_time": "2022-03-04T10:37:36.184Z"
   },
   {
    "duration": 431,
    "start_time": "2022-03-04T10:37:37.254Z"
   },
   {
    "duration": 14,
    "start_time": "2022-03-04T10:37:38.676Z"
   },
   {
    "duration": 5,
    "start_time": "2022-03-04T10:37:38.963Z"
   },
   {
    "duration": 4,
    "start_time": "2022-03-04T10:37:39.277Z"
   },
   {
    "duration": 5,
    "start_time": "2022-03-04T10:37:39.672Z"
   },
   {
    "duration": 12,
    "start_time": "2022-03-04T10:37:40.407Z"
   },
   {
    "duration": 417,
    "start_time": "2022-03-04T10:37:41.144Z"
   },
   {
    "duration": 15,
    "start_time": "2022-03-04T10:37:42.287Z"
   },
   {
    "duration": 6,
    "start_time": "2022-03-04T10:37:42.620Z"
   },
   {
    "duration": 15,
    "start_time": "2022-03-04T10:37:43.096Z"
   },
   {
    "duration": 429,
    "start_time": "2022-03-04T10:37:43.880Z"
   },
   {
    "duration": 13,
    "start_time": "2022-03-04T10:38:54.628Z"
   },
   {
    "duration": 10,
    "start_time": "2022-03-04T10:38:55.923Z"
   },
   {
    "duration": 12,
    "start_time": "2022-03-04T10:39:04.267Z"
   },
   {
    "duration": 10,
    "start_time": "2022-03-04T10:39:04.994Z"
   },
   {
    "duration": 30,
    "start_time": "2022-03-04T10:39:45.526Z"
   },
   {
    "duration": 7,
    "start_time": "2022-03-04T10:40:05.126Z"
   },
   {
    "duration": 1662,
    "start_time": "2022-03-04T10:40:22.028Z"
   },
   {
    "duration": 46,
    "start_time": "2022-03-04T10:40:23.693Z"
   },
   {
    "duration": 42,
    "start_time": "2022-03-04T10:40:23.742Z"
   },
   {
    "duration": 15,
    "start_time": "2022-03-04T10:40:23.786Z"
   },
   {
    "duration": 1107,
    "start_time": "2022-03-04T10:40:23.803Z"
   },
   {
    "duration": 11,
    "start_time": "2022-03-04T10:40:24.913Z"
   },
   {
    "duration": 34,
    "start_time": "2022-03-04T10:40:24.926Z"
   },
   {
    "duration": 37,
    "start_time": "2022-03-04T10:40:24.964Z"
   },
   {
    "duration": 20,
    "start_time": "2022-03-04T10:40:25.004Z"
   },
   {
    "duration": 19,
    "start_time": "2022-03-04T10:40:25.026Z"
   },
   {
    "duration": 33,
    "start_time": "2022-03-04T10:40:25.048Z"
   },
   {
    "duration": 19,
    "start_time": "2022-03-04T10:40:25.083Z"
   },
   {
    "duration": 30,
    "start_time": "2022-03-04T10:40:25.105Z"
   },
   {
    "duration": 33,
    "start_time": "2022-03-04T10:40:25.137Z"
   },
   {
    "duration": 27,
    "start_time": "2022-03-04T10:40:25.173Z"
   },
   {
    "duration": 64,
    "start_time": "2022-03-04T10:40:25.202Z"
   },
   {
    "duration": 5,
    "start_time": "2022-03-04T10:40:25.269Z"
   },
   {
    "duration": 66,
    "start_time": "2022-03-04T10:40:25.277Z"
   },
   {
    "duration": 24,
    "start_time": "2022-03-04T10:40:25.345Z"
   },
   {
    "duration": 35,
    "start_time": "2022-03-04T10:40:25.372Z"
   },
   {
    "duration": 617,
    "start_time": "2022-03-04T10:40:25.410Z"
   },
   {
    "duration": 10,
    "start_time": "2022-03-04T10:40:26.030Z"
   },
   {
    "duration": 691,
    "start_time": "2022-03-04T10:40:26.046Z"
   },
   {
    "duration": 5,
    "start_time": "2022-03-04T10:40:26.740Z"
   },
   {
    "duration": 12,
    "start_time": "2022-03-04T10:40:26.748Z"
   },
   {
    "duration": 36,
    "start_time": "2022-03-04T10:40:26.762Z"
   },
   {
    "duration": 26,
    "start_time": "2022-03-04T10:40:26.801Z"
   },
   {
    "duration": 52,
    "start_time": "2022-03-04T10:40:26.831Z"
   },
   {
    "duration": 11,
    "start_time": "2022-03-04T10:40:26.886Z"
   },
   {
    "duration": 15,
    "start_time": "2022-03-04T10:40:26.899Z"
   },
   {
    "duration": 10,
    "start_time": "2022-03-04T10:40:26.916Z"
   },
   {
    "duration": 15,
    "start_time": "2022-03-04T10:40:26.929Z"
   },
   {
    "duration": 11,
    "start_time": "2022-03-04T10:40:26.947Z"
   },
   {
    "duration": 21,
    "start_time": "2022-03-04T10:40:26.982Z"
   },
   {
    "duration": 15,
    "start_time": "2022-03-04T10:40:27.007Z"
   },
   {
    "duration": 17,
    "start_time": "2022-03-04T10:40:27.025Z"
   },
   {
    "duration": 39,
    "start_time": "2022-03-04T10:40:27.044Z"
   },
   {
    "duration": 542,
    "start_time": "2022-03-04T10:40:27.086Z"
   },
   {
    "duration": 8,
    "start_time": "2022-03-04T10:40:27.631Z"
   },
   {
    "duration": 40,
    "start_time": "2022-03-04T10:40:27.642Z"
   },
   {
    "duration": 4,
    "start_time": "2022-03-04T10:40:27.685Z"
   },
   {
    "duration": 14,
    "start_time": "2022-03-04T10:40:27.691Z"
   },
   {
    "duration": 23,
    "start_time": "2022-03-04T10:40:27.707Z"
   },
   {
    "duration": 4,
    "start_time": "2022-03-04T10:40:27.733Z"
   },
   {
    "duration": 1212,
    "start_time": "2022-03-04T10:40:27.740Z"
   },
   {
    "duration": 11,
    "start_time": "2022-03-04T10:40:28.955Z"
   },
   {
    "duration": 6,
    "start_time": "2022-03-04T10:40:28.983Z"
   },
   {
    "duration": 29,
    "start_time": "2022-03-04T10:40:28.992Z"
   },
   {
    "duration": 17,
    "start_time": "2022-03-04T10:40:29.024Z"
   },
   {
    "duration": 4437,
    "start_time": "2022-03-04T10:40:29.045Z"
   },
   {
    "duration": 4,
    "start_time": "2022-03-04T10:40:33.485Z"
   },
   {
    "duration": 19,
    "start_time": "2022-03-04T10:40:33.492Z"
   },
   {
    "duration": 34,
    "start_time": "2022-03-04T10:40:33.513Z"
   },
   {
    "duration": 418,
    "start_time": "2022-03-04T10:40:33.550Z"
   },
   {
    "duration": 12,
    "start_time": "2022-03-04T10:40:33.970Z"
   },
   {
    "duration": 23,
    "start_time": "2022-03-04T10:40:33.985Z"
   },
   {
    "duration": 2705,
    "start_time": "2022-03-04T10:40:34.011Z"
   },
   {
    "duration": 480,
    "start_time": "2022-03-04T10:40:36.719Z"
   },
   {
    "duration": 15,
    "start_time": "2022-03-04T10:40:37.202Z"
   },
   {
    "duration": 538,
    "start_time": "2022-03-04T10:40:37.220Z"
   },
   {
    "duration": 22,
    "start_time": "2022-03-04T10:40:37.761Z"
   },
   {
    "duration": 60,
    "start_time": "2022-03-04T10:40:37.786Z"
   },
   {
    "duration": 5,
    "start_time": "2022-03-04T10:40:37.849Z"
   },
   {
    "duration": 12,
    "start_time": "2022-03-04T10:40:37.881Z"
   },
   {
    "duration": 13,
    "start_time": "2022-03-04T10:40:37.895Z"
   },
   {
    "duration": 873,
    "start_time": "2022-03-04T10:40:37.911Z"
   },
   {
    "duration": 32,
    "start_time": "2022-03-04T10:40:38.787Z"
   },
   {
    "duration": 13,
    "start_time": "2022-03-04T10:40:38.829Z"
   },
   {
    "duration": 42,
    "start_time": "2022-03-04T10:40:38.846Z"
   },
   {
    "duration": 555,
    "start_time": "2022-03-04T10:40:38.891Z"
   },
   {
    "duration": 14,
    "start_time": "2022-03-04T10:40:39.449Z"
   },
   {
    "duration": 27,
    "start_time": "2022-03-04T10:40:39.468Z"
   },
   {
    "duration": 419,
    "start_time": "2022-03-04T10:40:39.498Z"
   },
   {
    "duration": 14,
    "start_time": "2022-03-04T10:40:39.919Z"
   },
   {
    "duration": 17,
    "start_time": "2022-03-04T10:40:39.936Z"
   },
   {
    "duration": 429,
    "start_time": "2022-03-04T10:40:39.956Z"
   },
   {
    "duration": 14,
    "start_time": "2022-03-04T10:40:40.387Z"
   },
   {
    "duration": 12,
    "start_time": "2022-03-04T10:40:40.405Z"
   },
   {
    "duration": 9,
    "start_time": "2022-03-04T10:40:40.420Z"
   },
   {
    "duration": 10,
    "start_time": "2022-03-04T10:40:40.431Z"
   },
   {
    "duration": 17,
    "start_time": "2022-03-04T10:40:40.444Z"
   },
   {
    "duration": 439,
    "start_time": "2022-03-04T10:40:40.482Z"
   },
   {
    "duration": 13,
    "start_time": "2022-03-04T10:40:40.923Z"
   },
   {
    "duration": 10,
    "start_time": "2022-03-04T10:40:40.938Z"
   },
   {
    "duration": 11,
    "start_time": "2022-03-04T10:40:40.950Z"
   },
   {
    "duration": 24,
    "start_time": "2022-03-04T10:40:40.963Z"
   },
   {
    "duration": 14,
    "start_time": "2022-03-04T10:40:40.989Z"
   },
   {
    "duration": 442,
    "start_time": "2022-03-04T10:40:41.006Z"
   },
   {
    "duration": 14,
    "start_time": "2022-03-04T10:40:41.451Z"
   },
   {
    "duration": 4,
    "start_time": "2022-03-04T10:40:41.483Z"
   },
   {
    "duration": 22,
    "start_time": "2022-03-04T10:40:41.490Z"
   },
   {
    "duration": 449,
    "start_time": "2022-03-04T10:40:41.515Z"
   },
   {
    "duration": 16,
    "start_time": "2022-03-04T10:40:41.967Z"
   },
   {
    "duration": 14,
    "start_time": "2022-03-04T10:40:41.986Z"
   },
   {
    "duration": 26,
    "start_time": "2022-03-04T10:40:42.002Z"
   },
   {
    "duration": 393,
    "start_time": "2022-03-04T10:40:42.031Z"
   },
   {
    "duration": 358,
    "start_time": "2022-03-04T10:40:42.427Z"
   },
   {
    "duration": -42,
    "start_time": "2022-03-04T10:40:42.830Z"
   },
   {
    "duration": -45,
    "start_time": "2022-03-04T10:40:42.834Z"
   },
   {
    "duration": -49,
    "start_time": "2022-03-04T10:40:42.839Z"
   },
   {
    "duration": -51,
    "start_time": "2022-03-04T10:40:42.843Z"
   },
   {
    "duration": -55,
    "start_time": "2022-03-04T10:40:42.848Z"
   },
   {
    "duration": -58,
    "start_time": "2022-03-04T10:40:42.852Z"
   },
   {
    "duration": -60,
    "start_time": "2022-03-04T10:40:42.856Z"
   },
   {
    "duration": -62,
    "start_time": "2022-03-04T10:40:42.859Z"
   },
   {
    "duration": -68,
    "start_time": "2022-03-04T10:40:42.867Z"
   },
   {
    "duration": -70,
    "start_time": "2022-03-04T10:40:42.870Z"
   },
   {
    "duration": -73,
    "start_time": "2022-03-04T10:40:42.874Z"
   },
   {
    "duration": -73,
    "start_time": "2022-03-04T10:40:42.876Z"
   },
   {
    "duration": -75,
    "start_time": "2022-03-04T10:40:42.879Z"
   },
   {
    "duration": -77,
    "start_time": "2022-03-04T10:40:42.882Z"
   },
   {
    "duration": -78,
    "start_time": "2022-03-04T10:40:42.885Z"
   },
   {
    "duration": -79,
    "start_time": "2022-03-04T10:40:42.887Z"
   },
   {
    "duration": -81,
    "start_time": "2022-03-04T10:40:42.890Z"
   },
   {
    "duration": -81,
    "start_time": "2022-03-04T10:40:42.892Z"
   },
   {
    "duration": -82,
    "start_time": "2022-03-04T10:40:42.894Z"
   },
   {
    "duration": -84,
    "start_time": "2022-03-04T10:40:42.897Z"
   },
   {
    "duration": 1428,
    "start_time": "2022-03-04T10:52:07.124Z"
   },
   {
    "duration": 44,
    "start_time": "2022-03-04T10:52:08.555Z"
   },
   {
    "duration": 27,
    "start_time": "2022-03-04T10:52:08.602Z"
   },
   {
    "duration": 14,
    "start_time": "2022-03-04T10:52:08.632Z"
   },
   {
    "duration": 1150,
    "start_time": "2022-03-04T10:52:08.648Z"
   },
   {
    "duration": 13,
    "start_time": "2022-03-04T10:52:09.800Z"
   },
   {
    "duration": 33,
    "start_time": "2022-03-04T10:52:09.815Z"
   },
   {
    "duration": 41,
    "start_time": "2022-03-04T10:52:09.851Z"
   },
   {
    "duration": 13,
    "start_time": "2022-03-04T10:52:09.896Z"
   },
   {
    "duration": 9,
    "start_time": "2022-03-04T10:52:09.912Z"
   },
   {
    "duration": 8,
    "start_time": "2022-03-04T10:52:09.923Z"
   },
   {
    "duration": 50,
    "start_time": "2022-03-04T10:52:09.934Z"
   },
   {
    "duration": 11,
    "start_time": "2022-03-04T10:52:09.986Z"
   },
   {
    "duration": 16,
    "start_time": "2022-03-04T10:52:10.000Z"
   },
   {
    "duration": 10,
    "start_time": "2022-03-04T10:52:10.018Z"
   },
   {
    "duration": 67,
    "start_time": "2022-03-04T10:52:10.030Z"
   },
   {
    "duration": 5,
    "start_time": "2022-03-04T10:52:10.099Z"
   },
   {
    "duration": 33,
    "start_time": "2022-03-04T10:52:10.106Z"
   },
   {
    "duration": 7,
    "start_time": "2022-03-04T10:52:10.142Z"
   },
   {
    "duration": 38,
    "start_time": "2022-03-04T10:52:10.154Z"
   },
   {
    "duration": 1045,
    "start_time": "2022-03-04T10:52:10.195Z"
   },
   {
    "duration": 13,
    "start_time": "2022-03-04T10:52:11.243Z"
   },
   {
    "duration": 1114,
    "start_time": "2022-03-04T10:52:11.264Z"
   },
   {
    "duration": 6,
    "start_time": "2022-03-04T10:52:12.386Z"
   },
   {
    "duration": 16,
    "start_time": "2022-03-04T10:52:12.395Z"
   },
   {
    "duration": 24,
    "start_time": "2022-03-04T10:52:12.414Z"
   },
   {
    "duration": 5,
    "start_time": "2022-03-04T10:52:12.441Z"
   },
   {
    "duration": 70,
    "start_time": "2022-03-04T10:52:12.449Z"
   },
   {
    "duration": 7,
    "start_time": "2022-03-04T10:52:12.522Z"
   },
   {
    "duration": 9,
    "start_time": "2022-03-04T10:52:12.532Z"
   },
   {
    "duration": 38,
    "start_time": "2022-03-04T10:52:12.544Z"
   },
   {
    "duration": 12,
    "start_time": "2022-03-04T10:52:12.585Z"
   },
   {
    "duration": 18,
    "start_time": "2022-03-04T10:52:12.599Z"
   },
   {
    "duration": 19,
    "start_time": "2022-03-04T10:52:12.619Z"
   },
   {
    "duration": 43,
    "start_time": "2022-03-04T10:52:12.641Z"
   },
   {
    "duration": 21,
    "start_time": "2022-03-04T10:52:12.686Z"
   },
   {
    "duration": 5,
    "start_time": "2022-03-04T10:52:12.709Z"
   },
   {
    "duration": 730,
    "start_time": "2022-03-04T10:52:12.716Z"
   },
   {
    "duration": 8,
    "start_time": "2022-03-04T10:52:13.449Z"
   },
   {
    "duration": 34,
    "start_time": "2022-03-04T10:52:13.460Z"
   },
   {
    "duration": 5,
    "start_time": "2022-03-04T10:52:13.497Z"
   },
   {
    "duration": 22,
    "start_time": "2022-03-04T10:52:13.505Z"
   },
   {
    "duration": 30,
    "start_time": "2022-03-04T10:52:13.530Z"
   },
   {
    "duration": 6,
    "start_time": "2022-03-04T10:52:13.583Z"
   },
   {
    "duration": 1744,
    "start_time": "2022-03-04T10:52:13.592Z"
   },
   {
    "duration": 9,
    "start_time": "2022-03-04T10:52:15.339Z"
   },
   {
    "duration": 23,
    "start_time": "2022-03-04T10:52:15.350Z"
   },
   {
    "duration": 32,
    "start_time": "2022-03-04T10:52:15.376Z"
   },
   {
    "duration": 36,
    "start_time": "2022-03-04T10:52:15.411Z"
   },
   {
    "duration": 3684,
    "start_time": "2022-03-04T10:52:15.450Z"
   },
   {
    "duration": 4,
    "start_time": "2022-03-04T10:52:19.136Z"
   },
   {
    "duration": 14,
    "start_time": "2022-03-04T10:52:19.142Z"
   },
   {
    "duration": 49,
    "start_time": "2022-03-04T10:52:19.158Z"
   },
   {
    "duration": 412,
    "start_time": "2022-03-04T10:52:19.210Z"
   },
   {
    "duration": 5,
    "start_time": "2022-03-04T10:52:19.625Z"
   },
   {
    "duration": 20,
    "start_time": "2022-03-04T10:52:19.632Z"
   },
   {
    "duration": 1989,
    "start_time": "2022-03-04T10:52:19.654Z"
   },
   {
    "duration": 529,
    "start_time": "2022-03-04T10:52:21.645Z"
   },
   {
    "duration": 20,
    "start_time": "2022-03-04T10:52:22.177Z"
   },
   {
    "duration": 485,
    "start_time": "2022-03-04T10:52:22.200Z"
   },
   {
    "duration": 13,
    "start_time": "2022-03-04T10:52:22.687Z"
   },
   {
    "duration": 88,
    "start_time": "2022-03-04T10:52:22.702Z"
   },
   {
    "duration": 4,
    "start_time": "2022-03-04T10:52:22.793Z"
   },
   {
    "duration": 22,
    "start_time": "2022-03-04T10:52:22.799Z"
   },
   {
    "duration": 19,
    "start_time": "2022-03-04T10:52:22.823Z"
   },
   {
    "duration": 849,
    "start_time": "2022-03-04T10:52:22.844Z"
   },
   {
    "duration": 31,
    "start_time": "2022-03-04T10:52:23.695Z"
   },
   {
    "duration": 48,
    "start_time": "2022-03-04T10:52:23.735Z"
   },
   {
    "duration": 13,
    "start_time": "2022-03-04T10:52:23.787Z"
   },
   {
    "duration": 736,
    "start_time": "2022-03-04T10:52:23.802Z"
   },
   {
    "duration": 18,
    "start_time": "2022-03-04T10:52:24.541Z"
   },
   {
    "duration": 25,
    "start_time": "2022-03-04T10:52:24.562Z"
   },
   {
    "duration": 435,
    "start_time": "2022-03-04T10:52:24.590Z"
   },
   {
    "duration": 14,
    "start_time": "2022-03-04T10:52:25.028Z"
   },
   {
    "duration": 20,
    "start_time": "2022-03-04T10:52:25.045Z"
   },
   {
    "duration": 409,
    "start_time": "2022-03-04T10:52:25.083Z"
   },
   {
    "duration": 13,
    "start_time": "2022-03-04T10:52:25.495Z"
   },
   {
    "duration": 8,
    "start_time": "2022-03-04T10:52:25.511Z"
   },
   {
    "duration": 8,
    "start_time": "2022-03-04T10:52:25.522Z"
   },
   {
    "duration": 6,
    "start_time": "2022-03-04T10:52:25.533Z"
   },
   {
    "duration": 48,
    "start_time": "2022-03-04T10:52:25.542Z"
   },
   {
    "duration": 455,
    "start_time": "2022-03-04T10:52:25.592Z"
   },
   {
    "duration": 13,
    "start_time": "2022-03-04T10:52:26.050Z"
   },
   {
    "duration": 5,
    "start_time": "2022-03-04T10:52:26.082Z"
   },
   {
    "duration": 13,
    "start_time": "2022-03-04T10:52:26.090Z"
   },
   {
    "duration": 10,
    "start_time": "2022-03-04T10:52:26.105Z"
   },
   {
    "duration": 20,
    "start_time": "2022-03-04T10:52:26.118Z"
   },
   {
    "duration": 471,
    "start_time": "2022-03-04T10:52:26.141Z"
   },
   {
    "duration": 15,
    "start_time": "2022-03-04T10:52:26.615Z"
   },
   {
    "duration": 14,
    "start_time": "2022-03-04T10:52:26.633Z"
   },
   {
    "duration": 36,
    "start_time": "2022-03-04T10:52:26.650Z"
   },
   {
    "duration": 449,
    "start_time": "2022-03-04T10:52:26.690Z"
   },
   {
    "duration": 7,
    "start_time": "2022-03-04T10:52:27.142Z"
   },
   {
    "duration": 31,
    "start_time": "2022-03-04T10:52:27.151Z"
   },
   {
    "duration": 9,
    "start_time": "2022-03-04T10:52:27.184Z"
   },
   {
    "duration": 394,
    "start_time": "2022-03-04T10:52:27.196Z"
   },
   {
    "duration": 372,
    "start_time": "2022-03-04T10:52:27.592Z"
   },
   {
    "duration": -37,
    "start_time": "2022-03-04T10:52:28.003Z"
   },
   {
    "duration": -40,
    "start_time": "2022-03-04T10:52:28.008Z"
   },
   {
    "duration": -43,
    "start_time": "2022-03-04T10:52:28.013Z"
   },
   {
    "duration": -46,
    "start_time": "2022-03-04T10:52:28.017Z"
   },
   {
    "duration": -52,
    "start_time": "2022-03-04T10:52:28.024Z"
   },
   {
    "duration": -54,
    "start_time": "2022-03-04T10:52:28.028Z"
   },
   {
    "duration": -56,
    "start_time": "2022-03-04T10:52:28.031Z"
   },
   {
    "duration": -57,
    "start_time": "2022-03-04T10:52:28.034Z"
   },
   {
    "duration": -59,
    "start_time": "2022-03-04T10:52:28.037Z"
   },
   {
    "duration": -61,
    "start_time": "2022-03-04T10:52:28.040Z"
   },
   {
    "duration": -63,
    "start_time": "2022-03-04T10:52:28.043Z"
   },
   {
    "duration": -64,
    "start_time": "2022-03-04T10:52:28.046Z"
   },
   {
    "duration": -65,
    "start_time": "2022-03-04T10:52:28.049Z"
   },
   {
    "duration": -66,
    "start_time": "2022-03-04T10:52:28.051Z"
   },
   {
    "duration": -67,
    "start_time": "2022-03-04T10:52:28.054Z"
   },
   {
    "duration": -68,
    "start_time": "2022-03-04T10:52:28.056Z"
   },
   {
    "duration": -70,
    "start_time": "2022-03-04T10:52:28.059Z"
   },
   {
    "duration": -71,
    "start_time": "2022-03-04T10:52:28.061Z"
   },
   {
    "duration": -72,
    "start_time": "2022-03-04T10:52:28.064Z"
   },
   {
    "duration": -73,
    "start_time": "2022-03-04T10:52:28.066Z"
   },
   {
    "duration": 10,
    "start_time": "2022-03-04T10:55:24.260Z"
   },
   {
    "duration": 30,
    "start_time": "2022-03-04T10:55:44.200Z"
   },
   {
    "duration": 7,
    "start_time": "2022-03-04T10:56:05.889Z"
   },
   {
    "duration": 1543,
    "start_time": "2022-03-04T10:58:55.371Z"
   },
   {
    "duration": 42,
    "start_time": "2022-03-04T10:58:56.917Z"
   },
   {
    "duration": 33,
    "start_time": "2022-03-04T10:58:56.963Z"
   },
   {
    "duration": 16,
    "start_time": "2022-03-04T10:58:56.998Z"
   },
   {
    "duration": 1125,
    "start_time": "2022-03-04T10:58:57.017Z"
   },
   {
    "duration": 13,
    "start_time": "2022-03-04T10:58:58.145Z"
   },
   {
    "duration": 50,
    "start_time": "2022-03-04T10:58:58.161Z"
   },
   {
    "duration": 20,
    "start_time": "2022-03-04T10:58:58.215Z"
   },
   {
    "duration": 8,
    "start_time": "2022-03-04T10:58:58.238Z"
   },
   {
    "duration": 35,
    "start_time": "2022-03-04T10:58:58.248Z"
   },
   {
    "duration": 6,
    "start_time": "2022-03-04T10:58:58.285Z"
   },
   {
    "duration": 9,
    "start_time": "2022-03-04T10:58:58.293Z"
   },
   {
    "duration": 13,
    "start_time": "2022-03-04T10:58:58.304Z"
   },
   {
    "duration": 14,
    "start_time": "2022-03-04T10:58:58.319Z"
   },
   {
    "duration": 49,
    "start_time": "2022-03-04T10:58:58.336Z"
   },
   {
    "duration": 45,
    "start_time": "2022-03-04T10:58:58.388Z"
   },
   {
    "duration": 4,
    "start_time": "2022-03-04T10:58:58.436Z"
   },
   {
    "duration": 57,
    "start_time": "2022-03-04T10:58:58.442Z"
   },
   {
    "duration": 11,
    "start_time": "2022-03-04T10:58:58.502Z"
   },
   {
    "duration": 8,
    "start_time": "2022-03-04T10:58:58.516Z"
   },
   {
    "duration": 1152,
    "start_time": "2022-03-04T10:58:58.526Z"
   },
   {
    "duration": 10,
    "start_time": "2022-03-04T10:58:59.683Z"
   },
   {
    "duration": 6,
    "start_time": "2022-03-04T10:58:59.699Z"
   },
   {
    "duration": 1144,
    "start_time": "2022-03-04T10:58:59.709Z"
   },
   {
    "duration": 5,
    "start_time": "2022-03-04T10:59:00.855Z"
   },
   {
    "duration": 25,
    "start_time": "2022-03-04T10:59:00.863Z"
   },
   {
    "duration": 23,
    "start_time": "2022-03-04T10:59:00.890Z"
   },
   {
    "duration": 5,
    "start_time": "2022-03-04T10:59:00.915Z"
   },
   {
    "duration": 66,
    "start_time": "2022-03-04T10:59:00.923Z"
   },
   {
    "duration": 11,
    "start_time": "2022-03-04T10:59:00.992Z"
   },
   {
    "duration": 12,
    "start_time": "2022-03-04T10:59:01.006Z"
   },
   {
    "duration": 16,
    "start_time": "2022-03-04T10:59:01.020Z"
   },
   {
    "duration": 16,
    "start_time": "2022-03-04T10:59:01.038Z"
   },
   {
    "duration": 32,
    "start_time": "2022-03-04T10:59:01.056Z"
   },
   {
    "duration": 19,
    "start_time": "2022-03-04T10:59:01.091Z"
   },
   {
    "duration": 13,
    "start_time": "2022-03-04T10:59:01.113Z"
   },
   {
    "duration": 54,
    "start_time": "2022-03-04T10:59:01.128Z"
   },
   {
    "duration": 6,
    "start_time": "2022-03-04T10:59:01.185Z"
   },
   {
    "duration": 673,
    "start_time": "2022-03-04T10:59:01.193Z"
   },
   {
    "duration": 15,
    "start_time": "2022-03-04T10:59:01.869Z"
   },
   {
    "duration": 25,
    "start_time": "2022-03-04T10:59:01.887Z"
   },
   {
    "duration": 9,
    "start_time": "2022-03-04T10:59:01.915Z"
   },
   {
    "duration": 16,
    "start_time": "2022-03-04T10:59:01.926Z"
   },
   {
    "duration": 37,
    "start_time": "2022-03-04T10:59:01.945Z"
   },
   {
    "duration": 4,
    "start_time": "2022-03-04T10:59:01.984Z"
   },
   {
    "duration": 1199,
    "start_time": "2022-03-04T10:59:01.992Z"
   },
   {
    "duration": 10,
    "start_time": "2022-03-04T10:59:03.194Z"
   },
   {
    "duration": 7,
    "start_time": "2022-03-04T10:59:03.207Z"
   },
   {
    "duration": 19,
    "start_time": "2022-03-04T10:59:03.218Z"
   },
   {
    "duration": 51,
    "start_time": "2022-03-04T10:59:03.239Z"
   },
   {
    "duration": 3981,
    "start_time": "2022-03-04T10:59:03.293Z"
   },
   {
    "duration": 4,
    "start_time": "2022-03-04T10:59:07.282Z"
   },
   {
    "duration": 35,
    "start_time": "2022-03-04T10:59:07.289Z"
   },
   {
    "duration": 39,
    "start_time": "2022-03-04T10:59:07.327Z"
   },
   {
    "duration": 447,
    "start_time": "2022-03-04T10:59:07.368Z"
   },
   {
    "duration": 5,
    "start_time": "2022-03-04T10:59:07.818Z"
   },
   {
    "duration": 30,
    "start_time": "2022-03-04T10:59:07.825Z"
   },
   {
    "duration": 1928,
    "start_time": "2022-03-04T10:59:07.857Z"
   },
   {
    "duration": 511,
    "start_time": "2022-03-04T10:59:09.787Z"
   },
   {
    "duration": 14,
    "start_time": "2022-03-04T10:59:10.300Z"
   },
   {
    "duration": 498,
    "start_time": "2022-03-04T10:59:10.317Z"
   },
   {
    "duration": 13,
    "start_time": "2022-03-04T10:59:10.818Z"
   },
   {
    "duration": 87,
    "start_time": "2022-03-04T10:59:10.833Z"
   },
   {
    "duration": 4,
    "start_time": "2022-03-04T10:59:10.923Z"
   },
   {
    "duration": 20,
    "start_time": "2022-03-04T10:59:10.929Z"
   },
   {
    "duration": 12,
    "start_time": "2022-03-04T10:59:10.952Z"
   },
   {
    "duration": 911,
    "start_time": "2022-03-04T10:59:10.984Z"
   },
   {
    "duration": 32,
    "start_time": "2022-03-04T10:59:11.905Z"
   },
   {
    "duration": 41,
    "start_time": "2022-03-04T10:59:11.941Z"
   },
   {
    "duration": 11,
    "start_time": "2022-03-04T10:59:11.985Z"
   },
   {
    "duration": 583,
    "start_time": "2022-03-04T10:59:11.999Z"
   },
   {
    "duration": 19,
    "start_time": "2022-03-04T10:59:12.585Z"
   },
   {
    "duration": 15,
    "start_time": "2022-03-04T10:59:12.607Z"
   },
   {
    "duration": 569,
    "start_time": "2022-03-04T10:59:12.625Z"
   },
   {
    "duration": 15,
    "start_time": "2022-03-04T10:59:13.197Z"
   },
   {
    "duration": 20,
    "start_time": "2022-03-04T10:59:13.215Z"
   },
   {
    "duration": 432,
    "start_time": "2022-03-04T10:59:13.237Z"
   },
   {
    "duration": 22,
    "start_time": "2022-03-04T10:59:13.671Z"
   },
   {
    "duration": 6,
    "start_time": "2022-03-04T10:59:13.695Z"
   },
   {
    "duration": 8,
    "start_time": "2022-03-04T10:59:13.704Z"
   },
   {
    "duration": 8,
    "start_time": "2022-03-04T10:59:13.714Z"
   },
   {
    "duration": 16,
    "start_time": "2022-03-04T10:59:13.724Z"
   },
   {
    "duration": 488,
    "start_time": "2022-03-04T10:59:13.742Z"
   },
   {
    "duration": 14,
    "start_time": "2022-03-04T10:59:14.233Z"
   },
   {
    "duration": 10,
    "start_time": "2022-03-04T10:59:14.249Z"
   },
   {
    "duration": 27,
    "start_time": "2022-03-04T10:59:14.261Z"
   },
   {
    "duration": 13,
    "start_time": "2022-03-04T10:59:14.291Z"
   },
   {
    "duration": 18,
    "start_time": "2022-03-04T10:59:14.307Z"
   },
   {
    "duration": 482,
    "start_time": "2022-03-04T10:59:14.328Z"
   },
   {
    "duration": 13,
    "start_time": "2022-03-04T10:59:14.812Z"
   },
   {
    "duration": 14,
    "start_time": "2022-03-04T10:59:14.828Z"
   },
   {
    "duration": 43,
    "start_time": "2022-03-04T10:59:14.846Z"
   },
   {
    "duration": 622,
    "start_time": "2022-03-04T10:59:14.892Z"
   },
   {
    "duration": 8,
    "start_time": "2022-03-04T10:59:15.518Z"
   },
   {
    "duration": 24,
    "start_time": "2022-03-04T10:59:15.530Z"
   },
   {
    "duration": 36,
    "start_time": "2022-03-04T10:59:15.557Z"
   },
   {
    "duration": 568,
    "start_time": "2022-03-04T10:59:15.597Z"
   },
   {
    "duration": 494,
    "start_time": "2022-03-04T10:59:16.168Z"
   },
   {
    "duration": 19,
    "start_time": "2022-03-04T10:59:16.646Z"
   },
   {
    "duration": 17,
    "start_time": "2022-03-04T10:59:16.651Z"
   },
   {
    "duration": 8,
    "start_time": "2022-03-04T10:59:16.662Z"
   },
   {
    "duration": 5,
    "start_time": "2022-03-04T10:59:16.666Z"
   },
   {
    "duration": -1,
    "start_time": "2022-03-04T10:59:16.674Z"
   },
   {
    "duration": -3,
    "start_time": "2022-03-04T10:59:16.677Z"
   },
   {
    "duration": -4,
    "start_time": "2022-03-04T10:59:16.680Z"
   },
   {
    "duration": -12,
    "start_time": "2022-03-04T10:59:16.689Z"
   },
   {
    "duration": -11,
    "start_time": "2022-03-04T10:59:16.691Z"
   },
   {
    "duration": -12,
    "start_time": "2022-03-04T10:59:16.694Z"
   },
   {
    "duration": -12,
    "start_time": "2022-03-04T10:59:16.696Z"
   },
   {
    "duration": -13,
    "start_time": "2022-03-04T10:59:16.699Z"
   },
   {
    "duration": -19,
    "start_time": "2022-03-04T10:59:16.707Z"
   },
   {
    "duration": -19,
    "start_time": "2022-03-04T10:59:16.709Z"
   },
   {
    "duration": -20,
    "start_time": "2022-03-04T10:59:16.711Z"
   },
   {
    "duration": -21,
    "start_time": "2022-03-04T10:59:16.714Z"
   },
   {
    "duration": -26,
    "start_time": "2022-03-04T10:59:16.721Z"
   },
   {
    "duration": -26,
    "start_time": "2022-03-04T10:59:16.723Z"
   },
   {
    "duration": -28,
    "start_time": "2022-03-04T10:59:16.726Z"
   },
   {
    "duration": -28,
    "start_time": "2022-03-04T10:59:16.728Z"
   },
   {
    "duration": 15,
    "start_time": "2022-03-04T11:04:26.548Z"
   },
   {
    "duration": 10,
    "start_time": "2022-03-04T11:04:27.408Z"
   },
   {
    "duration": 413,
    "start_time": "2022-03-04T11:04:32.091Z"
   },
   {
    "duration": 15,
    "start_time": "2022-03-04T11:07:42.099Z"
   },
   {
    "duration": 11,
    "start_time": "2022-03-04T11:07:42.730Z"
   },
   {
    "duration": 464,
    "start_time": "2022-03-04T11:07:43.524Z"
   },
   {
    "duration": 13,
    "start_time": "2022-03-04T11:10:58.085Z"
   },
   {
    "duration": 328,
    "start_time": "2022-03-04T11:10:58.406Z"
   },
   {
    "duration": 3,
    "start_time": "2022-03-04T11:11:20.665Z"
   },
   {
    "duration": 10,
    "start_time": "2022-03-04T11:29:29.218Z"
   },
   {
    "duration": 4,
    "start_time": "2022-03-04T12:27:39.688Z"
   },
   {
    "duration": 10,
    "start_time": "2022-03-04T12:27:40.107Z"
   },
   {
    "duration": 7,
    "start_time": "2022-03-04T12:27:40.506Z"
   },
   {
    "duration": 8,
    "start_time": "2022-03-04T12:27:40.740Z"
   },
   {
    "duration": 5,
    "start_time": "2022-03-04T12:27:41.413Z"
   },
   {
    "duration": 6,
    "start_time": "2022-03-04T12:27:42.164Z"
   },
   {
    "duration": 3,
    "start_time": "2022-03-04T12:32:36.190Z"
   },
   {
    "duration": 11,
    "start_time": "2022-03-04T12:32:36.641Z"
   },
   {
    "duration": 7,
    "start_time": "2022-03-04T12:32:37.637Z"
   },
   {
    "duration": 7,
    "start_time": "2022-03-04T12:32:38.039Z"
   },
   {
    "duration": 6,
    "start_time": "2022-03-04T12:32:42.153Z"
   },
   {
    "duration": 6,
    "start_time": "2022-03-04T12:32:43.669Z"
   },
   {
    "duration": 1506,
    "start_time": "2022-03-04T12:47:20.545Z"
   },
   {
    "duration": 43,
    "start_time": "2022-03-04T12:47:22.054Z"
   },
   {
    "duration": 29,
    "start_time": "2022-03-04T12:47:22.100Z"
   },
   {
    "duration": 15,
    "start_time": "2022-03-04T12:47:22.131Z"
   },
   {
    "duration": 1123,
    "start_time": "2022-03-04T12:47:22.148Z"
   },
   {
    "duration": 16,
    "start_time": "2022-03-04T12:47:23.273Z"
   },
   {
    "duration": 33,
    "start_time": "2022-03-04T12:47:23.291Z"
   },
   {
    "duration": 20,
    "start_time": "2022-03-04T12:47:23.328Z"
   },
   {
    "duration": 32,
    "start_time": "2022-03-04T12:47:23.351Z"
   },
   {
    "duration": 6,
    "start_time": "2022-03-04T12:47:23.386Z"
   },
   {
    "duration": 8,
    "start_time": "2022-03-04T12:47:23.394Z"
   },
   {
    "duration": 12,
    "start_time": "2022-03-04T12:47:23.404Z"
   },
   {
    "duration": 18,
    "start_time": "2022-03-04T12:47:23.418Z"
   },
   {
    "duration": 43,
    "start_time": "2022-03-04T12:47:23.439Z"
   },
   {
    "duration": 10,
    "start_time": "2022-03-04T12:47:23.485Z"
   },
   {
    "duration": 43,
    "start_time": "2022-03-04T12:47:23.497Z"
   },
   {
    "duration": 4,
    "start_time": "2022-03-04T12:47:23.543Z"
   },
   {
    "duration": 55,
    "start_time": "2022-03-04T12:47:23.549Z"
   },
   {
    "duration": 11,
    "start_time": "2022-03-04T12:47:23.607Z"
   },
   {
    "duration": 12,
    "start_time": "2022-03-04T12:47:23.620Z"
   },
   {
    "duration": 1086,
    "start_time": "2022-03-04T12:47:23.634Z"
   },
   {
    "duration": 13,
    "start_time": "2022-03-04T12:47:24.723Z"
   },
   {
    "duration": 1114,
    "start_time": "2022-03-04T12:47:24.744Z"
   },
   {
    "duration": 18,
    "start_time": "2022-03-04T12:47:25.864Z"
   },
   {
    "duration": 7,
    "start_time": "2022-03-04T12:47:25.884Z"
   },
   {
    "duration": 28,
    "start_time": "2022-03-04T12:47:25.893Z"
   },
   {
    "duration": 6,
    "start_time": "2022-03-04T12:47:25.924Z"
   },
   {
    "duration": 53,
    "start_time": "2022-03-04T12:47:25.932Z"
   },
   {
    "duration": 11,
    "start_time": "2022-03-04T12:47:25.988Z"
   },
   {
    "duration": 20,
    "start_time": "2022-03-04T12:47:26.001Z"
   },
   {
    "duration": 10,
    "start_time": "2022-03-04T12:47:26.024Z"
   },
   {
    "duration": 14,
    "start_time": "2022-03-04T12:47:26.037Z"
   },
   {
    "duration": 10,
    "start_time": "2022-03-04T12:47:26.053Z"
   },
   {
    "duration": 37,
    "start_time": "2022-03-04T12:47:26.065Z"
   },
   {
    "duration": 14,
    "start_time": "2022-03-04T12:47:26.104Z"
   },
   {
    "duration": 18,
    "start_time": "2022-03-04T12:47:26.120Z"
   },
   {
    "duration": 5,
    "start_time": "2022-03-04T12:47:26.140Z"
   },
   {
    "duration": 670,
    "start_time": "2022-03-04T12:47:26.147Z"
   },
   {
    "duration": 7,
    "start_time": "2022-03-04T12:47:26.820Z"
   },
   {
    "duration": 19,
    "start_time": "2022-03-04T12:47:26.830Z"
   },
   {
    "duration": 4,
    "start_time": "2022-03-04T12:47:26.852Z"
   },
   {
    "duration": 32,
    "start_time": "2022-03-04T12:47:26.858Z"
   },
   {
    "duration": 22,
    "start_time": "2022-03-04T12:47:26.893Z"
   },
   {
    "duration": 4,
    "start_time": "2022-03-04T12:47:26.917Z"
   },
   {
    "duration": 1172,
    "start_time": "2022-03-04T12:47:26.923Z"
   },
   {
    "duration": 9,
    "start_time": "2022-03-04T12:47:28.097Z"
   },
   {
    "duration": 10,
    "start_time": "2022-03-04T12:47:28.108Z"
   },
   {
    "duration": 21,
    "start_time": "2022-03-04T12:47:28.121Z"
   },
   {
    "duration": 40,
    "start_time": "2022-03-04T12:47:28.144Z"
   },
   {
    "duration": 3804,
    "start_time": "2022-03-04T12:47:28.186Z"
   },
   {
    "duration": 3,
    "start_time": "2022-03-04T12:47:31.993Z"
   },
   {
    "duration": 18,
    "start_time": "2022-03-04T12:47:31.999Z"
   },
   {
    "duration": 49,
    "start_time": "2022-03-04T12:47:32.020Z"
   },
   {
    "duration": 420,
    "start_time": "2022-03-04T12:47:32.071Z"
   },
   {
    "duration": 6,
    "start_time": "2022-03-04T12:47:32.494Z"
   },
   {
    "duration": 21,
    "start_time": "2022-03-04T12:47:32.503Z"
   },
   {
    "duration": 1958,
    "start_time": "2022-03-04T12:47:32.527Z"
   },
   {
    "duration": 497,
    "start_time": "2022-03-04T12:47:34.488Z"
   },
   {
    "duration": 14,
    "start_time": "2022-03-04T12:47:34.988Z"
   },
   {
    "duration": 483,
    "start_time": "2022-03-04T12:47:35.005Z"
   },
   {
    "duration": 14,
    "start_time": "2022-03-04T12:47:35.491Z"
   },
   {
    "duration": 91,
    "start_time": "2022-03-04T12:47:35.507Z"
   },
   {
    "duration": 5,
    "start_time": "2022-03-04T12:47:35.601Z"
   },
   {
    "duration": 11,
    "start_time": "2022-03-04T12:47:35.609Z"
   },
   {
    "duration": 13,
    "start_time": "2022-03-04T12:47:35.623Z"
   },
   {
    "duration": 862,
    "start_time": "2022-03-04T12:47:35.638Z"
   },
   {
    "duration": 13,
    "start_time": "2022-03-04T12:47:36.503Z"
   },
   {
    "duration": 10,
    "start_time": "2022-03-04T12:47:36.527Z"
   },
   {
    "duration": 456,
    "start_time": "2022-03-04T12:47:36.543Z"
   },
   {
    "duration": 14,
    "start_time": "2022-03-04T12:47:37.002Z"
   },
   {
    "duration": 15,
    "start_time": "2022-03-04T12:47:37.019Z"
   },
   {
    "duration": 572,
    "start_time": "2022-03-04T12:47:37.036Z"
   },
   {
    "duration": 15,
    "start_time": "2022-03-04T12:47:37.611Z"
   },
   {
    "duration": 13,
    "start_time": "2022-03-04T12:47:37.628Z"
   },
   {
    "duration": 432,
    "start_time": "2022-03-04T12:47:37.643Z"
   },
   {
    "duration": 14,
    "start_time": "2022-03-04T12:47:38.078Z"
   },
   {
    "duration": 22,
    "start_time": "2022-03-04T12:47:38.095Z"
   },
   {
    "duration": 15,
    "start_time": "2022-03-04T12:47:38.119Z"
   },
   {
    "duration": 15,
    "start_time": "2022-03-04T12:47:38.136Z"
   },
   {
    "duration": 17,
    "start_time": "2022-03-04T12:47:38.153Z"
   },
   {
    "duration": 439,
    "start_time": "2022-03-04T12:47:38.172Z"
   },
   {
    "duration": 15,
    "start_time": "2022-03-04T12:47:38.613Z"
   },
   {
    "duration": 7,
    "start_time": "2022-03-04T12:47:38.631Z"
   },
   {
    "duration": 10,
    "start_time": "2022-03-04T12:47:38.640Z"
   },
   {
    "duration": 7,
    "start_time": "2022-03-04T12:47:38.652Z"
   },
   {
    "duration": 12,
    "start_time": "2022-03-04T12:47:38.682Z"
   },
   {
    "duration": 446,
    "start_time": "2022-03-04T12:47:38.696Z"
   },
   {
    "duration": 16,
    "start_time": "2022-03-04T12:47:39.144Z"
   },
   {
    "duration": 21,
    "start_time": "2022-03-04T12:47:39.162Z"
   },
   {
    "duration": 16,
    "start_time": "2022-03-04T12:47:39.185Z"
   },
   {
    "duration": 434,
    "start_time": "2022-03-04T12:47:39.204Z"
   },
   {
    "duration": 14,
    "start_time": "2022-03-04T12:47:39.640Z"
   },
   {
    "duration": 41,
    "start_time": "2022-03-04T12:47:39.656Z"
   },
   {
    "duration": 413,
    "start_time": "2022-03-04T12:47:39.700Z"
   },
   {
    "duration": 16,
    "start_time": "2022-03-04T12:47:40.115Z"
   },
   {
    "duration": 13,
    "start_time": "2022-03-04T12:47:40.133Z"
   },
   {
    "duration": 424,
    "start_time": "2022-03-04T12:47:40.149Z"
   },
   {
    "duration": 13,
    "start_time": "2022-03-04T12:47:40.582Z"
   },
   {
    "duration": 29,
    "start_time": "2022-03-04T12:47:40.598Z"
   },
   {
    "duration": 381,
    "start_time": "2022-03-04T12:47:40.629Z"
   },
   {
    "duration": 13,
    "start_time": "2022-03-04T12:47:41.012Z"
   },
   {
    "duration": 6,
    "start_time": "2022-03-04T12:47:41.028Z"
   },
   {
    "duration": 6,
    "start_time": "2022-03-04T12:47:41.037Z"
   },
   {
    "duration": 42,
    "start_time": "2022-03-04T12:47:41.045Z"
   },
   {
    "duration": 13,
    "start_time": "2022-03-04T12:47:41.090Z"
   },
   {
    "duration": 7,
    "start_time": "2022-03-04T12:47:41.106Z"
   },
   {
    "duration": 10,
    "start_time": "2022-03-04T12:47:41.115Z"
   },
   {
    "duration": 9,
    "start_time": "2022-03-04T12:47:41.127Z"
   },
   {
    "duration": 6,
    "start_time": "2022-03-04T12:47:41.138Z"
   },
   {
    "duration": 37,
    "start_time": "2022-03-04T12:47:41.146Z"
   },
   {
    "duration": 6,
    "start_time": "2022-03-04T12:47:41.186Z"
   },
   {
    "duration": 13,
    "start_time": "2022-03-04T12:47:41.195Z"
   },
   {
    "duration": 10,
    "start_time": "2022-03-04T12:47:41.210Z"
   },
   {
    "duration": 11,
    "start_time": "2022-03-04T12:47:41.223Z"
   },
   {
    "duration": 13,
    "start_time": "2022-03-04T12:47:41.237Z"
   },
   {
    "duration": 101,
    "start_time": "2022-03-05T07:45:45.207Z"
   },
   {
    "duration": 1029,
    "start_time": "2022-03-05T07:48:42.343Z"
   },
   {
    "duration": 47,
    "start_time": "2022-03-05T07:48:43.373Z"
   },
   {
    "duration": 15,
    "start_time": "2022-03-05T07:48:43.422Z"
   },
   {
    "duration": 12,
    "start_time": "2022-03-05T07:48:43.438Z"
   },
   {
    "duration": 596,
    "start_time": "2022-03-05T07:48:43.452Z"
   },
   {
    "duration": 7,
    "start_time": "2022-03-05T07:48:44.049Z"
   },
   {
    "duration": 19,
    "start_time": "2022-03-05T07:48:44.057Z"
   },
   {
    "duration": 11,
    "start_time": "2022-03-05T07:48:44.078Z"
   },
   {
    "duration": 16,
    "start_time": "2022-03-05T07:48:44.091Z"
   },
   {
    "duration": 7,
    "start_time": "2022-03-05T07:48:44.109Z"
   },
   {
    "duration": 6,
    "start_time": "2022-03-05T07:48:44.117Z"
   },
   {
    "duration": 11,
    "start_time": "2022-03-05T07:48:44.124Z"
   },
   {
    "duration": 6,
    "start_time": "2022-03-05T07:48:44.136Z"
   },
   {
    "duration": 9,
    "start_time": "2022-03-05T07:48:44.143Z"
   },
   {
    "duration": 6,
    "start_time": "2022-03-05T07:48:44.154Z"
   },
   {
    "duration": 43,
    "start_time": "2022-03-05T07:48:44.162Z"
   },
   {
    "duration": 2,
    "start_time": "2022-03-05T07:48:44.207Z"
   },
   {
    "duration": 20,
    "start_time": "2022-03-05T07:48:44.211Z"
   },
   {
    "duration": 5,
    "start_time": "2022-03-05T07:48:44.232Z"
   },
   {
    "duration": 7,
    "start_time": "2022-03-05T07:48:44.238Z"
   },
   {
    "duration": 577,
    "start_time": "2022-03-05T07:48:44.247Z"
   },
   {
    "duration": 7,
    "start_time": "2022-03-05T07:48:44.825Z"
   },
   {
    "duration": 537,
    "start_time": "2022-03-05T07:48:44.835Z"
   },
   {
    "duration": 8,
    "start_time": "2022-03-05T07:48:45.375Z"
   },
   {
    "duration": 4,
    "start_time": "2022-03-05T07:48:45.384Z"
   },
   {
    "duration": 20,
    "start_time": "2022-03-05T07:48:45.390Z"
   },
   {
    "duration": 4,
    "start_time": "2022-03-05T07:48:45.411Z"
   },
   {
    "duration": 16,
    "start_time": "2022-03-05T07:48:45.416Z"
   },
   {
    "duration": 3,
    "start_time": "2022-03-05T07:48:45.433Z"
   },
   {
    "duration": 19,
    "start_time": "2022-03-05T07:48:45.437Z"
   },
   {
    "duration": 5,
    "start_time": "2022-03-05T07:48:45.457Z"
   },
   {
    "duration": 14,
    "start_time": "2022-03-05T07:48:45.464Z"
   },
   {
    "duration": 11,
    "start_time": "2022-03-05T07:48:45.479Z"
   },
   {
    "duration": 14,
    "start_time": "2022-03-05T07:48:45.492Z"
   },
   {
    "duration": 6,
    "start_time": "2022-03-05T07:48:45.507Z"
   },
   {
    "duration": 13,
    "start_time": "2022-03-05T07:48:45.514Z"
   },
   {
    "duration": 13,
    "start_time": "2022-03-05T07:48:45.528Z"
   },
   {
    "duration": 11,
    "start_time": "2022-03-05T07:48:45.542Z"
   },
   {
    "duration": 3,
    "start_time": "2022-03-05T07:48:45.555Z"
   },
   {
    "duration": 388,
    "start_time": "2022-03-05T07:48:45.559Z"
   },
   {
    "duration": 4,
    "start_time": "2022-03-05T07:48:45.949Z"
   },
   {
    "duration": 10,
    "start_time": "2022-03-05T07:48:45.955Z"
   },
   {
    "duration": 2,
    "start_time": "2022-03-05T07:48:45.966Z"
   },
   {
    "duration": 10,
    "start_time": "2022-03-05T07:48:45.969Z"
   },
   {
    "duration": 30,
    "start_time": "2022-03-05T07:48:45.980Z"
   },
   {
    "duration": 2,
    "start_time": "2022-03-05T07:48:46.012Z"
   },
   {
    "duration": 605,
    "start_time": "2022-03-05T07:48:46.016Z"
   },
   {
    "duration": 4,
    "start_time": "2022-03-05T07:48:46.623Z"
   },
   {
    "duration": 4,
    "start_time": "2022-03-05T07:48:46.629Z"
   },
   {
    "duration": 12,
    "start_time": "2022-03-05T07:48:46.634Z"
   },
   {
    "duration": 9,
    "start_time": "2022-03-05T07:48:46.647Z"
   },
   {
    "duration": 1914,
    "start_time": "2022-03-05T07:48:46.657Z"
   },
   {
    "duration": 2,
    "start_time": "2022-03-05T07:48:48.573Z"
   },
   {
    "duration": 8,
    "start_time": "2022-03-05T07:48:48.577Z"
   },
   {
    "duration": 29,
    "start_time": "2022-03-05T07:48:48.587Z"
   },
   {
    "duration": 292,
    "start_time": "2022-03-05T07:48:48.617Z"
   },
   {
    "duration": 4,
    "start_time": "2022-03-05T07:48:48.910Z"
   },
   {
    "duration": 10,
    "start_time": "2022-03-05T07:48:48.915Z"
   },
   {
    "duration": 1016,
    "start_time": "2022-03-05T07:48:48.926Z"
   },
   {
    "duration": 300,
    "start_time": "2022-03-05T07:48:49.944Z"
   },
   {
    "duration": 8,
    "start_time": "2022-03-05T07:48:50.245Z"
   },
   {
    "duration": 305,
    "start_time": "2022-03-05T07:48:50.254Z"
   },
   {
    "duration": 7,
    "start_time": "2022-03-05T07:48:50.560Z"
   },
   {
    "duration": 37,
    "start_time": "2022-03-05T07:48:50.569Z"
   },
   {
    "duration": 2,
    "start_time": "2022-03-05T07:48:50.607Z"
   },
   {
    "duration": 7,
    "start_time": "2022-03-05T07:48:50.611Z"
   },
   {
    "duration": 4,
    "start_time": "2022-03-05T07:48:50.620Z"
   },
   {
    "duration": 496,
    "start_time": "2022-03-05T07:48:50.630Z"
   },
   {
    "duration": 8,
    "start_time": "2022-03-05T07:48:51.128Z"
   },
   {
    "duration": 9,
    "start_time": "2022-03-05T07:48:51.137Z"
   },
   {
    "duration": 360,
    "start_time": "2022-03-05T07:48:51.148Z"
   },
   {
    "duration": 8,
    "start_time": "2022-03-05T07:48:51.510Z"
   },
   {
    "duration": 9,
    "start_time": "2022-03-05T07:48:51.519Z"
   },
   {
    "duration": 325,
    "start_time": "2022-03-05T07:48:51.529Z"
   },
   {
    "duration": 8,
    "start_time": "2022-03-05T07:48:51.856Z"
   },
   {
    "duration": 44,
    "start_time": "2022-03-05T07:48:51.865Z"
   },
   {
    "duration": 539,
    "start_time": "2022-03-05T07:48:51.911Z"
   },
   {
    "duration": 60,
    "start_time": "2022-03-05T07:48:52.451Z"
   },
   {
    "duration": 7,
    "start_time": "2022-03-05T07:48:52.512Z"
   },
   {
    "duration": 8,
    "start_time": "2022-03-05T07:48:52.520Z"
   },
   {
    "duration": 7,
    "start_time": "2022-03-05T07:48:52.529Z"
   },
   {
    "duration": 11,
    "start_time": "2022-03-05T07:48:52.537Z"
   },
   {
    "duration": 478,
    "start_time": "2022-03-05T07:48:52.549Z"
   },
   {
    "duration": 9,
    "start_time": "2022-03-05T07:48:53.028Z"
   },
   {
    "duration": 3,
    "start_time": "2022-03-05T07:48:53.038Z"
   },
   {
    "duration": 7,
    "start_time": "2022-03-05T07:48:53.043Z"
   },
   {
    "duration": 54,
    "start_time": "2022-03-05T07:48:53.051Z"
   },
   {
    "duration": 8,
    "start_time": "2022-03-05T07:48:53.107Z"
   },
   {
    "duration": 490,
    "start_time": "2022-03-05T07:48:53.116Z"
   },
   {
    "duration": 9,
    "start_time": "2022-03-05T07:48:53.607Z"
   },
   {
    "duration": 7,
    "start_time": "2022-03-05T07:48:53.617Z"
   },
   {
    "duration": 10,
    "start_time": "2022-03-05T07:48:53.626Z"
   },
   {
    "duration": 264,
    "start_time": "2022-03-05T07:48:53.637Z"
   },
   {
    "duration": 8,
    "start_time": "2022-03-05T07:48:53.902Z"
   },
   {
    "duration": 11,
    "start_time": "2022-03-05T07:48:53.912Z"
   },
   {
    "duration": 227,
    "start_time": "2022-03-05T07:48:53.925Z"
   },
   {
    "duration": 8,
    "start_time": "2022-03-05T07:48:54.153Z"
   },
   {
    "duration": 9,
    "start_time": "2022-03-05T07:48:54.163Z"
   },
   {
    "duration": 232,
    "start_time": "2022-03-05T07:48:54.173Z"
   },
   {
    "duration": 7,
    "start_time": "2022-03-05T07:48:54.407Z"
   },
   {
    "duration": 8,
    "start_time": "2022-03-05T07:48:54.416Z"
   },
   {
    "duration": 224,
    "start_time": "2022-03-05T07:48:54.425Z"
   },
   {
    "duration": 8,
    "start_time": "2022-03-05T07:48:54.650Z"
   },
   {
    "duration": 6,
    "start_time": "2022-03-05T07:48:54.659Z"
   },
   {
    "duration": 7,
    "start_time": "2022-03-05T07:48:54.666Z"
   },
   {
    "duration": 8,
    "start_time": "2022-03-05T07:48:54.675Z"
   },
   {
    "duration": 6,
    "start_time": "2022-03-05T07:48:54.684Z"
   },
   {
    "duration": 17,
    "start_time": "2022-03-05T07:48:54.692Z"
   },
   {
    "duration": 4,
    "start_time": "2022-03-05T07:48:54.710Z"
   },
   {
    "duration": 5,
    "start_time": "2022-03-05T07:48:54.715Z"
   },
   {
    "duration": 5,
    "start_time": "2022-03-05T07:48:54.721Z"
   },
   {
    "duration": 9,
    "start_time": "2022-03-05T07:48:54.727Z"
   },
   {
    "duration": 6,
    "start_time": "2022-03-05T07:48:54.738Z"
   },
   {
    "duration": 5,
    "start_time": "2022-03-05T07:48:54.745Z"
   },
   {
    "duration": 4,
    "start_time": "2022-03-05T07:48:54.752Z"
   },
   {
    "duration": 5,
    "start_time": "2022-03-05T07:48:54.757Z"
   },
   {
    "duration": 6,
    "start_time": "2022-03-05T07:48:54.763Z"
   },
   {
    "duration": 4,
    "start_time": "2022-03-05T07:49:53.518Z"
   },
   {
    "duration": 8,
    "start_time": "2022-03-05T07:49:57.032Z"
   },
   {
    "duration": 638,
    "start_time": "2022-03-05T08:04:46.296Z"
   },
   {
    "duration": 341,
    "start_time": "2022-03-05T08:04:58.909Z"
   },
   {
    "duration": 653,
    "start_time": "2022-03-05T08:05:47.514Z"
   },
   {
    "duration": 345,
    "start_time": "2022-03-05T08:06:01.803Z"
   },
   {
    "duration": 570,
    "start_time": "2022-03-05T08:06:07.659Z"
   },
   {
    "duration": 522,
    "start_time": "2022-03-05T08:06:17.692Z"
   },
   {
    "duration": 471,
    "start_time": "2022-03-05T08:06:20.137Z"
   },
   {
    "duration": 515,
    "start_time": "2022-03-05T08:06:43.004Z"
   },
   {
    "duration": 120,
    "start_time": "2022-03-05T08:14:51.014Z"
   },
   {
    "duration": 1095,
    "start_time": "2022-03-05T08:14:59.625Z"
   },
   {
    "duration": 37,
    "start_time": "2022-03-05T08:15:00.722Z"
   },
   {
    "duration": 16,
    "start_time": "2022-03-05T08:15:00.761Z"
   },
   {
    "duration": 19,
    "start_time": "2022-03-05T08:15:00.779Z"
   },
   {
    "duration": 593,
    "start_time": "2022-03-05T08:15:00.799Z"
   },
   {
    "duration": 8,
    "start_time": "2022-03-05T08:15:01.394Z"
   },
   {
    "duration": 18,
    "start_time": "2022-03-05T08:15:01.405Z"
   },
   {
    "duration": 13,
    "start_time": "2022-03-05T08:15:01.426Z"
   },
   {
    "duration": 7,
    "start_time": "2022-03-05T08:15:01.440Z"
   },
   {
    "duration": 7,
    "start_time": "2022-03-05T08:15:01.449Z"
   },
   {
    "duration": 7,
    "start_time": "2022-03-05T08:15:01.457Z"
   },
   {
    "duration": 7,
    "start_time": "2022-03-05T08:15:01.466Z"
   },
   {
    "duration": 30,
    "start_time": "2022-03-05T08:15:01.475Z"
   },
   {
    "duration": 8,
    "start_time": "2022-03-05T08:15:01.507Z"
   },
   {
    "duration": 7,
    "start_time": "2022-03-05T08:15:01.517Z"
   },
   {
    "duration": 27,
    "start_time": "2022-03-05T08:15:01.526Z"
   },
   {
    "duration": 3,
    "start_time": "2022-03-05T08:15:01.554Z"
   },
   {
    "duration": 22,
    "start_time": "2022-03-05T08:15:01.558Z"
   },
   {
    "duration": 26,
    "start_time": "2022-03-05T08:15:01.581Z"
   },
   {
    "duration": 5,
    "start_time": "2022-03-05T08:15:01.609Z"
   },
   {
    "duration": 598,
    "start_time": "2022-03-05T08:15:01.615Z"
   },
   {
    "duration": 6,
    "start_time": "2022-03-05T08:15:02.215Z"
   },
   {
    "duration": 625,
    "start_time": "2022-03-05T08:15:02.225Z"
   },
   {
    "duration": 5,
    "start_time": "2022-03-05T08:15:02.852Z"
   },
   {
    "duration": 11,
    "start_time": "2022-03-05T08:15:02.859Z"
   },
   {
    "duration": 22,
    "start_time": "2022-03-05T08:15:02.872Z"
   },
   {
    "duration": 4,
    "start_time": "2022-03-05T08:15:02.905Z"
   },
   {
    "duration": 24,
    "start_time": "2022-03-05T08:15:02.910Z"
   },
   {
    "duration": 5,
    "start_time": "2022-03-05T08:15:02.936Z"
   },
   {
    "duration": 7,
    "start_time": "2022-03-05T08:15:02.943Z"
   },
   {
    "duration": 9,
    "start_time": "2022-03-05T08:15:02.951Z"
   },
   {
    "duration": 13,
    "start_time": "2022-03-05T08:15:02.962Z"
   },
   {
    "duration": 30,
    "start_time": "2022-03-05T08:15:02.977Z"
   },
   {
    "duration": 13,
    "start_time": "2022-03-05T08:15:03.009Z"
   },
   {
    "duration": 9,
    "start_time": "2022-03-05T08:15:03.024Z"
   },
   {
    "duration": 12,
    "start_time": "2022-03-05T08:15:03.035Z"
   },
   {
    "duration": 3,
    "start_time": "2022-03-05T08:15:03.049Z"
   },
   {
    "duration": 453,
    "start_time": "2022-03-05T08:15:03.054Z"
   },
   {
    "duration": 6,
    "start_time": "2022-03-05T08:15:03.509Z"
   },
   {
    "duration": 10,
    "start_time": "2022-03-05T08:15:03.517Z"
   },
   {
    "duration": 6,
    "start_time": "2022-03-05T08:15:03.529Z"
   },
   {
    "duration": 10,
    "start_time": "2022-03-05T08:15:03.536Z"
   },
   {
    "duration": 18,
    "start_time": "2022-03-05T08:15:03.547Z"
   },
   {
    "duration": 2,
    "start_time": "2022-03-05T08:15:03.567Z"
   },
   {
    "duration": 783,
    "start_time": "2022-03-05T08:15:03.571Z"
   },
   {
    "duration": 7,
    "start_time": "2022-03-05T08:15:04.356Z"
   },
   {
    "duration": 6,
    "start_time": "2022-03-05T08:15:04.365Z"
   },
   {
    "duration": 33,
    "start_time": "2022-03-05T08:15:04.372Z"
   },
   {
    "duration": 10,
    "start_time": "2022-03-05T08:15:04.407Z"
   },
   {
    "duration": 2476,
    "start_time": "2022-03-05T08:15:04.419Z"
   },
   {
    "duration": 9,
    "start_time": "2022-03-05T08:15:06.896Z"
   },
   {
    "duration": 6,
    "start_time": "2022-03-05T08:15:06.906Z"
   },
   {
    "duration": 17,
    "start_time": "2022-03-05T08:15:06.913Z"
   },
   {
    "duration": 318,
    "start_time": "2022-03-05T08:15:06.932Z"
   },
   {
    "duration": 3,
    "start_time": "2022-03-05T08:15:07.252Z"
   },
   {
    "duration": 10,
    "start_time": "2022-03-05T08:15:07.257Z"
   },
   {
    "duration": 1028,
    "start_time": "2022-03-05T08:15:07.269Z"
   },
   {
    "duration": 236,
    "start_time": "2022-03-05T08:15:08.299Z"
   },
   {
    "duration": 311,
    "start_time": "2022-03-05T08:15:08.537Z"
   },
   {
    "duration": 8,
    "start_time": "2022-03-05T08:15:08.850Z"
   },
   {
    "duration": 323,
    "start_time": "2022-03-05T08:15:08.859Z"
   },
   {
    "duration": 8,
    "start_time": "2022-03-05T08:15:09.183Z"
   },
   {
    "duration": 44,
    "start_time": "2022-03-05T08:15:09.192Z"
   },
   {
    "duration": 3,
    "start_time": "2022-03-05T08:15:09.237Z"
   },
   {
    "duration": 12,
    "start_time": "2022-03-05T08:15:09.241Z"
   },
   {
    "duration": 16,
    "start_time": "2022-03-05T08:15:09.254Z"
   },
   {
    "duration": 671,
    "start_time": "2022-03-05T08:15:09.271Z"
   },
   {
    "duration": 58,
    "start_time": "2022-03-05T08:15:09.947Z"
   },
   {
    "duration": 7,
    "start_time": "2022-03-05T08:15:10.008Z"
   },
   {
    "duration": 400,
    "start_time": "2022-03-05T08:15:10.017Z"
   },
   {
    "duration": 8,
    "start_time": "2022-03-05T08:15:10.419Z"
   },
   {
    "duration": 8,
    "start_time": "2022-03-05T08:15:10.429Z"
   },
   {
    "duration": 322,
    "start_time": "2022-03-05T08:15:10.439Z"
   },
   {
    "duration": 9,
    "start_time": "2022-03-05T08:15:10.763Z"
   },
   {
    "duration": 13,
    "start_time": "2022-03-05T08:15:10.774Z"
   },
   {
    "duration": 240,
    "start_time": "2022-03-05T08:15:10.789Z"
   },
   {
    "duration": 9,
    "start_time": "2022-03-05T08:15:11.031Z"
   },
   {
    "duration": 7,
    "start_time": "2022-03-05T08:15:11.042Z"
   },
   {
    "duration": 5,
    "start_time": "2022-03-05T08:15:11.051Z"
   },
   {
    "duration": 5,
    "start_time": "2022-03-05T08:15:11.058Z"
   },
   {
    "duration": 10,
    "start_time": "2022-03-05T08:15:11.064Z"
   },
   {
    "duration": 261,
    "start_time": "2022-03-05T08:15:11.075Z"
   },
   {
    "duration": 8,
    "start_time": "2022-03-05T08:15:11.338Z"
   },
   {
    "duration": 5,
    "start_time": "2022-03-05T08:15:11.348Z"
   },
   {
    "duration": 5,
    "start_time": "2022-03-05T08:15:11.354Z"
   },
   {
    "duration": 5,
    "start_time": "2022-03-05T08:15:11.360Z"
   },
   {
    "duration": 9,
    "start_time": "2022-03-05T08:15:11.366Z"
   },
   {
    "duration": 265,
    "start_time": "2022-03-05T08:15:11.377Z"
   },
   {
    "duration": 8,
    "start_time": "2022-03-05T08:15:11.644Z"
   },
   {
    "duration": 9,
    "start_time": "2022-03-05T08:15:11.653Z"
   },
   {
    "duration": 10,
    "start_time": "2022-03-05T08:15:11.663Z"
   },
   {
    "duration": 246,
    "start_time": "2022-03-05T08:15:11.674Z"
   },
   {
    "duration": 8,
    "start_time": "2022-03-05T08:15:11.922Z"
   },
   {
    "duration": 9,
    "start_time": "2022-03-05T08:15:11.931Z"
   },
   {
    "duration": 246,
    "start_time": "2022-03-05T08:15:11.942Z"
   },
   {
    "duration": 17,
    "start_time": "2022-03-05T08:15:12.189Z"
   },
   {
    "duration": 8,
    "start_time": "2022-03-05T08:15:12.207Z"
   },
   {
    "duration": 244,
    "start_time": "2022-03-05T08:15:12.217Z"
   },
   {
    "duration": 7,
    "start_time": "2022-03-05T08:15:12.463Z"
   },
   {
    "duration": 8,
    "start_time": "2022-03-05T08:15:12.472Z"
   },
   {
    "duration": 233,
    "start_time": "2022-03-05T08:15:12.481Z"
   },
   {
    "duration": 9,
    "start_time": "2022-03-05T08:15:12.715Z"
   },
   {
    "duration": 6,
    "start_time": "2022-03-05T08:15:12.725Z"
   },
   {
    "duration": 5,
    "start_time": "2022-03-05T08:15:12.733Z"
   },
   {
    "duration": 9,
    "start_time": "2022-03-05T08:15:12.739Z"
   },
   {
    "duration": 8,
    "start_time": "2022-03-05T08:15:12.749Z"
   },
   {
    "duration": 9,
    "start_time": "2022-03-05T08:15:12.758Z"
   },
   {
    "duration": 6,
    "start_time": "2022-03-05T08:15:12.768Z"
   },
   {
    "duration": 7,
    "start_time": "2022-03-05T08:15:12.775Z"
   },
   {
    "duration": 5,
    "start_time": "2022-03-05T08:15:12.784Z"
   },
   {
    "duration": 19,
    "start_time": "2022-03-05T08:15:12.790Z"
   },
   {
    "duration": 12,
    "start_time": "2022-03-05T08:15:12.811Z"
   },
   {
    "duration": 9,
    "start_time": "2022-03-05T08:15:12.825Z"
   },
   {
    "duration": 7,
    "start_time": "2022-03-05T08:15:12.835Z"
   },
   {
    "duration": 7,
    "start_time": "2022-03-05T08:15:12.844Z"
   },
   {
    "duration": 12,
    "start_time": "2022-03-05T08:15:12.853Z"
   },
   {
    "duration": 3,
    "start_time": "2022-03-05T08:16:25.497Z"
   },
   {
    "duration": 3,
    "start_time": "2022-03-05T08:16:51.945Z"
   },
   {
    "duration": 18,
    "start_time": "2022-03-05T08:16:52.974Z"
   },
   {
    "duration": 4,
    "start_time": "2022-03-05T08:17:02.263Z"
   },
   {
    "duration": 4,
    "start_time": "2022-03-05T08:17:04.441Z"
   },
   {
    "duration": 396,
    "start_time": "2022-03-05T08:18:14.050Z"
   },
   {
    "duration": 381,
    "start_time": "2022-03-05T08:18:23.450Z"
   },
   {
    "duration": 599,
    "start_time": "2022-03-05T08:18:49.067Z"
   },
   {
    "duration": 590,
    "start_time": "2022-03-05T08:19:37.205Z"
   },
   {
    "duration": 518,
    "start_time": "2022-03-05T08:19:48.301Z"
   },
   {
    "duration": 515,
    "start_time": "2022-03-05T08:20:00.429Z"
   },
   {
    "duration": 823,
    "start_time": "2022-03-05T08:20:11.550Z"
   },
   {
    "duration": 536,
    "start_time": "2022-03-05T08:20:18.798Z"
   },
   {
    "duration": 391,
    "start_time": "2022-03-05T08:20:57.655Z"
   },
   {
    "duration": 570,
    "start_time": "2022-03-05T08:21:49.952Z"
   },
   {
    "duration": 292,
    "start_time": "2022-03-05T08:22:00.512Z"
   },
   {
    "duration": 521,
    "start_time": "2022-03-05T08:22:07.130Z"
   },
   {
    "duration": 456,
    "start_time": "2022-03-05T08:22:19.122Z"
   },
   {
    "duration": 443,
    "start_time": "2022-03-05T08:23:01.580Z"
   },
   {
    "duration": 685,
    "start_time": "2022-03-05T08:24:23.534Z"
   },
   {
    "duration": 42445,
    "start_time": "2022-03-05T08:26:20.402Z"
   },
   {
    "duration": 9266,
    "start_time": "2022-03-05T08:27:50.126Z"
   },
   {
    "duration": 9186,
    "start_time": "2022-03-05T08:28:23.840Z"
   },
   {
    "duration": 2151,
    "start_time": "2022-03-05T08:28:49.456Z"
   },
   {
    "duration": 518,
    "start_time": "2022-03-05T08:29:04.279Z"
   },
   {
    "duration": 667,
    "start_time": "2022-03-05T08:29:10.792Z"
   },
   {
    "duration": 499,
    "start_time": "2022-03-05T08:29:26.184Z"
   },
   {
    "duration": 486,
    "start_time": "2022-03-05T08:30:55.557Z"
   },
   {
    "duration": 482,
    "start_time": "2022-03-05T08:31:06.997Z"
   },
   {
    "duration": 505,
    "start_time": "2022-03-05T08:31:24.838Z"
   },
   {
    "duration": 5220,
    "start_time": "2022-03-05T08:31:49.607Z"
   },
   {
    "duration": 670,
    "start_time": "2022-03-05T08:33:01.305Z"
   },
   {
    "duration": 479,
    "start_time": "2022-03-05T08:33:10.273Z"
   },
   {
    "duration": 169,
    "start_time": "2022-03-05T08:35:21.047Z"
   },
   {
    "duration": 461,
    "start_time": "2022-03-05T08:35:24.894Z"
   },
   {
    "duration": 464,
    "start_time": "2022-03-05T08:35:51.296Z"
   },
   {
    "duration": 422,
    "start_time": "2022-03-05T08:36:07.087Z"
   },
   {
    "duration": 417,
    "start_time": "2022-03-05T08:36:19.409Z"
   },
   {
    "duration": 388,
    "start_time": "2022-03-05T08:36:53.626Z"
   },
   {
    "duration": 430,
    "start_time": "2022-03-05T08:37:04.419Z"
   },
   {
    "duration": 379,
    "start_time": "2022-03-05T08:37:10.586Z"
   },
   {
    "duration": 727,
    "start_time": "2022-03-05T08:37:26.450Z"
   },
   {
    "duration": 700,
    "start_time": "2022-03-05T08:37:37.676Z"
   },
   {
    "duration": 492,
    "start_time": "2022-03-05T08:38:10.677Z"
   },
   {
    "duration": 460,
    "start_time": "2022-03-05T08:38:21.827Z"
   },
   {
    "duration": 468,
    "start_time": "2022-03-05T08:38:39.774Z"
   },
   {
    "duration": 1071,
    "start_time": "2022-03-05T08:40:19.708Z"
   },
   {
    "duration": 47,
    "start_time": "2022-03-05T08:40:20.781Z"
   },
   {
    "duration": 15,
    "start_time": "2022-03-05T08:40:20.830Z"
   },
   {
    "duration": 11,
    "start_time": "2022-03-05T08:40:20.846Z"
   },
   {
    "duration": 597,
    "start_time": "2022-03-05T08:40:20.858Z"
   },
   {
    "duration": 7,
    "start_time": "2022-03-05T08:40:21.456Z"
   },
   {
    "duration": 18,
    "start_time": "2022-03-05T08:40:21.464Z"
   },
   {
    "duration": 23,
    "start_time": "2022-03-05T08:40:21.484Z"
   },
   {
    "duration": 7,
    "start_time": "2022-03-05T08:40:21.509Z"
   },
   {
    "duration": 6,
    "start_time": "2022-03-05T08:40:21.518Z"
   },
   {
    "duration": 10,
    "start_time": "2022-03-05T08:40:21.525Z"
   },
   {
    "duration": 7,
    "start_time": "2022-03-05T08:40:21.537Z"
   },
   {
    "duration": 7,
    "start_time": "2022-03-05T08:40:21.545Z"
   },
   {
    "duration": 11,
    "start_time": "2022-03-05T08:40:21.553Z"
   },
   {
    "duration": 7,
    "start_time": "2022-03-05T08:40:21.565Z"
   },
   {
    "duration": 47,
    "start_time": "2022-03-05T08:40:21.573Z"
   },
   {
    "duration": 3,
    "start_time": "2022-03-05T08:40:21.622Z"
   },
   {
    "duration": 21,
    "start_time": "2022-03-05T08:40:21.627Z"
   },
   {
    "duration": 5,
    "start_time": "2022-03-05T08:40:21.650Z"
   },
   {
    "duration": 9,
    "start_time": "2022-03-05T08:40:21.657Z"
   },
   {
    "duration": 636,
    "start_time": "2022-03-05T08:40:21.667Z"
   },
   {
    "duration": 7,
    "start_time": "2022-03-05T08:40:22.305Z"
   },
   {
    "duration": 563,
    "start_time": "2022-03-05T08:40:22.315Z"
   },
   {
    "duration": 4,
    "start_time": "2022-03-05T08:40:22.880Z"
   },
   {
    "duration": 8,
    "start_time": "2022-03-05T08:40:22.885Z"
   },
   {
    "duration": 26,
    "start_time": "2022-03-05T08:40:22.895Z"
   },
   {
    "duration": 4,
    "start_time": "2022-03-05T08:40:22.922Z"
   },
   {
    "duration": 18,
    "start_time": "2022-03-05T08:40:22.927Z"
   },
   {
    "duration": 9,
    "start_time": "2022-03-05T08:40:22.946Z"
   },
   {
    "duration": 6,
    "start_time": "2022-03-05T08:40:22.956Z"
   },
   {
    "duration": 8,
    "start_time": "2022-03-05T08:40:22.963Z"
   },
   {
    "duration": 10,
    "start_time": "2022-03-05T08:40:22.972Z"
   },
   {
    "duration": 21,
    "start_time": "2022-03-05T08:40:22.984Z"
   },
   {
    "duration": 10,
    "start_time": "2022-03-05T08:40:23.007Z"
   },
   {
    "duration": 11,
    "start_time": "2022-03-05T08:40:23.019Z"
   },
   {
    "duration": 14,
    "start_time": "2022-03-05T08:40:23.031Z"
   },
   {
    "duration": 3,
    "start_time": "2022-03-05T08:40:23.047Z"
   },
   {
    "duration": 402,
    "start_time": "2022-03-05T08:40:23.051Z"
   },
   {
    "duration": 4,
    "start_time": "2022-03-05T08:40:23.455Z"
   },
   {
    "duration": 14,
    "start_time": "2022-03-05T08:40:23.461Z"
   },
   {
    "duration": 2,
    "start_time": "2022-03-05T08:40:23.477Z"
   },
   {
    "duration": 8,
    "start_time": "2022-03-05T08:40:23.480Z"
   },
   {
    "duration": 26,
    "start_time": "2022-03-05T08:40:23.490Z"
   },
   {
    "duration": 2,
    "start_time": "2022-03-05T08:40:23.518Z"
   },
   {
    "duration": 643,
    "start_time": "2022-03-05T08:40:23.522Z"
   },
   {
    "duration": 6,
    "start_time": "2022-03-05T08:40:24.166Z"
   },
   {
    "duration": 3,
    "start_time": "2022-03-05T08:40:24.174Z"
   },
   {
    "duration": 14,
    "start_time": "2022-03-05T08:40:24.178Z"
   },
   {
    "duration": 8,
    "start_time": "2022-03-05T08:40:24.205Z"
   },
   {
    "duration": 2075,
    "start_time": "2022-03-05T08:40:24.215Z"
   },
   {
    "duration": 2,
    "start_time": "2022-03-05T08:40:26.291Z"
   },
   {
    "duration": 17,
    "start_time": "2022-03-05T08:40:26.294Z"
   },
   {
    "duration": 29,
    "start_time": "2022-03-05T08:40:26.312Z"
   },
   {
    "duration": 302,
    "start_time": "2022-03-05T08:40:26.343Z"
   },
   {
    "duration": 3,
    "start_time": "2022-03-05T08:40:26.647Z"
   },
   {
    "duration": 20,
    "start_time": "2022-03-05T08:40:26.651Z"
   },
   {
    "duration": 1183,
    "start_time": "2022-03-05T08:40:26.672Z"
   },
   {
    "duration": 221,
    "start_time": "2022-03-05T08:40:27.856Z"
   },
   {
    "duration": 366,
    "start_time": "2022-03-05T08:40:28.078Z"
   },
   {
    "duration": 9,
    "start_time": "2022-03-05T08:40:28.445Z"
   },
   {
    "duration": 319,
    "start_time": "2022-03-05T08:40:28.455Z"
   },
   {
    "duration": 8,
    "start_time": "2022-03-05T08:40:28.775Z"
   },
   {
    "duration": 46,
    "start_time": "2022-03-05T08:40:28.785Z"
   },
   {
    "duration": 3,
    "start_time": "2022-03-05T08:40:28.832Z"
   },
   {
    "duration": 7,
    "start_time": "2022-03-05T08:40:28.836Z"
   },
   {
    "duration": 6,
    "start_time": "2022-03-05T08:40:28.845Z"
   },
   {
    "duration": 464,
    "start_time": "2022-03-05T08:40:28.853Z"
   },
   {
    "duration": 9,
    "start_time": "2022-03-05T08:40:29.322Z"
   },
   {
    "duration": 9,
    "start_time": "2022-03-05T08:40:29.333Z"
   },
   {
    "duration": 237,
    "start_time": "2022-03-05T08:40:29.343Z"
   },
   {
    "duration": 8,
    "start_time": "2022-03-05T08:40:29.581Z"
   },
   {
    "duration": 16,
    "start_time": "2022-03-05T08:40:29.591Z"
   },
   {
    "duration": 299,
    "start_time": "2022-03-05T08:40:29.608Z"
   },
   {
    "duration": 8,
    "start_time": "2022-03-05T08:40:29.908Z"
   },
   {
    "duration": 10,
    "start_time": "2022-03-05T08:40:29.917Z"
   },
   {
    "duration": 232,
    "start_time": "2022-03-05T08:40:29.928Z"
   },
   {
    "duration": 8,
    "start_time": "2022-03-05T08:40:30.162Z"
   },
   {
    "duration": 10,
    "start_time": "2022-03-05T08:40:30.172Z"
   },
   {
    "duration": 11,
    "start_time": "2022-03-05T08:40:30.183Z"
   },
   {
    "duration": 7,
    "start_time": "2022-03-05T08:40:30.196Z"
   },
   {
    "duration": 10,
    "start_time": "2022-03-05T08:40:30.204Z"
   },
   {
    "duration": 232,
    "start_time": "2022-03-05T08:40:30.215Z"
   },
   {
    "duration": 10,
    "start_time": "2022-03-05T08:40:30.449Z"
   },
   {
    "duration": 8,
    "start_time": "2022-03-05T08:40:30.460Z"
   },
   {
    "duration": 7,
    "start_time": "2022-03-05T08:40:30.469Z"
   },
   {
    "duration": 17,
    "start_time": "2022-03-05T08:40:30.478Z"
   },
   {
    "duration": 17,
    "start_time": "2022-03-05T08:40:30.497Z"
   },
   {
    "duration": 247,
    "start_time": "2022-03-05T08:40:30.516Z"
   },
   {
    "duration": 9,
    "start_time": "2022-03-05T08:40:30.765Z"
   },
   {
    "duration": 14,
    "start_time": "2022-03-05T08:40:30.775Z"
   },
   {
    "duration": 19,
    "start_time": "2022-03-05T08:40:30.790Z"
   },
   {
    "duration": 247,
    "start_time": "2022-03-05T08:40:30.811Z"
   },
   {
    "duration": 9,
    "start_time": "2022-03-05T08:40:31.060Z"
   },
   {
    "duration": 9,
    "start_time": "2022-03-05T08:40:31.070Z"
   },
   {
    "duration": 241,
    "start_time": "2022-03-05T08:40:31.080Z"
   },
   {
    "duration": 8,
    "start_time": "2022-03-05T08:40:31.322Z"
   },
   {
    "duration": 10,
    "start_time": "2022-03-05T08:40:31.332Z"
   },
   {
    "duration": 232,
    "start_time": "2022-03-05T08:40:31.343Z"
   },
   {
    "duration": 8,
    "start_time": "2022-03-05T08:40:31.576Z"
   },
   {
    "duration": 8,
    "start_time": "2022-03-05T08:40:31.586Z"
   },
   {
    "duration": 228,
    "start_time": "2022-03-05T08:40:31.595Z"
   },
   {
    "duration": 8,
    "start_time": "2022-03-05T08:40:31.825Z"
   },
   {
    "duration": 3,
    "start_time": "2022-03-05T08:40:31.834Z"
   },
   {
    "duration": 5,
    "start_time": "2022-03-05T08:40:31.838Z"
   },
   {
    "duration": 8,
    "start_time": "2022-03-05T08:40:31.844Z"
   },
   {
    "duration": 10,
    "start_time": "2022-03-05T08:40:31.854Z"
   },
   {
    "duration": 7,
    "start_time": "2022-03-05T08:40:31.865Z"
   },
   {
    "duration": 5,
    "start_time": "2022-03-05T08:40:31.873Z"
   },
   {
    "duration": 6,
    "start_time": "2022-03-05T08:40:31.879Z"
   },
   {
    "duration": 4,
    "start_time": "2022-03-05T08:40:31.886Z"
   },
   {
    "duration": 10,
    "start_time": "2022-03-05T08:40:31.905Z"
   },
   {
    "duration": 7,
    "start_time": "2022-03-05T08:40:31.916Z"
   },
   {
    "duration": 7,
    "start_time": "2022-03-05T08:40:31.924Z"
   },
   {
    "duration": 4,
    "start_time": "2022-03-05T08:40:31.932Z"
   },
   {
    "duration": 7,
    "start_time": "2022-03-05T08:40:31.937Z"
   },
   {
    "duration": 11,
    "start_time": "2022-03-05T08:40:31.945Z"
   },
   {
    "duration": 8,
    "start_time": "2022-03-05T08:40:31.957Z"
   },
   {
    "duration": 406,
    "start_time": "2022-03-05T08:40:31.966Z"
   },
   {
    "duration": 367,
    "start_time": "2022-03-05T08:40:32.373Z"
   }
  ],
  "kernelspec": {
   "display_name": "Python 3 (ipykernel)",
   "language": "python",
   "name": "python3"
  },
  "language_info": {
   "codemirror_mode": {
    "name": "ipython",
    "version": 3
   },
   "file_extension": ".py",
   "mimetype": "text/x-python",
   "name": "python",
   "nbconvert_exporter": "python",
   "pygments_lexer": "ipython3",
   "version": "3.9.7"
  },
  "toc": {
   "base_numbering": 1,
   "nav_menu": {},
   "number_sections": true,
   "sideBar": true,
   "skip_h1_title": true,
   "title_cell": "Содержание",
   "title_sidebar": "Содержание",
   "toc_cell": true,
   "toc_position": {},
   "toc_section_display": true,
   "toc_window_display": true
  }
 },
 "nbformat": 4,
 "nbformat_minor": 5
}
