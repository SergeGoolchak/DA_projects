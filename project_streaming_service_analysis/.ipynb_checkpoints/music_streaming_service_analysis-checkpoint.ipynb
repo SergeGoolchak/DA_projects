{
 "cells": [
  {
   "cell_type": "markdown",
   "metadata": {
    "id": "Ml1hmfXC_Zcs"
   },
   "source": [
    "## Обзор данных"
   ]
  },
  {
   "cell_type": "markdown",
   "metadata": {},
   "source": [
    "Импортируем библиотеки для работы."
   ]
  },
  {
   "cell_type": "code",
   "execution_count": 1,
   "metadata": {
    "id": "AXN7PHPN_Zcs"
   },
   "outputs": [],
   "source": [
    "import pandas as pd"
   ]
  },
  {
   "cell_type": "markdown",
   "metadata": {},
   "source": [
    "Создадим переменную `path`, куда запишем локальный путь расположения датасета."
   ]
  },
  {
   "cell_type": "code",
   "execution_count": 2,
   "metadata": {},
   "outputs": [],
   "source": [
    "path = '/Users/segagoose/Documents/YandexPracticum/Базовый Python'"
   ]
  },
  {
   "cell_type": "markdown",
   "metadata": {
    "id": "SG23P8tt_Zcs"
   },
   "source": [
    "Прочитаем файл с данными и сохраним его в переменной `df`."
   ]
  },
  {
   "cell_type": "code",
   "execution_count": 3,
   "metadata": {
    "id": "fFVu7vqh_Zct"
   },
   "outputs": [],
   "source": [
    "try:\n",
    "    df = pd.read_csv(path + '/data1.csv')\n",
    "except:\n",
    "    df = pd.read_csv('/datasets/yandex_music_project.csv')"
   ]
  },
  {
   "cell_type": "markdown",
   "metadata": {
    "id": "rDoOMd3uTqnZ"
   },
   "source": [
    "Выведем на экран первые десять строк таблицы."
   ]
  },
  {
   "cell_type": "code",
   "execution_count": 4,
   "metadata": {
    "id": "oWTVX3gW_Zct"
   },
   "outputs": [
    {
     "data": {
      "text/html": [
       "<div>\n",
       "<style scoped>\n",
       "    .dataframe tbody tr th:only-of-type {\n",
       "        vertical-align: middle;\n",
       "    }\n",
       "\n",
       "    .dataframe tbody tr th {\n",
       "        vertical-align: top;\n",
       "    }\n",
       "\n",
       "    .dataframe thead th {\n",
       "        text-align: right;\n",
       "    }\n",
       "</style>\n",
       "<table border=\"1\" class=\"dataframe\">\n",
       "  <thead>\n",
       "    <tr style=\"text-align: right;\">\n",
       "      <th></th>\n",
       "      <th>Unnamed: 0</th>\n",
       "      <th>userID</th>\n",
       "      <th>Track</th>\n",
       "      <th>artist</th>\n",
       "      <th>genre</th>\n",
       "      <th>City</th>\n",
       "      <th>time</th>\n",
       "      <th>Day</th>\n",
       "    </tr>\n",
       "  </thead>\n",
       "  <tbody>\n",
       "    <tr>\n",
       "      <th>0</th>\n",
       "      <td>0</td>\n",
       "      <td>FFB692EC</td>\n",
       "      <td>Kamigata To Boots</td>\n",
       "      <td>The Mass Missile</td>\n",
       "      <td>rock</td>\n",
       "      <td>Saint-Petersburg</td>\n",
       "      <td>20:28:33</td>\n",
       "      <td>Wednesday</td>\n",
       "    </tr>\n",
       "    <tr>\n",
       "      <th>1</th>\n",
       "      <td>1</td>\n",
       "      <td>55204538</td>\n",
       "      <td>Delayed Because of Accident</td>\n",
       "      <td>Andreas Rönnberg</td>\n",
       "      <td>rock</td>\n",
       "      <td>Moscow</td>\n",
       "      <td>14:07:09</td>\n",
       "      <td>Friday</td>\n",
       "    </tr>\n",
       "    <tr>\n",
       "      <th>2</th>\n",
       "      <td>2</td>\n",
       "      <td>20EC38</td>\n",
       "      <td>Funiculì funiculà</td>\n",
       "      <td>Mario Lanza</td>\n",
       "      <td>pop</td>\n",
       "      <td>Saint-Petersburg</td>\n",
       "      <td>20:58:07</td>\n",
       "      <td>Wednesday</td>\n",
       "    </tr>\n",
       "    <tr>\n",
       "      <th>3</th>\n",
       "      <td>3</td>\n",
       "      <td>A3DD03C9</td>\n",
       "      <td>Dragons in the Sunset</td>\n",
       "      <td>Fire + Ice</td>\n",
       "      <td>folk</td>\n",
       "      <td>Saint-Petersburg</td>\n",
       "      <td>08:37:09</td>\n",
       "      <td>Monday</td>\n",
       "    </tr>\n",
       "    <tr>\n",
       "      <th>4</th>\n",
       "      <td>4</td>\n",
       "      <td>E2DC1FAE</td>\n",
       "      <td>Soul People</td>\n",
       "      <td>Space Echo</td>\n",
       "      <td>dance</td>\n",
       "      <td>Moscow</td>\n",
       "      <td>08:34:34</td>\n",
       "      <td>Monday</td>\n",
       "    </tr>\n",
       "    <tr>\n",
       "      <th>5</th>\n",
       "      <td>5</td>\n",
       "      <td>842029A1</td>\n",
       "      <td>Преданная</td>\n",
       "      <td>IMPERVTOR</td>\n",
       "      <td>rusrap</td>\n",
       "      <td>Saint-Petersburg</td>\n",
       "      <td>13:09:41</td>\n",
       "      <td>Friday</td>\n",
       "    </tr>\n",
       "    <tr>\n",
       "      <th>6</th>\n",
       "      <td>6</td>\n",
       "      <td>4CB90AA5</td>\n",
       "      <td>True</td>\n",
       "      <td>Roman Messer</td>\n",
       "      <td>dance</td>\n",
       "      <td>Moscow</td>\n",
       "      <td>13:00:07</td>\n",
       "      <td>Wednesday</td>\n",
       "    </tr>\n",
       "    <tr>\n",
       "      <th>7</th>\n",
       "      <td>7</td>\n",
       "      <td>F03E1C1F</td>\n",
       "      <td>Feeling This Way</td>\n",
       "      <td>Polina Griffith</td>\n",
       "      <td>dance</td>\n",
       "      <td>Moscow</td>\n",
       "      <td>20:47:49</td>\n",
       "      <td>Wednesday</td>\n",
       "    </tr>\n",
       "    <tr>\n",
       "      <th>8</th>\n",
       "      <td>8</td>\n",
       "      <td>8FA1D3BE</td>\n",
       "      <td>И вновь продолжается бой</td>\n",
       "      <td>NaN</td>\n",
       "      <td>ruspop</td>\n",
       "      <td>Moscow</td>\n",
       "      <td>09:17:40</td>\n",
       "      <td>Friday</td>\n",
       "    </tr>\n",
       "    <tr>\n",
       "      <th>9</th>\n",
       "      <td>9</td>\n",
       "      <td>E772D5C0</td>\n",
       "      <td>Pessimist</td>\n",
       "      <td>NaN</td>\n",
       "      <td>dance</td>\n",
       "      <td>Saint-Petersburg</td>\n",
       "      <td>21:20:49</td>\n",
       "      <td>Wednesday</td>\n",
       "    </tr>\n",
       "  </tbody>\n",
       "</table>\n",
       "</div>"
      ],
      "text/plain": [
       "   Unnamed: 0    userID                        Track            artist  \\\n",
       "0           0  FFB692EC            Kamigata To Boots  The Mass Missile   \n",
       "1           1  55204538  Delayed Because of Accident  Andreas Rönnberg   \n",
       "2           2    20EC38            Funiculì funiculà       Mario Lanza   \n",
       "3           3  A3DD03C9        Dragons in the Sunset        Fire + Ice   \n",
       "4           4  E2DC1FAE                  Soul People        Space Echo   \n",
       "5           5  842029A1                    Преданная         IMPERVTOR   \n",
       "6           6  4CB90AA5                         True      Roman Messer   \n",
       "7           7  F03E1C1F             Feeling This Way   Polina Griffith   \n",
       "8           8  8FA1D3BE     И вновь продолжается бой               NaN   \n",
       "9           9  E772D5C0                    Pessimist               NaN   \n",
       "\n",
       "    genre            City        time        Day  \n",
       "0    rock  Saint-Petersburg  20:28:33  Wednesday  \n",
       "1    rock            Moscow  14:07:09     Friday  \n",
       "2     pop  Saint-Petersburg  20:58:07  Wednesday  \n",
       "3    folk  Saint-Petersburg  08:37:09     Monday  \n",
       "4   dance            Moscow  08:34:34     Monday  \n",
       "5  rusrap  Saint-Petersburg  13:09:41     Friday  \n",
       "6   dance            Moscow  13:00:07  Wednesday  \n",
       "7   dance            Moscow  20:47:49  Wednesday  \n",
       "8  ruspop            Moscow  09:17:40     Friday  \n",
       "9   dance  Saint-Petersburg  21:20:49  Wednesday  "
      ]
     },
     "execution_count": 4,
     "metadata": {},
     "output_type": "execute_result"
    }
   ],
   "source": [
    "df.head(10)"
   ]
  },
  {
   "cell_type": "markdown",
   "metadata": {
    "id": "EO73Kwic_Zct"
   },
   "source": [
    "Получим общую информацию о таблице."
   ]
  },
  {
   "cell_type": "code",
   "execution_count": 5,
   "metadata": {
    "id": "DSf2kIb-_Zct"
   },
   "outputs": [
    {
     "name": "stdout",
     "output_type": "stream",
     "text": [
      "<class 'pandas.core.frame.DataFrame'>\n",
      "RangeIndex: 65079 entries, 0 to 65078\n",
      "Data columns (total 8 columns):\n",
      " #   Column      Non-Null Count  Dtype \n",
      "---  ------      --------------  ----- \n",
      " 0   Unnamed: 0  65079 non-null  int64 \n",
      " 1     userID    65079 non-null  object\n",
      " 2   Track       63848 non-null  object\n",
      " 3   artist      57876 non-null  object\n",
      " 4   genre       63881 non-null  object\n",
      " 5     City      65079 non-null  object\n",
      " 6   time        65079 non-null  object\n",
      " 7   Day         65079 non-null  object\n",
      "dtypes: int64(1), object(7)\n",
      "memory usage: 4.0+ MB\n"
     ]
    }
   ],
   "source": [
    "df.info()"
   ]
  },
  {
   "cell_type": "markdown",
   "metadata": {
    "id": "TaQ2Iwbr_Zct"
   },
   "source": [
    "Итак, в таблице семь столбцов. Тип данных во всех столбцах — `object`.\n",
    "\n",
    "Согласно документации к данным:\n",
    "* `userID` — идентификатор пользователя;\n",
    "* `Track` — название трека;  \n",
    "* `artist` — имя исполнителя;\n",
    "* `genre` — название жанра;\n",
    "* `City` — город пользователя;\n",
    "* `time` — время начала прослушивания;\n",
    "* `Day` — день недели.\n",
    "\n",
    "В названиях колонок видны три нарушения стиля:\n",
    "1. Строчные буквы сочетаются с прописными.\n",
    "2. Встречаются пробелы.\n",
    "3. Недостаточная информативность в названиях колонок, а также не использован змеиный_регистр написания переменных.\n",
    "\n",
    "\n",
    "\n",
    "Количество значений в столбцах различается. Значит, в данных есть пропущенные значения.\n"
   ]
  },
  {
   "cell_type": "markdown",
   "metadata": {
    "id": "MCB6-dXG_Zct"
   },
   "source": [
    "**Выводы**\n",
    "\n",
    "В каждой строке таблицы — данные о прослушанном треке. Часть колонок описывает саму композицию: название, исполнителя и жанр. Остальные данные рассказывают о пользователе: из какого он города, когда он слушал музыку. \n",
    "\n",
    "Предварительно можно утверждать, что, данных достаточно для проверки гипотез. Но встречаются пропуски в данных, а в названиях колонок — расхождения с хорошим стилем.\n",
    "\n",
    "Чтобы двигаться дальше, нужно устранить проблемы в данных."
   ]
  },
  {
   "cell_type": "markdown",
   "metadata": {
    "id": "SjYF6Ub9_Zct"
   },
   "source": [
    "## Предобработка данных"
   ]
  },
  {
   "cell_type": "markdown",
   "metadata": {
    "id": "dIaKXr29_Zct"
   },
   "source": [
    "### Стиль заголовков\n",
    "Выведем на экран названия столбцов."
   ]
  },
  {
   "cell_type": "code",
   "execution_count": 6,
   "metadata": {
    "id": "oKOTdF_Q_Zct"
   },
   "outputs": [
    {
     "data": {
      "text/plain": [
       "Index(['Unnamed: 0', '  userID', 'Track', 'artist', 'genre', '  City  ',\n",
       "       'time', 'Day'],\n",
       "      dtype='object')"
      ]
     },
     "execution_count": 6,
     "metadata": {},
     "output_type": "execute_result"
    }
   ],
   "source": [
    "df.columns"
   ]
  },
  {
   "cell_type": "markdown",
   "metadata": {
    "id": "zj5534cv_Zct"
   },
   "source": [
    "Приведем названия в соответствие с хорошим стилем."
   ]
  },
  {
   "cell_type": "code",
   "execution_count": 7,
   "metadata": {
    "id": "ISlFqs5y_Zct"
   },
   "outputs": [],
   "source": [
    "df = df.rename(columns={'  userID':'user_id', 'Track':'track', '  City  ':'city', 'Day':'day'})"
   ]
  },
  {
   "cell_type": "markdown",
   "metadata": {
    "id": "1dqbh00J_Zct"
   },
   "source": [
    "Проверим результат."
   ]
  },
  {
   "cell_type": "code",
   "execution_count": 8,
   "metadata": {
    "id": "d4NOAmTW_Zct"
   },
   "outputs": [
    {
     "data": {
      "text/plain": [
       "Index(['Unnamed: 0', 'user_id', 'track', 'artist', 'genre', 'city', 'time',\n",
       "       'day'],\n",
       "      dtype='object')"
      ]
     },
     "execution_count": 8,
     "metadata": {},
     "output_type": "execute_result"
    }
   ],
   "source": [
    "df.columns"
   ]
  },
  {
   "cell_type": "markdown",
   "metadata": {
    "id": "5ISfbcfY_Zct"
   },
   "source": [
    "### Пропуски значений"
   ]
  },
  {
   "cell_type": "markdown",
   "metadata": {},
   "source": [
    "Посчитаем, сколько в таблице пропущенных значений."
   ]
  },
  {
   "cell_type": "code",
   "execution_count": 9,
   "metadata": {
    "id": "RskX29qr_Zct"
   },
   "outputs": [
    {
     "data": {
      "text/plain": [
       "Unnamed: 0       0\n",
       "user_id          0\n",
       "track         1231\n",
       "artist        7203\n",
       "genre         1198\n",
       "city             0\n",
       "time             0\n",
       "day              0\n",
       "dtype: int64"
      ]
     },
     "execution_count": 9,
     "metadata": {},
     "output_type": "execute_result"
    }
   ],
   "source": [
    "df.isna().sum()"
   ]
  },
  {
   "cell_type": "markdown",
   "metadata": {
    "id": "qubhgnlO_Zct"
   },
   "source": [
    "Пропуски в столбцах `track`, `artist` и `genre` заполним явными обозначениями и оценим, насколько они повредят расчётам. "
   ]
  },
  {
   "cell_type": "code",
   "execution_count": 10,
   "metadata": {
    "id": "KplB5qWs_Zct"
   },
   "outputs": [],
   "source": [
    "column_to_replace = ['track','artist', 'genre']\n",
    "for column in column_to_replace:\n",
    "    df[column] = df[column].fillna('unknown')"
   ]
  },
  {
   "cell_type": "markdown",
   "metadata": {
    "id": "Ilsm-MZo_Zct"
   },
   "source": [
    "Убедимся, что в таблице не осталось пропусков."
   ]
  },
  {
   "cell_type": "code",
   "execution_count": 11,
   "metadata": {
    "id": "Tq4nYRX4_Zct"
   },
   "outputs": [
    {
     "data": {
      "text/plain": [
       "Unnamed: 0    0\n",
       "user_id       0\n",
       "track         0\n",
       "artist        0\n",
       "genre         0\n",
       "city          0\n",
       "time          0\n",
       "day           0\n",
       "dtype: int64"
      ]
     },
     "execution_count": 11,
     "metadata": {},
     "output_type": "execute_result"
    }
   ],
   "source": [
    "df.isna().sum()"
   ]
  },
  {
   "cell_type": "markdown",
   "metadata": {
    "id": "BWKRtBJ3_Zct"
   },
   "source": [
    "### Дубликаты"
   ]
  },
  {
   "cell_type": "markdown",
   "metadata": {},
   "source": [
    "Проверим датасет на наличие явных дубликатов."
   ]
  },
  {
   "cell_type": "code",
   "execution_count": 12,
   "metadata": {
    "id": "36eES_S0_Zct"
   },
   "outputs": [
    {
     "data": {
      "text/plain": [
       "0"
      ]
     },
     "execution_count": 12,
     "metadata": {},
     "output_type": "execute_result"
    }
   ],
   "source": [
    "df.duplicated().sum()"
   ]
  },
  {
   "cell_type": "markdown",
   "metadata": {
    "id": "Ot25h6XR_Zct"
   },
   "source": [
    "Дубликаты отсутствуют."
   ]
  },
  {
   "cell_type": "markdown",
   "metadata": {
    "id": "QlFBsxAr_Zct"
   },
   "source": [
    "Также проверим датасет на наличие неявных дубликатов в колонке `genre`."
   ]
  },
  {
   "cell_type": "code",
   "execution_count": 13,
   "metadata": {
    "id": "JIUcqzZN_Zct"
   },
   "outputs": [
    {
     "data": {
      "text/plain": [
       "array(['acid', 'acoustic', 'action', 'adult', 'africa', 'afrikaans',\n",
       "       'alternative', 'alternativepunk', 'ambient', 'americana',\n",
       "       'animated', 'anime', 'arabesk', 'arabic', 'arena',\n",
       "       'argentinetango', 'art', 'audiobook', 'author', 'avantgarde',\n",
       "       'axé', 'baile', 'balkan', 'beats', 'bigroom', 'black', 'bluegrass',\n",
       "       'blues', 'bollywood', 'bossa', 'brazilian', 'breakbeat', 'breaks',\n",
       "       'broadway', 'cantautori', 'cantopop', 'canzone', 'caribbean',\n",
       "       'caucasian', 'celtic', 'chamber', 'chanson', 'children', 'chill',\n",
       "       'chinese', 'choral', 'christian', 'christmas', 'classical',\n",
       "       'classicmetal', 'club', 'colombian', 'comedy', 'conjazz',\n",
       "       'contemporary', 'country', 'cuban', 'dance', 'dancehall',\n",
       "       'dancepop', 'dark', 'death', 'deep', 'deutschrock', 'deutschspr',\n",
       "       'dirty', 'disco', 'dnb', 'documentary', 'downbeat', 'downtempo',\n",
       "       'drum', 'dub', 'dubstep', 'eastern', 'easy', 'electronic',\n",
       "       'electropop', 'emo', 'entehno', 'epicmetal', 'estrada', 'ethnic',\n",
       "       'eurofolk', 'european', 'experimental', 'extrememetal', 'fado',\n",
       "       'fairytail', 'film', 'fitness', 'flamenco', 'folk', 'folklore',\n",
       "       'folkmetal', 'folkrock', 'folktronica', 'forró', 'frankreich',\n",
       "       'französisch', 'french', 'funk', 'future', 'gangsta', 'garage',\n",
       "       'german', 'ghazal', 'gitarre', 'glitch', 'gospel', 'gothic',\n",
       "       'grime', 'grunge', 'gypsy', 'handsup', \"hard'n'heavy\", 'hardcore',\n",
       "       'hardstyle', 'hardtechno', 'hip', 'hip-hop', 'hiphop',\n",
       "       'historisch', 'holiday', 'hop', 'horror', 'house', 'hymn', 'idm',\n",
       "       'independent', 'indian', 'indie', 'indipop', 'industrial',\n",
       "       'inspirational', 'instrumental', 'international', 'irish', 'jam',\n",
       "       'japanese', 'jazz', 'jewish', 'jpop', 'jungle', 'k-pop',\n",
       "       'karadeniz', 'karaoke', 'kayokyoku', 'korean', 'laiko', 'latin',\n",
       "       'latino', 'leftfield', 'local', 'lounge', 'loungeelectronic',\n",
       "       'lovers', 'malaysian', 'mandopop', 'marschmusik', 'meditative',\n",
       "       'mediterranean', 'melodic', 'metal', 'metalcore', 'mexican',\n",
       "       'middle', 'minimal', 'miscellaneous', 'modern', 'mood', 'mpb',\n",
       "       'muslim', 'native', 'neoklassik', 'neue', 'new', 'newage',\n",
       "       'newwave', 'nu', 'nujazz', 'numetal', 'oceania', 'old', 'opera',\n",
       "       'orchestral', 'other', 'piano', 'podcasts', 'pop', 'popdance',\n",
       "       'popelectronic', 'popeurodance', 'poprussian', 'post',\n",
       "       'posthardcore', 'postrock', 'power', 'progmetal', 'progressive',\n",
       "       'psychedelic', 'punjabi', 'punk', 'quebecois', 'ragga', 'ram',\n",
       "       'rancheras', 'rap', 'rave', 'reggae', 'reggaeton', 'regional',\n",
       "       'relax', 'religious', 'retro', 'rhythm', 'rnb', 'rnr', 'rock',\n",
       "       'rockabilly', 'rockalternative', 'rockindie', 'rockother',\n",
       "       'romance', 'roots', 'ruspop', 'rusrap', 'rusrock', 'russian',\n",
       "       'salsa', 'samba', 'scenic', 'schlager', 'self', 'sertanejo',\n",
       "       'shanson', 'shoegazing', 'showtunes', 'singer', 'ska', 'skarock',\n",
       "       'slow', 'smooth', 'soft', 'soul', 'soulful', 'sound', 'soundtrack',\n",
       "       'southern', 'specialty', 'speech', 'spiritual', 'sport',\n",
       "       'stonerrock', 'surf', 'swing', 'synthpop', 'synthrock',\n",
       "       'sängerportrait', 'tango', 'tanzorchester', 'taraftar', 'tatar',\n",
       "       'tech', 'techno', 'teen', 'thrash', 'top', 'traditional',\n",
       "       'tradjazz', 'trance', 'tribal', 'trip', 'triphop', 'tropical',\n",
       "       'türk', 'türkçe', 'ukrrock', 'unknown', 'urban', 'uzbek',\n",
       "       'variété', 'vi', 'videogame', 'vocal', 'western', 'world',\n",
       "       'worldbeat', 'ïîï', 'электроника'], dtype=object)"
      ]
     },
     "execution_count": 13,
     "metadata": {},
     "output_type": "execute_result"
    }
   ],
   "source": [
    "df['genre'].sort_values().unique()"
   ]
  },
  {
   "cell_type": "markdown",
   "metadata": {
    "id": "qej-Qmuo_Zct"
   },
   "source": [
    "Найдены следующие неявные дубликаты:\n",
    "* *hip*,\n",
    "* *hop*,\n",
    "* *hip-hop*.\n",
    "\n",
    "Чтобы очистить от них таблицу, напишем функцию `replace_wrong_genres()`, которая будет заменять неправильные значения на корректные, с двумя параметрами: \n",
    "* `wrong_genres` — список дубликатов,\n",
    "* `correct_genre` — строка с правильным значением."
   ]
  },
  {
   "cell_type": "code",
   "execution_count": 14,
   "metadata": {
    "id": "ErNDkmns_Zct"
   },
   "outputs": [],
   "source": [
    "def replace_wrong_genres(wrong_genres, correct_genre):\n",
    "    for wrong_genre in wrong_genres:\n",
    "        df['genre'] = df['genre'].replace(wrong_genre, correct_genre)"
   ]
  },
  {
   "cell_type": "markdown",
   "metadata": {
    "id": "aDoBJxbA_Zct"
   },
   "source": [
    "Применим нашу функцию к датасету."
   ]
  },
  {
   "cell_type": "code",
   "execution_count": 15,
   "metadata": {
    "id": "YN5i2hpmSo09"
   },
   "outputs": [],
   "source": [
    "genres = ['hip', 'hop', 'hip-hop']\n",
    "\n",
    "replace_wrong_genres(genres, 'hiphop')\n",
    "\n",
    "replace_wrong_genres(['электроника'], 'electronic')"
   ]
  },
  {
   "cell_type": "markdown",
   "metadata": {
    "id": "zQKF16_RG15m"
   },
   "source": [
    "Проверим результат."
   ]
  },
  {
   "cell_type": "code",
   "execution_count": 16,
   "metadata": {
    "id": "wvixALnFG15m"
   },
   "outputs": [
    {
     "data": {
      "text/plain": [
       "array(['acid', 'acoustic', 'action', 'adult', 'africa', 'afrikaans',\n",
       "       'alternative', 'alternativepunk', 'ambient', 'americana',\n",
       "       'animated', 'anime', 'arabesk', 'arabic', 'arena',\n",
       "       'argentinetango', 'art', 'audiobook', 'author', 'avantgarde',\n",
       "       'axé', 'baile', 'balkan', 'beats', 'bigroom', 'black', 'bluegrass',\n",
       "       'blues', 'bollywood', 'bossa', 'brazilian', 'breakbeat', 'breaks',\n",
       "       'broadway', 'cantautori', 'cantopop', 'canzone', 'caribbean',\n",
       "       'caucasian', 'celtic', 'chamber', 'chanson', 'children', 'chill',\n",
       "       'chinese', 'choral', 'christian', 'christmas', 'classical',\n",
       "       'classicmetal', 'club', 'colombian', 'comedy', 'conjazz',\n",
       "       'contemporary', 'country', 'cuban', 'dance', 'dancehall',\n",
       "       'dancepop', 'dark', 'death', 'deep', 'deutschrock', 'deutschspr',\n",
       "       'dirty', 'disco', 'dnb', 'documentary', 'downbeat', 'downtempo',\n",
       "       'drum', 'dub', 'dubstep', 'eastern', 'easy', 'electronic',\n",
       "       'electropop', 'emo', 'entehno', 'epicmetal', 'estrada', 'ethnic',\n",
       "       'eurofolk', 'european', 'experimental', 'extrememetal', 'fado',\n",
       "       'fairytail', 'film', 'fitness', 'flamenco', 'folk', 'folklore',\n",
       "       'folkmetal', 'folkrock', 'folktronica', 'forró', 'frankreich',\n",
       "       'französisch', 'french', 'funk', 'future', 'gangsta', 'garage',\n",
       "       'german', 'ghazal', 'gitarre', 'glitch', 'gospel', 'gothic',\n",
       "       'grime', 'grunge', 'gypsy', 'handsup', \"hard'n'heavy\", 'hardcore',\n",
       "       'hardstyle', 'hardtechno', 'hiphop', 'historisch', 'holiday',\n",
       "       'horror', 'house', 'hymn', 'idm', 'independent', 'indian', 'indie',\n",
       "       'indipop', 'industrial', 'inspirational', 'instrumental',\n",
       "       'international', 'irish', 'jam', 'japanese', 'jazz', 'jewish',\n",
       "       'jpop', 'jungle', 'k-pop', 'karadeniz', 'karaoke', 'kayokyoku',\n",
       "       'korean', 'laiko', 'latin', 'latino', 'leftfield', 'local',\n",
       "       'lounge', 'loungeelectronic', 'lovers', 'malaysian', 'mandopop',\n",
       "       'marschmusik', 'meditative', 'mediterranean', 'melodic', 'metal',\n",
       "       'metalcore', 'mexican', 'middle', 'minimal', 'miscellaneous',\n",
       "       'modern', 'mood', 'mpb', 'muslim', 'native', 'neoklassik', 'neue',\n",
       "       'new', 'newage', 'newwave', 'nu', 'nujazz', 'numetal', 'oceania',\n",
       "       'old', 'opera', 'orchestral', 'other', 'piano', 'podcasts', 'pop',\n",
       "       'popdance', 'popelectronic', 'popeurodance', 'poprussian', 'post',\n",
       "       'posthardcore', 'postrock', 'power', 'progmetal', 'progressive',\n",
       "       'psychedelic', 'punjabi', 'punk', 'quebecois', 'ragga', 'ram',\n",
       "       'rancheras', 'rap', 'rave', 'reggae', 'reggaeton', 'regional',\n",
       "       'relax', 'religious', 'retro', 'rhythm', 'rnb', 'rnr', 'rock',\n",
       "       'rockabilly', 'rockalternative', 'rockindie', 'rockother',\n",
       "       'romance', 'roots', 'ruspop', 'rusrap', 'rusrock', 'russian',\n",
       "       'salsa', 'samba', 'scenic', 'schlager', 'self', 'sertanejo',\n",
       "       'shanson', 'shoegazing', 'showtunes', 'singer', 'ska', 'skarock',\n",
       "       'slow', 'smooth', 'soft', 'soul', 'soulful', 'sound', 'soundtrack',\n",
       "       'southern', 'specialty', 'speech', 'spiritual', 'sport',\n",
       "       'stonerrock', 'surf', 'swing', 'synthpop', 'synthrock',\n",
       "       'sängerportrait', 'tango', 'tanzorchester', 'taraftar', 'tatar',\n",
       "       'tech', 'techno', 'teen', 'thrash', 'top', 'traditional',\n",
       "       'tradjazz', 'trance', 'tribal', 'trip', 'triphop', 'tropical',\n",
       "       'türk', 'türkçe', 'ukrrock', 'unknown', 'urban', 'uzbek',\n",
       "       'variété', 'vi', 'videogame', 'vocal', 'western', 'world',\n",
       "       'worldbeat', 'ïîï'], dtype=object)"
      ]
     },
     "execution_count": 16,
     "metadata": {},
     "output_type": "execute_result"
    }
   ],
   "source": [
    "df['genre'].sort_values().unique()"
   ]
  },
  {
   "cell_type": "markdown",
   "metadata": {
    "id": "jz6a9-7HQUDd"
   },
   "source": [
    "**Выводы**\n",
    "\n",
    "Предобработка обнаружила три проблемы в данных:\n",
    "\n",
    "- нарушения в стиле заголовков,\n",
    "- пропущенные значения,\n",
    "- дубликаты — явные и неявные.\n",
    "\n",
    "Мы исправили заголовки, чтобы упростить работу с таблицей. Удалили дубликаты, Без них исследование станет более точным.\n",
    "\n",
    "Пропущенные значения мы заменили на `'unknown'`. Ещё предстоит увидеть, не повредят ли исследованию пропуски в колонке `genre`.\n",
    "\n",
    "Теперь можно перейти к проверке гипотез. "
   ]
  },
  {
   "cell_type": "markdown",
   "metadata": {
    "id": "WttZHXH0SqKk"
   },
   "source": [
    "## Проверка гипотез"
   ]
  },
  {
   "cell_type": "markdown",
   "metadata": {
    "id": "Im936VVi_Zcu"
   },
   "source": [
    "### Сравнение поведения пользователей двух столиц"
   ]
  },
  {
   "cell_type": "markdown",
   "metadata": {
    "id": "nwt_MuaL_Zcu"
   },
   "source": [
    "Первая гипотеза утверждает, что пользователи по-разному слушают музыку в Москве и Санкт-Петербурге. Прверим это предположение по данным о трёх днях недели — понедельнике, среде и пятнице. Для этого:\n",
    "\n",
    "* Разделим пользователей Москвы и Санкт-Петербурга\n",
    "* Сравним, сколько треков послушала каждая группа пользователей в понедельник, среду и пятницу.\n"
   ]
  },
  {
   "cell_type": "markdown",
   "metadata": {
    "id": "8Dw_YMmT_Zcu"
   },
   "source": [
    "Оценим активность пользователей в каждом городе. Сгруппируем данные по городу и посчитаем прослушивания в каждой группе."
   ]
  },
  {
   "cell_type": "code",
   "execution_count": 17,
   "metadata": {
    "id": "0_Qs96oh_Zcu"
   },
   "outputs": [
    {
     "data": {
      "text/plain": [
       "city\n",
       "Moscow              45360\n",
       "Saint-Petersburg    19719\n",
       "Name: track, dtype: int64"
      ]
     },
     "execution_count": 17,
     "metadata": {},
     "output_type": "execute_result"
    }
   ],
   "source": [
    "df.groupby('city')['track'].count()"
   ]
  },
  {
   "cell_type": "markdown",
   "metadata": {
    "id": "dzli3w8o_Zcu"
   },
   "source": [
    "В Москве прослушиваний больше, чем в Петербурге. Из этого не следует, что московские пользователи чаще слушают музыку. Просто самих пользователей в Москве больше.\n",
    "\n",
    "Теперь сгруппируем данные по дню недели и подсчитаем прослушивания."
   ]
  },
  {
   "cell_type": "code",
   "execution_count": 18,
   "metadata": {
    "id": "uZMKjiJz_Zcu"
   },
   "outputs": [
    {
     "data": {
      "text/plain": [
       "day\n",
       "Friday       23149\n",
       "Monday       22697\n",
       "Wednesday    19233\n",
       "Name: track, dtype: int64"
      ]
     },
     "execution_count": 18,
     "metadata": {},
     "output_type": "execute_result"
    }
   ],
   "source": [
    "df.groupby('day')['track'].count()"
   ]
  },
  {
   "cell_type": "markdown",
   "metadata": {
    "id": "cC2tNrlL_Zcu"
   },
   "source": [
    "Пользователи из двух городов менее активны по средам. Но картина может измениться, если рассмотреть каждый город в отдельности."
   ]
  },
  {
   "cell_type": "markdown",
   "metadata": {
    "id": "POzs8bGa_Zcu"
   },
   "source": [
    "Создадим функцию `number_tracks()`, которая посчитает прослушивания для заданного дня и города."
   ]
  },
  {
   "cell_type": "code",
   "execution_count": 19,
   "metadata": {
    "id": "Nz3GdQB1_Zcu"
   },
   "outputs": [],
   "source": [
    "def number_tracks(day, city):\n",
    "    track_list = df[(df['day'] == day) & (df['city'] == city)]\n",
    "    track_list_count = track_list['user_id'].count()\n",
    "    return track_list_count"
   ]
  },
  {
   "cell_type": "markdown",
   "metadata": {
    "id": "ytf7xFrFJQ2r"
   },
   "source": [
    "Вызовем `number_tracks()` со всеми вариантами параметров, чтобы получить данные для каждого города в каждый из трёх дней."
   ]
  },
  {
   "cell_type": "code",
   "execution_count": 20,
   "metadata": {},
   "outputs": [
    {
     "name": "stdout",
     "output_type": "stream",
     "text": [
      "16715 прослушиваний в Monday в городе Moscow\n",
      "5982 прослушиваний в Monday в городе Saint-Petersburg\n",
      "11755 прослушиваний в Wednesday в городе Moscow\n",
      "7478 прослушиваний в Wednesday в городе Saint-Petersburg\n",
      "16890 прослушиваний в Friday в городе Moscow\n",
      "6259 прослушиваний в Friday в городе Saint-Petersburg\n"
     ]
    }
   ],
   "source": [
    "for day in ['Monday', 'Wednesday', 'Friday']:\n",
    "    for city in ['Moscow', 'Saint-Petersburg']:\n",
    "        print(f'{number_tracks(day, city)} прослушиваний в {day} в городе {city}')"
   ]
  },
  {
   "cell_type": "markdown",
   "metadata": {
    "id": "7QXffbO-_Zcu"
   },
   "source": [
    "Создадим таблицу, где\n",
    "* названия колонок — `['city', 'monday', 'wednesday', 'friday']`;\n",
    "* данные — результаты, которые мы получили с помощью `number_tracks`."
   ]
  },
  {
   "cell_type": "code",
   "execution_count": 21,
   "metadata": {
    "id": "APAcLpOr_Zcu"
   },
   "outputs": [
    {
     "data": {
      "text/html": [
       "<div>\n",
       "<style scoped>\n",
       "    .dataframe tbody tr th:only-of-type {\n",
       "        vertical-align: middle;\n",
       "    }\n",
       "\n",
       "    .dataframe tbody tr th {\n",
       "        vertical-align: top;\n",
       "    }\n",
       "\n",
       "    .dataframe thead th {\n",
       "        text-align: right;\n",
       "    }\n",
       "</style>\n",
       "<table border=\"1\" class=\"dataframe\">\n",
       "  <thead>\n",
       "    <tr style=\"text-align: right;\">\n",
       "      <th></th>\n",
       "      <th>city</th>\n",
       "      <th>monday</th>\n",
       "      <th>wednesday</th>\n",
       "      <th>friday</th>\n",
       "    </tr>\n",
       "  </thead>\n",
       "  <tbody>\n",
       "    <tr>\n",
       "      <th>0</th>\n",
       "      <td>Moscow</td>\n",
       "      <td>16715</td>\n",
       "      <td>11755</td>\n",
       "      <td>16890</td>\n",
       "    </tr>\n",
       "    <tr>\n",
       "      <th>1</th>\n",
       "      <td>Saint-Petersburg</td>\n",
       "      <td>5982</td>\n",
       "      <td>7478</td>\n",
       "      <td>6259</td>\n",
       "    </tr>\n",
       "  </tbody>\n",
       "</table>\n",
       "</div>"
      ],
      "text/plain": [
       "               city  monday  wednesday  friday\n",
       "0            Moscow   16715      11755   16890\n",
       "1  Saint-Petersburg    5982       7478    6259"
      ]
     },
     "metadata": {},
     "output_type": "display_data"
    }
   ],
   "source": [
    "columns = ['city', 'monday', 'wednesday', 'friday']\n",
    "data = [['Moscow', 16715, 11755, 16890], ['Saint-Petersburg', 5982, 7478, 6259]]\n",
    "result_table = pd.DataFrame(data=data, columns=columns)\n",
    "display(result_table)"
   ]
  },
  {
   "cell_type": "markdown",
   "metadata": {
    "id": "-EgPIHYu_Zcu"
   },
   "source": [
    "**Выводы**\n",
    "\n",
    "Данные показывают разницу поведения пользователей:\n",
    "\n",
    "- В Москве пик прослушиваний приходится на понедельник и пятницу, а в среду заметен спад.\n",
    "- В Петербурге, наоборот, больше слушают музыку по средам. Активность в понедельник и пятницу здесь почти в равной мере уступает среде.\n",
    "\n",
    "Значит, данные говорят в пользу первой гипотезы."
   ]
  },
  {
   "cell_type": "markdown",
   "metadata": {
    "id": "atZAxtq4_Zcu"
   },
   "source": [
    "### Музыка в начале и в конце недели"
   ]
  },
  {
   "cell_type": "markdown",
   "metadata": {
    "id": "eXrQqXFH_Zcu"
   },
   "source": [
    "Согласно второй гипотезе, утром в понедельник в Москве преобладают одни жанры, а в Петербурге — другие. Так же и вечером пятницы преобладают разные жанры — в зависимости от города."
   ]
  },
  {
   "cell_type": "markdown",
   "metadata": {
    "id": "S8UcW6Hw_Zcu"
   },
   "source": [
    "Сохраним таблицы с данными в две переменные:\n",
    "* по Москве — в `moscow_general`;\n",
    "* по Санкт-Петербургу — в `spb_general`."
   ]
  },
  {
   "cell_type": "code",
   "execution_count": 22,
   "metadata": {
    "id": "qeaFfM_P_Zcu"
   },
   "outputs": [],
   "source": [
    "moscow_general = df[df['city'] == 'Moscow']\n",
    "\n",
    "spb_general = df[df['city'] == 'Saint-Petersburg']"
   ]
  },
  {
   "cell_type": "markdown",
   "metadata": {
    "id": "MEJV-CX2_Zcu"
   },
   "source": [
    "Создадим функцию `genre_weekday()`, которая будет возвращать информацию о топ-10 жанров тех треков, которые прослушивали в указанный день, в промежутке между двумя отметками времени."
   ]
  },
  {
   "cell_type": "code",
   "execution_count": 23,
   "metadata": {
    "id": "laJT9BYl_Zcu"
   },
   "outputs": [],
   "source": [
    "def genre_weekday(table, day, time1, time2):\n",
    "    genre_df = table[(table['day'] == day) & (table['time'] > time1) & (table['time'] < time2)]\n",
    "    genre_df_count = genre_df.groupby('genre')['track'].count()\n",
    "    genre_df_sorted = genre_df_count.sort_values(ascending=False)\n",
    "    return genre_df_sorted.head(10)"
   ]
  },
  {
   "cell_type": "markdown",
   "metadata": {
    "id": "la2s2_PF_Zcu"
   },
   "source": [
    "Cравним данные для Москвы и Санкт-Петербурга в понедельник утром (с 7:00 до 11:00) и в пятницу вечером (с 17:00 до 23:00):"
   ]
  },
  {
   "cell_type": "code",
   "execution_count": 24,
   "metadata": {
    "id": "yz7itPUQ_Zcu"
   },
   "outputs": [
    {
     "data": {
      "text/plain": [
       "genre\n",
       "pop            830\n",
       "dance          589\n",
       "rock           511\n",
       "electronic     501\n",
       "hiphop         311\n",
       "ruspop         203\n",
       "world          190\n",
       "rusrap         188\n",
       "alternative    175\n",
       "unknown        172\n",
       "Name: track, dtype: int64"
      ]
     },
     "execution_count": 24,
     "metadata": {},
     "output_type": "execute_result"
    }
   ],
   "source": [
    "# вызов функции для утра понедельника в Москве\n",
    "genre_weekday(moscow_general, 'Monday', '07:00', '11:00')"
   ]
  },
  {
   "cell_type": "code",
   "execution_count": 25,
   "metadata": {
    "id": "kwUcHPdy_Zcu"
   },
   "outputs": [
    {
     "data": {
      "text/plain": [
       "genre\n",
       "pop            238\n",
       "dance          192\n",
       "rock           173\n",
       "electronic     154\n",
       "hiphop          88\n",
       "ruspop          68\n",
       "alternative     65\n",
       "rusrap          56\n",
       "jazz            47\n",
       "classical       42\n",
       "Name: track, dtype: int64"
      ]
     },
     "execution_count": 25,
     "metadata": {},
     "output_type": "execute_result"
    }
   ],
   "source": [
    "# вызов функции для утра понедельника в Петербурге\n",
    "genre_weekday(spb_general, 'Monday', '07:00', '11:00')"
   ]
  },
  {
   "cell_type": "code",
   "execution_count": 26,
   "metadata": {
    "id": "EzXVRE1o_Zcu"
   },
   "outputs": [
    {
     "data": {
      "text/plain": [
       "genre\n",
       "pop            761\n",
       "rock           546\n",
       "dance          521\n",
       "electronic     510\n",
       "hiphop         282\n",
       "world          220\n",
       "ruspop         184\n",
       "alternative    176\n",
       "classical      171\n",
       "rusrap         151\n",
       "Name: track, dtype: int64"
      ]
     },
     "execution_count": 26,
     "metadata": {},
     "output_type": "execute_result"
    }
   ],
   "source": [
    "# вызов функции для вечера пятницы в Москве\n",
    "genre_weekday(moscow_general, 'Friday', '17:00', '23:00')"
   ]
  },
  {
   "cell_type": "code",
   "execution_count": 27,
   "metadata": {
    "id": "JZaEKu5v_Zcu"
   },
   "outputs": [
    {
     "data": {
      "text/plain": [
       "genre\n",
       "pop            279\n",
       "rock           230\n",
       "electronic     227\n",
       "dance          221\n",
       "hiphop         103\n",
       "alternative     67\n",
       "jazz            66\n",
       "rusrap          66\n",
       "classical       64\n",
       "world           60\n",
       "Name: track, dtype: int64"
      ]
     },
     "execution_count": 27,
     "metadata": {},
     "output_type": "execute_result"
    }
   ],
   "source": [
    "# вызов функции для вечера пятницы в Петербурге\n",
    "genre_weekday(spb_general, 'Friday', '17:00', '23:00')"
   ]
  },
  {
   "cell_type": "markdown",
   "metadata": {
    "id": "wrCe4MNX_Zcu"
   },
   "source": [
    "**Выводы**\n",
    "\n",
    "Если сравнить топ-10 жанров в понедельник утром, можно сделать такие выводы:\n",
    "\n",
    "1. В Москве и Петербурге слушают похожую музыку. Единственное отличие — в московский рейтинг вошёл жанр “world”, а в петербургский — джаз и классика.\n",
    "\n",
    "2. В Москве пропущенных значений оказалось так много, что значение `'unknown'` заняло десятое место среди самых популярных жанров. Значит, пропущенные значения занимают существенную долю в данных и угрожают достоверности исследования.\n",
    "\n",
    "Вечер пятницы не меняет эту картину. Некоторые жанры поднимаются немного выше, другие спускаются, но в целом топ-10 остаётся тем же самым.\n",
    "\n",
    "Таким образом, вторая гипотеза подтвердилась лишь частично:\n",
    "* Пользователи слушают похожую музыку в начале недели и в конце.\n",
    "* Разница между Москвой и Петербургом не слишком выражена. В Москве чаще слушают русскую популярную музыку, в Петербурге — джаз.\n",
    "\n",
    "Однако пропуски в данных ставят под сомнение этот результат. В Москве их так много, что рейтинг топ-10 мог бы выглядеть иначе, если бы не утерянные  данные о жанрах."
   ]
  },
  {
   "cell_type": "markdown",
   "metadata": {
    "id": "JolODAqr_Zcu"
   },
   "source": [
    "### Жанровые предпочтения в Москве и Петербурге\n",
    "\n",
    "Гипотеза: Петербург — столица рэпа, музыку этого жанра там слушают чаще, чем в Москве.  А Москва — город контрастов, в котором, тем не менее, преобладает поп-музыка."
   ]
  },
  {
   "cell_type": "markdown",
   "metadata": {
    "id": "DlegSvaT_Zcu"
   },
   "source": [
    "Сгруппируем таблицу `moscow_general` по жанру и посчитаем прослушивания треков каждого жанра."
   ]
  },
  {
   "cell_type": "code",
   "execution_count": 28,
   "metadata": {
    "id": "r19lIPke_Zcu"
   },
   "outputs": [],
   "source": [
    "moscow_genres = moscow_general.groupby('genre')['genre'].count()\n",
    "moscow_genres = moscow_genres.sort_values(ascending=False)"
   ]
  },
  {
   "cell_type": "markdown",
   "metadata": {
    "id": "6kMuomxTiIr8"
   },
   "source": [
    "Выведем на экран первые десять строк `moscow_genres`."
   ]
  },
  {
   "cell_type": "code",
   "execution_count": 29,
   "metadata": {
    "id": "WhCSooF8_Zcv"
   },
   "outputs": [
    {
     "data": {
      "text/plain": [
       "genre\n",
       "pop            6253\n",
       "dance          4707\n",
       "rock           4188\n",
       "electronic     4010\n",
       "hiphop         2215\n",
       "classical      1712\n",
       "world          1516\n",
       "alternative    1466\n",
       "ruspop         1453\n",
       "rusrap         1239\n",
       "Name: genre, dtype: int64"
      ]
     },
     "execution_count": 29,
     "metadata": {},
     "output_type": "execute_result"
    }
   ],
   "source": [
    "moscow_genres.head(10)"
   ]
  },
  {
   "cell_type": "markdown",
   "metadata": {
    "id": "cnPG2vnN_Zcv"
   },
   "source": [
    "Теперь повторим то же и для Петербурга."
   ]
  },
  {
   "cell_type": "code",
   "execution_count": 30,
   "metadata": {
    "id": "gluLIpE7_Zcv"
   },
   "outputs": [],
   "source": [
    "spb_genres = spb_general.groupby('genre')['genre'].count()\n",
    "spb_genres = spb_genres.sort_values(ascending=False)"
   ]
  },
  {
   "cell_type": "markdown",
   "metadata": {
    "id": "5Doha_ODgyQ8"
   },
   "source": [
    "Выведем на экран первые десять строк `spb_genres`."
   ]
  },
  {
   "cell_type": "code",
   "execution_count": 31,
   "metadata": {
    "id": "uaGJHjVU_Zcv"
   },
   "outputs": [
    {
     "name": "stdout",
     "output_type": "stream",
     "text": [
      "genre\n",
      "pop            2597\n",
      "dance          2054\n",
      "rock           2004\n",
      "electronic     1843\n",
      "hiphop         1020\n",
      "alternative     700\n",
      "classical       684\n",
      "rusrap          604\n",
      "ruspop          565\n",
      "world           553\n",
      "Name: genre, dtype: int64\n"
     ]
    }
   ],
   "source": [
    "print(spb_genres.head(10))"
   ]
  },
  {
   "cell_type": "markdown",
   "metadata": {
    "id": "RY51YJYu_Zcv"
   },
   "source": [
    "**Выводы**"
   ]
  },
  {
   "cell_type": "markdown",
   "metadata": {
    "id": "nVhnJEm__Zcv"
   },
   "source": [
    "Гипотеза подтвердилась:\n",
    "* Поп-музыка — самый популярный жанр в Москве, как и предполагала гипотеза. Более того, в топ-10 жанров встречается близкий жанр — русская популярная музыка.\n",
    "* Рэп в Петербурге занимает более высокие строки топа жанров. \n"
   ]
  },
  {
   "cell_type": "markdown",
   "metadata": {
    "id": "ykKQ0N65_Zcv"
   },
   "source": [
    "## Итоги исследования"
   ]
  },
  {
   "cell_type": "markdown",
   "metadata": {
    "id": "tjUwbHb3_Zcv"
   },
   "source": [
    "Мы проверили три гипотезы и установили:\n",
    "\n",
    "1. День недели по-разному влияет на активность пользователей в Москве и Петербурге. \n",
    "\n",
    "Первая гипотеза полностью подтвердилась.\n",
    "\n",
    "2. Музыкальные предпочтения не сильно меняются в течение недели — будь то Москва или Петербург. Небольшие различия заметны в начале недели, по понедельникам:\n",
    "* в Москве слушают музыку жанра “world”,\n",
    "* в Петербурге — джаз и классику.\n",
    "\n",
    "Таким образом, вторая гипотеза подтвердилась лишь отчасти. Этот результат мог оказаться иным, если бы не пропуски в данных.\n",
    "\n",
    "3. Третья гипотеза подтвердилась.\n",
    "    * Поп-музыка — самый популярный жанр в Москве, как и предполагала гипотеза. Более того, в топ-10 жанров встречается близкий жанр — русская популярная музыка.\n",
    "    * Рэп в Петербурге занимает более высокие строки топа жанров. "
   ]
  }
 ],
 "metadata": {
  "ExecuteTimeLog": [
   {
    "duration": 715,
    "start_time": "2021-12-19T10:31:59.741Z"
   },
   {
    "duration": 181,
    "start_time": "2021-12-19T10:33:24.070Z"
   },
   {
    "duration": 4,
    "start_time": "2021-12-19T10:33:31.041Z"
   },
   {
    "duration": 10,
    "start_time": "2021-12-19T10:33:55.548Z"
   },
   {
    "duration": 24,
    "start_time": "2021-12-19T10:34:04.629Z"
   },
   {
    "duration": 34,
    "start_time": "2021-12-19T10:34:28.533Z"
   },
   {
    "duration": 331,
    "start_time": "2021-12-19T10:40:42.763Z"
   },
   {
    "duration": 313,
    "start_time": "2021-12-19T10:41:46.199Z"
   },
   {
    "duration": 267,
    "start_time": "2021-12-19T10:41:58.478Z"
   },
   {
    "duration": 3,
    "start_time": "2021-12-19T10:43:21.836Z"
   },
   {
    "duration": 4,
    "start_time": "2021-12-19T10:43:46.040Z"
   },
   {
    "duration": 78,
    "start_time": "2021-12-19T10:47:15.320Z"
   },
   {
    "duration": 609,
    "start_time": "2021-12-19T10:47:29.221Z"
   },
   {
    "duration": 269,
    "start_time": "2021-12-19T10:47:58.970Z"
   },
   {
    "duration": 6,
    "start_time": "2021-12-19T10:48:50.314Z"
   },
   {
    "duration": 25,
    "start_time": "2021-12-19T10:49:12.138Z"
   },
   {
    "duration": 5,
    "start_time": "2021-12-19T10:49:27.475Z"
   },
   {
    "duration": 255,
    "start_time": "2021-12-19T10:51:57.496Z"
   },
   {
    "duration": 35,
    "start_time": "2021-12-19T10:52:08.896Z"
   },
   {
    "duration": 3,
    "start_time": "2021-12-19T10:55:52.754Z"
   },
   {
    "duration": 18,
    "start_time": "2021-12-19T10:58:13.799Z"
   },
   {
    "duration": 30,
    "start_time": "2021-12-19T10:58:49.712Z"
   },
   {
    "duration": 26,
    "start_time": "2021-12-19T10:59:53.917Z"
   },
   {
    "duration": 30,
    "start_time": "2021-12-19T10:59:56.679Z"
   },
   {
    "duration": 85,
    "start_time": "2021-12-19T11:00:58.265Z"
   },
   {
    "duration": 80,
    "start_time": "2021-12-19T11:02:26.909Z"
   },
   {
    "duration": 90,
    "start_time": "2021-12-19T11:03:45.176Z"
   },
   {
    "duration": 245,
    "start_time": "2021-12-19T11:04:58.926Z"
   },
   {
    "duration": 310,
    "start_time": "2021-12-19T11:05:07.495Z"
   },
   {
    "duration": 76,
    "start_time": "2021-12-19T11:05:40.637Z"
   },
   {
    "duration": 15,
    "start_time": "2021-12-19T11:18:37.638Z"
   },
   {
    "duration": 3,
    "start_time": "2021-12-19T11:23:19.756Z"
   },
   {
    "duration": 15,
    "start_time": "2021-12-19T11:25:28.649Z"
   },
   {
    "duration": 3,
    "start_time": "2021-12-19T11:25:46.681Z"
   },
   {
    "duration": 13,
    "start_time": "2021-12-19T11:26:12.032Z"
   },
   {
    "duration": 80,
    "start_time": "2021-12-19T11:26:59.871Z"
   },
   {
    "duration": 3,
    "start_time": "2021-12-19T11:27:06.771Z"
   },
   {
    "duration": 15,
    "start_time": "2021-12-19T11:27:09.466Z"
   },
   {
    "duration": 14,
    "start_time": "2021-12-19T11:27:12.283Z"
   },
   {
    "duration": 16,
    "start_time": "2021-12-19T11:31:31.753Z"
   },
   {
    "duration": 15,
    "start_time": "2021-12-19T11:31:40.393Z"
   },
   {
    "duration": 259,
    "start_time": "2021-12-19T11:39:30.974Z"
   },
   {
    "duration": 7,
    "start_time": "2021-12-19T11:39:42.864Z"
   },
   {
    "duration": 4,
    "start_time": "2021-12-19T11:40:00.456Z"
   },
   {
    "duration": 5,
    "start_time": "2021-12-19T11:41:01.963Z"
   },
   {
    "duration": 38,
    "start_time": "2021-12-19T11:41:28.035Z"
   },
   {
    "duration": 15,
    "start_time": "2021-12-19T11:42:26.956Z"
   },
   {
    "duration": 14,
    "start_time": "2021-12-19T11:42:40.782Z"
   },
   {
    "duration": 246,
    "start_time": "2021-12-19T11:47:57.606Z"
   },
   {
    "duration": 60,
    "start_time": "2021-12-19T11:48:25.566Z"
   },
   {
    "duration": 250,
    "start_time": "2021-12-19T11:48:32.375Z"
   },
   {
    "duration": 14,
    "start_time": "2021-12-19T11:48:46.241Z"
   },
   {
    "duration": 38,
    "start_time": "2021-12-19T11:49:22.151Z"
   },
   {
    "duration": 38,
    "start_time": "2021-12-19T11:49:27.331Z"
   },
   {
    "duration": 47,
    "start_time": "2021-12-19T11:49:36.382Z"
   },
   {
    "duration": 13,
    "start_time": "2021-12-19T11:49:45.541Z"
   },
   {
    "duration": 16,
    "start_time": "2021-12-19T11:50:02.570Z"
   },
   {
    "duration": 39,
    "start_time": "2021-12-19T11:51:02.023Z"
   },
   {
    "duration": 37,
    "start_time": "2021-12-19T11:51:07.341Z"
   },
   {
    "duration": 42,
    "start_time": "2021-12-19T11:51:19.976Z"
   },
   {
    "duration": 7,
    "start_time": "2021-12-19T12:02:53.478Z"
   },
   {
    "duration": 8,
    "start_time": "2021-12-19T12:03:38.638Z"
   },
   {
    "duration": 5,
    "start_time": "2021-12-19T12:04:13.154Z"
   },
   {
    "duration": 604,
    "start_time": "2021-12-19T12:05:25.053Z"
   },
   {
    "duration": 79,
    "start_time": "2021-12-19T12:06:39.043Z"
   },
   {
    "duration": 92,
    "start_time": "2021-12-19T12:06:55.462Z"
   },
   {
    "duration": 4,
    "start_time": "2021-12-19T12:08:11.060Z"
   },
   {
    "duration": 1685,
    "start_time": "2021-12-19T12:08:24.248Z"
   },
   {
    "duration": 18,
    "start_time": "2021-12-19T12:15:09.061Z"
   },
   {
    "duration": 20,
    "start_time": "2021-12-19T12:15:13.607Z"
   },
   {
    "duration": 20,
    "start_time": "2021-12-19T12:15:15.856Z"
   },
   {
    "duration": 21,
    "start_time": "2021-12-19T12:15:16.566Z"
   },
   {
    "duration": 17,
    "start_time": "2021-12-19T12:15:17.091Z"
   },
   {
    "duration": 20,
    "start_time": "2021-12-19T12:15:17.522Z"
   },
   {
    "duration": 18,
    "start_time": "2021-12-19T12:15:18.140Z"
   },
   {
    "duration": 3,
    "start_time": "2021-12-19T12:17:52.565Z"
   },
   {
    "duration": 3,
    "start_time": "2021-12-19T12:18:29.574Z"
   },
   {
    "duration": 4,
    "start_time": "2021-12-19T12:18:48.194Z"
   },
   {
    "duration": 316,
    "start_time": "2021-12-19T12:23:52.420Z"
   },
   {
    "duration": 6,
    "start_time": "2021-12-19T12:27:30.638Z"
   },
   {
    "duration": 13,
    "start_time": "2021-12-19T12:27:51.311Z"
   },
   {
    "duration": 5,
    "start_time": "2021-12-19T12:39:23.332Z"
   },
   {
    "duration": 75,
    "start_time": "2021-12-19T12:40:23.108Z"
   },
   {
    "duration": 232,
    "start_time": "2021-12-19T12:40:40.534Z"
   },
   {
    "duration": 15,
    "start_time": "2021-12-19T12:40:55.021Z"
   },
   {
    "duration": 287,
    "start_time": "2021-12-19T12:40:56.204Z"
   },
   {
    "duration": 13,
    "start_time": "2021-12-19T12:41:07.799Z"
   },
   {
    "duration": 5,
    "start_time": "2021-12-19T12:41:09.842Z"
   },
   {
    "duration": 535,
    "start_time": "2021-12-19T12:41:13.625Z"
   },
   {
    "duration": 6,
    "start_time": "2021-12-19T12:42:25.797Z"
   },
   {
    "duration": 28,
    "start_time": "2021-12-19T12:42:31.749Z"
   },
   {
    "duration": 7,
    "start_time": "2021-12-19T12:43:36.750Z"
   },
   {
    "duration": 33,
    "start_time": "2021-12-19T12:43:38.023Z"
   },
   {
    "duration": 8,
    "start_time": "2021-12-19T12:44:28.533Z"
   },
   {
    "duration": 498,
    "start_time": "2021-12-19T12:44:29.533Z"
   },
   {
    "duration": 5,
    "start_time": "2021-12-19T12:44:44.639Z"
   },
   {
    "duration": 27,
    "start_time": "2021-12-19T12:44:46.703Z"
   },
   {
    "duration": 19,
    "start_time": "2021-12-19T12:45:56.974Z"
   },
   {
    "duration": 23,
    "start_time": "2021-12-19T12:46:47.817Z"
   },
   {
    "duration": 4,
    "start_time": "2021-12-19T12:46:55.738Z"
   },
   {
    "duration": 17,
    "start_time": "2021-12-19T12:47:09.887Z"
   },
   {
    "duration": 53,
    "start_time": "2021-12-19T13:15:19.911Z"
   },
   {
    "duration": 11,
    "start_time": "2021-12-19T13:15:53.369Z"
   },
   {
    "duration": 11,
    "start_time": "2021-12-19T13:16:52.851Z"
   },
   {
    "duration": 232,
    "start_time": "2021-12-19T13:17:11.640Z"
   },
   {
    "duration": 6,
    "start_time": "2021-12-19T13:17:22.126Z"
   },
   {
    "duration": 10,
    "start_time": "2021-12-19T13:18:46.516Z"
   },
   {
    "duration": 6,
    "start_time": "2021-12-19T13:19:01.878Z"
   },
   {
    "duration": 562,
    "start_time": "2021-12-20T07:31:12.296Z"
   },
   {
    "duration": 136,
    "start_time": "2021-12-20T07:31:12.859Z"
   },
   {
    "duration": 16,
    "start_time": "2021-12-20T07:31:12.996Z"
   },
   {
    "duration": 24,
    "start_time": "2021-12-20T07:31:13.014Z"
   },
   {
    "duration": 4,
    "start_time": "2021-12-20T07:31:13.040Z"
   },
   {
    "duration": 47,
    "start_time": "2021-12-20T07:31:13.045Z"
   },
   {
    "duration": 6,
    "start_time": "2021-12-20T07:31:13.094Z"
   },
   {
    "duration": 24,
    "start_time": "2021-12-20T07:31:13.103Z"
   },
   {
    "duration": 16,
    "start_time": "2021-12-20T07:31:13.129Z"
   },
   {
    "duration": 48,
    "start_time": "2021-12-20T07:31:13.147Z"
   },
   {
    "duration": 57,
    "start_time": "2021-12-20T07:31:13.197Z"
   },
   {
    "duration": 86,
    "start_time": "2021-12-20T07:31:13.256Z"
   },
   {
    "duration": 61,
    "start_time": "2021-12-20T07:31:13.344Z"
   },
   {
    "duration": 9,
    "start_time": "2021-12-20T07:31:13.407Z"
   },
   {
    "duration": 3,
    "start_time": "2021-12-20T07:31:13.417Z"
   },
   {
    "duration": 15,
    "start_time": "2021-12-20T07:31:13.422Z"
   },
   {
    "duration": 11,
    "start_time": "2021-12-20T07:31:13.439Z"
   },
   {
    "duration": 41,
    "start_time": "2021-12-20T07:31:13.451Z"
   },
   {
    "duration": 31,
    "start_time": "2021-12-20T07:31:13.494Z"
   },
   {
    "duration": 4,
    "start_time": "2021-12-20T07:31:13.528Z"
   },
   {
    "duration": 21,
    "start_time": "2021-12-20T07:31:13.534Z"
   },
   {
    "duration": 39,
    "start_time": "2021-12-20T07:31:13.557Z"
   },
   {
    "duration": 16,
    "start_time": "2021-12-20T07:31:13.600Z"
   },
   {
    "duration": 19,
    "start_time": "2021-12-20T07:31:13.619Z"
   },
   {
    "duration": 14,
    "start_time": "2021-12-20T07:31:13.640Z"
   },
   {
    "duration": 35,
    "start_time": "2021-12-20T07:31:13.656Z"
   },
   {
    "duration": 8,
    "start_time": "2021-12-20T07:31:13.693Z"
   },
   {
    "duration": 13,
    "start_time": "2021-12-20T07:31:13.702Z"
   },
   {
    "duration": 9,
    "start_time": "2021-12-20T07:31:13.716Z"
   },
   {
    "duration": 4,
    "start_time": "2021-12-20T07:31:13.726Z"
   },
   {
    "duration": 20,
    "start_time": "2021-12-20T07:31:13.732Z"
   },
   {
    "duration": 38,
    "start_time": "2021-12-20T07:31:13.754Z"
   },
   {
    "duration": 17,
    "start_time": "2021-12-20T07:31:13.794Z"
   },
   {
    "duration": 12,
    "start_time": "2021-12-20T07:31:13.812Z"
   },
   {
    "duration": 8,
    "start_time": "2021-12-20T07:31:13.825Z"
   },
   {
    "duration": 3,
    "start_time": "2021-12-20T07:31:13.835Z"
   },
   {
    "duration": 8,
    "start_time": "2021-12-20T07:31:13.839Z"
   },
   {
    "duration": 4,
    "start_time": "2021-12-20T07:31:13.848Z"
   },
   {
    "duration": 445,
    "start_time": "2021-12-20T17:48:42.906Z"
   },
   {
    "duration": 828,
    "start_time": "2021-12-20T17:48:55.495Z"
   },
   {
    "duration": 176,
    "start_time": "2021-12-20T17:48:58.867Z"
   },
   {
    "duration": 24,
    "start_time": "2021-12-20T17:49:00.955Z"
   },
   {
    "duration": 31,
    "start_time": "2021-12-20T17:49:32.706Z"
   },
   {
    "duration": 5,
    "start_time": "2021-12-20T17:49:58.237Z"
   },
   {
    "duration": 122,
    "start_time": "2021-12-20T17:51:33.564Z"
   },
   {
    "duration": 103,
    "start_time": "2021-12-20T17:51:40.162Z"
   },
   {
    "duration": 4,
    "start_time": "2021-12-20T17:55:00.364Z"
   },
   {
    "duration": 734,
    "start_time": "2021-12-20T17:55:02.743Z"
   },
   {
    "duration": 26,
    "start_time": "2021-12-20T17:55:17.318Z"
   },
   {
    "duration": 305,
    "start_time": "2021-12-20T17:55:27.681Z"
   },
   {
    "duration": 4,
    "start_time": "2021-12-20T18:01:17.084Z"
   },
   {
    "duration": 187,
    "start_time": "2021-12-20T18:01:17.091Z"
   },
   {
    "duration": 16,
    "start_time": "2021-12-20T18:01:17.281Z"
   },
   {
    "duration": 31,
    "start_time": "2021-12-20T18:01:17.482Z"
   },
   {
    "duration": 5,
    "start_time": "2021-12-20T18:01:19.244Z"
   },
   {
    "duration": 24,
    "start_time": "2021-12-20T18:01:20.146Z"
   },
   {
    "duration": 6,
    "start_time": "2021-12-20T18:01:20.903Z"
   },
   {
    "duration": 32,
    "start_time": "2021-12-20T18:01:22.231Z"
   },
   {
    "duration": 29,
    "start_time": "2021-12-20T18:01:23.420Z"
   },
   {
    "duration": 38,
    "start_time": "2021-12-20T18:01:25.509Z"
   },
   {
    "duration": 87,
    "start_time": "2021-12-20T18:01:26.458Z"
   },
   {
    "duration": 100,
    "start_time": "2021-12-20T18:01:27.494Z"
   },
   {
    "duration": 70,
    "start_time": "2021-12-20T18:01:28.053Z"
   },
   {
    "duration": 55,
    "start_time": "2021-12-20T18:01:29.644Z"
   },
   {
    "duration": 4,
    "start_time": "2021-12-20T18:01:37.910Z"
   },
   {
    "duration": 17,
    "start_time": "2021-12-20T18:02:10.375Z"
   },
   {
    "duration": 15,
    "start_time": "2021-12-20T18:02:15.576Z"
   },
   {
    "duration": 53,
    "start_time": "2021-12-20T18:02:51.763Z"
   },
   {
    "duration": 20,
    "start_time": "2021-12-20T18:03:58.118Z"
   },
   {
    "duration": 4,
    "start_time": "2021-12-20T18:04:10.604Z"
   },
   {
    "duration": 22,
    "start_time": "2021-12-20T18:04:14.342Z"
   },
   {
    "duration": 18,
    "start_time": "2021-12-20T18:04:15.844Z"
   },
   {
    "duration": 18,
    "start_time": "2021-12-20T18:04:16.194Z"
   },
   {
    "duration": 18,
    "start_time": "2021-12-20T18:04:16.659Z"
   },
   {
    "duration": 21,
    "start_time": "2021-12-20T18:04:17.636Z"
   },
   {
    "duration": 17,
    "start_time": "2021-12-20T18:04:17.944Z"
   },
   {
    "duration": 12,
    "start_time": "2021-12-20T18:04:18.944Z"
   },
   {
    "duration": 17,
    "start_time": "2021-12-20T18:11:18.142Z"
   },
   {
    "duration": 14,
    "start_time": "2021-12-20T18:11:18.908Z"
   },
   {
    "duration": 8,
    "start_time": "2021-12-20T18:11:19.624Z"
   },
   {
    "duration": 849,
    "start_time": "2021-12-20T19:50:51.315Z"
   },
   {
    "duration": 189,
    "start_time": "2021-12-20T19:50:52.167Z"
   },
   {
    "duration": 27,
    "start_time": "2021-12-20T19:50:52.359Z"
   },
   {
    "duration": 55,
    "start_time": "2021-12-20T19:50:52.389Z"
   },
   {
    "duration": 23,
    "start_time": "2021-12-20T19:50:52.447Z"
   },
   {
    "duration": 30,
    "start_time": "2021-12-20T19:50:52.473Z"
   },
   {
    "duration": 27,
    "start_time": "2021-12-20T19:50:52.505Z"
   },
   {
    "duration": 51,
    "start_time": "2021-12-20T19:50:52.535Z"
   },
   {
    "duration": 32,
    "start_time": "2021-12-20T19:50:52.590Z"
   },
   {
    "duration": 40,
    "start_time": "2021-12-20T19:50:52.625Z"
   },
   {
    "duration": 99,
    "start_time": "2021-12-20T19:50:52.668Z"
   },
   {
    "duration": 119,
    "start_time": "2021-12-20T19:50:52.770Z"
   },
   {
    "duration": 86,
    "start_time": "2021-12-20T19:50:52.892Z"
   },
   {
    "duration": 63,
    "start_time": "2021-12-20T19:50:52.980Z"
   },
   {
    "duration": 5,
    "start_time": "2021-12-20T19:50:53.062Z"
   },
   {
    "duration": 37,
    "start_time": "2021-12-20T19:50:53.071Z"
   },
   {
    "duration": 105,
    "start_time": "2021-12-20T19:50:53.110Z"
   },
   {
    "duration": 28,
    "start_time": "2021-12-20T19:50:53.218Z"
   },
   {
    "duration": 15,
    "start_time": "2021-12-20T19:50:53.250Z"
   },
   {
    "duration": 19,
    "start_time": "2021-12-20T19:50:53.268Z"
   },
   {
    "duration": 54,
    "start_time": "2021-12-20T19:50:53.289Z"
   },
   {
    "duration": 23,
    "start_time": "2021-12-20T19:50:53.346Z"
   },
   {
    "duration": 22,
    "start_time": "2021-12-20T19:50:53.372Z"
   },
   {
    "duration": 55,
    "start_time": "2021-12-20T19:50:53.398Z"
   },
   {
    "duration": 42,
    "start_time": "2021-12-20T19:50:53.456Z"
   },
   {
    "duration": 33,
    "start_time": "2021-12-20T19:50:53.501Z"
   },
   {
    "duration": 38,
    "start_time": "2021-12-20T19:50:53.540Z"
   },
   {
    "duration": 46,
    "start_time": "2021-12-20T19:50:53.582Z"
   },
   {
    "duration": 29,
    "start_time": "2021-12-20T19:50:53.631Z"
   },
   {
    "duration": 26,
    "start_time": "2021-12-20T19:50:53.662Z"
   },
   {
    "duration": 61,
    "start_time": "2021-12-20T19:50:53.691Z"
   },
   {
    "duration": 33,
    "start_time": "2021-12-20T19:50:53.755Z"
   },
   {
    "duration": 45,
    "start_time": "2021-12-20T19:50:53.791Z"
   },
   {
    "duration": 39,
    "start_time": "2021-12-20T19:50:53.839Z"
   },
   {
    "duration": 24,
    "start_time": "2021-12-20T19:50:53.880Z"
   },
   {
    "duration": 29,
    "start_time": "2021-12-20T19:50:53.906Z"
   },
   {
    "duration": 28,
    "start_time": "2021-12-20T19:50:53.937Z"
   },
   {
    "duration": 26,
    "start_time": "2021-12-20T19:50:53.968Z"
   },
   {
    "duration": 357,
    "start_time": "2022-01-16T13:12:08.149Z"
   },
   {
    "duration": 722,
    "start_time": "2022-01-16T13:12:16.002Z"
   },
   {
    "duration": 184,
    "start_time": "2022-01-16T13:12:17.685Z"
   },
   {
    "duration": 41,
    "start_time": "2022-01-16T13:12:26.373Z"
   },
   {
    "duration": 1136,
    "start_time": "2022-01-16T13:14:55.563Z"
   },
   {
    "duration": 550,
    "start_time": "2022-01-16T13:19:34.104Z"
   },
   {
    "duration": 584,
    "start_time": "2022-06-04T10:48:53.793Z"
   },
   {
    "duration": 998,
    "start_time": "2022-06-04T10:48:54.380Z"
   },
   {
    "duration": 30,
    "start_time": "2022-06-04T10:48:55.381Z"
   },
   {
    "duration": 36,
    "start_time": "2022-06-04T10:48:55.414Z"
   },
   {
    "duration": 6,
    "start_time": "2022-06-04T10:48:55.453Z"
   },
   {
    "duration": 16,
    "start_time": "2022-06-04T10:48:55.461Z"
   },
   {
    "duration": 9,
    "start_time": "2022-06-04T10:48:55.480Z"
   },
   {
    "duration": 59,
    "start_time": "2022-06-04T10:48:55.491Z"
   },
   {
    "duration": 26,
    "start_time": "2022-06-04T10:48:55.552Z"
   },
   {
    "duration": 56,
    "start_time": "2022-06-04T10:48:55.580Z"
   },
   {
    "duration": 65,
    "start_time": "2022-06-04T10:48:55.638Z"
   },
   {
    "duration": 100,
    "start_time": "2022-06-04T10:48:55.704Z"
   },
   {
    "duration": 72,
    "start_time": "2022-06-04T10:48:55.806Z"
   },
   {
    "duration": 54,
    "start_time": "2022-06-04T10:48:55.880Z"
   },
   {
    "duration": 3,
    "start_time": "2022-06-04T10:48:55.936Z"
   },
   {
    "duration": 17,
    "start_time": "2022-06-04T10:48:55.941Z"
   },
   {
    "duration": 43,
    "start_time": "2022-06-04T10:48:55.960Z"
   },
   {
    "duration": 36,
    "start_time": "2022-06-04T10:48:56.005Z"
   },
   {
    "duration": 16,
    "start_time": "2022-06-04T10:48:56.043Z"
   },
   {
    "duration": 4,
    "start_time": "2022-06-04T10:48:56.061Z"
   },
   {
    "duration": 23,
    "start_time": "2022-06-04T10:48:56.066Z"
   },
   {
    "duration": 44,
    "start_time": "2022-06-04T10:48:56.091Z"
   },
   {
    "duration": 27,
    "start_time": "2022-06-04T10:48:56.137Z"
   },
   {
    "duration": 15,
    "start_time": "2022-06-04T10:48:56.166Z"
   },
   {
    "duration": 43,
    "start_time": "2022-06-04T10:48:56.183Z"
   },
   {
    "duration": 15,
    "start_time": "2022-06-04T10:48:56.227Z"
   },
   {
    "duration": 9,
    "start_time": "2022-06-04T10:48:56.244Z"
   },
   {
    "duration": 12,
    "start_time": "2022-06-04T10:48:56.254Z"
   },
   {
    "duration": 10,
    "start_time": "2022-06-04T10:48:56.267Z"
   },
   {
    "duration": 5,
    "start_time": "2022-06-04T10:48:56.278Z"
   },
   {
    "duration": 67,
    "start_time": "2022-06-04T10:48:56.285Z"
   },
   {
    "duration": 20,
    "start_time": "2022-06-04T10:48:56.354Z"
   },
   {
    "duration": 50,
    "start_time": "2022-06-04T10:48:56.376Z"
   },
   {
    "duration": 13,
    "start_time": "2022-06-04T10:48:56.427Z"
   },
   {
    "duration": 14,
    "start_time": "2022-06-04T10:48:56.441Z"
   },
   {
    "duration": 5,
    "start_time": "2022-06-04T10:48:56.456Z"
   },
   {
    "duration": 9,
    "start_time": "2022-06-04T10:48:56.463Z"
   },
   {
    "duration": 4,
    "start_time": "2022-06-04T10:48:56.475Z"
   }
  ],
  "colab": {
   "collapsed_sections": [
    "E0vqbgi9ay0H",
    "VUC88oWjTJw2"
   ],
   "name": "yandex_music_project_2021.2.ipynb",
   "provenance": []
  },
  "kernelspec": {
   "display_name": "Python 3 (ipykernel)",
   "language": "python",
   "name": "python3"
  },
  "language_info": {
   "codemirror_mode": {
    "name": "ipython",
    "version": 3
   },
   "file_extension": ".py",
   "mimetype": "text/x-python",
   "name": "python",
   "nbconvert_exporter": "python",
   "pygments_lexer": "ipython3",
   "version": "3.9.7"
  },
  "toc": {
   "base_numbering": 1,
   "nav_menu": {},
   "number_sections": true,
   "sideBar": true,
   "skip_h1_title": true,
   "title_cell": "Table of Contents",
   "title_sidebar": "Contents",
   "toc_cell": false,
   "toc_position": {},
   "toc_section_display": true,
   "toc_window_display": true
  }
 },
 "nbformat": 4,
 "nbformat_minor": 1
}
