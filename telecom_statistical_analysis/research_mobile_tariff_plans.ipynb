{
 "cells": [
  {
   "cell_type": "markdown",
   "id": "94022789",
   "metadata": {
    "toc": true
   },
   "source": [
    "<h1>Содержание<span class=\"tocSkip\"></span></h1>\n",
    "<div class=\"toc\"><ul class=\"toc-item\"><li><span><a href=\"#Изучение-полученных-данных\" data-toc-modified-id=\"Изучение-полученных-данных-1\"><span class=\"toc-item-num\">1&nbsp;&nbsp;</span>Изучение полученных данных</a></span><ul class=\"toc-item\"><li><span><a href=\"#Импорт-библиотек-Python-и-чтение-файлов\" data-toc-modified-id=\"Импорт-библиотек-Python-и-чтение-файлов-1.1\"><span class=\"toc-item-num\">1.1&nbsp;&nbsp;</span>Импорт библиотек Python и чтение файлов</a></span></li><li><span><a href=\"#Знакомство-с-наборами-данных\" data-toc-modified-id=\"Знакомство-с-наборами-данных-1.2\"><span class=\"toc-item-num\">1.2&nbsp;&nbsp;</span>Знакомство с наборами данных</a></span></li><li><span><a href=\"#Вывод\" data-toc-modified-id=\"Вывод-1.3\"><span class=\"toc-item-num\">1.3&nbsp;&nbsp;</span>Вывод</a></span></li></ul></li><li><span><a href=\"#Предобработка-данных\" data-toc-modified-id=\"Предобработка-данных-2\"><span class=\"toc-item-num\">2&nbsp;&nbsp;</span>Предобработка данных</a></span><ul class=\"toc-item\"><li><span><a href=\"#Преобразование-типов-данных\" data-toc-modified-id=\"Преобразование-типов-данных-2.1\"><span class=\"toc-item-num\">2.1&nbsp;&nbsp;</span>Преобразование типов данных</a></span></li><li><span><a href=\"#Работа-со-столбцами,-добавление-новых-данных\" data-toc-modified-id=\"Работа-со-столбцами,-добавление-новых-данных-2.2\"><span class=\"toc-item-num\">2.2&nbsp;&nbsp;</span>Работа со столбцами, добавление новых данных</a></span></li><li><span><a href=\"#Расчет-месячных-показателей-использования-связи\" data-toc-modified-id=\"Расчет-месячных-показателей-использования-связи-2.3\"><span class=\"toc-item-num\">2.3&nbsp;&nbsp;</span>Расчет месячных показателей использования связи</a></span></li><li><span><a href=\"#Вывод\" data-toc-modified-id=\"Вывод-2.4\"><span class=\"toc-item-num\">2.4&nbsp;&nbsp;</span>Вывод</a></span></li></ul></li><li><span><a href=\"#Статистический-анализ-данных\" data-toc-modified-id=\"Статистический-анализ-данных-3\"><span class=\"toc-item-num\">3&nbsp;&nbsp;</span>Статистический анализ данных</a></span><ul class=\"toc-item\"><li><span><a href=\"#Изучение-поведения-пользователей-тарифов-и-расчет-показателей\" data-toc-modified-id=\"Изучение-поведения-пользователей-тарифов-и-расчет-показателей-3.1\"><span class=\"toc-item-num\">3.1&nbsp;&nbsp;</span>Изучение поведения пользователей тарифов и расчет показателей</a></span></li><li><span><a href=\"#Исследование-распределений\" data-toc-modified-id=\"Исследование-распределений-3.2\"><span class=\"toc-item-num\">3.2&nbsp;&nbsp;</span>Исследование распределений</a></span></li><li><span><a href=\"#Вывод\" data-toc-modified-id=\"Вывод-3.3\"><span class=\"toc-item-num\">3.3&nbsp;&nbsp;</span>Вывод</a></span></li></ul></li><li><span><a href=\"#Проверка-гипотез\" data-toc-modified-id=\"Проверка-гипотез-4\"><span class=\"toc-item-num\">4&nbsp;&nbsp;</span>Проверка гипотез</a></span><ul class=\"toc-item\"><li><span><a href=\"#Гипотеза-1.-Средняя-выручка-пользователей-тарифов-«Ультра»-и-«Смарт»-различаются\" data-toc-modified-id=\"Гипотеза-1.-Средняя-выручка-пользователей-тарифов-«Ультра»-и-«Смарт»-различаются-4.1\"><span class=\"toc-item-num\">4.1&nbsp;&nbsp;</span>Гипотеза 1. Средняя выручка пользователей тарифов «Ультра» и «Смарт» различаются</a></span></li><li><span><a href=\"#Гипотеза-2.-Средняя-выручка-пользователей-из-Москвы-отличается-от-выручки-пользователей-из-других-регионов\" data-toc-modified-id=\"Гипотеза-2.-Средняя-выручка-пользователей-из-Москвы-отличается-от-выручки-пользователей-из-других-регионов-4.2\"><span class=\"toc-item-num\">4.2&nbsp;&nbsp;</span>Гипотеза 2. Средняя выручка пользователей из Москвы отличается от выручки пользователей из других регионов</a></span></li><li><span><a href=\"#Вывод\" data-toc-modified-id=\"Вывод-4.3\"><span class=\"toc-item-num\">4.3&nbsp;&nbsp;</span>Вывод</a></span></li></ul></li><li><span><a href=\"#Общий-вывод\" data-toc-modified-id=\"Общий-вывод-5\"><span class=\"toc-item-num\">5&nbsp;&nbsp;</span>Общий вывод</a></span></li></ul></div>"
   ]
  },
  {
   "cell_type": "markdown",
   "id": "e4fb3362",
   "metadata": {},
   "source": [
    "## Изучение полученных данных"
   ]
  },
  {
   "cell_type": "markdown",
   "id": "15d46e3e",
   "metadata": {},
   "source": [
    "### Импорт библиотек Python и чтение файлов"
   ]
  },
  {
   "cell_type": "markdown",
   "id": "54bcb059",
   "metadata": {},
   "source": [
    "Импортируем библиотеки для работы"
   ]
  },
  {
   "cell_type": "code",
   "execution_count": 1,
   "id": "13272b40",
   "metadata": {},
   "outputs": [],
   "source": [
    "import pandas as pd\n",
    "import numpy as np\n",
    "from scipy import stats as st\n",
    "from matplotlib import pyplot as plt\n",
    "import seaborn as sns"
   ]
  },
  {
   "cell_type": "markdown",
   "id": "1cde1ac5",
   "metadata": {},
   "source": [
    "Запишем локальный путь к файлу с данными в переменную path."
   ]
  },
  {
   "cell_type": "code",
   "execution_count": 2,
   "id": "25ef3175",
   "metadata": {},
   "outputs": [],
   "source": [
    "path = '/Users/segagoose/Documents/YandexPracticum/Статистический анализ данных'"
   ]
  },
  {
   "cell_type": "markdown",
   "id": "24f98918",
   "metadata": {},
   "source": [
    "Прочитаем полученные файлы"
   ]
  },
  {
   "cell_type": "code",
   "execution_count": 3,
   "id": "76013ffd",
   "metadata": {},
   "outputs": [],
   "source": [
    "try:\n",
    "    # Информация о звонках\n",
    "    df_calls = pd.read_csv(path + '/calls.csv')\n",
    "    \n",
    "    # Информация об интернет-сессиях\n",
    "    df_internet = pd.read_csv(path + '/internet.csv')\n",
    "    \n",
    "    # Информация о сообщениях\n",
    "    df_messages = pd.read_csv(path + '/messages.csv')\n",
    "    \n",
    "    # Информация о тарифах\n",
    "    df_tariffs = pd.read_csv(path + '/tariffs.csv')\n",
    "    \n",
    "    # Информация о пользователях\n",
    "    df_users = pd.read_csv(path + '/users.csv')\n",
    "    \n",
    "except:\n",
    "    \n",
    "    df_calls = pd.read_csv('/datasets/calls.csv')\n",
    "    \n",
    "    df_internet = pd.read_csv('/datasets/internet.csv')\n",
    "    \n",
    "    df_messages = pd.read_csv('/datasets/messages.csv')\n",
    "    \n",
    "    df_tariffs = pd.read_csv('/datasets/tariffs.csv')\n",
    "    \n",
    "    df_users = pd.read_csv('/datasets/users.csv')\n",
    "    \n",
    "pd.set_option(\"display.max.columns\", None)"
   ]
  },
  {
   "cell_type": "markdown",
   "id": "090409a2",
   "metadata": {},
   "source": [
    "### Знакомство с наборами данных"
   ]
  },
  {
   "cell_type": "markdown",
   "id": "ef66c5e6",
   "metadata": {},
   "source": [
    "Чтобы ознакомиться с полученными датасетами, выведем их на экран"
   ]
  },
  {
   "cell_type": "code",
   "execution_count": 4,
   "id": "a82ce547",
   "metadata": {},
   "outputs": [
    {
     "data": {
      "text/html": [
       "<div>\n",
       "<style scoped>\n",
       "    .dataframe tbody tr th:only-of-type {\n",
       "        vertical-align: middle;\n",
       "    }\n",
       "\n",
       "    .dataframe tbody tr th {\n",
       "        vertical-align: top;\n",
       "    }\n",
       "\n",
       "    .dataframe thead th {\n",
       "        text-align: right;\n",
       "    }\n",
       "</style>\n",
       "<table border=\"1\" class=\"dataframe\">\n",
       "  <thead>\n",
       "    <tr style=\"text-align: right;\">\n",
       "      <th></th>\n",
       "      <th>id</th>\n",
       "      <th>call_date</th>\n",
       "      <th>duration</th>\n",
       "      <th>user_id</th>\n",
       "    </tr>\n",
       "  </thead>\n",
       "  <tbody>\n",
       "    <tr>\n",
       "      <th>0</th>\n",
       "      <td>1000_0</td>\n",
       "      <td>2018-07-25</td>\n",
       "      <td>0.00</td>\n",
       "      <td>1000</td>\n",
       "    </tr>\n",
       "    <tr>\n",
       "      <th>1</th>\n",
       "      <td>1000_1</td>\n",
       "      <td>2018-08-17</td>\n",
       "      <td>0.00</td>\n",
       "      <td>1000</td>\n",
       "    </tr>\n",
       "    <tr>\n",
       "      <th>2</th>\n",
       "      <td>1000_2</td>\n",
       "      <td>2018-06-11</td>\n",
       "      <td>2.85</td>\n",
       "      <td>1000</td>\n",
       "    </tr>\n",
       "    <tr>\n",
       "      <th>3</th>\n",
       "      <td>1000_3</td>\n",
       "      <td>2018-09-21</td>\n",
       "      <td>13.80</td>\n",
       "      <td>1000</td>\n",
       "    </tr>\n",
       "    <tr>\n",
       "      <th>4</th>\n",
       "      <td>1000_4</td>\n",
       "      <td>2018-12-15</td>\n",
       "      <td>5.18</td>\n",
       "      <td>1000</td>\n",
       "    </tr>\n",
       "  </tbody>\n",
       "</table>\n",
       "</div>"
      ],
      "text/plain": [
       "       id   call_date  duration  user_id\n",
       "0  1000_0  2018-07-25      0.00     1000\n",
       "1  1000_1  2018-08-17      0.00     1000\n",
       "2  1000_2  2018-06-11      2.85     1000\n",
       "3  1000_3  2018-09-21     13.80     1000\n",
       "4  1000_4  2018-12-15      5.18     1000"
      ]
     },
     "metadata": {},
     "output_type": "display_data"
    },
    {
     "data": {
      "text/html": [
       "<div>\n",
       "<style scoped>\n",
       "    .dataframe tbody tr th:only-of-type {\n",
       "        vertical-align: middle;\n",
       "    }\n",
       "\n",
       "    .dataframe tbody tr th {\n",
       "        vertical-align: top;\n",
       "    }\n",
       "\n",
       "    .dataframe thead th {\n",
       "        text-align: right;\n",
       "    }\n",
       "</style>\n",
       "<table border=\"1\" class=\"dataframe\">\n",
       "  <thead>\n",
       "    <tr style=\"text-align: right;\">\n",
       "      <th></th>\n",
       "      <th>Unnamed: 0</th>\n",
       "      <th>id</th>\n",
       "      <th>mb_used</th>\n",
       "      <th>session_date</th>\n",
       "      <th>user_id</th>\n",
       "    </tr>\n",
       "  </thead>\n",
       "  <tbody>\n",
       "    <tr>\n",
       "      <th>0</th>\n",
       "      <td>0</td>\n",
       "      <td>1000_0</td>\n",
       "      <td>112.95</td>\n",
       "      <td>2018-11-25</td>\n",
       "      <td>1000</td>\n",
       "    </tr>\n",
       "    <tr>\n",
       "      <th>1</th>\n",
       "      <td>1</td>\n",
       "      <td>1000_1</td>\n",
       "      <td>1052.81</td>\n",
       "      <td>2018-09-07</td>\n",
       "      <td>1000</td>\n",
       "    </tr>\n",
       "    <tr>\n",
       "      <th>2</th>\n",
       "      <td>2</td>\n",
       "      <td>1000_2</td>\n",
       "      <td>1197.26</td>\n",
       "      <td>2018-06-25</td>\n",
       "      <td>1000</td>\n",
       "    </tr>\n",
       "    <tr>\n",
       "      <th>3</th>\n",
       "      <td>3</td>\n",
       "      <td>1000_3</td>\n",
       "      <td>550.27</td>\n",
       "      <td>2018-08-22</td>\n",
       "      <td>1000</td>\n",
       "    </tr>\n",
       "    <tr>\n",
       "      <th>4</th>\n",
       "      <td>4</td>\n",
       "      <td>1000_4</td>\n",
       "      <td>302.56</td>\n",
       "      <td>2018-09-24</td>\n",
       "      <td>1000</td>\n",
       "    </tr>\n",
       "  </tbody>\n",
       "</table>\n",
       "</div>"
      ],
      "text/plain": [
       "   Unnamed: 0      id  mb_used session_date  user_id\n",
       "0           0  1000_0   112.95   2018-11-25     1000\n",
       "1           1  1000_1  1052.81   2018-09-07     1000\n",
       "2           2  1000_2  1197.26   2018-06-25     1000\n",
       "3           3  1000_3   550.27   2018-08-22     1000\n",
       "4           4  1000_4   302.56   2018-09-24     1000"
      ]
     },
     "metadata": {},
     "output_type": "display_data"
    },
    {
     "data": {
      "text/html": [
       "<div>\n",
       "<style scoped>\n",
       "    .dataframe tbody tr th:only-of-type {\n",
       "        vertical-align: middle;\n",
       "    }\n",
       "\n",
       "    .dataframe tbody tr th {\n",
       "        vertical-align: top;\n",
       "    }\n",
       "\n",
       "    .dataframe thead th {\n",
       "        text-align: right;\n",
       "    }\n",
       "</style>\n",
       "<table border=\"1\" class=\"dataframe\">\n",
       "  <thead>\n",
       "    <tr style=\"text-align: right;\">\n",
       "      <th></th>\n",
       "      <th>id</th>\n",
       "      <th>message_date</th>\n",
       "      <th>user_id</th>\n",
       "    </tr>\n",
       "  </thead>\n",
       "  <tbody>\n",
       "    <tr>\n",
       "      <th>0</th>\n",
       "      <td>1000_0</td>\n",
       "      <td>2018-06-27</td>\n",
       "      <td>1000</td>\n",
       "    </tr>\n",
       "    <tr>\n",
       "      <th>1</th>\n",
       "      <td>1000_1</td>\n",
       "      <td>2018-10-08</td>\n",
       "      <td>1000</td>\n",
       "    </tr>\n",
       "    <tr>\n",
       "      <th>2</th>\n",
       "      <td>1000_2</td>\n",
       "      <td>2018-08-04</td>\n",
       "      <td>1000</td>\n",
       "    </tr>\n",
       "    <tr>\n",
       "      <th>3</th>\n",
       "      <td>1000_3</td>\n",
       "      <td>2018-06-16</td>\n",
       "      <td>1000</td>\n",
       "    </tr>\n",
       "    <tr>\n",
       "      <th>4</th>\n",
       "      <td>1000_4</td>\n",
       "      <td>2018-12-05</td>\n",
       "      <td>1000</td>\n",
       "    </tr>\n",
       "  </tbody>\n",
       "</table>\n",
       "</div>"
      ],
      "text/plain": [
       "       id message_date  user_id\n",
       "0  1000_0   2018-06-27     1000\n",
       "1  1000_1   2018-10-08     1000\n",
       "2  1000_2   2018-08-04     1000\n",
       "3  1000_3   2018-06-16     1000\n",
       "4  1000_4   2018-12-05     1000"
      ]
     },
     "metadata": {},
     "output_type": "display_data"
    },
    {
     "data": {
      "text/html": [
       "<div>\n",
       "<style scoped>\n",
       "    .dataframe tbody tr th:only-of-type {\n",
       "        vertical-align: middle;\n",
       "    }\n",
       "\n",
       "    .dataframe tbody tr th {\n",
       "        vertical-align: top;\n",
       "    }\n",
       "\n",
       "    .dataframe thead th {\n",
       "        text-align: right;\n",
       "    }\n",
       "</style>\n",
       "<table border=\"1\" class=\"dataframe\">\n",
       "  <thead>\n",
       "    <tr style=\"text-align: right;\">\n",
       "      <th></th>\n",
       "      <th>messages_included</th>\n",
       "      <th>mb_per_month_included</th>\n",
       "      <th>minutes_included</th>\n",
       "      <th>rub_monthly_fee</th>\n",
       "      <th>rub_per_gb</th>\n",
       "      <th>rub_per_message</th>\n",
       "      <th>rub_per_minute</th>\n",
       "      <th>tariff_name</th>\n",
       "    </tr>\n",
       "  </thead>\n",
       "  <tbody>\n",
       "    <tr>\n",
       "      <th>0</th>\n",
       "      <td>50</td>\n",
       "      <td>15360</td>\n",
       "      <td>500</td>\n",
       "      <td>550</td>\n",
       "      <td>200</td>\n",
       "      <td>3</td>\n",
       "      <td>3</td>\n",
       "      <td>smart</td>\n",
       "    </tr>\n",
       "    <tr>\n",
       "      <th>1</th>\n",
       "      <td>1000</td>\n",
       "      <td>30720</td>\n",
       "      <td>3000</td>\n",
       "      <td>1950</td>\n",
       "      <td>150</td>\n",
       "      <td>1</td>\n",
       "      <td>1</td>\n",
       "      <td>ultra</td>\n",
       "    </tr>\n",
       "  </tbody>\n",
       "</table>\n",
       "</div>"
      ],
      "text/plain": [
       "   messages_included  mb_per_month_included  minutes_included  \\\n",
       "0                 50                  15360               500   \n",
       "1               1000                  30720              3000   \n",
       "\n",
       "   rub_monthly_fee  rub_per_gb  rub_per_message  rub_per_minute tariff_name  \n",
       "0              550         200                3               3       smart  \n",
       "1             1950         150                1               1       ultra  "
      ]
     },
     "metadata": {},
     "output_type": "display_data"
    },
    {
     "data": {
      "text/html": [
       "<div>\n",
       "<style scoped>\n",
       "    .dataframe tbody tr th:only-of-type {\n",
       "        vertical-align: middle;\n",
       "    }\n",
       "\n",
       "    .dataframe tbody tr th {\n",
       "        vertical-align: top;\n",
       "    }\n",
       "\n",
       "    .dataframe thead th {\n",
       "        text-align: right;\n",
       "    }\n",
       "</style>\n",
       "<table border=\"1\" class=\"dataframe\">\n",
       "  <thead>\n",
       "    <tr style=\"text-align: right;\">\n",
       "      <th></th>\n",
       "      <th>user_id</th>\n",
       "      <th>age</th>\n",
       "      <th>churn_date</th>\n",
       "      <th>city</th>\n",
       "      <th>first_name</th>\n",
       "      <th>last_name</th>\n",
       "      <th>reg_date</th>\n",
       "      <th>tariff</th>\n",
       "    </tr>\n",
       "  </thead>\n",
       "  <tbody>\n",
       "    <tr>\n",
       "      <th>0</th>\n",
       "      <td>1000</td>\n",
       "      <td>52</td>\n",
       "      <td>NaN</td>\n",
       "      <td>Краснодар</td>\n",
       "      <td>Рафаил</td>\n",
       "      <td>Верещагин</td>\n",
       "      <td>2018-05-25</td>\n",
       "      <td>ultra</td>\n",
       "    </tr>\n",
       "    <tr>\n",
       "      <th>1</th>\n",
       "      <td>1001</td>\n",
       "      <td>41</td>\n",
       "      <td>NaN</td>\n",
       "      <td>Москва</td>\n",
       "      <td>Иван</td>\n",
       "      <td>Ежов</td>\n",
       "      <td>2018-11-01</td>\n",
       "      <td>smart</td>\n",
       "    </tr>\n",
       "    <tr>\n",
       "      <th>2</th>\n",
       "      <td>1002</td>\n",
       "      <td>59</td>\n",
       "      <td>NaN</td>\n",
       "      <td>Стерлитамак</td>\n",
       "      <td>Евгений</td>\n",
       "      <td>Абрамович</td>\n",
       "      <td>2018-06-17</td>\n",
       "      <td>smart</td>\n",
       "    </tr>\n",
       "    <tr>\n",
       "      <th>3</th>\n",
       "      <td>1003</td>\n",
       "      <td>23</td>\n",
       "      <td>NaN</td>\n",
       "      <td>Москва</td>\n",
       "      <td>Белла</td>\n",
       "      <td>Белякова</td>\n",
       "      <td>2018-08-17</td>\n",
       "      <td>ultra</td>\n",
       "    </tr>\n",
       "    <tr>\n",
       "      <th>4</th>\n",
       "      <td>1004</td>\n",
       "      <td>68</td>\n",
       "      <td>NaN</td>\n",
       "      <td>Новокузнецк</td>\n",
       "      <td>Татьяна</td>\n",
       "      <td>Авдеенко</td>\n",
       "      <td>2018-05-14</td>\n",
       "      <td>ultra</td>\n",
       "    </tr>\n",
       "  </tbody>\n",
       "</table>\n",
       "</div>"
      ],
      "text/plain": [
       "   user_id  age churn_date         city first_name  last_name    reg_date  \\\n",
       "0     1000   52        NaN    Краснодар     Рафаил  Верещагин  2018-05-25   \n",
       "1     1001   41        NaN       Москва       Иван       Ежов  2018-11-01   \n",
       "2     1002   59        NaN  Стерлитамак    Евгений  Абрамович  2018-06-17   \n",
       "3     1003   23        NaN       Москва      Белла   Белякова  2018-08-17   \n",
       "4     1004   68        NaN  Новокузнецк    Татьяна   Авдеенко  2018-05-14   \n",
       "\n",
       "  tariff  \n",
       "0  ultra  \n",
       "1  smart  \n",
       "2  smart  \n",
       "3  ultra  \n",
       "4  ultra  "
      ]
     },
     "metadata": {},
     "output_type": "display_data"
    }
   ],
   "source": [
    "for df in [df_calls, df_internet, df_messages, df_tariffs, df_users]:\n",
    "    display(df.head())"
   ]
  },
  {
   "cell_type": "markdown",
   "id": "7a8bc5df",
   "metadata": {},
   "source": [
    "Изучим информацию о данных в датасетах"
   ]
  },
  {
   "cell_type": "code",
   "execution_count": 5,
   "id": "1f99c4f0",
   "metadata": {},
   "outputs": [
    {
     "name": "stdout",
     "output_type": "stream",
     "text": [
      "<class 'pandas.core.frame.DataFrame'>\n",
      "RangeIndex: 202607 entries, 0 to 202606\n",
      "Data columns (total 4 columns):\n",
      " #   Column     Non-Null Count   Dtype  \n",
      "---  ------     --------------   -----  \n",
      " 0   id         202607 non-null  object \n",
      " 1   call_date  202607 non-null  object \n",
      " 2   duration   202607 non-null  float64\n",
      " 3   user_id    202607 non-null  int64  \n",
      "dtypes: float64(1), int64(1), object(2)\n",
      "memory usage: 6.2+ MB\n"
     ]
    },
    {
     "data": {
      "text/plain": [
       "None"
      ]
     },
     "metadata": {},
     "output_type": "display_data"
    },
    {
     "name": "stdout",
     "output_type": "stream",
     "text": [
      "<class 'pandas.core.frame.DataFrame'>\n",
      "RangeIndex: 149396 entries, 0 to 149395\n",
      "Data columns (total 5 columns):\n",
      " #   Column        Non-Null Count   Dtype  \n",
      "---  ------        --------------   -----  \n",
      " 0   Unnamed: 0    149396 non-null  int64  \n",
      " 1   id            149396 non-null  object \n",
      " 2   mb_used       149396 non-null  float64\n",
      " 3   session_date  149396 non-null  object \n",
      " 4   user_id       149396 non-null  int64  \n",
      "dtypes: float64(1), int64(2), object(2)\n",
      "memory usage: 5.7+ MB\n"
     ]
    },
    {
     "data": {
      "text/plain": [
       "None"
      ]
     },
     "metadata": {},
     "output_type": "display_data"
    },
    {
     "name": "stdout",
     "output_type": "stream",
     "text": [
      "<class 'pandas.core.frame.DataFrame'>\n",
      "RangeIndex: 123036 entries, 0 to 123035\n",
      "Data columns (total 3 columns):\n",
      " #   Column        Non-Null Count   Dtype \n",
      "---  ------        --------------   ----- \n",
      " 0   id            123036 non-null  object\n",
      " 1   message_date  123036 non-null  object\n",
      " 2   user_id       123036 non-null  int64 \n",
      "dtypes: int64(1), object(2)\n",
      "memory usage: 2.8+ MB\n"
     ]
    },
    {
     "data": {
      "text/plain": [
       "None"
      ]
     },
     "metadata": {},
     "output_type": "display_data"
    },
    {
     "name": "stdout",
     "output_type": "stream",
     "text": [
      "<class 'pandas.core.frame.DataFrame'>\n",
      "RangeIndex: 2 entries, 0 to 1\n",
      "Data columns (total 8 columns):\n",
      " #   Column                 Non-Null Count  Dtype \n",
      "---  ------                 --------------  ----- \n",
      " 0   messages_included      2 non-null      int64 \n",
      " 1   mb_per_month_included  2 non-null      int64 \n",
      " 2   minutes_included       2 non-null      int64 \n",
      " 3   rub_monthly_fee        2 non-null      int64 \n",
      " 4   rub_per_gb             2 non-null      int64 \n",
      " 5   rub_per_message        2 non-null      int64 \n",
      " 6   rub_per_minute         2 non-null      int64 \n",
      " 7   tariff_name            2 non-null      object\n",
      "dtypes: int64(7), object(1)\n",
      "memory usage: 256.0+ bytes\n"
     ]
    },
    {
     "data": {
      "text/plain": [
       "None"
      ]
     },
     "metadata": {},
     "output_type": "display_data"
    },
    {
     "name": "stdout",
     "output_type": "stream",
     "text": [
      "<class 'pandas.core.frame.DataFrame'>\n",
      "RangeIndex: 500 entries, 0 to 499\n",
      "Data columns (total 8 columns):\n",
      " #   Column      Non-Null Count  Dtype \n",
      "---  ------      --------------  ----- \n",
      " 0   user_id     500 non-null    int64 \n",
      " 1   age         500 non-null    int64 \n",
      " 2   churn_date  38 non-null     object\n",
      " 3   city        500 non-null    object\n",
      " 4   first_name  500 non-null    object\n",
      " 5   last_name   500 non-null    object\n",
      " 6   reg_date    500 non-null    object\n",
      " 7   tariff      500 non-null    object\n",
      "dtypes: int64(2), object(6)\n",
      "memory usage: 31.4+ KB\n"
     ]
    },
    {
     "data": {
      "text/plain": [
       "None"
      ]
     },
     "metadata": {},
     "output_type": "display_data"
    }
   ],
   "source": [
    "for df in [df_calls, df_internet, df_messages, df_tariffs, df_users]:\n",
    "    display(df.info())"
   ]
  },
  {
   "cell_type": "markdown",
   "id": "3f12963c",
   "metadata": {},
   "source": [
    "Проверим на дубликаты пользователей"
   ]
  },
  {
   "cell_type": "code",
   "execution_count": 6,
   "id": "78e8f52d",
   "metadata": {},
   "outputs": [
    {
     "data": {
      "text/html": [
       "<div>\n",
       "<style scoped>\n",
       "    .dataframe tbody tr th:only-of-type {\n",
       "        vertical-align: middle;\n",
       "    }\n",
       "\n",
       "    .dataframe tbody tr th {\n",
       "        vertical-align: top;\n",
       "    }\n",
       "\n",
       "    .dataframe thead th {\n",
       "        text-align: right;\n",
       "    }\n",
       "</style>\n",
       "<table border=\"1\" class=\"dataframe\">\n",
       "  <thead>\n",
       "    <tr style=\"text-align: right;\">\n",
       "      <th></th>\n",
       "      <th>user_id</th>\n",
       "      <th>age</th>\n",
       "      <th>churn_date</th>\n",
       "      <th>city</th>\n",
       "      <th>first_name</th>\n",
       "      <th>last_name</th>\n",
       "      <th>reg_date</th>\n",
       "      <th>tariff</th>\n",
       "    </tr>\n",
       "  </thead>\n",
       "  <tbody>\n",
       "  </tbody>\n",
       "</table>\n",
       "</div>"
      ],
      "text/plain": [
       "Empty DataFrame\n",
       "Columns: [user_id, age, churn_date, city, first_name, last_name, reg_date, tariff]\n",
       "Index: []"
      ]
     },
     "execution_count": 6,
     "metadata": {},
     "output_type": "execute_result"
    }
   ],
   "source": [
    "df_users[df_users[['last_name', 'first_name']].duplicated()]"
   ]
  },
  {
   "cell_type": "markdown",
   "id": "a29881ea",
   "metadata": {},
   "source": [
    "### Вывод"
   ]
  },
  {
   "cell_type": "markdown",
   "id": "1b9263e3",
   "metadata": {},
   "source": [
    "Мы получили 5 наборов данных разных размеров, с количеством столбцов от 3 до 8 и строк от 2 до 202607. <br><br>\n",
    "**df_calls**<br>\n",
    "Содержит информацию о звонках, без пропусков в данных.<br><br>\n",
    "**df_internet**<br>\n",
    "Содержит информацию об интернет-сессиях, также без пропущенных данных, необходимо удалить столбец `Unnamed: 0`.<br><br>\n",
    "**df_messages**<br>\n",
    "Соодержит информацию о сообщениях, без пропусков в данных.<br><br>\n",
    "**df_tariffs**<br>\n",
    "Самая маленькая таблица из имеющихся с информацией о тарифах.<br><br>\n",
    "**df_users**<br>\n",
    "Содержит информацию о пользователях, имеются пропущенные значения в столбце `churn_date`, наименование столбца с названиями тарифов не совпадает с аналогом из таблицы df_tariffs.<br><br>\n",
    "В связи с небольшим объемом занимаемой памяти датасетов, преобразование типов данных для уменьшения объема нагрузки на память не трубется."
   ]
  },
  {
   "cell_type": "markdown",
   "id": "a94305ef",
   "metadata": {},
   "source": [
    "## Предобработка данных"
   ]
  },
  {
   "cell_type": "markdown",
   "id": "f6b437a1",
   "metadata": {},
   "source": [
    "### Преобразование типов данных"
   ]
  },
  {
   "cell_type": "markdown",
   "id": "f9ba9c4d",
   "metadata": {},
   "source": [
    "Обработаем по очереди все датасеты."
   ]
  },
  {
   "cell_type": "markdown",
   "id": "be436d71",
   "metadata": {},
   "source": [
    "Переведем дату записанную типом object в datetime"
   ]
  },
  {
   "cell_type": "code",
   "execution_count": 7,
   "id": "3621346b",
   "metadata": {},
   "outputs": [],
   "source": [
    "df_calls['call_date'] = pd.to_datetime(df_calls['call_date'], format='%Y-%m-%d')"
   ]
  },
  {
   "cell_type": "code",
   "execution_count": 8,
   "id": "26746cdd",
   "metadata": {},
   "outputs": [],
   "source": [
    "df_internet['session_date'] = pd.to_datetime(df_internet['session_date'], format='%Y-%m-%d')"
   ]
  },
  {
   "cell_type": "code",
   "execution_count": 9,
   "id": "95ca6c5a",
   "metadata": {},
   "outputs": [],
   "source": [
    "df_messages['message_date'] = pd.to_datetime(df_messages['message_date'], format='%Y-%m-%d')"
   ]
  },
  {
   "cell_type": "code",
   "execution_count": 10,
   "id": "382c9755",
   "metadata": {},
   "outputs": [],
   "source": [
    "df_users['reg_date'] = pd.to_datetime(df_users['reg_date'], format='%Y-%m-%d')"
   ]
  },
  {
   "cell_type": "code",
   "execution_count": 11,
   "id": "28d587d6",
   "metadata": {},
   "outputs": [],
   "source": [
    "df_users['churn_date'] = (\n",
    "    pd.to_datetime(df_users[df_users['churn_date'].isna() == False]['churn_date'], format='%Y-%m-%d')\n",
    ")"
   ]
  },
  {
   "cell_type": "markdown",
   "id": "5e94644c",
   "metadata": {},
   "source": [
    "В связи с тем, что таблицы не большие, как мы писали ранее, преобразовывать типы данных ради уменьшения объема занимаемой памяти не будем."
   ]
  },
  {
   "cell_type": "markdown",
   "id": "c91304c6",
   "metadata": {},
   "source": [
    "### Работа со столбцами, добавление новых данных"
   ]
  },
  {
   "cell_type": "markdown",
   "id": "893ae966",
   "metadata": {},
   "source": [
    "Для начала удалим колонку `Unnamed: 0` из **df_internet**, так как она дублирует индекс."
   ]
  },
  {
   "cell_type": "code",
   "execution_count": 12,
   "id": "44c95b88",
   "metadata": {},
   "outputs": [],
   "source": [
    "df_internet = df_internet.drop('Unnamed: 0', axis=1)"
   ]
  },
  {
   "cell_type": "markdown",
   "id": "02c9dac7",
   "metadata": {},
   "source": [
    "Далее приведем наименование столбца с названиями тарифов к единому, это нам пригодится при слиянии таблиц. Изменим название столбца датасета **df_users** аналогично названию из **df_tariffs**"
   ]
  },
  {
   "cell_type": "code",
   "execution_count": 13,
   "id": "f23bb570",
   "metadata": {},
   "outputs": [],
   "source": [
    "df_users = df_users.rename(columns={'tariff': 'tariff_name'})"
   ]
  },
  {
   "cell_type": "markdown",
   "id": "475b1385",
   "metadata": {},
   "source": [
    "Создадим новый столбец в каждом датафрейме выделив месяц из даты, это нам понадобится для будущего анализа "
   ]
  },
  {
   "cell_type": "code",
   "execution_count": 14,
   "id": "4e76524f",
   "metadata": {},
   "outputs": [],
   "source": [
    "df_calls.insert(2, 'month', df_calls['call_date'].dt.month)"
   ]
  },
  {
   "cell_type": "code",
   "execution_count": 15,
   "id": "26b43233",
   "metadata": {},
   "outputs": [],
   "source": [
    "df_internet.insert(3, 'month', df_internet['session_date'].dt.month)"
   ]
  },
  {
   "cell_type": "code",
   "execution_count": 16,
   "id": "afad9345",
   "metadata": {},
   "outputs": [],
   "source": [
    "df_messages.insert(2, 'month', df_messages['message_date'].dt.month)"
   ]
  },
  {
   "cell_type": "code",
   "execution_count": 17,
   "id": "1851e8e1",
   "metadata": {},
   "outputs": [],
   "source": [
    "df_users.insert(7, 'month', df_users['reg_date'].dt.month)"
   ]
  },
  {
   "cell_type": "code",
   "execution_count": 18,
   "id": "c17cde42",
   "metadata": {},
   "outputs": [],
   "source": [
    "df_users.insert(3, 'churn_month', df_users['churn_date'].dt.month)"
   ]
  },
  {
   "cell_type": "markdown",
   "id": "2c45c8e2",
   "metadata": {},
   "source": [
    "В **df_calls** добавим новую колонку отражающую количество минут каждого разговора по телефону"
   ]
  },
  {
   "cell_type": "code",
   "execution_count": 19,
   "id": "a561eb14",
   "metadata": {},
   "outputs": [],
   "source": [
    "df_calls.insert(4, 'duration_min', np.ceil(df_calls['duration']))"
   ]
  },
  {
   "cell_type": "markdown",
   "id": "76d60a2a",
   "metadata": {},
   "source": [
    "В **df_tariffs** добавим колонку с количеством гигабайт входящих в пакет тарифа "
   ]
  },
  {
   "cell_type": "code",
   "execution_count": 20,
   "id": "1fac35e2",
   "metadata": {},
   "outputs": [],
   "source": [
    "df_tariffs.insert(2, 'gb_per_month_included', df_tariffs['mb_per_month_included'] / 1024)"
   ]
  },
  {
   "cell_type": "markdown",
   "id": "73567009",
   "metadata": {},
   "source": [
    "Выведем результат на экран"
   ]
  },
  {
   "cell_type": "code",
   "execution_count": 21,
   "id": "18f66afe",
   "metadata": {},
   "outputs": [
    {
     "data": {
      "text/html": [
       "<div>\n",
       "<style scoped>\n",
       "    .dataframe tbody tr th:only-of-type {\n",
       "        vertical-align: middle;\n",
       "    }\n",
       "\n",
       "    .dataframe tbody tr th {\n",
       "        vertical-align: top;\n",
       "    }\n",
       "\n",
       "    .dataframe thead th {\n",
       "        text-align: right;\n",
       "    }\n",
       "</style>\n",
       "<table border=\"1\" class=\"dataframe\">\n",
       "  <thead>\n",
       "    <tr style=\"text-align: right;\">\n",
       "      <th></th>\n",
       "      <th>id</th>\n",
       "      <th>call_date</th>\n",
       "      <th>month</th>\n",
       "      <th>duration</th>\n",
       "      <th>duration_min</th>\n",
       "      <th>user_id</th>\n",
       "    </tr>\n",
       "  </thead>\n",
       "  <tbody>\n",
       "    <tr>\n",
       "      <th>0</th>\n",
       "      <td>1000_0</td>\n",
       "      <td>2018-07-25</td>\n",
       "      <td>7</td>\n",
       "      <td>0.00</td>\n",
       "      <td>0.0</td>\n",
       "      <td>1000</td>\n",
       "    </tr>\n",
       "    <tr>\n",
       "      <th>1</th>\n",
       "      <td>1000_1</td>\n",
       "      <td>2018-08-17</td>\n",
       "      <td>8</td>\n",
       "      <td>0.00</td>\n",
       "      <td>0.0</td>\n",
       "      <td>1000</td>\n",
       "    </tr>\n",
       "    <tr>\n",
       "      <th>2</th>\n",
       "      <td>1000_2</td>\n",
       "      <td>2018-06-11</td>\n",
       "      <td>6</td>\n",
       "      <td>2.85</td>\n",
       "      <td>3.0</td>\n",
       "      <td>1000</td>\n",
       "    </tr>\n",
       "    <tr>\n",
       "      <th>3</th>\n",
       "      <td>1000_3</td>\n",
       "      <td>2018-09-21</td>\n",
       "      <td>9</td>\n",
       "      <td>13.80</td>\n",
       "      <td>14.0</td>\n",
       "      <td>1000</td>\n",
       "    </tr>\n",
       "    <tr>\n",
       "      <th>4</th>\n",
       "      <td>1000_4</td>\n",
       "      <td>2018-12-15</td>\n",
       "      <td>12</td>\n",
       "      <td>5.18</td>\n",
       "      <td>6.0</td>\n",
       "      <td>1000</td>\n",
       "    </tr>\n",
       "  </tbody>\n",
       "</table>\n",
       "</div>"
      ],
      "text/plain": [
       "       id  call_date  month  duration  duration_min  user_id\n",
       "0  1000_0 2018-07-25      7      0.00           0.0     1000\n",
       "1  1000_1 2018-08-17      8      0.00           0.0     1000\n",
       "2  1000_2 2018-06-11      6      2.85           3.0     1000\n",
       "3  1000_3 2018-09-21      9     13.80          14.0     1000\n",
       "4  1000_4 2018-12-15     12      5.18           6.0     1000"
      ]
     },
     "metadata": {},
     "output_type": "display_data"
    },
    {
     "data": {
      "text/html": [
       "<div>\n",
       "<style scoped>\n",
       "    .dataframe tbody tr th:only-of-type {\n",
       "        vertical-align: middle;\n",
       "    }\n",
       "\n",
       "    .dataframe tbody tr th {\n",
       "        vertical-align: top;\n",
       "    }\n",
       "\n",
       "    .dataframe thead th {\n",
       "        text-align: right;\n",
       "    }\n",
       "</style>\n",
       "<table border=\"1\" class=\"dataframe\">\n",
       "  <thead>\n",
       "    <tr style=\"text-align: right;\">\n",
       "      <th></th>\n",
       "      <th>id</th>\n",
       "      <th>mb_used</th>\n",
       "      <th>session_date</th>\n",
       "      <th>month</th>\n",
       "      <th>user_id</th>\n",
       "    </tr>\n",
       "  </thead>\n",
       "  <tbody>\n",
       "    <tr>\n",
       "      <th>0</th>\n",
       "      <td>1000_0</td>\n",
       "      <td>112.95</td>\n",
       "      <td>2018-11-25</td>\n",
       "      <td>11</td>\n",
       "      <td>1000</td>\n",
       "    </tr>\n",
       "    <tr>\n",
       "      <th>1</th>\n",
       "      <td>1000_1</td>\n",
       "      <td>1052.81</td>\n",
       "      <td>2018-09-07</td>\n",
       "      <td>9</td>\n",
       "      <td>1000</td>\n",
       "    </tr>\n",
       "    <tr>\n",
       "      <th>2</th>\n",
       "      <td>1000_2</td>\n",
       "      <td>1197.26</td>\n",
       "      <td>2018-06-25</td>\n",
       "      <td>6</td>\n",
       "      <td>1000</td>\n",
       "    </tr>\n",
       "    <tr>\n",
       "      <th>3</th>\n",
       "      <td>1000_3</td>\n",
       "      <td>550.27</td>\n",
       "      <td>2018-08-22</td>\n",
       "      <td>8</td>\n",
       "      <td>1000</td>\n",
       "    </tr>\n",
       "    <tr>\n",
       "      <th>4</th>\n",
       "      <td>1000_4</td>\n",
       "      <td>302.56</td>\n",
       "      <td>2018-09-24</td>\n",
       "      <td>9</td>\n",
       "      <td>1000</td>\n",
       "    </tr>\n",
       "  </tbody>\n",
       "</table>\n",
       "</div>"
      ],
      "text/plain": [
       "       id  mb_used session_date  month  user_id\n",
       "0  1000_0   112.95   2018-11-25     11     1000\n",
       "1  1000_1  1052.81   2018-09-07      9     1000\n",
       "2  1000_2  1197.26   2018-06-25      6     1000\n",
       "3  1000_3   550.27   2018-08-22      8     1000\n",
       "4  1000_4   302.56   2018-09-24      9     1000"
      ]
     },
     "metadata": {},
     "output_type": "display_data"
    },
    {
     "data": {
      "text/html": [
       "<div>\n",
       "<style scoped>\n",
       "    .dataframe tbody tr th:only-of-type {\n",
       "        vertical-align: middle;\n",
       "    }\n",
       "\n",
       "    .dataframe tbody tr th {\n",
       "        vertical-align: top;\n",
       "    }\n",
       "\n",
       "    .dataframe thead th {\n",
       "        text-align: right;\n",
       "    }\n",
       "</style>\n",
       "<table border=\"1\" class=\"dataframe\">\n",
       "  <thead>\n",
       "    <tr style=\"text-align: right;\">\n",
       "      <th></th>\n",
       "      <th>id</th>\n",
       "      <th>message_date</th>\n",
       "      <th>month</th>\n",
       "      <th>user_id</th>\n",
       "    </tr>\n",
       "  </thead>\n",
       "  <tbody>\n",
       "    <tr>\n",
       "      <th>0</th>\n",
       "      <td>1000_0</td>\n",
       "      <td>2018-06-27</td>\n",
       "      <td>6</td>\n",
       "      <td>1000</td>\n",
       "    </tr>\n",
       "    <tr>\n",
       "      <th>1</th>\n",
       "      <td>1000_1</td>\n",
       "      <td>2018-10-08</td>\n",
       "      <td>10</td>\n",
       "      <td>1000</td>\n",
       "    </tr>\n",
       "    <tr>\n",
       "      <th>2</th>\n",
       "      <td>1000_2</td>\n",
       "      <td>2018-08-04</td>\n",
       "      <td>8</td>\n",
       "      <td>1000</td>\n",
       "    </tr>\n",
       "    <tr>\n",
       "      <th>3</th>\n",
       "      <td>1000_3</td>\n",
       "      <td>2018-06-16</td>\n",
       "      <td>6</td>\n",
       "      <td>1000</td>\n",
       "    </tr>\n",
       "    <tr>\n",
       "      <th>4</th>\n",
       "      <td>1000_4</td>\n",
       "      <td>2018-12-05</td>\n",
       "      <td>12</td>\n",
       "      <td>1000</td>\n",
       "    </tr>\n",
       "  </tbody>\n",
       "</table>\n",
       "</div>"
      ],
      "text/plain": [
       "       id message_date  month  user_id\n",
       "0  1000_0   2018-06-27      6     1000\n",
       "1  1000_1   2018-10-08     10     1000\n",
       "2  1000_2   2018-08-04      8     1000\n",
       "3  1000_3   2018-06-16      6     1000\n",
       "4  1000_4   2018-12-05     12     1000"
      ]
     },
     "metadata": {},
     "output_type": "display_data"
    },
    {
     "data": {
      "text/html": [
       "<div>\n",
       "<style scoped>\n",
       "    .dataframe tbody tr th:only-of-type {\n",
       "        vertical-align: middle;\n",
       "    }\n",
       "\n",
       "    .dataframe tbody tr th {\n",
       "        vertical-align: top;\n",
       "    }\n",
       "\n",
       "    .dataframe thead th {\n",
       "        text-align: right;\n",
       "    }\n",
       "</style>\n",
       "<table border=\"1\" class=\"dataframe\">\n",
       "  <thead>\n",
       "    <tr style=\"text-align: right;\">\n",
       "      <th></th>\n",
       "      <th>messages_included</th>\n",
       "      <th>mb_per_month_included</th>\n",
       "      <th>gb_per_month_included</th>\n",
       "      <th>minutes_included</th>\n",
       "      <th>rub_monthly_fee</th>\n",
       "      <th>rub_per_gb</th>\n",
       "      <th>rub_per_message</th>\n",
       "      <th>rub_per_minute</th>\n",
       "      <th>tariff_name</th>\n",
       "    </tr>\n",
       "  </thead>\n",
       "  <tbody>\n",
       "    <tr>\n",
       "      <th>0</th>\n",
       "      <td>50</td>\n",
       "      <td>15360</td>\n",
       "      <td>15.0</td>\n",
       "      <td>500</td>\n",
       "      <td>550</td>\n",
       "      <td>200</td>\n",
       "      <td>3</td>\n",
       "      <td>3</td>\n",
       "      <td>smart</td>\n",
       "    </tr>\n",
       "    <tr>\n",
       "      <th>1</th>\n",
       "      <td>1000</td>\n",
       "      <td>30720</td>\n",
       "      <td>30.0</td>\n",
       "      <td>3000</td>\n",
       "      <td>1950</td>\n",
       "      <td>150</td>\n",
       "      <td>1</td>\n",
       "      <td>1</td>\n",
       "      <td>ultra</td>\n",
       "    </tr>\n",
       "  </tbody>\n",
       "</table>\n",
       "</div>"
      ],
      "text/plain": [
       "   messages_included  mb_per_month_included  gb_per_month_included  \\\n",
       "0                 50                  15360                   15.0   \n",
       "1               1000                  30720                   30.0   \n",
       "\n",
       "   minutes_included  rub_monthly_fee  rub_per_gb  rub_per_message  \\\n",
       "0               500              550         200                3   \n",
       "1              3000             1950         150                1   \n",
       "\n",
       "   rub_per_minute tariff_name  \n",
       "0               3       smart  \n",
       "1               1       ultra  "
      ]
     },
     "metadata": {},
     "output_type": "display_data"
    },
    {
     "data": {
      "text/html": [
       "<div>\n",
       "<style scoped>\n",
       "    .dataframe tbody tr th:only-of-type {\n",
       "        vertical-align: middle;\n",
       "    }\n",
       "\n",
       "    .dataframe tbody tr th {\n",
       "        vertical-align: top;\n",
       "    }\n",
       "\n",
       "    .dataframe thead th {\n",
       "        text-align: right;\n",
       "    }\n",
       "</style>\n",
       "<table border=\"1\" class=\"dataframe\">\n",
       "  <thead>\n",
       "    <tr style=\"text-align: right;\">\n",
       "      <th></th>\n",
       "      <th>user_id</th>\n",
       "      <th>age</th>\n",
       "      <th>churn_date</th>\n",
       "      <th>churn_month</th>\n",
       "      <th>city</th>\n",
       "      <th>first_name</th>\n",
       "      <th>last_name</th>\n",
       "      <th>reg_date</th>\n",
       "      <th>month</th>\n",
       "      <th>tariff_name</th>\n",
       "    </tr>\n",
       "  </thead>\n",
       "  <tbody>\n",
       "    <tr>\n",
       "      <th>0</th>\n",
       "      <td>1000</td>\n",
       "      <td>52</td>\n",
       "      <td>NaT</td>\n",
       "      <td>NaN</td>\n",
       "      <td>Краснодар</td>\n",
       "      <td>Рафаил</td>\n",
       "      <td>Верещагин</td>\n",
       "      <td>2018-05-25</td>\n",
       "      <td>5</td>\n",
       "      <td>ultra</td>\n",
       "    </tr>\n",
       "    <tr>\n",
       "      <th>1</th>\n",
       "      <td>1001</td>\n",
       "      <td>41</td>\n",
       "      <td>NaT</td>\n",
       "      <td>NaN</td>\n",
       "      <td>Москва</td>\n",
       "      <td>Иван</td>\n",
       "      <td>Ежов</td>\n",
       "      <td>2018-11-01</td>\n",
       "      <td>11</td>\n",
       "      <td>smart</td>\n",
       "    </tr>\n",
       "    <tr>\n",
       "      <th>2</th>\n",
       "      <td>1002</td>\n",
       "      <td>59</td>\n",
       "      <td>NaT</td>\n",
       "      <td>NaN</td>\n",
       "      <td>Стерлитамак</td>\n",
       "      <td>Евгений</td>\n",
       "      <td>Абрамович</td>\n",
       "      <td>2018-06-17</td>\n",
       "      <td>6</td>\n",
       "      <td>smart</td>\n",
       "    </tr>\n",
       "    <tr>\n",
       "      <th>3</th>\n",
       "      <td>1003</td>\n",
       "      <td>23</td>\n",
       "      <td>NaT</td>\n",
       "      <td>NaN</td>\n",
       "      <td>Москва</td>\n",
       "      <td>Белла</td>\n",
       "      <td>Белякова</td>\n",
       "      <td>2018-08-17</td>\n",
       "      <td>8</td>\n",
       "      <td>ultra</td>\n",
       "    </tr>\n",
       "    <tr>\n",
       "      <th>4</th>\n",
       "      <td>1004</td>\n",
       "      <td>68</td>\n",
       "      <td>NaT</td>\n",
       "      <td>NaN</td>\n",
       "      <td>Новокузнецк</td>\n",
       "      <td>Татьяна</td>\n",
       "      <td>Авдеенко</td>\n",
       "      <td>2018-05-14</td>\n",
       "      <td>5</td>\n",
       "      <td>ultra</td>\n",
       "    </tr>\n",
       "  </tbody>\n",
       "</table>\n",
       "</div>"
      ],
      "text/plain": [
       "   user_id  age churn_date  churn_month         city first_name  last_name  \\\n",
       "0     1000   52        NaT          NaN    Краснодар     Рафаил  Верещагин   \n",
       "1     1001   41        NaT          NaN       Москва       Иван       Ежов   \n",
       "2     1002   59        NaT          NaN  Стерлитамак    Евгений  Абрамович   \n",
       "3     1003   23        NaT          NaN       Москва      Белла   Белякова   \n",
       "4     1004   68        NaT          NaN  Новокузнецк    Татьяна   Авдеенко   \n",
       "\n",
       "    reg_date  month tariff_name  \n",
       "0 2018-05-25      5       ultra  \n",
       "1 2018-11-01     11       smart  \n",
       "2 2018-06-17      6       smart  \n",
       "3 2018-08-17      8       ultra  \n",
       "4 2018-05-14      5       ultra  "
      ]
     },
     "metadata": {},
     "output_type": "display_data"
    }
   ],
   "source": [
    "for df in [df_calls, df_internet, df_messages, df_tariffs, df_users]:\n",
    "    display(df.head())"
   ]
  },
  {
   "cell_type": "markdown",
   "id": "ce2de6cf",
   "metadata": {},
   "source": [
    "Посмтроим гистограммы по полученным данным"
   ]
  },
  {
   "cell_type": "code",
   "execution_count": 22,
   "id": "3a315bc5",
   "metadata": {},
   "outputs": [
    {
     "data": {
      "image/png": "[encoded data removed]",
      "text/plain": [
       "<Figure size 432x288 with 1 Axes>"
      ]
     },
     "metadata": {
      "needs_background": "light"
     },
     "output_type": "display_data"
    }
   ],
   "source": [
    "df_calls['duration_min'].hist(bins = 100)\n",
    "plt.title('Распределение длительности звонков')\n",
    "plt.xlabel('Длительность звонка в минутах')\n",
    "plt.show()"
   ]
  },
  {
   "cell_type": "code",
   "execution_count": 23,
   "id": "4958e9ed",
   "metadata": {},
   "outputs": [
    {
     "data": {
      "image/png": "[encoded data removed]",
      "text/plain": [
       "<Figure size 432x288 with 1 Axes>"
      ]
     },
     "metadata": {
      "needs_background": "light"
     },
     "output_type": "display_data"
    }
   ],
   "source": [
    "df_internet['mb_used'].hist(bins = 100)\n",
    "plt.title('Распределение используемого интернет-трафика за сессию')\n",
    "plt.xlabel('Потраченный интернет-трафик в мегабайтах')\n",
    "plt.show()"
   ]
  },
  {
   "cell_type": "markdown",
   "id": "f5330878",
   "metadata": {},
   "source": [
    "Для корректного анализа уберем выбросы в виде нулевых значений"
   ]
  },
  {
   "cell_type": "code",
   "execution_count": 24,
   "id": "c4451e04",
   "metadata": {},
   "outputs": [],
   "source": [
    "df_calls = df_calls[df_calls['duration_min'] > 0]"
   ]
  },
  {
   "cell_type": "code",
   "execution_count": 25,
   "id": "551227c0",
   "metadata": {},
   "outputs": [],
   "source": [
    "df_internet = df_internet[df_internet['mb_used'] > 0]"
   ]
  },
  {
   "cell_type": "markdown",
   "id": "841f0536",
   "metadata": {},
   "source": [
    "### Расчет месячных показателей использования связи"
   ]
  },
  {
   "cell_type": "markdown",
   "id": "2d6472d7",
   "metadata": {},
   "source": [
    "Посчитаем количество какое количество звонков и минут проговорил каждый пользователь с разбивкой по месяцам"
   ]
  },
  {
   "cell_type": "code",
   "execution_count": 26,
   "id": "1cd8fa6f",
   "metadata": {},
   "outputs": [],
   "source": [
    "df_pivot_calls = df_calls.pivot_table(\n",
    "    index=['user_id','month'], values='duration_min', aggfunc=['count', 'sum']\n",
    ")"
   ]
  },
  {
   "cell_type": "markdown",
   "id": "f851331e",
   "metadata": {},
   "source": [
    "Переименуем названия колонок и добавим индексацию"
   ]
  },
  {
   "cell_type": "code",
   "execution_count": 27,
   "id": "4568647a",
   "metadata": {},
   "outputs": [],
   "source": [
    "df_pivot_calls.columns = ['count_calls', 'duration_min_sum']\n",
    "\n",
    "df_pivot_calls = df_pivot_calls.reset_index()"
   ]
  },
  {
   "cell_type": "code",
   "execution_count": 28,
   "id": "6adcccea",
   "metadata": {},
   "outputs": [
    {
     "name": "stdout",
     "output_type": "stream",
     "text": [
      "<class 'pandas.core.frame.DataFrame'>\n",
      "RangeIndex: 3168 entries, 0 to 3167\n",
      "Data columns (total 4 columns):\n",
      " #   Column            Non-Null Count  Dtype  \n",
      "---  ------            --------------  -----  \n",
      " 0   user_id           3168 non-null   int64  \n",
      " 1   month             3168 non-null   int64  \n",
      " 2   count_calls       3168 non-null   int64  \n",
      " 3   duration_min_sum  3168 non-null   float64\n",
      "dtypes: float64(1), int64(3)\n",
      "memory usage: 99.1 KB\n"
     ]
    }
   ],
   "source": [
    "df_pivot_calls.info()"
   ]
  },
  {
   "cell_type": "markdown",
   "id": "b01bc285",
   "metadata": {},
   "source": [
    "Постром таблицу с расчетом количества отправленных смс пользователем по месяцам"
   ]
  },
  {
   "cell_type": "code",
   "execution_count": 29,
   "id": "c74ace70",
   "metadata": {},
   "outputs": [],
   "source": [
    "df_pivot_messages = df_messages.pivot_table(index=['user_id', 'month'], aggfunc='count')"
   ]
  },
  {
   "cell_type": "markdown",
   "id": "0ac8aa15",
   "metadata": {},
   "source": [
    "Добавим индексацию"
   ]
  },
  {
   "cell_type": "code",
   "execution_count": 30,
   "id": "6b6ce377",
   "metadata": {},
   "outputs": [],
   "source": [
    "df_pivot_messages = df_pivot_messages.reset_index()"
   ]
  },
  {
   "cell_type": "markdown",
   "id": "7c823b5a",
   "metadata": {},
   "source": [
    "Избавимся от лишнего столбца и переименуем `message_date`"
   ]
  },
  {
   "cell_type": "code",
   "execution_count": 31,
   "id": "e0de07f3",
   "metadata": {},
   "outputs": [],
   "source": [
    "df_pivot_messages = df_pivot_messages[['user_id', 'month', 'message_date']]\n",
    "df_pivot_messages = df_pivot_messages.rename(columns={'message_date': 'message_count'})"
   ]
  },
  {
   "cell_type": "code",
   "execution_count": 32,
   "id": "a4bf753a",
   "metadata": {},
   "outputs": [
    {
     "name": "stdout",
     "output_type": "stream",
     "text": [
      "<class 'pandas.core.frame.DataFrame'>\n",
      "RangeIndex: 2717 entries, 0 to 2716\n",
      "Data columns (total 3 columns):\n",
      " #   Column         Non-Null Count  Dtype\n",
      "---  ------         --------------  -----\n",
      " 0   user_id        2717 non-null   int64\n",
      " 1   month          2717 non-null   int64\n",
      " 2   message_count  2717 non-null   int64\n",
      "dtypes: int64(3)\n",
      "memory usage: 63.8 KB\n"
     ]
    }
   ],
   "source": [
    "df_pivot_messages.info()"
   ]
  },
  {
   "cell_type": "markdown",
   "id": "205135d4",
   "metadata": {},
   "source": [
    "Расчитаем данные по использованию интрнет-трафика пользователями по месяцам и запишем их в таблицу"
   ]
  },
  {
   "cell_type": "code",
   "execution_count": 33,
   "id": "cbc6e646",
   "metadata": {},
   "outputs": [],
   "source": [
    "df_pivot_internet = df_internet.pivot_table(\n",
    "    index=['user_id', 'month'], values='mb_used', aggfunc='sum'\n",
    ").reset_index()"
   ]
  },
  {
   "cell_type": "markdown",
   "id": "2847a62a",
   "metadata": {},
   "source": [
    "Добавим новый столбец с расчетом использованных гигабайт интернета в месяц, при расчете будем использовать логигу оператора связи, округляя Мб до Гб"
   ]
  },
  {
   "cell_type": "code",
   "execution_count": 34,
   "id": "2d11950a",
   "metadata": {},
   "outputs": [],
   "source": [
    "df_pivot_internet.insert(3, 'gb_used', np.ceil(df_pivot_internet['mb_used'] / 1024))"
   ]
  },
  {
   "cell_type": "code",
   "execution_count": 35,
   "id": "78800c23",
   "metadata": {},
   "outputs": [
    {
     "name": "stdout",
     "output_type": "stream",
     "text": [
      "<class 'pandas.core.frame.DataFrame'>\n",
      "RangeIndex: 3201 entries, 0 to 3200\n",
      "Data columns (total 4 columns):\n",
      " #   Column   Non-Null Count  Dtype  \n",
      "---  ------   --------------  -----  \n",
      " 0   user_id  3201 non-null   int64  \n",
      " 1   month    3201 non-null   int64  \n",
      " 2   mb_used  3201 non-null   float64\n",
      " 3   gb_used  3201 non-null   float64\n",
      "dtypes: float64(2), int64(2)\n",
      "memory usage: 100.2 KB\n"
     ]
    }
   ],
   "source": [
    "df_pivot_internet.info()"
   ]
  },
  {
   "cell_type": "markdown",
   "id": "11d424ae",
   "metadata": {},
   "source": [
    "Объеденим полученные таблицы"
   ]
  },
  {
   "cell_type": "code",
   "execution_count": 36,
   "id": "389b7cc7",
   "metadata": {},
   "outputs": [],
   "source": [
    "df_pivot_data = df_pivot_calls.merge(df_pivot_messages, on=['user_id', 'month'], how='outer')"
   ]
  },
  {
   "cell_type": "code",
   "execution_count": 37,
   "id": "2a8d70c9",
   "metadata": {},
   "outputs": [],
   "source": [
    "df_pivot_data = df_pivot_data.merge(\n",
    "    df_pivot_internet[['user_id', 'month', 'gb_used']], on=['user_id', 'month'], how='outer'\n",
    ")"
   ]
  },
  {
   "cell_type": "markdown",
   "id": "8a38e5e3",
   "metadata": {},
   "source": [
    "Для анализа прибыльности тарифов добавим к **df_pivot_data** данные о тарифе и его стоимости по каждому пользователю"
   ]
  },
  {
   "cell_type": "code",
   "execution_count": 38,
   "id": "bd5b30d0",
   "metadata": {},
   "outputs": [],
   "source": [
    "df_pivot_data = df_pivot_data.merge(\n",
    "    df_users[['user_id', 'tariff_name', 'city']], on=['user_id'], how='left'\n",
    ")"
   ]
  },
  {
   "cell_type": "markdown",
   "id": "e0c933eb",
   "metadata": {},
   "source": [
    "Пропуски в данных будем рассматривать как отсутствие использовазвания пользователем данного вида услуг связи и заполним пропуски нулями. "
   ]
  },
  {
   "cell_type": "code",
   "execution_count": 39,
   "id": "190a3440",
   "metadata": {},
   "outputs": [],
   "source": [
    "for column in ['count_calls', 'duration_min_sum', 'message_count', 'gb_used']:\n",
    "    df_pivot_data[column] = df_pivot_data[column].fillna(0)"
   ]
  },
  {
   "cell_type": "markdown",
   "id": "6180b2b9",
   "metadata": {},
   "source": [
    "Выведем результат на экран"
   ]
  },
  {
   "cell_type": "code",
   "execution_count": 40,
   "id": "cfe03e7e",
   "metadata": {},
   "outputs": [
    {
     "data": {
      "text/html": [
       "<div>\n",
       "<style scoped>\n",
       "    .dataframe tbody tr th:only-of-type {\n",
       "        vertical-align: middle;\n",
       "    }\n",
       "\n",
       "    .dataframe tbody tr th {\n",
       "        vertical-align: top;\n",
       "    }\n",
       "\n",
       "    .dataframe thead th {\n",
       "        text-align: right;\n",
       "    }\n",
       "</style>\n",
       "<table border=\"1\" class=\"dataframe\">\n",
       "  <thead>\n",
       "    <tr style=\"text-align: right;\">\n",
       "      <th></th>\n",
       "      <th>user_id</th>\n",
       "      <th>month</th>\n",
       "      <th>count_calls</th>\n",
       "      <th>duration_min_sum</th>\n",
       "      <th>message_count</th>\n",
       "      <th>gb_used</th>\n",
       "      <th>tariff_name</th>\n",
       "      <th>city</th>\n",
       "    </tr>\n",
       "  </thead>\n",
       "  <tbody>\n",
       "    <tr>\n",
       "      <th>0</th>\n",
       "      <td>1000</td>\n",
       "      <td>5</td>\n",
       "      <td>17.0</td>\n",
       "      <td>159.0</td>\n",
       "      <td>22.0</td>\n",
       "      <td>3.0</td>\n",
       "      <td>ultra</td>\n",
       "      <td>Краснодар</td>\n",
       "    </tr>\n",
       "    <tr>\n",
       "      <th>1</th>\n",
       "      <td>1000</td>\n",
       "      <td>6</td>\n",
       "      <td>28.0</td>\n",
       "      <td>172.0</td>\n",
       "      <td>60.0</td>\n",
       "      <td>23.0</td>\n",
       "      <td>ultra</td>\n",
       "      <td>Краснодар</td>\n",
       "    </tr>\n",
       "    <tr>\n",
       "      <th>2</th>\n",
       "      <td>1000</td>\n",
       "      <td>7</td>\n",
       "      <td>41.0</td>\n",
       "      <td>340.0</td>\n",
       "      <td>75.0</td>\n",
       "      <td>14.0</td>\n",
       "      <td>ultra</td>\n",
       "      <td>Краснодар</td>\n",
       "    </tr>\n",
       "    <tr>\n",
       "      <th>3</th>\n",
       "      <td>1000</td>\n",
       "      <td>8</td>\n",
       "      <td>42.0</td>\n",
       "      <td>408.0</td>\n",
       "      <td>81.0</td>\n",
       "      <td>14.0</td>\n",
       "      <td>ultra</td>\n",
       "      <td>Краснодар</td>\n",
       "    </tr>\n",
       "    <tr>\n",
       "      <th>4</th>\n",
       "      <td>1000</td>\n",
       "      <td>9</td>\n",
       "      <td>46.0</td>\n",
       "      <td>466.0</td>\n",
       "      <td>57.0</td>\n",
       "      <td>15.0</td>\n",
       "      <td>ultra</td>\n",
       "      <td>Краснодар</td>\n",
       "    </tr>\n",
       "    <tr>\n",
       "      <th>5</th>\n",
       "      <td>1000</td>\n",
       "      <td>10</td>\n",
       "      <td>44.0</td>\n",
       "      <td>350.0</td>\n",
       "      <td>73.0</td>\n",
       "      <td>15.0</td>\n",
       "      <td>ultra</td>\n",
       "      <td>Краснодар</td>\n",
       "    </tr>\n",
       "    <tr>\n",
       "      <th>6</th>\n",
       "      <td>1000</td>\n",
       "      <td>11</td>\n",
       "      <td>37.0</td>\n",
       "      <td>338.0</td>\n",
       "      <td>58.0</td>\n",
       "      <td>15.0</td>\n",
       "      <td>ultra</td>\n",
       "      <td>Краснодар</td>\n",
       "    </tr>\n",
       "    <tr>\n",
       "      <th>7</th>\n",
       "      <td>1000</td>\n",
       "      <td>12</td>\n",
       "      <td>38.0</td>\n",
       "      <td>333.0</td>\n",
       "      <td>70.0</td>\n",
       "      <td>10.0</td>\n",
       "      <td>ultra</td>\n",
       "      <td>Краснодар</td>\n",
       "    </tr>\n",
       "    <tr>\n",
       "      <th>8</th>\n",
       "      <td>1001</td>\n",
       "      <td>11</td>\n",
       "      <td>45.0</td>\n",
       "      <td>430.0</td>\n",
       "      <td>0.0</td>\n",
       "      <td>18.0</td>\n",
       "      <td>smart</td>\n",
       "      <td>Москва</td>\n",
       "    </tr>\n",
       "    <tr>\n",
       "      <th>9</th>\n",
       "      <td>1001</td>\n",
       "      <td>12</td>\n",
       "      <td>47.0</td>\n",
       "      <td>414.0</td>\n",
       "      <td>0.0</td>\n",
       "      <td>14.0</td>\n",
       "      <td>smart</td>\n",
       "      <td>Москва</td>\n",
       "    </tr>\n",
       "  </tbody>\n",
       "</table>\n",
       "</div>"
      ],
      "text/plain": [
       "   user_id  month  count_calls  duration_min_sum  message_count  gb_used  \\\n",
       "0     1000      5         17.0             159.0           22.0      3.0   \n",
       "1     1000      6         28.0             172.0           60.0     23.0   \n",
       "2     1000      7         41.0             340.0           75.0     14.0   \n",
       "3     1000      8         42.0             408.0           81.0     14.0   \n",
       "4     1000      9         46.0             466.0           57.0     15.0   \n",
       "5     1000     10         44.0             350.0           73.0     15.0   \n",
       "6     1000     11         37.0             338.0           58.0     15.0   \n",
       "7     1000     12         38.0             333.0           70.0     10.0   \n",
       "8     1001     11         45.0             430.0            0.0     18.0   \n",
       "9     1001     12         47.0             414.0            0.0     14.0   \n",
       "\n",
       "  tariff_name       city  \n",
       "0       ultra  Краснодар  \n",
       "1       ultra  Краснодар  \n",
       "2       ultra  Краснодар  \n",
       "3       ultra  Краснодар  \n",
       "4       ultra  Краснодар  \n",
       "5       ultra  Краснодар  \n",
       "6       ultra  Краснодар  \n",
       "7       ultra  Краснодар  \n",
       "8       smart     Москва  \n",
       "9       smart     Москва  "
      ]
     },
     "execution_count": 40,
     "metadata": {},
     "output_type": "execute_result"
    }
   ],
   "source": [
    "df_pivot_data.head(10)"
   ]
  },
  {
   "cell_type": "markdown",
   "id": "a5801c2e",
   "metadata": {},
   "source": [
    "Построим гистограммы по полученным данным "
   ]
  },
  {
   "cell_type": "code",
   "execution_count": 41,
   "id": "16785adf",
   "metadata": {},
   "outputs": [
    {
     "data": {
      "image/png": "[encoded data removed]",
      "text/plain": [
       "<Figure size 432x288 with 1 Axes>"
      ]
     },
     "metadata": {
      "needs_background": "light"
     },
     "output_type": "display_data"
    }
   ],
   "source": [
    "df_pivot_data['duration_min_sum'].hist(bins=100)\n",
    "plt.title('Распределение месячных трат минут на звонки пользователей')\n",
    "plt.xlabel('Суммарная длительность разговоров в минутах')\n",
    "plt.show()"
   ]
  },
  {
   "cell_type": "code",
   "execution_count": 42,
   "id": "be348a9d",
   "metadata": {},
   "outputs": [
    {
     "data": {
      "image/png": "[encoded data removed]",
      "text/plain": [
       "<Figure size 432x288 with 1 Axes>"
      ]
     },
     "metadata": {
      "needs_background": "light"
     },
     "output_type": "display_data"
    }
   ],
   "source": [
    "df_pivot_data['message_count'].hist(bins=100)\n",
    "plt.title('Распределение месячного количества отправленных смс пользователей')\n",
    "plt.xlabel('Количество смс в месяц')\n",
    "plt.show()"
   ]
  },
  {
   "cell_type": "code",
   "execution_count": 43,
   "id": "a84e786d",
   "metadata": {},
   "outputs": [
    {
     "data": {
      "image/png": "[encoded data removed]",
      "text/plain": [
       "<Figure size 432x288 with 1 Axes>"
      ]
     },
     "metadata": {
      "needs_background": "light"
     },
     "output_type": "display_data"
    }
   ],
   "source": [
    "df_pivot_data['gb_used'].hist(bins=100)\n",
    "plt.title('Распределение использования месячного объема интернет-трафика пользователей')\n",
    "plt.xlabel('Объем интернет-трафика в гигабайтах')\n",
    "plt.show()"
   ]
  },
  {
   "cell_type": "code",
   "execution_count": 44,
   "id": "6ba06163",
   "metadata": {},
   "outputs": [],
   "source": [
    "df_pivot_data = df_pivot_data.merge(\n",
    "    df_tariffs[['messages_included', 'gb_per_month_included', 'minutes_included', 'rub_monthly_fee',\n",
    "                'rub_per_gb', 'rub_per_message', 'rub_per_minute', 'tariff_name']], on='tariff_name')"
   ]
  },
  {
   "cell_type": "markdown",
   "id": "1583abc7",
   "metadata": {},
   "source": [
    "Посчитаем траты на мобильную связь пользователей с разбивкой по месяцам"
   ]
  },
  {
   "cell_type": "code",
   "execution_count": 45,
   "id": "aafceeeb",
   "metadata": {},
   "outputs": [],
   "source": [
    "df_pivot_data['costs_per_month'] = (\n",
    "    df_pivot_data['rub_monthly_fee'] + np.where(\n",
    "    (df_pivot_data['duration_min_sum'] - df_pivot_data['minutes_included']) > 0,\n",
    "    (df_pivot_data['duration_min_sum'] - df_pivot_data['minutes_included']) * df_pivot_data['rub_per_minute'],\n",
    "    0\n",
    ") + np.where(\n",
    "    (df_pivot_data['message_count'] - df_pivot_data['messages_included']) > 0,\n",
    "    (df_pivot_data['message_count'] - df_pivot_data['messages_included']) * df_pivot_data['rub_per_message'],\n",
    "    0\n",
    ") + np.where(\n",
    "    (df_pivot_data['gb_used'] - df_pivot_data['gb_per_month_included']) > 0,\n",
    "    (df_pivot_data['gb_used'] - df_pivot_data['gb_per_month_included']) * df_pivot_data['rub_per_gb'],\n",
    "    0\n",
    "))"
   ]
  },
  {
   "cell_type": "markdown",
   "id": "a3778c49",
   "metadata": {},
   "source": [
    "Проверим результат."
   ]
  },
  {
   "cell_type": "code",
   "execution_count": 46,
   "id": "7c34d46b",
   "metadata": {},
   "outputs": [
    {
     "data": {
      "text/html": [
       "<div>\n",
       "<style scoped>\n",
       "    .dataframe tbody tr th:only-of-type {\n",
       "        vertical-align: middle;\n",
       "    }\n",
       "\n",
       "    .dataframe tbody tr th {\n",
       "        vertical-align: top;\n",
       "    }\n",
       "\n",
       "    .dataframe thead th {\n",
       "        text-align: right;\n",
       "    }\n",
       "</style>\n",
       "<table border=\"1\" class=\"dataframe\">\n",
       "  <thead>\n",
       "    <tr style=\"text-align: right;\">\n",
       "      <th></th>\n",
       "      <th>user_id</th>\n",
       "      <th>month</th>\n",
       "      <th>count_calls</th>\n",
       "      <th>duration_min_sum</th>\n",
       "      <th>message_count</th>\n",
       "      <th>gb_used</th>\n",
       "      <th>tariff_name</th>\n",
       "      <th>city</th>\n",
       "      <th>messages_included</th>\n",
       "      <th>gb_per_month_included</th>\n",
       "      <th>minutes_included</th>\n",
       "      <th>rub_monthly_fee</th>\n",
       "      <th>rub_per_gb</th>\n",
       "      <th>rub_per_message</th>\n",
       "      <th>rub_per_minute</th>\n",
       "      <th>costs_per_month</th>\n",
       "    </tr>\n",
       "  </thead>\n",
       "  <tbody>\n",
       "    <tr>\n",
       "      <th>0</th>\n",
       "      <td>1000</td>\n",
       "      <td>5</td>\n",
       "      <td>17.0</td>\n",
       "      <td>159.0</td>\n",
       "      <td>22.0</td>\n",
       "      <td>3.0</td>\n",
       "      <td>ultra</td>\n",
       "      <td>Краснодар</td>\n",
       "      <td>1000</td>\n",
       "      <td>30.0</td>\n",
       "      <td>3000</td>\n",
       "      <td>1950</td>\n",
       "      <td>150</td>\n",
       "      <td>1</td>\n",
       "      <td>1</td>\n",
       "      <td>1950.0</td>\n",
       "    </tr>\n",
       "    <tr>\n",
       "      <th>1</th>\n",
       "      <td>1000</td>\n",
       "      <td>6</td>\n",
       "      <td>28.0</td>\n",
       "      <td>172.0</td>\n",
       "      <td>60.0</td>\n",
       "      <td>23.0</td>\n",
       "      <td>ultra</td>\n",
       "      <td>Краснодар</td>\n",
       "      <td>1000</td>\n",
       "      <td>30.0</td>\n",
       "      <td>3000</td>\n",
       "      <td>1950</td>\n",
       "      <td>150</td>\n",
       "      <td>1</td>\n",
       "      <td>1</td>\n",
       "      <td>1950.0</td>\n",
       "    </tr>\n",
       "    <tr>\n",
       "      <th>2</th>\n",
       "      <td>1000</td>\n",
       "      <td>7</td>\n",
       "      <td>41.0</td>\n",
       "      <td>340.0</td>\n",
       "      <td>75.0</td>\n",
       "      <td>14.0</td>\n",
       "      <td>ultra</td>\n",
       "      <td>Краснодар</td>\n",
       "      <td>1000</td>\n",
       "      <td>30.0</td>\n",
       "      <td>3000</td>\n",
       "      <td>1950</td>\n",
       "      <td>150</td>\n",
       "      <td>1</td>\n",
       "      <td>1</td>\n",
       "      <td>1950.0</td>\n",
       "    </tr>\n",
       "    <tr>\n",
       "      <th>3</th>\n",
       "      <td>1000</td>\n",
       "      <td>8</td>\n",
       "      <td>42.0</td>\n",
       "      <td>408.0</td>\n",
       "      <td>81.0</td>\n",
       "      <td>14.0</td>\n",
       "      <td>ultra</td>\n",
       "      <td>Краснодар</td>\n",
       "      <td>1000</td>\n",
       "      <td>30.0</td>\n",
       "      <td>3000</td>\n",
       "      <td>1950</td>\n",
       "      <td>150</td>\n",
       "      <td>1</td>\n",
       "      <td>1</td>\n",
       "      <td>1950.0</td>\n",
       "    </tr>\n",
       "    <tr>\n",
       "      <th>4</th>\n",
       "      <td>1000</td>\n",
       "      <td>9</td>\n",
       "      <td>46.0</td>\n",
       "      <td>466.0</td>\n",
       "      <td>57.0</td>\n",
       "      <td>15.0</td>\n",
       "      <td>ultra</td>\n",
       "      <td>Краснодар</td>\n",
       "      <td>1000</td>\n",
       "      <td>30.0</td>\n",
       "      <td>3000</td>\n",
       "      <td>1950</td>\n",
       "      <td>150</td>\n",
       "      <td>1</td>\n",
       "      <td>1</td>\n",
       "      <td>1950.0</td>\n",
       "    </tr>\n",
       "  </tbody>\n",
       "</table>\n",
       "</div>"
      ],
      "text/plain": [
       "   user_id  month  count_calls  duration_min_sum  message_count  gb_used  \\\n",
       "0     1000      5         17.0             159.0           22.0      3.0   \n",
       "1     1000      6         28.0             172.0           60.0     23.0   \n",
       "2     1000      7         41.0             340.0           75.0     14.0   \n",
       "3     1000      8         42.0             408.0           81.0     14.0   \n",
       "4     1000      9         46.0             466.0           57.0     15.0   \n",
       "\n",
       "  tariff_name       city  messages_included  gb_per_month_included  \\\n",
       "0       ultra  Краснодар               1000                   30.0   \n",
       "1       ultra  Краснодар               1000                   30.0   \n",
       "2       ultra  Краснодар               1000                   30.0   \n",
       "3       ultra  Краснодар               1000                   30.0   \n",
       "4       ultra  Краснодар               1000                   30.0   \n",
       "\n",
       "   minutes_included  rub_monthly_fee  rub_per_gb  rub_per_message  \\\n",
       "0              3000             1950         150                1   \n",
       "1              3000             1950         150                1   \n",
       "2              3000             1950         150                1   \n",
       "3              3000             1950         150                1   \n",
       "4              3000             1950         150                1   \n",
       "\n",
       "   rub_per_minute  costs_per_month  \n",
       "0               1           1950.0  \n",
       "1               1           1950.0  \n",
       "2               1           1950.0  \n",
       "3               1           1950.0  \n",
       "4               1           1950.0  "
      ]
     },
     "execution_count": 46,
     "metadata": {},
     "output_type": "execute_result"
    }
   ],
   "source": [
    "df_pivot_data.head()"
   ]
  },
  {
   "cell_type": "markdown",
   "id": "ce007ac8",
   "metadata": {},
   "source": [
    "Получим данные выручки по каждому тарифу с разбивкой по месяцам"
   ]
  },
  {
   "cell_type": "code",
   "execution_count": 47,
   "id": "4ed0381d",
   "metadata": {},
   "outputs": [],
   "source": [
    "tariffs_revenue = df_pivot_data.pivot_table(\n",
    "    index=['tariff_name', 'month'], values='costs_per_month', aggfunc=['count', 'sum', 'mean']\n",
    ")"
   ]
  },
  {
   "cell_type": "markdown",
   "id": "94f8f1a4",
   "metadata": {},
   "source": [
    "Переименуем столбцы"
   ]
  },
  {
   "cell_type": "code",
   "execution_count": 48,
   "id": "18ee22e8",
   "metadata": {},
   "outputs": [],
   "source": [
    "tariffs_revenue.columns = ['users_count', 'revenue', 'revenue_per_user']"
   ]
  },
  {
   "cell_type": "markdown",
   "id": "eb39d42a",
   "metadata": {},
   "source": [
    "Избавимся от мультииндекса"
   ]
  },
  {
   "cell_type": "code",
   "execution_count": 49,
   "id": "5b257152",
   "metadata": {},
   "outputs": [],
   "source": [
    "tariffs_revenue = tariffs_revenue.reset_index()"
   ]
  },
  {
   "cell_type": "markdown",
   "id": "75990d5b",
   "metadata": {},
   "source": [
    "Округлим значения в столбце `revenue_per_user`"
   ]
  },
  {
   "cell_type": "code",
   "execution_count": 50,
   "id": "443c1cae",
   "metadata": {},
   "outputs": [],
   "source": [
    "tariffs_revenue['revenue_per_user'] = tariffs_revenue['revenue_per_user'].round()"
   ]
  },
  {
   "cell_type": "markdown",
   "id": "352784aa",
   "metadata": {},
   "source": [
    "Выведем на экран полученные таблицы **df_pivot_data** и **tariffs_revenue**"
   ]
  },
  {
   "cell_type": "code",
   "execution_count": 51,
   "id": "b53f769d",
   "metadata": {},
   "outputs": [
    {
     "data": {
      "text/html": [
       "<div>\n",
       "<style scoped>\n",
       "    .dataframe tbody tr th:only-of-type {\n",
       "        vertical-align: middle;\n",
       "    }\n",
       "\n",
       "    .dataframe tbody tr th {\n",
       "        vertical-align: top;\n",
       "    }\n",
       "\n",
       "    .dataframe thead th {\n",
       "        text-align: right;\n",
       "    }\n",
       "</style>\n",
       "<table border=\"1\" class=\"dataframe\">\n",
       "  <thead>\n",
       "    <tr style=\"text-align: right;\">\n",
       "      <th></th>\n",
       "      <th>user_id</th>\n",
       "      <th>month</th>\n",
       "      <th>count_calls</th>\n",
       "      <th>duration_min_sum</th>\n",
       "      <th>message_count</th>\n",
       "      <th>gb_used</th>\n",
       "      <th>tariff_name</th>\n",
       "      <th>city</th>\n",
       "      <th>messages_included</th>\n",
       "      <th>gb_per_month_included</th>\n",
       "      <th>minutes_included</th>\n",
       "      <th>rub_monthly_fee</th>\n",
       "      <th>rub_per_gb</th>\n",
       "      <th>rub_per_message</th>\n",
       "      <th>rub_per_minute</th>\n",
       "      <th>costs_per_month</th>\n",
       "    </tr>\n",
       "  </thead>\n",
       "  <tbody>\n",
       "    <tr>\n",
       "      <th>0</th>\n",
       "      <td>1000</td>\n",
       "      <td>5</td>\n",
       "      <td>17.0</td>\n",
       "      <td>159.0</td>\n",
       "      <td>22.0</td>\n",
       "      <td>3.0</td>\n",
       "      <td>ultra</td>\n",
       "      <td>Краснодар</td>\n",
       "      <td>1000</td>\n",
       "      <td>30.0</td>\n",
       "      <td>3000</td>\n",
       "      <td>1950</td>\n",
       "      <td>150</td>\n",
       "      <td>1</td>\n",
       "      <td>1</td>\n",
       "      <td>1950.0</td>\n",
       "    </tr>\n",
       "    <tr>\n",
       "      <th>1</th>\n",
       "      <td>1000</td>\n",
       "      <td>6</td>\n",
       "      <td>28.0</td>\n",
       "      <td>172.0</td>\n",
       "      <td>60.0</td>\n",
       "      <td>23.0</td>\n",
       "      <td>ultra</td>\n",
       "      <td>Краснодар</td>\n",
       "      <td>1000</td>\n",
       "      <td>30.0</td>\n",
       "      <td>3000</td>\n",
       "      <td>1950</td>\n",
       "      <td>150</td>\n",
       "      <td>1</td>\n",
       "      <td>1</td>\n",
       "      <td>1950.0</td>\n",
       "    </tr>\n",
       "    <tr>\n",
       "      <th>2</th>\n",
       "      <td>1000</td>\n",
       "      <td>7</td>\n",
       "      <td>41.0</td>\n",
       "      <td>340.0</td>\n",
       "      <td>75.0</td>\n",
       "      <td>14.0</td>\n",
       "      <td>ultra</td>\n",
       "      <td>Краснодар</td>\n",
       "      <td>1000</td>\n",
       "      <td>30.0</td>\n",
       "      <td>3000</td>\n",
       "      <td>1950</td>\n",
       "      <td>150</td>\n",
       "      <td>1</td>\n",
       "      <td>1</td>\n",
       "      <td>1950.0</td>\n",
       "    </tr>\n",
       "    <tr>\n",
       "      <th>3</th>\n",
       "      <td>1000</td>\n",
       "      <td>8</td>\n",
       "      <td>42.0</td>\n",
       "      <td>408.0</td>\n",
       "      <td>81.0</td>\n",
       "      <td>14.0</td>\n",
       "      <td>ultra</td>\n",
       "      <td>Краснодар</td>\n",
       "      <td>1000</td>\n",
       "      <td>30.0</td>\n",
       "      <td>3000</td>\n",
       "      <td>1950</td>\n",
       "      <td>150</td>\n",
       "      <td>1</td>\n",
       "      <td>1</td>\n",
       "      <td>1950.0</td>\n",
       "    </tr>\n",
       "    <tr>\n",
       "      <th>4</th>\n",
       "      <td>1000</td>\n",
       "      <td>9</td>\n",
       "      <td>46.0</td>\n",
       "      <td>466.0</td>\n",
       "      <td>57.0</td>\n",
       "      <td>15.0</td>\n",
       "      <td>ultra</td>\n",
       "      <td>Краснодар</td>\n",
       "      <td>1000</td>\n",
       "      <td>30.0</td>\n",
       "      <td>3000</td>\n",
       "      <td>1950</td>\n",
       "      <td>150</td>\n",
       "      <td>1</td>\n",
       "      <td>1</td>\n",
       "      <td>1950.0</td>\n",
       "    </tr>\n",
       "  </tbody>\n",
       "</table>\n",
       "</div>"
      ],
      "text/plain": [
       "   user_id  month  count_calls  duration_min_sum  message_count  gb_used  \\\n",
       "0     1000      5         17.0             159.0           22.0      3.0   \n",
       "1     1000      6         28.0             172.0           60.0     23.0   \n",
       "2     1000      7         41.0             340.0           75.0     14.0   \n",
       "3     1000      8         42.0             408.0           81.0     14.0   \n",
       "4     1000      9         46.0             466.0           57.0     15.0   \n",
       "\n",
       "  tariff_name       city  messages_included  gb_per_month_included  \\\n",
       "0       ultra  Краснодар               1000                   30.0   \n",
       "1       ultra  Краснодар               1000                   30.0   \n",
       "2       ultra  Краснодар               1000                   30.0   \n",
       "3       ultra  Краснодар               1000                   30.0   \n",
       "4       ultra  Краснодар               1000                   30.0   \n",
       "\n",
       "   minutes_included  rub_monthly_fee  rub_per_gb  rub_per_message  \\\n",
       "0              3000             1950         150                1   \n",
       "1              3000             1950         150                1   \n",
       "2              3000             1950         150                1   \n",
       "3              3000             1950         150                1   \n",
       "4              3000             1950         150                1   \n",
       "\n",
       "   rub_per_minute  costs_per_month  \n",
       "0               1           1950.0  \n",
       "1               1           1950.0  \n",
       "2               1           1950.0  \n",
       "3               1           1950.0  \n",
       "4               1           1950.0  "
      ]
     },
     "execution_count": 51,
     "metadata": {},
     "output_type": "execute_result"
    }
   ],
   "source": [
    "df_pivot_data.head()"
   ]
  },
  {
   "cell_type": "code",
   "execution_count": 52,
   "id": "3ecedb59",
   "metadata": {},
   "outputs": [
    {
     "data": {
      "text/html": [
       "<div>\n",
       "<style scoped>\n",
       "    .dataframe tbody tr th:only-of-type {\n",
       "        vertical-align: middle;\n",
       "    }\n",
       "\n",
       "    .dataframe tbody tr th {\n",
       "        vertical-align: top;\n",
       "    }\n",
       "\n",
       "    .dataframe thead th {\n",
       "        text-align: right;\n",
       "    }\n",
       "</style>\n",
       "<table border=\"1\" class=\"dataframe\">\n",
       "  <thead>\n",
       "    <tr style=\"text-align: right;\">\n",
       "      <th></th>\n",
       "      <th>tariff_name</th>\n",
       "      <th>month</th>\n",
       "      <th>users_count</th>\n",
       "      <th>revenue</th>\n",
       "      <th>revenue_per_user</th>\n",
       "    </tr>\n",
       "  </thead>\n",
       "  <tbody>\n",
       "    <tr>\n",
       "      <th>0</th>\n",
       "      <td>smart</td>\n",
       "      <td>1</td>\n",
       "      <td>34</td>\n",
       "      <td>24525.0</td>\n",
       "      <td>721.0</td>\n",
       "    </tr>\n",
       "    <tr>\n",
       "      <th>1</th>\n",
       "      <td>smart</td>\n",
       "      <td>2</td>\n",
       "      <td>58</td>\n",
       "      <td>48001.0</td>\n",
       "      <td>828.0</td>\n",
       "    </tr>\n",
       "    <tr>\n",
       "      <th>2</th>\n",
       "      <td>smart</td>\n",
       "      <td>3</td>\n",
       "      <td>77</td>\n",
       "      <td>89676.0</td>\n",
       "      <td>1165.0</td>\n",
       "    </tr>\n",
       "    <tr>\n",
       "      <th>3</th>\n",
       "      <td>smart</td>\n",
       "      <td>4</td>\n",
       "      <td>112</td>\n",
       "      <td>107866.0</td>\n",
       "      <td>963.0</td>\n",
       "    </tr>\n",
       "    <tr>\n",
       "      <th>4</th>\n",
       "      <td>smart</td>\n",
       "      <td>5</td>\n",
       "      <td>141</td>\n",
       "      <td>168849.0</td>\n",
       "      <td>1198.0</td>\n",
       "    </tr>\n",
       "  </tbody>\n",
       "</table>\n",
       "</div>"
      ],
      "text/plain": [
       "  tariff_name  month  users_count   revenue  revenue_per_user\n",
       "0       smart      1           34   24525.0             721.0\n",
       "1       smart      2           58   48001.0             828.0\n",
       "2       smart      3           77   89676.0            1165.0\n",
       "3       smart      4          112  107866.0             963.0\n",
       "4       smart      5          141  168849.0            1198.0"
      ]
     },
     "execution_count": 52,
     "metadata": {},
     "output_type": "execute_result"
    }
   ],
   "source": [
    "tariffs_revenue.head()"
   ]
  },
  {
   "cell_type": "markdown",
   "id": "36e39118",
   "metadata": {},
   "source": [
    "### Вывод"
   ]
  },
  {
   "cell_type": "markdown",
   "id": "cb1794b4",
   "metadata": {},
   "source": [
    "Мы провели работу над данными:\n",
    " - в столбцах содержащих значения дат, привели тип данных к datetime во всех таблицах;\n",
    " - удалили лишний столбец `Unnamed: 0` из **df_internet**;\n",
    " - привели наименования столбцов с названиями тарифов к единому значению.<br>\n",
    "\n",
    "Посчитали:\n",
    " - количество сделанных звонков и израсходованных минут разговора по месяцам;\n",
    " - количество отправленных сообщений по месяцам;\n",
    " - объем израсходованного интернет-трафика по месяцам;\n",
    " - объединили таблицы и вычислили помесячную выручку с каждого пользователя.<br><br>\n",
    " \n",
    "Создали таблицу с данными общей выручки и средней выручки на одного пользователя с рабивкой по тарифам и месяцам.<br>\n",
    "Теперь мы имеем достаточно информации для анализа."
   ]
  },
  {
   "cell_type": "markdown",
   "id": "29f05b66",
   "metadata": {},
   "source": [
    "## Статистический анализ данных"
   ]
  },
  {
   "cell_type": "markdown",
   "id": "921e939a",
   "metadata": {},
   "source": [
    "### Изучение поведения пользователей тарифов и расчет показателей"
   ]
  },
  {
   "cell_type": "markdown",
   "id": "c946cff0",
   "metadata": {},
   "source": [
    "Посчитаем сколько в среднем выговаривают минут пользователи по телефону с разбивкой по тарифам и месяцам, также посчитаем дисперсию и среднее отклонение. "
   ]
  },
  {
   "cell_type": "code",
   "execution_count": 53,
   "id": "7e6afb97",
   "metadata": {},
   "outputs": [],
   "source": [
    "df_min = df_pivot_data[df_pivot_data['duration_min_sum'] > 0].pivot_table(\n",
    "    index=['tariff_name'], values='duration_min_sum', aggfunc=['mean', 'var', 'std']\n",
    ")"
   ]
  },
  {
   "cell_type": "markdown",
   "id": "af76b1a8",
   "metadata": {},
   "source": [
    "Переименуем названия колонок"
   ]
  },
  {
   "cell_type": "code",
   "execution_count": 54,
   "id": "c33f8067",
   "metadata": {},
   "outputs": [],
   "source": [
    "df_min.columns = ['mean', 'var', 'std']"
   ]
  },
  {
   "cell_type": "markdown",
   "id": "16b64174",
   "metadata": {},
   "source": [
    "Избавимся от мультииндекса"
   ]
  },
  {
   "cell_type": "code",
   "execution_count": 55,
   "id": "4e0cebac",
   "metadata": {},
   "outputs": [],
   "source": [
    "df_min = df_min.reset_index()"
   ]
  },
  {
   "cell_type": "markdown",
   "id": "1f01a649",
   "metadata": {},
   "source": [
    "Округлим значения до 2 знаков после точки"
   ]
  },
  {
   "cell_type": "code",
   "execution_count": 56,
   "id": "bd02e1ed",
   "metadata": {},
   "outputs": [],
   "source": [
    "df_min[['mean', 'var', 'std']] = df_min[['mean', 'var', 'std']].round(2)"
   ]
  },
  {
   "cell_type": "markdown",
   "id": "0ef0f6df",
   "metadata": {},
   "source": [
    "Выведем полученный результат на экран"
   ]
  },
  {
   "cell_type": "code",
   "execution_count": 57,
   "id": "a01596ea",
   "metadata": {},
   "outputs": [
    {
     "data": {
      "text/html": [
       "<div>\n",
       "<style scoped>\n",
       "    .dataframe tbody tr th:only-of-type {\n",
       "        vertical-align: middle;\n",
       "    }\n",
       "\n",
       "    .dataframe tbody tr th {\n",
       "        vertical-align: top;\n",
       "    }\n",
       "\n",
       "    .dataframe thead th {\n",
       "        text-align: right;\n",
       "    }\n",
       "</style>\n",
       "<table border=\"1\" class=\"dataframe\">\n",
       "  <thead>\n",
       "    <tr style=\"text-align: right;\">\n",
       "      <th></th>\n",
       "      <th>tariff_name</th>\n",
       "      <th>mean</th>\n",
       "      <th>var</th>\n",
       "      <th>std</th>\n",
       "    </tr>\n",
       "  </thead>\n",
       "  <tbody>\n",
       "    <tr>\n",
       "      <th>0</th>\n",
       "      <td>smart</td>\n",
       "      <td>419.44</td>\n",
       "      <td>35718.13</td>\n",
       "      <td>188.99</td>\n",
       "    </tr>\n",
       "    <tr>\n",
       "      <th>1</th>\n",
       "      <td>ultra</td>\n",
       "      <td>547.76</td>\n",
       "      <td>93338.43</td>\n",
       "      <td>305.51</td>\n",
       "    </tr>\n",
       "  </tbody>\n",
       "</table>\n",
       "</div>"
      ],
      "text/plain": [
       "  tariff_name    mean       var     std\n",
       "0       smart  419.44  35718.13  188.99\n",
       "1       ultra  547.76  93338.43  305.51"
      ]
     },
     "execution_count": 57,
     "metadata": {},
     "output_type": "execute_result"
    }
   ],
   "source": [
    "df_min"
   ]
  },
  {
   "cell_type": "code",
   "execution_count": 58,
   "id": "9735c429",
   "metadata": {},
   "outputs": [
    {
     "data": {
      "image/png": "[encoded data removed]",
      "text/plain": [
       "<Figure size 432x288 with 1 Axes>"
      ]
     },
     "metadata": {
      "needs_background": "light"
     },
     "output_type": "display_data"
    }
   ],
   "source": [
    "sns.barplot(x=df_min['tariff_name'], y=df_min['mean'])\n",
    "plt.title('Среднее количество минут телефоных разговоров тратит пользователь')\n",
    "plt.show()"
   ]
  },
  {
   "cell_type": "markdown",
   "id": "34f3c113",
   "metadata": {},
   "source": [
    "Как мы видим из полученных данных, в среднем пользователи не выговаривают пакеты минут своих тарифов, но также видим и высокое стандартное отклонение, это говорит о том, что разброс достаточно высокий, значит точно есть пользователи на тарифе \"Смарт\" превышающие свои пакеты минут."
   ]
  },
  {
   "cell_type": "markdown",
   "id": "c6a10d95",
   "metadata": {},
   "source": [
    "Далее построим такую же таблицу с данными по смс"
   ]
  },
  {
   "cell_type": "code",
   "execution_count": 59,
   "id": "f8511446",
   "metadata": {},
   "outputs": [],
   "source": [
    "df_mes = df_pivot_data.pivot_table(\n",
    "    index=['tariff_name'], values='message_count', aggfunc=['mean', 'var', 'std']\n",
    ")"
   ]
  },
  {
   "cell_type": "code",
   "execution_count": 60,
   "id": "7796f909",
   "metadata": {},
   "outputs": [],
   "source": [
    "df_mes.columns = ['mean', 'var', 'std']"
   ]
  },
  {
   "cell_type": "code",
   "execution_count": 61,
   "id": "0bcec78e",
   "metadata": {},
   "outputs": [],
   "source": [
    "df_mes = df_mes.reset_index()"
   ]
  },
  {
   "cell_type": "code",
   "execution_count": 62,
   "id": "7828e6f3",
   "metadata": {},
   "outputs": [],
   "source": [
    "df_mes[['mean', 'var', 'std']] = df_mes[['mean', 'var', 'std']].round(2)"
   ]
  },
  {
   "cell_type": "markdown",
   "id": "c883c606",
   "metadata": {},
   "source": [
    "И выведем ее на экран"
   ]
  },
  {
   "cell_type": "code",
   "execution_count": 63,
   "id": "88181130",
   "metadata": {},
   "outputs": [
    {
     "data": {
      "text/html": [
       "<div>\n",
       "<style scoped>\n",
       "    .dataframe tbody tr th:only-of-type {\n",
       "        vertical-align: middle;\n",
       "    }\n",
       "\n",
       "    .dataframe tbody tr th {\n",
       "        vertical-align: top;\n",
       "    }\n",
       "\n",
       "    .dataframe thead th {\n",
       "        text-align: right;\n",
       "    }\n",
       "</style>\n",
       "<table border=\"1\" class=\"dataframe\">\n",
       "  <thead>\n",
       "    <tr style=\"text-align: right;\">\n",
       "      <th></th>\n",
       "      <th>tariff_name</th>\n",
       "      <th>mean</th>\n",
       "      <th>var</th>\n",
       "      <th>std</th>\n",
       "    </tr>\n",
       "  </thead>\n",
       "  <tbody>\n",
       "    <tr>\n",
       "      <th>0</th>\n",
       "      <td>smart</td>\n",
       "      <td>33.38</td>\n",
       "      <td>796.81</td>\n",
       "      <td>28.23</td>\n",
       "    </tr>\n",
       "    <tr>\n",
       "      <th>1</th>\n",
       "      <td>ultra</td>\n",
       "      <td>49.36</td>\n",
       "      <td>2285.27</td>\n",
       "      <td>47.80</td>\n",
       "    </tr>\n",
       "  </tbody>\n",
       "</table>\n",
       "</div>"
      ],
      "text/plain": [
       "  tariff_name   mean      var    std\n",
       "0       smart  33.38   796.81  28.23\n",
       "1       ultra  49.36  2285.27  47.80"
      ]
     },
     "execution_count": 63,
     "metadata": {},
     "output_type": "execute_result"
    }
   ],
   "source": [
    "df_mes"
   ]
  },
  {
   "cell_type": "code",
   "execution_count": 64,
   "id": "f86f7425",
   "metadata": {},
   "outputs": [
    {
     "data": {
      "image/png": "[encoded data removed]",
      "text/plain": [
       "<Figure size 432x288 with 1 Axes>"
      ]
     },
     "metadata": {
      "needs_background": "light"
     },
     "output_type": "display_data"
    }
   ],
   "source": [
    "sns.barplot(x=df_mes['tariff_name'], y=df_mes['mean'])\n",
    "plt.title('Среднее количество смс отправляемых пользователем')\n",
    "plt.show()"
   ]
  },
  {
   "cell_type": "markdown",
   "id": "075da04c",
   "metadata": {},
   "source": [
    "В среднем показатель использования смс не высокий. Судя по стандартному отклонению, пользователи тарифа `ultra` никогда не превышают свои пакеты, за исключением аномальных случаев. Тогда как пользователи тарифа `smart` платят за дополнительные смс."
   ]
  },
  {
   "cell_type": "markdown",
   "id": "e4da1678",
   "metadata": {},
   "source": [
    "Теперь проанализируем данные использования интернет-трафика."
   ]
  },
  {
   "cell_type": "code",
   "execution_count": 65,
   "id": "ded15f99",
   "metadata": {},
   "outputs": [],
   "source": [
    "df_gb = df_pivot_data.pivot_table(\n",
    "    index=['tariff_name'], values='gb_used', aggfunc=['mean', 'var', 'std']\n",
    ")"
   ]
  },
  {
   "cell_type": "code",
   "execution_count": 66,
   "id": "9f7fd435",
   "metadata": {},
   "outputs": [],
   "source": [
    "df_gb.columns = ['mean', 'var', 'std']"
   ]
  },
  {
   "cell_type": "code",
   "execution_count": 67,
   "id": "8e0f3c3a",
   "metadata": {},
   "outputs": [],
   "source": [
    "df_gb = df_gb.reset_index()"
   ]
  },
  {
   "cell_type": "code",
   "execution_count": 68,
   "id": "327a3c71",
   "metadata": {},
   "outputs": [],
   "source": [
    "df_gb[['mean', 'var', 'std']] = df_gb[['mean', 'var', 'std']].round(2)"
   ]
  },
  {
   "cell_type": "markdown",
   "id": "0d41af04",
   "metadata": {},
   "source": [
    "Выведем результат на экран"
   ]
  },
  {
   "cell_type": "code",
   "execution_count": 69,
   "id": "466bf966",
   "metadata": {},
   "outputs": [
    {
     "data": {
      "text/html": [
       "<div>\n",
       "<style scoped>\n",
       "    .dataframe tbody tr th:only-of-type {\n",
       "        vertical-align: middle;\n",
       "    }\n",
       "\n",
       "    .dataframe tbody tr th {\n",
       "        vertical-align: top;\n",
       "    }\n",
       "\n",
       "    .dataframe thead th {\n",
       "        text-align: right;\n",
       "    }\n",
       "</style>\n",
       "<table border=\"1\" class=\"dataframe\">\n",
       "  <thead>\n",
       "    <tr style=\"text-align: right;\">\n",
       "      <th></th>\n",
       "      <th>tariff_name</th>\n",
       "      <th>mean</th>\n",
       "      <th>var</th>\n",
       "      <th>std</th>\n",
       "    </tr>\n",
       "  </thead>\n",
       "  <tbody>\n",
       "    <tr>\n",
       "      <th>0</th>\n",
       "      <td>smart</td>\n",
       "      <td>16.33</td>\n",
       "      <td>33.03</td>\n",
       "      <td>5.75</td>\n",
       "    </tr>\n",
       "    <tr>\n",
       "      <th>1</th>\n",
       "      <td>ultra</td>\n",
       "      <td>19.49</td>\n",
       "      <td>97.09</td>\n",
       "      <td>9.85</td>\n",
       "    </tr>\n",
       "  </tbody>\n",
       "</table>\n",
       "</div>"
      ],
      "text/plain": [
       "  tariff_name   mean    var   std\n",
       "0       smart  16.33  33.03  5.75\n",
       "1       ultra  19.49  97.09  9.85"
      ]
     },
     "execution_count": 69,
     "metadata": {},
     "output_type": "execute_result"
    }
   ],
   "source": [
    "df_gb"
   ]
  },
  {
   "cell_type": "code",
   "execution_count": 70,
   "id": "71d02731",
   "metadata": {},
   "outputs": [
    {
     "data": {
      "image/png": "[encoded data removed]",
      "text/plain": [
       "<Figure size 432x288 with 1 Axes>"
      ]
     },
     "metadata": {
      "needs_background": "light"
     },
     "output_type": "display_data"
    }
   ],
   "source": [
    "sns.barplot(x=df_gb['tariff_name'], y=df_gb['mean'])\n",
    "plt.title('Средний объем затраченного интернет трафика в гигабайтах на пользователя')\n",
    "plt.show()"
   ]
  },
  {
   "cell_type": "markdown",
   "id": "17db5bd2",
   "metadata": {},
   "source": [
    "Из полученных данных видим, что средние значения по тарифу `smart` превышают пакет гигабайт входящий в этот тариф, тогда как этот показатель для тарифа `ultra` находится в пределах предложенного пакета. Стандартное отклонение говорит о том, что и в тарифе `ultra` превышения гигабайт вполне вероятны и эти значения входят интервал трех сигм."
   ]
  },
  {
   "cell_type": "markdown",
   "id": "d065ce19",
   "metadata": {},
   "source": [
    "### Исследование распределений"
   ]
  },
  {
   "cell_type": "markdown",
   "id": "83e16617",
   "metadata": {},
   "source": [
    "Проанализируем распредение данных по тарифам и пользователям"
   ]
  },
  {
   "cell_type": "markdown",
   "id": "152fbe62",
   "metadata": {},
   "source": [
    "Построим гистограмму по расходованию минут для тарифа \"Смарт\""
   ]
  },
  {
   "cell_type": "code",
   "execution_count": 71,
   "id": "0f7ed1d1",
   "metadata": {},
   "outputs": [
    {
     "data": {
      "image/png": "[encoded data removed]",
      "text/plain": [
       "<Figure size 432x288 with 1 Axes>"
      ]
     },
     "metadata": {
      "needs_background": "light"
     },
     "output_type": "display_data"
    }
   ],
   "source": [
    "df_pivot_data[df_pivot_data['tariff_name'] =='smart']['duration_min_sum'].hist(bins=30)\n",
    "plt.title('Траты минут на звонки пользователей на тарифе Смарт')\n",
    "plt.xlabel('Суммарная длительность разговоров в минутах')\n",
    "plt.show()"
   ]
  },
  {
   "cell_type": "markdown",
   "id": "37dcd4d0",
   "metadata": {},
   "source": [
    "Построим ящик с усами для тарифа `smart`"
   ]
  },
  {
   "cell_type": "code",
   "execution_count": 72,
   "id": "e57e8c31",
   "metadata": {},
   "outputs": [
    {
     "data": {
      "image/png": "[encoded data removed]",
      "text/plain": [
       "<Figure size 1080x360 with 1 Axes>"
      ]
     },
     "metadata": {
      "needs_background": "light"
     },
     "output_type": "display_data"
    }
   ],
   "source": [
    "df_pivot_data[df_pivot_data['tariff_name'] =='smart'].boxplot(\n",
    "    column='duration_min_sum', vert=False,figsize=(15, 5)\n",
    ")\n",
    "plt.title('Ящик с усами для показателя duration_min_sum тарифа Смарт')\n",
    "plt.show()"
   ]
  },
  {
   "cell_type": "markdown",
   "id": "4be1b838",
   "metadata": {},
   "source": [
    "Создадим новый датасет с данными без выбросов"
   ]
  },
  {
   "cell_type": "code",
   "execution_count": 73,
   "id": "0b15b489",
   "metadata": {},
   "outputs": [],
   "source": [
    "good_data_min = df_pivot_data.drop(\n",
    "    index=df_pivot_data[(df_pivot_data['tariff_name'] =='smart') & (df_pivot_data['duration_min_sum'] > 930)].index)"
   ]
  },
  {
   "cell_type": "markdown",
   "id": "059003cb",
   "metadata": {},
   "source": [
    "Выведем на экран распредение без выбросов"
   ]
  },
  {
   "cell_type": "code",
   "execution_count": 74,
   "id": "a48682cb",
   "metadata": {},
   "outputs": [
    {
     "data": {
      "image/png": "[encoded data removed]",
      "text/plain": [
       "<Figure size 432x288 with 1 Axes>"
      ]
     },
     "metadata": {
      "needs_background": "light"
     },
     "output_type": "display_data"
    }
   ],
   "source": [
    "good_data_min[good_data_min['tariff_name'] =='smart']['duration_min_sum'].hist(bins=30)\n",
    "plt.title('Траты минут на звонки пользователей на тарифе Смарт')\n",
    "plt.xlabel('Суммарная длительность разговоров в минутах')\n",
    "plt.show()"
   ]
  },
  {
   "cell_type": "markdown",
   "id": "40b5234d",
   "metadata": {},
   "source": [
    "Посчитаем среднее значение по выборке"
   ]
  },
  {
   "cell_type": "code",
   "execution_count": 75,
   "id": "4774b394",
   "metadata": {},
   "outputs": [
    {
     "data": {
      "text/plain": [
       "414.8214607754734"
      ]
     },
     "execution_count": 75,
     "metadata": {},
     "output_type": "execute_result"
    }
   ],
   "source": [
    "smart_min_mean = good_data_min[good_data_min['tariff_name'] == 'smart']['duration_min_sum'].mean()\n",
    "smart_min_mean"
   ]
  },
  {
   "cell_type": "markdown",
   "id": "e4c57948",
   "metadata": {},
   "source": [
    "Дисперсию"
   ]
  },
  {
   "cell_type": "code",
   "execution_count": 76,
   "id": "1e813979",
   "metadata": {},
   "outputs": [
    {
     "data": {
      "text/plain": [
       "34327.16830408792"
      ]
     },
     "execution_count": 76,
     "metadata": {},
     "output_type": "execute_result"
    }
   ],
   "source": [
    "smart_min_var = np.var(good_data_min[good_data_min['tariff_name'] == 'smart']['duration_min_sum'])\n",
    "smart_min_var"
   ]
  },
  {
   "cell_type": "markdown",
   "id": "684ad8d2",
   "metadata": {},
   "source": [
    "И стандартное отклонение"
   ]
  },
  {
   "cell_type": "code",
   "execution_count": 77,
   "id": "97ef605f",
   "metadata": {},
   "outputs": [
    {
     "data": {
      "text/plain": [
       "185.27592478270867"
      ]
     },
     "execution_count": 77,
     "metadata": {},
     "output_type": "execute_result"
    }
   ],
   "source": [
    "smart_min_std = np.sqrt(smart_min_var)\n",
    "smart_min_std"
   ]
  },
  {
   "cell_type": "markdown",
   "id": "c135806c",
   "metadata": {},
   "source": [
    "А теперь для `ultra`"
   ]
  },
  {
   "cell_type": "code",
   "execution_count": 78,
   "id": "30ca6ba4",
   "metadata": {},
   "outputs": [
    {
     "data": {
      "image/png": "[encoded data removed]",
      "text/plain": [
       "<Figure size 432x288 with 1 Axes>"
      ]
     },
     "metadata": {
      "needs_background": "light"
     },
     "output_type": "display_data"
    }
   ],
   "source": [
    "df_pivot_data[df_pivot_data['tariff_name'] =='ultra']['duration_min_sum'].hist(bins=30)\n",
    "plt.title('Траты минут на звонки пользователей на тарифе Ультра')\n",
    "plt.xlabel('Суммарная длительность разговоров в минутах')\n",
    "plt.show()"
   ]
  },
  {
   "cell_type": "markdown",
   "id": "9b10d0c0",
   "metadata": {},
   "source": [
    "Ящик с усами"
   ]
  },
  {
   "cell_type": "code",
   "execution_count": 79,
   "id": "cb4489a3",
   "metadata": {},
   "outputs": [
    {
     "data": {
      "image/png": "[encoded data removed]",
      "text/plain": [
       "<Figure size 1080x360 with 1 Axes>"
      ]
     },
     "metadata": {
      "needs_background": "light"
     },
     "output_type": "display_data"
    }
   ],
   "source": [
    "df_pivot_data[df_pivot_data['tariff_name'] == 'ultra'].boxplot(\n",
    "    column='duration_min_sum', vert=False,figsize=(15, 5)\n",
    ")\n",
    "plt.title('Ящик с усами для показателя duration_min_sum тарифа Ультра')\n",
    "plt.show()"
   ]
  },
  {
   "cell_type": "markdown",
   "id": "fe1767eb",
   "metadata": {},
   "source": [
    "Избавимся от выбросов"
   ]
  },
  {
   "cell_type": "code",
   "execution_count": 80,
   "id": "bfac7295",
   "metadata": {},
   "outputs": [],
   "source": [
    "good_data_min = good_data_min.drop(\n",
    "    index=good_data_min[\n",
    "        (good_data_min['tariff_name'] =='ultra') & (good_data_min['duration_min_sum'] > 1350)\n",
    "    ].index)"
   ]
  },
  {
   "cell_type": "markdown",
   "id": "030140e2",
   "metadata": {},
   "source": [
    "Выведем на экран"
   ]
  },
  {
   "cell_type": "code",
   "execution_count": 81,
   "id": "e5a2a237",
   "metadata": {},
   "outputs": [
    {
     "data": {
      "image/png": "[encoded data removed]",
      "text/plain": [
       "<Figure size 432x288 with 1 Axes>"
      ]
     },
     "metadata": {
      "needs_background": "light"
     },
     "output_type": "display_data"
    }
   ],
   "source": [
    "good_data_min[good_data_min['tariff_name'] =='ultra']['duration_min_sum'].hist(bins=30)\n",
    "plt.title('Траты минут на звонки пользователей на тарифе Ультра')\n",
    "plt.xlabel('Суммарная длительность разговоров в минутах')\n",
    "plt.show()"
   ]
  },
  {
   "cell_type": "markdown",
   "id": "e64fefe9",
   "metadata": {},
   "source": [
    "Посчитаем среднее значение"
   ]
  },
  {
   "cell_type": "code",
   "execution_count": 82,
   "id": "7c8dfdaa",
   "metadata": {},
   "outputs": [
    {
     "data": {
      "text/plain": [
       "522.559633027523"
      ]
     },
     "execution_count": 82,
     "metadata": {},
     "output_type": "execute_result"
    }
   ],
   "source": [
    "ultra_min_mean = good_data_min[good_data_min['tariff_name'] =='ultra']['duration_min_sum'].mean()\n",
    "ultra_min_mean"
   ]
  },
  {
   "cell_type": "markdown",
   "id": "fd76c0e5",
   "metadata": {},
   "source": [
    "Вычислим дисперсию"
   ]
  },
  {
   "cell_type": "code",
   "execution_count": 83,
   "id": "3619f1db",
   "metadata": {},
   "outputs": [
    {
     "data": {
      "text/plain": [
       "97056.92942045671"
      ]
     },
     "execution_count": 83,
     "metadata": {},
     "output_type": "execute_result"
    }
   ],
   "source": [
    "ultra_min_var = np.var(good_data_min[good_data_min['tariff_name'] == 'ultra']['duration_min_sum'])\n",
    "ultra_min_var"
   ]
  },
  {
   "cell_type": "markdown",
   "id": "f333d868",
   "metadata": {},
   "source": [
    "И на основании дисперсии, расчитаем стандартное отклонение"
   ]
  },
  {
   "cell_type": "code",
   "execution_count": 84,
   "id": "05a105ea",
   "metadata": {},
   "outputs": [
    {
     "data": {
      "text/plain": [
       "311.5396113184593"
      ]
     },
     "execution_count": 84,
     "metadata": {},
     "output_type": "execute_result"
    }
   ],
   "source": [
    "ultra_min_std = np.sqrt(ultra_min_var)\n",
    "ultra_min_std"
   ]
  },
  {
   "cell_type": "markdown",
   "id": "8fb18788",
   "metadata": {},
   "source": [
    "Распределения по обоим тарифам скошены влево. Мы избавились от выбросов и получили следующие данные:\n",
    "- Средние значения 414 минут для тарифа `smart` и 522 минут для `ultra`\n",
    "- Стандартные отклонения 185 минут для тарифа `smart` и 311 для `ultra`, это значит, что в стандартной выборке владельцы тарифа `ultra` не выходят за рамки своего пакета, тогда как у тарифа `smart` велика вероятность"
   ]
  },
  {
   "cell_type": "markdown",
   "id": "d17b9fc9",
   "metadata": {},
   "source": [
    "Изучим распредения для данных по sms-сообщениям"
   ]
  },
  {
   "cell_type": "markdown",
   "id": "7e750feb",
   "metadata": {},
   "source": [
    "Тариф \"Смарт\":"
   ]
  },
  {
   "cell_type": "code",
   "execution_count": 85,
   "id": "469c11bc",
   "metadata": {},
   "outputs": [
    {
     "data": {
      "image/png": "[encoded data removed]",
      "text/plain": [
       "<Figure size 432x288 with 1 Axes>"
      ]
     },
     "metadata": {
      "needs_background": "light"
     },
     "output_type": "display_data"
    }
   ],
   "source": [
    "df_pivot_data[df_pivot_data['tariff_name'] =='smart']['message_count'].hist(bins=30)\n",
    "plt.title('Отправленные смс пользователями на тарифе Смарт')\n",
    "plt.xlabel('Количество смс')\n",
    "plt.show()"
   ]
  },
  {
   "cell_type": "markdown",
   "id": "77febd78",
   "metadata": {},
   "source": [
    "И ящик с усами"
   ]
  },
  {
   "cell_type": "code",
   "execution_count": 86,
   "id": "56ffef4d",
   "metadata": {},
   "outputs": [
    {
     "data": {
      "image/png": "[encoded data removed]",
      "text/plain": [
       "<Figure size 1080x360 with 1 Axes>"
      ]
     },
     "metadata": {
      "needs_background": "light"
     },
     "output_type": "display_data"
    }
   ],
   "source": [
    "df_pivot_data[df_pivot_data['tariff_name'] =='smart'].boxplot(\n",
    "    column='message_count', vert=False,figsize=(15, 5)\n",
    ")\n",
    "plt.title('Ящик с усами для показателя message_count тарифа Смарт')\n",
    "plt.show()"
   ]
  },
  {
   "cell_type": "markdown",
   "id": "cacb0dba",
   "metadata": {},
   "source": [
    "Уберем выбросы"
   ]
  },
  {
   "cell_type": "code",
   "execution_count": 87,
   "id": "9e532e6b",
   "metadata": {},
   "outputs": [],
   "source": [
    "good_data_messages = df_pivot_data.drop(\n",
    "    index=df_pivot_data[(df_pivot_data['tariff_name'] =='smart') & \n",
    "                        (df_pivot_data['message_count'] > 110) &\n",
    "                        (df_pivot_data['message_count'] < 1)].index)"
   ]
  },
  {
   "cell_type": "markdown",
   "id": "38872444",
   "metadata": {},
   "source": [
    "Посмотрим на распределение после удаления выбросов"
   ]
  },
  {
   "cell_type": "code",
   "execution_count": 88,
   "id": "689a7c5e",
   "metadata": {},
   "outputs": [
    {
     "data": {
      "image/png": "[encoded data removed]",
      "text/plain": [
       "<Figure size 432x288 with 1 Axes>"
      ]
     },
     "metadata": {
      "needs_background": "light"
     },
     "output_type": "display_data"
    }
   ],
   "source": [
    "good_data_messages[good_data_messages['tariff_name'] =='smart']['message_count'].hist(bins=30)\n",
    "plt.title('Отправленные смс пользователями на тарифе Смарт')\n",
    "plt.xlabel('Количество смс')\n",
    "plt.show()"
   ]
  },
  {
   "cell_type": "markdown",
   "id": "1eca46ea",
   "metadata": {},
   "source": [
    "Проведем наши расчеты"
   ]
  },
  {
   "cell_type": "code",
   "execution_count": 89,
   "id": "1bfb104c",
   "metadata": {},
   "outputs": [
    {
     "data": {
      "text/plain": [
       "33.384028712427096"
      ]
     },
     "execution_count": 89,
     "metadata": {},
     "output_type": "execute_result"
    }
   ],
   "source": [
    "smart_mess_mean = good_data_messages[good_data_messages['tariff_name'] =='smart']['message_count'].mean()\n",
    "smart_mess_mean"
   ]
  },
  {
   "cell_type": "code",
   "execution_count": 90,
   "id": "59f14a6b",
   "metadata": {},
   "outputs": [
    {
     "data": {
      "text/plain": [
       "796.455482917076"
      ]
     },
     "execution_count": 90,
     "metadata": {},
     "output_type": "execute_result"
    }
   ],
   "source": [
    "smart_mess_var = np.var(good_data_messages[good_data_messages['tariff_name'] =='smart']['message_count'])\n",
    "smart_mess_var"
   ]
  },
  {
   "cell_type": "code",
   "execution_count": 91,
   "id": "be30d58c",
   "metadata": {},
   "outputs": [
    {
     "data": {
      "text/plain": [
       "28.221542886898938"
      ]
     },
     "execution_count": 91,
     "metadata": {},
     "output_type": "execute_result"
    }
   ],
   "source": [
    "smart_mess_std = np.sqrt(smart_mess_var)\n",
    "smart_mess_std"
   ]
  },
  {
   "cell_type": "markdown",
   "id": "83c42e7c",
   "metadata": {},
   "source": [
    "Тариф \"Ультра\":"
   ]
  },
  {
   "cell_type": "code",
   "execution_count": 92,
   "id": "d14c6b1b",
   "metadata": {},
   "outputs": [
    {
     "data": {
      "image/png": "[encoded data removed]",
      "text/plain": [
       "<Figure size 432x288 with 1 Axes>"
      ]
     },
     "metadata": {
      "needs_background": "light"
     },
     "output_type": "display_data"
    }
   ],
   "source": [
    "good_data_messages[good_data_messages['tariff_name'] =='ultra']['message_count'].hist(bins=30)\n",
    "plt.title('Отправленные смс пользователями на тарифе Ультра')\n",
    "plt.xlabel('Количество смс')\n",
    "plt.show()"
   ]
  },
  {
   "cell_type": "code",
   "execution_count": 93,
   "id": "91918dd4",
   "metadata": {},
   "outputs": [
    {
     "data": {
      "image/png": "[encoded data removed]",
      "text/plain": [
       "<Figure size 1080x360 with 1 Axes>"
      ]
     },
     "metadata": {
      "needs_background": "light"
     },
     "output_type": "display_data"
    }
   ],
   "source": [
    "good_data_messages[good_data_messages['tariff_name'] =='ultra'].boxplot(\n",
    "    column='message_count', vert=False,figsize=(15, 5)\n",
    ")\n",
    "plt.title('Ящик с усами для показателя message_count тарифа Ультра')\n",
    "plt.show()"
   ]
  },
  {
   "cell_type": "code",
   "execution_count": 94,
   "id": "1fa7ee76",
   "metadata": {},
   "outputs": [],
   "source": [
    "good_data_messages = good_data_messages.drop(\n",
    "    index=good_data_messages[(good_data_messages['tariff_name'] =='ultra') & \n",
    "                             (good_data_messages['message_count'] > 175) &\n",
    "                             (good_data_messages['message_count'] < 1)].index)"
   ]
  },
  {
   "cell_type": "code",
   "execution_count": 95,
   "id": "e6fa614b",
   "metadata": {},
   "outputs": [
    {
     "data": {
      "text/plain": [
       "49.36345177664975"
      ]
     },
     "execution_count": 95,
     "metadata": {},
     "output_type": "execute_result"
    }
   ],
   "source": [
    "ultra_mess_mean = good_data_messages[good_data_messages['tariff_name'] =='ultra']['message_count'].mean()\n",
    "ultra_mess_mean"
   ]
  },
  {
   "cell_type": "code",
   "execution_count": 96,
   "id": "942a8aba",
   "metadata": {},
   "outputs": [
    {
     "data": {
      "text/plain": [
       "2282.94607539489"
      ]
     },
     "execution_count": 96,
     "metadata": {},
     "output_type": "execute_result"
    }
   ],
   "source": [
    "ultra_mess_var = np.var(good_data_messages[good_data_messages['tariff_name'] =='ultra']['message_count'])\n",
    "ultra_mess_var"
   ]
  },
  {
   "cell_type": "code",
   "execution_count": 97,
   "id": "08ce5133",
   "metadata": {},
   "outputs": [
    {
     "data": {
      "text/plain": [
       "47.78018496610169"
      ]
     },
     "execution_count": 97,
     "metadata": {},
     "output_type": "execute_result"
    }
   ],
   "source": [
    "ultra_mess_std = np.sqrt(ultra_mess_var)\n",
    "ultra_mess_std"
   ]
  },
  {
   "cell_type": "markdown",
   "id": "c18597eb",
   "metadata": {},
   "source": [
    "Также как и сданными по минутам, распределения не похожи на нормальные и скошены влево. После удаления выбросов средние значения для тарифа `smart` в районе 33 смс, а для `ultra` - в районе 49 смс. Стандартное отклонение 28 и 47 соответственно. Пользователи тарифа \"Ультра\" не превышают свой пакет смс в отличие от пользователей тарифа \"Смарт\"."
   ]
  },
  {
   "cell_type": "markdown",
   "id": "723b8208",
   "metadata": {},
   "source": [
    "Повторим операции для данных интернет-трафика"
   ]
  },
  {
   "cell_type": "markdown",
   "id": "a7863163",
   "metadata": {},
   "source": [
    "Тариф \"Смарт\":"
   ]
  },
  {
   "cell_type": "code",
   "execution_count": 98,
   "id": "d1c65ebd",
   "metadata": {},
   "outputs": [
    {
     "data": {
      "image/png": "[encoded data removed]",
      "text/plain": [
       "<Figure size 432x288 with 1 Axes>"
      ]
     },
     "metadata": {
      "needs_background": "light"
     },
     "output_type": "display_data"
    }
   ],
   "source": [
    "df_pivot_data[df_pivot_data['tariff_name'] =='smart']['gb_used'].hist(bins=50)\n",
    "plt.title('Объем интернет-трафика завтраченного пользователями на тарифе Смарт')\n",
    "plt.xlabel('Объем интернет-трафика в гигабайтах')\n",
    "plt.show()"
   ]
  },
  {
   "cell_type": "markdown",
   "id": "b613fa9d",
   "metadata": {},
   "source": [
    "Ящик:"
   ]
  },
  {
   "cell_type": "code",
   "execution_count": 99,
   "id": "8e1b0820",
   "metadata": {},
   "outputs": [
    {
     "data": {
      "image/png": "[encoded data removed]",
      "text/plain": [
       "<Figure size 1080x360 with 1 Axes>"
      ]
     },
     "metadata": {
      "needs_background": "light"
     },
     "output_type": "display_data"
    }
   ],
   "source": [
    "df_pivot_data[df_pivot_data['tariff_name'] == 'smart'].boxplot(\n",
    "    column='gb_used', vert=False,figsize=(15, 5)\n",
    ")\n",
    "plt.title('Ящик с усами для показателя gb_used тарифа Смарт')\n",
    "plt.show()"
   ]
  },
  {
   "cell_type": "markdown",
   "id": "fa1f2ca1",
   "metadata": {},
   "source": [
    "Избавляемся от выбросов и выводим результат"
   ]
  },
  {
   "cell_type": "code",
   "execution_count": 100,
   "id": "9ac89151",
   "metadata": {},
   "outputs": [],
   "source": [
    "good_data_internet = df_pivot_data.drop(\n",
    "    index=df_pivot_data[\n",
    "        (df_pivot_data['tariff_name'] =='smart') & \n",
    "        (df_pivot_data['gb_used'] > 30) & \n",
    "        (df_pivot_data['gb_used'] < 3)].index)"
   ]
  },
  {
   "cell_type": "code",
   "execution_count": 101,
   "id": "ce36b67b",
   "metadata": {},
   "outputs": [
    {
     "data": {
      "image/png": "[encoded data removed]",
      "text/plain": [
       "<Figure size 432x288 with 1 Axes>"
      ]
     },
     "metadata": {
      "needs_background": "light"
     },
     "output_type": "display_data"
    }
   ],
   "source": [
    "good_data_internet[good_data_internet['tariff_name'] =='smart']['gb_used'].hist(bins=50)\n",
    "plt.title('Объем интернет-трафика завтраченного пользователями на тарифе Смарт')\n",
    "plt.xlabel('Объем интернет-трафика в гигабайтах')\n",
    "plt.show()"
   ]
  },
  {
   "cell_type": "markdown",
   "id": "ab8b46d3",
   "metadata": {},
   "source": [
    "Проводим расчеты:"
   ]
  },
  {
   "cell_type": "code",
   "execution_count": 102,
   "id": "f3cadc89",
   "metadata": {},
   "outputs": [
    {
     "data": {
      "text/plain": [
       "16.328847016599372"
      ]
     },
     "execution_count": 102,
     "metadata": {},
     "output_type": "execute_result"
    }
   ],
   "source": [
    "smart_int_mean = good_data_internet[good_data_internet['tariff_name'] =='smart']['gb_used'].mean()\n",
    "smart_int_mean"
   ]
  },
  {
   "cell_type": "code",
   "execution_count": 103,
   "id": "fcf31a36",
   "metadata": {},
   "outputs": [
    {
     "data": {
      "text/plain": [
       "33.01388745483741"
      ]
     },
     "execution_count": 103,
     "metadata": {},
     "output_type": "execute_result"
    }
   ],
   "source": [
    "smart_int_var = np.var(good_data_internet[good_data_internet['tariff_name'] =='smart']['gb_used'])\n",
    "smart_int_var"
   ]
  },
  {
   "cell_type": "code",
   "execution_count": 104,
   "id": "45a54404",
   "metadata": {},
   "outputs": [
    {
     "data": {
      "text/plain": [
       "5.7457712671874965"
      ]
     },
     "execution_count": 104,
     "metadata": {},
     "output_type": "execute_result"
    }
   ],
   "source": [
    "smart_int_std = np.sqrt(smart_int_var)\n",
    "smart_int_std"
   ]
  },
  {
   "cell_type": "markdown",
   "id": "e24cabc0",
   "metadata": {},
   "source": [
    "Повторяем действия для тарифа \"Ультра\""
   ]
  },
  {
   "cell_type": "code",
   "execution_count": 105,
   "id": "f8abbd65",
   "metadata": {},
   "outputs": [
    {
     "data": {
      "image/png": "[encoded data removed]",
      "text/plain": [
       "<Figure size 432x288 with 1 Axes>"
      ]
     },
     "metadata": {
      "needs_background": "light"
     },
     "output_type": "display_data"
    }
   ],
   "source": [
    "good_data_internet[good_data_internet['tariff_name'] =='ultra']['gb_used'].hist(bins=50)\n",
    "plt.title('Объем интернет-трафика завтраченного пользователями на тарифе Ультра')\n",
    "plt.xlabel('Объем интернет-трафика в гигабайтах')\n",
    "plt.show()"
   ]
  },
  {
   "cell_type": "code",
   "execution_count": 106,
   "id": "304912ca",
   "metadata": {},
   "outputs": [
    {
     "data": {
      "image/png": "[encoded data removed]",
      "text/plain": [
       "<Figure size 1080x360 with 1 Axes>"
      ]
     },
     "metadata": {
      "needs_background": "light"
     },
     "output_type": "display_data"
    }
   ],
   "source": [
    "good_data_internet[good_data_internet['tariff_name'] =='ultra'].boxplot(\n",
    "    column='gb_used', vert=False,figsize=(15, 5)\n",
    ")\n",
    "plt.title('Ящик с усами для показателя gb_used тарифа Смарт')\n",
    "plt.show()"
   ]
  },
  {
   "cell_type": "markdown",
   "id": "665730bf",
   "metadata": {},
   "source": [
    "Расчеты"
   ]
  },
  {
   "cell_type": "code",
   "execution_count": 107,
   "id": "039d7911",
   "metadata": {},
   "outputs": [
    {
     "data": {
      "text/plain": [
       "19.494416243654822"
      ]
     },
     "execution_count": 107,
     "metadata": {},
     "output_type": "execute_result"
    }
   ],
   "source": [
    "ultra_int_mean = good_data_internet[good_data_internet['tariff_name'] =='ultra']['gb_used'].mean()\n",
    "ultra_int_mean"
   ]
  },
  {
   "cell_type": "code",
   "execution_count": 108,
   "id": "377a1b51",
   "metadata": {},
   "outputs": [
    {
     "data": {
      "text/plain": [
       "96.993116029787"
      ]
     },
     "execution_count": 108,
     "metadata": {},
     "output_type": "execute_result"
    }
   ],
   "source": [
    "ultra_int_var = np.var(good_data_internet[good_data_internet['tariff_name'] =='ultra']['gb_used'])\n",
    "ultra_int_var"
   ]
  },
  {
   "cell_type": "code",
   "execution_count": 109,
   "id": "33cdaa95",
   "metadata": {},
   "outputs": [
    {
     "data": {
      "text/plain": [
       "9.848508314957499"
      ]
     },
     "execution_count": 109,
     "metadata": {},
     "output_type": "execute_result"
    }
   ],
   "source": [
    "ultra_int_std = np.sqrt(ultra_int_var)\n",
    "ultra_int_std"
   ]
  },
  {
   "cell_type": "markdown",
   "id": "4f88862e",
   "metadata": {},
   "source": [
    "В случае с интернет-трафиком данные распределены нормально. Средние значения по тарифу `smart` превышают размер пакета на месяц, а значит оператор зарабатывает на дополнительных гигабайтах. Тогда как средние значения для тарифа `ultra` в пределах объема пакета и даже имеют запас."
   ]
  },
  {
   "cell_type": "markdown",
   "id": "c40a6ddd",
   "metadata": {},
   "source": [
    "### Вывод"
   ]
  },
  {
   "cell_type": "markdown",
   "id": "26118c53",
   "metadata": {},
   "source": [
    "В этой главе мы проанализировали поведение клиентов оператора в разрезе тарифов и выявили, что:<br>\n",
    "- чаще всего пользователи не выговаривают пакеты минут своих тарифов, но также видим и высокое стандартное отклонение, это говорит о том, что разброс достаточно высокий, значит точно есть пользователи превышающие свои пакеты минут;\n",
    "- в среднем показатель использования смс не высокий. Судя по стандартному отклонению, пользователи тарифа ultra никогда не превышают свои пакеты. Тогда как пользователи тарифа smart платят за дополнительные смс;\n",
    "- средние значения по тарифу smart превышают пакет гигабайт входящий в этот тариф, тогда как этот показатель для тарифа ultra находится в пределах предложенного пакета. Стандартное отклонение говорит о том, что и в тарифе ultra превышения гигабайт вполне вероятны и эти значения входят интервал трех сигм.<br>\n",
    "\n",
    "Данные распредены со смещением влево по тарифу **smart**."
   ]
  },
  {
   "cell_type": "markdown",
   "id": "b472b6ba",
   "metadata": {},
   "source": [
    "## Проверка гипотез"
   ]
  },
  {
   "cell_type": "markdown",
   "id": "b46b89ac",
   "metadata": {},
   "source": [
    "### Гипотеза 1. Средняя выручка пользователей тарифов «Ультра» и «Смарт» различаются"
   ]
  },
  {
   "cell_type": "markdown",
   "id": "bd2f9afc",
   "metadata": {},
   "source": [
    "Сформируем нулевую гипотезу. Средняя выручка пользователей тарифов \"Смарт\" и \"Ультра\" равны.\n",
    "Тогда альтернативная гипотеза будет в том, что они различаются."
   ]
  },
  {
   "cell_type": "markdown",
   "id": "d0507e1d",
   "metadata": {},
   "source": [
    "Создадим две переменные с данными по выручке тарифов"
   ]
  },
  {
   "cell_type": "code",
   "execution_count": 110,
   "id": "83a1ae60",
   "metadata": {},
   "outputs": [],
   "source": [
    "#данные по тарифу Смарт\n",
    "smart_revenue = df_pivot_data[df_pivot_data['tariff_name'] == 'smart']['costs_per_month']\n",
    "\n",
    "#данные по тарифу Ультра\n",
    "ultra_revenue = df_pivot_data[df_pivot_data['tariff_name'] == 'ultra']['costs_per_month']"
   ]
  },
  {
   "cell_type": "markdown",
   "id": "427a7419",
   "metadata": {},
   "source": [
    "Зададим пороговое значение alpha равное 5%"
   ]
  },
  {
   "cell_type": "code",
   "execution_count": 111,
   "id": "4fbb3525",
   "metadata": {},
   "outputs": [],
   "source": [
    "alpha = .05"
   ]
  },
  {
   "cell_type": "markdown",
   "id": "0ebd05e2",
   "metadata": {},
   "source": [
    "Вычислим вероятность того, что средние различаются"
   ]
  },
  {
   "cell_type": "code",
   "execution_count": 112,
   "id": "4bb9829e",
   "metadata": {},
   "outputs": [],
   "source": [
    "results = st.ttest_ind(\n",
    "    smart_revenue, \n",
    "    ultra_revenue, \n",
    "    equal_var = False)"
   ]
  },
  {
   "cell_type": "markdown",
   "id": "d3b3e44d",
   "metadata": {},
   "source": [
    "Выведем результат на экран"
   ]
  },
  {
   "cell_type": "code",
   "execution_count": 113,
   "id": "947ff159",
   "metadata": {},
   "outputs": [
    {
     "name": "stdout",
     "output_type": "stream",
     "text": [
      "p-значение:  4.2606313931076085e-250\n",
      "Отвергаем нулевую гипотезу\n"
     ]
    }
   ],
   "source": [
    "print('p-значение: ', results.pvalue)\n",
    "\n",
    "if results.pvalue < alpha:\n",
    "    print('Отвергаем нулевую гипотезу')\n",
    "else:\n",
    "    print('Не получилось отвергнуть нулевую гипотезу')"
   ]
  },
  {
   "cell_type": "markdown",
   "id": "c7b0449a",
   "metadata": {},
   "source": [
    "Таким образом вероятность того, что средние могут быть равны очень низка. Значит нулевая гипотеза о том, что средние равны - отвергается."
   ]
  },
  {
   "cell_type": "markdown",
   "id": "fc2a138d",
   "metadata": {},
   "source": [
    "### Гипотеза 2. Средняя выручка пользователей из Москвы отличается от выручки пользователей из других регионов"
   ]
  },
  {
   "cell_type": "markdown",
   "id": "676dfdfb",
   "metadata": {},
   "source": [
    "Пусть нулевая гипотеза гласит о том, что средняя выручка пользователей из Москвы равна выручке пользователей из других регионов. Тогда альтернативная будет заключаться в том, что они различаются."
   ]
  },
  {
   "cell_type": "markdown",
   "id": "abc23aa8",
   "metadata": {},
   "source": [
    "Создадим переменные с данными выручки по Москве и по остальным городам"
   ]
  },
  {
   "cell_type": "code",
   "execution_count": 114,
   "id": "8af2a6be",
   "metadata": {},
   "outputs": [],
   "source": [
    "#выручка в Москве\n",
    "moscow_revenue = df_pivot_data[df_pivot_data['city'] == 'Москва']['costs_per_month']\n",
    "\n",
    "#выручка в остальных городах России\n",
    "other_cities_revenue = df_pivot_data[df_pivot_data['city'] != 'Москва']['costs_per_month']"
   ]
  },
  {
   "cell_type": "markdown",
   "id": "666045a0",
   "metadata": {},
   "source": [
    "Зададим пороговое значение **alpha**"
   ]
  },
  {
   "cell_type": "code",
   "execution_count": 115,
   "id": "66f602cf",
   "metadata": {},
   "outputs": [],
   "source": [
    "alpha = .05"
   ]
  },
  {
   "cell_type": "markdown",
   "id": "71b70f09",
   "metadata": {},
   "source": [
    "Расчитаем вероятность того, что средние величины двух переменных равны"
   ]
  },
  {
   "cell_type": "code",
   "execution_count": 116,
   "id": "04b62675",
   "metadata": {},
   "outputs": [],
   "source": [
    "results = st.ttest_ind(\n",
    "    moscow_revenue, \n",
    "    other_cities_revenue, \n",
    "    equal_var = False)"
   ]
  },
  {
   "cell_type": "markdown",
   "id": "7b42f59c",
   "metadata": {},
   "source": [
    "Выведем результат на экран"
   ]
  },
  {
   "cell_type": "code",
   "execution_count": 117,
   "id": "9111e67f",
   "metadata": {},
   "outputs": [
    {
     "name": "stdout",
     "output_type": "stream",
     "text": [
      "p-значение:  0.5257376663729298\n",
      "Не получилось отвергнуть нулевую гипотезу\n"
     ]
    }
   ],
   "source": [
    "print('p-значение: ', results.pvalue)\n",
    "\n",
    "if results.pvalue > alpha:\n",
    "    print('Не получилось отвергнуть нулевую гипотезу')\n",
    "else:\n",
    "    print('Отвергаем нулевую гипотезу')"
   ]
  },
  {
   "cell_type": "markdown",
   "id": "e5be2b8f",
   "metadata": {},
   "source": [
    "Таким образом мы не можем отвергнуть нулевую гипотезу, так как вероятность того, что средние значения выручки по Москве и других городах равны, более 52%"
   ]
  },
  {
   "cell_type": "markdown",
   "id": "6a047e92",
   "metadata": {},
   "source": [
    "### Вывод"
   ]
  },
  {
   "cell_type": "markdown",
   "id": "b9e7cb6e",
   "metadata": {},
   "source": [
    "В этой главе мы проверили две гипотезы:<br>\n",
    "1. Средняя выручка пользователей тарифов «Ультра» и «Смарт» различаются\n",
    "2. Средняя выручка пользователей из Москвы отличается от выручки пользователей из других регионов<br>\n",
    "\n",
    "Для этого мы расчитавали р-значение при сравнении двух датасетов.<br>\n",
    "По итогам расчетов мы выявили, что вероятность того, что средние по выручке пользователей тарифов «Ультра» и «Смарт»  могут быть равны очень низкая. Значит нулевая гипотеза о том, что средние равны - отвергается.<br>\n",
    "И не смогли опровергнуть гипотезу о том, что средняя выручка пользователей из Москвы равна выручке пользователей из других регионов, так как вероятность их равенства более 52%"
   ]
  },
  {
   "cell_type": "markdown",
   "id": "ec25eea8",
   "metadata": {},
   "source": [
    "## Общий вывод"
   ]
  },
  {
   "cell_type": "markdown",
   "id": "aafbb89b",
   "metadata": {},
   "source": [
    "В данном проекте мы провели исследование данных оператора сотовой связи «Мегалайн». Цель исследования заключалась в анализе поведения клиентов и сделать вывод — какой тариф лучше. Нам были предоставлены 5 датасетов:<br>\n",
    "**Таблица users** (информация о пользователях):<br>\n",
    " - `user_id` — уникальный идентификатор пользователя\n",
    " - `first_name` — имя пользователя\n",
    " - `last_name` — фамилия пользователя\n",
    " - `age` — возраст пользователя (годы)\n",
    " - `reg_date` — дата подключения тарифа (день, месяц, год)\n",
    " - `churn_date` — дата прекращения пользования тарифом\n",
    " - `city` — город проживания пользователя\n",
    " - `tarif` — название тарифного плана<br>\n",
    " \n",
    "**Таблица calls** (информация о звонках):<br>\n",
    " - `id` — уникальный номер звонка\n",
    " - `call_date` — дата звонка\n",
    " - `duration` — длительность звонка в минутах\n",
    " - `user_id` — идентификатор пользователя, сделавшего звонок<br>\n",
    "\n",
    "**Таблица messages** (информация о сообщениях):<br>\n",
    " - `id` — уникальный номер сообщения\n",
    " - `message_date` — дата сообщения\n",
    " - `user_id` — идентификатор пользователя, отправившего сообщение<br>\n",
    "\n",
    "**Таблица internet** (информация об интернет-сессиях):<br>\n",
    " - `id` — уникальный номер сессии\n",
    " - `mb_used` — объём потраченного за сессию интернет-трафика (в мегабайтах)\n",
    " - `session_date` — дата интернет-сессии\n",
    " - `user_id` — идентификатор пользователя<br>\n",
    " \n",
    "**Таблица tariffs** (информация о тарифах):<br>\n",
    " - `tariff_name` — название тарифа\n",
    " - `rub_monthly_fee` — ежемесячная абонентская плата в рублях\n",
    " - `minutes_included` — количество минут разговора в месяц, включённых в абонентскую плату\n",
    " - `messages_included` — количество сообщений в месяц, включённых в абонентскую плату\n",
    " - `mb_per_month_included` — объём интернет-трафика, включённого в абонентскую плату (в мегабайтах)\n",
    " - `rub_per_minute` — стоимость минуты разговора сверх тарифного пакета\n",
    " - `rub_per_message` — стоимость отправки сообщения сверх тарифного пакета\n",
    " - `rub_per_gb` — стоимость дополнительного гигабайта интернет-трафика сверх тарифного пакета<br><br>\n",
    " \n",
    "В связи с тем, что таблицы не большие, преобразовывать типы данных ради уменьшения объема занимаемой памяти мы не стали. При обработке данных, сделали следующее:\n",
    " - в столбцах содержащих значения дат, привели тип данных к datetime во всех таблицах;\n",
    " - удалили лишний столбец `Unnamed: 0` из **df_internet**;\n",
    " - привели наименования столбцов с названиями тарифов к единому значению.<br>\n",
    "\n",
    "Затем посчитали:\n",
    " - количество сделанных звонков и израсходованных минут разговора по месяцам;\n",
    " - количество отправленных сообщений по месяцам;\n",
    " - объем израсходованного интернет-трафика по месяцам;\n",
    " - объединили таблицы и вычислили помесячную выручку с каждого пользователя.<br><br>\n",
    " \n",
    "Создали таблицу с данными общей выручки и средней выручки на одного пользователя с рабивкой по тарифам и месяцам.<br>\n",
    "Проанализировали поведение клиентов оператора в разрезе тарифов и с разбивкой по месяцам и выявили, что:<br>\n",
    "- чаще всего пользователи не выговаривают пакеты минут своих тарифов, но также видим и высокое стандартное отклонение, это говорит о том, что разброс достаточно высокий, значит точно есть пользователи превышающие свои пакеты минут;\n",
    "- в среднем показатель использования смс не высокий. Разница в количестве смс между тарифами не большая. Судя по стандартному отклонению, пользователи тарифа ultra никогда не превышают свои пакеты, за исключением аномальных случаев. Тогда как пользователи тарифа smart платят за дополнительные смс;\n",
    "- средние значения по тарифу smart начиная с мая месяца всегда превышают пакет гигабайт входящий в этот тариф, тогда как этот показатель для тарифа ultra находится в пределах предложенного пакета. Стандартное отклонение говорит о том, что и в тарифе ultra превышения гигабайт вполне вероятны и эти значения входят интервал трех сигм.<br>\n",
    "\n",
    "Проверили две гипотезы:<br>\n",
    "1. Средняя выручка пользователей тарифов «Ультра» и «Смарт» различаются\n",
    "2. Средняя выручка пользователей из Москвы отличается от выручки пользователей из других регионов<br>\n",
    "\n",
    "Для этого мы расчитавали р-значение при сравнении двух датасетов.<br>\n",
    "По итогам расчетов мы выявили, что вероятность того, что средние по выручке пользователей тарифов «Ультра» и «Смарт»  могут быть равны очень низкая. Значит нулевая гипотеза о том, что средние равны - отвергается.<br>\n",
    "И не смогли опровергнуть гипотезу о том, что средняя выручка пользователей из Москвы равна выручке пользователей из других регионов, так как вероятность их равенства более 52%<br><br>\n",
    "\n",
    "По данным из полученной выборки видно, что тариф \"Смарт\" более выгодный для оператора связи - он пользуется большей популярностью и, соответсвенно, приносит больше выручки. Однако стоит отметить, что выручка с одного пользователя на тарифе \"Ультра\" выше. Если привлечь большее количество абонентов на тариф \"Ультра\" за счет вложений в маркетинг, он может обойти по выручке тариф \"Смарт\"."
   ]
  }
 ],
 "metadata": {
  "ExecuteTimeLog": [
   {
    "duration": 1896,
    "start_time": "2022-02-10T20:20:24.779Z"
   },
   {
    "duration": 408,
    "start_time": "2022-02-10T20:20:26.678Z"
   },
   {
    "duration": 46,
    "start_time": "2022-02-10T20:20:27.088Z"
   },
   {
    "duration": 91,
    "start_time": "2022-02-10T20:20:27.136Z"
   },
   {
    "duration": 36,
    "start_time": "2022-02-10T20:20:27.229Z"
   },
   {
    "duration": 48,
    "start_time": "2022-02-10T20:20:27.267Z"
   },
   {
    "duration": 23,
    "start_time": "2022-02-10T20:20:27.318Z"
   },
   {
    "duration": 5,
    "start_time": "2022-02-10T20:20:27.344Z"
   },
   {
    "duration": 18,
    "start_time": "2022-02-10T20:20:27.351Z"
   },
   {
    "duration": 14,
    "start_time": "2022-02-10T20:20:27.372Z"
   },
   {
    "duration": 22,
    "start_time": "2022-02-10T20:20:27.388Z"
   },
   {
    "duration": 47,
    "start_time": "2022-02-10T20:20:27.412Z"
   },
   {
    "duration": 20,
    "start_time": "2022-02-10T20:20:27.461Z"
   },
   {
    "duration": 25,
    "start_time": "2022-02-10T20:20:27.483Z"
   },
   {
    "duration": 5,
    "start_time": "2022-02-10T20:20:27.510Z"
   },
   {
    "duration": 12,
    "start_time": "2022-02-10T20:20:27.517Z"
   },
   {
    "duration": 12,
    "start_time": "2022-02-10T20:20:27.531Z"
   },
   {
    "duration": 20,
    "start_time": "2022-02-10T20:20:27.545Z"
   },
   {
    "duration": 33,
    "start_time": "2022-02-10T20:20:27.567Z"
   },
   {
    "duration": 56,
    "start_time": "2022-02-10T20:20:27.601Z"
   },
   {
    "duration": 5,
    "start_time": "2022-02-10T20:20:27.660Z"
   },
   {
    "duration": 29,
    "start_time": "2022-02-10T20:20:27.667Z"
   },
   {
    "duration": 5,
    "start_time": "2022-02-10T20:20:27.709Z"
   },
   {
    "duration": 7,
    "start_time": "2022-02-10T20:20:27.718Z"
   },
   {
    "duration": 29,
    "start_time": "2022-02-10T20:20:27.727Z"
   },
   {
    "duration": 4,
    "start_time": "2022-02-10T20:20:27.758Z"
   },
   {
    "duration": 12,
    "start_time": "2022-02-10T20:20:27.764Z"
   },
   {
    "duration": 34,
    "start_time": "2022-02-10T20:20:27.778Z"
   },
   {
    "duration": 10,
    "start_time": "2022-02-10T20:20:27.815Z"
   },
   {
    "duration": 14,
    "start_time": "2022-02-10T20:20:27.827Z"
   },
   {
    "duration": 15,
    "start_time": "2022-02-10T20:20:27.843Z"
   },
   {
    "duration": 20,
    "start_time": "2022-02-10T20:20:27.859Z"
   },
   {
    "duration": 18,
    "start_time": "2022-02-10T20:20:27.882Z"
   },
   {
    "duration": 21,
    "start_time": "2022-02-10T20:20:27.902Z"
   },
   {
    "duration": 32,
    "start_time": "2022-02-10T20:20:27.925Z"
   },
   {
    "duration": 5,
    "start_time": "2022-02-10T20:20:27.960Z"
   },
   {
    "duration": 11,
    "start_time": "2022-02-10T20:20:27.967Z"
   },
   {
    "duration": 16,
    "start_time": "2022-02-10T20:20:27.980Z"
   },
   {
    "duration": 34,
    "start_time": "2022-02-10T20:20:27.999Z"
   },
   {
    "duration": 11,
    "start_time": "2022-02-10T20:20:28.035Z"
   },
   {
    "duration": 29,
    "start_time": "2022-02-10T20:20:28.048Z"
   },
   {
    "duration": 3,
    "start_time": "2022-02-10T20:20:28.079Z"
   },
   {
    "duration": 25,
    "start_time": "2022-02-10T20:20:28.084Z"
   },
   {
    "duration": 10,
    "start_time": "2022-02-10T20:20:28.111Z"
   },
   {
    "duration": 17,
    "start_time": "2022-02-10T20:20:28.123Z"
   },
   {
    "duration": 32,
    "start_time": "2022-02-10T20:20:28.142Z"
   },
   {
    "duration": 3,
    "start_time": "2022-02-10T20:20:28.176Z"
   },
   {
    "duration": 27,
    "start_time": "2022-02-10T20:20:28.180Z"
   },
   {
    "duration": 6,
    "start_time": "2022-02-10T20:20:28.209Z"
   },
   {
    "duration": 19,
    "start_time": "2022-02-10T20:20:28.217Z"
   },
   {
    "duration": 32,
    "start_time": "2022-02-10T20:20:28.237Z"
   },
   {
    "duration": 2,
    "start_time": "2022-02-10T20:20:28.271Z"
   },
   {
    "duration": 18,
    "start_time": "2022-02-10T20:20:28.275Z"
   },
   {
    "duration": 13,
    "start_time": "2022-02-10T20:20:28.295Z"
   },
   {
    "duration": 19,
    "start_time": "2022-02-10T20:20:28.310Z"
   },
   {
    "duration": 247,
    "start_time": "2022-02-10T20:20:28.331Z"
   },
   {
    "duration": 212,
    "start_time": "2022-02-10T20:20:28.581Z"
   },
   {
    "duration": 216,
    "start_time": "2022-02-10T20:20:28.795Z"
   },
   {
    "duration": 222,
    "start_time": "2022-02-10T20:20:29.012Z"
   },
   {
    "duration": 207,
    "start_time": "2022-02-10T20:20:29.236Z"
   },
   {
    "duration": 223,
    "start_time": "2022-02-10T20:20:29.445Z"
   },
   {
    "duration": 232,
    "start_time": "2022-02-10T20:20:29.670Z"
   },
   {
    "duration": 220,
    "start_time": "2022-02-10T20:20:29.907Z"
   },
   {
    "duration": 289,
    "start_time": "2022-02-10T20:20:30.129Z"
   },
   {
    "duration": 5,
    "start_time": "2022-02-10T20:20:30.420Z"
   },
   {
    "duration": 13,
    "start_time": "2022-02-10T20:20:30.427Z"
   },
   {
    "duration": 12,
    "start_time": "2022-02-10T20:20:30.442Z"
   },
   {
    "duration": 17,
    "start_time": "2022-02-10T20:20:30.460Z"
   },
   {
    "duration": 13,
    "start_time": "2022-02-10T20:20:30.480Z"
   },
   {
    "duration": 39,
    "start_time": "2022-02-10T20:20:30.495Z"
   },
   {
    "duration": 14,
    "start_time": "2022-02-10T20:20:30.537Z"
   },
   {
    "duration": 11,
    "start_time": "2022-02-10T20:20:30.553Z"
   },
   {
    "duration": 14,
    "start_time": "2022-02-10T20:20:30.565Z"
   },
   {
    "duration": 26,
    "start_time": "2022-02-10T20:20:30.581Z"
   },
   {
    "duration": 16,
    "start_time": "2022-02-10T20:20:30.609Z"
   },
   {
    "duration": 14,
    "start_time": "2022-02-10T20:20:30.627Z"
   },
   {
    "duration": 281,
    "start_time": "2022-02-13T16:04:13.601Z"
   },
   {
    "duration": 1133,
    "start_time": "2022-02-13T16:06:35.864Z"
   },
   {
    "duration": 379,
    "start_time": "2022-02-13T16:06:36.999Z"
   },
   {
    "duration": 36,
    "start_time": "2022-02-13T16:06:37.380Z"
   },
   {
    "duration": 94,
    "start_time": "2022-02-13T16:06:37.418Z"
   },
   {
    "duration": 34,
    "start_time": "2022-02-13T16:06:37.515Z"
   },
   {
    "duration": 23,
    "start_time": "2022-02-13T16:06:37.552Z"
   },
   {
    "duration": 46,
    "start_time": "2022-02-13T16:06:37.577Z"
   },
   {
    "duration": 5,
    "start_time": "2022-02-13T16:06:37.625Z"
   },
   {
    "duration": 9,
    "start_time": "2022-02-13T16:06:37.633Z"
   },
   {
    "duration": 11,
    "start_time": "2022-02-13T16:06:37.644Z"
   },
   {
    "duration": 7,
    "start_time": "2022-02-13T16:06:37.657Z"
   },
   {
    "duration": 45,
    "start_time": "2022-02-13T16:06:37.666Z"
   },
   {
    "duration": 19,
    "start_time": "2022-02-13T16:06:37.713Z"
   },
   {
    "duration": 16,
    "start_time": "2022-02-13T16:06:37.734Z"
   },
   {
    "duration": 5,
    "start_time": "2022-02-13T16:06:37.752Z"
   },
   {
    "duration": 8,
    "start_time": "2022-02-13T16:06:37.758Z"
   },
   {
    "duration": 7,
    "start_time": "2022-02-13T16:06:37.768Z"
   },
   {
    "duration": 32,
    "start_time": "2022-02-13T16:06:37.776Z"
   },
   {
    "duration": 14,
    "start_time": "2022-02-13T16:06:37.809Z"
   },
   {
    "duration": 58,
    "start_time": "2022-02-13T16:06:37.824Z"
   },
   {
    "duration": 5,
    "start_time": "2022-02-13T16:06:37.883Z"
   },
   {
    "duration": 34,
    "start_time": "2022-02-13T16:06:37.890Z"
   },
   {
    "duration": 5,
    "start_time": "2022-02-13T16:06:37.928Z"
   },
   {
    "duration": 9,
    "start_time": "2022-02-13T16:06:37.936Z"
   },
   {
    "duration": 24,
    "start_time": "2022-02-13T16:06:37.947Z"
   },
   {
    "duration": 4,
    "start_time": "2022-02-13T16:06:37.973Z"
   },
   {
    "duration": 34,
    "start_time": "2022-02-13T16:06:37.979Z"
   },
   {
    "duration": 10,
    "start_time": "2022-02-13T16:06:38.015Z"
   },
   {
    "duration": 13,
    "start_time": "2022-02-13T16:06:38.027Z"
   },
   {
    "duration": 11,
    "start_time": "2022-02-13T16:06:38.042Z"
   },
   {
    "duration": 9,
    "start_time": "2022-02-13T16:06:38.055Z"
   },
   {
    "duration": 9,
    "start_time": "2022-02-13T16:06:38.066Z"
   },
   {
    "duration": 30,
    "start_time": "2022-02-13T16:06:38.077Z"
   },
   {
    "duration": 6,
    "start_time": "2022-02-13T16:06:38.110Z"
   },
   {
    "duration": 30,
    "start_time": "2022-02-13T16:06:38.118Z"
   },
   {
    "duration": 4,
    "start_time": "2022-02-13T16:06:38.150Z"
   },
   {
    "duration": 8,
    "start_time": "2022-02-13T16:06:38.156Z"
   },
   {
    "duration": 10,
    "start_time": "2022-02-13T16:06:38.167Z"
   },
   {
    "duration": 49,
    "start_time": "2022-02-13T16:06:38.179Z"
   },
   {
    "duration": 11,
    "start_time": "2022-02-13T16:06:38.231Z"
   },
   {
    "duration": 31,
    "start_time": "2022-02-13T16:06:38.244Z"
   },
   {
    "duration": 3,
    "start_time": "2022-02-13T16:06:38.277Z"
   },
   {
    "duration": 28,
    "start_time": "2022-02-13T16:06:38.282Z"
   },
   {
    "duration": 15,
    "start_time": "2022-02-13T16:06:38.312Z"
   },
   {
    "duration": 17,
    "start_time": "2022-02-13T16:06:38.329Z"
   },
   {
    "duration": 32,
    "start_time": "2022-02-13T16:06:38.348Z"
   },
   {
    "duration": 3,
    "start_time": "2022-02-13T16:06:38.382Z"
   },
   {
    "duration": 22,
    "start_time": "2022-02-13T16:06:38.387Z"
   },
   {
    "duration": 6,
    "start_time": "2022-02-13T16:06:38.411Z"
   },
   {
    "duration": 16,
    "start_time": "2022-02-13T16:06:38.420Z"
   },
   {
    "duration": 35,
    "start_time": "2022-02-13T16:06:38.438Z"
   },
   {
    "duration": 3,
    "start_time": "2022-02-13T16:06:38.476Z"
   },
   {
    "duration": 26,
    "start_time": "2022-02-13T16:06:38.482Z"
   },
   {
    "duration": 9,
    "start_time": "2022-02-13T16:06:38.510Z"
   },
   {
    "duration": 17,
    "start_time": "2022-02-13T16:06:38.521Z"
   },
   {
    "duration": 247,
    "start_time": "2022-02-13T16:06:38.539Z"
   },
   {
    "duration": 212,
    "start_time": "2022-02-13T16:06:38.788Z"
   },
   {
    "duration": 217,
    "start_time": "2022-02-13T16:06:39.001Z"
   },
   {
    "duration": 226,
    "start_time": "2022-02-13T16:06:39.221Z"
   },
   {
    "duration": 210,
    "start_time": "2022-02-13T16:06:39.450Z"
   },
   {
    "duration": 229,
    "start_time": "2022-02-13T16:06:39.662Z"
   },
   {
    "duration": 234,
    "start_time": "2022-02-13T16:06:39.893Z"
   },
   {
    "duration": 410,
    "start_time": "2022-02-13T16:06:40.129Z"
   },
   {
    "duration": 425,
    "start_time": "2022-02-13T16:06:40.541Z"
   },
   {
    "duration": 7,
    "start_time": "2022-02-13T16:06:40.967Z"
   },
   {
    "duration": 7,
    "start_time": "2022-02-13T16:06:40.976Z"
   },
   {
    "duration": 23,
    "start_time": "2022-02-13T16:06:40.985Z"
   },
   {
    "duration": 6,
    "start_time": "2022-02-13T16:06:41.013Z"
   },
   {
    "duration": 15,
    "start_time": "2022-02-13T16:06:41.021Z"
   },
   {
    "duration": 29,
    "start_time": "2022-02-13T16:06:41.039Z"
   },
   {
    "duration": 38,
    "start_time": "2022-02-13T16:06:41.070Z"
   },
   {
    "duration": 11,
    "start_time": "2022-02-13T16:06:41.110Z"
   },
   {
    "duration": 9,
    "start_time": "2022-02-13T16:06:41.123Z"
   },
   {
    "duration": 12,
    "start_time": "2022-02-13T16:06:41.134Z"
   },
   {
    "duration": 8,
    "start_time": "2022-02-13T16:06:41.148Z"
   },
   {
    "duration": 9,
    "start_time": "2022-02-13T16:06:41.157Z"
   },
   {
    "duration": 10,
    "start_time": "2022-02-13T16:09:21.401Z"
   },
   {
    "duration": 331,
    "start_time": "2022-02-13T16:09:36.577Z"
   },
   {
    "duration": 12,
    "start_time": "2022-02-13T16:11:12.754Z"
   },
   {
    "duration": 13,
    "start_time": "2022-02-13T16:14:15.657Z"
   },
   {
    "duration": 11,
    "start_time": "2022-02-13T16:14:23.766Z"
   },
   {
    "duration": 22,
    "start_time": "2022-02-13T16:14:56.920Z"
   },
   {
    "duration": 24,
    "start_time": "2022-02-13T16:15:17.187Z"
   },
   {
    "duration": 6617,
    "start_time": "2022-02-13T16:16:41.004Z"
   },
   {
    "duration": 84,
    "start_time": "2022-02-13T16:16:51.707Z"
   },
   {
    "duration": 95,
    "start_time": "2022-02-13T16:17:02.819Z"
   },
   {
    "duration": 14,
    "start_time": "2022-02-13T16:17:11.696Z"
   },
   {
    "duration": 11,
    "start_time": "2022-02-13T16:18:42.540Z"
   },
   {
    "duration": 4,
    "start_time": "2022-02-13T16:22:37.220Z"
   },
   {
    "duration": 1270,
    "start_time": "2022-02-13T16:22:51.586Z"
   },
   {
    "duration": 566,
    "start_time": "2022-02-13T16:22:52.859Z"
   },
   {
    "duration": 42,
    "start_time": "2022-02-13T16:22:53.427Z"
   },
   {
    "duration": 86,
    "start_time": "2022-02-13T16:22:53.471Z"
   },
   {
    "duration": 51,
    "start_time": "2022-02-13T16:22:53.559Z"
   },
   {
    "duration": 36,
    "start_time": "2022-02-13T16:22:53.612Z"
   },
   {
    "duration": 23,
    "start_time": "2022-02-13T16:22:53.650Z"
   },
   {
    "duration": 42,
    "start_time": "2022-02-13T16:22:53.674Z"
   },
   {
    "duration": 4,
    "start_time": "2022-02-13T16:22:53.719Z"
   },
   {
    "duration": 12,
    "start_time": "2022-02-13T16:22:53.726Z"
   },
   {
    "duration": 12,
    "start_time": "2022-02-13T16:22:53.740Z"
   },
   {
    "duration": 10,
    "start_time": "2022-02-13T16:22:53.754Z"
   },
   {
    "duration": 41,
    "start_time": "2022-02-13T16:22:53.766Z"
   },
   {
    "duration": 19,
    "start_time": "2022-02-13T16:22:53.809Z"
   },
   {
    "duration": 17,
    "start_time": "2022-02-13T16:22:53.830Z"
   },
   {
    "duration": 5,
    "start_time": "2022-02-13T16:22:53.848Z"
   },
   {
    "duration": 9,
    "start_time": "2022-02-13T16:22:53.855Z"
   },
   {
    "duration": 341,
    "start_time": "2022-02-13T16:22:53.866Z"
   },
   {
    "duration": -34,
    "start_time": "2022-02-13T16:22:54.246Z"
   },
   {
    "duration": -35,
    "start_time": "2022-02-13T16:22:54.249Z"
   },
   {
    "duration": -36,
    "start_time": "2022-02-13T16:22:54.252Z"
   },
   {
    "duration": -39,
    "start_time": "2022-02-13T16:22:54.256Z"
   },
   {
    "duration": -40,
    "start_time": "2022-02-13T16:22:54.259Z"
   },
   {
    "duration": -41,
    "start_time": "2022-02-13T16:22:54.262Z"
   },
   {
    "duration": -42,
    "start_time": "2022-02-13T16:22:54.265Z"
   },
   {
    "duration": -45,
    "start_time": "2022-02-13T16:22:54.269Z"
   },
   {
    "duration": -47,
    "start_time": "2022-02-13T16:22:54.272Z"
   },
   {
    "duration": -48,
    "start_time": "2022-02-13T16:22:54.275Z"
   },
   {
    "duration": -49,
    "start_time": "2022-02-13T16:22:54.278Z"
   },
   {
    "duration": -50,
    "start_time": "2022-02-13T16:22:54.281Z"
   },
   {
    "duration": -52,
    "start_time": "2022-02-13T16:22:54.284Z"
   },
   {
    "duration": -54,
    "start_time": "2022-02-13T16:22:54.288Z"
   },
   {
    "duration": -56,
    "start_time": "2022-02-13T16:22:54.291Z"
   },
   {
    "duration": -58,
    "start_time": "2022-02-13T16:22:54.294Z"
   },
   {
    "duration": -60,
    "start_time": "2022-02-13T16:22:54.297Z"
   },
   {
    "duration": -61,
    "start_time": "2022-02-13T16:22:54.300Z"
   },
   {
    "duration": -63,
    "start_time": "2022-02-13T16:22:54.303Z"
   },
   {
    "duration": -64,
    "start_time": "2022-02-13T16:22:54.306Z"
   },
   {
    "duration": -66,
    "start_time": "2022-02-13T16:22:54.309Z"
   },
   {
    "duration": -73,
    "start_time": "2022-02-13T16:22:54.317Z"
   },
   {
    "duration": -75,
    "start_time": "2022-02-13T16:22:54.320Z"
   },
   {
    "duration": -77,
    "start_time": "2022-02-13T16:22:54.323Z"
   },
   {
    "duration": -79,
    "start_time": "2022-02-13T16:22:54.326Z"
   },
   {
    "duration": -81,
    "start_time": "2022-02-13T16:22:54.329Z"
   },
   {
    "duration": -83,
    "start_time": "2022-02-13T16:22:54.332Z"
   },
   {
    "duration": -86,
    "start_time": "2022-02-13T16:22:54.336Z"
   },
   {
    "duration": -31,
    "start_time": "2022-02-13T16:22:54.339Z"
   },
   {
    "duration": -33,
    "start_time": "2022-02-13T16:22:54.342Z"
   },
   {
    "duration": -35,
    "start_time": "2022-02-13T16:22:54.345Z"
   },
   {
    "duration": -37,
    "start_time": "2022-02-13T16:22:54.348Z"
   },
   {
    "duration": -38,
    "start_time": "2022-02-13T16:22:54.351Z"
   },
   {
    "duration": -40,
    "start_time": "2022-02-13T16:22:54.354Z"
   },
   {
    "duration": -42,
    "start_time": "2022-02-13T16:22:54.357Z"
   },
   {
    "duration": -43,
    "start_time": "2022-02-13T16:22:54.360Z"
   },
   {
    "duration": -46,
    "start_time": "2022-02-13T16:22:54.364Z"
   },
   {
    "duration": -47,
    "start_time": "2022-02-13T16:22:54.367Z"
   },
   {
    "duration": -49,
    "start_time": "2022-02-13T16:22:54.370Z"
   },
   {
    "duration": -50,
    "start_time": "2022-02-13T16:22:54.373Z"
   },
   {
    "duration": -52,
    "start_time": "2022-02-13T16:22:54.376Z"
   },
   {
    "duration": -53,
    "start_time": "2022-02-13T16:22:54.379Z"
   },
   {
    "duration": -55,
    "start_time": "2022-02-13T16:22:54.382Z"
   },
   {
    "duration": -58,
    "start_time": "2022-02-13T16:22:54.386Z"
   },
   {
    "duration": -59,
    "start_time": "2022-02-13T16:22:54.389Z"
   },
   {
    "duration": -60,
    "start_time": "2022-02-13T16:22:54.392Z"
   },
   {
    "duration": -62,
    "start_time": "2022-02-13T16:22:54.395Z"
   },
   {
    "duration": -63,
    "start_time": "2022-02-13T16:22:54.398Z"
   },
   {
    "duration": -69,
    "start_time": "2022-02-13T16:22:54.405Z"
   },
   {
    "duration": -71,
    "start_time": "2022-02-13T16:22:54.408Z"
   },
   {
    "duration": -75,
    "start_time": "2022-02-13T16:22:54.414Z"
   },
   {
    "duration": -77,
    "start_time": "2022-02-13T16:22:54.417Z"
   },
   {
    "duration": -78,
    "start_time": "2022-02-13T16:22:54.420Z"
   },
   {
    "duration": -81,
    "start_time": "2022-02-13T16:22:54.424Z"
   },
   {
    "duration": -85,
    "start_time": "2022-02-13T16:22:54.429Z"
   },
   {
    "duration": -87,
    "start_time": "2022-02-13T16:22:54.432Z"
   },
   {
    "duration": -89,
    "start_time": "2022-02-13T16:22:54.436Z"
   },
   {
    "duration": -92,
    "start_time": "2022-02-13T16:22:54.439Z"
   },
   {
    "duration": -94,
    "start_time": "2022-02-13T16:22:54.442Z"
   },
   {
    "duration": 91,
    "start_time": "2022-02-13T16:25:20.227Z"
   },
   {
    "duration": 48,
    "start_time": "2022-02-13T16:26:27.765Z"
   },
   {
    "duration": 1222,
    "start_time": "2022-02-13T16:26:57.475Z"
   },
   {
    "duration": 406,
    "start_time": "2022-02-13T16:26:58.699Z"
   },
   {
    "duration": 37,
    "start_time": "2022-02-13T16:26:59.108Z"
   },
   {
    "duration": 90,
    "start_time": "2022-02-13T16:26:59.147Z"
   },
   {
    "duration": 11,
    "start_time": "2022-02-13T16:26:59.239Z"
   },
   {
    "duration": 68,
    "start_time": "2022-02-13T16:26:59.251Z"
   },
   {
    "duration": 25,
    "start_time": "2022-02-13T16:26:59.320Z"
   },
   {
    "duration": 35,
    "start_time": "2022-02-13T16:26:59.348Z"
   },
   {
    "duration": 5,
    "start_time": "2022-02-13T16:26:59.386Z"
   },
   {
    "duration": 32,
    "start_time": "2022-02-13T16:26:59.393Z"
   },
   {
    "duration": 22,
    "start_time": "2022-02-13T16:26:59.428Z"
   },
   {
    "duration": 9,
    "start_time": "2022-02-13T16:26:59.452Z"
   },
   {
    "duration": 37,
    "start_time": "2022-02-13T16:26:59.464Z"
   },
   {
    "duration": 24,
    "start_time": "2022-02-13T16:26:59.503Z"
   },
   {
    "duration": 21,
    "start_time": "2022-02-13T16:26:59.530Z"
   },
   {
    "duration": 6,
    "start_time": "2022-02-13T16:26:59.554Z"
   },
   {
    "duration": 24,
    "start_time": "2022-02-13T16:26:59.562Z"
   },
   {
    "duration": 24,
    "start_time": "2022-02-13T16:26:59.589Z"
   },
   {
    "duration": 17,
    "start_time": "2022-02-13T16:26:59.615Z"
   },
   {
    "duration": 59,
    "start_time": "2022-02-13T16:26:59.634Z"
   },
   {
    "duration": 55,
    "start_time": "2022-02-13T16:26:59.695Z"
   },
   {
    "duration": 6,
    "start_time": "2022-02-13T16:26:59.752Z"
   },
   {
    "duration": 45,
    "start_time": "2022-02-13T16:26:59.762Z"
   },
   {
    "duration": 6,
    "start_time": "2022-02-13T16:26:59.810Z"
   },
   {
    "duration": 11,
    "start_time": "2022-02-13T16:26:59.818Z"
   },
   {
    "duration": 32,
    "start_time": "2022-02-13T16:26:59.832Z"
   },
   {
    "duration": 5,
    "start_time": "2022-02-13T16:26:59.867Z"
   },
   {
    "duration": 36,
    "start_time": "2022-02-13T16:26:59.874Z"
   },
   {
    "duration": 12,
    "start_time": "2022-02-13T16:26:59.912Z"
   },
   {
    "duration": 12,
    "start_time": "2022-02-13T16:26:59.926Z"
   },
   {
    "duration": 15,
    "start_time": "2022-02-13T16:26:59.940Z"
   },
   {
    "duration": 7,
    "start_time": "2022-02-13T16:26:59.957Z"
   },
   {
    "duration": 11,
    "start_time": "2022-02-13T16:26:59.966Z"
   },
   {
    "duration": 34,
    "start_time": "2022-02-13T16:26:59.979Z"
   },
   {
    "duration": 9,
    "start_time": "2022-02-13T16:27:00.016Z"
   },
   {
    "duration": 34,
    "start_time": "2022-02-13T16:27:00.027Z"
   },
   {
    "duration": 4,
    "start_time": "2022-02-13T16:27:00.064Z"
   },
   {
    "duration": 10,
    "start_time": "2022-02-13T16:27:00.070Z"
   },
   {
    "duration": 26,
    "start_time": "2022-02-13T16:27:00.082Z"
   },
   {
    "duration": 41,
    "start_time": "2022-02-13T16:27:00.110Z"
   },
   {
    "duration": 11,
    "start_time": "2022-02-13T16:27:00.153Z"
   },
   {
    "duration": 51,
    "start_time": "2022-02-13T16:27:00.166Z"
   },
   {
    "duration": 3,
    "start_time": "2022-02-13T16:27:00.219Z"
   },
   {
    "duration": 15,
    "start_time": "2022-02-13T16:27:00.224Z"
   },
   {
    "duration": 13,
    "start_time": "2022-02-13T16:27:00.241Z"
   },
   {
    "duration": 20,
    "start_time": "2022-02-13T16:27:00.256Z"
   },
   {
    "duration": 62,
    "start_time": "2022-02-13T16:27:00.278Z"
   },
   {
    "duration": 4,
    "start_time": "2022-02-13T16:27:00.342Z"
   },
   {
    "duration": 11,
    "start_time": "2022-02-13T16:27:00.348Z"
   },
   {
    "duration": 14,
    "start_time": "2022-02-13T16:27:00.362Z"
   },
   {
    "duration": 38,
    "start_time": "2022-02-13T16:27:00.379Z"
   },
   {
    "duration": 52,
    "start_time": "2022-02-13T16:27:00.420Z"
   },
   {
    "duration": 4,
    "start_time": "2022-02-13T16:27:00.474Z"
   },
   {
    "duration": 12,
    "start_time": "2022-02-13T16:27:00.480Z"
   },
   {
    "duration": 13,
    "start_time": "2022-02-13T16:27:00.494Z"
   },
   {
    "duration": 21,
    "start_time": "2022-02-13T16:27:00.509Z"
   },
   {
    "duration": 255,
    "start_time": "2022-02-13T16:27:00.532Z"
   },
   {
    "duration": 223,
    "start_time": "2022-02-13T16:27:00.789Z"
   },
   {
    "duration": 227,
    "start_time": "2022-02-13T16:27:01.014Z"
   },
   {
    "duration": 258,
    "start_time": "2022-02-13T16:27:01.243Z"
   },
   {
    "duration": 227,
    "start_time": "2022-02-13T16:27:01.503Z"
   },
   {
    "duration": 225,
    "start_time": "2022-02-13T16:27:01.732Z"
   },
   {
    "duration": 254,
    "start_time": "2022-02-13T16:27:01.959Z"
   },
   {
    "duration": 228,
    "start_time": "2022-02-13T16:27:02.215Z"
   },
   {
    "duration": 307,
    "start_time": "2022-02-13T16:27:02.445Z"
   },
   {
    "duration": 7,
    "start_time": "2022-02-13T16:27:02.754Z"
   },
   {
    "duration": 22,
    "start_time": "2022-02-13T16:27:02.763Z"
   },
   {
    "duration": 25,
    "start_time": "2022-02-13T16:27:02.791Z"
   },
   {
    "duration": 15,
    "start_time": "2022-02-13T16:27:02.819Z"
   },
   {
    "duration": 21,
    "start_time": "2022-02-13T16:27:02.836Z"
   },
   {
    "duration": 32,
    "start_time": "2022-02-13T16:27:02.859Z"
   },
   {
    "duration": 24,
    "start_time": "2022-02-13T16:27:02.893Z"
   },
   {
    "duration": 12,
    "start_time": "2022-02-13T16:27:02.919Z"
   },
   {
    "duration": 11,
    "start_time": "2022-02-13T16:27:02.933Z"
   },
   {
    "duration": 9,
    "start_time": "2022-02-13T16:27:02.947Z"
   },
   {
    "duration": 14,
    "start_time": "2022-02-13T16:27:02.958Z"
   },
   {
    "duration": 14,
    "start_time": "2022-02-13T16:27:02.974Z"
   },
   {
    "duration": 10,
    "start_time": "2022-02-13T16:30:35.687Z"
   },
   {
    "duration": 14,
    "start_time": "2022-02-13T16:31:09.448Z"
   },
   {
    "duration": 21,
    "start_time": "2022-02-13T16:32:13.666Z"
   },
   {
    "duration": 387,
    "start_time": "2022-02-13T16:35:28.289Z"
   },
   {
    "duration": 9,
    "start_time": "2022-02-13T16:35:41.345Z"
   },
   {
    "duration": 6,
    "start_time": "2022-02-13T16:36:00.763Z"
   },
   {
    "duration": 7,
    "start_time": "2022-02-13T16:37:22.669Z"
   },
   {
    "duration": 11,
    "start_time": "2022-02-13T16:38:05.608Z"
   },
   {
    "duration": 10,
    "start_time": "2022-02-13T16:40:10.577Z"
   },
   {
    "duration": 19,
    "start_time": "2022-02-13T16:40:32.546Z"
   },
   {
    "duration": 6,
    "start_time": "2022-02-13T16:42:37.112Z"
   },
   {
    "duration": 19,
    "start_time": "2022-02-13T16:42:49.057Z"
   },
   {
    "duration": 5,
    "start_time": "2022-02-13T16:49:42.513Z"
   },
   {
    "duration": 1274,
    "start_time": "2022-02-13T17:00:16.814Z"
   },
   {
    "duration": 419,
    "start_time": "2022-02-13T17:00:18.090Z"
   },
   {
    "duration": 37,
    "start_time": "2022-02-13T17:00:18.511Z"
   },
   {
    "duration": 90,
    "start_time": "2022-02-13T17:00:18.550Z"
   },
   {
    "duration": 10,
    "start_time": "2022-02-13T17:00:18.642Z"
   },
   {
    "duration": 73,
    "start_time": "2022-02-13T17:00:18.654Z"
   },
   {
    "duration": 24,
    "start_time": "2022-02-13T17:00:18.729Z"
   },
   {
    "duration": 22,
    "start_time": "2022-02-13T17:00:18.756Z"
   },
   {
    "duration": 29,
    "start_time": "2022-02-13T17:00:18.780Z"
   },
   {
    "duration": 13,
    "start_time": "2022-02-13T17:00:18.811Z"
   },
   {
    "duration": 14,
    "start_time": "2022-02-13T17:00:18.826Z"
   },
   {
    "duration": 8,
    "start_time": "2022-02-13T17:00:18.842Z"
   },
   {
    "duration": 30,
    "start_time": "2022-02-13T17:00:18.852Z"
   },
   {
    "duration": 32,
    "start_time": "2022-02-13T17:00:18.884Z"
   },
   {
    "duration": 17,
    "start_time": "2022-02-13T17:00:18.918Z"
   },
   {
    "duration": 5,
    "start_time": "2022-02-13T17:00:18.937Z"
   },
   {
    "duration": 13,
    "start_time": "2022-02-13T17:00:18.943Z"
   },
   {
    "duration": 11,
    "start_time": "2022-02-13T17:00:18.958Z"
   },
   {
    "duration": 11,
    "start_time": "2022-02-13T17:00:18.971Z"
   },
   {
    "duration": 56,
    "start_time": "2022-02-13T17:00:18.984Z"
   },
   {
    "duration": 79,
    "start_time": "2022-02-13T17:00:19.041Z"
   },
   {
    "duration": 6,
    "start_time": "2022-02-13T17:00:19.122Z"
   },
   {
    "duration": 8,
    "start_time": "2022-02-13T17:00:19.134Z"
   },
   {
    "duration": 25,
    "start_time": "2022-02-13T17:00:19.146Z"
   },
   {
    "duration": 38,
    "start_time": "2022-02-13T17:00:19.173Z"
   },
   {
    "duration": 7,
    "start_time": "2022-02-13T17:00:19.213Z"
   },
   {
    "duration": 19,
    "start_time": "2022-02-13T17:00:19.222Z"
   },
   {
    "duration": 32,
    "start_time": "2022-02-13T17:00:19.243Z"
   },
   {
    "duration": 6,
    "start_time": "2022-02-13T17:00:19.277Z"
   },
   {
    "duration": 31,
    "start_time": "2022-02-13T17:00:19.286Z"
   },
   {
    "duration": 20,
    "start_time": "2022-02-13T17:00:19.320Z"
   },
   {
    "duration": 20,
    "start_time": "2022-02-13T17:00:19.342Z"
   },
   {
    "duration": 12,
    "start_time": "2022-02-13T17:00:19.365Z"
   },
   {
    "duration": 42,
    "start_time": "2022-02-13T17:00:19.379Z"
   },
   {
    "duration": 8,
    "start_time": "2022-02-13T17:00:19.423Z"
   },
   {
    "duration": 17,
    "start_time": "2022-02-13T17:00:19.433Z"
   },
   {
    "duration": 4,
    "start_time": "2022-02-13T17:00:19.453Z"
   },
   {
    "duration": 8,
    "start_time": "2022-02-13T17:00:19.460Z"
   },
   {
    "duration": 7,
    "start_time": "2022-02-13T17:00:19.470Z"
   },
   {
    "duration": 34,
    "start_time": "2022-02-13T17:00:19.479Z"
   },
   {
    "duration": 50,
    "start_time": "2022-02-13T17:00:19.515Z"
   },
   {
    "duration": 4,
    "start_time": "2022-02-13T17:00:19.568Z"
   },
   {
    "duration": 15,
    "start_time": "2022-02-13T17:00:19.574Z"
   },
   {
    "duration": 17,
    "start_time": "2022-02-13T17:00:19.591Z"
   },
   {
    "duration": 38,
    "start_time": "2022-02-13T17:00:19.610Z"
   },
   {
    "duration": 17,
    "start_time": "2022-02-13T17:00:19.651Z"
   },
   {
    "duration": 54,
    "start_time": "2022-02-13T17:00:19.670Z"
   },
   {
    "duration": 3,
    "start_time": "2022-02-13T17:00:19.727Z"
   },
   {
    "duration": 10,
    "start_time": "2022-02-13T17:00:19.732Z"
   },
   {
    "duration": 14,
    "start_time": "2022-02-13T17:00:19.744Z"
   },
   {
    "duration": 20,
    "start_time": "2022-02-13T17:00:19.760Z"
   },
   {
    "duration": 39,
    "start_time": "2022-02-13T17:00:19.783Z"
   },
   {
    "duration": 4,
    "start_time": "2022-02-13T17:00:19.824Z"
   },
   {
    "duration": 9,
    "start_time": "2022-02-13T17:00:19.830Z"
   },
   {
    "duration": 12,
    "start_time": "2022-02-13T17:00:19.841Z"
   },
   {
    "duration": 17,
    "start_time": "2022-02-13T17:00:19.855Z"
   },
   {
    "duration": 47,
    "start_time": "2022-02-13T17:00:19.874Z"
   },
   {
    "duration": 3,
    "start_time": "2022-02-13T17:00:19.924Z"
   },
   {
    "duration": 11,
    "start_time": "2022-02-13T17:00:19.929Z"
   },
   {
    "duration": 12,
    "start_time": "2022-02-13T17:00:19.942Z"
   },
   {
    "duration": 22,
    "start_time": "2022-02-13T17:00:19.956Z"
   },
   {
    "duration": 261,
    "start_time": "2022-02-13T17:00:19.980Z"
   },
   {
    "duration": 221,
    "start_time": "2022-02-13T17:00:20.243Z"
   },
   {
    "duration": 230,
    "start_time": "2022-02-13T17:00:20.465Z"
   },
   {
    "duration": 243,
    "start_time": "2022-02-13T17:00:20.697Z"
   },
   {
    "duration": 240,
    "start_time": "2022-02-13T17:00:20.942Z"
   },
   {
    "duration": 244,
    "start_time": "2022-02-13T17:00:21.185Z"
   },
   {
    "duration": 252,
    "start_time": "2022-02-13T17:00:21.435Z"
   },
   {
    "duration": 225,
    "start_time": "2022-02-13T17:00:21.690Z"
   },
   {
    "duration": 290,
    "start_time": "2022-02-13T17:00:21.917Z"
   },
   {
    "duration": 9,
    "start_time": "2022-02-13T17:00:22.209Z"
   },
   {
    "duration": 3,
    "start_time": "2022-02-13T17:00:22.220Z"
   },
   {
    "duration": 22,
    "start_time": "2022-02-13T17:00:22.225Z"
   },
   {
    "duration": 10,
    "start_time": "2022-02-13T17:00:22.250Z"
   },
   {
    "duration": 44,
    "start_time": "2022-02-13T17:00:22.263Z"
   },
   {
    "duration": 27,
    "start_time": "2022-02-13T17:00:22.312Z"
   },
   {
    "duration": 14,
    "start_time": "2022-02-13T17:00:22.341Z"
   },
   {
    "duration": 12,
    "start_time": "2022-02-13T17:00:22.357Z"
   },
   {
    "duration": 36,
    "start_time": "2022-02-13T17:00:22.371Z"
   },
   {
    "duration": 15,
    "start_time": "2022-02-13T17:00:22.410Z"
   },
   {
    "duration": 14,
    "start_time": "2022-02-13T17:00:22.427Z"
   },
   {
    "duration": 14,
    "start_time": "2022-02-13T17:00:22.443Z"
   },
   {
    "duration": 1202,
    "start_time": "2022-02-14T09:46:49.807Z"
   },
   {
    "duration": 412,
    "start_time": "2022-02-14T09:46:51.011Z"
   },
   {
    "duration": 34,
    "start_time": "2022-02-14T09:46:51.669Z"
   },
   {
    "duration": 68,
    "start_time": "2022-02-14T09:46:52.447Z"
   },
   {
    "duration": 11,
    "start_time": "2022-02-14T09:46:53.011Z"
   },
   {
    "duration": 40,
    "start_time": "2022-02-14T09:46:55.468Z"
   },
   {
    "duration": 27,
    "start_time": "2022-02-14T09:46:55.693Z"
   },
   {
    "duration": 22,
    "start_time": "2022-02-14T09:46:55.911Z"
   },
   {
    "duration": 4,
    "start_time": "2022-02-14T09:46:56.136Z"
   },
   {
    "duration": 7,
    "start_time": "2022-02-14T09:46:56.343Z"
   },
   {
    "duration": 11,
    "start_time": "2022-02-14T09:46:57.325Z"
   },
   {
    "duration": 5,
    "start_time": "2022-02-14T09:46:58.172Z"
   },
   {
    "duration": 26,
    "start_time": "2022-02-14T09:46:58.773Z"
   },
   {
    "duration": 19,
    "start_time": "2022-02-14T09:46:59.060Z"
   },
   {
    "duration": 18,
    "start_time": "2022-02-14T09:46:59.304Z"
   },
   {
    "duration": 5,
    "start_time": "2022-02-14T09:46:59.643Z"
   },
   {
    "duration": 5,
    "start_time": "2022-02-14T09:47:00.094Z"
   },
   {
    "duration": 8,
    "start_time": "2022-02-14T09:47:01.002Z"
   },
   {
    "duration": 9,
    "start_time": "2022-02-14T09:47:01.491Z"
   },
   {
    "duration": 41,
    "start_time": "2022-02-14T09:47:02.082Z"
   },
   {
    "duration": 52,
    "start_time": "2022-02-14T09:47:03.780Z"
   },
   {
    "duration": 6,
    "start_time": "2022-02-14T09:47:04.618Z"
   },
   {
    "duration": 7,
    "start_time": "2022-02-14T09:47:05.075Z"
   },
   {
    "duration": 23,
    "start_time": "2022-02-14T09:47:09.389Z"
   },
   {
    "duration": 5,
    "start_time": "2022-02-14T09:47:09.983Z"
   },
   {
    "duration": 6,
    "start_time": "2022-02-14T09:47:10.636Z"
   },
   {
    "duration": 7,
    "start_time": "2022-02-14T09:47:10.974Z"
   },
   {
    "duration": 22,
    "start_time": "2022-02-14T09:47:14.517Z"
   },
   {
    "duration": 5,
    "start_time": "2022-02-14T09:47:15.253Z"
   },
   {
    "duration": 8,
    "start_time": "2022-02-14T09:47:15.889Z"
   },
   {
    "duration": 9,
    "start_time": "2022-02-14T09:47:19.957Z"
   },
   {
    "duration": 10,
    "start_time": "2022-02-14T09:47:27.744Z"
   },
   {
    "duration": 10,
    "start_time": "2022-02-14T09:47:28.568Z"
   },
   {
    "duration": 18,
    "start_time": "2022-02-14T09:47:29.312Z"
   },
   {
    "duration": 4,
    "start_time": "2022-02-14T09:47:33.843Z"
   },
   {
    "duration": 6444,
    "start_time": "2022-02-14T09:47:37.136Z"
   },
   {
    "duration": 10,
    "start_time": "2022-02-14T09:48:16.371Z"
   },
   {
    "duration": 7241,
    "start_time": "2022-02-14T09:50:14.520Z"
   },
   {
    "duration": 8340,
    "start_time": "2022-02-14T09:52:13.124Z"
   },
   {
    "duration": 90,
    "start_time": "2022-02-14T09:55:49.980Z"
   },
   {
    "duration": 362,
    "start_time": "2022-02-14T09:56:45.542Z"
   },
   {
    "duration": 4415,
    "start_time": "2022-02-14T10:03:46.457Z"
   },
   {
    "duration": 14,
    "start_time": "2022-02-14T10:04:59.809Z"
   },
   {
    "duration": 13,
    "start_time": "2022-02-14T10:05:02.333Z"
   },
   {
    "duration": 4451,
    "start_time": "2022-02-14T10:05:50.213Z"
   },
   {
    "duration": 1034,
    "start_time": "2022-02-14T10:08:03.452Z"
   },
   {
    "duration": 398,
    "start_time": "2022-02-14T10:08:04.488Z"
   },
   {
    "duration": 33,
    "start_time": "2022-02-14T10:08:05.172Z"
   },
   {
    "duration": 69,
    "start_time": "2022-02-14T10:08:05.767Z"
   },
   {
    "duration": 13,
    "start_time": "2022-02-14T10:08:06.113Z"
   },
   {
    "duration": 36,
    "start_time": "2022-02-14T10:08:07.590Z"
   },
   {
    "duration": 24,
    "start_time": "2022-02-14T10:08:07.753Z"
   },
   {
    "duration": 22,
    "start_time": "2022-02-14T10:08:07.909Z"
   },
   {
    "duration": 6,
    "start_time": "2022-02-14T10:08:08.057Z"
   },
   {
    "duration": 6,
    "start_time": "2022-02-14T10:08:08.193Z"
   },
   {
    "duration": 11,
    "start_time": "2022-02-14T10:08:08.953Z"
   },
   {
    "duration": 5,
    "start_time": "2022-02-14T10:08:09.628Z"
   },
   {
    "duration": 25,
    "start_time": "2022-02-14T10:08:09.971Z"
   },
   {
    "duration": 21,
    "start_time": "2022-02-14T10:08:10.151Z"
   },
   {
    "duration": 18,
    "start_time": "2022-02-14T10:08:10.325Z"
   },
   {
    "duration": 5,
    "start_time": "2022-02-14T10:08:10.486Z"
   },
   {
    "duration": 5,
    "start_time": "2022-02-14T10:08:10.641Z"
   },
   {
    "duration": 6,
    "start_time": "2022-02-14T10:08:11.261Z"
   },
   {
    "duration": 8,
    "start_time": "2022-02-14T10:08:11.737Z"
   },
   {
    "duration": 39,
    "start_time": "2022-02-14T10:08:12.068Z"
   },
   {
    "duration": 53,
    "start_time": "2022-02-14T10:08:12.744Z"
   },
   {
    "duration": 6,
    "start_time": "2022-02-14T10:08:13.055Z"
   },
   {
    "duration": 8,
    "start_time": "2022-02-14T10:08:13.207Z"
   },
   {
    "duration": 23,
    "start_time": "2022-02-14T10:08:13.853Z"
   },
   {
    "duration": 5,
    "start_time": "2022-02-14T10:08:14.181Z"
   },
   {
    "duration": 6,
    "start_time": "2022-02-14T10:08:14.478Z"
   },
   {
    "duration": 6,
    "start_time": "2022-02-14T10:08:15.700Z"
   },
   {
    "duration": 31,
    "start_time": "2022-02-14T10:08:15.709Z"
   },
   {
    "duration": 4,
    "start_time": "2022-02-14T10:08:16.799Z"
   },
   {
    "duration": 7,
    "start_time": "2022-02-14T10:08:17.260Z"
   },
   {
    "duration": 8,
    "start_time": "2022-02-14T10:08:18.756Z"
   },
   {
    "duration": 11,
    "start_time": "2022-02-14T10:08:22.727Z"
   },
   {
    "duration": 8,
    "start_time": "2022-02-14T10:08:23.241Z"
   },
   {
    "duration": 16,
    "start_time": "2022-02-14T10:08:23.828Z"
   },
   {
    "duration": 4,
    "start_time": "2022-02-14T10:08:26.843Z"
   },
   {
    "duration": 4501,
    "start_time": "2022-02-14T10:08:30.589Z"
   },
   {
    "duration": 10,
    "start_time": "2022-02-14T10:10:04.559Z"
   },
   {
    "duration": 10,
    "start_time": "2022-02-14T10:10:05.872Z"
   },
   {
    "duration": 307,
    "start_time": "2022-02-14T10:17:21.304Z"
   },
   {
    "duration": 339,
    "start_time": "2022-02-14T10:17:27.210Z"
   },
   {
    "duration": 387,
    "start_time": "2022-02-14T10:17:57.683Z"
   },
   {
    "duration": 247,
    "start_time": "2022-02-14T10:21:06.444Z"
   },
   {
    "duration": 41,
    "start_time": "2022-02-14T10:21:14.155Z"
   },
   {
    "duration": 13,
    "start_time": "2022-02-14T10:21:40.623Z"
   },
   {
    "duration": 1544,
    "start_time": "2022-02-15T05:35:15.417Z"
   },
   {
    "duration": 1365,
    "start_time": "2022-02-15T05:35:16.964Z"
   },
   {
    "duration": 49,
    "start_time": "2022-02-15T05:35:18.332Z"
   },
   {
    "duration": 108,
    "start_time": "2022-02-15T05:35:18.383Z"
   },
   {
    "duration": 14,
    "start_time": "2022-02-15T05:35:18.494Z"
   },
   {
    "duration": 48,
    "start_time": "2022-02-15T05:35:20.564Z"
   },
   {
    "duration": 32,
    "start_time": "2022-02-15T05:35:20.698Z"
   },
   {
    "duration": 26,
    "start_time": "2022-02-15T05:35:20.889Z"
   },
   {
    "duration": 7,
    "start_time": "2022-02-15T05:35:21.200Z"
   },
   {
    "duration": 9,
    "start_time": "2022-02-15T05:35:21.378Z"
   },
   {
    "duration": 15,
    "start_time": "2022-02-15T05:35:23.098Z"
   },
   {
    "duration": 7,
    "start_time": "2022-02-15T05:35:23.584Z"
   },
   {
    "duration": 33,
    "start_time": "2022-02-15T05:35:23.999Z"
   },
   {
    "duration": 25,
    "start_time": "2022-02-15T05:35:24.228Z"
   },
   {
    "duration": 21,
    "start_time": "2022-02-15T05:35:24.404Z"
   },
   {
    "duration": 5,
    "start_time": "2022-02-15T05:35:24.560Z"
   },
   {
    "duration": 10,
    "start_time": "2022-02-15T05:35:24.797Z"
   },
   {
    "duration": 7,
    "start_time": "2022-02-15T05:35:25.863Z"
   },
   {
    "duration": 9,
    "start_time": "2022-02-15T05:35:26.465Z"
   },
   {
    "duration": 54,
    "start_time": "2022-02-15T05:35:26.895Z"
   },
   {
    "duration": 671,
    "start_time": "2022-02-15T05:35:27.334Z"
   },
   {
    "duration": 595,
    "start_time": "2022-02-15T05:35:28.007Z"
   },
   {
    "duration": 28,
    "start_time": "2022-02-15T05:35:28.605Z"
   },
   {
    "duration": 33,
    "start_time": "2022-02-15T05:35:28.636Z"
   },
   {
    "duration": 60,
    "start_time": "2022-02-15T05:35:31.721Z"
   },
   {
    "duration": 7,
    "start_time": "2022-02-15T05:35:32.584Z"
   },
   {
    "duration": 10,
    "start_time": "2022-02-15T05:35:33.045Z"
   },
   {
    "duration": 33,
    "start_time": "2022-02-15T05:35:33.575Z"
   },
   {
    "duration": 7,
    "start_time": "2022-02-15T05:35:34.194Z"
   },
   {
    "duration": 8,
    "start_time": "2022-02-15T05:35:34.817Z"
   },
   {
    "duration": 8,
    "start_time": "2022-02-15T05:35:35.110Z"
   },
   {
    "duration": 30,
    "start_time": "2022-02-15T05:35:35.857Z"
   },
   {
    "duration": 8,
    "start_time": "2022-02-15T05:35:36.627Z"
   },
   {
    "duration": 10,
    "start_time": "2022-02-15T05:35:37.279Z"
   },
   {
    "duration": 12,
    "start_time": "2022-02-15T05:35:39.281Z"
   },
   {
    "duration": 15,
    "start_time": "2022-02-15T05:35:45.616Z"
   },
   {
    "duration": 13,
    "start_time": "2022-02-15T05:35:47.335Z"
   },
   {
    "duration": 25,
    "start_time": "2022-02-15T05:35:48.966Z"
   },
   {
    "duration": 10,
    "start_time": "2022-02-15T05:42:34.256Z"
   },
   {
    "duration": 7,
    "start_time": "2022-02-15T05:44:17.922Z"
   },
   {
    "duration": 21,
    "start_time": "2022-02-15T05:44:20.702Z"
   },
   {
    "duration": 562,
    "start_time": "2022-02-15T05:45:13.171Z"
   },
   {
    "duration": 737,
    "start_time": "2022-02-15T05:45:17.809Z"
   },
   {
    "duration": 642,
    "start_time": "2022-02-15T05:45:21.583Z"
   },
   {
    "duration": 14,
    "start_time": "2022-02-15T05:46:03.167Z"
   },
   {
    "duration": 14,
    "start_time": "2022-02-15T05:46:09.680Z"
   },
   {
    "duration": 40,
    "start_time": "2022-02-15T05:46:17.274Z"
   },
   {
    "duration": 4,
    "start_time": "2022-02-15T05:46:18.269Z"
   },
   {
    "duration": 7,
    "start_time": "2022-02-15T05:46:18.827Z"
   },
   {
    "duration": 5,
    "start_time": "2022-02-15T05:46:19.416Z"
   },
   {
    "duration": 35,
    "start_time": "2022-02-15T05:46:20.153Z"
   },
   {
    "duration": 16,
    "start_time": "2022-02-15T05:46:20.618Z"
   },
   {
    "duration": 33,
    "start_time": "2022-02-15T05:46:37.295Z"
   },
   {
    "duration": 4,
    "start_time": "2022-02-15T05:46:37.976Z"
   },
   {
    "duration": 5,
    "start_time": "2022-02-15T05:46:38.638Z"
   },
   {
    "duration": 8,
    "start_time": "2022-02-15T05:46:39.299Z"
   },
   {
    "duration": 11,
    "start_time": "2022-02-15T05:46:40.124Z"
   },
   {
    "duration": 227,
    "start_time": "2022-02-15T05:46:42.425Z"
   },
   {
    "duration": 230,
    "start_time": "2022-02-15T05:49:25.378Z"
   },
   {
    "duration": 228,
    "start_time": "2022-02-15T05:49:52.530Z"
   },
   {
    "duration": 34,
    "start_time": "2022-02-15T05:49:54.439Z"
   },
   {
    "duration": 5,
    "start_time": "2022-02-15T05:49:55.042Z"
   },
   {
    "duration": 5,
    "start_time": "2022-02-15T05:49:55.452Z"
   },
   {
    "duration": 9,
    "start_time": "2022-02-15T05:49:55.826Z"
   },
   {
    "duration": 10,
    "start_time": "2022-02-15T05:49:57.992Z"
   },
   {
    "duration": 219,
    "start_time": "2022-02-15T05:49:58.005Z"
   },
   {
    "duration": 224,
    "start_time": "2022-02-15T05:50:28.185Z"
   },
   {
    "duration": 32,
    "start_time": "2022-02-15T05:50:33.403Z"
   },
   {
    "duration": 4,
    "start_time": "2022-02-15T05:50:33.831Z"
   },
   {
    "duration": 6,
    "start_time": "2022-02-15T05:50:34.194Z"
   },
   {
    "duration": 8,
    "start_time": "2022-02-15T05:50:34.506Z"
   },
   {
    "duration": 11,
    "start_time": "2022-02-15T05:50:35.052Z"
   },
   {
    "duration": 246,
    "start_time": "2022-02-15T05:50:36.591Z"
   },
   {
    "duration": 240,
    "start_time": "2022-02-15T05:53:08.027Z"
   },
   {
    "duration": 488,
    "start_time": "2022-02-15T05:53:42.995Z"
   },
   {
    "duration": 392,
    "start_time": "2022-02-15T05:54:05.781Z"
   },
   {
    "duration": 337,
    "start_time": "2022-02-15T05:54:14.426Z"
   },
   {
    "duration": 9,
    "start_time": "2022-02-15T05:54:16.908Z"
   },
   {
    "duration": 409,
    "start_time": "2022-02-15T05:54:19.952Z"
   },
   {
    "duration": 12,
    "start_time": "2022-02-15T05:54:23.676Z"
   },
   {
    "duration": 9,
    "start_time": "2022-02-15T05:54:25.041Z"
   },
   {
    "duration": 6,
    "start_time": "2022-02-15T05:54:26.414Z"
   },
   {
    "duration": 411,
    "start_time": "2022-02-15T05:54:59.489Z"
   },
   {
    "duration": 348,
    "start_time": "2022-02-15T05:55:00.705Z"
   },
   {
    "duration": 9,
    "start_time": "2022-02-15T05:55:06.586Z"
   },
   {
    "duration": 394,
    "start_time": "2022-02-15T05:55:07.479Z"
   },
   {
    "duration": 9,
    "start_time": "2022-02-15T05:55:13.343Z"
   },
   {
    "duration": 11,
    "start_time": "2022-02-15T05:55:17.674Z"
   },
   {
    "duration": 5,
    "start_time": "2022-02-15T05:55:19.419Z"
   },
   {
    "duration": 416,
    "start_time": "2022-02-15T05:57:10.163Z"
   },
   {
    "duration": 348,
    "start_time": "2022-02-15T05:57:20.484Z"
   },
   {
    "duration": 12,
    "start_time": "2022-02-15T05:57:21.901Z"
   },
   {
    "duration": 397,
    "start_time": "2022-02-15T05:57:23.937Z"
   },
   {
    "duration": 11,
    "start_time": "2022-02-15T05:57:54.853Z"
   },
   {
    "duration": 426,
    "start_time": "2022-02-15T05:57:58.862Z"
   },
   {
    "duration": 22,
    "start_time": "2022-02-15T05:58:30.462Z"
   },
   {
    "duration": 17,
    "start_time": "2022-02-15T05:59:01.177Z"
   },
   {
    "duration": 398,
    "start_time": "2022-02-15T05:59:16.029Z"
   },
   {
    "duration": 9,
    "start_time": "2022-02-15T05:59:17.691Z"
   },
   {
    "duration": 9,
    "start_time": "2022-02-15T05:59:18.814Z"
   },
   {
    "duration": 6,
    "start_time": "2022-02-15T05:59:19.414Z"
   },
   {
    "duration": 528,
    "start_time": "2022-02-15T05:59:22.586Z"
   },
   {
    "duration": 365,
    "start_time": "2022-02-15T05:59:23.117Z"
   },
   {
    "duration": 11,
    "start_time": "2022-02-15T05:59:24.219Z"
   },
   {
    "duration": 10,
    "start_time": "2022-02-15T05:59:25.154Z"
   },
   {
    "duration": 13,
    "start_time": "2022-02-15T05:59:26.075Z"
   },
   {
    "duration": 6,
    "start_time": "2022-02-15T05:59:27.480Z"
   },
   {
    "duration": 442,
    "start_time": "2022-02-15T06:00:35.208Z"
   },
   {
    "duration": 351,
    "start_time": "2022-02-15T06:00:36.135Z"
   },
   {
    "duration": 10,
    "start_time": "2022-02-15T06:00:43.898Z"
   },
   {
    "duration": 448,
    "start_time": "2022-02-15T06:00:44.523Z"
   },
   {
    "duration": 347,
    "start_time": "2022-02-15T06:00:52.113Z"
   },
   {
    "duration": 11,
    "start_time": "2022-02-15T06:00:57.201Z"
   },
   {
    "duration": 446,
    "start_time": "2022-02-15T06:00:57.691Z"
   },
   {
    "duration": 9,
    "start_time": "2022-02-15T06:01:00.636Z"
   },
   {
    "duration": 8,
    "start_time": "2022-02-15T06:01:01.609Z"
   },
   {
    "duration": 5,
    "start_time": "2022-02-15T06:01:02.025Z"
   },
   {
    "duration": 476,
    "start_time": "2022-02-15T06:01:03.257Z"
   },
   {
    "duration": 345,
    "start_time": "2022-02-15T06:01:04.042Z"
   },
   {
    "duration": 10,
    "start_time": "2022-02-15T06:01:05.541Z"
   },
   {
    "duration": 10,
    "start_time": "2022-02-15T06:01:06.664Z"
   },
   {
    "duration": 6,
    "start_time": "2022-02-15T06:01:07.098Z"
   },
   {
    "duration": 12,
    "start_time": "2022-02-15T06:08:27.605Z"
   },
   {
    "duration": 4,
    "start_time": "2022-02-15T06:09:40.846Z"
   },
   {
    "duration": 5,
    "start_time": "2022-02-15T06:09:42.904Z"
   },
   {
    "duration": 5,
    "start_time": "2022-02-15T06:09:45.225Z"
   },
   {
    "duration": 19,
    "start_time": "2022-02-15T06:14:35.272Z"
   },
   {
    "duration": 15,
    "start_time": "2022-02-15T06:14:36.418Z"
   },
   {
    "duration": 7,
    "start_time": "2022-02-15T06:14:38.794Z"
   },
   {
    "duration": 11,
    "start_time": "2022-02-15T06:16:06.545Z"
   },
   {
    "duration": 4,
    "start_time": "2022-02-15T06:16:08.492Z"
   },
   {
    "duration": 4,
    "start_time": "2022-02-15T06:16:12.033Z"
   },
   {
    "duration": 5,
    "start_time": "2022-02-15T06:16:14.785Z"
   }
  ],
  "kernelspec": {
   "display_name": "Python 3 (ipykernel)",
   "language": "python",
   "name": "python3"
  },
  "language_info": {
   "codemirror_mode": {
    "name": "ipython",
    "version": 3
   },
   "file_extension": ".py",
   "mimetype": "text/x-python",
   "name": "python",
   "nbconvert_exporter": "python",
   "pygments_lexer": "ipython3",
   "version": "3.9.7"
  },
  "toc": {
   "base_numbering": 1,
   "nav_menu": {},
   "number_sections": true,
   "sideBar": true,
   "skip_h1_title": true,
   "title_cell": "Содержание",
   "title_sidebar": "Содержание",
   "toc_cell": true,
   "toc_position": {},
   "toc_section_display": true,
   "toc_window_display": true
  }
 },
 "nbformat": 4,
 "nbformat_minor": 5
}
